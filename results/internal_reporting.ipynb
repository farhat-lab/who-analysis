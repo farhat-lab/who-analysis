{
 "cells": [
  {
   "cell_type": "code",
   "execution_count": 1,
   "id": "933a1d79-0c6e-4767-a827-e11883b55a32",
   "metadata": {},
   "outputs": [],
   "source": [
    "import numpy as np\n",
    "import pandas as pd\n",
    "import matplotlib.pyplot as plt\n",
    "from matplotlib.patches import ConnectionPatch\n",
    "plt.rcParams['figure.dpi'] = 150\n",
    "import seaborn as sns\n",
    "from Bio import SeqIO, Seq\n",
    "\n",
    "import glob, os, yaml, subprocess, itertools, sparse, sys\n",
    "from sklearn.model_selection import train_test_split, KFold, GridSearchCV\n",
    "from sklearn.preprocessing import StandardScaler\n",
    "from sklearn.linear_model import LogisticRegression, LogisticRegressionCV\n",
    "# from statsmodels.distributions.empirical_distribution import ECDF\n",
    "import sklearn.metrics\n",
    "from sklearn.decomposition import PCA\n",
    "import timeit\n",
    "import scipy.stats as st\n",
    "import pickle, yaml, tracemalloc\n",
    "from scipy.stats import binomtest\n",
    "\n",
    "drugs_loci = pd.read_csv(\"../data/drugs_loci.csv\")\n",
    "eigenvec_df = pd.read_csv(\"../data/eigenvec_10PC.csv\").set_index(\"sample_id\")\n",
    "pca_explained_var = np.load(\"../data/pca_explained_var.npy\")\n",
    "who_variants_combined = pd.read_csv(\"../analysis/who_confidence_2021.csv\")\n",
    "\n",
    "sample_ids_mapping = pd.read_csv(\"../data/sample_ids_mapping.csv\")\n",
    "samples_summary = pd.read_csv(\"../data/samples_summary.csv\")\n",
    "drug_CC = pd.read_csv(\"../data/drug_CC.csv\")\n",
    "analysis_dir = '/n/data1/hms/dbmi/farhat/Sanjana/who-mutation-catalogue'\n",
    "input_data_dir = '/n/data1/hms/dbmi/farhat/ye12/who'\n",
    "who_variants_combined = pd.read_csv(\"../analysis/who_confidence_2021.csv\")\n",
    "\n",
    "sys.path.append(os.path.join(os.path.dirname(os.getcwd()), \"analysis\"))\n",
    "from stats_utils import *\n",
    "\n",
    "lineages = pd.read_csv(\"../data/lineages.csv\", low_memory=False)\n",
    "keep_lineages = lineages.merge(eigenvec_df, left_on=\"Sample_ID\", right_index=True)"
   ]
  },
  {
   "cell_type": "code",
   "execution_count": 2,
   "id": "cf5eae99-a476-4122-ab38-846da8c4e033",
   "metadata": {},
   "outputs": [
    {
     "data": {
      "text/html": [
       "<div>\n",
       "<style scoped>\n",
       "    .dataframe tbody tr th:only-of-type {\n",
       "        vertical-align: middle;\n",
       "    }\n",
       "\n",
       "    .dataframe tbody tr th {\n",
       "        vertical-align: top;\n",
       "    }\n",
       "\n",
       "    .dataframe thead th {\n",
       "        text-align: right;\n",
       "    }\n",
       "</style>\n",
       "<table border=\"1\" class=\"dataframe\">\n",
       "  <thead>\n",
       "    <tr style=\"text-align: right;\">\n",
       "      <th></th>\n",
       "      <th>Drug</th>\n",
       "      <th>Genos</th>\n",
       "      <th>Binary_Phenos</th>\n",
       "      <th>SNP_Matrix</th>\n",
       "      <th>MICs</th>\n",
       "      <th>Lineages</th>\n",
       "      <th>Tier1_LOF</th>\n",
       "      <th>Tier1_Inframe</th>\n",
       "      <th>Tier2_LOF</th>\n",
       "      <th>Tier2_Inframe</th>\n",
       "    </tr>\n",
       "  </thead>\n",
       "  <tbody>\n",
       "    <tr>\n",
       "      <th>7</th>\n",
       "      <td>Isoniazid</td>\n",
       "      <td>48706</td>\n",
       "      <td>48706</td>\n",
       "      <td>48706</td>\n",
       "      <td>12827</td>\n",
       "      <td>48076</td>\n",
       "      <td>291</td>\n",
       "      <td>36</td>\n",
       "      <td>15432.0</td>\n",
       "      <td>102.0</td>\n",
       "    </tr>\n",
       "    <tr>\n",
       "      <th>14</th>\n",
       "      <td>Rifampicin</td>\n",
       "      <td>47730</td>\n",
       "      <td>47730</td>\n",
       "      <td>47730</td>\n",
       "      <td>12876</td>\n",
       "      <td>47044</td>\n",
       "      <td>0</td>\n",
       "      <td>181</td>\n",
       "      <td>1122.0</td>\n",
       "      <td>116.0</td>\n",
       "    </tr>\n",
       "    <tr>\n",
       "      <th>5</th>\n",
       "      <td>Ethambutol</td>\n",
       "      <td>45515</td>\n",
       "      <td>45515</td>\n",
       "      <td>45515</td>\n",
       "      <td>12916</td>\n",
       "      <td>44827</td>\n",
       "      <td>1</td>\n",
       "      <td>49</td>\n",
       "      <td>1195.0</td>\n",
       "      <td>111.0</td>\n",
       "    </tr>\n",
       "    <tr>\n",
       "      <th>9</th>\n",
       "      <td>Levofloxacin</td>\n",
       "      <td>27576</td>\n",
       "      <td>27576</td>\n",
       "      <td>27576</td>\n",
       "      <td>11447</td>\n",
       "      <td>26909</td>\n",
       "      <td>1</td>\n",
       "      <td>25</td>\n",
       "      <td>700.0</td>\n",
       "      <td>49.0</td>\n",
       "    </tr>\n",
       "    <tr>\n",
       "      <th>15</th>\n",
       "      <td>Streptomycin</td>\n",
       "      <td>26166</td>\n",
       "      <td>26166</td>\n",
       "      <td>26166</td>\n",
       "      <td>1486</td>\n",
       "      <td>25793</td>\n",
       "      <td>10474</td>\n",
       "      <td>64</td>\n",
       "      <td>381.0</td>\n",
       "      <td>29.0</td>\n",
       "    </tr>\n",
       "    <tr>\n",
       "      <th>0</th>\n",
       "      <td>Amikacin</td>\n",
       "      <td>24710</td>\n",
       "      <td>24710</td>\n",
       "      <td>24710</td>\n",
       "      <td>12641</td>\n",
       "      <td>24024</td>\n",
       "      <td>426</td>\n",
       "      <td>24</td>\n",
       "      <td>431.0</td>\n",
       "      <td>9.0</td>\n",
       "    </tr>\n",
       "    <tr>\n",
       "      <th>8</th>\n",
       "      <td>Kanamycin</td>\n",
       "      <td>24582</td>\n",
       "      <td>24582</td>\n",
       "      <td>24582</td>\n",
       "      <td>12753</td>\n",
       "      <td>23916</td>\n",
       "      <td>400</td>\n",
       "      <td>42</td>\n",
       "      <td>483.0</td>\n",
       "      <td>11.0</td>\n",
       "    </tr>\n",
       "    <tr>\n",
       "      <th>11</th>\n",
       "      <td>Moxifloxacin</td>\n",
       "      <td>22783</td>\n",
       "      <td>22783</td>\n",
       "      <td>22783</td>\n",
       "      <td>12753</td>\n",
       "      <td>22116</td>\n",
       "      <td>0</td>\n",
       "      <td>14</td>\n",
       "      <td>623.0</td>\n",
       "      <td>39.0</td>\n",
       "    </tr>\n",
       "    <tr>\n",
       "      <th>13</th>\n",
       "      <td>Pyrazinamide</td>\n",
       "      <td>21319</td>\n",
       "      <td>21319</td>\n",
       "      <td>21319</td>\n",
       "      <td>1146</td>\n",
       "      <td>20938</td>\n",
       "      <td>638</td>\n",
       "      <td>70</td>\n",
       "      <td>5432.0</td>\n",
       "      <td>88.0</td>\n",
       "    </tr>\n",
       "    <tr>\n",
       "      <th>6</th>\n",
       "      <td>Ethionamide</td>\n",
       "      <td>20936</td>\n",
       "      <td>20936</td>\n",
       "      <td>20936</td>\n",
       "      <td>12690</td>\n",
       "      <td>20626</td>\n",
       "      <td>2270</td>\n",
       "      <td>146</td>\n",
       "      <td>675.0</td>\n",
       "      <td>30.0</td>\n",
       "    </tr>\n",
       "    <tr>\n",
       "      <th>10</th>\n",
       "      <td>Linezolid</td>\n",
       "      <td>18010</td>\n",
       "      <td>18010</td>\n",
       "      <td>18010</td>\n",
       "      <td>12626</td>\n",
       "      <td>17062</td>\n",
       "      <td>0</td>\n",
       "      <td>1</td>\n",
       "      <td>22.0</td>\n",
       "      <td>0.0</td>\n",
       "    </tr>\n",
       "    <tr>\n",
       "      <th>2</th>\n",
       "      <td>Capreomycin</td>\n",
       "      <td>17716</td>\n",
       "      <td>17716</td>\n",
       "      <td>17716</td>\n",
       "      <td>1181</td>\n",
       "      <td>17340</td>\n",
       "      <td>121</td>\n",
       "      <td>6</td>\n",
       "      <td>387.0</td>\n",
       "      <td>18.0</td>\n",
       "    </tr>\n",
       "    <tr>\n",
       "      <th>3</th>\n",
       "      <td>Clofazimine</td>\n",
       "      <td>14904</td>\n",
       "      <td>14904</td>\n",
       "      <td>14904</td>\n",
       "      <td>11408</td>\n",
       "      <td>14237</td>\n",
       "      <td>565</td>\n",
       "      <td>151</td>\n",
       "      <td>15.0</td>\n",
       "      <td>3.0</td>\n",
       "    </tr>\n",
       "    <tr>\n",
       "      <th>1</th>\n",
       "      <td>Bedaquiline</td>\n",
       "      <td>14135</td>\n",
       "      <td>14135</td>\n",
       "      <td>14135</td>\n",
       "      <td>12661</td>\n",
       "      <td>12817</td>\n",
       "      <td>800</td>\n",
       "      <td>18</td>\n",
       "      <td>72.0</td>\n",
       "      <td>127.0</td>\n",
       "    </tr>\n",
       "    <tr>\n",
       "      <th>4</th>\n",
       "      <td>Delamanid</td>\n",
       "      <td>11803</td>\n",
       "      <td>11803</td>\n",
       "      <td>11803</td>\n",
       "      <td>11353</td>\n",
       "      <td>11491</td>\n",
       "      <td>38</td>\n",
       "      <td>8</td>\n",
       "      <td>44.0</td>\n",
       "      <td>1.0</td>\n",
       "    </tr>\n",
       "    <tr>\n",
       "      <th>12</th>\n",
       "      <td>Pretomanid</td>\n",
       "      <td>696</td>\n",
       "      <td>696</td>\n",
       "      <td>696</td>\n",
       "      <td>704</td>\n",
       "      <td>696</td>\n",
       "      <td>7</td>\n",
       "      <td>0</td>\n",
       "      <td>NaN</td>\n",
       "      <td>NaN</td>\n",
       "    </tr>\n",
       "  </tbody>\n",
       "</table>\n",
       "</div>"
      ],
      "text/plain": [
       "            Drug  Genos  Binary_Phenos  SNP_Matrix   MICs  Lineages  \\\n",
       "7      Isoniazid  48706          48706       48706  12827     48076   \n",
       "14    Rifampicin  47730          47730       47730  12876     47044   \n",
       "5     Ethambutol  45515          45515       45515  12916     44827   \n",
       "9   Levofloxacin  27576          27576       27576  11447     26909   \n",
       "15  Streptomycin  26166          26166       26166   1486     25793   \n",
       "0       Amikacin  24710          24710       24710  12641     24024   \n",
       "8      Kanamycin  24582          24582       24582  12753     23916   \n",
       "11  Moxifloxacin  22783          22783       22783  12753     22116   \n",
       "13  Pyrazinamide  21319          21319       21319   1146     20938   \n",
       "6    Ethionamide  20936          20936       20936  12690     20626   \n",
       "10     Linezolid  18010          18010       18010  12626     17062   \n",
       "2    Capreomycin  17716          17716       17716   1181     17340   \n",
       "3    Clofazimine  14904          14904       14904  11408     14237   \n",
       "1    Bedaquiline  14135          14135       14135  12661     12817   \n",
       "4      Delamanid  11803          11803       11803  11353     11491   \n",
       "12    Pretomanid    696            696         696    704       696   \n",
       "\n",
       "    Tier1_LOF  Tier1_Inframe  Tier2_LOF  Tier2_Inframe  \n",
       "7         291             36    15432.0          102.0  \n",
       "14          0            181     1122.0          116.0  \n",
       "5           1             49     1195.0          111.0  \n",
       "9           1             25      700.0           49.0  \n",
       "15      10474             64      381.0           29.0  \n",
       "0         426             24      431.0            9.0  \n",
       "8         400             42      483.0           11.0  \n",
       "11          0             14      623.0           39.0  \n",
       "13        638             70     5432.0           88.0  \n",
       "6        2270            146      675.0           30.0  \n",
       "10          0              1       22.0            0.0  \n",
       "2         121              6      387.0           18.0  \n",
       "3         565            151       15.0            3.0  \n",
       "1         800             18       72.0          127.0  \n",
       "4          38              8       44.0            1.0  \n",
       "12          7              0        NaN            NaN  "
      ]
     },
     "execution_count": 2,
     "metadata": {},
     "output_type": "execute_result"
    }
   ],
   "source": [
    "samples_summary.sort_values(\"Genos\", ascending=False)"
   ]
  },
  {
   "cell_type": "code",
   "execution_count": 3,
   "id": "73c5a97f-5063-4fea-abef-e7bfdefd3e89",
   "metadata": {},
   "outputs": [
    {
     "data": {
      "text/html": [
       "<div>\n",
       "<style scoped>\n",
       "    .dataframe tbody tr th:only-of-type {\n",
       "        vertical-align: middle;\n",
       "    }\n",
       "\n",
       "    .dataframe tbody tr th {\n",
       "        vertical-align: top;\n",
       "    }\n",
       "\n",
       "    .dataframe thead th {\n",
       "        text-align: right;\n",
       "    }\n",
       "</style>\n",
       "<table border=\"1\" class=\"dataframe\">\n",
       "  <thead>\n",
       "    <tr style=\"text-align: right;\">\n",
       "      <th></th>\n",
       "      <th>Gene Name</th>\n",
       "      <th>Drugs</th>\n",
       "      <th>Start</th>\n",
       "      <th>End</th>\n",
       "      <th>New?</th>\n",
       "      <th>Notes</th>\n",
       "    </tr>\n",
       "  </thead>\n",
       "  <tbody>\n",
       "    <tr>\n",
       "      <th>0</th>\n",
       "      <td>gyrBA</td>\n",
       "      <td>LEVO, MOXI, OFX, CIP, GATI</td>\n",
       "      <td>4997</td>\n",
       "      <td>9818</td>\n",
       "      <td>N</td>\n",
       "      <td>NaN</td>\n",
       "    </tr>\n",
       "    <tr>\n",
       "      <th>1</th>\n",
       "      <td>eis</td>\n",
       "      <td>KAN, AMI</td>\n",
       "      <td>2713783</td>\n",
       "      <td>2716314</td>\n",
       "      <td>N</td>\n",
       "      <td>NaN</td>\n",
       "    </tr>\n",
       "    <tr>\n",
       "      <th>2</th>\n",
       "      <td>pncA</td>\n",
       "      <td>PZA</td>\n",
       "      <td>2287883</td>\n",
       "      <td>2289599</td>\n",
       "      <td>N</td>\n",
       "      <td>NaN</td>\n",
       "    </tr>\n",
       "    <tr>\n",
       "      <th>3</th>\n",
       "      <td>panD</td>\n",
       "      <td>PZA</td>\n",
       "      <td>4043041</td>\n",
       "      <td>4045210</td>\n",
       "      <td>Y</td>\n",
       "      <td>NaN</td>\n",
       "    </tr>\n",
       "    <tr>\n",
       "      <th>4</th>\n",
       "      <td>oxyR-ahpC</td>\n",
       "      <td>INH</td>\n",
       "      <td>2725477</td>\n",
       "      <td>2726780</td>\n",
       "      <td>N</td>\n",
       "      <td>NaN</td>\n",
       "    </tr>\n",
       "    <tr>\n",
       "      <th>5</th>\n",
       "      <td>rrs-rrl</td>\n",
       "      <td>AMI, KAN, STR, CAP</td>\n",
       "      <td>1471576</td>\n",
       "      <td>1477013</td>\n",
       "      <td>N</td>\n",
       "      <td>NaN</td>\n",
       "    </tr>\n",
       "    <tr>\n",
       "      <th>6</th>\n",
       "      <td>tlyA</td>\n",
       "      <td>CAP</td>\n",
       "      <td>1917755</td>\n",
       "      <td>1918746</td>\n",
       "      <td>N</td>\n",
       "      <td>NaN</td>\n",
       "    </tr>\n",
       "    <tr>\n",
       "      <th>7</th>\n",
       "      <td>rpsA</td>\n",
       "      <td>PZA</td>\n",
       "      <td>1833378</td>\n",
       "      <td>1834987</td>\n",
       "      <td>N</td>\n",
       "      <td>NaN</td>\n",
       "    </tr>\n",
       "    <tr>\n",
       "      <th>8</th>\n",
       "      <td>acpM-kasA</td>\n",
       "      <td>INH</td>\n",
       "      <td>2517695</td>\n",
       "      <td>2519365</td>\n",
       "      <td>N</td>\n",
       "      <td>NaN</td>\n",
       "    </tr>\n",
       "    <tr>\n",
       "      <th>9</th>\n",
       "      <td>embCAB</td>\n",
       "      <td>EMB</td>\n",
       "      <td>4239663</td>\n",
       "      <td>4249810</td>\n",
       "      <td>Y</td>\n",
       "      <td>Changed start to be 200 bp upstream of embC</td>\n",
       "    </tr>\n",
       "    <tr>\n",
       "      <th>10</th>\n",
       "      <td>aftB-ubiA</td>\n",
       "      <td>EMB</td>\n",
       "      <td>4266953</td>\n",
       "      <td>4269833</td>\n",
       "      <td>Y</td>\n",
       "      <td>NaN</td>\n",
       "    </tr>\n",
       "    <tr>\n",
       "      <th>11</th>\n",
       "      <td>ethAR</td>\n",
       "      <td>ETA</td>\n",
       "      <td>4326004</td>\n",
       "      <td>4328199</td>\n",
       "      <td>N</td>\n",
       "      <td>NaN</td>\n",
       "    </tr>\n",
       "    <tr>\n",
       "      <th>12</th>\n",
       "      <td>rpoBC</td>\n",
       "      <td>RIF</td>\n",
       "      <td>759609</td>\n",
       "      <td>767320</td>\n",
       "      <td>N</td>\n",
       "      <td>NaN</td>\n",
       "    </tr>\n",
       "    <tr>\n",
       "      <th>13</th>\n",
       "      <td>KatG</td>\n",
       "      <td>INH</td>\n",
       "      <td>2153235</td>\n",
       "      <td>2156706</td>\n",
       "      <td>N</td>\n",
       "      <td>NaN</td>\n",
       "    </tr>\n",
       "    <tr>\n",
       "      <th>14</th>\n",
       "      <td>FabG1-inhA</td>\n",
       "      <td>INH, ETA</td>\n",
       "      <td>1672457</td>\n",
       "      <td>1675011</td>\n",
       "      <td>N</td>\n",
       "      <td>NaN</td>\n",
       "    </tr>\n",
       "    <tr>\n",
       "      <th>15</th>\n",
       "      <td>rpsL</td>\n",
       "      <td>STR</td>\n",
       "      <td>781311</td>\n",
       "      <td>781934</td>\n",
       "      <td>N</td>\n",
       "      <td>NaN</td>\n",
       "    </tr>\n",
       "    <tr>\n",
       "      <th>16</th>\n",
       "      <td>clpC</td>\n",
       "      <td>PZA</td>\n",
       "      <td>4036731</td>\n",
       "      <td>4040937</td>\n",
       "      <td>Y</td>\n",
       "      <td>NaN</td>\n",
       "    </tr>\n",
       "    <tr>\n",
       "      <th>17</th>\n",
       "      <td>gid</td>\n",
       "      <td>STR</td>\n",
       "      <td>4407528</td>\n",
       "      <td>4408334</td>\n",
       "      <td>N</td>\n",
       "      <td>NaN</td>\n",
       "    </tr>\n",
       "    <tr>\n",
       "      <th>18</th>\n",
       "      <td>thyA</td>\n",
       "      <td>PAS</td>\n",
       "      <td>3073609</td>\n",
       "      <td>3074635</td>\n",
       "      <td>Y</td>\n",
       "      <td>NaN</td>\n",
       "    </tr>\n",
       "  </tbody>\n",
       "</table>\n",
       "</div>"
      ],
      "text/plain": [
       "     Gene Name                       Drugs    Start      End New?   \\\n",
       "0        gyrBA  LEVO, MOXI, OFX, CIP, GATI     4997     9818     N   \n",
       "1          eis                    KAN, AMI  2713783  2716314     N   \n",
       "2         pncA                         PZA  2287883  2289599     N   \n",
       "3         panD                         PZA  4043041  4045210     Y   \n",
       "4    oxyR-ahpC                         INH  2725477  2726780     N   \n",
       "5      rrs-rrl          AMI, KAN, STR, CAP  1471576  1477013     N   \n",
       "6         tlyA                         CAP  1917755  1918746     N   \n",
       "7         rpsA                         PZA  1833378  1834987     N   \n",
       "8    acpM-kasA                         INH  2517695  2519365     N   \n",
       "9       embCAB                         EMB  4239663  4249810     Y   \n",
       "10   aftB-ubiA                         EMB  4266953  4269833     Y   \n",
       "11       ethAR                         ETA  4326004  4328199     N   \n",
       "12       rpoBC                         RIF   759609   767320     N   \n",
       "13        KatG                         INH  2153235  2156706     N   \n",
       "14  FabG1-inhA                    INH, ETA  1672457  1675011     N   \n",
       "15        rpsL                         STR   781311   781934     N   \n",
       "16        clpC                         PZA  4036731  4040937     Y   \n",
       "17         gid                         STR  4407528  4408334     N   \n",
       "18        thyA                         PAS  3073609  3074635     Y   \n",
       "\n",
       "                                          Notes  \n",
       "0                                           NaN  \n",
       "1                                           NaN  \n",
       "2                                           NaN  \n",
       "3                                           NaN  \n",
       "4                                           NaN  \n",
       "5                                           NaN  \n",
       "6                                           NaN  \n",
       "7                                           NaN  \n",
       "8                                           NaN  \n",
       "9   Changed start to be 200 bp upstream of embC  \n",
       "10                                          NaN  \n",
       "11                                          NaN  \n",
       "12                                          NaN  \n",
       "13                                          NaN  \n",
       "14                                          NaN  \n",
       "15                                          NaN  \n",
       "16                                          NaN  \n",
       "17                                          NaN  \n",
       "18                                          NaN  "
      ]
     },
     "execution_count": 3,
     "metadata": {},
     "output_type": "execute_result"
    }
   ],
   "source": [
    "drugs_loci"
   ]
  },
  {
   "cell_type": "markdown",
   "id": "55bafd28-9344-4e32-ae03-8ee4b653c192",
   "metadata": {},
   "source": [
    "# Make Pie Chart of Lineages\n",
    "\n",
    "## Manually add other stuff to the pie chart, like lineage name and percentage on the chart itself"
   ]
  },
  {
   "cell_type": "code",
   "execution_count": 4,
   "id": "e3c61424-6ea9-49ea-8671-e891a309ee9e",
   "metadata": {},
   "outputs": [],
   "source": [
    "lineage_summary = pd.DataFrame(keep_lineages[\"Primary_Lineage\"].value_counts())\n",
    "\n",
    "other_cols = [\"5\", \"6\", \"7\", \"BOV_AFRI\", \"BOV\", \"canetti\"]\n",
    "lineage_summary.loc[\"5,6,7,Other\", [\"Primary_Lineage\"]] = [lineage_summary.loc[other_cols].Primary_Lineage.sum()]\n",
    "\n",
    "lineage_summary = lineage_summary.reset_index().rename(columns={\"index\":\"Lineage\", \"Primary_Lineage\": \"Count\"})\n",
    "lineage_summary = lineage_summary.sort_values(\"Lineage\", ascending=True)\n",
    "lineage_summary = lineage_summary.query(\"Lineage not in @other_cols\")\n",
    "\n",
    "lineage_summary[\"Count\"] = lineage_summary[\"Count\"].astype(int)"
   ]
  },
  {
   "cell_type": "code",
   "execution_count": 5,
   "id": "8e507bc8-7567-4e0d-a412-9123e86ba31e",
   "metadata": {},
   "outputs": [
    {
     "data": {
      "text/plain": [
       "51228"
      ]
     },
     "execution_count": 5,
     "metadata": {},
     "output_type": "execute_result"
    }
   ],
   "source": [
    "lineage_summary.Count.sum()"
   ]
  },
  {
   "cell_type": "code",
   "execution_count": 6,
   "id": "4ead77a3-074f-459c-9e0c-55e26c90d010",
   "metadata": {},
   "outputs": [
    {
     "data": {
      "text/plain": [
       "<matplotlib.legend.Legend at 0x7fb62b14d1c0>"
      ]
     },
     "execution_count": 34,
     "metadata": {},
     "output_type": "execute_result"
    },
    {
     "data": {
      "image/png": "[encoded data removed]",
      "text/plain": [
       "<Figure size 960x720 with 1 Axes>"
      ]
     },
     "metadata": {},
     "output_type": "display_data"
    }
   ],
   "source": [
    "# Pie chart, where the slices will be ordered and plotted counter-clockwise:\n",
    "labels = lineage_summary[\"Lineage\"]\n",
    "sizes = lineage_summary[\"Count\"]\n",
    "#explode = (0, 0.1, 0, 0)  # only \"explode\" the 2nd slice (i.e. 'Hogs')\n",
    "\n",
    "fig, ax = plt.subplots()\n",
    "# ax.pie(sizes, #explode=explode, \n",
    "#        labels=labels, autopct='%1.0f%%', startangle=90)\n",
    "# ax.axis('equal')  # Equal aspect ratio ensures that pie is drawn as a circle.\n",
    "\n",
    "LinToColor_Dict = {\"1\": \"#f381b2\",\n",
    "                   \"2\": \"#006dbb\",\n",
    "                   \"3\": \"#9f5eab\",\n",
    "                   \"4\": \"#f6472b\",\n",
    "                   # \"5\": \"#76400e\",\n",
    "                   # \"6\": \"#36ba74\",\n",
    "                   # \"7\": \"#ffb000\",\n",
    "                   \"5,6,7,Other\": \"black\",\n",
    "                  }\n",
    "\n",
    "colors = [LinToColor_Dict[lineage] for lineage in lineage_summary[\"Lineage\"].values]\n",
    "\n",
    "wedge_sizes = 100.*sizes/sizes.sum()\n",
    "patches, texts = plt.pie(sizes, colors=colors, startangle=90, radius=1.2)\n",
    "labels = ['{0}: {1:1.2f} %'.format(i,j) for i,j in zip(labels, wedge_sizes)]\n",
    "\n",
    "sort_legend = False\n",
    "if sort_legend:\n",
    "    patches, labels, dummy =  zip(*sorted(zip(patches, labels, sizes),\n",
    "                                          key=lambda x: x[2],\n",
    "                                          reverse=True))\n",
    "\n",
    "plt.tight_layout()\n",
    "plt.legend(patches, labels, bbox_to_anchor=(0, 1.), fontsize=8)\n",
    "plt.savefig(\"Figures/lineage_pie.png\", dpi=300)"
   ]
  },
  {
   "cell_type": "markdown",
   "id": "79c75c10-d7b4-428e-9aca-88934157850e",
   "metadata": {},
   "source": [
    "# Exploded Pie Chart for Sublineages of L2 and L4 (Focus on L2.2.1 later on)\n",
    "\n",
    "https://matplotlib.org/stable/gallery/pie_and_polar_charts/bar_of_pie.html"
   ]
  },
  {
   "cell_type": "code",
   "execution_count": 7,
   "id": "990971b2-711d-4c4f-bc2c-b2bd74b535d3",
   "metadata": {},
   "outputs": [
    {
     "data": {
      "text/html": [
       "<div>\n",
       "<style scoped>\n",
       "    .dataframe tbody tr th:only-of-type {\n",
       "        vertical-align: middle;\n",
       "    }\n",
       "\n",
       "    .dataframe tbody tr th {\n",
       "        vertical-align: top;\n",
       "    }\n",
       "\n",
       "    .dataframe thead th {\n",
       "        text-align: right;\n",
       "    }\n",
       "</style>\n",
       "<table border=\"1\" class=\"dataframe\">\n",
       "  <thead>\n",
       "    <tr style=\"text-align: right;\">\n",
       "      <th></th>\n",
       "      <th>Lineage</th>\n",
       "      <th>Count</th>\n",
       "    </tr>\n",
       "  </thead>\n",
       "  <tbody>\n",
       "    <tr>\n",
       "      <th>7</th>\n",
       "      <td>2,2.1,2.2</td>\n",
       "      <td>145.0</td>\n",
       "    </tr>\n",
       "    <tr>\n",
       "      <th>0</th>\n",
       "      <td>2.2.1</td>\n",
       "      <td>15303.0</td>\n",
       "    </tr>\n",
       "    <tr>\n",
       "      <th>2</th>\n",
       "      <td>2.2.2</td>\n",
       "      <td>805.0</td>\n",
       "    </tr>\n",
       "  </tbody>\n",
       "</table>\n",
       "</div>"
      ],
      "text/plain": [
       "     Lineage    Count\n",
       "7  2,2.1,2.2    145.0\n",
       "0      2.2.1  15303.0\n",
       "2      2.2.2    805.0"
      ]
     },
     "execution_count": 7,
     "metadata": {},
     "output_type": "execute_result"
    }
   ],
   "source": [
    "L2_summary = pd.DataFrame(keep_lineages.query(\"Primary_Lineage=='2'\")[\"Lineage_1\"].value_counts())\n",
    "\n",
    "other_cols = [\"2\", \"2.1\", \"2.2\"]\n",
    "L2_summary.loc[\"2,2.1,2.2\", [\"Lineage_1\"]] = [L2_summary.loc[other_cols].Lineage_1.sum()]\n",
    "L2_summary.loc[\"2.2.1\", [\"Lineage_1\"]] = [L2_summary.loc[[\"2.2.1\", \"2.2.1.1\", \"2.2.1.2\"]].Lineage_1.sum()]\n",
    "\n",
    "L2_summary = L2_summary.reset_index().rename(columns={\"index\": \"Lineage\", \"Lineage_1\": \"Count\"}).query(\"Lineage not in @other_cols\")\n",
    "L2_summary = L2_summary.query(\"Lineage not in ['2.2.1.1', '2.2.1.2']\")\n",
    "\n",
    "L2_summary = L2_summary.sort_values(\"Lineage\", ascending=True)\n",
    "L2_summary"
   ]
  },
  {
   "cell_type": "code",
   "execution_count": 10,
   "id": "b57d6b3a-d782-4aff-aaf2-e684159f8574",
   "metadata": {},
   "outputs": [
    {
     "data": {
      "image/png": "[encoded data removed]",
      "text/plain": [
       "<Figure size 1350x750 with 2 Axes>"
      ]
     },
     "metadata": {},
     "output_type": "display_data"
    }
   ],
   "source": [
    "wedge_idx = 1\n",
    "\n",
    "# make figure and assign axis objects\n",
    "fig, (ax1, ax2) = plt.subplots(1, 2, figsize=(9, 5))\n",
    "fig.subplots_adjust(wspace=0)\n",
    "\n",
    "# pie chart parameters\n",
    "overall_ratios = wedge_sizes.values\n",
    "labels = lineage_summary[\"Lineage\"]\n",
    "explode = np.zeros(len(labels))\n",
    "explode[wedge_idx] = 0.1\n",
    "\n",
    "# rotate so that first wedge is split by the x-axis\n",
    "angle = -180 * overall_ratios[wedge_idx]\n",
    "wedges, *_ = ax1.pie(overall_ratios, colors=colors, startangle=270, radius=1.1,\n",
    "                     labels=labels, explode=explode)\n",
    "\n",
    "# bar chart parameters\n",
    "age_ratios = L2_summary[\"Count\"].values/L2_summary[\"Count\"].sum() #[.33, .54, .07, .06]\n",
    "age_labels = L2_summary[\"Lineage\"].values\n",
    "bottom = 1\n",
    "width = .2\n",
    "\n",
    "# Adding from the top matches the legend.\n",
    "for j, (height, label) in enumerate([*zip(age_ratios, age_labels)]):\n",
    "    bottom -= height\n",
    "    bc = ax2.bar(0, height, width, bottom=bottom, color='C0', label=label,\n",
    "                 alpha=0.1 + (1/len(age_ratios)) * j\n",
    "                )\n",
    "    ax2.bar_label(bc, labels=[f\"{height:.0%}\"], label_type='center')\n",
    "\n",
    "ax2.set_title('Lineage 2')\n",
    "ax2.legend()\n",
    "ax2.axis('off')\n",
    "ax2.set_xlim(- 2.5 * width, 2.5 * width)\n",
    "\n",
    "# use ConnectionPatch to draw lines between the two plots\n",
    "theta1, theta2 = wedges[wedge_idx].theta1, wedges[wedge_idx].theta2\n",
    "center, r = wedges[wedge_idx].center, wedges[wedge_idx].r\n",
    "bar_height = sum(age_ratios)\n",
    "\n",
    "# draw top connecting line\n",
    "x = r * np.cos(np.pi / 180 * theta2) + center[0]\n",
    "y = r * np.sin(np.pi / 180 * theta2) + center[1]\n",
    "con = ConnectionPatch(xyA=(-width / 2, bar_height), coordsA=ax2.transData,\n",
    "                      xyB=(x, y), coordsB=ax1.transData)\n",
    "con.set_color([0, 0, 0])\n",
    "con.set_linewidth(2)\n",
    "ax2.add_artist(con)\n",
    "\n",
    "# draw bottom connecting line\n",
    "x = r * np.cos(np.pi / 180 * theta1) + center[0]\n",
    "y = r * np.sin(np.pi / 180 * theta1) + center[1]\n",
    "con = ConnectionPatch(xyA=(-width / 2, 0), coordsA=ax2.transData,\n",
    "                      xyB=(x, y), coordsB=ax1.transData)\n",
    "con.set_color([0, 0, 0])\n",
    "ax2.add_artist(con)\n",
    "con.set_linewidth(2)\n",
    "\n",
    "plt.savefig(\"Figures/L2_breakdown.png\", dpi=300)"
   ]
  },
  {
   "cell_type": "markdown",
   "id": "184ec914-26a4-46e3-af6c-af0c7f6625c3",
   "metadata": {},
   "source": [
    "# Distribution of Resistance Across Drugs"
   ]
  },
  {
   "cell_type": "code",
   "execution_count": 11,
   "id": "feb0a83c-aa20-4f7b-be55-2305e441f925",
   "metadata": {},
   "outputs": [],
   "source": [
    "df_resistance = pd.DataFrame(columns=[\"Drug\", \"Resistant\", \"Susceptible\"])\n",
    "\n",
    "for i, drug in enumerate(os.listdir(analysis_dir)):\n",
    "    \n",
    "    df_phenos = pd.read_csv(os.path.join(analysis_dir, drug, \"phenos_binary.csv\"))\n",
    "    df_resistance.loc[i, :] = [drug, len(df_phenos.query(\"phenotype==1\")), len(df_phenos.query(\"phenotype==0\"))]\n",
    "    \n",
    "df_resistance[\"Total\"] = df_resistance[\"Resistant\"] + df_resistance[\"Susceptible\"]\n",
    "df_resistance = df_resistance.sort_values(\"Total\", ascending=False)\n",
    "\n",
    "df_resistance[\"R_prop\"] = df_resistance[\"Resistant\"] / df_resistance[\"Total\"]\n",
    "df_resistance[\"S_prop\"] = df_resistance[\"Susceptible\"] / df_resistance[\"Total\"]"
   ]
  },
  {
   "cell_type": "code",
   "execution_count": 12,
   "id": "d3697bee-5739-4437-a08a-167e659205f1",
   "metadata": {},
   "outputs": [
    {
     "data": {
      "image/png": "[encoded data removed]",
      "text/plain": [
       "<Figure size 1800x600 with 1 Axes>"
      ]
     },
     "metadata": {},
     "output_type": "display_data"
    }
   ],
   "source": [
    "fig, ax = plt.subplots(figsize=(12, 4))\n",
    "sns.barplot(data=df_resistance, x=\"Drug\", y=\"R_prop\", color='#1f77b4', ax=ax)\n",
    "ax.bar_label(ax.containers[0], fmt='%.2f')\n",
    "\n",
    "plt.xticks(rotation=60)\n",
    "plt.xlabel(\"\")\n",
    "plt.ylabel(\"\")\n",
    "plt.title(\"Proportions of Resistant Samples\")\n",
    "sns.despine()\n",
    "plt.ylim(0, 0.5)\n",
    "plt.tight_layout()\n",
    "plt.savefig(\"Figures/resistance_summary.png\", dpi=300)"
   ]
  },
  {
   "cell_type": "code",
   "execution_count": 13,
   "id": "0082d32c-0c37-4812-97df-4bee71375b79",
   "metadata": {},
   "outputs": [],
   "source": [
    "#df_resistance.set_index('Drug')[[\"R_prop\", \"S_prop\"]].plot(kind='bar', stacked=True, color=['steelblue', 'red'])"
   ]
  },
  {
   "cell_type": "markdown",
   "id": "c77b4865-12f7-4332-bcdf-d85b7606b270",
   "metadata": {},
   "source": [
    "# MDR- and XDR-TB Metrics\n",
    "\n",
    "2021 Updates to pre-XDR and XDR definitions: https://www.who.int/news/item/27-01-2021-who-announces-updated-definitions-of-extensively-drug-resistant-tuberculosis\n",
    "\n",
    "<ul>\n",
    "    <li>MDR: RIF and INH</li>\n",
    "    <li>pre-XDR: MDR + any fluoroquinolone</li>\n",
    "    <li>XDR: MDR + any fluoroquinolone + Group A drug (levofloxacin, moxifloxacin, bedaquiline and linezolid)</li>\n",
    "</ul>\n",
    "\n",
    "\n",
    "Group A drugs are the most potent group of drugs in the ranking of second-line medicines for the treatment of drug-resistant forms of TB using longer treatment regimens."
   ]
  },
  {
   "cell_type": "code",
   "execution_count": 14,
   "id": "03c59d0a-1880-4eb8-b7e3-c0a2d1be96b3",
   "metadata": {},
   "outputs": [
    {
     "name": "stdout",
     "output_type": "stream",
     "text": [
      "52567 samples passed QC\n"
     ]
    },
    {
     "name": "stderr",
     "output_type": "stream",
     "text": [
      "/home/sak0914/anaconda3/lib/python3.9/site-packages/pandas/core/algorithms.py:798: FutureWarning: In a future version, the Index constructor will not infer numeric dtypes when passed object-dtype sequences (matching Series behavior)\n",
      "  uniques = Index(uniques)\n"
     ]
    }
   ],
   "source": [
    "combined_phenos = pd.DataFrame(columns=[\"Drug\", \"sample_id\", \"phenotype\"])\n",
    "\n",
    "for drug in os.listdir(analysis_dir):\n",
    "    \n",
    "    df_phenos = pd.read_csv(os.path.join(analysis_dir, drug, \"phenos_binary.csv\"))\n",
    "    df_phenos[\"Drug\"] = drug\n",
    "    combined_phenos = pd.concat([combined_phenos, df_phenos[[\"Drug\", \"sample_id\", \"phenotype\"]]], axis=0)\n",
    "    \n",
    "combined_phenos = combined_phenos.pivot(index=\"sample_id\", columns=\"Drug\", values=\"phenotype\")\n",
    "print(f\"{len(combined_phenos)} samples passed QC\")"
   ]
  },
  {
   "cell_type": "code",
   "execution_count": 15,
   "id": "3719d48b-0782-4241-9c72-9cfd06c0e845",
   "metadata": {},
   "outputs": [
    {
     "data": {
      "text/plain": [
       "15709"
      ]
     },
     "execution_count": 15,
     "metadata": {},
     "output_type": "execute_result"
    }
   ],
   "source": [
    "MDR = combined_phenos.query(\"Rifampicin==1 & Isoniazid==1\").index.values\n",
    "len(MDR)"
   ]
  },
  {
   "cell_type": "code",
   "execution_count": 16,
   "id": "a1dea03f-5cb1-4873-b58a-69b1ce1248b4",
   "metadata": {},
   "outputs": [],
   "source": [
    "total = len(combined_phenos.loc[(~pd.isnull(combined_phenos[\"Rifampicin\"])) & (~pd.isnull(combined_phenos[\"Isoniazid\"]))])"
   ]
  },
  {
   "cell_type": "code",
   "execution_count": 17,
   "id": "ae13262a-9bf6-4892-a3cc-80a580f26433",
   "metadata": {},
   "outputs": [
    {
     "data": {
      "text/plain": [
       "0.35893560404470465"
      ]
     },
     "execution_count": 17,
     "metadata": {},
     "output_type": "execute_result"
    }
   ],
   "source": [
    "RIF_R = len(combined_phenos.loc[(~pd.isnull(combined_phenos[\"Rifampicin\"])) & (combined_phenos[\"Rifampicin\"]==1)])\n",
    "RIF_R / total"
   ]
  },
  {
   "cell_type": "code",
   "execution_count": 18,
   "id": "3fef3eea-10b8-4634-90df-062b085d050c",
   "metadata": {},
   "outputs": [
    {
     "data": {
      "text/plain": [
       "0.4460031931878659"
      ]
     },
     "execution_count": 18,
     "metadata": {},
     "output_type": "execute_result"
    }
   ],
   "source": [
    "INH_R = len(combined_phenos.loc[(~pd.isnull(combined_phenos[\"Isoniazid\"])) & (combined_phenos[\"Isoniazid\"]==1)])\n",
    "INH_R / total"
   ]
  },
  {
   "cell_type": "code",
   "execution_count": 19,
   "id": "0fa4e12b-3d19-4c6f-81f4-ccdd1ae069d9",
   "metadata": {},
   "outputs": [
    {
     "data": {
      "text/plain": [
       "5261"
      ]
     },
     "execution_count": 19,
     "metadata": {},
     "output_type": "execute_result"
    }
   ],
   "source": [
    "pre_XDR = combined_phenos.query(\"Rifampicin==1 & Isoniazid==1 & (Levofloxacin==1 | Moxifloxacin==1)\").index.values\n",
    "len(pre_XDR)"
   ]
  },
  {
   "cell_type": "code",
   "execution_count": 20,
   "id": "5c7797e8-d56a-449a-a4f2-a1cefdfa46a8",
   "metadata": {},
   "outputs": [
    {
     "data": {
      "text/plain": [
       "(18737, 16)"
      ]
     },
     "execution_count": 20,
     "metadata": {},
     "output_type": "execute_result"
    }
   ],
   "source": [
    "combined_phenos.loc[(~pd.isnull(combined_phenos[\"Rifampicin\"])) & \n",
    "                    (~pd.isnull(combined_phenos[\"Isoniazid\"])) &\n",
    "                    (~pd.isnull(combined_phenos[\"Levofloxacin\"])) & \n",
    "                    (~pd.isnull(combined_phenos[\"Moxifloxacin\"]))\n",
    "                   ].shape"
   ]
  },
  {
   "cell_type": "code",
   "execution_count": 21,
   "id": "a1eccd31-5a50-42e8-8e1e-2ca098db1046",
   "metadata": {},
   "outputs": [
    {
     "data": {
      "text/plain": [
       "(11907, 16)"
      ]
     },
     "execution_count": 21,
     "metadata": {},
     "output_type": "execute_result"
    }
   ],
   "source": [
    "combined_phenos.loc[(~pd.isnull(combined_phenos[\"Rifampicin\"])) & \n",
    "                    (~pd.isnull(combined_phenos[\"Isoniazid\"])) &\n",
    "                    (~pd.isnull(combined_phenos[\"Levofloxacin\"])) & \n",
    "                    (~pd.isnull(combined_phenos[\"Moxifloxacin\"])) &\n",
    "                    (~pd.isnull(combined_phenos[\"Bedaquiline\"])) & \n",
    "                    (~pd.isnull(combined_phenos[\"Linezolid\"]))\n",
    "                   ].shape"
   ]
  },
  {
   "cell_type": "code",
   "execution_count": 22,
   "id": "6005a011-5195-4dd7-a241-922790d3f3bd",
   "metadata": {},
   "outputs": [
    {
     "data": {
      "text/plain": [
       "2911"
      ]
     },
     "execution_count": 22,
     "metadata": {},
     "output_type": "execute_result"
    }
   ],
   "source": [
    "# for XDR, there are 2 minimum cases: 1) MDR + BOTH fluoroquinolones, 2) MDR + 1 fluoroquinolone + 1 of BDQ and LZD\n",
    "XDR = set(combined_phenos.query(\"Rifampicin==1 & Isoniazid==1 & Levofloxacin==1 & Moxifloxacin==1\").index).union(combined_phenos.query(\"Rifampicin==1 & Isoniazid==1 & (Levofloxacin==1 | Moxifloxacin==1) & (Bedaquiline==1 | Linezolid==1)\"))\n",
    "len(XDR)\n"
   ]
  },
  {
   "cell_type": "markdown",
   "id": "8dcd3b7b-1f77-41be-9a16-da5720fc0ff7",
   "metadata": {},
   "source": [
    "# Lineage Analysis\n",
    "\n",
    "Color Picker: https://imagecolorpicker.com/en\n",
    "\n",
    "Copy-pasted this image in: https://www.nature.com/articles/nrmicro.2018.8/figures/1"
   ]
  },
  {
   "cell_type": "code",
   "execution_count": 40,
   "id": "53b9ce37-c268-4548-849d-0612c07f0bad",
   "metadata": {},
   "outputs": [
    {
     "data": {
      "text/plain": [
       "0.9945456708799382"
      ]
     },
     "execution_count": 40,
     "metadata": {},
     "output_type": "execute_result"
    }
   ],
   "source": [
    "np.sum(pca_explained_var)"
   ]
  },
  {
   "cell_type": "code",
   "execution_count": 42,
   "id": "6fdca3ca-1a2a-46f6-857f-ebfb837fe69f",
   "metadata": {},
   "outputs": [
    {
     "data": {
      "text/plain": [
       "array([0.58689256, 0.20490904, 0.12659903, 0.0397996 , 0.01650627])"
      ]
     },
     "execution_count": 42,
     "metadata": {},
     "output_type": "execute_result"
    }
   ],
   "source": [
    "pca_explained_var[:5]"
   ]
  },
  {
   "cell_type": "code",
   "execution_count": 41,
   "id": "9638f068-a625-4ed2-89b4-cf0f1819fa0b",
   "metadata": {},
   "outputs": [
    {
     "data": {
      "text/plain": [
       "0.9747064921271958"
      ]
     },
     "execution_count": 41,
     "metadata": {},
     "output_type": "execute_result"
    }
   ],
   "source": [
    "np.sum(pca_explained_var[:5])"
   ]
  },
  {
   "cell_type": "code",
   "execution_count": 45,
   "id": "e0dd293f-f08d-41c1-8edb-9bde5ccba526",
   "metadata": {},
   "outputs": [
    {
     "data": {
      "text/plain": [
       "97.53000000000002"
      ]
     },
     "execution_count": 45,
     "metadata": {},
     "output_type": "execute_result"
    }
   ],
   "source": [
    "np.sum([58.7,\n",
    "20.5,\n",
    "12.7,\n",
    "3.98,\n",
    "1.65,])"
   ]
  },
  {
   "cell_type": "code",
   "execution_count": 24,
   "id": "9c3a89fb-a28d-473e-8ebf-8113e700bd7b",
   "metadata": {},
   "outputs": [],
   "source": [
    "combined_phenos_PCA = combined_phenos.merge(eigenvec_df, left_index=True, right_index=True).merge(lineages.set_index(\"Sample_ID\")[[\"Primary_Lineage\", \"Lineage_1\", \"Lineage_2\"]],\n",
    "                                                                                                  left_index=True, right_on=\"Sample_ID\", how=\"inner\"\n",
    "                                                                                                 )"
   ]
  },
  {
   "cell_type": "code",
   "execution_count": 25,
   "id": "3edcc97e-97e6-45d5-a48f-2218884b548f",
   "metadata": {},
   "outputs": [
    {
     "data": {
      "text/html": [
       "<div>\n",
       "<style scoped>\n",
       "    .dataframe tbody tr th:only-of-type {\n",
       "        vertical-align: middle;\n",
       "    }\n",
       "\n",
       "    .dataframe tbody tr th {\n",
       "        vertical-align: top;\n",
       "    }\n",
       "\n",
       "    .dataframe thead th {\n",
       "        text-align: right;\n",
       "    }\n",
       "</style>\n",
       "<table border=\"1\" class=\"dataframe\">\n",
       "  <thead>\n",
       "    <tr style=\"text-align: right;\">\n",
       "      <th>Primary_Lineage</th>\n",
       "      <th>index</th>\n",
       "      <th>1</th>\n",
       "      <th>2</th>\n",
       "      <th>3</th>\n",
       "      <th>4</th>\n",
       "      <th>5</th>\n",
       "      <th>6</th>\n",
       "    </tr>\n",
       "  </thead>\n",
       "  <tbody>\n",
       "    <tr>\n",
       "      <th>3</th>\n",
       "      <td>Amikacin</td>\n",
       "      <td>0.02</td>\n",
       "      <td>0.15</td>\n",
       "      <td>0.04</td>\n",
       "      <td>0.08</td>\n",
       "      <td>0.00</td>\n",
       "      <td>0.00</td>\n",
       "    </tr>\n",
       "    <tr>\n",
       "      <th>9</th>\n",
       "      <td>Bedaquiline</td>\n",
       "      <td>0.02</td>\n",
       "      <td>0.02</td>\n",
       "      <td>0.14</td>\n",
       "      <td>0.01</td>\n",
       "      <td>0.00</td>\n",
       "      <td>0.00</td>\n",
       "    </tr>\n",
       "    <tr>\n",
       "      <th>10</th>\n",
       "      <td>Capreomycin</td>\n",
       "      <td>0.01</td>\n",
       "      <td>0.14</td>\n",
       "      <td>0.03</td>\n",
       "      <td>0.12</td>\n",
       "      <td>0.00</td>\n",
       "      <td>0.00</td>\n",
       "    </tr>\n",
       "    <tr>\n",
       "      <th>5</th>\n",
       "      <td>Clofazimine</td>\n",
       "      <td>0.02</td>\n",
       "      <td>0.06</td>\n",
       "      <td>0.07</td>\n",
       "      <td>0.03</td>\n",
       "      <td>0.00</td>\n",
       "      <td>0.00</td>\n",
       "    </tr>\n",
       "    <tr>\n",
       "      <th>13</th>\n",
       "      <td>Delamanid</td>\n",
       "      <td>0.02</td>\n",
       "      <td>0.02</td>\n",
       "      <td>0.05</td>\n",
       "      <td>0.01</td>\n",
       "      <td>0.00</td>\n",
       "      <td>0.00</td>\n",
       "    </tr>\n",
       "    <tr>\n",
       "      <th>4</th>\n",
       "      <td>Ethambutol</td>\n",
       "      <td>0.08</td>\n",
       "      <td>0.35</td>\n",
       "      <td>0.09</td>\n",
       "      <td>0.17</td>\n",
       "      <td>0.22</td>\n",
       "      <td>0.01</td>\n",
       "    </tr>\n",
       "    <tr>\n",
       "      <th>15</th>\n",
       "      <td>Ethionamide</td>\n",
       "      <td>0.23</td>\n",
       "      <td>0.32</td>\n",
       "      <td>0.11</td>\n",
       "      <td>0.23</td>\n",
       "      <td>0.00</td>\n",
       "      <td>0.00</td>\n",
       "    </tr>\n",
       "    <tr>\n",
       "      <th>14</th>\n",
       "      <td>Isoniazid</td>\n",
       "      <td>0.23</td>\n",
       "      <td>0.63</td>\n",
       "      <td>0.27</td>\n",
       "      <td>0.37</td>\n",
       "      <td>0.38</td>\n",
       "      <td>0.09</td>\n",
       "    </tr>\n",
       "    <tr>\n",
       "      <th>8</th>\n",
       "      <td>Kanamycin</td>\n",
       "      <td>0.02</td>\n",
       "      <td>0.22</td>\n",
       "      <td>0.05</td>\n",
       "      <td>0.12</td>\n",
       "      <td>0.00</td>\n",
       "      <td>0.00</td>\n",
       "    </tr>\n",
       "    <tr>\n",
       "      <th>0</th>\n",
       "      <td>Levofloxacin</td>\n",
       "      <td>0.07</td>\n",
       "      <td>0.31</td>\n",
       "      <td>0.20</td>\n",
       "      <td>0.13</td>\n",
       "      <td>0.00</td>\n",
       "      <td>0.00</td>\n",
       "    </tr>\n",
       "    <tr>\n",
       "      <th>6</th>\n",
       "      <td>Linezolid</td>\n",
       "      <td>0.01</td>\n",
       "      <td>0.02</td>\n",
       "      <td>0.01</td>\n",
       "      <td>0.02</td>\n",
       "      <td>0.00</td>\n",
       "      <td>0.00</td>\n",
       "    </tr>\n",
       "    <tr>\n",
       "      <th>7</th>\n",
       "      <td>Moxifloxacin</td>\n",
       "      <td>0.04</td>\n",
       "      <td>0.29</td>\n",
       "      <td>0.12</td>\n",
       "      <td>0.10</td>\n",
       "      <td>0.00</td>\n",
       "      <td>0.00</td>\n",
       "    </tr>\n",
       "    <tr>\n",
       "      <th>12</th>\n",
       "      <td>Pretomanid</td>\n",
       "      <td>0.02</td>\n",
       "      <td>0.04</td>\n",
       "      <td>0.00</td>\n",
       "      <td>0.01</td>\n",
       "      <td>NaN</td>\n",
       "      <td>0.00</td>\n",
       "    </tr>\n",
       "    <tr>\n",
       "      <th>1</th>\n",
       "      <td>Pyrazinamide</td>\n",
       "      <td>0.15</td>\n",
       "      <td>0.38</td>\n",
       "      <td>0.06</td>\n",
       "      <td>0.15</td>\n",
       "      <td>0.11</td>\n",
       "      <td>0.04</td>\n",
       "    </tr>\n",
       "    <tr>\n",
       "      <th>11</th>\n",
       "      <td>Rifampicin</td>\n",
       "      <td>0.12</td>\n",
       "      <td>0.54</td>\n",
       "      <td>0.18</td>\n",
       "      <td>0.31</td>\n",
       "      <td>0.32</td>\n",
       "      <td>0.06</td>\n",
       "    </tr>\n",
       "    <tr>\n",
       "      <th>2</th>\n",
       "      <td>Streptomycin</td>\n",
       "      <td>0.17</td>\n",
       "      <td>0.59</td>\n",
       "      <td>0.25</td>\n",
       "      <td>0.31</td>\n",
       "      <td>0.53</td>\n",
       "      <td>0.12</td>\n",
       "    </tr>\n",
       "  </tbody>\n",
       "</table>\n",
       "</div>"
      ],
      "text/plain": [
       "Primary_Lineage         index     1     2     3     4     5     6\n",
       "3                    Amikacin  0.02  0.15  0.04  0.08  0.00  0.00\n",
       "9                 Bedaquiline  0.02  0.02  0.14  0.01  0.00  0.00\n",
       "10                Capreomycin  0.01  0.14  0.03  0.12  0.00  0.00\n",
       "5                 Clofazimine  0.02  0.06  0.07  0.03  0.00  0.00\n",
       "13                  Delamanid  0.02  0.02  0.05  0.01  0.00  0.00\n",
       "4                  Ethambutol  0.08  0.35  0.09  0.17  0.22  0.01\n",
       "15                Ethionamide  0.23  0.32  0.11  0.23  0.00  0.00\n",
       "14                  Isoniazid  0.23  0.63  0.27  0.37  0.38  0.09\n",
       "8                   Kanamycin  0.02  0.22  0.05  0.12  0.00  0.00\n",
       "0                Levofloxacin  0.07  0.31  0.20  0.13  0.00  0.00\n",
       "6                   Linezolid  0.01  0.02  0.01  0.02  0.00  0.00\n",
       "7                Moxifloxacin  0.04  0.29  0.12  0.10  0.00  0.00\n",
       "12                 Pretomanid  0.02  0.04  0.00  0.01   NaN  0.00\n",
       "1                Pyrazinamide  0.15  0.38  0.06  0.15  0.11  0.04\n",
       "11                 Rifampicin  0.12  0.54  0.18  0.31  0.32  0.06\n",
       "2                Streptomycin  0.17  0.59  0.25  0.31  0.53  0.12"
      ]
     },
     "execution_count": 25,
     "metadata": {},
     "output_type": "execute_result"
    }
   ],
   "source": [
    "combined_phenos_PCA.groupby(\"Primary_Lineage\")[os.listdir(analysis_dir)].mean().T.reset_index().sort_values(\"index\", ascending=True).round(2).iloc[:, :7]"
   ]
  },
  {
   "cell_type": "code",
   "execution_count": null,
   "id": "8739687e-3aef-40a8-959d-ac0c4fe422c1",
   "metadata": {},
   "outputs": [],
   "source": [
    "# LinToColor_Dict = {\"1\": \"#DF83AC\",\n",
    "#                    \"2\": \"#7098CB\",\n",
    "#                    \"3\": \"#815D9F\",\n",
    "#                    \"4\": \"#E76956\",\n",
    "#                    \"5\": \"#B67548\",\n",
    "#                    \"6\": \"#6AB79E\",\n",
    "#                    \"7\": \"#E4515B\",\n",
    "#                   }\n",
    "LinToColor_Dict = {\"1\": \"#f381b2\",\n",
    "                   \"2\": \"#006dbb\",\n",
    "                   \"3\": \"#9f5eab\",\n",
    "                   \"4\": \"#f6472b\",\n",
    "                   \"5\": \"#76400e\",\n",
    "                   \"6\": \"#36ba74\",\n",
    "                   \"7\": \"#ffb000\",\n",
    "                  }\n",
    "\n",
    "sns.scatterplot(data=combined_phenos_PCA.query(\"Primary_Lineage in ['1', '2', '3', '4', '5', '6', '7']\"), \n",
    "                x=\"PC0\", y=\"PC1\", \n",
    "                hue=\"Primary_Lineage\",\n",
    "                hue_order=['1', '2', '3', '4', '5', '6', '7'],\n",
    "                palette=LinToColor_Dict,\n",
    "                alpha=0.7,\n",
    "                )\n",
    "\n",
    "plt.tight_layout()\n",
    "plt.legend(loc=\"upper right\", fontsize=10)\n",
    "sns.despine()\n",
    "plt.savefig(\"Figures/PC0_PC1.png\", dpi=300)"
   ]
  },
  {
   "cell_type": "markdown",
   "id": "3d4a41eb-395c-412d-bb52-e0c344b76779",
   "metadata": {},
   "source": [
    "# Predictive Models"
   ]
  },
  {
   "cell_type": "code",
   "execution_count": 8,
   "id": "21d80a24-ef0b-4db3-81de-4823e518c0c7",
   "metadata": {},
   "outputs": [],
   "source": [
    "drug = \"Moxifloxacin\"\n",
    "tiers_lst = [\"1\"]\n",
    "summary_1 = pd.read_csv(os.path.join(analysis_dir, drug, f\"BINARY/prediction_models/tiers={'+'.join(tiers_lst)}_bootstrap_binary_stats.csv\"))\n"
   ]
  },
  {
   "cell_type": "code",
   "execution_count": 37,
   "id": "6abf899d-f6de-4def-b749-9d8e278aee78",
   "metadata": {},
   "outputs": [
    {
     "data": {
      "text/plain": [
       "(array([0.92298921, 0.882134  , 0.93173333, 0.92405619, 0.90919471]),\n",
       " array([0.92688513, 0.88833747, 0.9376    , 0.92778753, 0.91096873]))"
      ]
     },
     "execution_count": 37,
     "metadata": {},
     "output_type": "execute_result"
    }
   ],
   "source": [
    "lower, upper = np.percentile(summary_1.iloc[1:, :], axis=0, q=[2.5, 97.5])\n",
    "lower, upper"
   ]
  },
  {
   "cell_type": "code",
   "execution_count": 34,
   "id": "88ca7b05-adae-41f2-84c6-cf53cdce549c",
   "metadata": {},
   "outputs": [],
   "source": [
    "drug = \"Moxifloxacin\"\n",
    "tiers_lst = [\"1\", \"2\"]\n",
    "summary_12 = pd.read_csv(os.path.join(analysis_dir, drug, f\"BINARY/prediction_models/tiers={'+'.join(tiers_lst)}_bootstrap_binary_stats.csv\"))\n",
    "lower, upper = np.percentile(summary_12.iloc[1:, :], axis=0, q=[2.5, 97.5])\n"
   ]
  },
  {
   "cell_type": "code",
   "execution_count": 35,
   "id": "ab7c6996-3c5e-49aa-a31c-5efb45704683",
   "metadata": {},
   "outputs": [
    {
     "data": {
      "text/plain": [
       "(array([0.9269167 , 0.88337469, 0.92531342, 0.92030735, 0.91011914]),\n",
       " array([0.93380284, 0.89826303, 0.93865031, 0.92908891, 0.91228132]))"
      ]
     },
     "execution_count": 35,
     "metadata": {},
     "output_type": "execute_result"
    }
   ],
   "source": [
    "lower, upper"
   ]
  },
  {
   "cell_type": "code",
   "execution_count": 50,
   "id": "601c1fe9-083b-47ee-9996-9e25b981e552",
   "metadata": {},
   "outputs": [],
   "source": [
    "_, pvals = st.ttest_ind(summary_1.iloc[1:], summary_12.iloc[1:], axis=0, equal_var=False, \n",
    "                        alternative=\"two-sided\")"
   ]
  },
  {
   "cell_type": "code",
   "execution_count": 51,
   "id": "77470afe-a704-4c78-baf9-12dc8bce8270",
   "metadata": {},
   "outputs": [
    {
     "data": {
      "text/plain": [
       "array([0.00000000e+00, 1.82820249e-90, 1.00767150e-06, 6.03279599e-01,\n",
       "       0.00000000e+00])"
      ]
     },
     "execution_count": 51,
     "metadata": {},
     "output_type": "execute_result"
    }
   ],
   "source": [
    "pvals"
   ]
  },
  {
   "cell_type": "code",
   "execution_count": null,
   "id": "e53eaefe-82d8-4d22-923f-44237b6e50c4",
   "metadata": {},
   "outputs": [],
   "source": []
  }
 ],
 "metadata": {
  "kernelspec": {
   "display_name": "Python 3 (ipykernel)",
   "language": "python",
   "name": "python3"
  },
  "language_info": {
   "codemirror_mode": {
    "name": "ipython",
    "version": 3
   },
   "file_extension": ".py",
   "mimetype": "text/x-python",
   "name": "python",
   "nbconvert_exporter": "python",
   "pygments_lexer": "ipython3",
   "version": "3.9.13"
  }
 },
 "nbformat": 4,
 "nbformat_minor": 5
}
