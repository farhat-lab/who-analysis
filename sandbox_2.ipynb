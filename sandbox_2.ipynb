{
 "cells": [
  {
   "cell_type": "code",
   "execution_count": 30,
   "id": "729a4552-211a-4feb-ab85-04f88adc2806",
   "metadata": {},
   "outputs": [],
   "source": [
    "import numpy as np\n",
    "import pandas as pd\n",
    "import matplotlib.pyplot as plt\n",
    "plt.rcParams['figure.dpi'] = 150\n",
    "import seaborn as sns\n",
    "from Bio import SeqIO, Seq\n",
    "\n",
    "import glob, os, yaml, subprocess, itertools, sparse, sys\n",
    "from sklearn.model_selection import train_test_split, KFold, GridSearchCV\n",
    "from sklearn.preprocessing import StandardScaler\n",
    "from sklearn.linear_model import LogisticRegression, LogisticRegressionCV\n",
    "# from statsmodels.distributions.empirical_distribution import ECDF\n",
    "import sklearn.metrics\n",
    "from sklearn.decomposition import PCA\n",
    "import timeit\n",
    "import scipy.stats as st\n",
    "import pickle, yaml, tracemalloc\n",
    "from scipy.stats import binomtest\n",
    "import statsmodels.api as sm\n",
    "\n",
    "# eigenvec_df = pd.read_csv(\"data/eigenvec_100PC.csv\").set_index(\"sample_id\")\n",
    "pca_explained_var = np.load(\"data/pca_explained_var.npy\")\n",
    "who_variants_combined = pd.read_csv(\"analysis/who_confidence_2021.csv\")\n",
    "\n",
    "sample_ids_mapping = pd.read_csv(\"data/sample_ids_mapping.csv\")\n",
    "samples_summary = pd.read_csv(\"data/samples_summary.csv\")\n",
    "drug_CC = pd.read_csv(\"data/drug_CC.csv\")\n",
    "overview_MIC_data_dict = pd.read_excel(\"data/overview_MIC_data.xlsx\", sheet_name=None)\n",
    "analysis_dir = '/n/data1/hms/dbmi/farhat/Sanjana/who-mutation-catalogue'\n",
    "input_data_dir = '/n/data1/hms/dbmi/farhat/ye12/who'\n",
    "drug_gene_mapping = pd.read_csv(\"data/drug_gene_mapping.csv\")\n",
    "\n",
    "who_variants_combined = pd.read_csv(\"analysis/who_confidence_2021.csv\")\n",
    "\n",
    "# utils files are in the utils_files folder\n",
    "sys.path.append(\"utils\")\n",
    "from data_utils import *\n",
    "from stats_utils import *\n",
    "\n",
    "lineages = pd.read_csv(\"data/lineages.csv\", low_memory=False)"
   ]
  },
  {
   "cell_type": "code",
   "execution_count": 31,
   "id": "61bea1ac-b12e-4794-a7ac-48aaa93917a3",
   "metadata": {},
   "outputs": [],
   "source": [
    "inh_results = pd.read_excel(\"results/BINARY/Isoniazid.xlsx\", sheet_name=None)"
   ]
  },
  {
   "cell_type": "code",
   "execution_count": 32,
   "id": "e4549514-e063-469a-955d-7396209589bf",
   "metadata": {},
   "outputs": [
    {
     "name": "stdout",
     "output_type": "stream",
     "text": [
      "13 8\n"
     ]
    }
   ],
   "source": [
    "compens_lst = ['c.-47_-46insT', 'c.-48G>A', 'c.-51G>A', 'c.-81C>T', 'c.-76T>A', 'c.-57C>T', 'c.-52C>T', 'c.-88_-87insAT', 'c.-77T>G', 'c.-72C>T', 'c.-54C>T', 'c.-74G>A', 'c.-52C>A']\n",
    "compens_lst = [\"ahpC_\" + val for val in compens_lst]\n",
    "\n",
    "# 'c.-42T>C' not in dataset, but 'c.-42T>G' is\n",
    "neutral_lst = ['c.-88G>A', 'c.-84T>C', 'c.-42T>C', 'c.-42T>G', 'c.-88G>A', 'c.-46G>A', 'c.-10G>A', 'c.33G>A']\n",
    "neutral_lst = [\"ahpC_\" + val for val in neutral_lst]\n",
    "\n",
    "print(len(compens_lst), len(neutral_lst))"
   ]
  },
  {
   "cell_type": "code",
   "execution_count": 33,
   "id": "ad82c405-e406-4219-928d-694ffff9c9cd",
   "metadata": {},
   "outputs": [
    {
     "data": {
      "text/plain": [
       "Assoc w R - strict        5\n",
       "Assoc w R                 5\n",
       "Evidence against Assoc    3\n",
       "Name: regression_confidence, dtype: int64"
      ]
     },
     "execution_count": 33,
     "metadata": {},
     "output_type": "execute_result"
    }
   ],
   "source": [
    "inh_results[\"Model_3\"].query(\"mutation.isin(@compens_lst)\")[\"regression_confidence\"].value_counts()"
   ]
  },
  {
   "cell_type": "code",
   "execution_count": 34,
   "id": "dfa77181-1c31-4cf7-ac64-8aec08bb04c6",
   "metadata": {},
   "outputs": [
    {
     "data": {
      "text/plain": [
       "Evidence against Assoc    4\n",
       "Name: regression_confidence, dtype: int64"
      ]
     },
     "execution_count": 34,
     "metadata": {},
     "output_type": "execute_result"
    }
   ],
   "source": [
    "inh_results[\"Model_3\"].query(\"mutation.isin(@neutral_lst)\")[\"regression_confidence\"].value_counts()"
   ]
  },
  {
   "cell_type": "code",
   "execution_count": 35,
   "id": "adcd5442-f6f1-4eab-a78b-0cf04b1b97e3",
   "metadata": {},
   "outputs": [
    {
     "data": {
      "text/html": [
       "<div>\n",
       "<style scoped>\n",
       "    .dataframe tbody tr th:only-of-type {\n",
       "        vertical-align: middle;\n",
       "    }\n",
       "\n",
       "    .dataframe tbody tr th {\n",
       "        vertical-align: top;\n",
       "    }\n",
       "\n",
       "    .dataframe thead th {\n",
       "        text-align: right;\n",
       "    }\n",
       "</style>\n",
       "<table border=\"1\" class=\"dataframe\">\n",
       "  <thead>\n",
       "    <tr style=\"text-align: right;\">\n",
       "      <th></th>\n",
       "      <th>mutation</th>\n",
       "      <th>predicted_effect</th>\n",
       "      <th>position</th>\n",
       "      <th>confidence_V1</th>\n",
       "      <th>Odds_Ratio</th>\n",
       "      <th>OR_LB</th>\n",
       "      <th>OR_UB</th>\n",
       "      <th>BH_pval</th>\n",
       "      <th>PPV_LB</th>\n",
       "      <th>Num_Isolates</th>\n",
       "      <th>LRT_BH_pval</th>\n",
       "      <th>regression_confidence</th>\n",
       "    </tr>\n",
       "  </thead>\n",
       "  <tbody>\n",
       "    <tr>\n",
       "      <th>53</th>\n",
       "      <td>ahpC_c.-47_-46insT</td>\n",
       "      <td>upstream_gene_variant</td>\n",
       "      <td>2726146</td>\n",
       "      <td>3) Uncertain significance</td>\n",
       "      <td>1.063391</td>\n",
       "      <td>1.052283</td>\n",
       "      <td>1.076212</td>\n",
       "      <td>0.000000</td>\n",
       "      <td>0.897182</td>\n",
       "      <td>34.0</td>\n",
       "      <td>0.988430</td>\n",
       "      <td>Assoc w R</td>\n",
       "    </tr>\n",
       "    <tr>\n",
       "      <th>11</th>\n",
       "      <td>ahpC_c.-48G&gt;A</td>\n",
       "      <td>upstream_gene_variant</td>\n",
       "      <td>2726145</td>\n",
       "      <td>3) Uncertain significance</td>\n",
       "      <td>1.177554</td>\n",
       "      <td>1.106376</td>\n",
       "      <td>1.252993</td>\n",
       "      <td>0.000000</td>\n",
       "      <td>0.884434</td>\n",
       "      <td>121.0</td>\n",
       "      <td>0.001040</td>\n",
       "      <td>Assoc w R - strict</td>\n",
       "    </tr>\n",
       "    <tr>\n",
       "      <th>73</th>\n",
       "      <td>ahpC_c.-51G&gt;A</td>\n",
       "      <td>upstream_gene_variant</td>\n",
       "      <td>2726142</td>\n",
       "      <td>3) Uncertain significance</td>\n",
       "      <td>1.054542</td>\n",
       "      <td>0.987136</td>\n",
       "      <td>1.132041</td>\n",
       "      <td>0.005049</td>\n",
       "      <td>0.635816</td>\n",
       "      <td>56.0</td>\n",
       "      <td>1.000000</td>\n",
       "      <td>Assoc w R</td>\n",
       "    </tr>\n",
       "    <tr>\n",
       "      <th>40</th>\n",
       "      <td>ahpC_c.-52C&gt;A</td>\n",
       "      <td>upstream_gene_variant</td>\n",
       "      <td>2726141</td>\n",
       "      <td>3) Uncertain significance</td>\n",
       "      <td>1.071485</td>\n",
       "      <td>1.006184</td>\n",
       "      <td>1.155561</td>\n",
       "      <td>0.000000</td>\n",
       "      <td>0.803227</td>\n",
       "      <td>34.0</td>\n",
       "      <td>0.385443</td>\n",
       "      <td>Assoc w R</td>\n",
       "    </tr>\n",
       "    <tr>\n",
       "      <th>17</th>\n",
       "      <td>ahpC_c.-52C&gt;T</td>\n",
       "      <td>upstream_gene_variant</td>\n",
       "      <td>2726141</td>\n",
       "      <td>3) Uncertain significance</td>\n",
       "      <td>1.133538</td>\n",
       "      <td>1.054025</td>\n",
       "      <td>1.199831</td>\n",
       "      <td>0.000000</td>\n",
       "      <td>0.768474</td>\n",
       "      <td>64.0</td>\n",
       "      <td>0.000964</td>\n",
       "      <td>Assoc w R - strict</td>\n",
       "    </tr>\n",
       "    <tr>\n",
       "      <th>20</th>\n",
       "      <td>ahpC_c.-54C&gt;T</td>\n",
       "      <td>upstream_gene_variant</td>\n",
       "      <td>2726139</td>\n",
       "      <td>3) Uncertain significance</td>\n",
       "      <td>1.122787</td>\n",
       "      <td>1.058480</td>\n",
       "      <td>1.168153</td>\n",
       "      <td>0.000000</td>\n",
       "      <td>0.757102</td>\n",
       "      <td>27.0</td>\n",
       "      <td>0.036705</td>\n",
       "      <td>Assoc w R - strict</td>\n",
       "    </tr>\n",
       "    <tr>\n",
       "      <th>12</th>\n",
       "      <td>ahpC_c.-57C&gt;T</td>\n",
       "      <td>upstream_gene_variant</td>\n",
       "      <td>2726136</td>\n",
       "      <td>3) Uncertain significance</td>\n",
       "      <td>1.172843</td>\n",
       "      <td>1.117081</td>\n",
       "      <td>1.212318</td>\n",
       "      <td>0.000000</td>\n",
       "      <td>0.846732</td>\n",
       "      <td>34.0</td>\n",
       "      <td>0.000002</td>\n",
       "      <td>Assoc w R - strict</td>\n",
       "    </tr>\n",
       "    <tr>\n",
       "      <th>133</th>\n",
       "      <td>ahpC_c.-72C&gt;T</td>\n",
       "      <td>upstream_gene_variant</td>\n",
       "      <td>2726121</td>\n",
       "      <td>3) Uncertain significance</td>\n",
       "      <td>1.044559</td>\n",
       "      <td>1.002694</td>\n",
       "      <td>1.090452</td>\n",
       "      <td>0.005049</td>\n",
       "      <td>0.580934</td>\n",
       "      <td>21.0</td>\n",
       "      <td>0.568587</td>\n",
       "      <td>Assoc w R</td>\n",
       "    </tr>\n",
       "    <tr>\n",
       "      <th>522</th>\n",
       "      <td>ahpC_c.-74G&gt;A</td>\n",
       "      <td>upstream_gene_variant</td>\n",
       "      <td>2726119</td>\n",
       "      <td>3) Uncertain significance</td>\n",
       "      <td>1.012404</td>\n",
       "      <td>0.998669</td>\n",
       "      <td>1.042121</td>\n",
       "      <td>0.515733</td>\n",
       "      <td>0.473490</td>\n",
       "      <td>8.0</td>\n",
       "      <td>1.000000</td>\n",
       "      <td>Evidence against Assoc</td>\n",
       "    </tr>\n",
       "    <tr>\n",
       "      <th>15</th>\n",
       "      <td>ahpC_c.-76T&gt;A</td>\n",
       "      <td>upstream_gene_variant</td>\n",
       "      <td>2726117</td>\n",
       "      <td>3) Uncertain significance</td>\n",
       "      <td>1.137640</td>\n",
       "      <td>1.090863</td>\n",
       "      <td>1.175146</td>\n",
       "      <td>0.000000</td>\n",
       "      <td>0.823533</td>\n",
       "      <td>19.0</td>\n",
       "      <td>0.000036</td>\n",
       "      <td>Assoc w R - strict</td>\n",
       "    </tr>\n",
       "    <tr>\n",
       "      <th>173</th>\n",
       "      <td>ahpC_c.-77T&gt;G</td>\n",
       "      <td>upstream_gene_variant</td>\n",
       "      <td>2726116</td>\n",
       "      <td>3) Uncertain significance</td>\n",
       "      <td>1.038687</td>\n",
       "      <td>0.999094</td>\n",
       "      <td>1.088471</td>\n",
       "      <td>0.099545</td>\n",
       "      <td>0.545529</td>\n",
       "      <td>13.0</td>\n",
       "      <td>0.766313</td>\n",
       "      <td>Evidence against Assoc</td>\n",
       "    </tr>\n",
       "    <tr>\n",
       "      <th>32</th>\n",
       "      <td>ahpC_c.-81C&gt;T</td>\n",
       "      <td>upstream_gene_variant</td>\n",
       "      <td>2726112</td>\n",
       "      <td>3) Uncertain significance</td>\n",
       "      <td>1.079631</td>\n",
       "      <td>0.990317</td>\n",
       "      <td>1.152386</td>\n",
       "      <td>0.000000</td>\n",
       "      <td>0.732604</td>\n",
       "      <td>50.0</td>\n",
       "      <td>0.233376</td>\n",
       "      <td>Assoc w R</td>\n",
       "    </tr>\n",
       "    <tr>\n",
       "      <th>406</th>\n",
       "      <td>ahpC_c.-88_-87insAT</td>\n",
       "      <td>upstream_gene_variant</td>\n",
       "      <td>2726105</td>\n",
       "      <td>3) Uncertain significance</td>\n",
       "      <td>1.019355</td>\n",
       "      <td>1.000000</td>\n",
       "      <td>1.035061</td>\n",
       "      <td>0.351795</td>\n",
       "      <td>0.158114</td>\n",
       "      <td>2.0</td>\n",
       "      <td>1.000000</td>\n",
       "      <td>Evidence against Assoc</td>\n",
       "    </tr>\n",
       "  </tbody>\n",
       "</table>\n",
       "</div>"
      ],
      "text/plain": [
       "                mutation       predicted_effect position  \\\n",
       "53    ahpC_c.-47_-46insT  upstream_gene_variant  2726146   \n",
       "11         ahpC_c.-48G>A  upstream_gene_variant  2726145   \n",
       "73         ahpC_c.-51G>A  upstream_gene_variant  2726142   \n",
       "40         ahpC_c.-52C>A  upstream_gene_variant  2726141   \n",
       "17         ahpC_c.-52C>T  upstream_gene_variant  2726141   \n",
       "20         ahpC_c.-54C>T  upstream_gene_variant  2726139   \n",
       "12         ahpC_c.-57C>T  upstream_gene_variant  2726136   \n",
       "133        ahpC_c.-72C>T  upstream_gene_variant  2726121   \n",
       "522        ahpC_c.-74G>A  upstream_gene_variant  2726119   \n",
       "15         ahpC_c.-76T>A  upstream_gene_variant  2726117   \n",
       "173        ahpC_c.-77T>G  upstream_gene_variant  2726116   \n",
       "32         ahpC_c.-81C>T  upstream_gene_variant  2726112   \n",
       "406  ahpC_c.-88_-87insAT  upstream_gene_variant  2726105   \n",
       "\n",
       "                 confidence_V1  Odds_Ratio     OR_LB     OR_UB   BH_pval  \\\n",
       "53   3) Uncertain significance    1.063391  1.052283  1.076212  0.000000   \n",
       "11   3) Uncertain significance    1.177554  1.106376  1.252993  0.000000   \n",
       "73   3) Uncertain significance    1.054542  0.987136  1.132041  0.005049   \n",
       "40   3) Uncertain significance    1.071485  1.006184  1.155561  0.000000   \n",
       "17   3) Uncertain significance    1.133538  1.054025  1.199831  0.000000   \n",
       "20   3) Uncertain significance    1.122787  1.058480  1.168153  0.000000   \n",
       "12   3) Uncertain significance    1.172843  1.117081  1.212318  0.000000   \n",
       "133  3) Uncertain significance    1.044559  1.002694  1.090452  0.005049   \n",
       "522  3) Uncertain significance    1.012404  0.998669  1.042121  0.515733   \n",
       "15   3) Uncertain significance    1.137640  1.090863  1.175146  0.000000   \n",
       "173  3) Uncertain significance    1.038687  0.999094  1.088471  0.099545   \n",
       "32   3) Uncertain significance    1.079631  0.990317  1.152386  0.000000   \n",
       "406  3) Uncertain significance    1.019355  1.000000  1.035061  0.351795   \n",
       "\n",
       "       PPV_LB  Num_Isolates  LRT_BH_pval   regression_confidence  \n",
       "53   0.897182          34.0     0.988430               Assoc w R  \n",
       "11   0.884434         121.0     0.001040      Assoc w R - strict  \n",
       "73   0.635816          56.0     1.000000               Assoc w R  \n",
       "40   0.803227          34.0     0.385443               Assoc w R  \n",
       "17   0.768474          64.0     0.000964      Assoc w R - strict  \n",
       "20   0.757102          27.0     0.036705      Assoc w R - strict  \n",
       "12   0.846732          34.0     0.000002      Assoc w R - strict  \n",
       "133  0.580934          21.0     0.568587               Assoc w R  \n",
       "522  0.473490           8.0     1.000000  Evidence against Assoc  \n",
       "15   0.823533          19.0     0.000036      Assoc w R - strict  \n",
       "173  0.545529          13.0     0.766313  Evidence against Assoc  \n",
       "32   0.732604          50.0     0.233376               Assoc w R  \n",
       "406  0.158114           2.0     1.000000  Evidence against Assoc  "
      ]
     },
     "execution_count": 35,
     "metadata": {},
     "output_type": "execute_result"
    }
   ],
   "source": [
    "inh_results[\"Model_3\"].query(\"mutation.isin(@compens_lst)\").sort_values(\"mutation\")[[\"mutation\", \"predicted_effect\", \"position\", \"confidence_V1\", \"Odds_Ratio\", \"OR_LB\", \"OR_UB\", \"BH_pval\", \"PPV_LB\", \"Num_Isolates\", \"LRT_BH_pval\", \"regression_confidence\"]]"
   ]
  },
  {
   "cell_type": "code",
   "execution_count": 36,
   "id": "f806041f-9c83-4530-b51d-4c4297ec6fb8",
   "metadata": {},
   "outputs": [
    {
     "data": {
      "text/html": [
       "<div>\n",
       "<style scoped>\n",
       "    .dataframe tbody tr th:only-of-type {\n",
       "        vertical-align: middle;\n",
       "    }\n",
       "\n",
       "    .dataframe tbody tr th {\n",
       "        vertical-align: top;\n",
       "    }\n",
       "\n",
       "    .dataframe thead th {\n",
       "        text-align: right;\n",
       "    }\n",
       "</style>\n",
       "<table border=\"1\" class=\"dataframe\">\n",
       "  <thead>\n",
       "    <tr style=\"text-align: right;\">\n",
       "      <th></th>\n",
       "      <th>mutation</th>\n",
       "      <th>predicted_effect</th>\n",
       "      <th>position</th>\n",
       "      <th>confidence_V1</th>\n",
       "      <th>Odds_Ratio</th>\n",
       "      <th>OR_LB</th>\n",
       "      <th>OR_UB</th>\n",
       "      <th>BH_pval</th>\n",
       "      <th>PPV_LB</th>\n",
       "      <th>Num_Isolates</th>\n",
       "      <th>LRT_BH_pval</th>\n",
       "      <th>regression_confidence</th>\n",
       "    </tr>\n",
       "  </thead>\n",
       "  <tbody>\n",
       "    <tr>\n",
       "      <th>1210</th>\n",
       "      <td>ahpC_c.-10G&gt;A</td>\n",
       "      <td>upstream_gene_variant</td>\n",
       "      <td>2726183</td>\n",
       "      <td>NaN</td>\n",
       "      <td>0.983347</td>\n",
       "      <td>0.973404</td>\n",
       "      <td>1.000000</td>\n",
       "      <td>0.562238</td>\n",
       "      <td>0.158114</td>\n",
       "      <td>2.0</td>\n",
       "      <td>1.0</td>\n",
       "      <td>Evidence against Assoc</td>\n",
       "    </tr>\n",
       "    <tr>\n",
       "      <th>668</th>\n",
       "      <td>ahpC_c.-42T&gt;G</td>\n",
       "      <td>upstream_gene_variant</td>\n",
       "      <td>2726151</td>\n",
       "      <td>3) Uncertain significance</td>\n",
       "      <td>1.007639</td>\n",
       "      <td>1.000000</td>\n",
       "      <td>1.015626</td>\n",
       "      <td>0.562238</td>\n",
       "      <td>0.025000</td>\n",
       "      <td>1.0</td>\n",
       "      <td>1.0</td>\n",
       "      <td>Evidence against Assoc</td>\n",
       "    </tr>\n",
       "    <tr>\n",
       "      <th>1171</th>\n",
       "      <td>ahpC_c.-84T&gt;C</td>\n",
       "      <td>upstream_gene_variant</td>\n",
       "      <td>2726109</td>\n",
       "      <td>3) Uncertain significance</td>\n",
       "      <td>0.985015</td>\n",
       "      <td>0.975616</td>\n",
       "      <td>1.000000</td>\n",
       "      <td>0.562238</td>\n",
       "      <td>0.158114</td>\n",
       "      <td>2.0</td>\n",
       "      <td>1.0</td>\n",
       "      <td>Evidence against Assoc</td>\n",
       "    </tr>\n",
       "    <tr>\n",
       "      <th>1334</th>\n",
       "      <td>ahpC_c.-88G&gt;A</td>\n",
       "      <td>upstream_gene_variant</td>\n",
       "      <td>2726105</td>\n",
       "      <td>5) Not assoc w R</td>\n",
       "      <td>0.952190</td>\n",
       "      <td>0.883199</td>\n",
       "      <td>1.024105</td>\n",
       "      <td>0.288857</td>\n",
       "      <td>0.753147</td>\n",
       "      <td>4201.0</td>\n",
       "      <td>1.0</td>\n",
       "      <td>Evidence against Assoc</td>\n",
       "    </tr>\n",
       "  </tbody>\n",
       "</table>\n",
       "</div>"
      ],
      "text/plain": [
       "           mutation       predicted_effect position  \\\n",
       "1210  ahpC_c.-10G>A  upstream_gene_variant  2726183   \n",
       "668   ahpC_c.-42T>G  upstream_gene_variant  2726151   \n",
       "1171  ahpC_c.-84T>C  upstream_gene_variant  2726109   \n",
       "1334  ahpC_c.-88G>A  upstream_gene_variant  2726105   \n",
       "\n",
       "                  confidence_V1  Odds_Ratio     OR_LB     OR_UB   BH_pval  \\\n",
       "1210                        NaN    0.983347  0.973404  1.000000  0.562238   \n",
       "668   3) Uncertain significance    1.007639  1.000000  1.015626  0.562238   \n",
       "1171  3) Uncertain significance    0.985015  0.975616  1.000000  0.562238   \n",
       "1334           5) Not assoc w R    0.952190  0.883199  1.024105  0.288857   \n",
       "\n",
       "        PPV_LB  Num_Isolates  LRT_BH_pval   regression_confidence  \n",
       "1210  0.158114           2.0          1.0  Evidence against Assoc  \n",
       "668   0.025000           1.0          1.0  Evidence against Assoc  \n",
       "1171  0.158114           2.0          1.0  Evidence against Assoc  \n",
       "1334  0.753147        4201.0          1.0  Evidence against Assoc  "
      ]
     },
     "execution_count": 36,
     "metadata": {},
     "output_type": "execute_result"
    }
   ],
   "source": [
    "inh_results[\"Model_3\"].query(\"mutation.isin(@neutral_lst)\").sort_values(\"mutation\")[[\"mutation\", \"predicted_effect\", \"position\", \"confidence_V1\", \"Odds_Ratio\", \"OR_LB\", \"OR_UB\", \"BH_pval\", \"PPV_LB\", \"Num_Isolates\", \"LRT_BH_pval\", \"regression_confidence\"]]"
   ]
  },
  {
   "cell_type": "markdown",
   "id": "07cefaa6-2391-4bbb-9f59-7134ab2749b1",
   "metadata": {},
   "source": [
    "# Create Combined Lineages File"
   ]
  },
  {
   "cell_type": "code",
   "execution_count": 65,
   "id": "1a873181-6ea6-45de-a7e4-35b9a007fc67",
   "metadata": {},
   "outputs": [],
   "source": [
    "def combine_lineages_with_sampleIDs(lineages_fName, sample_ids_mapping):\n",
    "    \n",
    "    lineages_df = pd.read_csv(lineages_fName, low_memory=False)\n",
    "    lineages_df[\"Sample Name\"] = [name.split(\"-\")[0] for name in lineages_df[\"File_Name\"]]\n",
    "    lineages_df = lineages_df.merge(sample_ids_mapping, on=\"Sample Name\", how=\"inner\")\n",
    "\n",
    "    lineages_df = lineages_df.dropna(axis=1, how=\"all\").reset_index(drop=True)\n",
    "    lineages_df = lineages_df[lineages_df.columns[~lineages_df.columns.str.startswith(\"Count\")]]\n",
    "    \n",
    "    # remove count strings from the original Lineage field\n",
    "    for i, row in lineages_df.iterrows():\n",
    "    \n",
    "        lineage = row[\"Lineage\"]\n",
    "\n",
    "        if type(lineage) == str:\n",
    "            remove_start_idx = list(lineage).index(\"(\")\n",
    "            lineages_df.loc[i, \"Lineage\"] = lineage[:remove_start_idx]\n",
    "        \n",
    "    # the null ones are all some combination of canetti, westafrican, ethiopian, tur, mungi. There are only ~10-15 of these, so drop\n",
    "    # null means it couldn't e classified in the Coll 2014 scheme, but other columns are not null because a different scheme classified them\n",
    "    lineages_df = lineages_df.loc[~pd.isnull(lineages_df[\"Lineage_1\"])]\n",
    "    \n",
    "    # multiple directories contain the same VCF files, so drop duplicates here\n",
    "    lineages_df = lineages_df.sort_values(\"Lineage\", ascending=True).drop_duplicates(subset=[\"Sample Name\", \"Sample ID\", \"Lineage\"], keep=\"first\")\n",
    "    return lineages_df"
   ]
  },
  {
   "cell_type": "code",
   "execution_count": 66,
   "id": "453acbc9-4d12-4cf9-b481-dac2b8173405",
   "metadata": {},
   "outputs": [
    {
     "data": {
      "text/plain": [
       "(65786, 12)"
      ]
     },
     "execution_count": 66,
     "metadata": {},
     "output_type": "execute_result"
    }
   ],
   "source": [
    "lineages_df = combine_lineages_with_sampleIDs(\"data/lineages_2.csv\", sample_ids_mapping)\n",
    "lineages_df.shape"
   ]
  },
  {
   "cell_type": "code",
   "execution_count": 67,
   "id": "aded85c5-1617-43b2-8fe4-cb4c17e96ef6",
   "metadata": {},
   "outputs": [
    {
     "data": {
      "text/html": [
       "<div>\n",
       "<style scoped>\n",
       "    .dataframe tbody tr th:only-of-type {\n",
       "        vertical-align: middle;\n",
       "    }\n",
       "\n",
       "    .dataframe tbody tr th {\n",
       "        vertical-align: top;\n",
       "    }\n",
       "\n",
       "    .dataframe thead th {\n",
       "        text-align: right;\n",
       "    }\n",
       "</style>\n",
       "<table border=\"1\" class=\"dataframe\">\n",
       "  <thead>\n",
       "    <tr style=\"text-align: right;\">\n",
       "      <th></th>\n",
       "      <th>VCF_Dir</th>\n",
       "      <th>File_Name</th>\n",
       "      <th>Lineage</th>\n",
       "      <th>Lineage_1</th>\n",
       "      <th>Lineage_2</th>\n",
       "      <th>Lineage_3</th>\n",
       "      <th>Lineage_4</th>\n",
       "      <th>Lineage_5</th>\n",
       "      <th>Lineage_6</th>\n",
       "      <th>Lineage_7</th>\n",
       "      <th>Sample Name</th>\n",
       "      <th>Sample ID</th>\n",
       "    </tr>\n",
       "  </thead>\n",
       "  <tbody>\n",
       "    <tr>\n",
       "      <th>16124</th>\n",
       "      <td>/n/data1/hms/dbmi/farhat/ye12/who/vcf_files/SA...</td>\n",
       "      <td>SAMEA7549478-freebayes.vcf</td>\n",
       "      <td>1</td>\n",
       "      <td>1</td>\n",
       "      <td>NaN</td>\n",
       "      <td>NaN</td>\n",
       "      <td>NaN</td>\n",
       "      <td>NaN</td>\n",
       "      <td>NaN</td>\n",
       "      <td>NaN</td>\n",
       "      <td>SAMEA7549478</td>\n",
       "      <td>18203</td>\n",
       "    </tr>\n",
       "    <tr>\n",
       "      <th>32832</th>\n",
       "      <td>/n/data1/hms/dbmi/farhat/ye12/who/vcf_files/74...</td>\n",
       "      <td>SAMN07765885-freebayes.vcf</td>\n",
       "      <td>1</td>\n",
       "      <td>1</td>\n",
       "      <td>NaN</td>\n",
       "      <td>NaN</td>\n",
       "      <td>NaN</td>\n",
       "      <td>NaN</td>\n",
       "      <td>NaN</td>\n",
       "      <td>NaN</td>\n",
       "      <td>SAMN07765885</td>\n",
       "      <td>142389</td>\n",
       "    </tr>\n",
       "    <tr>\n",
       "      <th>55925</th>\n",
       "      <td>/n/data1/hms/dbmi/farhat/ye12/who/vcf_files/99...</td>\n",
       "      <td>SPE_6B1800_300F25114DF9-freebayes.vcf</td>\n",
       "      <td>1</td>\n",
       "      <td>1</td>\n",
       "      <td>NaN</td>\n",
       "      <td>NaN</td>\n",
       "      <td>NaN</td>\n",
       "      <td>NaN</td>\n",
       "      <td>NaN</td>\n",
       "      <td>NaN</td>\n",
       "      <td>SPE_6B1800_300F25114DF9</td>\n",
       "      <td>169106</td>\n",
       "    </tr>\n",
       "    <tr>\n",
       "      <th>34712</th>\n",
       "      <td>/n/data1/hms/dbmi/farhat/ye12/who/vcf_files/f8...</td>\n",
       "      <td>SAMEA3558121-freebayes.vcf</td>\n",
       "      <td>1</td>\n",
       "      <td>1</td>\n",
       "      <td>2.2.1</td>\n",
       "      <td>NaN</td>\n",
       "      <td>NaN</td>\n",
       "      <td>NaN</td>\n",
       "      <td>NaN</td>\n",
       "      <td>NaN</td>\n",
       "      <td>SAMEA3558121</td>\n",
       "      <td>63999</td>\n",
       "    </tr>\n",
       "    <tr>\n",
       "      <th>24166</th>\n",
       "      <td>/n/data1/hms/dbmi/farhat/ye12/who/vcf_files/21...</td>\n",
       "      <td>2108208010-freebayes.vcf</td>\n",
       "      <td>1</td>\n",
       "      <td>1</td>\n",
       "      <td>NaN</td>\n",
       "      <td>NaN</td>\n",
       "      <td>NaN</td>\n",
       "      <td>NaN</td>\n",
       "      <td>NaN</td>\n",
       "      <td>NaN</td>\n",
       "      <td>2108208010</td>\n",
       "      <td>790022</td>\n",
       "    </tr>\n",
       "    <tr>\n",
       "      <th>...</th>\n",
       "      <td>...</td>\n",
       "      <td>...</td>\n",
       "      <td>...</td>\n",
       "      <td>...</td>\n",
       "      <td>...</td>\n",
       "      <td>...</td>\n",
       "      <td>...</td>\n",
       "      <td>...</td>\n",
       "      <td>...</td>\n",
       "      <td>...</td>\n",
       "      <td>...</td>\n",
       "      <td>...</td>\n",
       "    </tr>\n",
       "    <tr>\n",
       "      <th>29155</th>\n",
       "      <td>/n/data1/hms/dbmi/farhat/ye12/who/vcf_files/SA...</td>\n",
       "      <td>SAMEA7551661-freebayes.vcf</td>\n",
       "      <td>BOV_AFRI</td>\n",
       "      <td>BOV_AFRI</td>\n",
       "      <td>NaN</td>\n",
       "      <td>NaN</td>\n",
       "      <td>NaN</td>\n",
       "      <td>NaN</td>\n",
       "      <td>NaN</td>\n",
       "      <td>NaN</td>\n",
       "      <td>SAMEA7551661</td>\n",
       "      <td>16023</td>\n",
       "    </tr>\n",
       "    <tr>\n",
       "      <th>13404</th>\n",
       "      <td>/n/data1/hms/dbmi/farhat/ye12/who/vcf_files/b8...</td>\n",
       "      <td>SAMN07660133-freebayes.vcf</td>\n",
       "      <td>BOV_AFRI</td>\n",
       "      <td>BOV_AFRI</td>\n",
       "      <td>NaN</td>\n",
       "      <td>NaN</td>\n",
       "      <td>NaN</td>\n",
       "      <td>NaN</td>\n",
       "      <td>NaN</td>\n",
       "      <td>NaN</td>\n",
       "      <td>SAMN07660133</td>\n",
       "      <td>96754</td>\n",
       "    </tr>\n",
       "    <tr>\n",
       "      <th>12035</th>\n",
       "      <td>/n/data1/hms/dbmi/farhat/ye12/who/vcf_files/a7...</td>\n",
       "      <td>SPE_6B1800_F3B837D0FFA3-freebayes.vcf</td>\n",
       "      <td>BOV_AFRI</td>\n",
       "      <td>BOV_AFRI</td>\n",
       "      <td>NaN</td>\n",
       "      <td>NaN</td>\n",
       "      <td>NaN</td>\n",
       "      <td>NaN</td>\n",
       "      <td>NaN</td>\n",
       "      <td>NaN</td>\n",
       "      <td>SPE_6B1800_F3B837D0FFA3</td>\n",
       "      <td>170543</td>\n",
       "    </tr>\n",
       "    <tr>\n",
       "      <th>46975</th>\n",
       "      <td>/n/data1/hms/dbmi/farhat/ye12/who/vcf_files/SA...</td>\n",
       "      <td>SAMEA7549141-freebayes.vcf</td>\n",
       "      <td>BOV_AFRI</td>\n",
       "      <td>BOV_AFRI</td>\n",
       "      <td>NaN</td>\n",
       "      <td>NaN</td>\n",
       "      <td>NaN</td>\n",
       "      <td>NaN</td>\n",
       "      <td>NaN</td>\n",
       "      <td>NaN</td>\n",
       "      <td>SAMEA7549141</td>\n",
       "      <td>18539</td>\n",
       "    </tr>\n",
       "    <tr>\n",
       "      <th>6842</th>\n",
       "      <td>/n/data1/hms/dbmi/farhat/ye12/who/vcf_files/d9...</td>\n",
       "      <td>SPE_6B1800_E64D4A5EB370-freebayes.vcf</td>\n",
       "      <td>BOV_AFRI</td>\n",
       "      <td>BOV_AFRI</td>\n",
       "      <td>NaN</td>\n",
       "      <td>NaN</td>\n",
       "      <td>NaN</td>\n",
       "      <td>NaN</td>\n",
       "      <td>NaN</td>\n",
       "      <td>NaN</td>\n",
       "      <td>SPE_6B1800_E64D4A5EB370</td>\n",
       "      <td>168387</td>\n",
       "    </tr>\n",
       "  </tbody>\n",
       "</table>\n",
       "<p>65786 rows × 12 columns</p>\n",
       "</div>"
      ],
      "text/plain": [
       "                                                 VCF_Dir  \\\n",
       "16124  /n/data1/hms/dbmi/farhat/ye12/who/vcf_files/SA...   \n",
       "32832  /n/data1/hms/dbmi/farhat/ye12/who/vcf_files/74...   \n",
       "55925  /n/data1/hms/dbmi/farhat/ye12/who/vcf_files/99...   \n",
       "34712  /n/data1/hms/dbmi/farhat/ye12/who/vcf_files/f8...   \n",
       "24166  /n/data1/hms/dbmi/farhat/ye12/who/vcf_files/21...   \n",
       "...                                                  ...   \n",
       "29155  /n/data1/hms/dbmi/farhat/ye12/who/vcf_files/SA...   \n",
       "13404  /n/data1/hms/dbmi/farhat/ye12/who/vcf_files/b8...   \n",
       "12035  /n/data1/hms/dbmi/farhat/ye12/who/vcf_files/a7...   \n",
       "46975  /n/data1/hms/dbmi/farhat/ye12/who/vcf_files/SA...   \n",
       "6842   /n/data1/hms/dbmi/farhat/ye12/who/vcf_files/d9...   \n",
       "\n",
       "                                   File_Name   Lineage Lineage_1 Lineage_2  \\\n",
       "16124             SAMEA7549478-freebayes.vcf         1         1       NaN   \n",
       "32832             SAMN07765885-freebayes.vcf         1         1       NaN   \n",
       "55925  SPE_6B1800_300F25114DF9-freebayes.vcf         1         1       NaN   \n",
       "34712             SAMEA3558121-freebayes.vcf         1         1     2.2.1   \n",
       "24166               2108208010-freebayes.vcf         1         1       NaN   \n",
       "...                                      ...       ...       ...       ...   \n",
       "29155             SAMEA7551661-freebayes.vcf  BOV_AFRI  BOV_AFRI       NaN   \n",
       "13404             SAMN07660133-freebayes.vcf  BOV_AFRI  BOV_AFRI       NaN   \n",
       "12035  SPE_6B1800_F3B837D0FFA3-freebayes.vcf  BOV_AFRI  BOV_AFRI       NaN   \n",
       "46975             SAMEA7549141-freebayes.vcf  BOV_AFRI  BOV_AFRI       NaN   \n",
       "6842   SPE_6B1800_E64D4A5EB370-freebayes.vcf  BOV_AFRI  BOV_AFRI       NaN   \n",
       "\n",
       "      Lineage_3 Lineage_4 Lineage_5 Lineage_6 Lineage_7  \\\n",
       "16124       NaN       NaN       NaN       NaN       NaN   \n",
       "32832       NaN       NaN       NaN       NaN       NaN   \n",
       "55925       NaN       NaN       NaN       NaN       NaN   \n",
       "34712       NaN       NaN       NaN       NaN       NaN   \n",
       "24166       NaN       NaN       NaN       NaN       NaN   \n",
       "...         ...       ...       ...       ...       ...   \n",
       "29155       NaN       NaN       NaN       NaN       NaN   \n",
       "13404       NaN       NaN       NaN       NaN       NaN   \n",
       "12035       NaN       NaN       NaN       NaN       NaN   \n",
       "46975       NaN       NaN       NaN       NaN       NaN   \n",
       "6842        NaN       NaN       NaN       NaN       NaN   \n",
       "\n",
       "                   Sample Name  Sample ID  \n",
       "16124             SAMEA7549478      18203  \n",
       "32832             SAMN07765885     142389  \n",
       "55925  SPE_6B1800_300F25114DF9     169106  \n",
       "34712             SAMEA3558121      63999  \n",
       "24166               2108208010     790022  \n",
       "...                        ...        ...  \n",
       "29155             SAMEA7551661      16023  \n",
       "13404             SAMN07660133      96754  \n",
       "12035  SPE_6B1800_F3B837D0FFA3     170543  \n",
       "46975             SAMEA7549141      18539  \n",
       "6842   SPE_6B1800_E64D4A5EB370     168387  \n",
       "\n",
       "[65786 rows x 12 columns]"
      ]
     },
     "execution_count": 67,
     "metadata": {},
     "output_type": "execute_result"
    }
   ],
   "source": [
    "lineages_df"
   ]
  },
  {
   "cell_type": "code",
   "execution_count": null,
   "id": "fc6b0448-3bf3-4229-9f55-46b620538aea",
   "metadata": {},
   "outputs": [
    {
     "name": "stdout",
     "output_type": "stream",
     "text": [
      "canetti(6734/6745),westafrican1(1/643),ethiopian(1/806),tur(1/43),mungi(1/595)\n",
      "canetti(6736/6745),westafrican1(1/643),ethiopian(1/806),tur(1/43),mungi(1/595)\n",
      "canetti(6734/6745),westafrican1(1/643),ethiopian(1/806),tur(1/43),mungi(1/595)\n",
      "canetti(6724/6745),westafrican1(1/643),ethiopian(1/806),tur(1/43),mungi(1/595)\n",
      "canetti(6738/6745),westafrican1(1/643),ethiopian(1/806),tur(1/43),mungi(1/595)\n",
      "canetti(6733/6745),westafrican1(1/643),ethiopian(1/806),tur(1/43),mungi(1/595)\n",
      "canetti(6728/6745),westafrican1(1/643),ethiopian(1/806),east_african_indian(1/231),tur(1/43),mungi(1/595)\n",
      "canetti(6737/6745),westafrican1(1/643),ethiopian(1/806),tur(1/43),mungi(1/595)\n",
      "canetti(6733/6745),westafrican1(1/643),ethiopian(1/806),tur(1/43),mungi(1/595)\n",
      "canetti(6730/6745),suricattae(1/505),westafrican1(1/643),ethiopian(1/806),tur(1/43),mungi(1/595)\n",
      "canetti(6730/6745),westafrican1(1/643),ethiopian(1/806),tur(1/43),mungi(1/595)\n",
      "canetti(6732/6745),westafrican1(1/643),ethiopian(1/806),tur(1/43),mungi(1/595)\n"
     ]
    }
   ],
   "source": [
    "# for _, row in lineages_df.loc[pd.isnull(lineages_df[\"Lineage_1\"])].reset_index(drop=True).iterrows():\n",
    "    \n",
    "#     fName = row[\"VCF_Dir\"] + \"/\" + row[\"File_Name\"]\n",
    "\n",
    "#     proc = subprocess.Popen(f\"fast-lineage-caller {fName} --noheader --count --pass\", shell=True, encoding='utf8', stdout=subprocess.PIPE)\n",
    "#     output = proc.communicate()[0]\n",
    "\n",
    "#     # output order: Isolate, coll2014, freschi2020, lipworth2019, shitikov2017, stucki2016 \n",
    "#     print(output.split(\"\\t\")[3])"
   ]
  },
  {
   "cell_type": "markdown",
   "id": "1dbab8ba-bbff-4bbc-addd-907655fc7a3a",
   "metadata": {},
   "source": [
    "# New Lineage Structure Correction\n",
    "\n",
    "Perhaps we should do a test of univariate association between all PCs individually and the phenotype and select those that have P-value <0.1 or something before including them in the model, as opposed to just including the top n PCs in terms of variance."
   ]
  },
  {
   "cell_type": "code",
   "execution_count": 37,
   "id": "643d0479-dc81-43fa-b019-3e208b47d277",
   "metadata": {},
   "outputs": [
    {
     "data": {
      "text/html": [
       "<div>\n",
       "<style scoped>\n",
       "    .dataframe tbody tr th:only-of-type {\n",
       "        vertical-align: middle;\n",
       "    }\n",
       "\n",
       "    .dataframe tbody tr th {\n",
       "        vertical-align: top;\n",
       "    }\n",
       "\n",
       "    .dataframe thead th {\n",
       "        text-align: right;\n",
       "    }\n",
       "</style>\n",
       "<table border=\"1\" class=\"dataframe\">\n",
       "  <thead>\n",
       "    <tr style=\"text-align: right;\">\n",
       "      <th></th>\n",
       "      <th>Lineage</th>\n",
       "      <th>position</th>\n",
       "      <th>allele_change</th>\n",
       "      <th>tag</th>\n",
       "    </tr>\n",
       "  </thead>\n",
       "  <tbody>\n",
       "    <tr>\n",
       "      <th>11</th>\n",
       "      <td>2.2.1</td>\n",
       "      <td>797736</td>\n",
       "      <td>C/T</td>\n",
       "      <td>coll2014</td>\n",
       "    </tr>\n",
       "    <tr>\n",
       "      <th>12</th>\n",
       "      <td>2.2.1.1</td>\n",
       "      <td>4248115</td>\n",
       "      <td>C/T</td>\n",
       "      <td>coll2014</td>\n",
       "    </tr>\n",
       "    <tr>\n",
       "      <th>13</th>\n",
       "      <td>2.2.1.2</td>\n",
       "      <td>3836274</td>\n",
       "      <td>G/A</td>\n",
       "      <td>coll2014</td>\n",
       "    </tr>\n",
       "  </tbody>\n",
       "</table>\n",
       "</div>"
      ],
      "text/plain": [
       "    Lineage  position allele_change       tag\n",
       "11    2.2.1    797736           C/T  coll2014\n",
       "12  2.2.1.1   4248115           C/T  coll2014\n",
       "13  2.2.1.2   3836274           G/A  coll2014"
      ]
     },
     "execution_count": 37,
     "metadata": {},
     "output_type": "execute_result"
    }
   ],
   "source": [
    "coll2014 = pd.read_csv(\"data/coll2014_SNP_scheme.tsv\", sep=\"\\t\")\n",
    "coll2014[\"#lineage\"] = coll2014[\"#lineage\"].str.replace(\"lineage\", \"\")\n",
    "coll2014.rename(columns={\"#lineage\": \"Lineage\"}, inplace=True)\n",
    "\n",
    "coll2014.query(\"Lineage.str.startswith('2.2.1')\")"
   ]
  },
  {
   "cell_type": "code",
   "execution_count": 38,
   "id": "2d8ee4c2-f6c3-4bea-afb0-b91cd8f92979",
   "metadata": {},
   "outputs": [
    {
     "name": "stdout",
     "output_type": "stream",
     "text": [
      "16843 15650\n"
     ]
    }
   ],
   "source": [
    "# minor allele counts dataframe for all samples\n",
    "minor_allele_counts = pd.read_pickle(\"data/minor_allele_counts.pkl\")\n",
    "\n",
    "L2_samples = minor_allele_counts.loc[minor_allele_counts[coll2014.set_index(\"Lineage\").loc[\"2\", \"position\"]]==1].index.values\n",
    "L221_samples = minor_allele_counts.loc[minor_allele_counts[coll2014.set_index(\"Lineage\").loc[\"2.2.1\", \"position\"]] == 1].index.values\n",
    "print(len(L2_samples), len(L221_samples))"
   ]
  },
  {
   "cell_type": "code",
   "execution_count": 45,
   "id": "1c507cc5-9a5a-4b37-89a0-f081fad4d505",
   "metadata": {},
   "outputs": [],
   "source": [
    "model_matrix.query(\"index in @L221_samples\").to_pickle(os.path.join(analysis_dir, \"Bedaquiline/BINARY/tiers=1/phenos=WHO/dropAF_noSyn_unpooled/model_matrix_L2.2.1.pkl\"))"
   ]
  },
  {
   "cell_type": "code",
   "execution_count": null,
   "id": "e03eed5a-8e81-4931-81d0-9533dac95469",
   "metadata": {},
   "outputs": [],
   "source": []
  },
  {
   "cell_type": "code",
   "execution_count": null,
   "id": "fb67c7a9-87e7-40bf-aaee-ed931baa7b09",
   "metadata": {},
   "outputs": [],
   "source": []
  },
  {
   "cell_type": "code",
   "execution_count": null,
   "id": "adbdc7db-433c-4aee-a431-dcba7bbeb78a",
   "metadata": {},
   "outputs": [],
   "source": []
  },
  {
   "cell_type": "code",
   "execution_count": 42,
   "id": "4f265c29-c024-4fe7-8e28-57df804439e8",
   "metadata": {},
   "outputs": [],
   "source": [
    "pheno_category_lst = [\"WHO\"]\n",
    "drug = \"Bedaquiline\"\n",
    "\n",
    "if \"ALL\" in pheno_category_lst:\n",
    "    model_matrix = pd.read_pickle(os.path.join(analysis_dir, \"Bedaquiline/BINARY/tiers=1/phenos=ALL/dropAF_noSyn_unpooled/model_matrix.pkl\"))\n",
    "else:\n",
    "    model_matrix = pd.read_pickle(os.path.join(analysis_dir, \"Bedaquiline/BINARY/tiers=1/phenos=WHO/dropAF_noSyn_unpooled/model_matrix.pkl\"))\n",
    "    \n",
    "# print(model_matrix.shape)\n",
    "# df_phenos = pd.read_csv(os.path.join(analysis_dir, drug, \"phenos_binary.csv\")).set_index(\"sample_id\").query(\"phenotypic_category in @pheno_category_lst\")\n",
    "# eigenvec_df = pd.read_csv(\"data/eigenvec_20PC.csv\").set_index(\"sample_id\")\n",
    "\n",
    "# # model_matrix = model_matrix.merge(minor_allele_counts, left_index=True, right_index=True)\n",
    "# model_matrix = model_matrix.merge(eigenvec_df, left_index=True, right_index=True)\n",
    "\n",
    "# # keep only samples (rows) that are in matrix and use loc with indices to ensure they are in the same order\n",
    "# df_phenos = df_phenos.loc[model_matrix.index]\n",
    "# print(df_phenos.shape)\n",
    "\n",
    "# # check that the sample ordering is the same in the genotype and phenotype matrices\n",
    "# assert sum(model_matrix.index != df_phenos.index) == 0"
   ]
  },
  {
   "cell_type": "code",
   "execution_count": 24,
   "id": "79b12de6-5a59-4553-9d58-445afdc7bd59",
   "metadata": {},
   "outputs": [
    {
     "name": "stdout",
     "output_type": "stream",
     "text": [
      "(4817, 641) (5432, 641)\n"
     ]
    }
   ],
   "source": [
    "L221_BDQ = model_matrix.query(\"index in @L221_samples\")\n",
    "df_phenos_L221 = df_phenos.loc[L221_BDQ.index]\n",
    "\n",
    "L2_BDQ = model_matrix.query(\"index in @L2_samples\")\n",
    "df_phenos_L2 = df_phenos.loc[L2_BDQ.index]\n",
    "\n",
    "# check that the sample ordering is the same in the genotype and phenotype matrices\n",
    "assert sum(L221_BDQ.index != df_phenos_L221.index) == 0\n",
    "assert sum(L2_BDQ.index != df_phenos_L2.index) == 0\n",
    "print(L221_BDQ.shape, L2_BDQ.shape)"
   ]
  },
  {
   "cell_type": "code",
   "execution_count": 25,
   "id": "49cf57ee-833f-47e9-816d-1c5b68bfd3fd",
   "metadata": {},
   "outputs": [
    {
     "data": {
      "text/html": [
       "<div>\n",
       "<style scoped>\n",
       "    .dataframe tbody tr th:only-of-type {\n",
       "        vertical-align: middle;\n",
       "    }\n",
       "\n",
       "    .dataframe tbody tr th {\n",
       "        vertical-align: top;\n",
       "    }\n",
       "\n",
       "    .dataframe thead th {\n",
       "        text-align: right;\n",
       "    }\n",
       "</style>\n",
       "<table border=\"1\" class=\"dataframe\">\n",
       "  <thead>\n",
       "    <tr style=\"text-align: right;\">\n",
       "      <th></th>\n",
       "      <th></th>\n",
       "      <th>phenotype</th>\n",
       "    </tr>\n",
       "    <tr>\n",
       "      <th>mmpS5_c.-74G&gt;T</th>\n",
       "      <th>phenotype</th>\n",
       "      <th></th>\n",
       "    </tr>\n",
       "  </thead>\n",
       "  <tbody>\n",
       "    <tr>\n",
       "      <th rowspan=\"2\" valign=\"top\">0.0</th>\n",
       "      <th>0</th>\n",
       "      <td>4518</td>\n",
       "    </tr>\n",
       "    <tr>\n",
       "      <th>1</th>\n",
       "      <td>168</td>\n",
       "    </tr>\n",
       "    <tr>\n",
       "      <th rowspan=\"2\" valign=\"top\">1.0</th>\n",
       "      <th>0</th>\n",
       "      <td>94</td>\n",
       "    </tr>\n",
       "    <tr>\n",
       "      <th>1</th>\n",
       "      <td>37</td>\n",
       "    </tr>\n",
       "  </tbody>\n",
       "</table>\n",
       "</div>"
      ],
      "text/plain": [
       "                          phenotype\n",
       "mmpS5_c.-74G>T phenotype           \n",
       "0.0            0               4518\n",
       "               1                168\n",
       "1.0            0                 94\n",
       "               1                 37"
      ]
     },
     "execution_count": 25,
     "metadata": {},
     "output_type": "execute_result"
    }
   ],
   "source": [
    "pd.DataFrame(L221_BDQ.merge(df_phenos_L221, left_index=True, right_index=True).groupby([\"mmpS5_c.-74G>T\", \"phenotype\"])[\"phenotype\"].count())"
   ]
  },
  {
   "cell_type": "code",
   "execution_count": 332,
   "id": "f77b437f-652c-4975-b4b2-7dca7b56a166",
   "metadata": {},
   "outputs": [
    {
     "name": "stdout",
     "output_type": "stream",
     "text": [
      "PPV = 0.92\n",
      "NPV = 0.82\n",
      "Sens = 0.23\n",
      "Spec = 0.99\n"
     ]
    }
   ],
   "source": [
    "TP = 36\n",
    "FP = 3\n",
    "TN = 550\n",
    "FN = 118\n",
    "\n",
    "# probability that an isolate WITH mutation is RESISTANT\n",
    "print(f\"PPV = {np.round(TP / (TP + FP), 2)}\")\n",
    "\n",
    "# probability that an isolate WITHOUT mutation is SUSCEPTIBLE\n",
    "print(f\"NPV = {np.round(TN / (TN + FN), 2)}\")\n",
    "\n",
    "# probability that a RESISTANT isolate HAS the mutation\n",
    "print(f\"Sens = {np.round(TP / (TP + FN), 2)}\")\n",
    "\n",
    "# probability that a SUSCEPTIBLE isolate DOES NOT HAVE the mutation\n",
    "print(f\"Spec = {np.round(TN / (TN + FP), 2)}\")"
   ]
  },
  {
   "cell_type": "code",
   "execution_count": 333,
   "id": "30525e69-caae-400d-afc7-3d38c96db28b",
   "metadata": {},
   "outputs": [
    {
     "name": "stdout",
     "output_type": "stream",
     "text": [
      "PPV = 0.28\n",
      "NPV = 0.96\n",
      "Sens = 0.18\n",
      "Spec = 0.98\n"
     ]
    }
   ],
   "source": [
    "TP = 37\n",
    "FP = 94\n",
    "TN = 4518\n",
    "FN = 168\n",
    "\n",
    "# probability that an isolate WITH mutation is RESISTANT\n",
    "print(f\"PPV = {np.round(TP / (TP + FP), 2)}\")\n",
    "\n",
    "# probability that an isolate WITHOUT mutation is SUSCEPTIBLE\n",
    "print(f\"NPV = {np.round(TN / (TN + FN), 2)}\")\n",
    "\n",
    "# probability that a RESISTANT isolate HAS the mutation\n",
    "print(f\"Sens = {np.round(TP / (TP + FN), 2)}\")\n",
    "\n",
    "# probability that a SUSCEPTIBLE isolate DOES NOT HAVE the mutation\n",
    "print(f\"Spec = {np.round(TN / (TN + FP), 2)}\")"
   ]
  },
  {
   "cell_type": "code",
   "execution_count": 27,
   "id": "190e58ac-5b99-4c59-b144-fa098a797866",
   "metadata": {},
   "outputs": [
    {
     "data": {
      "text/plain": [
       "0.2824427480916031"
      ]
     },
     "execution_count": 27,
     "metadata": {},
     "output_type": "execute_result"
    }
   ],
   "source": [
    "37/(37+94)"
   ]
  },
  {
   "cell_type": "code",
   "execution_count": null,
   "id": "c6c7cdee-3618-4d6d-8b1f-aef8228a2b28",
   "metadata": {},
   "outputs": [],
   "source": []
  },
  {
   "cell_type": "code",
   "execution_count": null,
   "id": "ce4fcea8-0bc2-449c-8b36-a28863646e79",
   "metadata": {},
   "outputs": [],
   "source": []
  },
  {
   "cell_type": "code",
   "execution_count": 368,
   "id": "806c749b-e959-40e0-a648-ab707ac5dc96",
   "metadata": {},
   "outputs": [
    {
     "name": "stdout",
     "output_type": "stream",
     "text": [
      "(12580, 7)\n",
      "(4167, 571) (4167, 6)\n"
     ]
    }
   ],
   "source": [
    "df_mic =  pd.read_csv(os.path.join(analysis_dir, drug, \"phenos_mic.csv\"))\n",
    "print(df_mic.shape)\n",
    "\n",
    "def process_mics(df_phenos):\n",
    "    \n",
    "    # general hierarchy: solid > liquid > plates\n",
    "    # MABA, Frozen Broth Microdilution Plate (PMID31969421), UKMYC5, UKMYC6, and REMA are plates\n",
    "    # 7H9 is a liquid media\n",
    "    media_lst = [\"7H10\", \"LJ\", \"7H11\", \"MGIT\", \"MODS\", \"BACTEC\", \"7H9\", \"Frozen Broth Microdilution Plate (PMID31969421)\", \"UKMYC6\", \"UKMYC5\", \n",
    "                 \"REMA\", \"MYCOTB\", \"MABA\", \"MABA24\", \"MABA48\", \"non-colourmetric\", \"M24 BMD\"]\n",
    "\n",
    "    media_hierarchy = dict(zip(media_lst, np.arange(len(media_lst))+1))\n",
    "    \n",
    "    # check that no media are missing from either\n",
    "    if len(set(df_phenos.medium.values) - set(media_hierarchy.keys())) > 0:\n",
    "        raise ValueError(f\"{set(df_phenos.medium.values).symmetric_difference(set(media_hierarchy.keys()))} media are different between df_phenos and media_hierarchy\")\n",
    "    # add media hierarchy to dataframe, sort so that the highest (1) positions come first, then drop duplicates so that every sample has a single MIC\n",
    "    else:\n",
    "        df_phenos[\"media_hierarchy_pos\"] = df_phenos[\"medium\"].map(media_hierarchy)\n",
    "        df_phenos = df_phenos.sort_values(\"media_hierarchy_pos\", ascending=True).drop_duplicates([\"sample_id\", \"mic_value\"], keep=\"first\").reset_index(drop=True)\n",
    "        del df_phenos[\"media_hierarchy_pos\"]\n",
    "        assert len(df_phenos) == len(df_phenos[\"sample_id\"].unique())\n",
    "        \n",
    "    return df_phenos\n",
    "\n",
    "df_mic = process_mics(df_mic)\n",
    "\n",
    "model_matrix_MIC = pd.read_pickle(os.path.join(analysis_dir, \"Bedaquiline/MIC/tiers=1/dropAF_noSyn_unpooled/model_matrix.pkl\")).merge(eigenvec_df, left_index=True, right_index=True)\n",
    "model_matrix_MIC = model_matrix_MIC.query(\"index in @L221_samples\")\n",
    "\n",
    "df_mic = df_mic.set_index(\"sample_id\").loc[model_matrix_MIC.index, :]\n",
    "print(model_matrix_MIC.shape, df_mic.shape)"
   ]
  },
  {
   "cell_type": "code",
   "execution_count": 373,
   "id": "95221fee-79d7-4628-914b-a461248c9678",
   "metadata": {},
   "outputs": [
    {
     "name": "stdout",
     "output_type": "stream",
     "text": [
      "4167 samples and 571 variables in the model\n",
      "           mutation      coef\n",
      "440  mmpS5_c.-74G>T  0.008736\n"
     ]
    }
   ],
   "source": [
    "res_mic = fit_single_regression(model_matrix_MIC, df_mic, binary=False)"
   ]
  },
  {
   "cell_type": "code",
   "execution_count": 375,
   "id": "faebdf47-724a-406f-b839-64fc0036b646",
   "metadata": {},
   "outputs": [
    {
     "data": {
      "text/html": [
       "<div>\n",
       "<style scoped>\n",
       "    .dataframe tbody tr th:only-of-type {\n",
       "        vertical-align: middle;\n",
       "    }\n",
       "\n",
       "    .dataframe tbody tr th {\n",
       "        vertical-align: top;\n",
       "    }\n",
       "\n",
       "    .dataframe thead th {\n",
       "        text-align: right;\n",
       "    }\n",
       "</style>\n",
       "<table border=\"1\" class=\"dataframe\">\n",
       "  <thead>\n",
       "    <tr style=\"text-align: right;\">\n",
       "      <th></th>\n",
       "      <th>mutation</th>\n",
       "      <th>coef</th>\n",
       "      <th>coef_LB</th>\n",
       "      <th>coef_UB</th>\n",
       "      <th>pval</th>\n",
       "      <th>neutral_pval</th>\n",
       "      <th>BH_pval</th>\n",
       "      <th>Bonferroni_pval</th>\n",
       "      <th>neutral_BH_pval</th>\n",
       "      <th>neutral_Bonferroni_pval</th>\n",
       "      <th>confidence</th>\n",
       "    </tr>\n",
       "  </thead>\n",
       "  <tbody>\n",
       "    <tr>\n",
       "      <th>440</th>\n",
       "      <td>mmpS5_c.-74G&gt;T</td>\n",
       "      <td>0.008736</td>\n",
       "      <td>-0.0413</td>\n",
       "      <td>0.061169</td>\n",
       "      <td>0.26</td>\n",
       "      <td>0.4</td>\n",
       "      <td>1.0</td>\n",
       "      <td>1.0</td>\n",
       "      <td>0.490129</td>\n",
       "      <td>1.0</td>\n",
       "      <td>3) Uncertain significance</td>\n",
       "    </tr>\n",
       "  </tbody>\n",
       "</table>\n",
       "</div>"
      ],
      "text/plain": [
       "           mutation      coef  coef_LB   coef_UB  pval  neutral_pval  BH_pval  \\\n",
       "440  mmpS5_c.-74G>T  0.008736  -0.0413  0.061169  0.26           0.4      1.0   \n",
       "\n",
       "     Bonferroni_pval  neutral_BH_pval  neutral_Bonferroni_pval  \\\n",
       "440              1.0         0.490129                      1.0   \n",
       "\n",
       "                    confidence  \n",
       "440  3) Uncertain significance  "
      ]
     },
     "execution_count": 375,
     "metadata": {},
     "output_type": "execute_result"
    }
   ],
   "source": [
    "res_mic.query(\"mutation=='mmpS5_c.-74G>T'\")"
   ]
  },
  {
   "cell_type": "code",
   "execution_count": null,
   "id": "01d6062b-7122-4295-8672-068deae53582",
   "metadata": {},
   "outputs": [],
   "source": []
  },
  {
   "cell_type": "code",
   "execution_count": 309,
   "id": "ec87ad91-83dd-43e4-a89f-d3c60ac6b66f",
   "metadata": {},
   "outputs": [
    {
     "data": {
      "text/plain": [
       "mmpS5_c.-74G>T\n",
       "0.0    0.081494\n",
       "1.0    0.282443\n",
       "Name: phenotype, dtype: float64"
      ]
     },
     "execution_count": 309,
     "metadata": {},
     "output_type": "execute_result"
    }
   ],
   "source": [
    "L2_BDQ.merge(df_phenos_L2, left_index=True, right_index=True).groupby(\"mmpS5_c.-74G>T\")[\"phenotype\"].mean()"
   ]
  },
  {
   "cell_type": "code",
   "execution_count": 302,
   "id": "a1b24d12-a306-4ff6-87db-5dc01a738563",
   "metadata": {},
   "outputs": [
    {
     "data": {
      "text/plain": [
       "array([0.])"
      ]
     },
     "execution_count": 302,
     "metadata": {},
     "output_type": "execute_result"
    }
   ],
   "source": [
    "# mmpS5_c.-74G>T not present in any non-L2.2.1 samples\n",
    "model_matrix.query(\"index not in @L221_samples\")[\"mmpS5_c.-74G>T\"].unique()"
   ]
  },
  {
   "cell_type": "code",
   "execution_count": null,
   "id": "d795447f-97c5-4aaa-b4b2-56d22426f29d",
   "metadata": {},
   "outputs": [],
   "source": []
  },
  {
   "cell_type": "code",
   "execution_count": null,
   "id": "e58f95a1-f1c8-4646-b513-c535ed7fe9d2",
   "metadata": {},
   "outputs": [],
   "source": []
  },
  {
   "cell_type": "code",
   "execution_count": null,
   "id": "5bef79f2-8949-4f7d-a644-0a5a7f513f6f",
   "metadata": {},
   "outputs": [],
   "source": []
  },
  {
   "cell_type": "code",
   "execution_count": 282,
   "id": "565971a8-7ef9-4855-8b7e-a2d0a9521579",
   "metadata": {},
   "outputs": [
    {
     "name": "stdout",
     "output_type": "stream",
     "text": [
      "707 samples and 243 variables in the model\n",
      "Regularization parameter: 0.1\n",
      "           mutation      coef\n",
      "193  mmpS5_c.-74G>T  0.633772\n"
     ]
    }
   ],
   "source": [
    "L221_res = fit_single_regression(L221_BDQ_WHO, df_phenos_L221, binary=True)"
   ]
  },
  {
   "cell_type": "code",
   "execution_count": 285,
   "id": "c80cf1cc-11f8-4780-a6b4-2ab28435c360",
   "metadata": {},
   "outputs": [
    {
     "data": {
      "text/html": [
       "<div>\n",
       "<style scoped>\n",
       "    .dataframe tbody tr th:only-of-type {\n",
       "        vertical-align: middle;\n",
       "    }\n",
       "\n",
       "    .dataframe tbody tr th {\n",
       "        vertical-align: top;\n",
       "    }\n",
       "\n",
       "    .dataframe thead th {\n",
       "        text-align: right;\n",
       "    }\n",
       "</style>\n",
       "<table border=\"1\" class=\"dataframe\">\n",
       "  <thead>\n",
       "    <tr style=\"text-align: right;\">\n",
       "      <th></th>\n",
       "      <th>mutation</th>\n",
       "      <th>coef</th>\n",
       "      <th>coef_LB</th>\n",
       "      <th>coef_UB</th>\n",
       "      <th>pval</th>\n",
       "      <th>neutral_pval</th>\n",
       "      <th>BH_pval</th>\n",
       "      <th>Bonferroni_pval</th>\n",
       "      <th>neutral_BH_pval</th>\n",
       "      <th>neutral_Bonferroni_pval</th>\n",
       "      <th>Odds_Ratio</th>\n",
       "      <th>OR_LB</th>\n",
       "      <th>OR_UB</th>\n",
       "      <th>confidence</th>\n",
       "    </tr>\n",
       "  </thead>\n",
       "  <tbody>\n",
       "    <tr>\n",
       "      <th>193</th>\n",
       "      <td>mmpS5_c.-74G&gt;T</td>\n",
       "      <td>0.633772</td>\n",
       "      <td>0.468656</td>\n",
       "      <td>0.836398</td>\n",
       "      <td>0.0</td>\n",
       "      <td>1.0</td>\n",
       "      <td>0.0</td>\n",
       "      <td>0.0</td>\n",
       "      <td>1.0</td>\n",
       "      <td>1.0</td>\n",
       "      <td>1.884706</td>\n",
       "      <td>1.597846</td>\n",
       "      <td>2.308039</td>\n",
       "      <td>3) Uncertain significance</td>\n",
       "    </tr>\n",
       "  </tbody>\n",
       "</table>\n",
       "</div>"
      ],
      "text/plain": [
       "           mutation      coef   coef_LB   coef_UB  pval  neutral_pval  \\\n",
       "193  mmpS5_c.-74G>T  0.633772  0.468656  0.836398   0.0           1.0   \n",
       "\n",
       "     BH_pval  Bonferroni_pval  neutral_BH_pval  neutral_Bonferroni_pval  \\\n",
       "193      0.0              0.0              1.0                      1.0   \n",
       "\n",
       "     Odds_Ratio     OR_LB     OR_UB                 confidence  \n",
       "193    1.884706  1.597846  2.308039  3) Uncertain significance  "
      ]
     },
     "execution_count": 285,
     "metadata": {},
     "output_type": "execute_result"
    }
   ],
   "source": [
    "L221_res.query(\"mutation=='mmpS5_c.-74G>T'\")"
   ]
  },
  {
   "cell_type": "code",
   "execution_count": null,
   "id": "502ec108-981b-499c-a1a6-d1ba680d55cc",
   "metadata": {},
   "outputs": [],
   "source": [
    "L2_res = fit_single_regression(L2_BDQ_WHO, df_phenos_L2, binary=True)"
   ]
  },
  {
   "cell_type": "code",
   "execution_count": null,
   "id": "5cfc9789-29b8-4240-8801-4feddf2052e9",
   "metadata": {},
   "outputs": [],
   "source": []
  },
  {
   "cell_type": "code",
   "execution_count": null,
   "id": "a7c4be6b-8510-4ea3-a874-d85118cd48e1",
   "metadata": {},
   "outputs": [],
   "source": []
  },
  {
   "cell_type": "code",
   "execution_count": null,
   "id": "14b6a009-d7df-4804-984f-3d42f8716e34",
   "metadata": {},
   "outputs": [],
   "source": []
  },
  {
   "cell_type": "code",
   "execution_count": null,
   "id": "c6f45241-071b-47b8-a2cd-c4aa7574e5c4",
   "metadata": {},
   "outputs": [],
   "source": []
  },
  {
   "cell_type": "code",
   "execution_count": 372,
   "id": "5636dd23-8342-4fda-92f3-0dd129369083",
   "metadata": {},
   "outputs": [],
   "source": [
    "def fit_single_regression(matrix, df_phenos, binary):\n",
    "        \n",
    "    # scale inputs\n",
    "    scaler = StandardScaler()\n",
    "    X = scaler.fit_transform(matrix.values)\n",
    "\n",
    "    # binary vs. quant (MIC) phenotypes\n",
    "    if binary:\n",
    "        y = df_phenos[\"phenotype\"].values\n",
    "        assert len(np.unique(y)) == 2\n",
    "    else:\n",
    "        y = np.log(df_phenos[\"mic_value\"].values)\n",
    "\n",
    "    if len(y) != X.shape[0]:\n",
    "        raise ValueError(f\"Shapes of model inputs {X.shape} and outputs {len(y)} are incompatible\")\n",
    "\n",
    "    print(f\"{X.shape[0]} samples and {X.shape[1]} variables in the model\")\n",
    "\n",
    "    if binary:\n",
    "        model = LogisticRegressionCV(Cs=np.logspace(-6, 6, 13), \n",
    "                                     cv=5,\n",
    "                                     penalty='l2',\n",
    "                                     max_iter=10000, \n",
    "                                     multi_class='ovr',\n",
    "                                     scoring='neg_log_loss',\n",
    "                                     class_weight='balanced'\n",
    "                                    )\n",
    "    \n",
    "    else:\n",
    "        model = RidgeCV(alphas=np.logspace(-6, 6, 13),\n",
    "                            cv=5,\n",
    "                            scoring='neg_root_mean_squared_error'\n",
    "                           )\n",
    "\n",
    "    model.fit(X, y)\n",
    "    coef_df = pd.DataFrame({\"mutation\": matrix.columns, \"coef\": np.squeeze(model.coef_)})\n",
    "    print(coef_df.query(\"mutation=='mmpS5_c.-74G>T'\"))\n",
    "    \n",
    "    num_bootstrap = 100\n",
    "    drug_WHO_abbr = \"BDQ\"\n",
    "    alpha = 0.05\n",
    "\n",
    "    permute_df = perform_permutation_test(model, X, y, num_bootstrap, binary=binary)\n",
    "    permute_df.columns = matrix.columns\n",
    "\n",
    "    bootstrap_df = perform_bootstrapping(model, X, y, num_bootstrap, binary=binary, save_summary_stats=False)\n",
    "    bootstrap_df.columns = matrix.columns\n",
    "\n",
    "    final_df = get_coef_and_confidence_intervals(alpha, binary, who_variants_combined, drug_WHO_abbr, coef_df, permute_df, bootstrap_df)\n",
    "    return final_df"
   ]
  },
  {
   "cell_type": "code",
   "execution_count": 247,
   "id": "92ee8f76-b401-40af-af5f-a7ce0a673ec7",
   "metadata": {},
   "outputs": [
    {
     "data": {
      "text/plain": [
       "0.21782178217821782"
      ]
     },
     "execution_count": 247,
     "metadata": {},
     "output_type": "execute_result"
    }
   ],
   "source": []
  },
  {
   "cell_type": "code",
   "execution_count": 229,
   "id": "393075fe-d90d-4b45-b843-5899c1fbfd93",
   "metadata": {},
   "outputs": [
    {
     "data": {
      "text/html": [
       "<div>\n",
       "<style scoped>\n",
       "    .dataframe tbody tr th:only-of-type {\n",
       "        vertical-align: middle;\n",
       "    }\n",
       "\n",
       "    .dataframe tbody tr th {\n",
       "        vertical-align: top;\n",
       "    }\n",
       "\n",
       "    .dataframe thead th {\n",
       "        text-align: right;\n",
       "    }\n",
       "</style>\n",
       "<table border=\"1\" class=\"dataframe\">\n",
       "  <thead>\n",
       "    <tr style=\"text-align: right;\">\n",
       "      <th>position</th>\n",
       "      <th>371</th>\n",
       "      <th>1302</th>\n",
       "      <th>1718</th>\n",
       "      <th>1849</th>\n",
       "      <th>1977</th>\n",
       "      <th>2532</th>\n",
       "      <th>3446</th>\n",
       "      <th>4086</th>\n",
       "      <th>9841</th>\n",
       "      <th>9944</th>\n",
       "      <th>...</th>\n",
       "      <th>4408899</th>\n",
       "      <th>4408920</th>\n",
       "      <th>4408923</th>\n",
       "      <th>4409660</th>\n",
       "      <th>4409954</th>\n",
       "      <th>4410386</th>\n",
       "      <th>4410487</th>\n",
       "      <th>4411016</th>\n",
       "      <th>4411400</th>\n",
       "      <th>4411501</th>\n",
       "    </tr>\n",
       "    <tr>\n",
       "      <th>sample_id</th>\n",
       "      <th></th>\n",
       "      <th></th>\n",
       "      <th></th>\n",
       "      <th></th>\n",
       "      <th></th>\n",
       "      <th></th>\n",
       "      <th></th>\n",
       "      <th></th>\n",
       "      <th></th>\n",
       "      <th></th>\n",
       "      <th></th>\n",
       "      <th></th>\n",
       "      <th></th>\n",
       "      <th></th>\n",
       "      <th></th>\n",
       "      <th></th>\n",
       "      <th></th>\n",
       "      <th></th>\n",
       "      <th></th>\n",
       "      <th></th>\n",
       "      <th></th>\n",
       "    </tr>\n",
       "  </thead>\n",
       "  <tbody>\n",
       "    <tr>\n",
       "      <th>809</th>\n",
       "      <td>0</td>\n",
       "      <td>0</td>\n",
       "      <td>0</td>\n",
       "      <td>0</td>\n",
       "      <td>0</td>\n",
       "      <td>1</td>\n",
       "      <td>0</td>\n",
       "      <td>0</td>\n",
       "      <td>0</td>\n",
       "      <td>0</td>\n",
       "      <td>...</td>\n",
       "      <td>0</td>\n",
       "      <td>1</td>\n",
       "      <td>0</td>\n",
       "      <td>0</td>\n",
       "      <td>0</td>\n",
       "      <td>1</td>\n",
       "      <td>0</td>\n",
       "      <td>1</td>\n",
       "      <td>1</td>\n",
       "      <td>0</td>\n",
       "    </tr>\n",
       "    <tr>\n",
       "      <th>812</th>\n",
       "      <td>0</td>\n",
       "      <td>0</td>\n",
       "      <td>0</td>\n",
       "      <td>0</td>\n",
       "      <td>0</td>\n",
       "      <td>1</td>\n",
       "      <td>0</td>\n",
       "      <td>0</td>\n",
       "      <td>0</td>\n",
       "      <td>0</td>\n",
       "      <td>...</td>\n",
       "      <td>0</td>\n",
       "      <td>1</td>\n",
       "      <td>0</td>\n",
       "      <td>0</td>\n",
       "      <td>0</td>\n",
       "      <td>1</td>\n",
       "      <td>0</td>\n",
       "      <td>1</td>\n",
       "      <td>1</td>\n",
       "      <td>0</td>\n",
       "    </tr>\n",
       "    <tr>\n",
       "      <th>815</th>\n",
       "      <td>0</td>\n",
       "      <td>0</td>\n",
       "      <td>0</td>\n",
       "      <td>0</td>\n",
       "      <td>0</td>\n",
       "      <td>1</td>\n",
       "      <td>0</td>\n",
       "      <td>0</td>\n",
       "      <td>0</td>\n",
       "      <td>0</td>\n",
       "      <td>...</td>\n",
       "      <td>0</td>\n",
       "      <td>1</td>\n",
       "      <td>0</td>\n",
       "      <td>0</td>\n",
       "      <td>0</td>\n",
       "      <td>1</td>\n",
       "      <td>0</td>\n",
       "      <td>1</td>\n",
       "      <td>0</td>\n",
       "      <td>0</td>\n",
       "    </tr>\n",
       "    <tr>\n",
       "      <th>816</th>\n",
       "      <td>0</td>\n",
       "      <td>0</td>\n",
       "      <td>0</td>\n",
       "      <td>0</td>\n",
       "      <td>0</td>\n",
       "      <td>1</td>\n",
       "      <td>0</td>\n",
       "      <td>0</td>\n",
       "      <td>0</td>\n",
       "      <td>0</td>\n",
       "      <td>...</td>\n",
       "      <td>0</td>\n",
       "      <td>1</td>\n",
       "      <td>0</td>\n",
       "      <td>0</td>\n",
       "      <td>0</td>\n",
       "      <td>1</td>\n",
       "      <td>0</td>\n",
       "      <td>1</td>\n",
       "      <td>1</td>\n",
       "      <td>0</td>\n",
       "    </tr>\n",
       "    <tr>\n",
       "      <th>817</th>\n",
       "      <td>0</td>\n",
       "      <td>0</td>\n",
       "      <td>0</td>\n",
       "      <td>0</td>\n",
       "      <td>0</td>\n",
       "      <td>1</td>\n",
       "      <td>0</td>\n",
       "      <td>0</td>\n",
       "      <td>0</td>\n",
       "      <td>0</td>\n",
       "      <td>...</td>\n",
       "      <td>0</td>\n",
       "      <td>1</td>\n",
       "      <td>0</td>\n",
       "      <td>0</td>\n",
       "      <td>0</td>\n",
       "      <td>1</td>\n",
       "      <td>0</td>\n",
       "      <td>1</td>\n",
       "      <td>1</td>\n",
       "      <td>0</td>\n",
       "    </tr>\n",
       "    <tr>\n",
       "      <th>...</th>\n",
       "      <td>...</td>\n",
       "      <td>...</td>\n",
       "      <td>...</td>\n",
       "      <td>...</td>\n",
       "      <td>...</td>\n",
       "      <td>...</td>\n",
       "      <td>...</td>\n",
       "      <td>...</td>\n",
       "      <td>...</td>\n",
       "      <td>...</td>\n",
       "      <td>...</td>\n",
       "      <td>...</td>\n",
       "      <td>...</td>\n",
       "      <td>...</td>\n",
       "      <td>...</td>\n",
       "      <td>...</td>\n",
       "      <td>...</td>\n",
       "      <td>...</td>\n",
       "      <td>...</td>\n",
       "      <td>...</td>\n",
       "      <td>...</td>\n",
       "    </tr>\n",
       "    <tr>\n",
       "      <th>946362</th>\n",
       "      <td>0</td>\n",
       "      <td>0</td>\n",
       "      <td>1</td>\n",
       "      <td>0</td>\n",
       "      <td>0</td>\n",
       "      <td>1</td>\n",
       "      <td>0</td>\n",
       "      <td>0</td>\n",
       "      <td>0</td>\n",
       "      <td>0</td>\n",
       "      <td>...</td>\n",
       "      <td>0</td>\n",
       "      <td>1</td>\n",
       "      <td>0</td>\n",
       "      <td>0</td>\n",
       "      <td>0</td>\n",
       "      <td>1</td>\n",
       "      <td>0</td>\n",
       "      <td>1</td>\n",
       "      <td>0</td>\n",
       "      <td>0</td>\n",
       "    </tr>\n",
       "    <tr>\n",
       "      <th>946364</th>\n",
       "      <td>0</td>\n",
       "      <td>0</td>\n",
       "      <td>0</td>\n",
       "      <td>1</td>\n",
       "      <td>0</td>\n",
       "      <td>0</td>\n",
       "      <td>0</td>\n",
       "      <td>0</td>\n",
       "      <td>0</td>\n",
       "      <td>0</td>\n",
       "      <td>...</td>\n",
       "      <td>0</td>\n",
       "      <td>0</td>\n",
       "      <td>0</td>\n",
       "      <td>0</td>\n",
       "      <td>0</td>\n",
       "      <td>0</td>\n",
       "      <td>0</td>\n",
       "      <td>0</td>\n",
       "      <td>0</td>\n",
       "      <td>0</td>\n",
       "    </tr>\n",
       "    <tr>\n",
       "      <th>946365</th>\n",
       "      <td>0</td>\n",
       "      <td>0</td>\n",
       "      <td>0</td>\n",
       "      <td>0</td>\n",
       "      <td>0</td>\n",
       "      <td>0</td>\n",
       "      <td>0</td>\n",
       "      <td>0</td>\n",
       "      <td>0</td>\n",
       "      <td>0</td>\n",
       "      <td>...</td>\n",
       "      <td>0</td>\n",
       "      <td>0</td>\n",
       "      <td>1</td>\n",
       "      <td>0</td>\n",
       "      <td>0</td>\n",
       "      <td>0</td>\n",
       "      <td>0</td>\n",
       "      <td>0</td>\n",
       "      <td>0</td>\n",
       "      <td>0</td>\n",
       "    </tr>\n",
       "    <tr>\n",
       "      <th>946366</th>\n",
       "      <td>0</td>\n",
       "      <td>0</td>\n",
       "      <td>0</td>\n",
       "      <td>1</td>\n",
       "      <td>0</td>\n",
       "      <td>0</td>\n",
       "      <td>1</td>\n",
       "      <td>0</td>\n",
       "      <td>0</td>\n",
       "      <td>0</td>\n",
       "      <td>...</td>\n",
       "      <td>0</td>\n",
       "      <td>0</td>\n",
       "      <td>0</td>\n",
       "      <td>0</td>\n",
       "      <td>1</td>\n",
       "      <td>0</td>\n",
       "      <td>0</td>\n",
       "      <td>0</td>\n",
       "      <td>0</td>\n",
       "      <td>0</td>\n",
       "    </tr>\n",
       "    <tr>\n",
       "      <th>946367</th>\n",
       "      <td>0</td>\n",
       "      <td>0</td>\n",
       "      <td>0</td>\n",
       "      <td>1</td>\n",
       "      <td>0</td>\n",
       "      <td>0</td>\n",
       "      <td>0</td>\n",
       "      <td>0</td>\n",
       "      <td>0</td>\n",
       "      <td>0</td>\n",
       "      <td>...</td>\n",
       "      <td>0</td>\n",
       "      <td>0</td>\n",
       "      <td>0</td>\n",
       "      <td>0</td>\n",
       "      <td>0</td>\n",
       "      <td>0</td>\n",
       "      <td>0</td>\n",
       "      <td>0</td>\n",
       "      <td>0</td>\n",
       "      <td>0</td>\n",
       "    </tr>\n",
       "  </tbody>\n",
       "</table>\n",
       "<p>52567 rows × 6815 columns</p>\n",
       "</div>"
      ],
      "text/plain": [
       "position   371      1302     1718     1849     1977     2532     3446     \\\n",
       "sample_id                                                                  \n",
       "809              0        0        0        0        0        1        0   \n",
       "812              0        0        0        0        0        1        0   \n",
       "815              0        0        0        0        0        1        0   \n",
       "816              0        0        0        0        0        1        0   \n",
       "817              0        0        0        0        0        1        0   \n",
       "...            ...      ...      ...      ...      ...      ...      ...   \n",
       "946362           0        0        1        0        0        1        0   \n",
       "946364           0        0        0        1        0        0        0   \n",
       "946365           0        0        0        0        0        0        0   \n",
       "946366           0        0        0        1        0        0        1   \n",
       "946367           0        0        0        1        0        0        0   \n",
       "\n",
       "position   4086     9841     9944     ...  4408899  4408920  4408923  4409660  \\\n",
       "sample_id                             ...                                       \n",
       "809              0        0        0  ...        0        1        0        0   \n",
       "812              0        0        0  ...        0        1        0        0   \n",
       "815              0        0        0  ...        0        1        0        0   \n",
       "816              0        0        0  ...        0        1        0        0   \n",
       "817              0        0        0  ...        0        1        0        0   \n",
       "...            ...      ...      ...  ...      ...      ...      ...      ...   \n",
       "946362           0        0        0  ...        0        1        0        0   \n",
       "946364           0        0        0  ...        0        0        0        0   \n",
       "946365           0        0        0  ...        0        0        1        0   \n",
       "946366           0        0        0  ...        0        0        0        0   \n",
       "946367           0        0        0  ...        0        0        0        0   \n",
       "\n",
       "position   4409954  4410386  4410487  4411016  4411400  4411501  \n",
       "sample_id                                                        \n",
       "809              0        1        0        1        1        0  \n",
       "812              0        1        0        1        1        0  \n",
       "815              0        1        0        1        0        0  \n",
       "816              0        1        0        1        1        0  \n",
       "817              0        1        0        1        1        0  \n",
       "...            ...      ...      ...      ...      ...      ...  \n",
       "946362           0        1        0        1        0        0  \n",
       "946364           0        0        0        0        0        0  \n",
       "946365           0        0        0        0        0        0  \n",
       "946366           1        0        0        0        0        0  \n",
       "946367           0        0        0        0        0        0  \n",
       "\n",
       "[52567 rows x 6815 columns]"
      ]
     },
     "execution_count": 229,
     "metadata": {},
     "output_type": "execute_result"
    }
   ],
   "source": [
    "minor_allele_counts"
   ]
  },
  {
   "cell_type": "code",
   "execution_count": 234,
   "id": "0fa21a03-e92e-4c07-afb0-a274d767cbdf",
   "metadata": {},
   "outputs": [
    {
     "data": {
      "text/plain": [
       "15650"
      ]
     },
     "execution_count": 234,
     "metadata": {},
     "output_type": "execute_result"
    }
   ],
   "source": []
  },
  {
   "cell_type": "code",
   "execution_count": 238,
   "id": "4961c1ab-c706-4f48-b187-31d6fbd18d50",
   "metadata": {},
   "outputs": [
    {
     "data": {
      "text/plain": [
       "sample_id\n",
       "823       1\n",
       "824       1\n",
       "826       1\n",
       "827       1\n",
       "828       1\n",
       "         ..\n",
       "933874    1\n",
       "933876    1\n",
       "946361    1\n",
       "946364    1\n",
       "946367    1\n",
       "Name: 797736, Length: 15650, dtype: int64"
      ]
     },
     "execution_count": 238,
     "metadata": {},
     "output_type": "execute_result"
    }
   ],
   "source": [
    "minor_allele_counts.loc[minor_allele_counts[797736] == 1][797736]"
   ]
  },
  {
   "cell_type": "code",
   "execution_count": null,
   "id": "8bb9fa74-8625-48ee-aa56-c22b27d43260",
   "metadata": {},
   "outputs": [],
   "source": [
    "minor_allele_counts = pd.read_pickle(\"data/minor_allele_counts.pkl\")"
   ]
  },
  {
   "cell_type": "code",
   "execution_count": null,
   "id": "b8bb5cd4-0e1d-43c3-92eb-6cf0e1c4b92c",
   "metadata": {},
   "outputs": [],
   "source": []
  },
  {
   "cell_type": "code",
   "execution_count": null,
   "id": "c3009aef-7991-4ae5-b3f8-c367830e168f",
   "metadata": {},
   "outputs": [],
   "source": []
  },
  {
   "cell_type": "code",
   "execution_count": 190,
   "id": "71aafe6a-7fe0-4773-8e5d-49cf14227229",
   "metadata": {},
   "outputs": [],
   "source": [
    "def associate_PCs_with_phenos(drug, pheno_category_lst, pc_num):\n",
    "    \n",
    "    df_phenos = pd.read_csv(os.path.join(analysis_dir, drug, \"phenos_binary.csv\")).set_index(\"sample_id\").query(\"phenotypic_category in @pheno_category_lst\")\n",
    "    eigenvec_df = pd.read_csv(\"data/eigenvec_20PC.csv\").set_index(\"sample_id\")\n",
    "    \n",
    "    # get only samples in df_phenos\n",
    "    eigenvec_df = eigenvec_df.loc[df_phenos.index]\n",
    "    \n",
    "    #phenos = scaler.fit_transform(df_phenos[\"phenotype\"].values.reshape(-1, 1)).flatten()\n",
    "    \n",
    "    rho, pval = st.pointbiserialr(df_phenos[\"phenotype\"].values, eigenvec_df[f\"PC{pc_num}\"])\n",
    "    #return phenos, eigenvec_df[f\"PC{pc_num}\"]\n",
    "    return rho, pval"
   ]
  },
  {
   "cell_type": "code",
   "execution_count": 378,
   "id": "e5daeeaa-9165-4b90-bd93-206d8c25f7f4",
   "metadata": {},
   "outputs": [],
   "source": [
    "solo_results = pd.read_excel(\"data/SOLO primary_STATA_ver18Feb2023.xlsx\", sheet_name=None)\n",
    "solo_results = solo_results[\"Sheet1\"]"
   ]
  },
  {
   "cell_type": "code",
   "execution_count": 381,
   "id": "488b4693-3048-49e7-816b-d88af2727432",
   "metadata": {},
   "outputs": [
    {
     "data": {
      "text/html": [
       "<div>\n",
       "<style scoped>\n",
       "    .dataframe tbody tr th:only-of-type {\n",
       "        vertical-align: middle;\n",
       "    }\n",
       "\n",
       "    .dataframe tbody tr th {\n",
       "        vertical-align: top;\n",
       "    }\n",
       "\n",
       "    .dataframe thead th {\n",
       "        text-align: right;\n",
       "    }\n",
       "</style>\n",
       "<table border=\"1\" class=\"dataframe\">\n",
       "  <thead>\n",
       "    <tr style=\"text-align: right;\">\n",
       "      <th></th>\n",
       "      <th>drug</th>\n",
       "      <th>variant</th>\n",
       "      <th>Initial_Confidence_Grading</th>\n",
       "    </tr>\n",
       "  </thead>\n",
       "  <tbody>\n",
       "    <tr>\n",
       "      <th>3266</th>\n",
       "      <td>Bedaquiline</td>\n",
       "      <td>mmpS5_c.-74G&gt;T</td>\n",
       "      <td>5) Not assoc w R</td>\n",
       "    </tr>\n",
       "  </tbody>\n",
       "</table>\n",
       "</div>"
      ],
      "text/plain": [
       "             drug         variant Initial_Confidence_Grading\n",
       "3266  Bedaquiline  mmpS5_c.-74G>T           5) Not assoc w R"
      ]
     },
     "execution_count": 381,
     "metadata": {},
     "output_type": "execute_result"
    }
   ],
   "source": [
    "solo_results.query(\"drug=='Bedaquiline' & variant=='mmpS5_c.-74G>T'\")"
   ]
  },
  {
   "cell_type": "code",
   "execution_count": null,
   "id": "3a44a3a9-911c-443e-849c-9156b4f75c43",
   "metadata": {},
   "outputs": [],
   "source": []
  },
  {
   "cell_type": "code",
   "execution_count": 218,
   "id": "6698091d-3510-417d-8df8-02f4167d009e",
   "metadata": {},
   "outputs": [],
   "source": []
  },
  {
   "cell_type": "code",
   "execution_count": 220,
   "id": "5fe6627a-711c-4e49-a691-7d1b16c26659",
   "metadata": {},
   "outputs": [
    {
     "data": {
      "text/html": [
       "<div>\n",
       "<style scoped>\n",
       "    .dataframe tbody tr th:only-of-type {\n",
       "        vertical-align: middle;\n",
       "    }\n",
       "\n",
       "    .dataframe tbody tr th {\n",
       "        vertical-align: top;\n",
       "    }\n",
       "\n",
       "    .dataframe thead th {\n",
       "        text-align: right;\n",
       "    }\n",
       "</style>\n",
       "<table border=\"1\" class=\"dataframe\">\n",
       "  <thead>\n",
       "    <tr style=\"text-align: right;\">\n",
       "      <th></th>\n",
       "      <th>PC</th>\n",
       "      <th>coef</th>\n",
       "      <th>pval</th>\n",
       "    </tr>\n",
       "  </thead>\n",
       "  <tbody>\n",
       "    <tr>\n",
       "      <th>2</th>\n",
       "      <td>PC2</td>\n",
       "      <td>0.430117</td>\n",
       "      <td>6.334246e-04</td>\n",
       "    </tr>\n",
       "    <tr>\n",
       "      <th>4</th>\n",
       "      <td>PC4</td>\n",
       "      <td>-0.222725</td>\n",
       "      <td>9.976698e-05</td>\n",
       "    </tr>\n",
       "    <tr>\n",
       "      <th>5</th>\n",
       "      <td>PC5</td>\n",
       "      <td>-0.401095</td>\n",
       "      <td>8.635214e-04</td>\n",
       "    </tr>\n",
       "    <tr>\n",
       "      <th>6</th>\n",
       "      <td>PC6</td>\n",
       "      <td>0.373168</td>\n",
       "      <td>6.222953e-10</td>\n",
       "    </tr>\n",
       "    <tr>\n",
       "      <th>7</th>\n",
       "      <td>PC7</td>\n",
       "      <td>0.214546</td>\n",
       "      <td>5.632016e-04</td>\n",
       "    </tr>\n",
       "    <tr>\n",
       "      <th>8</th>\n",
       "      <td>PC8</td>\n",
       "      <td>0.796777</td>\n",
       "      <td>2.757997e-03</td>\n",
       "    </tr>\n",
       "    <tr>\n",
       "      <th>9</th>\n",
       "      <td>PC9</td>\n",
       "      <td>0.123546</td>\n",
       "      <td>3.150045e-02</td>\n",
       "    </tr>\n",
       "    <tr>\n",
       "      <th>12</th>\n",
       "      <td>PC12</td>\n",
       "      <td>-0.216964</td>\n",
       "      <td>2.571124e-03</td>\n",
       "    </tr>\n",
       "    <tr>\n",
       "      <th>14</th>\n",
       "      <td>PC14</td>\n",
       "      <td>0.673994</td>\n",
       "      <td>4.594103e-07</td>\n",
       "    </tr>\n",
       "    <tr>\n",
       "      <th>15</th>\n",
       "      <td>PC15</td>\n",
       "      <td>0.337013</td>\n",
       "      <td>8.317409e-03</td>\n",
       "    </tr>\n",
       "    <tr>\n",
       "      <th>17</th>\n",
       "      <td>PC17</td>\n",
       "      <td>-0.427830</td>\n",
       "      <td>1.453974e-03</td>\n",
       "    </tr>\n",
       "    <tr>\n",
       "      <th>18</th>\n",
       "      <td>PC18</td>\n",
       "      <td>-0.307928</td>\n",
       "      <td>7.807994e-05</td>\n",
       "    </tr>\n",
       "    <tr>\n",
       "      <th>19</th>\n",
       "      <td>PC19</td>\n",
       "      <td>-0.283390</td>\n",
       "      <td>1.572532e-07</td>\n",
       "    </tr>\n",
       "  </tbody>\n",
       "</table>\n",
       "</div>"
      ],
      "text/plain": [
       "      PC      coef          pval\n",
       "2    PC2  0.430117  6.334246e-04\n",
       "4    PC4 -0.222725  9.976698e-05\n",
       "5    PC5 -0.401095  8.635214e-04\n",
       "6    PC6  0.373168  6.222953e-10\n",
       "7    PC7  0.214546  5.632016e-04\n",
       "8    PC8  0.796777  2.757997e-03\n",
       "9    PC9  0.123546  3.150045e-02\n",
       "12  PC12 -0.216964  2.571124e-03\n",
       "14  PC14  0.673994  4.594103e-07\n",
       "15  PC15  0.337013  8.317409e-03\n",
       "17  PC17 -0.427830  1.453974e-03\n",
       "18  PC18 -0.307928  7.807994e-05\n",
       "19  PC19 -0.283390  1.572532e-07"
      ]
     },
     "execution_count": 220,
     "metadata": {},
     "output_type": "execute_result"
    }
   ],
   "source": [
    "res_df.query(\"pval < 0.05\")"
   ]
  },
  {
   "cell_type": "code",
   "execution_count": null,
   "id": "4f941a2e-c798-4ed7-b29a-c1a1a19aa50a",
   "metadata": {},
   "outputs": [],
   "source": []
  },
  {
   "cell_type": "code",
   "execution_count": null,
   "id": "4124e82b-afff-406b-85f5-ab544bf6b0c1",
   "metadata": {},
   "outputs": [],
   "source": []
  },
  {
   "cell_type": "code",
   "execution_count": null,
   "id": "2bf197e5-c1de-45bb-aa96-8d8a054dfee5",
   "metadata": {},
   "outputs": [],
   "source": []
  },
  {
   "cell_type": "code",
   "execution_count": 192,
   "id": "bedc83ff-655a-4127-9840-2ba08660a9cc",
   "metadata": {},
   "outputs": [
    {
     "name": "stdout",
     "output_type": "stream",
     "text": [
      "PC0: corr = 0.06, p-value = 0.01\n",
      "PC1: corr = 0.12, p-value = 0.0\n",
      "PC2: corr = 0.06, p-value = 0.01\n",
      "PC5: corr = -0.08, p-value = 0.0\n",
      "PC6: corr = 0.16, p-value = 0.0\n",
      "PC7: corr = 0.11, p-value = 0.0\n",
      "PC8: corr = 0.4, p-value = 0.0\n",
      "PC10: corr = -0.35, p-value = 0.0\n",
      "PC11: corr = -0.36, p-value = 0.0\n",
      "PC12: corr = -0.13, p-value = 0.0\n",
      "PC13: corr = 0.13, p-value = 0.0\n",
      "PC14: corr = 0.2, p-value = 0.0\n",
      "PC15: corr = 0.15, p-value = 0.0\n",
      "PC17: corr = -0.32, p-value = 0.0\n",
      "PC18: corr = -0.19, p-value = 0.0\n"
     ]
    }
   ],
   "source": [
    "pheno_category_lst = [\"WHO\"]\n",
    "\n",
    "for num in np.arange(20):\n",
    "    rho, pval = associate_PCs_with_phenos(\"Bedaquiline\", pheno_category_lst, num)\n",
    "    \n",
    "    if pval < 0.01:\n",
    "        print(f\"PC{num}: corr = {np.round(rho, 2)}, p-value = {np.round(pval, 2)}\")"
   ]
  },
  {
   "cell_type": "code",
   "execution_count": null,
   "id": "5132dd52-cd9a-4632-b4b5-a24f020023b9",
   "metadata": {},
   "outputs": [],
   "source": []
  },
  {
   "cell_type": "code",
   "execution_count": 194,
   "id": "a0bdcbc8-c3cb-4c94-bf92-3af48e809035",
   "metadata": {},
   "outputs": [
    {
     "data": {
      "text/plain": [
       "(2165, 20)"
      ]
     },
     "execution_count": 194,
     "metadata": {},
     "output_type": "execute_result"
    }
   ],
   "source": [
    "drug = \"Bedaquiline\"\n",
    "df_phenos = pd.read_csv(os.path.join(analysis_dir, drug, \"phenos_binary.csv\")).set_index(\"sample_id\").query(\"phenotypic_category in @pheno_category_lst\")\n",
    "eigenvec_df = pd.read_csv(\"data/eigenvec_20PC.csv\").set_index(\"sample_id\")\n",
    "\n",
    "# get only samples in df_phenos\n",
    "eigenvec_df = eigenvec_df.loc[df_phenos.index]\n",
    "eigenvec_df.shape"
   ]
  },
  {
   "cell_type": "code",
   "execution_count": 197,
   "id": "f28d9fa2-61fa-43df-b1eb-5bf3f7f7e7b6",
   "metadata": {},
   "outputs": [
    {
     "data": {
      "text/plain": [
       "<matplotlib.collections.PathCollection at 0x7febf8dca730>"
      ]
     },
     "execution_count": 197,
     "metadata": {},
     "output_type": "execute_result"
    },
    {
     "data": {
      "image/png": "[encoded data removed]",
      "text/plain": [
       "<Figure size 960x720 with 1 Axes>"
      ]
     },
     "metadata": {},
     "output_type": "display_data"
    }
   ],
   "source": [
    "plt.scatter(eigenvec_df[\"PC0\"], df_phenos[\"phenotype\"])"
   ]
  },
  {
   "cell_type": "code",
   "execution_count": 146,
   "id": "e0aefc41-6e0e-4e4d-8454-eab980d74cd9",
   "metadata": {},
   "outputs": [
    {
     "data": {
      "text/html": [
       "<div>\n",
       "<style scoped>\n",
       "    .dataframe tbody tr th:only-of-type {\n",
       "        vertical-align: middle;\n",
       "    }\n",
       "\n",
       "    .dataframe tbody tr th {\n",
       "        vertical-align: top;\n",
       "    }\n",
       "\n",
       "    .dataframe thead th {\n",
       "        text-align: right;\n",
       "    }\n",
       "</style>\n",
       "<table border=\"1\" class=\"dataframe\">\n",
       "  <thead>\n",
       "    <tr style=\"text-align: right;\">\n",
       "      <th></th>\n",
       "      <th>phenotypic_category</th>\n",
       "      <th>phenotype</th>\n",
       "    </tr>\n",
       "    <tr>\n",
       "      <th>sample_id</th>\n",
       "      <th></th>\n",
       "      <th></th>\n",
       "    </tr>\n",
       "  </thead>\n",
       "  <tbody>\n",
       "    <tr>\n",
       "      <th>34463</th>\n",
       "      <td>WHO</td>\n",
       "      <td>0</td>\n",
       "    </tr>\n",
       "    <tr>\n",
       "      <th>117566</th>\n",
       "      <td>WHO</td>\n",
       "      <td>0</td>\n",
       "    </tr>\n",
       "    <tr>\n",
       "      <th>155633</th>\n",
       "      <td>WHO</td>\n",
       "      <td>0</td>\n",
       "    </tr>\n",
       "    <tr>\n",
       "      <th>155645</th>\n",
       "      <td>WHO</td>\n",
       "      <td>0</td>\n",
       "    </tr>\n",
       "    <tr>\n",
       "      <th>167301</th>\n",
       "      <td>WHO</td>\n",
       "      <td>0</td>\n",
       "    </tr>\n",
       "    <tr>\n",
       "      <th>...</th>\n",
       "      <td>...</td>\n",
       "      <td>...</td>\n",
       "    </tr>\n",
       "    <tr>\n",
       "      <th>843050</th>\n",
       "      <td>WHO</td>\n",
       "      <td>0</td>\n",
       "    </tr>\n",
       "    <tr>\n",
       "      <th>843065</th>\n",
       "      <td>WHO</td>\n",
       "      <td>0</td>\n",
       "    </tr>\n",
       "    <tr>\n",
       "      <th>843086</th>\n",
       "      <td>WHO</td>\n",
       "      <td>0</td>\n",
       "    </tr>\n",
       "    <tr>\n",
       "      <th>843164</th>\n",
       "      <td>WHO</td>\n",
       "      <td>0</td>\n",
       "    </tr>\n",
       "    <tr>\n",
       "      <th>888340</th>\n",
       "      <td>WHO</td>\n",
       "      <td>0</td>\n",
       "    </tr>\n",
       "  </tbody>\n",
       "</table>\n",
       "<p>2165 rows × 2 columns</p>\n",
       "</div>"
      ],
      "text/plain": [
       "          phenotypic_category  phenotype\n",
       "sample_id                               \n",
       "34463                     WHO          0\n",
       "117566                    WHO          0\n",
       "155633                    WHO          0\n",
       "155645                    WHO          0\n",
       "167301                    WHO          0\n",
       "...                       ...        ...\n",
       "843050                    WHO          0\n",
       "843065                    WHO          0\n",
       "843086                    WHO          0\n",
       "843164                    WHO          0\n",
       "888340                    WHO          0\n",
       "\n",
       "[2165 rows x 2 columns]"
      ]
     },
     "execution_count": 146,
     "metadata": {},
     "output_type": "execute_result"
    }
   ],
   "source": [
    "df_phenos"
   ]
  },
  {
   "cell_type": "code",
   "execution_count": 2,
   "id": "8cec516a-55ea-42f8-8ce8-9cd387f564b2",
   "metadata": {},
   "outputs": [],
   "source": []
  },
  {
   "cell_type": "code",
   "execution_count": 107,
   "id": "1749323f-332c-4d48-894c-1db666997bac",
   "metadata": {},
   "outputs": [
    {
     "name": "stdout",
     "output_type": "stream",
     "text": [
      "(2161, 223)\n"
     ]
    }
   ],
   "source": [
    "df_phenos = pd.read_csv(os.path.join(analysis_dir, \"Bedaquiline\", \"phenos_binary.csv\")).set_index(\"sample_id\")"
   ]
  },
  {
   "cell_type": "code",
   "execution_count": 50,
   "id": "dcaf870c-484e-41d5-aacd-bb54e51e9be6",
   "metadata": {},
   "outputs": [],
   "source": [
    "# plt.plot(np.arange(20)+1, pca.explained_variance_ratio_)"
   ]
  },
  {
   "cell_type": "code",
   "execution_count": 58,
   "id": "b77acc08-23ff-4a20-9156-b185d3e17b1b",
   "metadata": {},
   "outputs": [],
   "source": [
    "def read_in_matrix_compute_grm(minor_allele_counts_df, model_matrix, num_PCs=20):\n",
    "\n",
    "    minor_allele_counts_single_model = minor_allele_counts_df.loc[model_matrix.index]\n",
    "    print(minor_allele_counts_single_model.shape)\n",
    "    \n",
    "    # standardize values and \n",
    "    scaler = StandardScaler()\n",
    "    minor_allele_counts_single_model = scaler.fit_transform(minor_allele_counts_single_model.values)\n",
    "    grm = np.cov(minor_allele_counts_single_model)\n",
    "    \n",
    "    # standardize GRM as well and run PCA\n",
    "    pca = PCA(num_PCs)\n",
    "    pca.fit(scaler.fit_transform(grm))\n",
    "    \n",
    "    eigenvec = pca.components_.T\n",
    "    eigenvec_df = pd.DataFrame(eigenvec)\n",
    "    eigenvec_df[\"sample_id\"] = model_matrix.index.values\n",
    "    eigenvec_df = eigenvec_df.set_index(\"sample_id\")\n",
    "    eigenvec_df.columns = [f\"PC{num}\" for num in range(num_PCs)]\n",
    "    \n",
    "    print(sum(pca.explained_variance_ratio_))\n",
    "    return eigenvec_df"
   ]
  },
  {
   "cell_type": "code",
   "execution_count": 89,
   "id": "19efbd00-b3d6-4534-a968-5f2f13ae43ed",
   "metadata": {},
   "outputs": [
    {
     "name": "stdout",
     "output_type": "stream",
     "text": [
      "(2161, 6815)\n",
      "0.9764757860072821\n"
     ]
    }
   ],
   "source": [
    "bdq_eigenvec = read_in_matrix_compute_grm(minor_allele_counts, model_matrix, num_PCs=20)\n",
    "\n",
    "# add lineages for plotting\n",
    "#bdq_eigenvec = bdq_eigenvec.merge(lineages_df, left_index=True, right_on=\"Sample ID\", how=\"left\")\n",
    "#bdq_eigenvec[\"Primary_Lineage\"] = bdq_eigenvec[\"Lineage_1\"].str[0]"
   ]
  },
  {
   "cell_type": "code",
   "execution_count": 120,
   "id": "aa0d1b2c-1e34-41e0-a737-014951f998b1",
   "metadata": {},
   "outputs": [],
   "source": []
  },
  {
   "cell_type": "code",
   "execution_count": 121,
   "id": "3246ec4e-0f91-465f-bf83-02cf0453a557",
   "metadata": {},
   "outputs": [
    {
     "data": {
      "text/html": [
       "<div>\n",
       "<style scoped>\n",
       "    .dataframe tbody tr th:only-of-type {\n",
       "        vertical-align: middle;\n",
       "    }\n",
       "\n",
       "    .dataframe tbody tr th {\n",
       "        vertical-align: top;\n",
       "    }\n",
       "\n",
       "    .dataframe thead th {\n",
       "        text-align: right;\n",
       "    }\n",
       "</style>\n",
       "<table border=\"1\" class=\"dataframe\">\n",
       "  <thead>\n",
       "    <tr style=\"text-align: right;\">\n",
       "      <th></th>\n",
       "      <th>mutation</th>\n",
       "      <th>coef</th>\n",
       "      <th>coef_LB</th>\n",
       "      <th>coef_UB</th>\n",
       "      <th>pval</th>\n",
       "      <th>neutral_pval</th>\n",
       "      <th>BH_pval</th>\n",
       "      <th>Bonferroni_pval</th>\n",
       "      <th>neutral_BH_pval</th>\n",
       "      <th>neutral_Bonferroni_pval</th>\n",
       "      <th>Odds_Ratio</th>\n",
       "      <th>OR_LB</th>\n",
       "      <th>OR_UB</th>\n",
       "      <th>confidence</th>\n",
       "    </tr>\n",
       "  </thead>\n",
       "  <tbody>\n",
       "    <tr>\n",
       "      <th>193</th>\n",
       "      <td>mmpS5_c.-74G&gt;T</td>\n",
       "      <td>0.540876</td>\n",
       "      <td>0.399608</td>\n",
       "      <td>0.724018</td>\n",
       "      <td>0.0</td>\n",
       "      <td>1.0</td>\n",
       "      <td>0.0</td>\n",
       "      <td>0.0</td>\n",
       "      <td>1.0</td>\n",
       "      <td>1.0</td>\n",
       "      <td>1.71751</td>\n",
       "      <td>1.491239</td>\n",
       "      <td>2.062704</td>\n",
       "      <td>3) Uncertain significance</td>\n",
       "    </tr>\n",
       "  </tbody>\n",
       "</table>\n",
       "</div>"
      ],
      "text/plain": [
       "           mutation      coef   coef_LB   coef_UB  pval  neutral_pval  \\\n",
       "193  mmpS5_c.-74G>T  0.540876  0.399608  0.724018   0.0           1.0   \n",
       "\n",
       "     BH_pval  Bonferroni_pval  neutral_BH_pval  neutral_Bonferroni_pval  \\\n",
       "193      0.0              0.0              1.0                      1.0   \n",
       "\n",
       "     Odds_Ratio     OR_LB     OR_UB                 confidence  \n",
       "193     1.71751  1.491239  2.062704  3) Uncertain significance  "
      ]
     },
     "execution_count": 121,
     "metadata": {},
     "output_type": "execute_result"
    }
   ],
   "source": [
    "final_df.query(\"mutation=='mmpS5_c.-74G>T'\")"
   ]
  },
  {
   "cell_type": "code",
   "execution_count": 117,
   "id": "f0690e26-1233-4dd6-beb9-655113801f40",
   "metadata": {},
   "outputs": [
    {
     "data": {
      "text/html": [
       "<div>\n",
       "<style scoped>\n",
       "    .dataframe tbody tr th:only-of-type {\n",
       "        vertical-align: middle;\n",
       "    }\n",
       "\n",
       "    .dataframe tbody tr th {\n",
       "        vertical-align: top;\n",
       "    }\n",
       "\n",
       "    .dataframe thead th {\n",
       "        text-align: right;\n",
       "    }\n",
       "</style>\n",
       "<table border=\"1\" class=\"dataframe\">\n",
       "  <thead>\n",
       "    <tr style=\"text-align: right;\">\n",
       "      <th></th>\n",
       "      <th>mutation</th>\n",
       "      <th>coef</th>\n",
       "    </tr>\n",
       "  </thead>\n",
       "  <tbody>\n",
       "    <tr>\n",
       "      <th>193</th>\n",
       "      <td>mmpS5_c.-74G&gt;T</td>\n",
       "      <td>0.540876</td>\n",
       "    </tr>\n",
       "  </tbody>\n",
       "</table>\n",
       "</div>"
      ],
      "text/plain": [
       "           mutation      coef\n",
       "193  mmpS5_c.-74G>T  0.540876"
      ]
     },
     "execution_count": 117,
     "metadata": {},
     "output_type": "execute_result"
    }
   ],
   "source": [
    "coef_df.query(\"mutation=='mmpS5_c.-74G>T'\")"
   ]
  },
  {
   "cell_type": "code",
   "execution_count": 118,
   "id": "c73f16ec-aea4-47bd-966f-7759a39af88d",
   "metadata": {},
   "outputs": [
    {
     "data": {
      "text/html": [
       "<div>\n",
       "<style scoped>\n",
       "    .dataframe tbody tr th:only-of-type {\n",
       "        vertical-align: middle;\n",
       "    }\n",
       "\n",
       "    .dataframe tbody tr th {\n",
       "        vertical-align: top;\n",
       "    }\n",
       "\n",
       "    .dataframe thead th {\n",
       "        text-align: right;\n",
       "    }\n",
       "</style>\n",
       "<table border=\"1\" class=\"dataframe\">\n",
       "  <thead>\n",
       "    <tr style=\"text-align: right;\">\n",
       "      <th></th>\n",
       "      <th>mutation</th>\n",
       "      <th>coef</th>\n",
       "    </tr>\n",
       "  </thead>\n",
       "  <tbody>\n",
       "    <tr>\n",
       "      <th>0</th>\n",
       "      <td>Rv0678_p.Ala102Asp</td>\n",
       "      <td>0.132214</td>\n",
       "    </tr>\n",
       "    <tr>\n",
       "      <th>1</th>\n",
       "      <td>Rv0678_p.Ala102Thr</td>\n",
       "      <td>0.133945</td>\n",
       "    </tr>\n",
       "    <tr>\n",
       "      <th>2</th>\n",
       "      <td>Rv0678_p.Ala110fs</td>\n",
       "      <td>0.095919</td>\n",
       "    </tr>\n",
       "    <tr>\n",
       "      <th>3</th>\n",
       "      <td>Rv0678_p.Ala112Pro</td>\n",
       "      <td>0.050553</td>\n",
       "    </tr>\n",
       "    <tr>\n",
       "      <th>4</th>\n",
       "      <td>Rv0678_p.Ala144fs</td>\n",
       "      <td>0.123320</td>\n",
       "    </tr>\n",
       "    <tr>\n",
       "      <th>...</th>\n",
       "      <td>...</td>\n",
       "      <td>...</td>\n",
       "    </tr>\n",
       "    <tr>\n",
       "      <th>238</th>\n",
       "      <td>PC15</td>\n",
       "      <td>-0.184642</td>\n",
       "    </tr>\n",
       "    <tr>\n",
       "      <th>239</th>\n",
       "      <td>PC16</td>\n",
       "      <td>-0.095002</td>\n",
       "    </tr>\n",
       "    <tr>\n",
       "      <th>240</th>\n",
       "      <td>PC17</td>\n",
       "      <td>0.146491</td>\n",
       "    </tr>\n",
       "    <tr>\n",
       "      <th>241</th>\n",
       "      <td>PC18</td>\n",
       "      <td>0.028036</td>\n",
       "    </tr>\n",
       "    <tr>\n",
       "      <th>242</th>\n",
       "      <td>PC19</td>\n",
       "      <td>-0.214849</td>\n",
       "    </tr>\n",
       "  </tbody>\n",
       "</table>\n",
       "<p>243 rows × 2 columns</p>\n",
       "</div>"
      ],
      "text/plain": [
       "               mutation      coef\n",
       "0    Rv0678_p.Ala102Asp  0.132214\n",
       "1    Rv0678_p.Ala102Thr  0.133945\n",
       "2     Rv0678_p.Ala110fs  0.095919\n",
       "3    Rv0678_p.Ala112Pro  0.050553\n",
       "4     Rv0678_p.Ala144fs  0.123320\n",
       "..                  ...       ...\n",
       "238                PC15 -0.184642\n",
       "239                PC16 -0.095002\n",
       "240                PC17  0.146491\n",
       "241                PC18  0.028036\n",
       "242                PC19 -0.214849\n",
       "\n",
       "[243 rows x 2 columns]"
      ]
     },
     "execution_count": 118,
     "metadata": {},
     "output_type": "execute_result"
    }
   ],
   "source": [
    "coef_df"
   ]
  },
  {
   "cell_type": "code",
   "execution_count": null,
   "id": "577d4b0c-faf7-4cf2-92fb-820533e03f39",
   "metadata": {},
   "outputs": [],
   "source": []
  },
  {
   "cell_type": "code",
   "execution_count": null,
   "id": "1f1c8880-6bb8-42bb-ad8a-c80f123987cb",
   "metadata": {},
   "outputs": [],
   "source": []
  },
  {
   "cell_type": "code",
   "execution_count": null,
   "id": "5d8bd8c5-3a54-4f9a-94fb-11ed3c7239b6",
   "metadata": {},
   "outputs": [],
   "source": []
  },
  {
   "cell_type": "code",
   "execution_count": 87,
   "id": "75b0cb87-71c7-4352-b731-39c6c5b0bfef",
   "metadata": {},
   "outputs": [
    {
     "data": {
      "image/png": "[encoded data removed]",
      "text/plain": [
       "<Figure size 960x720 with 1 Axes>"
      ]
     },
     "metadata": {},
     "output_type": "display_data"
    }
   ],
   "source": [
    "LinToColor_Dict = {\"1\": \"#f381b2\",\n",
    "                   \"2\": \"#006dbb\",\n",
    "                   \"3\": \"#9f5eab\",\n",
    "                   \"4\": \"#f6472b\",\n",
    "                   \"5\": \"#76400e\",\n",
    "                   \"6\": \"#36ba74\",\n",
    "                   \"7\": \"#ffb000\",\n",
    "                  }\n",
    "\n",
    "sns.scatterplot(data=bdq_eigenvec.query(\"Primary_Lineage=='2'\"), \n",
    "                x=\"PC8\", y=\"PC9\", \n",
    "                hue=\"Lineage_1\",\n",
    "                # hue_order=['1', '2', '3', '4', '5', '6', '7'],\n",
    "                # palette=LinToColor_Dict,\n",
    "                alpha=0.7,\n",
    "                )\n",
    "\n",
    "plt.tight_layout()\n",
    "# plt.legend(loc=\"upper right\", fontsize=10)\n",
    "sns.despine()\n",
    "#plt.savefig(\"Figures/PC0_PC1.png\", dpi=300)\n",
    "plt.show()"
   ]
  },
  {
   "cell_type": "code",
   "execution_count": null,
   "id": "9bc8d2e5-8f1e-488a-9cac-a93c179f8976",
   "metadata": {},
   "outputs": [],
   "source": []
  },
  {
   "cell_type": "code",
   "execution_count": null,
   "id": "e061508c-4156-4dcd-bd2c-a5fc1602c439",
   "metadata": {},
   "outputs": [],
   "source": []
  },
  {
   "cell_type": "code",
   "execution_count": null,
   "id": "4b2c7049-e287-4d21-8097-764479b09c38",
   "metadata": {},
   "outputs": [],
   "source": []
  },
  {
   "cell_type": "code",
   "execution_count": 44,
   "id": "2ece873f-a5aa-41e3-91ee-c15fad12ad00",
   "metadata": {},
   "outputs": [
    {
     "data": {
      "text/plain": [
       "'/n/data1/hms/dbmi/farhat/Sanjana/who-mutation-catalogue/Isoniazid/BINARY/tiers=1/phenos=WHO/dropAF_noSyn_unpooled'"
      ]
     },
     "execution_count": 44,
     "metadata": {},
     "output_type": "execute_result"
    }
   ],
   "source": [
    "os.path.join(analysis_dir, \"Isoniazid/BINARY/tiers=1/phenos=WHO/dropAF_noSyn_unpooled\")"
   ]
  },
  {
   "cell_type": "code",
   "execution_count": 9,
   "id": "26a28bcc-f77b-4a0c-8478-98d919d635f3",
   "metadata": {},
   "outputs": [],
   "source": [
    "inh_model3 = pd.read_csv(os.path.join(analysis_dir, \"Isoniazid/BINARY/tiers=1/phenos=WHO/dropAF_noSyn_unpooled/model_analysis.csv\"))\n",
    "inh_model3_permutation = pd.read_csv(os.path.join(analysis_dir, \"Isoniazid/BINARY/tiers=1/phenos=WHO/dropAF_noSyn_unpooled/coef_permutation.csv\"))"
   ]
  },
  {
   "cell_type": "code",
   "execution_count": 7,
   "id": "6c274180-3e09-4788-9e3b-75d2f210eaad",
   "metadata": {},
   "outputs": [
    {
     "data": {
      "text/html": [
       "<div>\n",
       "<style scoped>\n",
       "    .dataframe tbody tr th:only-of-type {\n",
       "        vertical-align: middle;\n",
       "    }\n",
       "\n",
       "    .dataframe tbody tr th {\n",
       "        vertical-align: top;\n",
       "    }\n",
       "\n",
       "    .dataframe thead th {\n",
       "        text-align: right;\n",
       "    }\n",
       "</style>\n",
       "<table border=\"1\" class=\"dataframe\">\n",
       "  <thead>\n",
       "    <tr style=\"text-align: right;\">\n",
       "      <th></th>\n",
       "      <th>mutation</th>\n",
       "      <th>predicted_effect</th>\n",
       "      <th>position</th>\n",
       "      <th>confidence</th>\n",
       "      <th>Odds_Ratio</th>\n",
       "      <th>OR_LB</th>\n",
       "      <th>OR_UB</th>\n",
       "      <th>pval</th>\n",
       "      <th>BH_pval</th>\n",
       "    </tr>\n",
       "  </thead>\n",
       "  <tbody>\n",
       "    <tr>\n",
       "      <th>1337</th>\n",
       "      <td>ahpC_c.-88G&gt;A</td>\n",
       "      <td>upstream_gene_variant</td>\n",
       "      <td>2726105</td>\n",
       "      <td>5) Not assoc w R</td>\n",
       "      <td>0.95219</td>\n",
       "      <td>0.883199</td>\n",
       "      <td>1.024105</td>\n",
       "      <td>0.084</td>\n",
       "      <td>0.288857</td>\n",
       "    </tr>\n",
       "  </tbody>\n",
       "</table>\n",
       "</div>"
      ],
      "text/plain": [
       "           mutation       predicted_effect position        confidence  \\\n",
       "1337  ahpC_c.-88G>A  upstream_gene_variant  2726105  5) Not assoc w R   \n",
       "\n",
       "      Odds_Ratio     OR_LB     OR_UB   pval   BH_pval  \n",
       "1337     0.95219  0.883199  1.024105  0.084  0.288857  "
      ]
     },
     "execution_count": 7,
     "metadata": {},
     "output_type": "execute_result"
    }
   ],
   "source": [
    "inh_model3.query(\"mutation=='ahpC_c.-88G>A'\")[['mutation', 'predicted_effect', 'position', 'confidence', 'Odds_Ratio', 'OR_LB', 'OR_UB', 'pval', 'BH_pval']]"
   ]
  },
  {
   "cell_type": "code",
   "execution_count": 39,
   "id": "1386c7e2-39a0-42e8-95d1-3158f422bb34",
   "metadata": {},
   "outputs": [
    {
     "data": {
      "text/plain": [
       "0.827"
      ]
     },
     "execution_count": 39,
     "metadata": {},
     "output_type": "execute_result"
    }
   ],
   "source": [
    "test_coef = inh_model3.query(\"mutation=='ahpC_c.-88G>A'\")[\"coef\"].values[0]\n",
    "np.mean(np.abs(inh_model3_permutation[\"ahpC_c.-88G>A\"]) < np.abs(test_coef))"
   ]
  },
  {
   "cell_type": "code",
   "execution_count": 43,
   "id": "aa60bb4d-b793-4975-9fdb-a1e87607c0ed",
   "metadata": {},
   "outputs": [
    {
     "data": {
      "text/plain": [
       "0.084"
      ]
     },
     "execution_count": 43,
     "metadata": {},
     "output_type": "execute_result"
    }
   ],
   "source": [
    "np.mean(inh_model3_permutation[\"ahpC_c.-88G>A\"] <= test_coef)"
   ]
  },
  {
   "cell_type": "code",
   "execution_count": null,
   "id": "e7ec4738-1d26-402c-8a7e-483748cf1f23",
   "metadata": {},
   "outputs": [
    {
     "data": {
      "text/plain": [
       "0.084"
      ]
     },
     "execution_count": 41,
     "metadata": {},
     "output_type": "execute_result"
    }
   ],
   "source": [
    "np.mean(test_coef > inh_model3_permutation[\"ahpC_c.-88G>A\"])"
   ]
  },
  {
   "cell_type": "code",
   "execution_count": null,
   "id": "daacd787-e68f-4502-acd6-93e9b9b4a5e3",
   "metadata": {},
   "outputs": [],
   "source": []
  },
  {
   "cell_type": "code",
   "execution_count": null,
   "id": "8543bd73-9c71-4d4b-bb72-c93ef7376b93",
   "metadata": {},
   "outputs": [],
   "source": []
  },
  {
   "cell_type": "code",
   "execution_count": null,
   "id": "dca43f9c-18f2-4cdc-83e6-0807466e2838",
   "metadata": {},
   "outputs": [],
   "source": []
  },
  {
   "cell_type": "code",
   "execution_count": 38,
   "id": "0d85e903-a668-4a9d-9c2b-84f56ebb9b74",
   "metadata": {},
   "outputs": [
    {
     "data": {
      "text/plain": [
       "0.813"
      ]
     },
     "execution_count": 38,
     "metadata": {},
     "output_type": "execute_result"
    }
   ],
   "source": [
    "test_or = inh_model3.query(\"mutation=='ahpC_c.-88G>A'\")[\"Odds_Ratio\"].values[0]\n",
    "\n",
    "# distances from OR = 1\n",
    "# np.abs(np.exp(inh_model3_permutation[\"ahpC_c.-88G>A\"].values) - 1)\n",
    "\n",
    "# how many of those are closer than the test statistic to 1\n",
    "np.mean(np.abs(np.exp(inh_model3_permutation[\"ahpC_c.-88G>A\"]) - 1) < np.abs(test_or - 1))"
   ]
  },
  {
   "cell_type": "code",
   "execution_count": null,
   "id": "794e5342-1cf7-4f0f-8dcb-c4c5a8cd7c28",
   "metadata": {},
   "outputs": [],
   "source": []
  },
  {
   "cell_type": "code",
   "execution_count": 26,
   "id": "a8d2ee79-06ea-416f-a373-5c93a26ce663",
   "metadata": {},
   "outputs": [
    {
     "data": {
      "image/png": "[encoded data removed]",
      "text/plain": [
       "<Figure size 600x450 with 1 Axes>"
      ]
     },
     "metadata": {},
     "output_type": "display_data"
    }
   ],
   "source": [
    "test_stat = inh_model3.query(\"mutation=='ahpC_c.-88G>A'\")[\"Odds_Ratio\"].values[0]\n",
    "\n",
    "fig, ax = plt.subplots(figsize=(4, 3))\n",
    "plt.hist(np.exp(inh_model3_permutation[\"ahpC_c.-88G>A\"]))\n",
    "plt.axvline(test_stat, color=\"black\")\n",
    "sns.despine()\n",
    "plt.show()"
   ]
  },
  {
   "cell_type": "markdown",
   "id": "f3cfdc83-c63a-43a5-b2b5-461904f71453",
   "metadata": {},
   "source": [
    "# Lineage 2.2.1 Investigation"
   ]
  },
  {
   "cell_type": "code",
   "execution_count": 222,
   "id": "1d579608-0033-46d9-8e2e-5cf5b954b5d4",
   "metadata": {},
   "outputs": [],
   "source": []
  },
  {
   "cell_type": "code",
   "execution_count": 230,
   "id": "6871f403-41a4-4ded-8f0c-5e51f8dd82ab",
   "metadata": {},
   "outputs": [
    {
     "data": {
      "text/html": [
       "<div>\n",
       "<style scoped>\n",
       "    .dataframe tbody tr th:only-of-type {\n",
       "        vertical-align: middle;\n",
       "    }\n",
       "\n",
       "    .dataframe tbody tr th {\n",
       "        vertical-align: top;\n",
       "    }\n",
       "\n",
       "    .dataframe thead th {\n",
       "        text-align: right;\n",
       "    }\n",
       "</style>\n",
       "<table border=\"1\" class=\"dataframe\">\n",
       "  <thead>\n",
       "    <tr style=\"text-align: right;\">\n",
       "      <th></th>\n",
       "      <th>Lineage</th>\n",
       "      <th>position</th>\n",
       "      <th>allele_change</th>\n",
       "      <th>tag</th>\n",
       "    </tr>\n",
       "  </thead>\n",
       "  <tbody>\n",
       "    <tr>\n",
       "      <th>11</th>\n",
       "      <td>2.2.1</td>\n",
       "      <td>797736</td>\n",
       "      <td>C/T</td>\n",
       "      <td>coll2014</td>\n",
       "    </tr>\n",
       "    <tr>\n",
       "      <th>12</th>\n",
       "      <td>2.2.1.1</td>\n",
       "      <td>4248115</td>\n",
       "      <td>C/T</td>\n",
       "      <td>coll2014</td>\n",
       "    </tr>\n",
       "    <tr>\n",
       "      <th>13</th>\n",
       "      <td>2.2.1.2</td>\n",
       "      <td>3836274</td>\n",
       "      <td>G/A</td>\n",
       "      <td>coll2014</td>\n",
       "    </tr>\n",
       "  </tbody>\n",
       "</table>\n",
       "</div>"
      ],
      "text/plain": [
       "    Lineage  position allele_change       tag\n",
       "11    2.2.1    797736           C/T  coll2014\n",
       "12  2.2.1.1   4248115           C/T  coll2014\n",
       "13  2.2.1.2   3836274           G/A  coll2014"
      ]
     },
     "execution_count": 230,
     "metadata": {},
     "output_type": "execute_result"
    }
   ],
   "source": []
  },
  {
   "cell_type": "code",
   "execution_count": null,
   "id": "48d058dd-45a1-4e38-b9b6-65cccb68448b",
   "metadata": {},
   "outputs": [],
   "source": []
  },
  {
   "cell_type": "code",
   "execution_count": null,
   "id": "efd1cd22-815f-4e2d-99ab-76a38249ffc3",
   "metadata": {},
   "outputs": [],
   "source": []
  },
  {
   "cell_type": "code",
   "execution_count": 63,
   "id": "3bb6e598-498f-4e93-8740-d8229d250839",
   "metadata": {},
   "outputs": [
    {
     "data": {
      "text/plain": [
       "array([ 797736, 4248115, 3836274])"
      ]
     },
     "execution_count": 63,
     "metadata": {},
     "output_type": "execute_result"
    }
   ],
   "source": [
    "L221_SNP_pos = coll2014.query(\"Lineage.str.startswith('2.2.1')\")[\"position\"].values.astype(int)\n",
    "L221_SNP_pos"
   ]
  },
  {
   "cell_type": "code",
   "execution_count": 60,
   "id": "549e62e1-082d-4e49-9913-fd37ad5f47a9",
   "metadata": {},
   "outputs": [],
   "source": [
    "input_data_dir = \"/n/data1/hms/dbmi/farhat/ye12/who\"\n",
    "snp_dir = os.path.join(input_data_dir, \"grm\")\n",
    "\n",
    "print(\"Creating matrix of minor allele counts\")\n",
    "snp_files = [os.path.join(snp_dir, fName) for fName in os.listdir(snp_dir)]\n",
    "print(f\"{len(snp_files)} SNP files to read from\")\n",
    "snp_files = [pd.read_csv(fName, usecols=[1, 2]) for fName in snp_files]\n",
    "\n",
    "snp_combined = pd.concat(snp_files, axis=0)\n",
    "snp_combined.columns = [\"position\", \"nucleotide\"]\n",
    "snp_combined = snp_combined.drop_duplicates()"
   ]
  },
  {
   "cell_type": "code",
   "execution_count": 64,
   "id": "002d861c-4978-4a39-9a46-568172015149",
   "metadata": {},
   "outputs": [
    {
     "data": {
      "text/html": [
       "<div>\n",
       "<style scoped>\n",
       "    .dataframe tbody tr th:only-of-type {\n",
       "        vertical-align: middle;\n",
       "    }\n",
       "\n",
       "    .dataframe tbody tr th {\n",
       "        vertical-align: top;\n",
       "    }\n",
       "\n",
       "    .dataframe thead th {\n",
       "        text-align: right;\n",
       "    }\n",
       "</style>\n",
       "<table border=\"1\" class=\"dataframe\">\n",
       "  <thead>\n",
       "    <tr style=\"text-align: right;\">\n",
       "      <th></th>\n",
       "      <th>position</th>\n",
       "      <th>nucleotide</th>\n",
       "    </tr>\n",
       "  </thead>\n",
       "  <tbody>\n",
       "    <tr>\n",
       "      <th>380</th>\n",
       "      <td>797736</td>\n",
       "      <td>C</td>\n",
       "    </tr>\n",
       "    <tr>\n",
       "      <th>5007</th>\n",
       "      <td>797736</td>\n",
       "      <td>T</td>\n",
       "    </tr>\n",
       "    <tr>\n",
       "      <th>11853</th>\n",
       "      <td>4248115</td>\n",
       "      <td>C</td>\n",
       "    </tr>\n",
       "    <tr>\n",
       "      <th>201923</th>\n",
       "      <td>4248115</td>\n",
       "      <td>T</td>\n",
       "    </tr>\n",
       "  </tbody>\n",
       "</table>\n",
       "</div>"
      ],
      "text/plain": [
       "        position nucleotide\n",
       "380       797736          C\n",
       "5007      797736          T\n",
       "11853    4248115          C\n",
       "201923   4248115          T"
      ]
     },
     "execution_count": 64,
     "metadata": {},
     "output_type": "execute_result"
    }
   ],
   "source": [
    "# L2.2.1.2 marker is not in the SNP table at all\n",
    "snp_combined.query(\"position in @L221_SNP_pos\")"
   ]
  },
  {
   "cell_type": "code",
   "execution_count": 68,
   "id": "3d24180b-91d4-4c3d-b27b-926ada794f3c",
   "metadata": {},
   "outputs": [
    {
     "name": "stdout",
     "output_type": "stream",
     "text": [
      "4248115\n"
     ]
    }
   ],
   "source": [
    "# L2.2.1.1 marker dropped from PCA becuase it's in embB\n",
    "for pos in L221_SNP_pos:\n",
    "    if pos in remove_pos:\n",
    "        print(pos)"
   ]
  },
  {
   "cell_type": "code",
   "execution_count": 76,
   "id": "7e575bbd-71fa-4370-b505-111a0328c557",
   "metadata": {},
   "outputs": [
    {
     "name": "stdout",
     "output_type": "stream",
     "text": [
      "57866 positions will be removed\n"
     ]
    }
   ],
   "source": [
    "# drop sites that are in drug resistance loci. This is a little strict because it removes entire genes, but works fine.\n",
    "drugs_loci = pd.read_csv(\"data/drugs_loci.csv\")\n",
    "\n",
    "# add 1 to the start because it's 0-indexed\n",
    "drugs_loci[\"Start\"] += 1\n",
    "assert sum(drugs_loci[\"End\"] <= drugs_loci[\"Start\"]) == 0\n",
    "\n",
    "# get all positions in resistance loci\n",
    "remove_pos = [list(range(int(row[\"Start\"]), int(row[\"End\"])+1)) for _, row in drugs_loci.iterrows()]\n",
    "remove_pos = list(itertools.chain.from_iterable(remove_pos))\n",
    "print(f\"{len(remove_pos)} positions will be removed\")\n",
    "# num_pos = len(snp_combined.position.unique())\n",
    "# # snp_combined = snp_combined.query(\"position not in @remove_pos\")\n",
    "# print(f\"Dropped {num_pos-len(snp_combined.position.unique())} positions in resistance-determining regions\")"
   ]
  },
  {
   "cell_type": "code",
   "execution_count": 85,
   "id": "0b0b0c26-4744-4e3b-97f3-d5ed91a2c70a",
   "metadata": {},
   "outputs": [
    {
     "data": {
      "text/plain": [
       "57862"
      ]
     },
     "execution_count": 85,
     "metadata": {},
     "output_type": "execute_result"
    }
   ],
   "source": [
    "len(list(set(remove_pos) - set(coll2014[\"position\"].values.astype(int))))"
   ]
  },
  {
   "cell_type": "code",
   "execution_count": 77,
   "id": "625742b1-a45b-4684-889a-95cebcd9d821",
   "metadata": {},
   "outputs": [
    {
     "data": {
      "text/plain": [
       "57862"
      ]
     },
     "execution_count": 77,
     "metadata": {},
     "output_type": "execute_result"
    }
   ],
   "source": [
    "len(set(remove_pos) - set(coll2014[\"position\"].values))"
   ]
  },
  {
   "cell_type": "code",
   "execution_count": 78,
   "id": "1c0feb91-1f45-4d7a-a893-589052aedccb",
   "metadata": {},
   "outputs": [
    {
     "data": {
      "text/plain": [
       "{764995, 4246508, 4248115, 4249732}"
      ]
     },
     "execution_count": 78,
     "metadata": {},
     "output_type": "execute_result"
    }
   ],
   "source": [
    "set(coll2014[\"position\"].values).intersection(remove_pos)"
   ]
  },
  {
   "cell_type": "code",
   "execution_count": 81,
   "id": "470b8e80-972c-4314-a26b-ec46252c30ba",
   "metadata": {},
   "outputs": [
    {
     "data": {
      "text/html": [
       "<div>\n",
       "<style scoped>\n",
       "    .dataframe tbody tr th:only-of-type {\n",
       "        vertical-align: middle;\n",
       "    }\n",
       "\n",
       "    .dataframe tbody tr th {\n",
       "        vertical-align: top;\n",
       "    }\n",
       "\n",
       "    .dataframe thead th {\n",
       "        text-align: right;\n",
       "    }\n",
       "</style>\n",
       "<table border=\"1\" class=\"dataframe\">\n",
       "  <thead>\n",
       "    <tr style=\"text-align: right;\">\n",
       "      <th></th>\n",
       "      <th>Lineage</th>\n",
       "      <th>position</th>\n",
       "      <th>allele_change</th>\n",
       "      <th>tag</th>\n",
       "    </tr>\n",
       "  </thead>\n",
       "  <tbody>\n",
       "    <tr>\n",
       "      <th>12</th>\n",
       "      <td>2.2.1.1</td>\n",
       "      <td>4248115</td>\n",
       "      <td>C/T</td>\n",
       "      <td>coll2014</td>\n",
       "    </tr>\n",
       "    <tr>\n",
       "      <th>32</th>\n",
       "      <td>4.3</td>\n",
       "      <td>764995</td>\n",
       "      <td>C/G</td>\n",
       "      <td>coll2014</td>\n",
       "    </tr>\n",
       "    <tr>\n",
       "      <th>45</th>\n",
       "      <td>4.4.2</td>\n",
       "      <td>4246508</td>\n",
       "      <td>G/A</td>\n",
       "      <td>coll2014</td>\n",
       "    </tr>\n",
       "    <tr>\n",
       "      <th>54</th>\n",
       "      <td>4.7</td>\n",
       "      <td>4249732</td>\n",
       "      <td>C/G</td>\n",
       "      <td>coll2014</td>\n",
       "    </tr>\n",
       "  </tbody>\n",
       "</table>\n",
       "</div>"
      ],
      "text/plain": [
       "    Lineage  position allele_change       tag\n",
       "12  2.2.1.1   4248115           C/T  coll2014\n",
       "32      4.3    764995           C/G  coll2014\n",
       "45    4.4.2   4246508           G/A  coll2014\n",
       "54      4.7   4249732           C/G  coll2014"
      ]
     },
     "execution_count": 81,
     "metadata": {},
     "output_type": "execute_result"
    }
   ],
   "source": [
    "coll2014.query(\"position in [764995, 4246508, 4248115, 4249732]\")"
   ]
  },
  {
   "cell_type": "code",
   "execution_count": null,
   "id": "2cc42265-1a90-4883-8d4c-bb95750b20fa",
   "metadata": {},
   "outputs": [],
   "source": []
  }
 ],
 "metadata": {
  "kernelspec": {
   "display_name": "Python 3 (ipykernel)",
   "language": "python",
   "name": "python3"
  },
  "language_info": {
   "codemirror_mode": {
    "name": "ipython",
    "version": 3
   },
   "file_extension": ".py",
   "mimetype": "text/x-python",
   "name": "python",
   "nbconvert_exporter": "python",
   "pygments_lexer": "ipython3",
   "version": "3.9.16"
  }
 },
 "nbformat": 4,
 "nbformat_minor": 5
}
