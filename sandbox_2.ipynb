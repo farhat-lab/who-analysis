{
 "cells": [
  {
   "cell_type": "code",
   "execution_count": 221,
   "id": "729a4552-211a-4feb-ab85-04f88adc2806",
   "metadata": {},
   "outputs": [],
   "source": [
    "import numpy as np\n",
    "import pandas as pd\n",
    "import matplotlib.pyplot as plt\n",
    "plt.rcParams['figure.dpi'] = 150\n",
    "import seaborn as sns\n",
    "from Bio import SeqIO, Seq\n",
    "\n",
    "import glob, os, yaml, subprocess, itertools, sparse, sys\n",
    "from sklearn.model_selection import train_test_split, KFold, GridSearchCV\n",
    "from sklearn.preprocessing import StandardScaler\n",
    "from sklearn.linear_model import LogisticRegression, LogisticRegressionCV\n",
    "# from statsmodels.distributions.empirical_distribution import ECDF\n",
    "import sklearn.metrics\n",
    "from sklearn.decomposition import PCA\n",
    "import timeit\n",
    "import scipy.stats as st\n",
    "import pickle, yaml, tracemalloc\n",
    "from scipy.stats import binomtest\n",
    "import statsmodels.api as sm\n",
    "\n",
    "# eigenvec_df = pd.read_csv(\"data/eigenvec_100PC.csv\").set_index(\"sample_id\")\n",
    "pca_explained_var = np.load(\"data/pca_explained_var.npy\")\n",
    "who_variants_combined = pd.read_csv(\"analysis/who_confidence_2021.csv\")\n",
    "\n",
    "sample_ids_mapping = pd.read_csv(\"data/sample_ids_mapping.csv\")\n",
    "samples_summary = pd.read_csv(\"data/samples_summary.csv\")\n",
    "drug_CC = pd.read_csv(\"data/drug_CC.csv\")\n",
    "overview_MIC_data_dict = pd.read_excel(\"data/overview_MIC_data.xlsx\", sheet_name=None)\n",
    "analysis_dir = '/n/data1/hms/dbmi/farhat/Sanjana/who-mutation-catalogue'\n",
    "input_data_dir = '/n/data1/hms/dbmi/farhat/ye12/who'\n",
    "drug_gene_mapping = pd.read_csv(\"data/drug_gene_mapping.csv\")\n",
    "\n",
    "who_variants_combined = pd.read_csv(\"analysis/who_confidence_2021.csv\")\n",
    "\n",
    "# utils files are in the utils_files folder\n",
    "sys.path.append(\"utils\")\n",
    "from data_utils import *\n",
    "from stats_utils import *\n",
    "\n",
    "lineages = pd.read_csv(\"data/lineages.csv\", low_memory=False)\n",
    "import warnings\n",
    "warnings.filterwarnings(\"ignore\")"
   ]
  },
  {
   "cell_type": "markdown",
   "id": "9dbf2639-a5ac-4eab-9a2d-a46dd07840e3",
   "metadata": {},
   "source": [
    "# INH Compensatory and Neutral Mutation Controls"
   ]
  },
  {
   "cell_type": "code",
   "execution_count": 178,
   "id": "61bea1ac-b12e-4794-a7ac-48aaa93917a3",
   "metadata": {},
   "outputs": [],
   "source": [
    "inh_results = pd.read_excel(\"results/BINARY/Isoniazid.xlsx\", sheet_name=None)"
   ]
  },
  {
   "cell_type": "code",
   "execution_count": 179,
   "id": "e4549514-e063-469a-955d-7396209589bf",
   "metadata": {},
   "outputs": [
    {
     "name": "stdout",
     "output_type": "stream",
     "text": [
      "13 8\n"
     ]
    }
   ],
   "source": [
    "compens_lst = ['c.-47_-46insT', 'c.-48G>A', 'c.-51G>A', 'c.-81C>T', 'c.-76T>A', 'c.-57C>T', 'c.-52C>T', 'c.-88_-87insAT', 'c.-77T>G', 'c.-72C>T', 'c.-54C>T', 'c.-74G>A', 'c.-52C>A']\n",
    "compens_lst = [\"ahpC_\" + val for val in compens_lst]\n",
    "\n",
    "# 'c.-42T>C' not in dataset, but 'c.-42T>G' is\n",
    "neutral_lst = ['c.-88G>A', 'c.-84T>C', 'c.-42T>C', 'c.-42T>G', 'c.-88G>A', 'c.-46G>A', 'c.-10G>A', 'c.33G>A']\n",
    "neutral_lst = [\"ahpC_\" + val for val in neutral_lst]\n",
    "\n",
    "print(len(compens_lst), len(neutral_lst))"
   ]
  },
  {
   "cell_type": "code",
   "execution_count": 222,
   "id": "07450aa8-ea58-4d2b-8eb2-17358bc657c5",
   "metadata": {},
   "outputs": [],
   "source": [
    "inh_tier1_WHO = inh_results[\"Model_3\"].loc[~pd.isnull(inh_results[\"Model_3\"][\"Odds_Ratio\"])]\n",
    "\n",
    "# add neutral p-value, which is 1 - LRT p-value, then add FDR correction\n",
    "inh_tier1_WHO[\"neutral_pval\"] = 1 - inh_tier1_WHO[\"LRT_pval\"]\n",
    "_, bh_pvals, _, _ = sm.multipletests(inh_tier1_WHO[\"neutral_pval\"], method='fdr_bh', is_sorted=False, returnsorted=False)\n",
    "inh_tier1_WHO[\"neutral_BH_pval\"] = bh_pvals"
   ]
  },
  {
   "cell_type": "code",
   "execution_count": 223,
   "id": "ad82c405-e406-4219-928d-694ffff9c9cd",
   "metadata": {},
   "outputs": [
    {
     "data": {
      "text/plain": [
       "Assoc w R - strict        5\n",
       "Assoc w R                 5\n",
       "Evidence against Assoc    3\n",
       "Name: regression_confidence, dtype: int64"
      ]
     },
     "execution_count": 223,
     "metadata": {},
     "output_type": "execute_result"
    }
   ],
   "source": [
    "inh_tier1_WHO.query(\"mutation.isin(@compens_lst)\")[\"regression_confidence\"].value_counts()"
   ]
  },
  {
   "cell_type": "code",
   "execution_count": 224,
   "id": "47a18d01-534d-411f-883c-bf1d249296d4",
   "metadata": {},
   "outputs": [
    {
     "data": {
      "text/plain": [
       "0.42197873907259376"
      ]
     },
     "execution_count": 224,
     "metadata": {},
     "output_type": "execute_result"
    }
   ],
   "source": [
    "# should all be > 0.05\n",
    "np.min(inh_tier1_WHO.query(\"mutation.isin(@compens_lst)\")[\"neutral_BH_pval\"].values)"
   ]
  },
  {
   "cell_type": "code",
   "execution_count": 229,
   "id": "3ea2e130-e924-418d-93a4-a828e0809098",
   "metadata": {},
   "outputs": [],
   "source": [
    "# inh_tier1_WHO.query(\"mutation.isin(@compens_lst)\").sort_values(\"mutation\")[[\"mutation\", \"position\", \"confidence_V1\", \"Odds_Ratio\", \"OR_LB\", \"OR_UB\", \"BH_pval\", \"PPV_LB\", \"Num_Isolates\", \"LRT_BH_pval\", \"regression_confidence\"]]"
   ]
  },
  {
   "cell_type": "code",
   "execution_count": 228,
   "id": "83787578-560a-4573-9710-be8ed1447f8d",
   "metadata": {},
   "outputs": [
    {
     "data": {
      "text/html": [
       "<div>\n",
       "<style scoped>\n",
       "    .dataframe tbody tr th:only-of-type {\n",
       "        vertical-align: middle;\n",
       "    }\n",
       "\n",
       "    .dataframe tbody tr th {\n",
       "        vertical-align: top;\n",
       "    }\n",
       "\n",
       "    .dataframe thead th {\n",
       "        text-align: right;\n",
       "    }\n",
       "</style>\n",
       "<table border=\"1\" class=\"dataframe\">\n",
       "  <thead>\n",
       "    <tr style=\"text-align: right;\">\n",
       "      <th></th>\n",
       "      <th>mutation</th>\n",
       "      <th>Tier</th>\n",
       "      <th>predicted_effect</th>\n",
       "      <th>position</th>\n",
       "      <th>confidence_V1</th>\n",
       "      <th>Odds_Ratio</th>\n",
       "      <th>OR_LB</th>\n",
       "      <th>OR_UB</th>\n",
       "      <th>pval</th>\n",
       "      <th>BH_pval</th>\n",
       "      <th>...</th>\n",
       "      <th>LR+_UB</th>\n",
       "      <th>LR-_LB</th>\n",
       "      <th>LR-_UB</th>\n",
       "      <th>regression_confidence</th>\n",
       "      <th>High_Predictive_Value</th>\n",
       "      <th>Phenos</th>\n",
       "      <th>pool_type</th>\n",
       "      <th>synonymous</th>\n",
       "      <th>neutral_pval</th>\n",
       "      <th>neutral_BH_pval</th>\n",
       "    </tr>\n",
       "  </thead>\n",
       "  <tbody>\n",
       "    <tr>\n",
       "      <th>668</th>\n",
       "      <td>ahpC_c.-42T&gt;G</td>\n",
       "      <td>1.0</td>\n",
       "      <td>upstream_gene_variant</td>\n",
       "      <td>2726151</td>\n",
       "      <td>3) Uncertain significance</td>\n",
       "      <td>1.007639</td>\n",
       "      <td>1.000000</td>\n",
       "      <td>1.015626</td>\n",
       "      <td>0.384</td>\n",
       "      <td>0.562238</td>\n",
       "      <td>...</td>\n",
       "      <td>inf</td>\n",
       "      <td>0.999779</td>\n",
       "      <td>1.000072</td>\n",
       "      <td>Evidence against Assoc</td>\n",
       "      <td>0.0</td>\n",
       "      <td>WHO</td>\n",
       "      <td>unpooled</td>\n",
       "      <td>0.0</td>\n",
       "      <td>0.000000</td>\n",
       "      <td>0.000000</td>\n",
       "    </tr>\n",
       "    <tr>\n",
       "      <th>1171</th>\n",
       "      <td>ahpC_c.-84T&gt;C</td>\n",
       "      <td>1.0</td>\n",
       "      <td>upstream_gene_variant</td>\n",
       "      <td>2726109</td>\n",
       "      <td>3) Uncertain significance</td>\n",
       "      <td>0.985015</td>\n",
       "      <td>0.975616</td>\n",
       "      <td>1.000000</td>\n",
       "      <td>0.389</td>\n",
       "      <td>0.562238</td>\n",
       "      <td>...</td>\n",
       "      <td>inf</td>\n",
       "      <td>0.999777</td>\n",
       "      <td>1.000036</td>\n",
       "      <td>Evidence against Assoc</td>\n",
       "      <td>0.0</td>\n",
       "      <td>WHO</td>\n",
       "      <td>unpooled</td>\n",
       "      <td>0.0</td>\n",
       "      <td>0.251235</td>\n",
       "      <td>0.466840</td>\n",
       "    </tr>\n",
       "    <tr>\n",
       "      <th>1210</th>\n",
       "      <td>ahpC_c.-10G&gt;A</td>\n",
       "      <td>1.0</td>\n",
       "      <td>upstream_gene_variant</td>\n",
       "      <td>2726183</td>\n",
       "      <td>NaN</td>\n",
       "      <td>0.983347</td>\n",
       "      <td>0.973404</td>\n",
       "      <td>1.000000</td>\n",
       "      <td>0.386</td>\n",
       "      <td>0.562238</td>\n",
       "      <td>...</td>\n",
       "      <td>inf</td>\n",
       "      <td>0.999777</td>\n",
       "      <td>1.000036</td>\n",
       "      <td>Evidence against Assoc</td>\n",
       "      <td>0.0</td>\n",
       "      <td>WHO</td>\n",
       "      <td>unpooled</td>\n",
       "      <td>0.0</td>\n",
       "      <td>0.272452</td>\n",
       "      <td>0.482722</td>\n",
       "    </tr>\n",
       "    <tr>\n",
       "      <th>1334</th>\n",
       "      <td>ahpC_c.-88G&gt;A</td>\n",
       "      <td>1.0</td>\n",
       "      <td>upstream_gene_variant</td>\n",
       "      <td>2726105</td>\n",
       "      <td>5) Not assoc w R</td>\n",
       "      <td>0.952190</td>\n",
       "      <td>0.883199</td>\n",
       "      <td>1.024105</td>\n",
       "      <td>0.084</td>\n",
       "      <td>0.288857</td>\n",
       "      <td>...</td>\n",
       "      <td>2.19076</td>\n",
       "      <td>0.910376</td>\n",
       "      <td>0.923906</td>\n",
       "      <td>Evidence against Assoc</td>\n",
       "      <td>0.0</td>\n",
       "      <td>WHO</td>\n",
       "      <td>unpooled</td>\n",
       "      <td>0.0</td>\n",
       "      <td>0.000000</td>\n",
       "      <td>0.000000</td>\n",
       "    </tr>\n",
       "  </tbody>\n",
       "</table>\n",
       "<p>4 rows × 45 columns</p>\n",
       "</div>"
      ],
      "text/plain": [
       "           mutation  Tier       predicted_effect position  \\\n",
       "668   ahpC_c.-42T>G   1.0  upstream_gene_variant  2726151   \n",
       "1171  ahpC_c.-84T>C   1.0  upstream_gene_variant  2726109   \n",
       "1210  ahpC_c.-10G>A   1.0  upstream_gene_variant  2726183   \n",
       "1334  ahpC_c.-88G>A   1.0  upstream_gene_variant  2726105   \n",
       "\n",
       "                  confidence_V1  Odds_Ratio     OR_LB     OR_UB   pval  \\\n",
       "668   3) Uncertain significance    1.007639  1.000000  1.015626  0.384   \n",
       "1171  3) Uncertain significance    0.985015  0.975616  1.000000  0.389   \n",
       "1210                        NaN    0.983347  0.973404  1.000000  0.386   \n",
       "1334           5) Not assoc w R    0.952190  0.883199  1.024105  0.084   \n",
       "\n",
       "       BH_pval  ...   LR+_UB    LR-_LB    LR-_UB   regression_confidence  \\\n",
       "668   0.562238  ...      inf  0.999779  1.000072  Evidence against Assoc   \n",
       "1171  0.562238  ...      inf  0.999777  1.000036  Evidence against Assoc   \n",
       "1210  0.562238  ...      inf  0.999777  1.000036  Evidence against Assoc   \n",
       "1334  0.288857  ...  2.19076  0.910376  0.923906  Evidence against Assoc   \n",
       "\n",
       "      High_Predictive_Value  Phenos  pool_type  synonymous  neutral_pval  \\\n",
       "668                     0.0     WHO   unpooled         0.0      0.000000   \n",
       "1171                    0.0     WHO   unpooled         0.0      0.251235   \n",
       "1210                    0.0     WHO   unpooled         0.0      0.272452   \n",
       "1334                    0.0     WHO   unpooled         0.0      0.000000   \n",
       "\n",
       "      neutral_BH_pval  \n",
       "668          0.000000  \n",
       "1171         0.466840  \n",
       "1210         0.482722  \n",
       "1334         0.000000  \n",
       "\n",
       "[4 rows x 45 columns]"
      ]
     },
     "execution_count": 228,
     "metadata": {},
     "output_type": "execute_result"
    }
   ],
   "source": [
    "# ahpC_c.-42T>G, ahpC_c.-88G>A are neutral\n",
    "inh_tier1_WHO.query(\"mutation.isin(@neutral_lst)\")"
   ]
  },
  {
   "cell_type": "code",
   "execution_count": 226,
   "id": "dfa77181-1c31-4cf7-ac64-8aec08bb04c6",
   "metadata": {},
   "outputs": [
    {
     "data": {
      "text/plain": [
       "Evidence against Assoc    4\n",
       "Name: regression_confidence, dtype: int64"
      ]
     },
     "execution_count": 226,
     "metadata": {},
     "output_type": "execute_result"
    }
   ],
   "source": [
    "inh_tier1_WHO.query(\"mutation.isin(@neutral_lst)\")[\"regression_confidence\"].value_counts()"
   ]
  },
  {
   "cell_type": "code",
   "execution_count": 227,
   "id": "9d884046-e681-4bed-8ad4-240fb8a8a76b",
   "metadata": {},
   "outputs": [
    {
     "data": {
      "text/plain": [
       "Evidence against Assoc    123\n",
       "Assoc w R                   3\n",
       "Name: regression_confidence, dtype: int64"
      ]
     },
     "execution_count": 227,
     "metadata": {},
     "output_type": "execute_result"
    }
   ],
   "source": [
    "inh_tier1_WHO.query(\"neutral_BH_pval < 0.05\").regression_confidence.value_counts()"
   ]
  },
  {
   "cell_type": "code",
   "execution_count": 209,
   "id": "db20504b-c247-4ada-9458-0af3b4f3c050",
   "metadata": {},
   "outputs": [
    {
     "data": {
      "text/html": [
       "<div>\n",
       "<style scoped>\n",
       "    .dataframe tbody tr th:only-of-type {\n",
       "        vertical-align: middle;\n",
       "    }\n",
       "\n",
       "    .dataframe tbody tr th {\n",
       "        vertical-align: top;\n",
       "    }\n",
       "\n",
       "    .dataframe thead th {\n",
       "        text-align: right;\n",
       "    }\n",
       "</style>\n",
       "<table border=\"1\" class=\"dataframe\">\n",
       "  <thead>\n",
       "    <tr style=\"text-align: right;\">\n",
       "      <th></th>\n",
       "      <th>mutation</th>\n",
       "      <th>Tier</th>\n",
       "      <th>predicted_effect</th>\n",
       "      <th>position</th>\n",
       "      <th>Odds_Ratio</th>\n",
       "      <th>OR_LB</th>\n",
       "      <th>OR_UB</th>\n",
       "      <th>pval</th>\n",
       "      <th>BH_pval</th>\n",
       "      <th>LRT_pval</th>\n",
       "      <th>...</th>\n",
       "      <th>AUC_pval</th>\n",
       "      <th>AUC_BH_pval</th>\n",
       "      <th>Num_Isolates</th>\n",
       "      <th>Total_Isolates</th>\n",
       "      <th>TP</th>\n",
       "      <th>FP</th>\n",
       "      <th>TN</th>\n",
       "      <th>FN</th>\n",
       "      <th>PPV</th>\n",
       "      <th>NPV</th>\n",
       "    </tr>\n",
       "  </thead>\n",
       "  <tbody>\n",
       "    <tr>\n",
       "      <th>513</th>\n",
       "      <td>katG_p.Val628Gly</td>\n",
       "      <td>1.0</td>\n",
       "      <td>missense_variant</td>\n",
       "      <td>2154229</td>\n",
       "      <td>1.013315</td>\n",
       "      <td>1.0</td>\n",
       "      <td>1.023394</td>\n",
       "      <td>0.0</td>\n",
       "      <td>0.0</td>\n",
       "      <td>1.0</td>\n",
       "      <td>...</td>\n",
       "      <td>NaN</td>\n",
       "      <td>NaN</td>\n",
       "      <td>1.0</td>\n",
       "      <td>34814.0</td>\n",
       "      <td>1.0</td>\n",
       "      <td>0.0</td>\n",
       "      <td>21433.0</td>\n",
       "      <td>13380.0</td>\n",
       "      <td>1.0</td>\n",
       "      <td>0.615661</td>\n",
       "    </tr>\n",
       "    <tr>\n",
       "      <th>514</th>\n",
       "      <td>katG_c.-506A&gt;T</td>\n",
       "      <td>1.0</td>\n",
       "      <td>upstream_gene_variant</td>\n",
       "      <td>2156617</td>\n",
       "      <td>1.013315</td>\n",
       "      <td>1.0</td>\n",
       "      <td>1.023394</td>\n",
       "      <td>0.0</td>\n",
       "      <td>0.0</td>\n",
       "      <td>1.0</td>\n",
       "      <td>...</td>\n",
       "      <td>NaN</td>\n",
       "      <td>NaN</td>\n",
       "      <td>1.0</td>\n",
       "      <td>34814.0</td>\n",
       "      <td>1.0</td>\n",
       "      <td>0.0</td>\n",
       "      <td>21433.0</td>\n",
       "      <td>13380.0</td>\n",
       "      <td>1.0</td>\n",
       "      <td>0.615661</td>\n",
       "    </tr>\n",
       "    <tr>\n",
       "      <th>515</th>\n",
       "      <td>katG_p.Ala492Val</td>\n",
       "      <td>1.0</td>\n",
       "      <td>missense_variant</td>\n",
       "      <td>2154637</td>\n",
       "      <td>1.013315</td>\n",
       "      <td>1.0</td>\n",
       "      <td>1.023394</td>\n",
       "      <td>0.0</td>\n",
       "      <td>0.0</td>\n",
       "      <td>1.0</td>\n",
       "      <td>...</td>\n",
       "      <td>NaN</td>\n",
       "      <td>NaN</td>\n",
       "      <td>1.0</td>\n",
       "      <td>34814.0</td>\n",
       "      <td>1.0</td>\n",
       "      <td>0.0</td>\n",
       "      <td>21433.0</td>\n",
       "      <td>13380.0</td>\n",
       "      <td>1.0</td>\n",
       "      <td>0.615661</td>\n",
       "    </tr>\n",
       "  </tbody>\n",
       "</table>\n",
       "<p>3 rows × 21 columns</p>\n",
       "</div>"
      ],
      "text/plain": [
       "             mutation  Tier       predicted_effect position  Odds_Ratio  \\\n",
       "513  katG_p.Val628Gly   1.0       missense_variant  2154229    1.013315   \n",
       "514    katG_c.-506A>T   1.0  upstream_gene_variant  2156617    1.013315   \n",
       "515  katG_p.Ala492Val   1.0       missense_variant  2154637    1.013315   \n",
       "\n",
       "     OR_LB     OR_UB  pval  BH_pval  LRT_pval  ...  AUC_pval  AUC_BH_pval  \\\n",
       "513    1.0  1.023394   0.0      0.0       1.0  ...       NaN          NaN   \n",
       "514    1.0  1.023394   0.0      0.0       1.0  ...       NaN          NaN   \n",
       "515    1.0  1.023394   0.0      0.0       1.0  ...       NaN          NaN   \n",
       "\n",
       "     Num_Isolates  Total_Isolates   TP   FP       TN       FN  PPV       NPV  \n",
       "513           1.0         34814.0  1.0  0.0  21433.0  13380.0  1.0  0.615661  \n",
       "514           1.0         34814.0  1.0  0.0  21433.0  13380.0  1.0  0.615661  \n",
       "515           1.0         34814.0  1.0  0.0  21433.0  13380.0  1.0  0.615661  \n",
       "\n",
       "[3 rows x 21 columns]"
      ]
     },
     "execution_count": 209,
     "metadata": {},
     "output_type": "execute_result"
    }
   ],
   "source": [
    "# weird: all 3 mutations are ONLY present in sample 173060\n",
    "inh_tier1_WHO.query(\"neutral_BH_pval < 0.05 & regression_confidence=='Assoc w R'\")[['mutation', 'Tier', 'predicted_effect', 'position',\n",
    "       'Odds_Ratio', 'OR_LB', 'OR_UB', 'pval', 'BH_pval', 'LRT_pval',\n",
    "       'LRT_BH_pval', 'AUC_pval', 'AUC_BH_pval', 'Num_Isolates',\n",
    "       'Total_Isolates', 'TP', 'FP', 'TN', 'FN', 'PPV', 'NPV']]"
   ]
  },
  {
   "cell_type": "code",
   "execution_count": 211,
   "id": "6d3d05ec-4d14-497c-8107-d83f8146d112",
   "metadata": {},
   "outputs": [],
   "source": [
    "model_matrix = pd.read_pickle(os.path.join(analysis_dir, \"Isoniazid/BINARY/tiers=1/phenos=WHO/dropAF_noSyn_unpooled/model_matrix.pkl\"))"
   ]
  },
  {
   "cell_type": "code",
   "execution_count": 215,
   "id": "cbd6e5e6-41d6-4f30-836f-2bbb14458b25",
   "metadata": {},
   "outputs": [
    {
     "data": {
      "text/plain": [
       "mutation\n",
       "katG_p.Val628Gly    1.0\n",
       "katG_c.-506A>T      1.0\n",
       "katG_p.Ala492Val    1.0\n",
       "dtype: float64"
      ]
     },
     "execution_count": 215,
     "metadata": {},
     "output_type": "execute_result"
    }
   ],
   "source": [
    "model_matrix[[\"katG_p.Val628Gly\", \"katG_c.-506A>T\", \"katG_p.Ala492Val\"]].sum()"
   ]
  },
  {
   "cell_type": "code",
   "execution_count": 218,
   "id": "58943939-d58b-4f04-b3f2-a0ab349cb502",
   "metadata": {},
   "outputs": [
    {
     "data": {
      "text/html": [
       "<div>\n",
       "<style scoped>\n",
       "    .dataframe tbody tr th:only-of-type {\n",
       "        vertical-align: middle;\n",
       "    }\n",
       "\n",
       "    .dataframe tbody tr th {\n",
       "        vertical-align: top;\n",
       "    }\n",
       "\n",
       "    .dataframe thead th {\n",
       "        text-align: right;\n",
       "    }\n",
       "</style>\n",
       "<table border=\"1\" class=\"dataframe\">\n",
       "  <thead>\n",
       "    <tr style=\"text-align: right;\">\n",
       "      <th>mutation</th>\n",
       "      <th>ahpC_c.-10G&gt;A</th>\n",
       "      <th>ahpC_c.-34delA</th>\n",
       "      <th>ahpC_c.-36C&gt;T</th>\n",
       "      <th>ahpC_c.-3G&gt;C</th>\n",
       "      <th>ahpC_c.-3_-2insT</th>\n",
       "      <th>ahpC_c.-40G&gt;A</th>\n",
       "      <th>ahpC_c.-41C&gt;T</th>\n",
       "      <th>ahpC_c.-42T&gt;G</th>\n",
       "      <th>ahpC_c.-44_-43insC</th>\n",
       "      <th>ahpC_c.-45A&gt;G</th>\n",
       "      <th>...</th>\n",
       "      <th>katG_p.Val710Gly</th>\n",
       "      <th>katG_p.Val710Ile</th>\n",
       "      <th>katG_p.Val731Gly</th>\n",
       "      <th>katG_p.Val731Met</th>\n",
       "      <th>katG_p.Val739Met</th>\n",
       "      <th>katG_p.Val73Ala</th>\n",
       "      <th>katG_p.Val73Gly</th>\n",
       "      <th>katG_p.Val83Gly</th>\n",
       "      <th>katG_p.Val83Leu</th>\n",
       "      <th>katG_p.Val83fs</th>\n",
       "    </tr>\n",
       "    <tr>\n",
       "      <th>sample_id</th>\n",
       "      <th></th>\n",
       "      <th></th>\n",
       "      <th></th>\n",
       "      <th></th>\n",
       "      <th></th>\n",
       "      <th></th>\n",
       "      <th></th>\n",
       "      <th></th>\n",
       "      <th></th>\n",
       "      <th></th>\n",
       "      <th></th>\n",
       "      <th></th>\n",
       "      <th></th>\n",
       "      <th></th>\n",
       "      <th></th>\n",
       "      <th></th>\n",
       "      <th></th>\n",
       "      <th></th>\n",
       "      <th></th>\n",
       "      <th></th>\n",
       "      <th></th>\n",
       "    </tr>\n",
       "  </thead>\n",
       "  <tbody>\n",
       "    <tr>\n",
       "      <th>173060</th>\n",
       "      <td>0.0</td>\n",
       "      <td>0.0</td>\n",
       "      <td>0.0</td>\n",
       "      <td>0.0</td>\n",
       "      <td>0.0</td>\n",
       "      <td>0.0</td>\n",
       "      <td>0.0</td>\n",
       "      <td>0.0</td>\n",
       "      <td>0.0</td>\n",
       "      <td>0.0</td>\n",
       "      <td>...</td>\n",
       "      <td>0.0</td>\n",
       "      <td>0.0</td>\n",
       "      <td>0.0</td>\n",
       "      <td>0.0</td>\n",
       "      <td>0.0</td>\n",
       "      <td>0.0</td>\n",
       "      <td>0.0</td>\n",
       "      <td>0.0</td>\n",
       "      <td>0.0</td>\n",
       "      <td>0.0</td>\n",
       "    </tr>\n",
       "  </tbody>\n",
       "</table>\n",
       "<p>1 rows × 1343 columns</p>\n",
       "</div>"
      ],
      "text/plain": [
       "mutation   ahpC_c.-10G>A  ahpC_c.-34delA  ahpC_c.-36C>T  ahpC_c.-3G>C  \\\n",
       "sample_id                                                               \n",
       "173060               0.0             0.0            0.0           0.0   \n",
       "\n",
       "mutation   ahpC_c.-3_-2insT  ahpC_c.-40G>A  ahpC_c.-41C>T  ahpC_c.-42T>G  \\\n",
       "sample_id                                                                  \n",
       "173060                  0.0            0.0            0.0            0.0   \n",
       "\n",
       "mutation   ahpC_c.-44_-43insC  ahpC_c.-45A>G  ...  katG_p.Val710Gly  \\\n",
       "sample_id                                     ...                     \n",
       "173060                    0.0            0.0  ...               0.0   \n",
       "\n",
       "mutation   katG_p.Val710Ile  katG_p.Val731Gly  katG_p.Val731Met  \\\n",
       "sample_id                                                         \n",
       "173060                  0.0               0.0               0.0   \n",
       "\n",
       "mutation   katG_p.Val739Met  katG_p.Val73Ala  katG_p.Val73Gly  \\\n",
       "sample_id                                                       \n",
       "173060                  0.0              0.0              0.0   \n",
       "\n",
       "mutation   katG_p.Val83Gly  katG_p.Val83Leu  katG_p.Val83fs  \n",
       "sample_id                                                    \n",
       "173060                 0.0              0.0             0.0  \n",
       "\n",
       "[1 rows x 1343 columns]"
      ]
     },
     "execution_count": 218,
     "metadata": {},
     "output_type": "execute_result"
    }
   ],
   "source": [
    "model_matrix.loc[model_matrix[\"katG_p.Ala492Val\"]==1]"
   ]
  },
  {
   "cell_type": "code",
   "execution_count": 217,
   "id": "b9186ce8-9817-42df-bab0-05a88c8ddbf7",
   "metadata": {},
   "outputs": [
    {
     "data": {
      "text/html": [
       "<div>\n",
       "<style scoped>\n",
       "    .dataframe tbody tr th:only-of-type {\n",
       "        vertical-align: middle;\n",
       "    }\n",
       "\n",
       "    .dataframe tbody tr th {\n",
       "        vertical-align: top;\n",
       "    }\n",
       "\n",
       "    .dataframe thead th {\n",
       "        text-align: right;\n",
       "    }\n",
       "</style>\n",
       "<table border=\"1\" class=\"dataframe\">\n",
       "  <thead>\n",
       "    <tr style=\"text-align: right;\">\n",
       "      <th>mutation</th>\n",
       "      <th>ahpC_c.-10G&gt;A</th>\n",
       "      <th>ahpC_c.-34delA</th>\n",
       "      <th>ahpC_c.-36C&gt;T</th>\n",
       "      <th>ahpC_c.-3G&gt;C</th>\n",
       "      <th>ahpC_c.-3_-2insT</th>\n",
       "      <th>ahpC_c.-40G&gt;A</th>\n",
       "      <th>ahpC_c.-41C&gt;T</th>\n",
       "      <th>ahpC_c.-42T&gt;G</th>\n",
       "      <th>ahpC_c.-44_-43insC</th>\n",
       "      <th>ahpC_c.-45A&gt;G</th>\n",
       "      <th>...</th>\n",
       "      <th>katG_p.Val710Gly</th>\n",
       "      <th>katG_p.Val710Ile</th>\n",
       "      <th>katG_p.Val731Gly</th>\n",
       "      <th>katG_p.Val731Met</th>\n",
       "      <th>katG_p.Val739Met</th>\n",
       "      <th>katG_p.Val73Ala</th>\n",
       "      <th>katG_p.Val73Gly</th>\n",
       "      <th>katG_p.Val83Gly</th>\n",
       "      <th>katG_p.Val83Leu</th>\n",
       "      <th>katG_p.Val83fs</th>\n",
       "    </tr>\n",
       "    <tr>\n",
       "      <th>sample_id</th>\n",
       "      <th></th>\n",
       "      <th></th>\n",
       "      <th></th>\n",
       "      <th></th>\n",
       "      <th></th>\n",
       "      <th></th>\n",
       "      <th></th>\n",
       "      <th></th>\n",
       "      <th></th>\n",
       "      <th></th>\n",
       "      <th></th>\n",
       "      <th></th>\n",
       "      <th></th>\n",
       "      <th></th>\n",
       "      <th></th>\n",
       "      <th></th>\n",
       "      <th></th>\n",
       "      <th></th>\n",
       "      <th></th>\n",
       "      <th></th>\n",
       "      <th></th>\n",
       "    </tr>\n",
       "  </thead>\n",
       "  <tbody>\n",
       "    <tr>\n",
       "      <th>173060</th>\n",
       "      <td>0.0</td>\n",
       "      <td>0.0</td>\n",
       "      <td>0.0</td>\n",
       "      <td>0.0</td>\n",
       "      <td>0.0</td>\n",
       "      <td>0.0</td>\n",
       "      <td>0.0</td>\n",
       "      <td>0.0</td>\n",
       "      <td>0.0</td>\n",
       "      <td>0.0</td>\n",
       "      <td>...</td>\n",
       "      <td>0.0</td>\n",
       "      <td>0.0</td>\n",
       "      <td>0.0</td>\n",
       "      <td>0.0</td>\n",
       "      <td>0.0</td>\n",
       "      <td>0.0</td>\n",
       "      <td>0.0</td>\n",
       "      <td>0.0</td>\n",
       "      <td>0.0</td>\n",
       "      <td>0.0</td>\n",
       "    </tr>\n",
       "  </tbody>\n",
       "</table>\n",
       "<p>1 rows × 1343 columns</p>\n",
       "</div>"
      ],
      "text/plain": [
       "mutation   ahpC_c.-10G>A  ahpC_c.-34delA  ahpC_c.-36C>T  ahpC_c.-3G>C  \\\n",
       "sample_id                                                               \n",
       "173060               0.0             0.0            0.0           0.0   \n",
       "\n",
       "mutation   ahpC_c.-3_-2insT  ahpC_c.-40G>A  ahpC_c.-41C>T  ahpC_c.-42T>G  \\\n",
       "sample_id                                                                  \n",
       "173060                  0.0            0.0            0.0            0.0   \n",
       "\n",
       "mutation   ahpC_c.-44_-43insC  ahpC_c.-45A>G  ...  katG_p.Val710Gly  \\\n",
       "sample_id                                     ...                     \n",
       "173060                    0.0            0.0  ...               0.0   \n",
       "\n",
       "mutation   katG_p.Val710Ile  katG_p.Val731Gly  katG_p.Val731Met  \\\n",
       "sample_id                                                         \n",
       "173060                  0.0               0.0               0.0   \n",
       "\n",
       "mutation   katG_p.Val739Met  katG_p.Val73Ala  katG_p.Val73Gly  \\\n",
       "sample_id                                                       \n",
       "173060                  0.0              0.0              0.0   \n",
       "\n",
       "mutation   katG_p.Val83Gly  katG_p.Val83Leu  katG_p.Val83fs  \n",
       "sample_id                                                    \n",
       "173060                 0.0              0.0             0.0  \n",
       "\n",
       "[1 rows x 1343 columns]"
      ]
     },
     "execution_count": 217,
     "metadata": {},
     "output_type": "execute_result"
    }
   ],
   "source": [
    "model_matrix.loc[model_matrix[\"katG_c.-506A>T\"]==1]"
   ]
  },
  {
   "cell_type": "code",
   "execution_count": 216,
   "id": "6193f1d0-46bf-4f2d-bf95-c4fb9be568f9",
   "metadata": {},
   "outputs": [
    {
     "data": {
      "text/html": [
       "<div>\n",
       "<style scoped>\n",
       "    .dataframe tbody tr th:only-of-type {\n",
       "        vertical-align: middle;\n",
       "    }\n",
       "\n",
       "    .dataframe tbody tr th {\n",
       "        vertical-align: top;\n",
       "    }\n",
       "\n",
       "    .dataframe thead th {\n",
       "        text-align: right;\n",
       "    }\n",
       "</style>\n",
       "<table border=\"1\" class=\"dataframe\">\n",
       "  <thead>\n",
       "    <tr style=\"text-align: right;\">\n",
       "      <th>mutation</th>\n",
       "      <th>ahpC_c.-10G&gt;A</th>\n",
       "      <th>ahpC_c.-34delA</th>\n",
       "      <th>ahpC_c.-36C&gt;T</th>\n",
       "      <th>ahpC_c.-3G&gt;C</th>\n",
       "      <th>ahpC_c.-3_-2insT</th>\n",
       "      <th>ahpC_c.-40G&gt;A</th>\n",
       "      <th>ahpC_c.-41C&gt;T</th>\n",
       "      <th>ahpC_c.-42T&gt;G</th>\n",
       "      <th>ahpC_c.-44_-43insC</th>\n",
       "      <th>ahpC_c.-45A&gt;G</th>\n",
       "      <th>...</th>\n",
       "      <th>katG_p.Val710Gly</th>\n",
       "      <th>katG_p.Val710Ile</th>\n",
       "      <th>katG_p.Val731Gly</th>\n",
       "      <th>katG_p.Val731Met</th>\n",
       "      <th>katG_p.Val739Met</th>\n",
       "      <th>katG_p.Val73Ala</th>\n",
       "      <th>katG_p.Val73Gly</th>\n",
       "      <th>katG_p.Val83Gly</th>\n",
       "      <th>katG_p.Val83Leu</th>\n",
       "      <th>katG_p.Val83fs</th>\n",
       "    </tr>\n",
       "    <tr>\n",
       "      <th>sample_id</th>\n",
       "      <th></th>\n",
       "      <th></th>\n",
       "      <th></th>\n",
       "      <th></th>\n",
       "      <th></th>\n",
       "      <th></th>\n",
       "      <th></th>\n",
       "      <th></th>\n",
       "      <th></th>\n",
       "      <th></th>\n",
       "      <th></th>\n",
       "      <th></th>\n",
       "      <th></th>\n",
       "      <th></th>\n",
       "      <th></th>\n",
       "      <th></th>\n",
       "      <th></th>\n",
       "      <th></th>\n",
       "      <th></th>\n",
       "      <th></th>\n",
       "      <th></th>\n",
       "    </tr>\n",
       "  </thead>\n",
       "  <tbody>\n",
       "    <tr>\n",
       "      <th>173060</th>\n",
       "      <td>0.0</td>\n",
       "      <td>0.0</td>\n",
       "      <td>0.0</td>\n",
       "      <td>0.0</td>\n",
       "      <td>0.0</td>\n",
       "      <td>0.0</td>\n",
       "      <td>0.0</td>\n",
       "      <td>0.0</td>\n",
       "      <td>0.0</td>\n",
       "      <td>0.0</td>\n",
       "      <td>...</td>\n",
       "      <td>0.0</td>\n",
       "      <td>0.0</td>\n",
       "      <td>0.0</td>\n",
       "      <td>0.0</td>\n",
       "      <td>0.0</td>\n",
       "      <td>0.0</td>\n",
       "      <td>0.0</td>\n",
       "      <td>0.0</td>\n",
       "      <td>0.0</td>\n",
       "      <td>0.0</td>\n",
       "    </tr>\n",
       "  </tbody>\n",
       "</table>\n",
       "<p>1 rows × 1343 columns</p>\n",
       "</div>"
      ],
      "text/plain": [
       "mutation   ahpC_c.-10G>A  ahpC_c.-34delA  ahpC_c.-36C>T  ahpC_c.-3G>C  \\\n",
       "sample_id                                                               \n",
       "173060               0.0             0.0            0.0           0.0   \n",
       "\n",
       "mutation   ahpC_c.-3_-2insT  ahpC_c.-40G>A  ahpC_c.-41C>T  ahpC_c.-42T>G  \\\n",
       "sample_id                                                                  \n",
       "173060                  0.0            0.0            0.0            0.0   \n",
       "\n",
       "mutation   ahpC_c.-44_-43insC  ahpC_c.-45A>G  ...  katG_p.Val710Gly  \\\n",
       "sample_id                                     ...                     \n",
       "173060                    0.0            0.0  ...               0.0   \n",
       "\n",
       "mutation   katG_p.Val710Ile  katG_p.Val731Gly  katG_p.Val731Met  \\\n",
       "sample_id                                                         \n",
       "173060                  0.0               0.0               0.0   \n",
       "\n",
       "mutation   katG_p.Val739Met  katG_p.Val73Ala  katG_p.Val73Gly  \\\n",
       "sample_id                                                       \n",
       "173060                  0.0              0.0              0.0   \n",
       "\n",
       "mutation   katG_p.Val83Gly  katG_p.Val83Leu  katG_p.Val83fs  \n",
       "sample_id                                                    \n",
       "173060                 0.0              0.0             0.0  \n",
       "\n",
       "[1 rows x 1343 columns]"
      ]
     },
     "execution_count": 216,
     "metadata": {},
     "output_type": "execute_result"
    }
   ],
   "source": [
    "model_matrix.loc[model_matrix[\"katG_p.Val628Gly\"]==1]"
   ]
  },
  {
   "cell_type": "markdown",
   "id": "07cefaa6-2391-4bbb-9f59-7134ab2749b1",
   "metadata": {},
   "source": [
    "# Create Combined Lineages File"
   ]
  },
  {
   "cell_type": "code",
   "execution_count": 65,
   "id": "1a873181-6ea6-45de-a7e4-35b9a007fc67",
   "metadata": {},
   "outputs": [],
   "source": [
    "def combine_lineages_with_sampleIDs(lineages_fName, sample_ids_mapping):\n",
    "    \n",
    "    lineages_df = pd.read_csv(lineages_fName, low_memory=False)\n",
    "    lineages_df[\"Sample Name\"] = [name.split(\"-\")[0] for name in lineages_df[\"File_Name\"]]\n",
    "    lineages_df = lineages_df.merge(sample_ids_mapping, on=\"Sample Name\", how=\"inner\")\n",
    "\n",
    "    lineages_df = lineages_df.dropna(axis=1, how=\"all\").reset_index(drop=True)\n",
    "    lineages_df = lineages_df[lineages_df.columns[~lineages_df.columns.str.startswith(\"Count\")]]\n",
    "    \n",
    "    # remove count strings from the original Lineage field\n",
    "    for i, row in lineages_df.iterrows():\n",
    "    \n",
    "        lineage = row[\"Lineage\"]\n",
    "\n",
    "        if type(lineage) == str:\n",
    "            remove_start_idx = list(lineage).index(\"(\")\n",
    "            lineages_df.loc[i, \"Lineage\"] = lineage[:remove_start_idx]\n",
    "        \n",
    "    # the null ones are all some combination of canetti, westafrican, ethiopian, tur, mungi. There are only ~10-15 of these, so drop\n",
    "    # null means it couldn't e classified in the Coll 2014 scheme, but other columns are not null because a different scheme classified them\n",
    "    lineages_df = lineages_df.loc[~pd.isnull(lineages_df[\"Lineage_1\"])]\n",
    "    \n",
    "    # multiple directories contain the same VCF files, so drop duplicates here\n",
    "    lineages_df = lineages_df.sort_values(\"Lineage\", ascending=True).drop_duplicates(subset=[\"Sample Name\", \"Sample ID\", \"Lineage\"], keep=\"first\")\n",
    "    return lineages_df"
   ]
  },
  {
   "cell_type": "code",
   "execution_count": 66,
   "id": "453acbc9-4d12-4cf9-b481-dac2b8173405",
   "metadata": {},
   "outputs": [
    {
     "data": {
      "text/plain": [
       "(65786, 12)"
      ]
     },
     "execution_count": 66,
     "metadata": {},
     "output_type": "execute_result"
    }
   ],
   "source": [
    "lineages_df = combine_lineages_with_sampleIDs(\"data/lineages_2.csv\", sample_ids_mapping)\n",
    "lineages_df.shape"
   ]
  },
  {
   "cell_type": "code",
   "execution_count": 308,
   "id": "fc6b0448-3bf3-4229-9f55-46b620538aea",
   "metadata": {},
   "outputs": [],
   "source": [
    "# for _, row in lineages_df.loc[pd.isnull(lineages_df[\"Lineage_1\"])].reset_index(drop=True).iterrows():\n",
    "    \n",
    "#     fName = row[\"VCF_Dir\"] + \"/\" + row[\"File_Name\"]\n",
    "\n",
    "#     proc = subprocess.Popen(f\"fast-lineage-caller {fName} --noheader --count --pass\", shell=True, encoding='utf8', stdout=subprocess.PIPE)\n",
    "#     output = proc.communicate()[0]\n",
    "\n",
    "#     # output order: Isolate, coll2014, freschi2020, lipworth2019, shitikov2017, stucki2016 \n",
    "#     print(output.split(\"\\t\")[3])"
   ]
  },
  {
   "cell_type": "markdown",
   "id": "1dbab8ba-bbff-4bbc-addd-907655fc7a3a",
   "metadata": {},
   "source": [
    "# New Lineage Structure Correction\n",
    "\n",
    "Perhaps we should do a test of univariate association between all PCs individually and the phenotype and select those that have P-value <0.1 or something before including them in the model, as opposed to just including the top n PCs in terms of variance."
   ]
  },
  {
   "cell_type": "code",
   "execution_count": 37,
   "id": "643d0479-dc81-43fa-b019-3e208b47d277",
   "metadata": {},
   "outputs": [
    {
     "data": {
      "text/html": [
       "<div>\n",
       "<style scoped>\n",
       "    .dataframe tbody tr th:only-of-type {\n",
       "        vertical-align: middle;\n",
       "    }\n",
       "\n",
       "    .dataframe tbody tr th {\n",
       "        vertical-align: top;\n",
       "    }\n",
       "\n",
       "    .dataframe thead th {\n",
       "        text-align: right;\n",
       "    }\n",
       "</style>\n",
       "<table border=\"1\" class=\"dataframe\">\n",
       "  <thead>\n",
       "    <tr style=\"text-align: right;\">\n",
       "      <th></th>\n",
       "      <th>Lineage</th>\n",
       "      <th>position</th>\n",
       "      <th>allele_change</th>\n",
       "      <th>tag</th>\n",
       "    </tr>\n",
       "  </thead>\n",
       "  <tbody>\n",
       "    <tr>\n",
       "      <th>11</th>\n",
       "      <td>2.2.1</td>\n",
       "      <td>797736</td>\n",
       "      <td>C/T</td>\n",
       "      <td>coll2014</td>\n",
       "    </tr>\n",
       "    <tr>\n",
       "      <th>12</th>\n",
       "      <td>2.2.1.1</td>\n",
       "      <td>4248115</td>\n",
       "      <td>C/T</td>\n",
       "      <td>coll2014</td>\n",
       "    </tr>\n",
       "    <tr>\n",
       "      <th>13</th>\n",
       "      <td>2.2.1.2</td>\n",
       "      <td>3836274</td>\n",
       "      <td>G/A</td>\n",
       "      <td>coll2014</td>\n",
       "    </tr>\n",
       "  </tbody>\n",
       "</table>\n",
       "</div>"
      ],
      "text/plain": [
       "    Lineage  position allele_change       tag\n",
       "11    2.2.1    797736           C/T  coll2014\n",
       "12  2.2.1.1   4248115           C/T  coll2014\n",
       "13  2.2.1.2   3836274           G/A  coll2014"
      ]
     },
     "execution_count": 37,
     "metadata": {},
     "output_type": "execute_result"
    }
   ],
   "source": [
    "coll2014 = pd.read_csv(\"data/coll2014_SNP_scheme.tsv\", sep=\"\\t\")\n",
    "coll2014[\"#lineage\"] = coll2014[\"#lineage\"].str.replace(\"lineage\", \"\")\n",
    "coll2014.rename(columns={\"#lineage\": \"Lineage\"}, inplace=True)\n",
    "\n",
    "coll2014.query(\"Lineage.str.startswith('2.2.1')\")"
   ]
  },
  {
   "cell_type": "code",
   "execution_count": 234,
   "id": "2d8ee4c2-f6c3-4bea-afb0-b91cd8f92979",
   "metadata": {},
   "outputs": [
    {
     "name": "stdout",
     "output_type": "stream",
     "text": [
      "16843 15650\n"
     ]
    }
   ],
   "source": [
    "# minor allele counts dataframe for all samples\n",
    "minor_allele_counts = pd.read_pickle(\"data/minor_allele_counts.pkl\")\n",
    "\n",
    "L2_samples = minor_allele_counts.loc[minor_allele_counts[coll2014.set_index(\"Lineage\").loc[\"2\", \"position\"]]==1].index.values\n",
    "L221_samples = minor_allele_counts.loc[minor_allele_counts[coll2014.set_index(\"Lineage\").loc[\"2.2.1\", \"position\"]] == 1].index.values\n",
    "print(len(L2_samples), len(L221_samples))"
   ]
  },
  {
   "cell_type": "code",
   "execution_count": 45,
   "id": "1c507cc5-9a5a-4b37-89a0-f081fad4d505",
   "metadata": {},
   "outputs": [],
   "source": [
    "model_matrix.query(\"index in @L221_samples\").to_pickle(os.path.join(analysis_dir, \"Bedaquiline/BINARY/tiers=1/phenos=WHO/dropAF_noSyn_unpooled/model_matrix_L2.2.1.pkl\"))"
   ]
  },
  {
   "cell_type": "code",
   "execution_count": 118,
   "id": "e03eed5a-8e81-4931-81d0-9533dac95469",
   "metadata": {},
   "outputs": [],
   "source": [
    "L221_WHO = pd.read_csv(os.path.join(analysis_dir, \"Bedaquiline/BINARY/tiers=1/phenos=WHO/dropAF_noSyn_unpooled/model_analysis_L2.2.1.csv\"))"
   ]
  },
  {
   "cell_type": "code",
   "execution_count": 120,
   "id": "fb67c7a9-87e7-40bf-aaee-ed931baa7b09",
   "metadata": {},
   "outputs": [
    {
     "data": {
      "text/html": [
       "<div>\n",
       "<style scoped>\n",
       "    .dataframe tbody tr th:only-of-type {\n",
       "        vertical-align: middle;\n",
       "    }\n",
       "\n",
       "    .dataframe tbody tr th {\n",
       "        vertical-align: top;\n",
       "    }\n",
       "\n",
       "    .dataframe thead th {\n",
       "        text-align: right;\n",
       "    }\n",
       "</style>\n",
       "<table border=\"1\" class=\"dataframe\">\n",
       "  <thead>\n",
       "    <tr style=\"text-align: right;\">\n",
       "      <th></th>\n",
       "      <th>mutation</th>\n",
       "      <th>coef</th>\n",
       "      <th>coef_LB</th>\n",
       "      <th>coef_UB</th>\n",
       "      <th>pval</th>\n",
       "      <th>neutral_pval</th>\n",
       "      <th>BH_pval</th>\n",
       "      <th>Bonferroni_pval</th>\n",
       "      <th>neutral_BH_pval</th>\n",
       "      <th>neutral_Bonferroni_pval</th>\n",
       "      <th>Odds_Ratio</th>\n",
       "      <th>OR_LB</th>\n",
       "      <th>OR_UB</th>\n",
       "      <th>confidence</th>\n",
       "    </tr>\n",
       "  </thead>\n",
       "  <tbody>\n",
       "    <tr>\n",
       "      <th>3</th>\n",
       "      <td>mmpS5_c.-74G&gt;T</td>\n",
       "      <td>0.540786</td>\n",
       "      <td>0.323041</td>\n",
       "      <td>0.738857</td>\n",
       "      <td>0.0</td>\n",
       "      <td>1.0</td>\n",
       "      <td>0.0</td>\n",
       "      <td>0.0</td>\n",
       "      <td>1.0</td>\n",
       "      <td>1.0</td>\n",
       "      <td>1.717355</td>\n",
       "      <td>1.381321</td>\n",
       "      <td>2.093542</td>\n",
       "      <td>3) Uncertain significance</td>\n",
       "    </tr>\n",
       "  </tbody>\n",
       "</table>\n",
       "</div>"
      ],
      "text/plain": [
       "         mutation      coef   coef_LB   coef_UB  pval  neutral_pval  BH_pval  \\\n",
       "3  mmpS5_c.-74G>T  0.540786  0.323041  0.738857   0.0           1.0      0.0   \n",
       "\n",
       "   Bonferroni_pval  neutral_BH_pval  neutral_Bonferroni_pval  Odds_Ratio  \\\n",
       "3              0.0              1.0                      1.0    1.717355   \n",
       "\n",
       "      OR_LB     OR_UB                 confidence  \n",
       "3  1.381321  2.093542  3) Uncertain significance  "
      ]
     },
     "execution_count": 120,
     "metadata": {},
     "output_type": "execute_result"
    }
   ],
   "source": [
    "L221_WHO.query(\"mutation=='mmpS5_c.-74G>T'\")"
   ]
  },
  {
   "cell_type": "code",
   "execution_count": 124,
   "id": "21c6df8d-8f98-49a8-a238-c3a5faa2496f",
   "metadata": {},
   "outputs": [
    {
     "data": {
      "text/plain": [
       "44"
      ]
     },
     "execution_count": 124,
     "metadata": {},
     "output_type": "execute_result"
    }
   ],
   "source": [
    "len(L221_WHO.query(\"mutation.str.contains('PC')\"))"
   ]
  },
  {
   "cell_type": "code",
   "execution_count": 246,
   "id": "4f265c29-c024-4fe7-8e28-57df804439e8",
   "metadata": {},
   "outputs": [],
   "source": [
    "pheno_category_lst = [\"WHO\"]\n",
    "drug = \"Bedaquiline\"\n",
    "\n",
    "if \"ALL\" in pheno_category_lst:\n",
    "    model_matrix = pd.read_pickle(os.path.join(analysis_dir, \"Bedaquiline/BINARY/tiers=1/phenos=ALL/dropAF_noSyn_unpooled/model_matrix.pkl\"))\n",
    "else:\n",
    "    model_matrix = pd.read_pickle(os.path.join(analysis_dir, \"Bedaquiline/BINARY/tiers=1/phenos=WHO/dropAF_noSyn_unpooled/model_matrix.pkl\"))\n",
    "    \n",
    "# print(model_matrix.shape)\n",
    "# df_phenos = pd.read_csv(os.path.join(analysis_dir, drug, \"phenos_binary.csv\")).set_index(\"sample_id\").query(\"phenotypic_category in @pheno_category_lst\")\n",
    "# eigenvec_df = pd.read_csv(\"data/eigenvec_20PC.csv\").set_index(\"sample_id\")\n",
    "\n",
    "# # model_matrix = model_matrix.merge(minor_allele_counts, left_index=True, right_index=True)\n",
    "# model_matrix = model_matrix.merge(eigenvec_df, left_index=True, right_index=True)\n",
    "\n",
    "# # keep only samples (rows) that are in matrix and use loc with indices to ensure they are in the same order\n",
    "# df_phenos = df_phenos.loc[model_matrix.index]\n",
    "# print(df_phenos.shape)\n",
    "\n",
    "# # check that the sample ordering is the same in the genotype and phenotype matrices\n",
    "# assert sum(model_matrix.index != df_phenos.index) == 0"
   ]
  },
  {
   "cell_type": "code",
   "execution_count": 24,
   "id": "79b12de6-5a59-4553-9d58-445afdc7bd59",
   "metadata": {},
   "outputs": [
    {
     "name": "stdout",
     "output_type": "stream",
     "text": [
      "(4817, 641) (5432, 641)\n"
     ]
    }
   ],
   "source": [
    "L221_BDQ = model_matrix.query(\"index in @L221_samples\")\n",
    "df_phenos_L221 = df_phenos.loc[L221_BDQ.index]\n",
    "\n",
    "L2_BDQ = model_matrix.query(\"index in @L2_samples\")\n",
    "df_phenos_L2 = df_phenos.loc[L2_BDQ.index]\n",
    "\n",
    "# check that the sample ordering is the same in the genotype and phenotype matrices\n",
    "assert sum(L221_BDQ.index != df_phenos_L221.index) == 0\n",
    "assert sum(L2_BDQ.index != df_phenos_L2.index) == 0\n",
    "print(L221_BDQ.shape, L2_BDQ.shape)"
   ]
  },
  {
   "cell_type": "code",
   "execution_count": 25,
   "id": "49cf57ee-833f-47e9-816d-1c5b68bfd3fd",
   "metadata": {},
   "outputs": [
    {
     "data": {
      "text/html": [
       "<div>\n",
       "<style scoped>\n",
       "    .dataframe tbody tr th:only-of-type {\n",
       "        vertical-align: middle;\n",
       "    }\n",
       "\n",
       "    .dataframe tbody tr th {\n",
       "        vertical-align: top;\n",
       "    }\n",
       "\n",
       "    .dataframe thead th {\n",
       "        text-align: right;\n",
       "    }\n",
       "</style>\n",
       "<table border=\"1\" class=\"dataframe\">\n",
       "  <thead>\n",
       "    <tr style=\"text-align: right;\">\n",
       "      <th></th>\n",
       "      <th></th>\n",
       "      <th>phenotype</th>\n",
       "    </tr>\n",
       "    <tr>\n",
       "      <th>mmpS5_c.-74G&gt;T</th>\n",
       "      <th>phenotype</th>\n",
       "      <th></th>\n",
       "    </tr>\n",
       "  </thead>\n",
       "  <tbody>\n",
       "    <tr>\n",
       "      <th rowspan=\"2\" valign=\"top\">0.0</th>\n",
       "      <th>0</th>\n",
       "      <td>4518</td>\n",
       "    </tr>\n",
       "    <tr>\n",
       "      <th>1</th>\n",
       "      <td>168</td>\n",
       "    </tr>\n",
       "    <tr>\n",
       "      <th rowspan=\"2\" valign=\"top\">1.0</th>\n",
       "      <th>0</th>\n",
       "      <td>94</td>\n",
       "    </tr>\n",
       "    <tr>\n",
       "      <th>1</th>\n",
       "      <td>37</td>\n",
       "    </tr>\n",
       "  </tbody>\n",
       "</table>\n",
       "</div>"
      ],
      "text/plain": [
       "                          phenotype\n",
       "mmpS5_c.-74G>T phenotype           \n",
       "0.0            0               4518\n",
       "               1                168\n",
       "1.0            0                 94\n",
       "               1                 37"
      ]
     },
     "execution_count": 25,
     "metadata": {},
     "output_type": "execute_result"
    }
   ],
   "source": [
    "pd.DataFrame(L221_BDQ.merge(df_phenos_L221, left_index=True, right_index=True).groupby([\"mmpS5_c.-74G>T\", \"phenotype\"])[\"phenotype\"].count())"
   ]
  },
  {
   "cell_type": "code",
   "execution_count": 332,
   "id": "f77b437f-652c-4975-b4b2-7dca7b56a166",
   "metadata": {},
   "outputs": [
    {
     "name": "stdout",
     "output_type": "stream",
     "text": [
      "PPV = 0.92\n",
      "NPV = 0.82\n",
      "Sens = 0.23\n",
      "Spec = 0.99\n"
     ]
    }
   ],
   "source": [
    "TP = 36\n",
    "FP = 3\n",
    "TN = 550\n",
    "FN = 118\n",
    "\n",
    "# probability that an isolate WITH mutation is RESISTANT\n",
    "print(f\"PPV = {np.round(TP / (TP + FP), 2)}\")\n",
    "\n",
    "# probability that an isolate WITHOUT mutation is SUSCEPTIBLE\n",
    "print(f\"NPV = {np.round(TN / (TN + FN), 2)}\")\n",
    "\n",
    "# probability that a RESISTANT isolate HAS the mutation\n",
    "print(f\"Sens = {np.round(TP / (TP + FN), 2)}\")\n",
    "\n",
    "# probability that a SUSCEPTIBLE isolate DOES NOT HAVE the mutation\n",
    "print(f\"Spec = {np.round(TN / (TN + FP), 2)}\")"
   ]
  },
  {
   "cell_type": "code",
   "execution_count": 333,
   "id": "30525e69-caae-400d-afc7-3d38c96db28b",
   "metadata": {},
   "outputs": [
    {
     "name": "stdout",
     "output_type": "stream",
     "text": [
      "PPV = 0.28\n",
      "NPV = 0.96\n",
      "Sens = 0.18\n",
      "Spec = 0.98\n"
     ]
    }
   ],
   "source": [
    "TP = 37\n",
    "FP = 94\n",
    "TN = 4518\n",
    "FN = 168\n",
    "\n",
    "# probability that an isolate WITH mutation is RESISTANT\n",
    "print(f\"PPV = {np.round(TP / (TP + FP), 2)}\")\n",
    "\n",
    "# probability that an isolate WITHOUT mutation is SUSCEPTIBLE\n",
    "print(f\"NPV = {np.round(TN / (TN + FN), 2)}\")\n",
    "\n",
    "# probability that a RESISTANT isolate HAS the mutation\n",
    "print(f\"Sens = {np.round(TP / (TP + FN), 2)}\")\n",
    "\n",
    "# probability that a SUSCEPTIBLE isolate DOES NOT HAVE the mutation\n",
    "print(f\"Spec = {np.round(TN / (TN + FP), 2)}\")"
   ]
  },
  {
   "cell_type": "code",
   "execution_count": 27,
   "id": "190e58ac-5b99-4c59-b144-fa098a797866",
   "metadata": {},
   "outputs": [
    {
     "data": {
      "text/plain": [
       "0.2824427480916031"
      ]
     },
     "execution_count": 27,
     "metadata": {},
     "output_type": "execute_result"
    }
   ],
   "source": [
    "37/(37+94)"
   ]
  },
  {
   "cell_type": "markdown",
   "id": "2957ba95-d988-4a97-88df-352bd8bd91bc",
   "metadata": {},
   "source": [
    "# L2.2.1 Phenotype Averages by Variant"
   ]
  },
  {
   "cell_type": "code",
   "execution_count": 276,
   "id": "ce4fcea8-0bc2-449c-8b36-a28863646e79",
   "metadata": {},
   "outputs": [],
   "source": [
    "phenos_name = \"WHO\"\n",
    "model_matrix = pd.read_pickle(os.path.join(analysis_dir, f\"Bedaquiline/BINARY/tiers=1/phenos={phenos_name}/dropAF_noSyn_unpooled/model_matrix.pkl\"))\n",
    "\n",
    "df_phenos = pd.read_csv(os.path.join(analysis_dir, \"Bedaquiline/phenos_binary.csv\"))\n",
    "df_phenos[\"L2.2.1\"] = df_phenos[\"sample_id\"].isin(L221_samples).astype(int)\n",
    "\n",
    "df_phenos = df_phenos.merge(model_matrix[\"mmpS5_c.-74G>T\"], left_on=\"sample_id\", right_index=True)"
   ]
  },
  {
   "cell_type": "code",
   "execution_count": 292,
   "id": "5e588d24-77bb-4c55-bfd6-f25202919229",
   "metadata": {},
   "outputs": [
    {
     "data": {
      "text/html": [
       "<div>\n",
       "<style scoped>\n",
       "    .dataframe tbody tr th:only-of-type {\n",
       "        vertical-align: middle;\n",
       "    }\n",
       "\n",
       "    .dataframe tbody tr th {\n",
       "        vertical-align: top;\n",
       "    }\n",
       "\n",
       "    .dataframe thead th {\n",
       "        text-align: right;\n",
       "    }\n",
       "</style>\n",
       "<table border=\"1\" class=\"dataframe\">\n",
       "  <thead>\n",
       "    <tr style=\"text-align: right;\">\n",
       "      <th></th>\n",
       "      <th>mean</th>\n",
       "      <th>count</th>\n",
       "    </tr>\n",
       "    <tr>\n",
       "      <th>mmpS5_c.-74G&gt;T</th>\n",
       "      <th></th>\n",
       "      <th></th>\n",
       "    </tr>\n",
       "  </thead>\n",
       "  <tbody>\n",
       "    <tr>\n",
       "      <th>0.0</th>\n",
       "      <td>0.176647</td>\n",
       "      <td>668</td>\n",
       "    </tr>\n",
       "    <tr>\n",
       "      <th>1.0</th>\n",
       "      <td>0.923077</td>\n",
       "      <td>39</td>\n",
       "    </tr>\n",
       "  </tbody>\n",
       "</table>\n",
       "</div>"
      ],
      "text/plain": [
       "                    mean  count\n",
       "mmpS5_c.-74G>T                 \n",
       "0.0             0.176647    668\n",
       "1.0             0.923077     39"
      ]
     },
     "execution_count": 292,
     "metadata": {},
     "output_type": "execute_result"
    }
   ],
   "source": [
    "df_phenos.loc[df_phenos[\"L2.2.1\"]==1].groupby(\"mmpS5_c.-74G>T\")[\"phenotype\"].agg([\"mean\", \"count\"])"
   ]
  },
  {
   "cell_type": "code",
   "execution_count": 291,
   "id": "d64a5211-f6af-4d2b-8282-3759f4fee779",
   "metadata": {},
   "outputs": [
    {
     "data": {
      "text/html": [
       "<div>\n",
       "<style scoped>\n",
       "    .dataframe tbody tr th:only-of-type {\n",
       "        vertical-align: middle;\n",
       "    }\n",
       "\n",
       "    .dataframe tbody tr th {\n",
       "        vertical-align: top;\n",
       "    }\n",
       "\n",
       "    .dataframe thead th {\n",
       "        text-align: right;\n",
       "    }\n",
       "</style>\n",
       "<table border=\"1\" class=\"dataframe\">\n",
       "  <thead>\n",
       "    <tr style=\"text-align: right;\">\n",
       "      <th></th>\n",
       "      <th></th>\n",
       "      <th>phenotype</th>\n",
       "    </tr>\n",
       "    <tr>\n",
       "      <th>mmpS5_c.-74G&gt;T</th>\n",
       "      <th>phenotype</th>\n",
       "      <th></th>\n",
       "    </tr>\n",
       "  </thead>\n",
       "  <tbody>\n",
       "    <tr>\n",
       "      <th rowspan=\"2\" valign=\"top\">0.0</th>\n",
       "      <th>0</th>\n",
       "      <td>550</td>\n",
       "    </tr>\n",
       "    <tr>\n",
       "      <th>1</th>\n",
       "      <td>118</td>\n",
       "    </tr>\n",
       "    <tr>\n",
       "      <th rowspan=\"2\" valign=\"top\">1.0</th>\n",
       "      <th>1</th>\n",
       "      <td>36</td>\n",
       "    </tr>\n",
       "    <tr>\n",
       "      <th>0</th>\n",
       "      <td>3</td>\n",
       "    </tr>\n",
       "  </tbody>\n",
       "</table>\n",
       "</div>"
      ],
      "text/plain": [
       "                          phenotype\n",
       "mmpS5_c.-74G>T phenotype           \n",
       "0.0            0                550\n",
       "               1                118\n",
       "1.0            1                 36\n",
       "               0                  3"
      ]
     },
     "execution_count": 291,
     "metadata": {},
     "output_type": "execute_result"
    }
   ],
   "source": [
    "pd.DataFrame(df_phenos.loc[df_phenos[\"L2.2.1\"]==1].groupby(\"mmpS5_c.-74G>T\")[\"phenotype\"].value_counts())"
   ]
  },
  {
   "cell_type": "code",
   "execution_count": 282,
   "id": "b0fc2071-cb4b-4f28-b4a9-7babfd4a4c28",
   "metadata": {},
   "outputs": [
    {
     "data": {
      "text/html": [
       "<div>\n",
       "<style scoped>\n",
       "    .dataframe tbody tr th:only-of-type {\n",
       "        vertical-align: middle;\n",
       "    }\n",
       "\n",
       "    .dataframe tbody tr th {\n",
       "        vertical-align: top;\n",
       "    }\n",
       "\n",
       "    .dataframe thead th {\n",
       "        text-align: right;\n",
       "    }\n",
       "</style>\n",
       "<table border=\"1\" class=\"dataframe\">\n",
       "  <thead>\n",
       "    <tr style=\"text-align: right;\">\n",
       "      <th></th>\n",
       "      <th>mean</th>\n",
       "      <th>count</th>\n",
       "    </tr>\n",
       "    <tr>\n",
       "      <th>mmpS5_c.-74G&gt;T</th>\n",
       "      <th></th>\n",
       "      <th></th>\n",
       "    </tr>\n",
       "  </thead>\n",
       "  <tbody>\n",
       "    <tr>\n",
       "      <th>0.0</th>\n",
       "      <td>0.406692</td>\n",
       "      <td>2122</td>\n",
       "    </tr>\n",
       "    <tr>\n",
       "      <th>1.0</th>\n",
       "      <td>0.923077</td>\n",
       "      <td>39</td>\n",
       "    </tr>\n",
       "  </tbody>\n",
       "</table>\n",
       "</div>"
      ],
      "text/plain": [
       "                    mean  count\n",
       "mmpS5_c.-74G>T                 \n",
       "0.0             0.406692   2122\n",
       "1.0             0.923077     39"
      ]
     },
     "execution_count": 282,
     "metadata": {},
     "output_type": "execute_result"
    }
   ],
   "source": [
    "df_phenos.groupby(\"mmpS5_c.-74G>T\")[\"phenotype\"].agg([\"mean\", \"count\"])"
   ]
  },
  {
   "cell_type": "code",
   "execution_count": 293,
   "id": "42b6913a-4bf5-46c2-ac3e-3eae6bd2d2b3",
   "metadata": {},
   "outputs": [
    {
     "data": {
      "text/html": [
       "<div>\n",
       "<style scoped>\n",
       "    .dataframe tbody tr th:only-of-type {\n",
       "        vertical-align: middle;\n",
       "    }\n",
       "\n",
       "    .dataframe tbody tr th {\n",
       "        vertical-align: top;\n",
       "    }\n",
       "\n",
       "    .dataframe thead th {\n",
       "        text-align: right;\n",
       "    }\n",
       "</style>\n",
       "<table border=\"1\" class=\"dataframe\">\n",
       "  <thead>\n",
       "    <tr style=\"text-align: right;\">\n",
       "      <th></th>\n",
       "      <th></th>\n",
       "      <th>phenotype</th>\n",
       "    </tr>\n",
       "    <tr>\n",
       "      <th>mmpS5_c.-74G&gt;T</th>\n",
       "      <th>phenotype</th>\n",
       "      <th></th>\n",
       "    </tr>\n",
       "  </thead>\n",
       "  <tbody>\n",
       "    <tr>\n",
       "      <th rowspan=\"2\" valign=\"top\">0.0</th>\n",
       "      <th>0</th>\n",
       "      <td>1259</td>\n",
       "    </tr>\n",
       "    <tr>\n",
       "      <th>1</th>\n",
       "      <td>863</td>\n",
       "    </tr>\n",
       "    <tr>\n",
       "      <th rowspan=\"2\" valign=\"top\">1.0</th>\n",
       "      <th>1</th>\n",
       "      <td>36</td>\n",
       "    </tr>\n",
       "    <tr>\n",
       "      <th>0</th>\n",
       "      <td>3</td>\n",
       "    </tr>\n",
       "  </tbody>\n",
       "</table>\n",
       "</div>"
      ],
      "text/plain": [
       "                          phenotype\n",
       "mmpS5_c.-74G>T phenotype           \n",
       "0.0            0               1259\n",
       "               1                863\n",
       "1.0            1                 36\n",
       "               0                  3"
      ]
     },
     "execution_count": 293,
     "metadata": {},
     "output_type": "execute_result"
    }
   ],
   "source": [
    "pd.DataFrame(df_phenos.groupby(\"mmpS5_c.-74G>T\")[\"phenotype\"].value_counts())"
   ]
  },
  {
   "cell_type": "markdown",
   "id": "3ac5a594-cf90-439c-8486-7fce6f31c703",
   "metadata": {},
   "source": [
    "# L2.2.1 MIC Distribution by Variant"
   ]
  },
  {
   "cell_type": "code",
   "execution_count": 273,
   "id": "3d0fc506-9ff7-4a7d-98fa-196ef7fa2983",
   "metadata": {},
   "outputs": [
    {
     "data": {
      "image/png": "[encoded data removed]",
      "text/plain": [
       "<Figure size 960x720 with 1 Axes>"
      ]
     },
     "metadata": {},
     "output_type": "display_data"
    }
   ],
   "source": [
    "model_matrix = pd.read_pickle(os.path.join(analysis_dir, \"Bedaquiline/MIC/tiers=1/dropAF_noSyn_unpooled/model_matrix.pkl\"))\n",
    "\n",
    "df_mic = pd.read_csv(os.path.join(analysis_dir, \"Bedaquiline/phenos_mic.csv\"))\n",
    "df_mic = process_multiple_MICs(df_mic)\n",
    "df_mic[\"L2.2.1\"] = df_mic[\"sample_id\"].isin(L221_samples).astype(int)\n",
    "df_mic[\"log-MIC\"] = np.log(df_mic[\"mic_value\"])\n",
    "\n",
    "df_mic = df_mic.merge(model_matrix[\"mmpS5_c.-74G>T\"], left_on=\"sample_id\", right_index=True)\n",
    "\n",
    "fig, ax = plt.subplots()\n",
    "sns.histplot(df_mic.loc[df_mic[\"L2.2.1\"]==1], x=\"log-MIC\", hue=\"mmpS5_c.-74G>T\", common_norm=False, multiple=\"dodge\", stat=\"probability\", ax=ax)\n",
    "plt.title(f\"L2.2.1, N = {len(df_mic.loc[df_mic['L2.2.1']==1])}\")\n",
    "ax.set_xticks(ticks=ax.get_xticks(), labels=np.round(np.exp(ax.get_xticks()), 2))\n",
    "plt.xlabel(\"MIC (mg/L)\")\n",
    "sns.despine()\n",
    "plt.show()"
   ]
  },
  {
   "cell_type": "code",
   "execution_count": 303,
   "id": "17fe6d77-d354-4e78-933e-113410882629",
   "metadata": {},
   "outputs": [
    {
     "data": {
      "text/html": [
       "<div>\n",
       "<style scoped>\n",
       "    .dataframe tbody tr th:only-of-type {\n",
       "        vertical-align: middle;\n",
       "    }\n",
       "\n",
       "    .dataframe tbody tr th {\n",
       "        vertical-align: top;\n",
       "    }\n",
       "\n",
       "    .dataframe thead th {\n",
       "        text-align: right;\n",
       "    }\n",
       "</style>\n",
       "<table border=\"1\" class=\"dataframe\">\n",
       "  <thead>\n",
       "    <tr style=\"text-align: right;\">\n",
       "      <th></th>\n",
       "      <th>mutation</th>\n",
       "      <th>coef</th>\n",
       "      <th>coef_LB</th>\n",
       "      <th>coef_UB</th>\n",
       "      <th>pval</th>\n",
       "      <th>BH_pval</th>\n",
       "      <th>Bonferroni_pval</th>\n",
       "      <th>confidence</th>\n",
       "    </tr>\n",
       "  </thead>\n",
       "  <tbody>\n",
       "    <tr>\n",
       "      <th>133</th>\n",
       "      <td>mmpS5_c.-74G&gt;T</td>\n",
       "      <td>-0.06225</td>\n",
       "      <td>-0.109089</td>\n",
       "      <td>-0.009317</td>\n",
       "      <td>0.006</td>\n",
       "      <td>0.031778</td>\n",
       "      <td>0.858</td>\n",
       "      <td>3) Uncertain significance</td>\n",
       "    </tr>\n",
       "  </tbody>\n",
       "</table>\n",
       "</div>"
      ],
      "text/plain": [
       "           mutation     coef   coef_LB   coef_UB   pval   BH_pval  \\\n",
       "133  mmpS5_c.-74G>T -0.06225 -0.109089 -0.009317  0.006  0.031778   \n",
       "\n",
       "     Bonferroni_pval                 confidence  \n",
       "133            0.858  3) Uncertain significance  "
      ]
     },
     "execution_count": 303,
     "metadata": {},
     "output_type": "execute_result"
    }
   ],
   "source": [
    "# kept 45 out of 100 PCs\n",
    "L221_MIC_analysis = pd.read_csv(\"/n/data1/hms/dbmi/farhat/Sanjana/who-mutation-catalogue/Bedaquiline/MIC/tiers=1/dropAF_noSyn_unpooled/model_analysis_L2.2.1.csv\")\n",
    "L221_MIC_analysis.query(\"mutation=='mmpS5_c.-74G>T'\")"
   ]
  },
  {
   "cell_type": "code",
   "execution_count": 294,
   "id": "5bef79f2-8949-4f7d-a644-0a5a7f513f6f",
   "metadata": {},
   "outputs": [
    {
     "data": {
      "text/html": [
       "<div>\n",
       "<style scoped>\n",
       "    .dataframe tbody tr th:only-of-type {\n",
       "        vertical-align: middle;\n",
       "    }\n",
       "\n",
       "    .dataframe tbody tr th {\n",
       "        vertical-align: top;\n",
       "    }\n",
       "\n",
       "    .dataframe thead th {\n",
       "        text-align: right;\n",
       "    }\n",
       "</style>\n",
       "<table border=\"1\" class=\"dataframe\">\n",
       "  <thead>\n",
       "    <tr style=\"text-align: right;\">\n",
       "      <th></th>\n",
       "      <th>mic_value</th>\n",
       "    </tr>\n",
       "    <tr>\n",
       "      <th>mmpS5_c.-74G&gt;T</th>\n",
       "      <th></th>\n",
       "    </tr>\n",
       "  </thead>\n",
       "  <tbody>\n",
       "    <tr>\n",
       "      <th>0.0</th>\n",
       "      <td>0.174464</td>\n",
       "    </tr>\n",
       "    <tr>\n",
       "      <th>1.0</th>\n",
       "      <td>0.387504</td>\n",
       "    </tr>\n",
       "  </tbody>\n",
       "</table>\n",
       "</div>"
      ],
      "text/plain": [
       "                mic_value\n",
       "mmpS5_c.-74G>T           \n",
       "0.0              0.174464\n",
       "1.0              0.387504"
      ]
     },
     "execution_count": 294,
     "metadata": {},
     "output_type": "execute_result"
    }
   ],
   "source": [
    "pd.DataFrame(df_mic.groupby(\"mmpS5_c.-74G>T\")[\"mic_value\"].mean())"
   ]
  },
  {
   "cell_type": "code",
   "execution_count": 296,
   "id": "2cc42265-1a90-4883-8d4c-bb95750b20fa",
   "metadata": {},
   "outputs": [
    {
     "data": {
      "image/png": "[encoded data removed]",
      "text/plain": [
       "<Figure size 960x720 with 1 Axes>"
      ]
     },
     "metadata": {},
     "output_type": "display_data"
    }
   ],
   "source": [
    "model_matrix = pd.read_pickle(os.path.join(analysis_dir, \"Bedaquiline/MIC/tiers=1/dropAF_noSyn_unpooled/model_matrix.pkl\"))\n",
    "\n",
    "df_mic = pd.read_csv(os.path.join(analysis_dir, \"Bedaquiline/phenos_mic.csv\"))\n",
    "df_mic = process_multiple_MICs(df_mic)\n",
    "df_mic[\"L2.2.1\"] = df_mic[\"sample_id\"].isin(L221_samples).astype(int)\n",
    "df_mic[\"log-MIC\"] = np.log(df_mic[\"mic_value\"])\n",
    "\n",
    "df_mic = df_mic.merge(model_matrix[\"mmpS5_c.-74G>T\"], left_on=\"sample_id\", right_index=True)\n",
    "\n",
    "fig, ax = plt.subplots()\n",
    "sns.histplot(df_mic, x=\"log-MIC\", hue=\"mmpS5_c.-74G>T\", common_norm=False, multiple=\"dodge\", stat=\"probability\", ax=ax)\n",
    "plt.title(f\"All Samples with BDQ MICs, N = {len(df_mic)}\")\n",
    "ax.set_xticks(ticks=ax.get_xticks(), labels=np.round(np.exp(ax.get_xticks()), 2))\n",
    "plt.xlabel(\"MIC (mg/L)\")\n",
    "sns.despine()\n",
    "plt.show()"
   ]
  },
  {
   "cell_type": "code",
   "execution_count": 301,
   "id": "a3986432-8737-4a6f-935b-544876cf09f8",
   "metadata": {},
   "outputs": [
    {
     "data": {
      "text/html": [
       "<div>\n",
       "<style scoped>\n",
       "    .dataframe tbody tr th:only-of-type {\n",
       "        vertical-align: middle;\n",
       "    }\n",
       "\n",
       "    .dataframe tbody tr th {\n",
       "        vertical-align: top;\n",
       "    }\n",
       "\n",
       "    .dataframe thead th {\n",
       "        text-align: right;\n",
       "    }\n",
       "</style>\n",
       "<table border=\"1\" class=\"dataframe\">\n",
       "  <thead>\n",
       "    <tr style=\"text-align: right;\">\n",
       "      <th></th>\n",
       "      <th>mutation</th>\n",
       "      <th>coef</th>\n",
       "      <th>coef_LB</th>\n",
       "      <th>coef_UB</th>\n",
       "      <th>pval</th>\n",
       "      <th>BH_pval</th>\n",
       "      <th>Bonferroni_pval</th>\n",
       "      <th>confidence</th>\n",
       "    </tr>\n",
       "  </thead>\n",
       "  <tbody>\n",
       "    <tr>\n",
       "      <th>161</th>\n",
       "      <td>mmpS5_c.-74G&gt;T</td>\n",
       "      <td>0.012598</td>\n",
       "      <td>-0.020455</td>\n",
       "      <td>0.05048</td>\n",
       "      <td>0.151</td>\n",
       "      <td>0.290334</td>\n",
       "      <td>1.0</td>\n",
       "      <td>3) Uncertain significance</td>\n",
       "    </tr>\n",
       "  </tbody>\n",
       "</table>\n",
       "</div>"
      ],
      "text/plain": [
       "           mutation      coef   coef_LB  coef_UB   pval   BH_pval  \\\n",
       "161  mmpS5_c.-74G>T  0.012598 -0.020455  0.05048  0.151  0.290334   \n",
       "\n",
       "     Bonferroni_pval                 confidence  \n",
       "161              1.0  3) Uncertain significance  "
      ]
     },
     "execution_count": 301,
     "metadata": {},
     "output_type": "execute_result"
    }
   ],
   "source": [
    "MIC_analysis = pd.read_csv(\"/n/data1/hms/dbmi/farhat/Sanjana/who-mutation-catalogue/Bedaquiline/MIC/tiers=1/dropAF_noSyn_unpooled/model_analysis_5PC.csv\")\n",
    "\n",
    "# 5 principal components\n",
    "MIC_analysis.query(\"mutation=='mmpS5_c.-74G>T'\")"
   ]
  },
  {
   "cell_type": "code",
   "execution_count": 307,
   "id": "676f6a1e-015b-4fdb-bf77-94ba0b06ae92",
   "metadata": {},
   "outputs": [
    {
     "data": {
      "text/html": [
       "<div>\n",
       "<style scoped>\n",
       "    .dataframe tbody tr th:only-of-type {\n",
       "        vertical-align: middle;\n",
       "    }\n",
       "\n",
       "    .dataframe tbody tr th {\n",
       "        vertical-align: top;\n",
       "    }\n",
       "\n",
       "    .dataframe thead th {\n",
       "        text-align: right;\n",
       "    }\n",
       "</style>\n",
       "<table border=\"1\" class=\"dataframe\">\n",
       "  <thead>\n",
       "    <tr style=\"text-align: right;\">\n",
       "      <th></th>\n",
       "      <th>mutation</th>\n",
       "      <th>coef</th>\n",
       "      <th>coef_LB</th>\n",
       "      <th>coef_UB</th>\n",
       "      <th>pval</th>\n",
       "      <th>BH_pval</th>\n",
       "      <th>Bonferroni_pval</th>\n",
       "      <th>confidence</th>\n",
       "    </tr>\n",
       "  </thead>\n",
       "  <tbody>\n",
       "    <tr>\n",
       "      <th>130</th>\n",
       "      <td>mmpS5_c.-74G&gt;T</td>\n",
       "      <td>0.024315</td>\n",
       "      <td>-0.010246</td>\n",
       "      <td>0.063666</td>\n",
       "      <td>0.042</td>\n",
       "      <td>0.123324</td>\n",
       "      <td>1.0</td>\n",
       "      <td>3) Uncertain significance</td>\n",
       "    </tr>\n",
       "  </tbody>\n",
       "</table>\n",
       "</div>"
      ],
      "text/plain": [
       "           mutation      coef   coef_LB   coef_UB   pval   BH_pval  \\\n",
       "130  mmpS5_c.-74G>T  0.024315 -0.010246  0.063666  0.042  0.123324   \n",
       "\n",
       "     Bonferroni_pval                 confidence  \n",
       "130              1.0  3) Uncertain significance  "
      ]
     },
     "execution_count": 307,
     "metadata": {},
     "output_type": "execute_result"
    }
   ],
   "source": [
    "# kept 48 out of 100 PCs\n",
    "MIC_analysis = pd.read_csv(\"/n/data1/hms/dbmi/farhat/Sanjana/who-mutation-catalogue/Bedaquiline/MIC/tiers=1/dropAF_noSyn_unpooled/model_analysis.csv\")\n",
    "\n",
    "# 5 principal components\n",
    "MIC_analysis.query(\"mutation=='mmpS5_c.-74G>T'\")"
   ]
  },
  {
   "cell_type": "code",
   "execution_count": null,
   "id": "d365c377-0f89-4d05-9b9e-3d5736262430",
   "metadata": {},
   "outputs": [],
   "source": []
  }
 ],
 "metadata": {
  "kernelspec": {
   "display_name": "Python 3 (ipykernel)",
   "language": "python",
   "name": "python3"
  },
  "language_info": {
   "codemirror_mode": {
    "name": "ipython",
    "version": 3
   },
   "file_extension": ".py",
   "mimetype": "text/x-python",
   "name": "python",
   "nbconvert_exporter": "python",
   "pygments_lexer": "ipython3",
   "version": "3.9.16"
  }
 },
 "nbformat": 4,
 "nbformat_minor": 5
}
