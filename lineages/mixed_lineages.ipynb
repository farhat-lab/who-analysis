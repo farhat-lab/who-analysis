{
 "cells": [
  {
   "cell_type": "code",
   "execution_count": 1,
   "id": "06af22b0-8f73-47e0-93a8-3cb63af1096f",
   "metadata": {},
   "outputs": [
    {
     "name": "stdout",
     "output_type": "stream",
     "text": [
      "(52567, 7)\n"
     ]
    }
   ],
   "source": [
    "import numpy as np\n",
    "import pandas as pd\n",
    "import matplotlib.pyplot as plt\n",
    "import matplotlib.patches as mpatches\n",
    "plt.rcParams['figure.dpi'] = 150\n",
    "import seaborn as sns\n",
    "import scipy.stats as st\n",
    "import statsmodels\n",
    "import statsmodels.api as sm\n",
    "import vcf\n",
    "from functools import reduce\n",
    "\n",
    "import glob, os, yaml, subprocess, itertools, sparse, sys, statsmodels, shutil\n",
    "from sklearn.model_selection import train_test_split, KFold, GridSearchCV\n",
    "from sklearn.preprocessing import StandardScaler\n",
    "from sklearn.linear_model import LogisticRegression, LogisticRegressionCV\n",
    "\n",
    "#eigenvec_df = pd.read_csv(\"../PCA/eigenvec_100PC.csv\", index_col=[0])\n",
    "analysis_dir = '/n/data1/hms/dbmi/farhat/Sanjana/who-mutation-catalogue'\n",
    "\n",
    "lineages = pd.read_csv(\"../data/combined_lineages_samples.csv\")\n",
    "print(lineages.shape)\n",
    "import collections, warnings\n",
    "warnings.filterwarnings(\"ignore\")\n",
    "\n",
    "sys.path.append(os.path.join(os.path.dirname(os.getcwd()), \"utils\"))\n",
    "from stats_utils import *\n",
    "from data_utils import *\n",
    "\n",
    "lineages_og = pd.read_csv(\"../data/lineages_Coll_Freschi.csv\")\n",
    "lineages_og['Sample Name'] = lineages_og['File_Name'].str.replace('-freebayes.vcf', '')\n",
    "\n",
    "# coll2014 = pd.read_csv(\"../data/coll2014_SNP_scheme.tsv\", sep=\"\\t\")\n",
    "# coll2014[\"#lineage\"] = coll2014[\"#lineage\"].str.replace(\"lineage\", \"\")\n",
    "# coll2014.rename(columns={\"#lineage\": \"Lineage\"}, inplace=True)\n",
    "# coll2014['nucleotide'] = [val.split('/')[1] for val in coll2014['allele_change'].values]\n",
    "\n",
    "coll2014_full = pd.read_csv(\"Coll2014_SNPs_full.csv\")\n",
    "\n",
    "drug_abbr_dict = {\"Delamanid\": \"DLM\",\n",
    "                  \"Bedaquiline\": \"BDQ\",\n",
    "                  \"Clofazimine\": \"CFZ\",\n",
    "                  \"Ethionamide\": \"ETO\",\n",
    "                  \"Linezolid\": \"LZD\",\n",
    "                  \"Moxifloxacin\": \"MXF\",\n",
    "                  \"Capreomycin\": \"CAP\",\n",
    "                  \"Amikacin\": \"AMK\",\n",
    "                  \"Pretomanid\": \"PMD\",\n",
    "                  \"Pyrazinamide\": \"PZA\",\n",
    "                  \"Kanamycin\": \"KAN\",\n",
    "                  \"Levofloxacin\": \"LFX\",\n",
    "                  \"Streptomycin\": \"STM\",\n",
    "                  \"Ethambutol\": \"EMB\",\n",
    "                  \"Isoniazid\": \"INH\",\n",
    "                  \"Rifampicin\": \"RIF\"\n",
    "                 }\n",
    "\n",
    "cc_df = pd.read_csv(\"../data/drug_CC.csv\")\n",
    "who_variants_V1 = pd.read_excel(\"../results/WHO-catalog-V1.xlsx\", sheet_name='Mutation_catalogue')\n",
    "who_variants = pd.read_csv(\"../results/WHO-catalog-V2.csv\", header=[2]).query(\"tier==1\").reset_index(drop=True)\n",
    "del who_variants['mutation']\n",
    "\n",
    "# results_final = pd.read_csv(\"../results/Regression_Final_Nov2023_Tier1.csv\")\n",
    "results_final = pd.read_csv(\"../results/Regression_Final_Jan2024_Tier1.csv\")\n",
    "\n",
    "drugs_lst = list(drug_abbr_dict.keys())"
   ]
  },
  {
   "cell_type": "markdown",
   "id": "55a9beb7-784f-48b7-9c83-f7f19faa30ea",
   "metadata": {},
   "source": [
    "# Make File of Directories and File Names to Subset"
   ]
  },
  {
   "cell_type": "code",
   "execution_count": 2,
   "id": "67c334a6-2673-4911-b440-4a8df7616a7b",
   "metadata": {},
   "outputs": [],
   "source": [
    "lineages_for_F2 = lineages[['VCF_Dir', 'File_Name']]\n",
    "\n",
    "# change directory because the files were moved\n",
    "lineages_for_F2['VCF_Dir'] = [os.path.join(\"/n/scratch/users/s/sak0914/WHO_catalogue_data/VCF\", os.path.basename(vcf_dir)) for vcf_dir in lineages_for_F2.VCF_Dir.values]\n",
    "\n",
    "# remove file extension from the file names\n",
    "lineages_for_F2['File_Name'] = ['.'.join(val.split('.')[:-1]) for val in lineages_for_F2['File_Name'].values]"
   ]
  },
  {
   "cell_type": "code",
   "execution_count": 4,
   "id": "cde20c7c-ad21-41d3-844d-31170fc39770",
   "metadata": {},
   "outputs": [
    {
     "data": {
      "text/plain": [
       "(52567, 52567)"
      ]
     },
     "execution_count": 4,
     "metadata": {},
     "output_type": "execute_result"
    }
   ],
   "source": [
    "fNames = []\n",
    "\n",
    "for i, row in lineages_for_F2.iterrows():\n",
    "\n",
    "    fName = os.path.join(row['VCF_Dir'], row['File_Name'] + '.vcf')\n",
    "    \n",
    "    if os.path.isfile(fName):\n",
    "        fNames.append(fName)\n",
    "\n",
    "len(fNames), len(lineages_for_F2)"
   ]
  },
  {
   "cell_type": "code",
   "execution_count": 6,
   "id": "fdafa556-8e9b-40a3-a142-ab7dfee15893",
   "metadata": {},
   "outputs": [],
   "source": [
    "pd.Series(fNames).to_csv(\"VCF_fNames.csv\", index=False, header=None)"
   ]
  },
  {
   "cell_type": "code",
   "execution_count": null,
   "id": "236e60c3-27c1-42c5-8453-dbdab25a983c",
   "metadata": {},
   "outputs": [],
   "source": []
  },
  {
   "cell_type": "code",
   "execution_count": null,
   "id": "0ce1fbd1-2314-476a-a68a-a401be037a34",
   "metadata": {},
   "outputs": [],
   "source": []
  },
  {
   "cell_type": "code",
   "execution_count": null,
   "id": "3b0ddab0-8a00-49dd-b3c6-6b768955ef71",
   "metadata": {},
   "outputs": [],
   "source": [
    "python3 -u lineages/compute_F2_score.py /n/scratch/users/s/sak0914/WHO_catalogue_data/VCF/6d441179-9b21-1f42-aa56-611440b8e6d6-03_ALSV06091971_NOR-43_LIB19752_1/03_ALSV06091971_NOR-43_LIB19752_1-freebayes_lineage_positions.vcf"
   ]
  },
  {
   "cell_type": "code",
   "execution_count": 305,
   "id": "c15faeeb-6eb6-4408-98ff-e0aaff790445",
   "metadata": {},
   "outputs": [],
   "source": [
    "lineages_for_F2['fName'] = lineages_for_F2['VCF_Dir'] + '/' + lineages_for_F2['File_Name'] + '_lineage_positions.vcf'"
   ]
  },
  {
   "cell_type": "code",
   "execution_count": 344,
   "id": "14a30b2d-6f87-4d26-ac70-bc52930945e5",
   "metadata": {},
   "outputs": [
    {
     "data": {
      "text/plain": [
       "'/n/scratch/users/s/sak0914/WHO_catalogue_data/VCF/11050333/11050333-freebayes_lineage_positions.vcf'"
      ]
     },
     "execution_count": 344,
     "metadata": {},
     "output_type": "execute_result"
    }
   ],
   "source": [
    "lineages_for_F2.fName.values[0]"
   ]
  },
  {
   "cell_type": "code",
   "execution_count": 306,
   "id": "f2c56314-95c8-4cf6-8366-5203e81f6da0",
   "metadata": {},
   "outputs": [],
   "source": [
    "lineages_for_F2[['fName']].to_csv(\"VCF_fNames.tsv\", index=False, header=None, sep='\\t')"
   ]
  },
  {
   "cell_type": "code",
   "execution_count": 294,
   "id": "21cc6d3d-9230-4419-8b23-df16eb96db31",
   "metadata": {},
   "outputs": [
    {
     "data": {
      "text/plain": [
       "52567"
      ]
     },
     "execution_count": 294,
     "metadata": {},
     "output_type": "execute_result"
    }
   ],
   "source": [
    "len(fNames_for_F2)"
   ]
  },
  {
   "cell_type": "code",
   "execution_count": 4,
   "id": "521db154-d341-4df8-84f3-456f9bc6cbe5",
   "metadata": {},
   "outputs": [
    {
     "name": "stdout",
     "output_type": "stream",
     "text": [
      "(52567, 2)\n"
     ]
    }
   ],
   "source": [
    "print(lineages_for_F2.shape)\n",
    "#lineages_for_F2.to_csv(\"../lineages/VCF_fNames.tsv\", index=False, header=None, sep='\\t')"
   ]
  },
  {
   "cell_type": "code",
   "execution_count": null,
   "id": "20b8d798-c5d3-4f9e-a58e-dafe82312b7a",
   "metadata": {},
   "outputs": [],
   "source": [
    "bcftools filter -i \"POS == 1799921 | POS == 1816587\" /n/scratch/users/s/sak0914/WHO_catalogue_data/VCF/SAMEA8718813/SAMEA8718813-freebayes.vcf"
   ]
  },
  {
   "cell_type": "code",
   "execution_count": null,
   "id": "953a1fb9-cc8f-42ac-a554-eb81cfd8dffa",
   "metadata": {},
   "outputs": [],
   "source": [
    "bcftools filter -i \"POS == 2026110 | POS == 3847221\" /n/scratch/users/s/sak0914/WHO_catalogue_data/VCF/SAMEA8718813/SAMEA8718813-freebayes.vcf"
   ]
  },
  {
   "cell_type": "code",
   "execution_count": 206,
   "id": "f5434330-af2a-4626-aa36-43b2d84f19aa",
   "metadata": {},
   "outputs": [
    {
     "data": {
      "text/plain": [
       "'SAMN12838345-freebayes\\tNA\\tNA\\tcanetti,westafrican1,ethiopian,tur,mungi\\tNA\\tNA'"
      ]
     },
     "execution_count": 206,
     "metadata": {},
     "output_type": "execute_result"
    }
   ],
   "source": [
    "#vcf_fName = '/n/scratch/users/s/sak0914/WHO_catalogue_data/VCF/6d441179-9b21-1f42-aa56-611440b8e6d6-03_7708-14_LIB9950_7708-14_LIB9950_1/03_7708-14_LIB9950_7708-14_LIB9950_1-freebayes.vcf'\n",
    "\n",
    "vcf_fName = '/n/scratch/users/s/sak0914/WHO_catalogue_data/VCF/SAMN12838345/SAMN12838345-freebayes.vcf'\n",
    "\n",
    "proc = subprocess.Popen(f\"fast-lineage-caller {vcf_fName} --noheader --pass\", shell=True, encoding='utf8', stdout=subprocess.PIPE)\n",
    "output = proc.communicate()[0].replace('\\n', '') # remove newline characters\n",
    "output"
   ]
  },
  {
   "cell_type": "code",
   "execution_count": 274,
   "id": "14cdbefb-0347-4e85-be91-491e84719c7f",
   "metadata": {},
   "outputs": [
    {
     "name": "stdout",
     "output_type": "stream",
     "text": [
      "Excluding lineages ['1.2' '3.1' '3.1.2' '4.1.2' '4.3.4.2.1' '4.6' '4.7'] with fewer than 20 SNPs defining them\n",
      "Keeping 6833/6915 lineage-defining SNPs from the Coll 2014 scheme\n"
     ]
    }
   ],
   "source": [
    "# Lineage Defining SNPs - Import full set of Lineage Defining SNP sets from Coll et. al. 2014\n",
    "lineage_defining_SNPs = pd.read_csv(\"./Coll2014_SNPs_full.csv\").rename(columns={\"#lineage\": \"lineage\"})\n",
    "lineage_defining_SNPs['lineage'] = [val.replace('lineage', '') for val in lineage_defining_SNPs['lineage'].values]\n",
    "\n",
    "# According to Wyllie et. al. 2018, drop SNP sets corresponding to branches with fewer than 20 SNPs\n",
    "# excluded_branches = ['1.2' , '3.1' , '3.1.2' , '4.1.2' , '4.3.4.2.1' , '4.6' , '4.7']\n",
    "exclude_branch_SNP_thresh = 20\n",
    "\n",
    "# use lineage as the counts column too, so the index and the column have the same name\n",
    "excluded_branches = pd.DataFrame(lineage_defining_SNPs.groupby('lineage')['lineage'].count()).query(\"lineage < @exclude_branch_SNP_thresh\").index.values\n",
    "print(f\"Excluding lineages {excluded_branches} with fewer than {exclude_branch_SNP_thresh} SNPs defining them\")\n",
    "full_length = len(lineage_defining_SNPs)\n",
    "\n",
    "lineage_defining_SNPs = lineage_defining_SNPs.query(\"lineage not in @excluded_branches\").reset_index(drop=True)\n",
    "print(f\"Keeping {len(lineage_defining_SNPs)}/{full_length} lineage-defining SNPs from the Coll 2014 scheme\")\n",
    "\n",
    "# separate REF and ALT alleles\n",
    "lineage_defining_SNPs['REF'] = [val.split('/')[0] for val in lineage_defining_SNPs['allele_change'].values]\n",
    "lineage_defining_SNPs['ALT'] = [val.split('/')[1] for val in lineage_defining_SNPs['allele_change'].values]"
   ]
  },
  {
   "cell_type": "code",
   "execution_count": 209,
   "id": "241328d0-5a49-4a0f-905a-78cc2f674e94",
   "metadata": {},
   "outputs": [],
   "source": [
    "lineage_df = pd.read_csv(\"/n/scratch/users/s/sak0914/WHO_catalogue_data/VCF/11050333/11050333-freebayes_lineage_SNP_depths.csv\")"
   ]
  },
  {
   "cell_type": "code",
   "execution_count": 340,
   "id": "e89abc55-9bac-46b3-87bb-2f2c07d5e8af",
   "metadata": {},
   "outputs": [],
   "source": [
    "def get_lineage_defining_SNP_depths(reduced_VCF):\n",
    "    '''\n",
    "    This function gets the minor alleles and depth information for all SNPs in the full Coll 2014 scheme. \n",
    "    '''\n",
    "    \n",
    "    lineage_df = pd.DataFrame(columns=['position', 'Depth', 'REF', 'ALT', 'Minor_Depth'])\n",
    "\n",
    "    i = 0\n",
    "\n",
    "    vcf_reader = vcf.Reader(filename=reduced_VCF)\n",
    "\n",
    "    # iterate through each record from VCF file\n",
    "    for record in vcf_reader:\n",
    "    \n",
    "        # check to see if call is at a lineage defining site AND that call is a SNP\n",
    "        if ( record.POS in list( lineage_defining_SNPs.position ) ) and check_call_is_SNP(record.REF, record.ALT):\n",
    "    \n",
    "            # check that the SNP identities match too\n",
    "            #if record.REF == lineage_defining_SNPs.query(\"position == @record.POS\")['REF'].values[0] and record.ALT[0] == lineage_defining_SNPs.query(\"position == @record.POS\")['ALT'].values[0]:\n",
    "                \n",
    "            ref_depth = record.INFO['RO']\n",
    "            alt_depth = record.INFO['AO'][0]\n",
    "            total_depth = record.INFO['DP']\n",
    "    \n",
    "            # check that the sum of the number of reads supporting ref and the number of reads supporting alt is ≤ total depth\n",
    "            assert ref_depth + alt_depth <= total_depth\n",
    "    \n",
    "            # only need to consider a single alternative allele because the check_call_is_SNP already checks that there is a single alternative allele\n",
    "            # find the allele with the lower depth (i.e., support)\n",
    "            major_depth = np.max([ref_depth, alt_depth])\n",
    "            minor_depth = total_depth - major_depth\n",
    "            \n",
    "            # minor_depth = np.min([ref_depth, alt_depth])\n",
    "            # min_idx = [ref_depth, alt_depth].index(minor_depth)\n",
    "            # minor_allele = list([record.REF, record.ALT[0]])[min_idx]\n",
    "    \n",
    "            # the minor depth should be less than or equal to 1/2 the full depth\n",
    "            assert minor_depth <= total_depth / 2\n",
    "            \n",
    "            lineage_df.loc[i, :] = [record.POS, total_depth, record.REF, str(record.ALT[0]), minor_depth]\n",
    "            i += 1\n",
    "\n",
    "    # keep only variants that also match the REF and ALT identities in the Coll 2014 scheme. Merge right to keep all the SNPs\n",
    "    # the SNPs that are NOT present have a minor depth of 0 because they are the REF allele only (no variants)\n",
    "    lineage_df = lineage_df.merge(lineage_defining_SNPs[['position', 'lineage', 'REF', 'ALT']], on=['position', 'REF', 'ALT'], how='right')\n",
    "\n",
    "    # fill NaNs in minor depth and \n",
    "    \n",
    "    # check that the minor allele is one of REF and ALT\n",
    "    # assert len(lineage_df.query(\"Minor_Allele != REF and Minor_Allele != ALT\")) == 0\n",
    "    return lineage_df"
   ]
  },
  {
   "cell_type": "code",
   "execution_count": 341,
   "id": "1770ad12-9ec5-4481-b877-6a21ab3d2717",
   "metadata": {},
   "outputs": [],
   "source": [
    "reduced_VCF = '/n/scratch/users/s/sak0914/WHO_catalogue_data/VCF/EUST15989/EUST15989-freebayes_lineage_positions.vcf'\n",
    "lineage_df = get_lineage_defining_SNP_depths(reduced_VCF)"
   ]
  },
  {
   "cell_type": "code",
   "execution_count": 342,
   "id": "38781402-6640-4e7d-b073-a8e391e37e6b",
   "metadata": {},
   "outputs": [
    {
     "data": {
      "text/plain": [
       "(6635, 6)"
      ]
     },
     "execution_count": 342,
     "metadata": {},
     "output_type": "execute_result"
    }
   ],
   "source": [
    "lineage_df.loc[pd.isnull(lineage_df['Minor_Depth'])].shape"
   ]
  },
  {
   "cell_type": "code",
   "execution_count": 343,
   "id": "164639d9-9fdc-4b30-a07f-33a966b86481",
   "metadata": {},
   "outputs": [
    {
     "data": {
      "text/html": [
       "<div>\n",
       "<style scoped>\n",
       "    .dataframe tbody tr th:only-of-type {\n",
       "        vertical-align: middle;\n",
       "    }\n",
       "\n",
       "    .dataframe tbody tr th {\n",
       "        vertical-align: top;\n",
       "    }\n",
       "\n",
       "    .dataframe thead th {\n",
       "        text-align: right;\n",
       "    }\n",
       "</style>\n",
       "<table border=\"1\" class=\"dataframe\">\n",
       "  <thead>\n",
       "    <tr style=\"text-align: right;\">\n",
       "      <th></th>\n",
       "      <th>position</th>\n",
       "      <th>Depth</th>\n",
       "      <th>REF</th>\n",
       "      <th>ALT</th>\n",
       "      <th>Minor_Depth</th>\n",
       "      <th>lineage</th>\n",
       "    </tr>\n",
       "  </thead>\n",
       "  <tbody>\n",
       "    <tr>\n",
       "      <th>0</th>\n",
       "      <td>6112</td>\n",
       "      <td>NaN</td>\n",
       "      <td>G</td>\n",
       "      <td>C</td>\n",
       "      <td>NaN</td>\n",
       "      <td>1</td>\n",
       "    </tr>\n",
       "    <tr>\n",
       "      <th>1</th>\n",
       "      <td>8452</td>\n",
       "      <td>NaN</td>\n",
       "      <td>C</td>\n",
       "      <td>T</td>\n",
       "      <td>NaN</td>\n",
       "      <td>1</td>\n",
       "    </tr>\n",
       "    <tr>\n",
       "      <th>2</th>\n",
       "      <td>13298</td>\n",
       "      <td>NaN</td>\n",
       "      <td>G</td>\n",
       "      <td>C</td>\n",
       "      <td>NaN</td>\n",
       "      <td>1</td>\n",
       "    </tr>\n",
       "    <tr>\n",
       "      <th>3</th>\n",
       "      <td>22961</td>\n",
       "      <td>NaN</td>\n",
       "      <td>T</td>\n",
       "      <td>G</td>\n",
       "      <td>NaN</td>\n",
       "      <td>1</td>\n",
       "    </tr>\n",
       "    <tr>\n",
       "      <th>4</th>\n",
       "      <td>26347</td>\n",
       "      <td>NaN</td>\n",
       "      <td>C</td>\n",
       "      <td>G</td>\n",
       "      <td>NaN</td>\n",
       "      <td>1</td>\n",
       "    </tr>\n",
       "    <tr>\n",
       "      <th>...</th>\n",
       "      <td>...</td>\n",
       "      <td>...</td>\n",
       "      <td>...</td>\n",
       "      <td>...</td>\n",
       "      <td>...</td>\n",
       "      <td>...</td>\n",
       "    </tr>\n",
       "    <tr>\n",
       "      <th>6828</th>\n",
       "      <td>4292095</td>\n",
       "      <td>NaN</td>\n",
       "      <td>C</td>\n",
       "      <td>A</td>\n",
       "      <td>NaN</td>\n",
       "      <td>BOV_AFRI</td>\n",
       "    </tr>\n",
       "    <tr>\n",
       "      <th>6829</th>\n",
       "      <td>4330238</td>\n",
       "      <td>NaN</td>\n",
       "      <td>C</td>\n",
       "      <td>T</td>\n",
       "      <td>NaN</td>\n",
       "      <td>BOV_AFRI</td>\n",
       "    </tr>\n",
       "    <tr>\n",
       "      <th>6830</th>\n",
       "      <td>4386257</td>\n",
       "      <td>NaN</td>\n",
       "      <td>G</td>\n",
       "      <td>C</td>\n",
       "      <td>NaN</td>\n",
       "      <td>BOV_AFRI</td>\n",
       "    </tr>\n",
       "    <tr>\n",
       "      <th>6831</th>\n",
       "      <td>4393838</td>\n",
       "      <td>NaN</td>\n",
       "      <td>C</td>\n",
       "      <td>T</td>\n",
       "      <td>NaN</td>\n",
       "      <td>BOV_AFRI</td>\n",
       "    </tr>\n",
       "    <tr>\n",
       "      <th>6832</th>\n",
       "      <td>4408570</td>\n",
       "      <td>NaN</td>\n",
       "      <td>G</td>\n",
       "      <td>A</td>\n",
       "      <td>NaN</td>\n",
       "      <td>BOV_AFRI</td>\n",
       "    </tr>\n",
       "  </tbody>\n",
       "</table>\n",
       "<p>6635 rows × 6 columns</p>\n",
       "</div>"
      ],
      "text/plain": [
       "     position Depth REF ALT Minor_Depth   lineage\n",
       "0        6112   NaN   G   C         NaN         1\n",
       "1        8452   NaN   C   T         NaN         1\n",
       "2       13298   NaN   G   C         NaN         1\n",
       "3       22961   NaN   T   G         NaN         1\n",
       "4       26347   NaN   C   G         NaN         1\n",
       "...       ...   ...  ..  ..         ...       ...\n",
       "6828  4292095   NaN   C   A         NaN  BOV_AFRI\n",
       "6829  4330238   NaN   C   T         NaN  BOV_AFRI\n",
       "6830  4386257   NaN   G   C         NaN  BOV_AFRI\n",
       "6831  4393838   NaN   C   T         NaN  BOV_AFRI\n",
       "6832  4408570   NaN   G   A         NaN  BOV_AFRI\n",
       "\n",
       "[6635 rows x 6 columns]"
      ]
     },
     "execution_count": 343,
     "metadata": {},
     "output_type": "execute_result"
    }
   ],
   "source": [
    "lineage_df.loc[pd.isnull(lineage_df['Minor_Depth'])]"
   ]
  },
  {
   "cell_type": "code",
   "execution_count": 318,
   "id": "b7fbb260-8dfe-43ff-86ee-77261caaa3a1",
   "metadata": {},
   "outputs": [
    {
     "name": "stdout",
     "output_type": "stream",
     "text": [
      "Top two lineage sets: ['2.2.2' '4.6.2.1']\n"
     ]
    },
    {
     "data": {
      "text/plain": [
       "1.0"
      ]
     },
     "execution_count": 318,
     "metadata": {},
     "output_type": "execute_result"
    }
   ],
   "source": [
    "# sum over m (minor depth), sum over d (total depth) for all SNPs in a lineage set\n",
    "lineage_df_sets = lineage_df.groupby('lineage')[['Depth', 'Minor_Depth']].sum()\n",
    "\n",
    "# minor allele fraction, p = M / D\n",
    "lineage_df_sets['Minor_AF'] = lineage_df_sets['Minor_Depth'] / lineage_df_sets['Depth']\n",
    "\n",
    "# get the two lineages with the largest minor allele frequencies\n",
    "top_two_lineages = []\n",
    "\n",
    "# iterate, and remove lineages that are already encompassed. i.e. if 2.2.1 is in the list already, then don't add 2 or 2.2\n",
    "for query_lineage in lineage_df_sets.sort_values('Minor_AF', ascending=False).index.values:\n",
    "\n",
    "    encompassed = False\n",
    "    \n",
    "    if len(top_two_lineages) == 2:\n",
    "        break\n",
    "\n",
    "    else:\n",
    "        # if there are already lineages inside\n",
    "        if len(top_two_lineages) > 0:\n",
    "            for kept_lineage in top_two_lineages:\n",
    "\n",
    "                # if the query lineage is a substring of a lineage that is already present, don't add it\n",
    "                if query_lineage in kept_lineage:\n",
    "                    encompassed = True\n",
    "\n",
    "            if not encompassed:\n",
    "                top_two_lineages.append(query_lineage)\n",
    "        else:\n",
    "            top_two_lineages.append(query_lineage)\n",
    "\n",
    "print(f\"Top two lineage sets: {np.sort(top_two_lineages)}\")\n",
    "F2_sets = lineage_df.query(\"lineage in @top_two_lineages\")\n",
    "F2_metric = F2_sets['Minor_Depth'].sum() / F2_sets['Depth'].sum()\n",
    "F2_metric"
   ]
  },
  {
   "cell_type": "code",
   "execution_count": 319,
   "id": "d16a731b-16d3-4019-9d55-84295c9a36ae",
   "metadata": {},
   "outputs": [
    {
     "data": {
      "text/html": [
       "<div>\n",
       "<style scoped>\n",
       "    .dataframe tbody tr th:only-of-type {\n",
       "        vertical-align: middle;\n",
       "    }\n",
       "\n",
       "    .dataframe tbody tr th {\n",
       "        vertical-align: top;\n",
       "    }\n",
       "\n",
       "    .dataframe thead th {\n",
       "        text-align: right;\n",
       "    }\n",
       "</style>\n",
       "<table border=\"1\" class=\"dataframe\">\n",
       "  <thead>\n",
       "    <tr style=\"text-align: right;\">\n",
       "      <th></th>\n",
       "      <th>Depth</th>\n",
       "      <th>Minor_Depth</th>\n",
       "      <th>Minor_AF</th>\n",
       "    </tr>\n",
       "    <tr>\n",
       "      <th>lineage</th>\n",
       "      <th></th>\n",
       "      <th></th>\n",
       "      <th></th>\n",
       "    </tr>\n",
       "  </thead>\n",
       "  <tbody>\n",
       "    <tr>\n",
       "      <th>1.1.1.1</th>\n",
       "      <td>97</td>\n",
       "      <td>96</td>\n",
       "      <td>0.989691</td>\n",
       "    </tr>\n",
       "    <tr>\n",
       "      <th>2.2.1.2</th>\n",
       "      <td>191</td>\n",
       "      <td>190</td>\n",
       "      <td>0.994764</td>\n",
       "    </tr>\n",
       "    <tr>\n",
       "      <th>2.2.2</th>\n",
       "      <td>113</td>\n",
       "      <td>113</td>\n",
       "      <td>1.0</td>\n",
       "    </tr>\n",
       "    <tr>\n",
       "      <th>3</th>\n",
       "      <td>121</td>\n",
       "      <td>121</td>\n",
       "      <td>1.0</td>\n",
       "    </tr>\n",
       "    <tr>\n",
       "      <th>3.1.2.2</th>\n",
       "      <td>120</td>\n",
       "      <td>118</td>\n",
       "      <td>0.983333</td>\n",
       "    </tr>\n",
       "    <tr>\n",
       "      <th>4.1</th>\n",
       "      <td>9666</td>\n",
       "      <td>9620</td>\n",
       "      <td>0.995241</td>\n",
       "    </tr>\n",
       "    <tr>\n",
       "      <th>4.1.1.1</th>\n",
       "      <td>489</td>\n",
       "      <td>238</td>\n",
       "      <td>0.486708</td>\n",
       "    </tr>\n",
       "    <tr>\n",
       "      <th>4.1.2.1</th>\n",
       "      <td>173</td>\n",
       "      <td>173</td>\n",
       "      <td>1.0</td>\n",
       "    </tr>\n",
       "    <tr>\n",
       "      <th>4.2.2</th>\n",
       "      <td>119</td>\n",
       "      <td>39</td>\n",
       "      <td>0.327731</td>\n",
       "    </tr>\n",
       "    <tr>\n",
       "      <th>4.2.2.1</th>\n",
       "      <td>398</td>\n",
       "      <td>202</td>\n",
       "      <td>0.507538</td>\n",
       "    </tr>\n",
       "    <tr>\n",
       "      <th>4.4.1.2</th>\n",
       "      <td>162</td>\n",
       "      <td>162</td>\n",
       "      <td>1.0</td>\n",
       "    </tr>\n",
       "    <tr>\n",
       "      <th>4.6.1</th>\n",
       "      <td>162</td>\n",
       "      <td>162</td>\n",
       "      <td>1.0</td>\n",
       "    </tr>\n",
       "    <tr>\n",
       "      <th>4.6.2.1</th>\n",
       "      <td>2</td>\n",
       "      <td>2</td>\n",
       "      <td>1.0</td>\n",
       "    </tr>\n",
       "    <tr>\n",
       "      <th>4.6.2.2</th>\n",
       "      <td>150</td>\n",
       "      <td>149</td>\n",
       "      <td>0.993333</td>\n",
       "    </tr>\n",
       "    <tr>\n",
       "      <th>4.9</th>\n",
       "      <td>10538</td>\n",
       "      <td>10487</td>\n",
       "      <td>0.99516</td>\n",
       "    </tr>\n",
       "    <tr>\n",
       "      <th>5</th>\n",
       "      <td>337</td>\n",
       "      <td>237</td>\n",
       "      <td>0.703264</td>\n",
       "    </tr>\n",
       "    <tr>\n",
       "      <th>7</th>\n",
       "      <td>1186</td>\n",
       "      <td>678</td>\n",
       "      <td>0.571669</td>\n",
       "    </tr>\n",
       "    <tr>\n",
       "      <th>BOV</th>\n",
       "      <td>176</td>\n",
       "      <td>175</td>\n",
       "      <td>0.994318</td>\n",
       "    </tr>\n",
       "    <tr>\n",
       "      <th>BOV_AFRI</th>\n",
       "      <td>354</td>\n",
       "      <td>353</td>\n",
       "      <td>0.997175</td>\n",
       "    </tr>\n",
       "  </tbody>\n",
       "</table>\n",
       "</div>"
      ],
      "text/plain": [
       "          Depth Minor_Depth  Minor_AF\n",
       "lineage                              \n",
       "1.1.1.1      97          96  0.989691\n",
       "2.2.1.2     191         190  0.994764\n",
       "2.2.2       113         113       1.0\n",
       "3           121         121       1.0\n",
       "3.1.2.2     120         118  0.983333\n",
       "4.1        9666        9620  0.995241\n",
       "4.1.1.1     489         238  0.486708\n",
       "4.1.2.1     173         173       1.0\n",
       "4.2.2       119          39  0.327731\n",
       "4.2.2.1     398         202  0.507538\n",
       "4.4.1.2     162         162       1.0\n",
       "4.6.1       162         162       1.0\n",
       "4.6.2.1       2           2       1.0\n",
       "4.6.2.2     150         149  0.993333\n",
       "4.9       10538       10487   0.99516\n",
       "5           337         237  0.703264\n",
       "7          1186         678  0.571669\n",
       "BOV         176         175  0.994318\n",
       "BOV_AFRI    354         353  0.997175"
      ]
     },
     "execution_count": 319,
     "metadata": {},
     "output_type": "execute_result"
    }
   ],
   "source": [
    "lineage_df_sets"
   ]
  },
  {
   "cell_type": "code",
   "execution_count": 314,
   "id": "c77f2f5e-9b81-4e8d-85b9-3d2f4271e894",
   "metadata": {},
   "outputs": [
    {
     "data": {
      "text/html": [
       "<div>\n",
       "<style scoped>\n",
       "    .dataframe tbody tr th:only-of-type {\n",
       "        vertical-align: middle;\n",
       "    }\n",
       "\n",
       "    .dataframe tbody tr th {\n",
       "        vertical-align: top;\n",
       "    }\n",
       "\n",
       "    .dataframe thead th {\n",
       "        text-align: right;\n",
       "    }\n",
       "</style>\n",
       "<table border=\"1\" class=\"dataframe\">\n",
       "  <thead>\n",
       "    <tr style=\"text-align: right;\">\n",
       "      <th></th>\n",
       "      <th>position</th>\n",
       "      <th>Depth</th>\n",
       "      <th>REF</th>\n",
       "      <th>ALT</th>\n",
       "      <th>Minor_Depth</th>\n",
       "      <th>lineage</th>\n",
       "    </tr>\n",
       "  </thead>\n",
       "  <tbody>\n",
       "    <tr>\n",
       "      <th>0</th>\n",
       "      <td>4013</td>\n",
       "      <td>111</td>\n",
       "      <td>T</td>\n",
       "      <td>C</td>\n",
       "      <td>111</td>\n",
       "      <td>4.9</td>\n",
       "    </tr>\n",
       "    <tr>\n",
       "      <th>1</th>\n",
       "      <td>11370</td>\n",
       "      <td>133</td>\n",
       "      <td>C</td>\n",
       "      <td>T</td>\n",
       "      <td>125</td>\n",
       "      <td>4.1</td>\n",
       "    </tr>\n",
       "    <tr>\n",
       "      <th>2</th>\n",
       "      <td>26959</td>\n",
       "      <td>130</td>\n",
       "      <td>C</td>\n",
       "      <td>G</td>\n",
       "      <td>129</td>\n",
       "      <td>4.9</td>\n",
       "    </tr>\n",
       "    <tr>\n",
       "      <th>3</th>\n",
       "      <td>30943</td>\n",
       "      <td>84</td>\n",
       "      <td>C</td>\n",
       "      <td>T</td>\n",
       "      <td>84</td>\n",
       "      <td>4.1</td>\n",
       "    </tr>\n",
       "    <tr>\n",
       "      <th>4</th>\n",
       "      <td>31077</td>\n",
       "      <td>117</td>\n",
       "      <td>C</td>\n",
       "      <td>T</td>\n",
       "      <td>117</td>\n",
       "      <td>4.1</td>\n",
       "    </tr>\n",
       "    <tr>\n",
       "      <th>...</th>\n",
       "      <td>...</td>\n",
       "      <td>...</td>\n",
       "      <td>...</td>\n",
       "      <td>...</td>\n",
       "      <td>...</td>\n",
       "      <td>...</td>\n",
       "    </tr>\n",
       "    <tr>\n",
       "      <th>193</th>\n",
       "      <td>4356110</td>\n",
       "      <td>128</td>\n",
       "      <td>G</td>\n",
       "      <td>C</td>\n",
       "      <td>126</td>\n",
       "      <td>4.9</td>\n",
       "    </tr>\n",
       "    <tr>\n",
       "      <th>194</th>\n",
       "      <td>4357123</td>\n",
       "      <td>119</td>\n",
       "      <td>C</td>\n",
       "      <td>A</td>\n",
       "      <td>119</td>\n",
       "      <td>4.1</td>\n",
       "    </tr>\n",
       "    <tr>\n",
       "      <th>195</th>\n",
       "      <td>4384417</td>\n",
       "      <td>107</td>\n",
       "      <td>C</td>\n",
       "      <td>T</td>\n",
       "      <td>107</td>\n",
       "      <td>4.1</td>\n",
       "    </tr>\n",
       "    <tr>\n",
       "      <th>196</th>\n",
       "      <td>4386709</td>\n",
       "      <td>145</td>\n",
       "      <td>C</td>\n",
       "      <td>T</td>\n",
       "      <td>145</td>\n",
       "      <td>4.1</td>\n",
       "    </tr>\n",
       "    <tr>\n",
       "      <th>197</th>\n",
       "      <td>4400246</td>\n",
       "      <td>110</td>\n",
       "      <td>G</td>\n",
       "      <td>A</td>\n",
       "      <td>108</td>\n",
       "      <td>4.1</td>\n",
       "    </tr>\n",
       "  </tbody>\n",
       "</table>\n",
       "<p>198 rows × 6 columns</p>\n",
       "</div>"
      ],
      "text/plain": [
       "    position Depth REF ALT Minor_Depth lineage\n",
       "0       4013   111   T   C         111     4.9\n",
       "1      11370   133   C   T         125     4.1\n",
       "2      26959   130   C   G         129     4.9\n",
       "3      30943    84   C   T          84     4.1\n",
       "4      31077   117   C   T         117     4.1\n",
       "..       ...   ...  ..  ..         ...     ...\n",
       "193  4356110   128   G   C         126     4.9\n",
       "194  4357123   119   C   A         119     4.1\n",
       "195  4384417   107   C   T         107     4.1\n",
       "196  4386709   145   C   T         145     4.1\n",
       "197  4400246   110   G   A         108     4.1\n",
       "\n",
       "[198 rows x 6 columns]"
      ]
     },
     "execution_count": 314,
     "metadata": {},
     "output_type": "execute_result"
    }
   ],
   "source": [
    "lineage_df"
   ]
  },
  {
   "cell_type": "code",
   "execution_count": 259,
   "id": "13fcde9f-721c-4f11-9007-bfca5eed1117",
   "metadata": {},
   "outputs": [
    {
     "data": {
      "text/html": [
       "<div>\n",
       "<style scoped>\n",
       "    .dataframe tbody tr th:only-of-type {\n",
       "        vertical-align: middle;\n",
       "    }\n",
       "\n",
       "    .dataframe tbody tr th {\n",
       "        vertical-align: top;\n",
       "    }\n",
       "\n",
       "    .dataframe thead th {\n",
       "        text-align: right;\n",
       "    }\n",
       "</style>\n",
       "<table border=\"1\" class=\"dataframe\">\n",
       "  <thead>\n",
       "    <tr style=\"text-align: right;\">\n",
       "      <th></th>\n",
       "      <th>VCF_Dir</th>\n",
       "      <th>File_Name</th>\n",
       "      <th>Coll2014</th>\n",
       "      <th>Freschi2020</th>\n",
       "      <th>Sample_Name</th>\n",
       "      <th>Sample_ID</th>\n",
       "      <th>Lineage</th>\n",
       "    </tr>\n",
       "  </thead>\n",
       "  <tbody>\n",
       "    <tr>\n",
       "      <th>0</th>\n",
       "      <td>/n/data1/hms/dbmi/farhat/Sanjana/who-mutation-...</td>\n",
       "      <td>11050333-freebayes.vcf</td>\n",
       "      <td>2.2.1</td>\n",
       "      <td>2.2.1.1.1.i3</td>\n",
       "      <td>11050333</td>\n",
       "      <td>810488</td>\n",
       "      <td>2</td>\n",
       "    </tr>\n",
       "  </tbody>\n",
       "</table>\n",
       "</div>"
      ],
      "text/plain": [
       "                                             VCF_Dir               File_Name  \\\n",
       "0  /n/data1/hms/dbmi/farhat/Sanjana/who-mutation-...  11050333-freebayes.vcf   \n",
       "\n",
       "  Coll2014   Freschi2020 Sample_Name  Sample_ID Lineage  \n",
       "0    2.2.1  2.2.1.1.1.i3    11050333     810488       2  "
      ]
     },
     "execution_count": 259,
     "metadata": {},
     "output_type": "execute_result"
    }
   ],
   "source": [
    "lineages.query(\"Sample_Name=='11050333'\")"
   ]
  },
  {
   "cell_type": "code",
   "execution_count": 288,
   "id": "b7efee4e-0c76-41fc-8231-108521bc336d",
   "metadata": {},
   "outputs": [
    {
     "data": {
      "text/plain": [
       "'/n/data1/hms/dbmi/farhat/Sanjana/who-mutation-catalogue-raw-data/vcfs_freebayes/EUST15989'"
      ]
     },
     "execution_count": 288,
     "metadata": {},
     "output_type": "execute_result"
    }
   ],
   "source": [
    "lineages.VCF_Dir.values[-1]"
   ]
  },
  {
   "cell_type": "code",
   "execution_count": 249,
   "id": "e9b8b839-a7f1-43b2-9c6f-5ac3afe71429",
   "metadata": {},
   "outputs": [
    {
     "data": {
      "text/html": [
       "<div>\n",
       "<style scoped>\n",
       "    .dataframe tbody tr th:only-of-type {\n",
       "        vertical-align: middle;\n",
       "    }\n",
       "\n",
       "    .dataframe tbody tr th {\n",
       "        vertical-align: top;\n",
       "    }\n",
       "\n",
       "    .dataframe thead th {\n",
       "        text-align: right;\n",
       "    }\n",
       "</style>\n",
       "<table border=\"1\" class=\"dataframe\">\n",
       "  <thead>\n",
       "    <tr style=\"text-align: right;\">\n",
       "      <th></th>\n",
       "      <th>position</th>\n",
       "      <th>Depth</th>\n",
       "      <th>REF</th>\n",
       "      <th>ALT</th>\n",
       "      <th>Minor_Allele</th>\n",
       "      <th>Minor_Depth</th>\n",
       "      <th>lineage</th>\n",
       "    </tr>\n",
       "  </thead>\n",
       "  <tbody>\n",
       "    <tr>\n",
       "      <th>273</th>\n",
       "      <td>2586127</td>\n",
       "      <td>233</td>\n",
       "      <td>A</td>\n",
       "      <td>G</td>\n",
       "      <td>A</td>\n",
       "      <td>0</td>\n",
       "      <td>4.1.1.1</td>\n",
       "    </tr>\n",
       "    <tr>\n",
       "      <th>299</th>\n",
       "      <td>2866569</td>\n",
       "      <td>367</td>\n",
       "      <td>C</td>\n",
       "      <td>A</td>\n",
       "      <td>A</td>\n",
       "      <td>142</td>\n",
       "      <td>4.1.1.1</td>\n",
       "    </tr>\n",
       "    <tr>\n",
       "      <th>300</th>\n",
       "      <td>2866863</td>\n",
       "      <td>327</td>\n",
       "      <td>C</td>\n",
       "      <td>G</td>\n",
       "      <td>C</td>\n",
       "      <td>0</td>\n",
       "      <td>4.1.1.1</td>\n",
       "    </tr>\n",
       "  </tbody>\n",
       "</table>\n",
       "</div>"
      ],
      "text/plain": [
       "    position Depth REF ALT Minor_Allele Minor_Depth  lineage\n",
       "273  2586127   233   A   G            A           0  4.1.1.1\n",
       "299  2866569   367   C   A            A         142  4.1.1.1\n",
       "300  2866863   327   C   G            C           0  4.1.1.1"
      ]
     },
     "execution_count": 249,
     "metadata": {},
     "output_type": "execute_result"
    }
   ],
   "source": [
    "lineage_df.query(\"lineage=='4.1.1.1'\")"
   ]
  },
  {
   "cell_type": "code",
   "execution_count": 240,
   "id": "7ff8a0ac-a498-40ee-b984-0cddcd041e34",
   "metadata": {},
   "outputs": [
    {
     "data": {
      "text/html": [
       "<div>\n",
       "<style scoped>\n",
       "    .dataframe tbody tr th:only-of-type {\n",
       "        vertical-align: middle;\n",
       "    }\n",
       "\n",
       "    .dataframe tbody tr th {\n",
       "        vertical-align: top;\n",
       "    }\n",
       "\n",
       "    .dataframe thead th {\n",
       "        text-align: right;\n",
       "    }\n",
       "</style>\n",
       "<table border=\"1\" class=\"dataframe\">\n",
       "  <thead>\n",
       "    <tr style=\"text-align: right;\">\n",
       "      <th></th>\n",
       "      <th>Lineage</th>\n",
       "      <th>position</th>\n",
       "      <th>allele_change</th>\n",
       "      <th>tag</th>\n",
       "      <th>nucleotide</th>\n",
       "    </tr>\n",
       "  </thead>\n",
       "  <tbody>\n",
       "    <tr>\n",
       "      <th>23</th>\n",
       "      <td>4.1.1.1</td>\n",
       "      <td>1850119</td>\n",
       "      <td>C/T</td>\n",
       "      <td>coll2014</td>\n",
       "      <td>T</td>\n",
       "    </tr>\n",
       "  </tbody>\n",
       "</table>\n",
       "</div>"
      ],
      "text/plain": [
       "    Lineage  position allele_change       tag nucleotide\n",
       "23  4.1.1.1   1850119           C/T  coll2014          T"
      ]
     },
     "execution_count": 240,
     "metadata": {},
     "output_type": "execute_result"
    }
   ],
   "source": [
    "coll2014.query(\"Lineage=='4.1.1.1'\")"
   ]
  },
  {
   "cell_type": "code",
   "execution_count": null,
   "id": "1740b713-0c19-4ab2-bec9-024f083f6092",
   "metadata": {},
   "outputs": [],
   "source": [
    "bcftools filter -i \"POS==2586127 | POS == 2866569 | POS == 2866863\" /n/scratch/users/s/sak0914/WHO_catalogue_data/VCF/11050333/11050333-freebayes.vcf"
   ]
  },
  {
   "cell_type": "code",
   "execution_count": 237,
   "id": "40f96356-e4b3-4eac-a12d-cd5c6e7e8fee",
   "metadata": {},
   "outputs": [
    {
     "data": {
      "text/plain": [
       "0.2365038560411311"
      ]
     },
     "execution_count": 237,
     "metadata": {},
     "output_type": "execute_result"
    }
   ],
   "source": [
    "92/389"
   ]
  },
  {
   "cell_type": "code",
   "execution_count": 219,
   "id": "683fbc3a-160e-4714-b32b-b176f284c2d5",
   "metadata": {},
   "outputs": [
    {
     "data": {
      "text/html": [
       "<div>\n",
       "<style scoped>\n",
       "    .dataframe tbody tr th:only-of-type {\n",
       "        vertical-align: middle;\n",
       "    }\n",
       "\n",
       "    .dataframe tbody tr th {\n",
       "        vertical-align: top;\n",
       "    }\n",
       "\n",
       "    .dataframe thead th {\n",
       "        text-align: right;\n",
       "    }\n",
       "</style>\n",
       "<table border=\"1\" class=\"dataframe\">\n",
       "  <thead>\n",
       "    <tr style=\"text-align: right;\">\n",
       "      <th></th>\n",
       "      <th>Depth</th>\n",
       "      <th>Minor_Depth</th>\n",
       "      <th>Minor_AF</th>\n",
       "    </tr>\n",
       "    <tr>\n",
       "      <th>lineage</th>\n",
       "      <th></th>\n",
       "      <th></th>\n",
       "      <th></th>\n",
       "    </tr>\n",
       "  </thead>\n",
       "  <tbody>\n",
       "    <tr>\n",
       "      <th>4.2.2</th>\n",
       "      <td>389</td>\n",
       "      <td>92</td>\n",
       "      <td>0.236504</td>\n",
       "    </tr>\n",
       "    <tr>\n",
       "      <th>4.1.1.1</th>\n",
       "      <td>927</td>\n",
       "      <td>142</td>\n",
       "      <td>0.153182</td>\n",
       "    </tr>\n",
       "    <tr>\n",
       "      <th>2.2.1.2</th>\n",
       "      <td>753</td>\n",
       "      <td>51</td>\n",
       "      <td>0.067729</td>\n",
       "    </tr>\n",
       "    <tr>\n",
       "      <th>4.6.2.1</th>\n",
       "      <td>420</td>\n",
       "      <td>7</td>\n",
       "      <td>0.016667</td>\n",
       "    </tr>\n",
       "    <tr>\n",
       "      <th>6</th>\n",
       "      <td>211</td>\n",
       "      <td>3</td>\n",
       "      <td>0.014218</td>\n",
       "    </tr>\n",
       "    <tr>\n",
       "      <th>4.6.1</th>\n",
       "      <td>274</td>\n",
       "      <td>3</td>\n",
       "      <td>0.010949</td>\n",
       "    </tr>\n",
       "    <tr>\n",
       "      <th>4.4.1.2</th>\n",
       "      <td>274</td>\n",
       "      <td>3</td>\n",
       "      <td>0.010949</td>\n",
       "    </tr>\n",
       "    <tr>\n",
       "      <th>1.1.1.1</th>\n",
       "      <td>282</td>\n",
       "      <td>3</td>\n",
       "      <td>0.010638</td>\n",
       "    </tr>\n",
       "    <tr>\n",
       "      <th>4.4.1.1</th>\n",
       "      <td>291</td>\n",
       "      <td>3</td>\n",
       "      <td>0.010309</td>\n",
       "    </tr>\n",
       "    <tr>\n",
       "      <th>4.6.2.2</th>\n",
       "      <td>644</td>\n",
       "      <td>3</td>\n",
       "      <td>0.004658</td>\n",
       "    </tr>\n",
       "    <tr>\n",
       "      <th>4.1.2.1</th>\n",
       "      <td>261</td>\n",
       "      <td>1</td>\n",
       "      <td>0.003831</td>\n",
       "    </tr>\n",
       "    <tr>\n",
       "      <th>3.1.2.2</th>\n",
       "      <td>277</td>\n",
       "      <td>1</td>\n",
       "      <td>0.003610</td>\n",
       "    </tr>\n",
       "    <tr>\n",
       "      <th>BOV_AFRI</th>\n",
       "      <td>731</td>\n",
       "      <td>2</td>\n",
       "      <td>0.002736</td>\n",
       "    </tr>\n",
       "    <tr>\n",
       "      <th>7</th>\n",
       "      <td>464</td>\n",
       "      <td>1</td>\n",
       "      <td>0.002155</td>\n",
       "    </tr>\n",
       "    <tr>\n",
       "      <th>4.9</th>\n",
       "      <td>21302</td>\n",
       "      <td>36</td>\n",
       "      <td>0.001690</td>\n",
       "    </tr>\n",
       "    <tr>\n",
       "      <th>2.2.1</th>\n",
       "      <td>6134</td>\n",
       "      <td>9</td>\n",
       "      <td>0.001467</td>\n",
       "    </tr>\n",
       "    <tr>\n",
       "      <th>2</th>\n",
       "      <td>25295</td>\n",
       "      <td>37</td>\n",
       "      <td>0.001463</td>\n",
       "    </tr>\n",
       "    <tr>\n",
       "      <th>2.2</th>\n",
       "      <td>29071</td>\n",
       "      <td>41</td>\n",
       "      <td>0.001410</td>\n",
       "    </tr>\n",
       "    <tr>\n",
       "      <th>4</th>\n",
       "      <td>28328</td>\n",
       "      <td>39</td>\n",
       "      <td>0.001377</td>\n",
       "    </tr>\n",
       "    <tr>\n",
       "      <th>3</th>\n",
       "      <td>226</td>\n",
       "      <td>0</td>\n",
       "      <td>0.000000</td>\n",
       "    </tr>\n",
       "    <tr>\n",
       "      <th>2.2.2</th>\n",
       "      <td>309</td>\n",
       "      <td>0</td>\n",
       "      <td>0.000000</td>\n",
       "    </tr>\n",
       "    <tr>\n",
       "      <th>2.1</th>\n",
       "      <td>234</td>\n",
       "      <td>0</td>\n",
       "      <td>0.000000</td>\n",
       "    </tr>\n",
       "    <tr>\n",
       "      <th>BOV</th>\n",
       "      <td>275</td>\n",
       "      <td>0</td>\n",
       "      <td>0.000000</td>\n",
       "    </tr>\n",
       "  </tbody>\n",
       "</table>\n",
       "</div>"
      ],
      "text/plain": [
       "          Depth  Minor_Depth  Minor_AF\n",
       "lineage                               \n",
       "4.2.2       389           92  0.236504\n",
       "4.1.1.1     927          142  0.153182\n",
       "2.2.1.2     753           51  0.067729\n",
       "4.6.2.1     420            7  0.016667\n",
       "6           211            3  0.014218\n",
       "4.6.1       274            3  0.010949\n",
       "4.4.1.2     274            3  0.010949\n",
       "1.1.1.1     282            3  0.010638\n",
       "4.4.1.1     291            3  0.010309\n",
       "4.6.2.2     644            3  0.004658\n",
       "4.1.2.1     261            1  0.003831\n",
       "3.1.2.2     277            1  0.003610\n",
       "BOV_AFRI    731            2  0.002736\n",
       "7           464            1  0.002155\n",
       "4.9       21302           36  0.001690\n",
       "2.2.1      6134            9  0.001467\n",
       "2         25295           37  0.001463\n",
       "2.2       29071           41  0.001410\n",
       "4         28328           39  0.001377\n",
       "3           226            0  0.000000\n",
       "2.2.2       309            0  0.000000\n",
       "2.1         234            0  0.000000\n",
       "BOV         275            0  0.000000"
      ]
     },
     "execution_count": 219,
     "metadata": {},
     "output_type": "execute_result"
    }
   ],
   "source": [
    "lineage_df_sets.sort_values('Minor_AF', ascending=False)"
   ]
  },
  {
   "cell_type": "code",
   "execution_count": 207,
   "id": "768aff31-6797-4c6f-94d4-4d406568d84b",
   "metadata": {},
   "outputs": [
    {
     "data": {
      "text/html": [
       "<div>\n",
       "<style scoped>\n",
       "    .dataframe tbody tr th:only-of-type {\n",
       "        vertical-align: middle;\n",
       "    }\n",
       "\n",
       "    .dataframe tbody tr th {\n",
       "        vertical-align: top;\n",
       "    }\n",
       "\n",
       "    .dataframe thead th {\n",
       "        text-align: right;\n",
       "    }\n",
       "</style>\n",
       "<table border=\"1\" class=\"dataframe\">\n",
       "  <thead>\n",
       "    <tr style=\"text-align: right;\">\n",
       "      <th></th>\n",
       "      <th>File_Name</th>\n",
       "      <th>Coll2014</th>\n",
       "      <th>Freschi2020</th>\n",
       "      <th>Lipworth2019</th>\n",
       "      <th>Shitikov2017</th>\n",
       "      <th>Stucki2016</th>\n",
       "    </tr>\n",
       "  </thead>\n",
       "  <tbody>\n",
       "    <tr>\n",
       "      <th>0</th>\n",
       "      <td>SAMN12838345-freebayes</td>\n",
       "      <td>NA</td>\n",
       "      <td>NA</td>\n",
       "      <td>canetti,westafrican1,ethiopian,tur,mungi</td>\n",
       "      <td>NA</td>\n",
       "      <td>NA</td>\n",
       "    </tr>\n",
       "  </tbody>\n",
       "</table>\n",
       "</div>"
      ],
      "text/plain": [
       "                File_Name Coll2014 Freschi2020  \\\n",
       "0  SAMN12838345-freebayes       NA          NA   \n",
       "\n",
       "                               Lipworth2019 Shitikov2017 Stucki2016  \n",
       "0  canetti,westafrican1,ethiopian,tur,mungi           NA         NA  "
      ]
     },
     "execution_count": 207,
     "metadata": {},
     "output_type": "execute_result"
    }
   ],
   "source": [
    "pd.DataFrame(dict(zip(['File_Name', 'Coll2014', 'Freschi2020', 'Lipworth2019', 'Shitikov2017', 'Stucki2016'], output.split('\\t'))), index=[0])"
   ]
  },
  {
   "cell_type": "code",
   "execution_count": 208,
   "id": "783d8066-81a4-42d5-b23f-d18921cfd33e",
   "metadata": {},
   "outputs": [
    {
     "data": {
      "text/html": [
       "<div>\n",
       "<style scoped>\n",
       "    .dataframe tbody tr th:only-of-type {\n",
       "        vertical-align: middle;\n",
       "    }\n",
       "\n",
       "    .dataframe tbody tr th {\n",
       "        vertical-align: top;\n",
       "    }\n",
       "\n",
       "    .dataframe thead th {\n",
       "        text-align: right;\n",
       "    }\n",
       "</style>\n",
       "<table border=\"1\" class=\"dataframe\">\n",
       "  <thead>\n",
       "    <tr style=\"text-align: right;\">\n",
       "      <th></th>\n",
       "      <th>VCF_Dir</th>\n",
       "      <th>File_Name</th>\n",
       "      <th>Coll2014</th>\n",
       "      <th>Freschi2020</th>\n",
       "      <th>Sample_Name</th>\n",
       "      <th>Sample_ID</th>\n",
       "      <th>Lineage</th>\n",
       "    </tr>\n",
       "  </thead>\n",
       "  <tbody>\n",
       "    <tr>\n",
       "      <th>0</th>\n",
       "      <td>/n/data1/hms/dbmi/farhat/Sanjana/who-mutation-...</td>\n",
       "      <td>11050333-freebayes.vcf</td>\n",
       "      <td>2.2.1</td>\n",
       "      <td>2.2.1.1.1.i3</td>\n",
       "      <td>11050333</td>\n",
       "      <td>810488</td>\n",
       "      <td>2</td>\n",
       "    </tr>\n",
       "    <tr>\n",
       "      <th>1</th>\n",
       "      <td>/n/data1/hms/dbmi/farhat/Sanjana/who-mutation-...</td>\n",
       "      <td>SAMN21856363-freebayes.vcf</td>\n",
       "      <td>2.2.1</td>\n",
       "      <td>2.2.1.1.1.i3</td>\n",
       "      <td>SAMN21856363</td>\n",
       "      <td>34352</td>\n",
       "      <td>2</td>\n",
       "    </tr>\n",
       "    <tr>\n",
       "      <th>2</th>\n",
       "      <td>/n/data1/hms/dbmi/farhat/Sanjana/who-mutation-...</td>\n",
       "      <td>SAMEA1101763-freebayes.vcf</td>\n",
       "      <td>3</td>\n",
       "      <td>3.1.1</td>\n",
       "      <td>SAMEA1101763</td>\n",
       "      <td>57986</td>\n",
       "      <td>3</td>\n",
       "    </tr>\n",
       "    <tr>\n",
       "      <th>3</th>\n",
       "      <td>/n/data1/hms/dbmi/farhat/Sanjana/who-mutation-...</td>\n",
       "      <td>SAMEA1019058-freebayes.vcf</td>\n",
       "      <td>4.8</td>\n",
       "      <td>4.2.1.1.1.1.1.1.i1</td>\n",
       "      <td>SAMEA1019058</td>\n",
       "      <td>79833</td>\n",
       "      <td>4</td>\n",
       "    </tr>\n",
       "    <tr>\n",
       "      <th>4</th>\n",
       "      <td>/n/data1/hms/dbmi/farhat/Sanjana/who-mutation-...</td>\n",
       "      <td>SAMN08629568-freebayes.vcf</td>\n",
       "      <td>2.2.1</td>\n",
       "      <td>2.2.1.1.1</td>\n",
       "      <td>SAMN08629568</td>\n",
       "      <td>138326</td>\n",
       "      <td>2</td>\n",
       "    </tr>\n",
       "    <tr>\n",
       "      <th>...</th>\n",
       "      <td>...</td>\n",
       "      <td>...</td>\n",
       "      <td>...</td>\n",
       "      <td>...</td>\n",
       "      <td>...</td>\n",
       "      <td>...</td>\n",
       "      <td>...</td>\n",
       "    </tr>\n",
       "    <tr>\n",
       "      <th>52562</th>\n",
       "      <td>/n/data1/hms/dbmi/farhat/Sanjana/who-mutation-...</td>\n",
       "      <td>EUST16031-freebayes.vcf</td>\n",
       "      <td>4.1.2.1</td>\n",
       "      <td>4.1.i1.1.1.1</td>\n",
       "      <td>EUST16031</td>\n",
       "      <td>933863</td>\n",
       "      <td>4</td>\n",
       "    </tr>\n",
       "    <tr>\n",
       "      <th>52563</th>\n",
       "      <td>/n/data1/hms/dbmi/farhat/Sanjana/who-mutation-...</td>\n",
       "      <td>EUST07422-freebayes.vcf</td>\n",
       "      <td>2.2.1</td>\n",
       "      <td>2.2.1.1.1</td>\n",
       "      <td>EUST07422</td>\n",
       "      <td>933860</td>\n",
       "      <td>2</td>\n",
       "    </tr>\n",
       "    <tr>\n",
       "      <th>52564</th>\n",
       "      <td>/n/data1/hms/dbmi/farhat/Sanjana/who-mutation-...</td>\n",
       "      <td>EUST07438-freebayes.vcf</td>\n",
       "      <td>4.2.1</td>\n",
       "      <td>4.2.2.2.1</td>\n",
       "      <td>EUST07438</td>\n",
       "      <td>933861</td>\n",
       "      <td>4</td>\n",
       "    </tr>\n",
       "    <tr>\n",
       "      <th>52565</th>\n",
       "      <td>/n/data1/hms/dbmi/farhat/Sanjana/who-mutation-...</td>\n",
       "      <td>EUST07407-freebayes.vcf</td>\n",
       "      <td>2.2.1</td>\n",
       "      <td>2.2.1.1.1</td>\n",
       "      <td>EUST07407</td>\n",
       "      <td>933858</td>\n",
       "      <td>2</td>\n",
       "    </tr>\n",
       "    <tr>\n",
       "      <th>52566</th>\n",
       "      <td>/n/data1/hms/dbmi/farhat/Sanjana/who-mutation-...</td>\n",
       "      <td>EUST15989-freebayes.vcf</td>\n",
       "      <td>4.1.2</td>\n",
       "      <td>4.1.i1.1.1.2</td>\n",
       "      <td>EUST15989</td>\n",
       "      <td>933872</td>\n",
       "      <td>4</td>\n",
       "    </tr>\n",
       "  </tbody>\n",
       "</table>\n",
       "<p>52567 rows × 7 columns</p>\n",
       "</div>"
      ],
      "text/plain": [
       "                                                 VCF_Dir  \\\n",
       "0      /n/data1/hms/dbmi/farhat/Sanjana/who-mutation-...   \n",
       "1      /n/data1/hms/dbmi/farhat/Sanjana/who-mutation-...   \n",
       "2      /n/data1/hms/dbmi/farhat/Sanjana/who-mutation-...   \n",
       "3      /n/data1/hms/dbmi/farhat/Sanjana/who-mutation-...   \n",
       "4      /n/data1/hms/dbmi/farhat/Sanjana/who-mutation-...   \n",
       "...                                                  ...   \n",
       "52562  /n/data1/hms/dbmi/farhat/Sanjana/who-mutation-...   \n",
       "52563  /n/data1/hms/dbmi/farhat/Sanjana/who-mutation-...   \n",
       "52564  /n/data1/hms/dbmi/farhat/Sanjana/who-mutation-...   \n",
       "52565  /n/data1/hms/dbmi/farhat/Sanjana/who-mutation-...   \n",
       "52566  /n/data1/hms/dbmi/farhat/Sanjana/who-mutation-...   \n",
       "\n",
       "                        File_Name Coll2014         Freschi2020   Sample_Name  \\\n",
       "0          11050333-freebayes.vcf    2.2.1        2.2.1.1.1.i3      11050333   \n",
       "1      SAMN21856363-freebayes.vcf    2.2.1        2.2.1.1.1.i3  SAMN21856363   \n",
       "2      SAMEA1101763-freebayes.vcf        3               3.1.1  SAMEA1101763   \n",
       "3      SAMEA1019058-freebayes.vcf      4.8  4.2.1.1.1.1.1.1.i1  SAMEA1019058   \n",
       "4      SAMN08629568-freebayes.vcf    2.2.1           2.2.1.1.1  SAMN08629568   \n",
       "...                           ...      ...                 ...           ...   \n",
       "52562     EUST16031-freebayes.vcf  4.1.2.1        4.1.i1.1.1.1     EUST16031   \n",
       "52563     EUST07422-freebayes.vcf    2.2.1           2.2.1.1.1     EUST07422   \n",
       "52564     EUST07438-freebayes.vcf    4.2.1           4.2.2.2.1     EUST07438   \n",
       "52565     EUST07407-freebayes.vcf    2.2.1           2.2.1.1.1     EUST07407   \n",
       "52566     EUST15989-freebayes.vcf    4.1.2        4.1.i1.1.1.2     EUST15989   \n",
       "\n",
       "       Sample_ID Lineage  \n",
       "0         810488       2  \n",
       "1          34352       2  \n",
       "2          57986       3  \n",
       "3          79833       4  \n",
       "4         138326       2  \n",
       "...          ...     ...  \n",
       "52562     933863       4  \n",
       "52563     933860       2  \n",
       "52564     933861       4  \n",
       "52565     933858       2  \n",
       "52566     933872       4  \n",
       "\n",
       "[52567 rows x 7 columns]"
      ]
     },
     "execution_count": 208,
     "metadata": {},
     "output_type": "execute_result"
    }
   ],
   "source": [
    "lineages"
   ]
  },
  {
   "cell_type": "code",
   "execution_count": 11,
   "id": "140e4aff-dcef-4db7-a22a-7129b58086c5",
   "metadata": {},
   "outputs": [
    {
     "data": {
      "text/html": [
       "<div>\n",
       "<style scoped>\n",
       "    .dataframe tbody tr th:only-of-type {\n",
       "        vertical-align: middle;\n",
       "    }\n",
       "\n",
       "    .dataframe tbody tr th {\n",
       "        vertical-align: top;\n",
       "    }\n",
       "\n",
       "    .dataframe thead th {\n",
       "        text-align: right;\n",
       "    }\n",
       "</style>\n",
       "<table border=\"1\" class=\"dataframe\">\n",
       "  <thead>\n",
       "    <tr style=\"text-align: right;\">\n",
       "      <th></th>\n",
       "      <th>VCF_Dir</th>\n",
       "      <th>File_Name</th>\n",
       "      <th>Coll2014</th>\n",
       "      <th>Freschi2020</th>\n",
       "      <th>Sample_Name</th>\n",
       "      <th>Sample_ID</th>\n",
       "      <th>Lineage</th>\n",
       "    </tr>\n",
       "  </thead>\n",
       "  <tbody>\n",
       "    <tr>\n",
       "      <th>9383</th>\n",
       "      <td>/n/data1/hms/dbmi/farhat/Sanjana/who-mutation-...</td>\n",
       "      <td>SAMN12838345-freebayes.vcf</td>\n",
       "      <td>NaN</td>\n",
       "      <td>NaN</td>\n",
       "      <td>SAMN12838345</td>\n",
       "      <td>119967</td>\n",
       "      <td>canetti,westafrican1,ethiopian,tur,mungi</td>\n",
       "    </tr>\n",
       "    <tr>\n",
       "      <th>9578</th>\n",
       "      <td>/n/data1/hms/dbmi/farhat/Sanjana/who-mutation-...</td>\n",
       "      <td>SPE_6B1800_D77B96EAA535-freebayes.vcf</td>\n",
       "      <td>NaN</td>\n",
       "      <td>NaN</td>\n",
       "      <td>SPE_6B1800_D77B96EAA535</td>\n",
       "      <td>166814</td>\n",
       "      <td>canetti,westafrican1,ethiopian,tur,mungi</td>\n",
       "    </tr>\n",
       "    <tr>\n",
       "      <th>15495</th>\n",
       "      <td>/n/data1/hms/dbmi/farhat/Sanjana/who-mutation-...</td>\n",
       "      <td>24_PT-674_2019-030_1-freebayes.vcf</td>\n",
       "      <td>NaN</td>\n",
       "      <td>NaN</td>\n",
       "      <td>24_PT-674_2019-030_1</td>\n",
       "      <td>171503</td>\n",
       "      <td>canetti,westafrican1,ethiopian,stype,tur,mungi</td>\n",
       "    </tr>\n",
       "    <tr>\n",
       "      <th>21145</th>\n",
       "      <td>/n/data1/hms/dbmi/farhat/Sanjana/who-mutation-...</td>\n",
       "      <td>SAMN07344637-freebayes.vcf</td>\n",
       "      <td>NaN</td>\n",
       "      <td>NaN</td>\n",
       "      <td>SAMN07344637</td>\n",
       "      <td>142816</td>\n",
       "      <td>canetti,westafrican1,ethiopian,tur,mungi</td>\n",
       "    </tr>\n",
       "    <tr>\n",
       "      <th>24374</th>\n",
       "      <td>/n/data1/hms/dbmi/farhat/Sanjana/who-mutation-...</td>\n",
       "      <td>24_PT-669_2018-579_1-freebayes.vcf</td>\n",
       "      <td>NaN</td>\n",
       "      <td>NaN</td>\n",
       "      <td>24_PT-669_2018-579_1</td>\n",
       "      <td>171499</td>\n",
       "      <td>canetti,westafrican1,ethiopian,tur,mungi</td>\n",
       "    </tr>\n",
       "    <tr>\n",
       "      <th>24441</th>\n",
       "      <td>/n/data1/hms/dbmi/farhat/Sanjana/who-mutation-...</td>\n",
       "      <td>SAMN12838344-freebayes.vcf</td>\n",
       "      <td>NaN</td>\n",
       "      <td>NaN</td>\n",
       "      <td>SAMN12838344</td>\n",
       "      <td>119968</td>\n",
       "      <td>canetti,westafrican1,ethiopian,tur,mungi</td>\n",
       "    </tr>\n",
       "    <tr>\n",
       "      <th>32720</th>\n",
       "      <td>/n/data1/hms/dbmi/farhat/Sanjana/who-mutation-...</td>\n",
       "      <td>SAMN07344639-freebayes.vcf</td>\n",
       "      <td>NaN</td>\n",
       "      <td>NaN</td>\n",
       "      <td>SAMN07344639</td>\n",
       "      <td>142814</td>\n",
       "      <td>canetti,westafrican1,ethiopian,tur,mungi</td>\n",
       "    </tr>\n",
       "    <tr>\n",
       "      <th>49050</th>\n",
       "      <td>/n/data1/hms/dbmi/farhat/Sanjana/who-mutation-...</td>\n",
       "      <td>SAMN08437197-freebayes.vcf</td>\n",
       "      <td>NaN</td>\n",
       "      <td>NaN</td>\n",
       "      <td>SAMN08437197</td>\n",
       "      <td>96124</td>\n",
       "      <td>canetti,westafrican1,ethiopian,tur,mungi</td>\n",
       "    </tr>\n",
       "  </tbody>\n",
       "</table>\n",
       "</div>"
      ],
      "text/plain": [
       "                                                 VCF_Dir  \\\n",
       "9383   /n/data1/hms/dbmi/farhat/Sanjana/who-mutation-...   \n",
       "9578   /n/data1/hms/dbmi/farhat/Sanjana/who-mutation-...   \n",
       "15495  /n/data1/hms/dbmi/farhat/Sanjana/who-mutation-...   \n",
       "21145  /n/data1/hms/dbmi/farhat/Sanjana/who-mutation-...   \n",
       "24374  /n/data1/hms/dbmi/farhat/Sanjana/who-mutation-...   \n",
       "24441  /n/data1/hms/dbmi/farhat/Sanjana/who-mutation-...   \n",
       "32720  /n/data1/hms/dbmi/farhat/Sanjana/who-mutation-...   \n",
       "49050  /n/data1/hms/dbmi/farhat/Sanjana/who-mutation-...   \n",
       "\n",
       "                                   File_Name Coll2014 Freschi2020  \\\n",
       "9383              SAMN12838345-freebayes.vcf      NaN         NaN   \n",
       "9578   SPE_6B1800_D77B96EAA535-freebayes.vcf      NaN         NaN   \n",
       "15495     24_PT-674_2019-030_1-freebayes.vcf      NaN         NaN   \n",
       "21145             SAMN07344637-freebayes.vcf      NaN         NaN   \n",
       "24374     24_PT-669_2018-579_1-freebayes.vcf      NaN         NaN   \n",
       "24441             SAMN12838344-freebayes.vcf      NaN         NaN   \n",
       "32720             SAMN07344639-freebayes.vcf      NaN         NaN   \n",
       "49050             SAMN08437197-freebayes.vcf      NaN         NaN   \n",
       "\n",
       "                   Sample_Name  Sample_ID  \\\n",
       "9383              SAMN12838345     119967   \n",
       "9578   SPE_6B1800_D77B96EAA535     166814   \n",
       "15495     24_PT-674_2019-030_1     171503   \n",
       "21145             SAMN07344637     142816   \n",
       "24374     24_PT-669_2018-579_1     171499   \n",
       "24441             SAMN12838344     119968   \n",
       "32720             SAMN07344639     142814   \n",
       "49050             SAMN08437197      96124   \n",
       "\n",
       "                                              Lineage  \n",
       "9383         canetti,westafrican1,ethiopian,tur,mungi  \n",
       "9578         canetti,westafrican1,ethiopian,tur,mungi  \n",
       "15495  canetti,westafrican1,ethiopian,stype,tur,mungi  \n",
       "21145        canetti,westafrican1,ethiopian,tur,mungi  \n",
       "24374        canetti,westafrican1,ethiopian,tur,mungi  \n",
       "24441        canetti,westafrican1,ethiopian,tur,mungi  \n",
       "32720        canetti,westafrican1,ethiopian,tur,mungi  \n",
       "49050        canetti,westafrican1,ethiopian,tur,mungi  "
      ]
     },
     "execution_count": 11,
     "metadata": {},
     "output_type": "execute_result"
    }
   ],
   "source": [
    "lineages.loc[pd.isnull(lineages['Coll2014'])]"
   ]
  },
  {
   "cell_type": "code",
   "execution_count": 127,
   "id": "23054ebd-8c1e-4be7-8ed3-13eb5e35b9d2",
   "metadata": {},
   "outputs": [
    {
     "data": {
      "text/plain": [
       "0.3469656992084433"
      ]
     },
     "execution_count": 127,
     "metadata": {},
     "output_type": "execute_result"
    }
   ],
   "source": [
    "lineage_df.Minor_Depth.sum() / lineage_df.Depth.sum()"
   ]
  },
  {
   "cell_type": "code",
   "execution_count": 117,
   "id": "65841fd4-8f39-4521-86d2-300e709e9559",
   "metadata": {},
   "outputs": [
    {
     "data": {
      "text/plain": [
       "0.0008176614881439084"
      ]
     },
     "execution_count": 117,
     "metadata": {},
     "output_type": "execute_result"
    }
   ],
   "source": [
    "lineage_df.Minor_Depth.sum() / lineage_df.Depth.sum()"
   ]
  },
  {
   "cell_type": "code",
   "execution_count": 111,
   "id": "c8bb1d1c-e4be-43d2-a743-92f99880ae24",
   "metadata": {},
   "outputs": [
    {
     "data": {
      "text/plain": [
       "0.3475682087781732"
      ]
     },
     "execution_count": 111,
     "metadata": {},
     "output_type": "execute_result"
    }
   ],
   "source": [
    "lineage_df.Minor_Depth.sum() / lineage_df.Depth.sum()"
   ]
  },
  {
   "cell_type": "code",
   "execution_count": null,
   "id": "f9d6afd0-35a3-470d-8214-ac0bb9c8a944",
   "metadata": {},
   "outputs": [],
   "source": []
  },
  {
   "cell_type": "code",
   "execution_count": null,
   "id": "456fc0e1-aae4-42cb-8129-7a7a1307b481",
   "metadata": {},
   "outputs": [],
   "source": []
  },
  {
   "cell_type": "code",
   "execution_count": null,
   "id": "eee9ab23-f14a-45a0-bdb0-0237a3bbb7c9",
   "metadata": {},
   "outputs": [],
   "source": []
  },
  {
   "cell_type": "code",
   "execution_count": 88,
   "id": "2ffd0af2-8fab-49d4-9a43-4059062b4fdd",
   "metadata": {},
   "outputs": [
    {
     "data": {
      "text/plain": [
       "(0.0, [0.0])"
      ]
     },
     "execution_count": 88,
     "metadata": {},
     "output_type": "execute_result"
    }
   ],
   "source": [
    "record.INFO['PRO'], record.INFO['PAO']"
   ]
  },
  {
   "cell_type": "code",
   "execution_count": 83,
   "id": "2f43e05c-76ab-4642-95d9-b3693d911343",
   "metadata": {},
   "outputs": [
    {
     "data": {
      "text/plain": [
       "False"
      ]
     },
     "execution_count": 83,
     "metadata": {},
     "output_type": "execute_result"
    }
   ],
   "source": [
    "record.INFO['RO'] + record.INFO['AO'][0] == record.INFO['DP']"
   ]
  },
  {
   "cell_type": "code",
   "execution_count": 87,
   "id": "7c236e87-a344-4e47-8f9a-d30ce1f07f15",
   "metadata": {},
   "outputs": [
    {
     "data": {
      "text/plain": [
       "(38, [67], 106)"
      ]
     },
     "execution_count": 87,
     "metadata": {},
     "output_type": "execute_result"
    }
   ],
   "source": [
    "record.INFO['RO'], record.INFO['AO'], record.INFO['DP']"
   ]
  },
  {
   "cell_type": "code",
   "execution_count": 73,
   "id": "0b0ddb6f-dc89-4d60-ab01-f11ab222091d",
   "metadata": {},
   "outputs": [
    {
     "data": {
      "text/html": [
       "<div>\n",
       "<style scoped>\n",
       "    .dataframe tbody tr th:only-of-type {\n",
       "        vertical-align: middle;\n",
       "    }\n",
       "\n",
       "    .dataframe tbody tr th {\n",
       "        vertical-align: top;\n",
       "    }\n",
       "\n",
       "    .dataframe thead th {\n",
       "        text-align: right;\n",
       "    }\n",
       "</style>\n",
       "<table border=\"1\" class=\"dataframe\">\n",
       "  <thead>\n",
       "    <tr style=\"text-align: right;\">\n",
       "      <th></th>\n",
       "      <th>Lineage</th>\n",
       "      <th>position</th>\n",
       "      <th>allele_change</th>\n",
       "      <th>tag</th>\n",
       "      <th>nucleotide</th>\n",
       "    </tr>\n",
       "  </thead>\n",
       "  <tbody>\n",
       "    <tr>\n",
       "      <th>8</th>\n",
       "      <td>2</td>\n",
       "      <td>497491</td>\n",
       "      <td>G/A</td>\n",
       "      <td>coll2014</td>\n",
       "      <td>A</td>\n",
       "    </tr>\n",
       "    <tr>\n",
       "      <th>10</th>\n",
       "      <td>2.2</td>\n",
       "      <td>2505085</td>\n",
       "      <td>G/A</td>\n",
       "      <td>coll2014</td>\n",
       "      <td>A</td>\n",
       "    </tr>\n",
       "    <tr>\n",
       "      <th>14</th>\n",
       "      <td>2.2.2</td>\n",
       "      <td>346693</td>\n",
       "      <td>G/T</td>\n",
       "      <td>coll2014</td>\n",
       "      <td>T</td>\n",
       "    </tr>\n",
       "    <tr>\n",
       "      <th>20</th>\n",
       "      <td>4**</td>\n",
       "      <td>931123</td>\n",
       "      <td>T/C</td>\n",
       "      <td>coll2014</td>\n",
       "      <td>C</td>\n",
       "    </tr>\n",
       "    <tr>\n",
       "      <th>32</th>\n",
       "      <td>4.3</td>\n",
       "      <td>764995</td>\n",
       "      <td>C/G</td>\n",
       "      <td>coll2014</td>\n",
       "      <td>G</td>\n",
       "    </tr>\n",
       "    <tr>\n",
       "      <th>34</th>\n",
       "      <td>4.3.2</td>\n",
       "      <td>4316114</td>\n",
       "      <td>G/A</td>\n",
       "      <td>coll2014</td>\n",
       "      <td>A</td>\n",
       "    </tr>\n",
       "    <tr>\n",
       "      <th>35</th>\n",
       "      <td>4.3.2.1</td>\n",
       "      <td>3388166</td>\n",
       "      <td>C/G</td>\n",
       "      <td>coll2014</td>\n",
       "      <td>G</td>\n",
       "    </tr>\n",
       "    <tr>\n",
       "      <th>56</th>\n",
       "      <td>4.9**</td>\n",
       "      <td>1759252</td>\n",
       "      <td>G/T</td>\n",
       "      <td>coll2014</td>\n",
       "      <td>T</td>\n",
       "    </tr>\n",
       "  </tbody>\n",
       "</table>\n",
       "</div>"
      ],
      "text/plain": [
       "    Lineage  position allele_change       tag nucleotide\n",
       "8         2    497491           G/A  coll2014          A\n",
       "10      2.2   2505085           G/A  coll2014          A\n",
       "14    2.2.2    346693           G/T  coll2014          T\n",
       "20      4**    931123           T/C  coll2014          C\n",
       "32      4.3    764995           C/G  coll2014          G\n",
       "34    4.3.2   4316114           G/A  coll2014          A\n",
       "35  4.3.2.1   3388166           C/G  coll2014          G\n",
       "56    4.9**   1759252           G/T  coll2014          T"
      ]
     },
     "execution_count": 73,
     "metadata": {},
     "output_type": "execute_result"
    }
   ],
   "source": [
    "coll2014.query(\"position in @found_pos\")"
   ]
  },
  {
   "cell_type": "code",
   "execution_count": null,
   "id": "1e56cb36-e8de-4d54-894a-48b2c9407a2a",
   "metadata": {},
   "outputs": [],
   "source": [
    "bcftools filter -i \"POS == 346693 | POS == 3388166\""
   ]
  },
  {
   "cell_type": "code",
   "execution_count": 57,
   "id": "d3760e64-c3ce-465c-8ab7-340547df4069",
   "metadata": {},
   "outputs": [
    {
     "ename": "AttributeError",
     "evalue": "'CallData' object has no attribute 'GQ'",
     "output_type": "error",
     "traceback": [
      "\u001b[0;31m---------------------------------------------------------------------------\u001b[0m",
      "\u001b[0;31mAttributeError\u001b[0m                            Traceback (most recent call last)",
      "Cell \u001b[0;32mIn[57], line 8\u001b[0m\n\u001b[1;32m      3\u001b[0m \u001b[38;5;28;01mfor\u001b[39;00m record \u001b[38;5;129;01min\u001b[39;00m vcf_reader:\n\u001b[1;32m      4\u001b[0m \n\u001b[1;32m      5\u001b[0m     \u001b[38;5;66;03m#print(record.REF, record.ALT, record.INFO['MQM'], record.QUAL, record.INFO['QA'], record.INFO['DP'], record.INFO['AN'], record.INFO['AC'])\u001b[39;00m\n\u001b[1;32m      6\u001b[0m     \u001b[38;5;66;03m# print(record)\u001b[39;00m\n\u001b[1;32m      7\u001b[0m     \u001b[38;5;28;01mfor\u001b[39;00m call \u001b[38;5;129;01min\u001b[39;00m record\u001b[38;5;241m.\u001b[39msamples:\n\u001b[0;32m----> 8\u001b[0m         \u001b[38;5;28mprint\u001b[39m(\u001b[43mcall\u001b[49m\u001b[43m[\u001b[49m\u001b[38;5;124;43m'\u001b[39;49m\u001b[38;5;124;43mGQ\u001b[39;49m\u001b[38;5;124;43m'\u001b[39;49m\u001b[43m]\u001b[49m)\n\u001b[1;32m      9\u001b[0m         \u001b[38;5;28;01mbreak\u001b[39;00m\n",
      "File \u001b[0;32m~/anaconda3/lib/python3.9/site-packages/vcf/model.py:104\u001b[0m, in \u001b[0;36m_Call.__getitem__\u001b[0;34m(self, key)\u001b[0m\n\u001b[1;32m    102\u001b[0m \u001b[38;5;28;01mdef\u001b[39;00m \u001b[38;5;21m__getitem__\u001b[39m(\u001b[38;5;28mself\u001b[39m, key):\n\u001b[1;32m    103\u001b[0m \u001b[38;5;250m    \u001b[39m\u001b[38;5;124;03m\"\"\" Lookup value, backwards compatibility \"\"\"\u001b[39;00m\n\u001b[0;32m--> 104\u001b[0m     \u001b[38;5;28;01mreturn\u001b[39;00m \u001b[38;5;28;43mgetattr\u001b[39;49m\u001b[43m(\u001b[49m\u001b[38;5;28;43mself\u001b[39;49m\u001b[38;5;241;43m.\u001b[39;49m\u001b[43mdata\u001b[49m\u001b[43m,\u001b[49m\u001b[43m \u001b[49m\u001b[43mkey\u001b[49m\u001b[43m)\u001b[49m\n",
      "\u001b[0;31mAttributeError\u001b[0m: 'CallData' object has no attribute 'GQ'"
     ]
    }
   ],
   "source": [
    "vcf_reader = vcf.Reader(filename='/n/scratch/users/s/sak0914/WHO_catalogue_data/VCF/11050333/11050333-freebayes.vcf')\n",
    "\n",
    "for record in vcf_reader:\n",
    "\n",
    "    #print(record.REF, record.ALT, record.INFO['MQM'], record.QUAL, record.INFO['QA'], record.INFO['DP'], record.INFO['AN'], record.INFO['AC'])\n",
    "    # print(record)\n",
    "    for call in record.samples:\n",
    "        print(call['GQ'])\n",
    "        break"
   ]
  },
  {
   "cell_type": "code",
   "execution_count": 58,
   "id": "6aedb604-f192-47b6-8eae-1e27195e684e",
   "metadata": {},
   "outputs": [
    {
     "data": {
      "text/plain": [
       "Call(sample=11050333, CallData(GT=1/1, DP=171, AD=[0, 171], RO=0, QR=0, AO=171, QA=5812, GL=[-523.195, -51.4761, 0.0]))"
      ]
     },
     "execution_count": 58,
     "metadata": {},
     "output_type": "execute_result"
    }
   ],
   "source": [
    "call"
   ]
  },
  {
   "cell_type": "code",
   "execution_count": 61,
   "id": "bf3e0535-0f3d-4171-b124-f1f1526deee9",
   "metadata": {},
   "outputs": [
    {
     "data": {
      "text/plain": [
       "<generator object <genexpr> at 0x7f8b90613510>"
      ]
     },
     "execution_count": 61,
     "metadata": {},
     "output_type": "execute_result"
    }
   ],
   "source": [
    "gq = np.min(-10 * np.log(likelihood) for likelihood in call['GL'])\n",
    "gq"
   ]
  },
  {
   "cell_type": "code",
   "execution_count": 63,
   "id": "dc20d990-af41-425a-bb83-7734b04f5f54",
   "metadata": {},
   "outputs": [
    {
     "data": {
      "text/plain": [
       "nan"
      ]
     },
     "execution_count": 63,
     "metadata": {},
     "output_type": "execute_result"
    }
   ],
   "source": [
    "np.min([-10 * np.log(likelihood) for likelihood in call['GL']])"
   ]
  },
  {
   "cell_type": "code",
   "execution_count": null,
   "id": "aa32c861-0475-4341-a093-fc9bbbb0d136",
   "metadata": {},
   "outputs": [],
   "source": []
  },
  {
   "cell_type": "code",
   "execution_count": null,
   "id": "533a3599-e45e-4a6d-bcdf-d5ca70d591c6",
   "metadata": {},
   "outputs": [],
   "source": []
  },
  {
   "cell_type": "code",
   "execution_count": 46,
   "id": "d7ec317e-9d25-419c-bfa6-a5ddbc3ac72d",
   "metadata": {},
   "outputs": [
    {
     "data": {
      "text/plain": [
       "'GT:DP:AD:RO:QR:AO:QA:GL'"
      ]
     },
     "execution_count": 46,
     "metadata": {},
     "output_type": "execute_result"
    }
   ],
   "source": [
    "record.FORMAT"
   ]
  },
  {
   "cell_type": "code",
   "execution_count": 49,
   "id": "e44b02fa-58f3-4752-8d90-3461d480b862",
   "metadata": {},
   "outputs": [
    {
     "data": {
      "text/plain": [
       "'GT:DP:AD:RO:QR:AO:QA:GL'"
      ]
     },
     "execution_count": 49,
     "metadata": {},
     "output_type": "execute_result"
    }
   ],
   "source": [
    "record.FORMAT"
   ]
  },
  {
   "cell_type": "code",
   "execution_count": 45,
   "id": "05613767-4bb0-4e8a-b018-b58dc57100c3",
   "metadata": {},
   "outputs": [],
   "source": [
    "record.ID"
   ]
  },
  {
   "cell_type": "code",
   "execution_count": null,
   "id": "9bdb9b03-5ffa-4fd1-b4a0-4ed7535fd66b",
   "metadata": {},
   "outputs": [],
   "source": [
    "\t\t\t\tBQ = record.INFO['BQ']\n",
    "\n",
    "\t\t\t\t# Mean Mapping Quality @ locus\n",
    "\t\t\t\tMQ = record.INFO['MQM']\n",
    "\n",
    "\t\t\t\t# Number of Reads w/ Deletion \n",
    "\t\t\t\tDC = record.INFO['DC']\n",
    "\n",
    "\t\t\t\t# Number of Reads w/ Insertion\n",
    "\t\t\t\tIC = record.INFO['IC']  \n",
    "\t\t\t\t\n",
    "\t\t\t\t# Depth of Valid Reads in Pileup\n",
    "\t\t\t\tVD = record.INFO['DP']"
   ]
  },
  {
   "cell_type": "code",
   "execution_count": null,
   "id": "6737cfd4-eb6c-42c7-919d-64d627d3337f",
   "metadata": {},
   "outputs": [],
   "source": [
    "FORMAT=<ID=GQ"
   ]
  },
  {
   "cell_type": "code",
   "execution_count": 39,
   "id": "c616311e-50de-471f-8cca-a9cbb6f414eb",
   "metadata": {},
   "outputs": [],
   "source": [
    "descriptions = []\n",
    "\n",
    "with open('/n/scratch/users/s/sak0914/WHO_catalogue_data/VCF/11050333/11050333-freebayes.vcf', \"r\") as file:\n",
    "    for line in file.readlines():\n",
    "        if line[0] == '#':\n",
    "            descriptions.append(line)"
   ]
  },
  {
   "cell_type": "code",
   "execution_count": 41,
   "id": "41c365a3-e282-4bd8-9fd7-ccbe586f1b49",
   "metadata": {},
   "outputs": [
    {
     "name": "stdout",
     "output_type": "stream",
     "text": [
      "##INFO=<ID=QR,Number=1,Type=Integer,Description=\"Reference allele quality sum in phred\">\n",
      "\n",
      "##INFO=<ID=QA,Number=A,Type=Integer,Description=\"Alternate allele quality sum in phred\">\n",
      "\n",
      "##INFO=<ID=PQR,Number=1,Type=Float,Description=\"Reference allele quality sum in phred for partial observations\">\n",
      "\n",
      "##INFO=<ID=PQA,Number=A,Type=Float,Description=\"Alternate allele quality sum in phred for partial observations\">\n",
      "\n",
      "##INFO=<ID=SRP,Number=1,Type=Float,Description=\"Strand balance probability for the reference allele: Phred-scaled upper-bounds estimate of the probability of observing the deviation between SRF and SRR given E(SRF/SRR) ~ 0.5, derived using Hoeffding's inequality\">\n",
      "\n",
      "##INFO=<ID=SAP,Number=A,Type=Float,Description=\"Strand balance probability for the alternate allele: Phred-scaled upper-bounds estimate of the probability of observing the deviation between SAF and SAR given E(SAF/SAR) ~ 0.5, derived using Hoeffding's inequality\">\n",
      "\n",
      "##INFO=<ID=ABP,Number=A,Type=Float,Description=\"Allele balance probability at heterozygous sites: Phred-scaled upper-bounds estimate of the probability of observing the deviation between ABR and ABA given E(ABR/ABA) ~ 0.5, derived using Hoeffding's inequality\">\n",
      "\n",
      "##INFO=<ID=RPP,Number=A,Type=Float,Description=\"Read Placement Probability: Phred-scaled upper-bounds estimate of the probability of observing the deviation between RPL and RPR given E(RPL/RPR) ~ 0.5, derived using Hoeffding's inequality\">\n",
      "\n",
      "##INFO=<ID=RPPR,Number=1,Type=Float,Description=\"Read Placement Probability for reference observations: Phred-scaled upper-bounds estimate of the probability of observing the deviation between RPL and RPR given E(RPL/RPR) ~ 0.5, derived using Hoeffding's inequality\">\n",
      "\n",
      "##INFO=<ID=EPP,Number=A,Type=Float,Description=\"End Placement Probability: Phred-scaled upper-bounds estimate of the probability of observing the deviation between EL and ER given E(EL/ER) ~ 0.5, derived using Hoeffding's inequality\">\n",
      "\n",
      "##INFO=<ID=EPPR,Number=1,Type=Float,Description=\"End Placement Probability for reference observations: Phred-scaled upper-bounds estimate of the probability of observing the deviation between EL and ER given E(EL/ER) ~ 0.5, derived using Hoeffding's inequality\">\n",
      "\n",
      "##FORMAT=<ID=GQ,Number=1,Type=Float,Description=\"Genotype Quality, the Phred-scaled marginal (or unconditional) probability of the called genotype\">\n",
      "\n"
     ]
    }
   ],
   "source": [
    "for string in descriptions:\n",
    "    if 'phred' in string.lower():\n",
    "        print(string)"
   ]
  },
  {
   "cell_type": "code",
   "execution_count": null,
   "id": "027e60f4-5c29-431b-b895-36b6ef6ad9b2",
   "metadata": {},
   "outputs": [],
   "source": []
  }
 ],
 "metadata": {
  "kernelspec": {
   "display_name": "Python 3 (ipykernel)",
   "language": "python",
   "name": "python3"
  },
  "language_info": {
   "codemirror_mode": {
    "name": "ipython",
    "version": 3
   },
   "file_extension": ".py",
   "mimetype": "text/x-python",
   "name": "python",
   "nbconvert_exporter": "python",
   "pygments_lexer": "ipython3",
   "version": "3.9.18"
  }
 },
 "nbformat": 4,
 "nbformat_minor": 5
}
