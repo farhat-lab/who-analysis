{
 "cells": [
  {
   "cell_type": "code",
   "execution_count": 1,
   "id": "a4647438-032f-45bc-acab-e16b6955dbc6",
   "metadata": {},
   "outputs": [],
   "source": [
    "import numpy as np\n",
    "import pandas as pd\n",
    "import matplotlib.pyplot as plt\n",
    "plt.rcParams['figure.dpi'] = 125\n",
    "import seaborn as sns\n",
    "from Bio import SeqIO, Seq\n",
    "import scipy.stats as st\n",
    "import timeit\n",
    "\n",
    "import glob, os, yaml, subprocess, itertools, sparse, vcf\n",
    "from sklearn.preprocessing import StandardScaler\n",
    "from sklearn.linear_model import LogisticRegression, LogisticRegressionCV\n",
    "from statsmodels.distributions.empirical_distribution import ECDF\n",
    "\n",
    "who_variants = pd.read_csv(\"/n/data1/hms/dbmi/farhat/Sanjana/MIC_data/WHO_resistance_variants_all.csv\")\n",
    "pd.set_option('display.float_format', lambda x: '%.4f' % x)"
   ]
  },
  {
   "cell_type": "code",
   "execution_count": 108,
   "id": "9daf0d89-bc7e-4576-b62e-bcc3282d7f11",
   "metadata": {},
   "outputs": [],
   "source": [
    "def compare_models_population_structure_correction(res_df, res_df_noPopCorr, plot=False, alpha=0.05, diff_thresh=0, return_diff=False):\n",
    "    '''\n",
    "    Comparison to determine if population structure determination is necessary. Things to compare:\n",
    "    \n",
    "    1. Do all the same variants have non-zero coefficients (the returned dataframes are only non-zero coefficients)?\n",
    "    2. Compute Pearson correlation between coefficients.\n",
    "    3. Do features have p-values that are on the same side of the threshold (0.05 or 0.01)?\n",
    "    '''\n",
    "    \n",
    "    # merge outer to include anything (in case some features have 0 or non-zero coefficients, depending on whether PCs are included)\n",
    "    plot_df = res_df[[\"orig_variant\", \"coef\", \"pval\", \"coef_LB\", \"coef_UB\"]].merge(res_df_noPopCorr[[\"orig_variant\", \"coef\", \"pval\", \"coef_LB\", \"coef_UB\"]], how=\"outer\", on=\"orig_variant\")    \n",
    "    \n",
    "    # then drop the principal components\n",
    "    plot_df = plot_df.loc[~plot_df[\"orig_variant\"].str.contains(\"PC\")]\n",
    "    \n",
    "    # plot_df_missing = plot_df.loc[(pd.isnull(plot_df[\"coef_x\"])) | (pd.isnull(plot_df[\"coef_y\"]))]\n",
    "    # print(f\"{len(plot_df_missing)} coefficients are zero in one model and non-zero in the other\")\n",
    "    plot_df_nominal_sig = plot_df.query(\"pval_x < @alpha & pval_y < @alpha\")\n",
    "    print(len(plot_df_nominal_sig.query(\"(coef_x < 0 & coef_y > 0) | (coef_x > 0 & coef_y < 0)\")), \"nominally significant features have conflicting coefficients\")\n",
    "    \n",
    "    # NaNs are 0 coefficients, fill them in for plotting and correlation computations\n",
    "    plot_df[[\"coef_x\", \"coef_y\"]] = plot_df[[\"coef_x\", \"coef_y\"]].fillna(0)\n",
    "    \n",
    "    # coefficient without population structure correction - coefficient with correction\n",
    "    plot_df[\"diff\"] = plot_df[\"coef_y\"] - plot_df[\"coef_x\"]\n",
    "    plot_df[\"norm_diff\"] = plot_df[\"diff\"] / plot_df[\"coef_x\"]\n",
    "\n",
    "    if plot:\n",
    "        fig, ax = plt.subplots(1, 2, figsize=(9, 3))\n",
    "        sns.scatterplot(data=plot_df, x=\"coef_x\", y=\"coef_y\", ax=ax[0], alpha=0.5)\n",
    "        ax[0].set_xlabel(\"Coef, Population Structure Correction\")\n",
    "        ax[0].set_ylabel(\"Coef, No Correction\")\n",
    "        ax[0].set_title(f\"Pearson R: {np.round(st.pearsonr(plot_df['coef_x'], plot_df['coef_y'])[0], 4)}\")\n",
    "\n",
    "        sns.scatterplot(data=plot_df, x=\"coef_x\", y=\"norm_diff\", ax=ax[1], alpha=0.5)\n",
    "        ax[1].set_xlabel(\"Coef, Population Structure Correction\")\n",
    "        ax[1].set_ylabel(\"\")\n",
    "        ax[1].set_title(\"Norm. Difference in Coefs.\")\n",
    "\n",
    "        sns.despine()\n",
    "        plt.show()\n",
    "    else:\n",
    "        print(\"Pearson correlation between coefficients:\", np.round(st.pearsonr(plot_df['coef_x'], plot_df['coef_y'])[0], 4))\n",
    "    \n",
    "    # get features whose coefficients differ by more than some threshold (0 to 100) for percent difference\n",
    "    # (difference between coefficients without and with correction is greater than the coefficient with population structure correction\n",
    "    #large_diff = plot_df.query(\"percent_diff >= @diff_thresh | percent_diff <= -@diff_thresh\")\n",
    "    \n",
    "    # get the number of features with confidence intervals that lie on different sides of 0\n",
    "    print(f'{len(plot_df.query(\"coef_LB_x > 0 & coef_UB_x > 0 & coef_LB_y < 0 & coef_UB_y < 0\"))} features have confidence intervals on different sides of 0')\n",
    "    #print(f'{len(large_diff.query(\"coef_LB_x > 0 & coef_UB_x > 0 & coef_LB_y < 0 & coef_UB_y < 0\"))} features with very different coefficients have confidence intervals on different sides of 0')\n",
    "    \n",
    "    # TO-DO: COMPARISON OF CONFIDENCE INTERVALS\n",
    "    \n",
    "    if return_diff:\n",
    "        return plot_df.loc[(pd.isnull(plot_df[\"coef_x\"])) | (pd.isnull(plot_df[\"coef_y\"]))]"
   ]
  },
  {
   "cell_type": "code",
   "execution_count": 109,
   "id": "37b0349c-af23-4a72-b246-9b637512536b",
   "metadata": {},
   "outputs": [
    {
     "name": "stdout",
     "output_type": "stream",
     "text": [
      "15 drugs with phenotypes and genotypes\n"
     ]
    }
   ],
   "source": [
    "genos_dir = '/n/data1/hms/dbmi/farhat/ye12/who/full_genotypes'\n",
    "phenos_dir = '/n/data1/hms/dbmi/farhat/ye12/who/phenotypes'\n",
    "analysis_dir = '/n/data1/hms/dbmi/farhat/ye12/who/analysis'\n",
    "\n",
    "pheno_drugs = os.listdir(phenos_dir)\n",
    "geno_drugs = os.listdir(genos_dir)\n",
    "\n",
    "drugs_for_analysis = list(set(geno_drugs).intersection(set(pheno_drugs)))\n",
    "print(len(drugs_for_analysis), \"drugs with phenotypes and genotypes\")"
   ]
  },
  {
   "cell_type": "code",
   "execution_count": 110,
   "id": "34fa06c4-f8d0-4f15-893b-12db753c7cee",
   "metadata": {},
   "outputs": [
    {
     "name": "stdout",
     "output_type": "stream",
     "text": [
      "Capreomycin\n",
      "     2 principal components have non-zero coefficients\n",
      "0 nominally significant features have conflicting coefficients\n",
      "Pearson correlation between coefficients: 0.9998\n",
      "0 features have confidence intervals on different sides of 0\n",
      "\n",
      "\n",
      "Moxifloxacin\n",
      "     1 principal components have non-zero coefficients\n",
      "0 nominally significant features have conflicting coefficients\n",
      "Pearson correlation between coefficients: 0.9985\n",
      "0 features have confidence intervals on different sides of 0\n",
      "\n",
      "\n",
      "Clofazimine\n",
      "     2 principal components have non-zero coefficients\n",
      "0 nominally significant features have conflicting coefficients\n",
      "Pearson correlation between coefficients: 0.9945\n",
      "0 features have confidence intervals on different sides of 0\n",
      "\n",
      "\n"
     ]
    }
   ],
   "source": [
    "for drug in drugs_for_analysis:\n",
    "    \n",
    "    drug = drug.split(\"=\")[1]\n",
    "    out_dir = os.path.join(analysis_dir, drug, \"tiers=1/phenos=WHO\")\n",
    "    corr_prefix = \"dropAF_noSyn\"\n",
    "    no_corr_prefix = \"dropAF_noSyn_noPopCorr\"\n",
    "    \n",
    "    if os.path.isfile(os.path.join(out_dir, corr_prefix, \"model_analysis.pkl\")) and os.path.isfile(os.path.join(out_dir, no_corr_prefix, \"model_analysis.pkl\")):\n",
    "        \n",
    "        print(drug)\n",
    "        pop_corr = pd.read_pickle(os.path.join(out_dir, corr_prefix, \"model_analysis.pkl\"))\n",
    "        no_pop_corr = pd.read_pickle(os.path.join(out_dir, no_corr_prefix, \"model_analysis.pkl\"))\n",
    "\n",
    "        # number of principal components with positive coefficients (OR > 1)\n",
    "        print(\"    \", len(pop_corr.query(\"coef > 0\").loc[pop_corr.query(\"coef > 0\").orig_variant.str.contains('PC')]), \"principal components have non-zero coefficients\")\n",
    "        \n",
    "        # variants in moxi_res that are not in the results without population structure correction\n",
    "        overlap_variants = set(pop_corr.loc[~pop_corr[\"orig_variant\"].str.contains(\"PC\")][\"orig_variant\"]).intersection(set(no_pop_corr[\"orig_variant\"]))\n",
    "        if len(overlap_variants) == len(pop_corr.loc[~pop_corr[\"orig_variant\"].str.contains(\"PC\")]) == len(no_pop_corr):\n",
    "            compare_models_population_structure_correction(pop_corr, no_pop_corr, plot=False, alpha=0.05, diff_thresh=0)\n",
    "        else:\n",
    "            print(\"    Differing non-zero coefficients\")        \n",
    "        print(\"\\n\")"
   ]
  },
  {
   "cell_type": "code",
   "execution_count": 56,
   "id": "2e590a4f-0b52-4338-844c-3522cb5660c4",
   "metadata": {},
   "outputs": [],
   "source": [
    "#who_variants.loc[(who_variants.drug == 'PZA') & (who_variants.confidence.str.contains(\"|\".join([\"1\"])))]"
   ]
  },
  {
   "cell_type": "code",
   "execution_count": null,
   "id": "7205f478-ec9e-4d70-a175-c2cf982bde88",
   "metadata": {},
   "outputs": [],
   "source": []
  }
 ],
 "metadata": {
  "kernelspec": {
   "display_name": "Python 3 (ipykernel)",
   "language": "python",
   "name": "python3"
  },
  "language_info": {
   "codemirror_mode": {
    "name": "ipython",
    "version": 3
   },
   "file_extension": ".py",
   "mimetype": "text/x-python",
   "name": "python",
   "nbconvert_exporter": "python",
   "pygments_lexer": "ipython3",
   "version": "3.9.12"
  }
 },
 "nbformat": 4,
 "nbformat_minor": 5
}
