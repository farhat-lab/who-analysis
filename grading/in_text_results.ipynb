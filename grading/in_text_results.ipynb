{
 "cells": [
  {
   "cell_type": "code",
   "execution_count": 1,
   "id": "e90cf878-292e-4fb2-894a-29e2922e4b02",
   "metadata": {},
   "outputs": [
    {
     "name": "stdout",
     "output_type": "stream",
     "text": [
      "(52567, 10)\n"
     ]
    }
   ],
   "source": [
    "import numpy as np\n",
    "import pandas as pd\n",
    "import matplotlib.pyplot as plt\n",
    "import matplotlib.patches as mpatches\n",
    "from matplotlib_venn import venn2, venn3\n",
    "\n",
    "plt.rcParams['figure.dpi'] = 150\n",
    "import seaborn as sns\n",
    "import scipy.stats as st\n",
    "import statsmodels\n",
    "import statsmodels.api as sm\n",
    "from functools import reduce\n",
    "\n",
    "import glob, os, yaml, subprocess, itertools, sparse, sys, statsmodels, shutil\n",
    "from sklearn.model_selection import train_test_split, KFold, GridSearchCV\n",
    "from sklearn.preprocessing import StandardScaler\n",
    "from sklearn.linear_model import LogisticRegression, LogisticRegressionCV\n",
    "\n",
    "analysis_dir = '/n/data1/hms/dbmi/farhat/Sanjana/who-mutation-catalogue'\n",
    "\n",
    "lineages = pd.read_csv(\"../lineages/combined_lineages_samples.csv\")\n",
    "print(lineages.shape)\n",
    "import collections, warnings\n",
    "warnings.filterwarnings(\"ignore\")\n",
    "\n",
    "sys.path.append(os.path.join(os.path.dirname(os.getcwd()), \"utils\"))\n",
    "from stats_utils import *\n",
    "from data_utils import *\n",
    "\n",
    "coll2014 = pd.read_csv(\"../data/coll2014_SNP_scheme.tsv\", sep=\"\\t\")\n",
    "coll2014[\"#lineage\"] = coll2014[\"#lineage\"].str.replace(\"lineage\", \"\")\n",
    "coll2014.rename(columns={\"#lineage\": \"Lineage\"}, inplace=True)\n",
    "coll2014['nucleotide'] = [val.split('/')[1] for val in coll2014['allele_change'].values]\n",
    "\n",
    "drug_abbr_dict = {\"Delamanid\": \"DLM\",\n",
    "                  \"Bedaquiline\": \"BDQ\",\n",
    "                  \"Clofazimine\": \"CFZ\",\n",
    "                  \"Ethionamide\": \"ETO\",\n",
    "                  \"Linezolid\": \"LZD\",\n",
    "                  \"Moxifloxacin\": \"MXF\",\n",
    "                  \"Capreomycin\": \"CAP\",\n",
    "                  \"Amikacin\": \"AMK\",\n",
    "                  \"Pretomanid\": \"PMD\",\n",
    "                  \"Pyrazinamide\": \"PZA\",\n",
    "                  \"Kanamycin\": \"KAN\",\n",
    "                  \"Levofloxacin\": \"LFX\",\n",
    "                  \"Streptomycin\": \"STM\",\n",
    "                  \"Ethambutol\": \"EMB\",\n",
    "                  \"Isoniazid\": \"INH\",\n",
    "                  \"Rifampicin\": \"RIF\"\n",
    "                 }\n",
    "\n",
    "cc_df = pd.read_csv(\"../data/drug_CC.csv\")\n",
    "# who_variants_V1 = pd.read_excel(\"../results/WHO-catalog-V1.xlsx\", sheet_name='Mutation_catalogue')\n",
    "# who_variants = pd.read_csv(\"../results/WHO-catalog-V2-full.csv\", header=[2]).query(\"tier==1\").reset_index(drop=True)\n",
    "# del who_variants['mutation']\n",
    "\n",
    "# for col in who_variants.columns[6:46]:\n",
    "#     who_variants.rename(columns={col: f\"ALL_{col}\"}, inplace=True)\n",
    "\n",
    "# for col in who_variants.columns[50:97]:\n",
    "#     who_variants.rename(columns={col: f\"WHO_{col.replace('.1', '')}\"}, inplace=True)\n",
    "\n",
    "# who_variants.to_csv(\"../results/WHO-catalog-V2-tier1.csv\", index=False)\n",
    "who_variants = pd.read_csv(\"../results/WHO-catalog-V2-tier1.csv\")\n",
    "del who_variants['mutation']\n",
    "RS_counts = pd.read_csv(\"../tables/Figure_3A_data.csv\", index_col='Drug')\n",
    "\n",
    "results_final = pd.read_csv(\"../results/Nov2024_Tier1.csv\")\n",
    "not_assocR_literature = pd.read_excel(\"../data/NotAwR by literature.xlsx\", sheet_name=0).rename(columns={'drug': 'Drug', 'variant': 'mutation'})\n",
    "\n",
    "drug_gene_mapping = pd.read_csv(\"../data/drug_gene_mapping.csv\")\n",
    "silent_lst = ['synonymous_variant', 'initiator_codon_variant', 'stop_retained_variant']\n",
    "\n",
    "drugs_lst = list(drug_abbr_dict.keys())\n",
    "sample_ids_mapping = pd.read_csv(\"../data/sample_ids_mapping_20220922.csv\")"
   ]
  },
  {
   "cell_type": "code",
   "execution_count": 2,
   "id": "a617265c-9437-4d68-b874-9a0de01e45c7",
   "metadata": {},
   "outputs": [],
   "source": [
    "INH_genos = pd.read_csv(os.path.join(analysis_dir, 'Isoniazid', 'genos_1.csv.gz'), compression='gzip', usecols=['sample_id', 'resolved_symbol', 'variant_category', 'variant_allele_frequency'])"
   ]
  },
  {
   "cell_type": "code",
   "execution_count": 3,
   "id": "7750db72-3071-48ef-aa9d-2b2312942df7",
   "metadata": {},
   "outputs": [
    {
     "data": {
      "text/plain": [
       "13"
      ]
     },
     "execution_count": 3,
     "metadata": {},
     "output_type": "execute_result"
    }
   ],
   "source": [
    "samples_with_variant = INH_genos.query(\"resolved_symbol=='katG' & variant_category=='c.12A>G' & variant_allele_frequency > 0.75\").sample_id.unique()\n",
    "len(samples_with_variant)"
   ]
  },
  {
   "cell_type": "code",
   "execution_count": 11,
   "id": "5eb4704d-7d53-474a-a49d-315c888ecd5b",
   "metadata": {},
   "outputs": [
    {
     "data": {
      "text/plain": [
       "resolved_symbol  variant_category\n",
       "katG             p.Arg463Leu         13\n",
       "inhA             c.-777C>T           10\n",
       "ahpC             c.-88G>A             1\n",
       "katG             p.Ser315Thr          1\n",
       "Name: count, dtype: int64"
      ]
     },
     "execution_count": 11,
     "metadata": {},
     "output_type": "execute_result"
    }
   ],
   "source": [
    "INH_genos.query(\"sample_id in @samples_with_variant & ~(resolved_symbol=='katG' & variant_category=='c.12A>G') & variant_allele_frequency > 0.25\")[['resolved_symbol', 'variant_category']].value_counts()"
   ]
  },
  {
   "cell_type": "code",
   "execution_count": 10,
   "id": "c3dde28f-8612-4474-bf02-3c9c52163940",
   "metadata": {},
   "outputs": [
    {
     "data": {
      "text/html": [
       "<div>\n",
       "<style scoped>\n",
       "    .dataframe tbody tr th:only-of-type {\n",
       "        vertical-align: middle;\n",
       "    }\n",
       "\n",
       "    .dataframe tbody tr th {\n",
       "        vertical-align: top;\n",
       "    }\n",
       "\n",
       "    .dataframe thead th {\n",
       "        text-align: right;\n",
       "    }\n",
       "</style>\n",
       "<table border=\"1\" class=\"dataframe\">\n",
       "  <thead>\n",
       "    <tr style=\"text-align: right;\">\n",
       "      <th></th>\n",
       "      <th>mutation</th>\n",
       "      <th>WHO_Odds_Ratio</th>\n",
       "      <th>ALL_Odds_Ratio</th>\n",
       "      <th>SOLO INITIAL CONFIDENCE GRADING</th>\n",
       "      <th>SOLO FINAL CONFIDENCE GRADING</th>\n",
       "      <th>REGRESSION FINAL CONFIDENCE GRADING</th>\n",
       "    </tr>\n",
       "  </thead>\n",
       "  <tbody>\n",
       "    <tr>\n",
       "      <th>10307</th>\n",
       "      <td>inhA_c.-777C&gt;T</td>\n",
       "      <td>3.702257</td>\n",
       "      <td>3.843702</td>\n",
       "      <td>1) Assoc w R</td>\n",
       "      <td>1) Assoc w R</td>\n",
       "      <td>1) Assoc w R</td>\n",
       "    </tr>\n",
       "    <tr>\n",
       "      <th>10335</th>\n",
       "      <td>katG_c.12A&gt;G</td>\n",
       "      <td>1.099477</td>\n",
       "      <td>1.089698</td>\n",
       "      <td>3) Uncertain significance</td>\n",
       "      <td>4) Not assoc w R - Interim</td>\n",
       "      <td>1) Assoc w R</td>\n",
       "    </tr>\n",
       "    <tr>\n",
       "      <th>12356</th>\n",
       "      <td>ahpC_c.-88G&gt;A</td>\n",
       "      <td>0.928051</td>\n",
       "      <td>0.937116</td>\n",
       "      <td>5) Not assoc w R</td>\n",
       "      <td>5) Not assoc w R</td>\n",
       "      <td>3) Uncertain significance</td>\n",
       "    </tr>\n",
       "    <tr>\n",
       "      <th>12360</th>\n",
       "      <td>katG_p.Arg463Leu</td>\n",
       "      <td>0.813266</td>\n",
       "      <td>0.807385</td>\n",
       "      <td>5) Not assoc w R</td>\n",
       "      <td>5) Not assoc w R</td>\n",
       "      <td>5) Not assoc w R</td>\n",
       "    </tr>\n",
       "  </tbody>\n",
       "</table>\n",
       "</div>"
      ],
      "text/plain": [
       "               mutation  WHO_Odds_Ratio  ALL_Odds_Ratio  \\\n",
       "10307    inhA_c.-777C>T        3.702257        3.843702   \n",
       "10335      katG_c.12A>G        1.099477        1.089698   \n",
       "12356     ahpC_c.-88G>A        0.928051        0.937116   \n",
       "12360  katG_p.Arg463Leu        0.813266        0.807385   \n",
       "\n",
       "      SOLO INITIAL CONFIDENCE GRADING SOLO FINAL CONFIDENCE GRADING  \\\n",
       "10307                    1) Assoc w R                  1) Assoc w R   \n",
       "10335       3) Uncertain significance    4) Not assoc w R - Interim   \n",
       "12356                5) Not assoc w R              5) Not assoc w R   \n",
       "12360                5) Not assoc w R              5) Not assoc w R   \n",
       "\n",
       "      REGRESSION FINAL CONFIDENCE GRADING  \n",
       "10307                        1) Assoc w R  \n",
       "10335                        1) Assoc w R  \n",
       "12356           3) Uncertain significance  \n",
       "12360                    5) Not assoc w R  "
      ]
     },
     "execution_count": 10,
     "metadata": {},
     "output_type": "execute_result"
    }
   ],
   "source": [
    "results_final.query(\"Drug=='Isoniazid' & mutation in ['katG_c.12A>G', 'katG_p.Arg463Leu', 'inhA_c.-777C>T', 'ahpC_c.-88G>A']\")[['mutation', 'WHO_Odds_Ratio', 'ALL_Odds_Ratio', 'SOLO INITIAL CONFIDENCE GRADING', 'SOLO FINAL CONFIDENCE GRADING', 'REGRESSION FINAL CONFIDENCE GRADING']]"
   ]
  },
  {
   "cell_type": "code",
   "execution_count": null,
   "id": "653aeea7-9d44-4cd1-a27f-e252b1ed0ab8",
   "metadata": {},
   "outputs": [],
   "source": []
  },
  {
   "cell_type": "markdown",
   "id": "37501916-868d-45bc-a5fd-6957b212b46c",
   "metadata": {},
   "source": [
    "# Overview of Regression Gradings"
   ]
  },
  {
   "cell_type": "code",
   "execution_count": 3,
   "id": "ac18fbda-bb3e-4026-aa82-08f188c558ba",
   "metadata": {},
   "outputs": [],
   "source": [
    "regression_grading_cols_lst = ['REGRESSION FINAL CONFIDENCE GRADING', 'REGRESSION + GRADING RULES']\n",
    "solo_cols_lst = ['SOLO INITIAL CONFIDENCE GRADING', 'SOLO FINAL CONFIDENCE GRADING']\n",
    "\n",
    "regression_totals_df = []\n",
    "solo_totals_df = []\n",
    "\n",
    "for col in regression_grading_cols_lst:\n",
    "    regression_totals_df.append(pd.DataFrame(results_final[col].value_counts()).reset_index().rename(columns={col: 'Grading', 'count': col}).set_index('Grading'))\n",
    "\n",
    "for col in solo_cols_lst:\n",
    "    solo_totals_df.append(pd.DataFrame(results_final[col].value_counts()).reset_index().rename(columns={col: 'Grading', 'count': col}).set_index('Grading'))\n",
    "\n",
    "regression_totals_df = pd.concat(regression_totals_df, axis=1).sort_index()\n",
    "solo_totals_df = pd.concat(solo_totals_df, axis=1).sort_index()"
   ]
  },
  {
   "cell_type": "code",
   "execution_count": 4,
   "id": "bbd05957-232a-4898-93a7-87fccae6fa8a",
   "metadata": {},
   "outputs": [
    {
     "data": {
      "text/html": [
       "<div>\n",
       "<style scoped>\n",
       "    .dataframe tbody tr th:only-of-type {\n",
       "        vertical-align: middle;\n",
       "    }\n",
       "\n",
       "    .dataframe tbody tr th {\n",
       "        vertical-align: top;\n",
       "    }\n",
       "\n",
       "    .dataframe thead th {\n",
       "        text-align: right;\n",
       "    }\n",
       "</style>\n",
       "<table border=\"1\" class=\"dataframe\">\n",
       "  <thead>\n",
       "    <tr style=\"text-align: right;\">\n",
       "      <th></th>\n",
       "      <th>REGRESSION FINAL CONFIDENCE GRADING</th>\n",
       "      <th>REGRESSION + GRADING RULES</th>\n",
       "      <th>SOLO INITIAL CONFIDENCE GRADING</th>\n",
       "      <th>SOLO FINAL CONFIDENCE GRADING</th>\n",
       "    </tr>\n",
       "    <tr>\n",
       "      <th>Grading</th>\n",
       "      <th></th>\n",
       "      <th></th>\n",
       "      <th></th>\n",
       "      <th></th>\n",
       "    </tr>\n",
       "  </thead>\n",
       "  <tbody>\n",
       "    <tr>\n",
       "      <th>1) Assoc w R</th>\n",
       "      <td>587</td>\n",
       "      <td>587</td>\n",
       "      <td>311</td>\n",
       "      <td>253</td>\n",
       "    </tr>\n",
       "    <tr>\n",
       "      <th>2) Assoc w R - Interim</th>\n",
       "      <td>164</td>\n",
       "      <td>1049</td>\n",
       "      <td>146</td>\n",
       "      <td>1130</td>\n",
       "    </tr>\n",
       "    <tr>\n",
       "      <th>3) Uncertain significance</th>\n",
       "      <td>20614</td>\n",
       "      <td>14756</td>\n",
       "      <td>20835</td>\n",
       "      <td>14958</td>\n",
       "    </tr>\n",
       "    <tr>\n",
       "      <th>4) Not assoc w R - Interim</th>\n",
       "      <td>130</td>\n",
       "      <td>5103</td>\n",
       "      <td>19</td>\n",
       "      <td>4998</td>\n",
       "    </tr>\n",
       "    <tr>\n",
       "      <th>5) Not assoc w R</th>\n",
       "      <td>94</td>\n",
       "      <td>94</td>\n",
       "      <td>278</td>\n",
       "      <td>250</td>\n",
       "    </tr>\n",
       "  </tbody>\n",
       "</table>\n",
       "</div>"
      ],
      "text/plain": [
       "                            REGRESSION FINAL CONFIDENCE GRADING  \\\n",
       "Grading                                                           \n",
       "1) Assoc w R                                                587   \n",
       "2) Assoc w R - Interim                                      164   \n",
       "3) Uncertain significance                                 20614   \n",
       "4) Not assoc w R - Interim                                  130   \n",
       "5) Not assoc w R                                             94   \n",
       "\n",
       "                            REGRESSION + GRADING RULES  \\\n",
       "Grading                                                  \n",
       "1) Assoc w R                                       587   \n",
       "2) Assoc w R - Interim                            1049   \n",
       "3) Uncertain significance                        14756   \n",
       "4) Not assoc w R - Interim                        5103   \n",
       "5) Not assoc w R                                    94   \n",
       "\n",
       "                            SOLO INITIAL CONFIDENCE GRADING  \\\n",
       "Grading                                                       \n",
       "1) Assoc w R                                            311   \n",
       "2) Assoc w R - Interim                                  146   \n",
       "3) Uncertain significance                             20835   \n",
       "4) Not assoc w R - Interim                               19   \n",
       "5) Not assoc w R                                        278   \n",
       "\n",
       "                            SOLO FINAL CONFIDENCE GRADING  \n",
       "Grading                                                    \n",
       "1) Assoc w R                                          253  \n",
       "2) Assoc w R - Interim                               1130  \n",
       "3) Uncertain significance                           14958  \n",
       "4) Not assoc w R - Interim                           4998  \n",
       "5) Not assoc w R                                      250  "
      ]
     },
     "execution_count": 4,
     "metadata": {},
     "output_type": "execute_result"
    }
   ],
   "source": [
    "regression_totals_df.merge(solo_totals_df, left_index=True, right_index=True)"
   ]
  },
  {
   "cell_type": "code",
   "execution_count": 121,
   "id": "39c446da-203e-4524-bfef-c3d4c77f98ba",
   "metadata": {},
   "outputs": [
    {
     "data": {
      "text/plain": [
       "975"
      ]
     },
     "execution_count": 121,
     "metadata": {},
     "output_type": "execute_result"
    }
   ],
   "source": [
    "regression_totals_df.loc[['1) Assoc w R', '2) Assoc w R - Interim', '4) Not assoc w R - Interim', '5) Not assoc w R'], 'REGRESSION FINAL CONFIDENCE GRADING'].values.sum()"
   ]
  },
  {
   "cell_type": "code",
   "execution_count": 122,
   "id": "b02f72d0-8e55-450b-a057-4ec2195f54c8",
   "metadata": {},
   "outputs": [
    {
     "data": {
      "text/plain": [
       "754"
      ]
     },
     "execution_count": 122,
     "metadata": {},
     "output_type": "execute_result"
    }
   ],
   "source": [
    "solo_totals_df.loc[['1) Assoc w R', '2) Assoc w R - Interim', '4) Not assoc w R - Interim', '5) Not assoc w R'], 'SOLO INITIAL CONFIDENCE GRADING'].values.sum()"
   ]
  },
  {
   "cell_type": "code",
   "execution_count": 124,
   "id": "bd6f1702-b0be-4bf0-97d5-1f0d4458e8ea",
   "metadata": {},
   "outputs": [
    {
     "data": {
      "text/plain": [
       "(221, 221, 0.29310344827586204)"
      ]
     },
     "execution_count": 124,
     "metadata": {},
     "output_type": "execute_result"
    }
   ],
   "source": [
    "20835-20614, 975-754, 221/754"
   ]
  },
  {
   "cell_type": "code",
   "execution_count": 5,
   "id": "fa3cd877-97fc-4bed-a6dd-5d64b41f4dd3",
   "metadata": {},
   "outputs": [
    {
     "data": {
      "text/plain": [
       "(221, 754, 0.29310344827586204)"
      ]
     },
     "execution_count": 5,
     "metadata": {},
     "output_type": "execute_result"
    }
   ],
   "source": [
    "solo_uncertain = solo_totals_df.loc['3) Uncertain significance', 'SOLO INITIAL CONFIDENCE GRADING']\n",
    "regression_uncertain = regression_totals_df.loc['3) Uncertain significance', 'REGRESSION FINAL CONFIDENCE GRADING']\n",
    "\n",
    "solo_graded = solo_totals_df.drop(labels='3) Uncertain significance')['SOLO INITIAL CONFIDENCE GRADING'].sum()\n",
    "\n",
    "# how many fewer Uncertain mutations does regression leave? What is the percent change relative to the number of SOLO graded mutations?\n",
    "solo_uncertain-regression_uncertain, solo_graded, (solo_uncertain-regression_uncertain)/solo_graded"
   ]
  },
  {
   "cell_type": "code",
   "execution_count": 6,
   "id": "8acec19d-1483-4ff7-90d8-ae9452ec372c",
   "metadata": {},
   "outputs": [
    {
     "name": "stdout",
     "output_type": "stream",
     "text": [
      "807 variants were upgraded by grading rules\n",
      "807 non-silent variants were upgraded by grading rules\n",
      "5051 variants were upgraded by grading rules\n",
      "147 non-silent variants were upgraded by grading rules\n"
     ]
    }
   ],
   "source": [
    "regression_LoF_upgrades = results_final.loc[(results_final['REGRESSION FINAL CONFIDENCE GRADING'] != results_final['REGRESSION GRADING + LOF UPGRADE'])]\n",
    "regression_GR_upgrades = results_final.loc[(results_final['REGRESSION GRADING + LOF UPGRADE'] != results_final['REGRESSION + GRADING RULES'])]\n",
    "\n",
    "print(f'{len(regression_LoF_upgrades)} variants were upgraded by grading rules')\n",
    "print(f'{len(regression_LoF_upgrades.query(\"predicted_effect not in @silent_lst\"))} non-silent variants were upgraded by grading rules')\n",
    "print(f'{len(regression_GR_upgrades)} variants were upgraded by grading rules')\n",
    "print(f'{len(regression_GR_upgrades.query(\"predicted_effect not in @silent_lst\"))} non-silent variants were upgraded by grading rules')"
   ]
  },
  {
   "cell_type": "markdown",
   "id": "d10aa5eb-662a-45d8-bae6-4e3913ef0367",
   "metadata": {},
   "source": [
    "# Number of Variants tested only in the ALL dataset or Ungraded"
   ]
  },
  {
   "cell_type": "code",
   "execution_count": 7,
   "id": "299db3e8-e8b9-4e40-a2b7-6a09a8b6c778",
   "metadata": {},
   "outputs": [
    {
     "name": "stdout",
     "output_type": "stream",
     "text": [
      "2388 (11.1)% mutations were not tested in either phenotypic dataset\n",
      "0/19201 (0.0)% mutations were only tested in the WHO dataset\n",
      "6710/19201 (34.9)% mutations were only tested in the ALL dataset\n",
      "12177 (97.5)% mutations have the same grading in both datasets\n"
     ]
    }
   ],
   "source": [
    "ungraded_muts = results_final.loc[(pd.isnull(results_final['WHO_Odds_Ratio'])) & (pd.isnull(results_final['ALL_Odds_Ratio']))]\n",
    "graded_muts = results_final.dropna(subset=['WHO_Odds_Ratio', 'ALL_Odds_Ratio'], how='all')\n",
    "WHO_only = results_final.loc[(~pd.isnull(results_final['WHO_Odds_Ratio'])) & (pd.isnull(results_final['ALL_Odds_Ratio']))]\n",
    "ALL_only = results_final.loc[(pd.isnull(results_final['WHO_Odds_Ratio'])) & (~pd.isnull(results_final['ALL_Odds_Ratio']))]\n",
    "\n",
    "WHO_ALL_graded = results_final.loc[(~pd.isnull(results_final['WHO_Odds_Ratio'])) & (~pd.isnull(results_final['ALL_Odds_Ratio']))]\n",
    "WHO_ALL_same_grading = WHO_ALL_graded.loc[(WHO_ALL_graded['Initial confidence grading WHO dataset'] == WHO_ALL_graded['Initial confidence grading ALL dataset'])]\n",
    "\n",
    "print(f\"{len(ungraded_muts)} ({np.round(len(ungraded_muts) / len(results_final) * 100, 1)})% mutations were not tested in either phenotypic dataset\")\n",
    "print(f\"{len(WHO_only)}/{len(graded_muts)} ({np.round(len(WHO_only) / len(graded_muts) * 100, 1)})% mutations were only tested in the WHO dataset\")\n",
    "print(f\"{len(ALL_only)}/{len(graded_muts)} ({np.round(len(ALL_only) / len(graded_muts) * 100, 1)})% mutations were only tested in the ALL dataset\")\n",
    "print(f\"{len(WHO_ALL_same_grading)} ({np.round(len(WHO_ALL_same_grading) / len(WHO_ALL_graded) * 100, 1)})% mutations have the same grading in both datasets\")"
   ]
  },
  {
   "cell_type": "code",
   "execution_count": 8,
   "id": "469fc941-5695-4037-a0f0-94ec0c5854b1",
   "metadata": {},
   "outputs": [
    {
     "data": {
      "text/plain": [
       "(12491, 12491)"
      ]
     },
     "execution_count": 8,
     "metadata": {},
     "output_type": "execute_result"
    }
   ],
   "source": [
    "len(graded_muts) - len(ALL_only), len(WHO_ALL_graded)"
   ]
  },
  {
   "cell_type": "markdown",
   "id": "d0bd40a5-5828-47ef-9b16-fc2232619601",
   "metadata": {},
   "source": [
    "# Number of Variants that meet different Criteria for resolving WHO and ALL discrepancies"
   ]
  },
  {
   "cell_type": "code",
   "execution_count": 9,
   "id": "50f2d836-7f16-4f14-9c70-f8ebea345c32",
   "metadata": {},
   "outputs": [
    {
     "name": "stdout",
     "output_type": "stream",
     "text": [
      "Both Assoc w R: 587\n",
      "Both Not assoc w R or Neutral: 66\n",
      "WHO = Neutral, ALL = Uncertain: 28\n",
      "WHO = Uncertain, ALL = Neutral: 53\n",
      "WHO = Assoc w R, ALL = Uncertain: 12\n",
      "WHO = Not assoc w R, ALL = Uncertain: 16\n",
      "WHO = Uncertain, ALL = Assoc w R: 149\n",
      "WHO = Uncertain, ALL = Not assoc w R: 56\n",
      "WHO = Assoc w R, ALL = Not assoc w R, Neutral: 0\n",
      "WHO = Not assoc w R, Neutral, ALL = Assoc w R: 0\n"
     ]
    }
   ],
   "source": [
    "WHO_col = 'Initial confidence grading WHO dataset'\n",
    "ALL_col = 'Initial confidence grading ALL dataset'\n",
    "\n",
    "print('Both Assoc w R:', len(results_final.loc[(results_final[WHO_col]=='Assoc w R') & (results_final[ALL_col]=='Assoc w R')]))\n",
    "\n",
    "print('Both Not assoc w R or Neutral:', len(results_final.loc[(results_final[WHO_col].isin(['Not assoc w R', 'Neutral'])) & (results_final[ALL_col].isin(['Not assoc w R', 'Neutral']))]))\n",
    "\n",
    "print('WHO = Neutral, ALL = Uncertain:', len(results_final.loc[(results_final[WHO_col]=='Neutral') & (results_final[ALL_col]=='Uncertain')]))\n",
    "\n",
    "print('WHO = Uncertain, ALL = Neutral:', len(results_final.loc[(results_final[WHO_col]=='Uncertain') & (results_final[ALL_col]=='Neutral') & (~pd.isnull(results_final[WHO_col]))]))\n",
    "\n",
    "print('WHO = Assoc w R, ALL = Uncertain:', len(results_final.loc[(results_final[WHO_col]=='Assoc w R') & (results_final[ALL_col]=='Uncertain')]))\n",
    "\n",
    "print('WHO = Not assoc w R, ALL = Uncertain:', len(results_final.loc[(results_final[WHO_col]=='Not assoc w R') & (results_final[ALL_col]=='Uncertain')]))\n",
    "\n",
    "print('WHO = Uncertain, ALL = Assoc w R:', len(results_final.loc[(results_final[WHO_col]=='Uncertain') & (results_final[ALL_col]=='Assoc w R')]))\n",
    "\n",
    "print('WHO = Uncertain, ALL = Not assoc w R:', len(results_final.loc[(results_final[WHO_col]=='Uncertain') & (results_final[ALL_col]=='Not assoc w R')]))\n",
    "\n",
    "print('WHO = Assoc w R, ALL = Not assoc w R, Neutral:', len(results_final.loc[(results_final[WHO_col]=='Assoc w R') & (results_final[ALL_col].isin(['Not assoc w R', 'Neutral']))]))\n",
    "\n",
    "print('WHO = Not assoc w R, Neutral, ALL = Assoc w R:', len(results_final.loc[(results_final[ALL_col]=='Assoc w R') & (results_final[WHO_col].isin(['Not assoc w R', 'Neutral']))]))"
   ]
  },
  {
   "cell_type": "code",
   "execution_count": 10,
   "id": "583b3416-be38-4a53-b5b0-94134f45904e",
   "metadata": {},
   "outputs": [
    {
     "data": {
      "text/plain": [
       "SOLO INITIAL CONFIDENCE GRADING\n",
       "3) Uncertain significance    6\n",
       "2) Assoc w R - Interim       3\n",
       "5) Not assoc w R             2\n",
       "1) Assoc w R                 1\n",
       "Name: count, dtype: int64"
      ]
     },
     "execution_count": 10,
     "metadata": {},
     "output_type": "execute_result"
    }
   ],
   "source": [
    "results_final.loc[(results_final[WHO_col]=='Assoc w R') & (results_final[ALL_col]=='Uncertain')]['SOLO INITIAL CONFIDENCE GRADING'].value_counts()"
   ]
  },
  {
   "cell_type": "code",
   "execution_count": 11,
   "id": "54c114ef-610b-4fac-800c-9c0f0b7ec8d2",
   "metadata": {},
   "outputs": [
    {
     "data": {
      "text/html": [
       "<div>\n",
       "<style scoped>\n",
       "    .dataframe tbody tr th:only-of-type {\n",
       "        vertical-align: middle;\n",
       "    }\n",
       "\n",
       "    .dataframe tbody tr th {\n",
       "        vertical-align: top;\n",
       "    }\n",
       "\n",
       "    .dataframe thead th {\n",
       "        text-align: right;\n",
       "    }\n",
       "</style>\n",
       "<table border=\"1\" class=\"dataframe\">\n",
       "  <thead>\n",
       "    <tr style=\"text-align: right;\">\n",
       "      <th></th>\n",
       "      <th>WHO_Odds_Ratio</th>\n",
       "      <th>WHO_BH_pval</th>\n",
       "      <th>WHO_BH_LRT_pval</th>\n",
       "      <th>WHO_R_PPV_LB</th>\n",
       "      <th>ALL_Odds_Ratio</th>\n",
       "      <th>ALL_BH_pval</th>\n",
       "      <th>ALL_BH_LRT_pval</th>\n",
       "      <th>ALL_R_PPV_LB</th>\n",
       "    </tr>\n",
       "  </thead>\n",
       "  <tbody>\n",
       "    <tr>\n",
       "      <th>1089</th>\n",
       "      <td>1.394573</td>\n",
       "      <td>0.0</td>\n",
       "      <td>1.733900e-12</td>\n",
       "      <td>0.763225</td>\n",
       "      <td>1.287033</td>\n",
       "      <td>0.0</td>\n",
       "      <td>6.073573e-36</td>\n",
       "      <td>0.182759</td>\n",
       "    </tr>\n",
       "  </tbody>\n",
       "</table>\n",
       "</div>"
      ],
      "text/plain": [
       "      WHO_Odds_Ratio  WHO_BH_pval  WHO_BH_LRT_pval  WHO_R_PPV_LB  \\\n",
       "1089        1.394573          0.0     1.733900e-12      0.763225   \n",
       "\n",
       "      ALL_Odds_Ratio  ALL_BH_pval  ALL_BH_LRT_pval  ALL_R_PPV_LB  \n",
       "1089        1.287033          0.0     6.073573e-36      0.182759  "
      ]
     },
     "execution_count": 11,
     "metadata": {},
     "output_type": "execute_result"
    }
   ],
   "source": [
    "results_final.query(\"Drug=='Bedaquiline' & mutation=='mmpS5_c.-74G>T'\")[['WHO_Odds_Ratio', 'WHO_BH_pval', 'WHO_BH_LRT_pval', 'WHO_R_PPV_LB', 'ALL_Odds_Ratio', 'ALL_BH_pval', 'ALL_BH_LRT_pval', 'ALL_R_PPV_LB']]"
   ]
  },
  {
   "cell_type": "markdown",
   "id": "0d146f3b-2506-4648-b522-02800beaa8ff",
   "metadata": {},
   "source": [
    "# Co-occurrence of mmpS5_c.-74G>T with other variants"
   ]
  },
  {
   "cell_type": "code",
   "execution_count": 32,
   "id": "261d3762-f6dc-42e7-95a3-9270a31c7203",
   "metadata": {},
   "outputs": [],
   "source": [
    "BDQ_genos = pd.read_csv(os.path.join(analysis_dir, \"Bedaquiline\", \"genos_1.csv.gz\"), compression='gzip', usecols=['sample_id', 'resolved_symbol', 'variant_category', 'variant_allele_frequency'])\n",
    "\n",
    "df_phenos = pd.read_csv(os.path.join(analysis_dir, \"Bedaquiline\", \"phenos_binary.csv\"))\n",
    "\n",
    "BDQ_genos['mutation'] = BDQ_genos['resolved_symbol'] + '_' + BDQ_genos['variant_category']\n",
    "\n",
    "del BDQ_genos['resolved_symbol']\n",
    "del BDQ_genos['variant_category']"
   ]
  },
  {
   "cell_type": "code",
   "execution_count": 33,
   "id": "425f99eb-a4e7-490b-85e2-c6210d4e2fda",
   "metadata": {},
   "outputs": [
    {
     "data": {
      "text/plain": [
       "131"
      ]
     },
     "execution_count": 33,
     "metadata": {},
     "output_type": "execute_result"
    }
   ],
   "source": [
    "samples_with_variants = BDQ_genos.query(\"mutation=='mmpS5_c.-74G>T' & variant_allele_frequency > 0.75\").sample_id.unique()\n",
    "len(samples_with_variants)"
   ]
  },
  {
   "cell_type": "code",
   "execution_count": 34,
   "id": "bfb67d07-374b-4beb-8010-7fbf806d0dac",
   "metadata": {},
   "outputs": [
    {
     "data": {
      "text/plain": [
       "37"
      ]
     },
     "execution_count": 34,
     "metadata": {},
     "output_type": "execute_result"
    }
   ],
   "source": [
    "BDQ_R_isolates_with_variant = df_phenos.query(\"sample_id in @samples_with_variants & phenotype==1\").sample_id.values\n",
    "len(BDQ_R_isolates_with_variant)"
   ]
  },
  {
   "cell_type": "code",
   "execution_count": 51,
   "id": "052cc027-b558-48f8-a876-0fa31ed8807a",
   "metadata": {},
   "outputs": [],
   "source": [
    "df_check = BDQ_genos.query(\"sample_id in @BDQ_R_isolates_with_variant & mutation!='mmpS5_c.-74G>T' & variant_allele_frequency > 0.75\")\n",
    "\n",
    "df_check = df_check.merge(results_final.query(\"Drug=='Bedaquiline'\")[['mutation', 'REGRESSION FINAL CONFIDENCE GRADING', 'SOLO INITIAL CONFIDENCE GRADING', 'SOLO FINAL CONFIDENCE GRADING']], on=['mutation'], how='inner')\n",
    "\n",
    "# lower the AF threshold to 25%\n",
    "df_check_lowAF = BDQ_genos.query(\"sample_id in @BDQ_R_isolates_with_variant & mutation!='mmpS5_c.-74G>T' & variant_allele_frequency > 0.25\")\n",
    "\n",
    "# one variant -- Rv0678_p.Met23fs -- found only at AF < 75%\n",
    "df_check_lowAF = df_check_lowAF.merge(results_final.query(\"Drug=='Bedaquiline'\")[['mutation', 'REGRESSION FINAL CONFIDENCE GRADING', 'SOLO INITIAL CONFIDENCE GRADING', 'SOLO FINAL CONFIDENCE GRADING']], on=['mutation'], how='inner')"
   ]
  },
  {
   "cell_type": "code",
   "execution_count": 52,
   "id": "9f4a8d10-d9ea-4a47-af93-f98d6e8447fb",
   "metadata": {},
   "outputs": [
    {
     "data": {
      "text/plain": [
       "(14, 8)"
      ]
     },
     "execution_count": 52,
     "metadata": {},
     "output_type": "execute_result"
    }
   ],
   "source": [
    "# number of isolates with a Group 1/2 mutation by SOLO with GR and the number of such variants\n",
    "df_check.loc[df_check['SOLO FINAL CONFIDENCE GRADING'].str.contains('Assoc w R')].sample_id.nunique(), df_check.loc[df_check['SOLO FINAL CONFIDENCE GRADING'].str.contains('Assoc w R')].mutation.nunique()"
   ]
  },
  {
   "cell_type": "code",
   "execution_count": 53,
   "id": "7848f238-4324-4d57-9601-f737332e549d",
   "metadata": {},
   "outputs": [
    {
     "data": {
      "text/plain": [
       "mutation\n",
       "mmpL5_p.Ile948Val    37\n",
       "mmpL5_p.Thr794Ile    37\n",
       "mmpL5_p.Asp767Asn    37\n",
       "atpE_p.Ile66Met       3\n",
       "Rv0678_p.Glu49fs      3\n",
       "Rv0678_p.Asp47fs      3\n",
       "Rv0678_p.Cys46Arg     2\n",
       "atpE_p.Ala63Thr       1\n",
       "Rv0678_p.Tyr145fs     1\n",
       "Rv0678_p.Gln115*      1\n",
       "Rv0678_p.Leu60Pro     1\n",
       "Rv0678_p.Pro48fs      1\n",
       "Rv0678_p.Thr69fs      1\n",
       "Name: count, dtype: int64"
      ]
     },
     "execution_count": 53,
     "metadata": {},
     "output_type": "execute_result"
    }
   ],
   "source": [
    "df_check.mutation.value_counts()"
   ]
  },
  {
   "cell_type": "code",
   "execution_count": 42,
   "id": "b3ce3941-99df-47fe-8395-06962f3420b8",
   "metadata": {},
   "outputs": [
    {
     "data": {
      "text/plain": [
       "array(['atpE', 'mmpS5', 'Rv0678', 'pepQ', 'mmpL5'], dtype=object)"
      ]
     },
     "execution_count": 42,
     "metadata": {},
     "output_type": "execute_result"
    }
   ],
   "source": [
    "BDQ_genos.mutation.str.split('_').str[0].unique()"
   ]
  },
  {
   "cell_type": "code",
   "execution_count": 54,
   "id": "bae2dee6-851b-4bcd-9a5f-b73655b8ee4e",
   "metadata": {},
   "outputs": [
    {
     "data": {
      "text/plain": [
       "15"
      ]
     },
     "execution_count": 54,
     "metadata": {},
     "output_type": "execute_result"
    }
   ],
   "source": [
    "df_check.query(\"mutation not in ['mmpL5_p.Ile948Val', 'mmpL5_p.Thr794Ile', 'mmpL5_p.Asp767Asn']\").sample_id.nunique()"
   ]
  },
  {
   "cell_type": "code",
   "execution_count": 55,
   "id": "2bb5e22e-b6a5-4a52-9562-73fa177e3b75",
   "metadata": {},
   "outputs": [
    {
     "data": {
      "text/html": [
       "<div>\n",
       "<style scoped>\n",
       "    .dataframe tbody tr th:only-of-type {\n",
       "        vertical-align: middle;\n",
       "    }\n",
       "\n",
       "    .dataframe tbody tr th {\n",
       "        vertical-align: top;\n",
       "    }\n",
       "\n",
       "    .dataframe thead th {\n",
       "        text-align: right;\n",
       "    }\n",
       "</style>\n",
       "<table border=\"1\" class=\"dataframe\">\n",
       "  <thead>\n",
       "    <tr style=\"text-align: right;\">\n",
       "      <th></th>\n",
       "      <th>sample_id</th>\n",
       "      <th>variant_allele_frequency</th>\n",
       "      <th>mutation</th>\n",
       "      <th>REGRESSION FINAL CONFIDENCE GRADING</th>\n",
       "      <th>SOLO INITIAL CONFIDENCE GRADING</th>\n",
       "      <th>SOLO FINAL CONFIDENCE GRADING</th>\n",
       "    </tr>\n",
       "  </thead>\n",
       "  <tbody>\n",
       "    <tr>\n",
       "      <th>3</th>\n",
       "      <td>823005</td>\n",
       "      <td>1.0</td>\n",
       "      <td>atpE_p.Ala63Thr</td>\n",
       "      <td>3) Uncertain significance</td>\n",
       "      <td>3) Uncertain significance</td>\n",
       "      <td>3) Uncertain significance</td>\n",
       "    </tr>\n",
       "    <tr>\n",
       "      <th>9</th>\n",
       "      <td>823005</td>\n",
       "      <td>1.0</td>\n",
       "      <td>Rv0678_p.Leu60Pro</td>\n",
       "      <td>3) Uncertain significance</td>\n",
       "      <td>3) Uncertain significance</td>\n",
       "      <td>3) Uncertain significance</td>\n",
       "    </tr>\n",
       "  </tbody>\n",
       "</table>\n",
       "</div>"
      ],
      "text/plain": [
       "   sample_id  variant_allele_frequency           mutation  \\\n",
       "3     823005                       1.0    atpE_p.Ala63Thr   \n",
       "9     823005                       1.0  Rv0678_p.Leu60Pro   \n",
       "\n",
       "  REGRESSION FINAL CONFIDENCE GRADING SOLO INITIAL CONFIDENCE GRADING  \\\n",
       "3           3) Uncertain significance       3) Uncertain significance   \n",
       "9           3) Uncertain significance       3) Uncertain significance   \n",
       "\n",
       "  SOLO FINAL CONFIDENCE GRADING  \n",
       "3     3) Uncertain significance  \n",
       "9     3) Uncertain significance  "
      ]
     },
     "execution_count": 55,
     "metadata": {},
     "output_type": "execute_result"
    }
   ],
   "source": [
    "df_check.query(\"mutation not in ['mmpL5_p.Ile948Val', 'mmpL5_p.Thr794Ile', 'mmpL5_p.Asp767Asn']\").loc[~df_check['SOLO FINAL CONFIDENCE GRADING'].str.contains('Assoc w R')]"
   ]
  },
  {
   "cell_type": "code",
   "execution_count": 56,
   "id": "eca56137-2751-4eeb-b557-93635be56004",
   "metadata": {},
   "outputs": [
    {
     "data": {
      "text/plain": [
       "21"
      ]
     },
     "execution_count": 56,
     "metadata": {},
     "output_type": "execute_result"
    }
   ],
   "source": [
    "df_check_lowAF.query(\"mutation not in ['mmpL5_p.Ile948Val', 'mmpL5_p.Thr794Ile', 'mmpL5_p.Asp767Asn']\").sample_id.nunique()"
   ]
  },
  {
   "cell_type": "code",
   "execution_count": 58,
   "id": "23d74bf3-997b-4989-a9f8-d8cabfd30351",
   "metadata": {},
   "outputs": [
    {
     "data": {
      "text/html": [
       "<div>\n",
       "<style scoped>\n",
       "    .dataframe tbody tr th:only-of-type {\n",
       "        vertical-align: middle;\n",
       "    }\n",
       "\n",
       "    .dataframe tbody tr th {\n",
       "        vertical-align: top;\n",
       "    }\n",
       "\n",
       "    .dataframe thead th {\n",
       "        text-align: right;\n",
       "    }\n",
       "</style>\n",
       "<table border=\"1\" class=\"dataframe\">\n",
       "  <thead>\n",
       "    <tr style=\"text-align: right;\">\n",
       "      <th></th>\n",
       "      <th>sample_id</th>\n",
       "      <th>variant_allele_frequency</th>\n",
       "      <th>mutation</th>\n",
       "      <th>REGRESSION FINAL CONFIDENCE GRADING</th>\n",
       "      <th>SOLO INITIAL CONFIDENCE GRADING</th>\n",
       "      <th>SOLO FINAL CONFIDENCE GRADING</th>\n",
       "    </tr>\n",
       "  </thead>\n",
       "  <tbody>\n",
       "    <tr>\n",
       "      <th>3</th>\n",
       "      <td>823005</td>\n",
       "      <td>1.00</td>\n",
       "      <td>atpE_p.Ala63Thr</td>\n",
       "      <td>3) Uncertain significance</td>\n",
       "      <td>3) Uncertain significance</td>\n",
       "      <td>3) Uncertain significance</td>\n",
       "    </tr>\n",
       "    <tr>\n",
       "      <th>12</th>\n",
       "      <td>823005</td>\n",
       "      <td>1.00</td>\n",
       "      <td>Rv0678_p.Leu60Pro</td>\n",
       "      <td>3) Uncertain significance</td>\n",
       "      <td>3) Uncertain significance</td>\n",
       "      <td>3) Uncertain significance</td>\n",
       "    </tr>\n",
       "    <tr>\n",
       "      <th>13</th>\n",
       "      <td>823198</td>\n",
       "      <td>0.36</td>\n",
       "      <td>Rv0678_p.Leu122Pro</td>\n",
       "      <td>3) Uncertain significance</td>\n",
       "      <td>3) Uncertain significance</td>\n",
       "      <td>3) Uncertain significance</td>\n",
       "    </tr>\n",
       "  </tbody>\n",
       "</table>\n",
       "</div>"
      ],
      "text/plain": [
       "    sample_id  variant_allele_frequency            mutation  \\\n",
       "3      823005                      1.00     atpE_p.Ala63Thr   \n",
       "12     823005                      1.00   Rv0678_p.Leu60Pro   \n",
       "13     823198                      0.36  Rv0678_p.Leu122Pro   \n",
       "\n",
       "   REGRESSION FINAL CONFIDENCE GRADING SOLO INITIAL CONFIDENCE GRADING  \\\n",
       "3            3) Uncertain significance       3) Uncertain significance   \n",
       "12           3) Uncertain significance       3) Uncertain significance   \n",
       "13           3) Uncertain significance       3) Uncertain significance   \n",
       "\n",
       "   SOLO FINAL CONFIDENCE GRADING  \n",
       "3      3) Uncertain significance  \n",
       "12     3) Uncertain significance  \n",
       "13     3) Uncertain significance  "
      ]
     },
     "execution_count": 58,
     "metadata": {},
     "output_type": "execute_result"
    }
   ],
   "source": [
    "df_check_lowAF.query(\"mutation not in ['mmpL5_p.Ile948Val', 'mmpL5_p.Thr794Ile', 'mmpL5_p.Asp767Asn']\").loc[~df_check_lowAF['SOLO FINAL CONFIDENCE GRADING'].str.contains('Assoc w R')]"
   ]
  },
  {
   "cell_type": "markdown",
   "id": "a860449d-14c5-4124-a2ca-a58114b706e4",
   "metadata": {},
   "source": [
    "# Results Section A"
   ]
  },
  {
   "cell_type": "code",
   "execution_count": 59,
   "id": "7cf7b0f5-2ffd-4ccd-9040-5ceab69efeb9",
   "metadata": {},
   "outputs": [
    {
     "data": {
      "text/plain": [
       "(450, 457, 0.9846827133479212)"
      ]
     },
     "execution_count": 59,
     "metadata": {},
     "output_type": "execute_result"
    }
   ],
   "source": [
    "search_string = 'Assoc w R'\n",
    "\n",
    "regression_Group12_agreement = len(results_final.loc[(results_final['REGRESSION FINAL CONFIDENCE GRADING'].str.contains(search_string)) & (results_final['SOLO INITIAL CONFIDENCE GRADING'].str.contains(search_string))])\n",
    "\n",
    "SOLO_Group12 = len(results_final.loc[(results_final['SOLO INITIAL CONFIDENCE GRADING'].str.contains(search_string))])\n",
    "\n",
    "regression_Group12_agreement, SOLO_Group12, regression_Group12_agreement/SOLO_Group12"
   ]
  },
  {
   "cell_type": "code",
   "execution_count": 60,
   "id": "8d9f5e9a-f7f0-44a7-b795-37d26b9f3285",
   "metadata": {},
   "outputs": [
    {
     "data": {
      "text/plain": [
       "(1378, 1383, 0.9963846710050615)"
      ]
     },
     "execution_count": 60,
     "metadata": {},
     "output_type": "execute_result"
    }
   ],
   "source": [
    "search_string = 'Assoc w R'\n",
    "\n",
    "regression_SOLO_GR_Group12_agreement = len(results_final.loc[(results_final['REGRESSION + GRADING RULES'].str.contains(search_string)) & (results_final['SOLO FINAL CONFIDENCE GRADING'].str.contains(search_string))])\n",
    "\n",
    "SOLO_GR_Group12 = len(results_final.loc[(results_final['SOLO FINAL CONFIDENCE GRADING'].str.contains(search_string))])\n",
    "\n",
    "regression_SOLO_GR_Group12_agreement, SOLO_GR_Group12, regression_SOLO_GR_Group12_agreement/SOLO_GR_Group12"
   ]
  },
  {
   "cell_type": "code",
   "execution_count": 61,
   "id": "151a8c2b-48d3-44cb-bf54-5e945684b23c",
   "metadata": {},
   "outputs": [
    {
     "data": {
      "text/plain": [
       "(738, 66)"
      ]
     },
     "execution_count": 61,
     "metadata": {},
     "output_type": "execute_result"
    }
   ],
   "source": [
    "# number of R-associated variants upgraded by the LoF grading rule. These are Assoc w R with grading rules\n",
    "results_final.query(\"Reason=='LoF Upgrade'\").loc[(~results_final['REGRESSION FINAL CONFIDENCE GRADING'].str.contains('Assoc w R')) & (results_final['REGRESSION GRADING + LOF UPGRADE'].str.contains('Assoc w R'))].shape"
   ]
  },
  {
   "cell_type": "code",
   "execution_count": 62,
   "id": "38843780-47fe-473e-9929-07e1faf2b33a",
   "metadata": {},
   "outputs": [
    {
     "data": {
      "text/plain": [
       "885"
      ]
     },
     "execution_count": 62,
     "metadata": {},
     "output_type": "execute_result"
    }
   ],
   "source": [
    "len(results_final.loc[(~results_final['REGRESSION FINAL CONFIDENCE GRADING'].str.contains('Assoc w R')) & (results_final['REGRESSION + GRADING RULES'].str.contains('Assoc w R'))])"
   ]
  },
  {
   "cell_type": "code",
   "execution_count": 63,
   "id": "5e7e0f1b-a1c7-461f-b8f6-14ffc81d245a",
   "metadata": {},
   "outputs": [
    {
     "data": {
      "text/plain": [
       "147"
      ]
     },
     "execution_count": 63,
     "metadata": {},
     "output_type": "execute_result"
    }
   ],
   "source": [
    "# mutations upgraded from Group 3 to Group 2 by other non-LoF rules\n",
    "len(results_final.query(\"Reason != 'LoF Upgrade'\").loc[(~results_final['REGRESSION FINAL CONFIDENCE GRADING'].str.contains('Assoc w R')) & (results_final['REGRESSION + GRADING RULES'].str.contains('Assoc w R'))])"
   ]
  },
  {
   "cell_type": "code",
   "execution_count": 64,
   "id": "e3fba92c-3590-452d-917d-d31ad3d2f29c",
   "metadata": {},
   "outputs": [
    {
     "data": {
      "text/plain": [
       "Reason\n",
       "Both Uncertain            91\n",
       "Not Graded                30\n",
       "ALL Evidence Only         25\n",
       "Downgrade to Uncertain     1\n",
       "Name: count, dtype: int64"
      ]
     },
     "execution_count": 64,
     "metadata": {},
     "output_type": "execute_result"
    }
   ],
   "source": [
    "results_final.query(\"Reason != 'LoF Upgrade'\").loc[(~results_final['REGRESSION FINAL CONFIDENCE GRADING'].str.contains('Assoc w R')) & (results_final['REGRESSION + GRADING RULES'].str.contains('Assoc w R'))].Reason.value_counts()"
   ]
  },
  {
   "cell_type": "code",
   "execution_count": 65,
   "id": "d0ea1284-d3ea-4dbf-984f-911fc6a2f8fe",
   "metadata": {},
   "outputs": [
    {
     "data": {
      "text/plain": [
       "array(['3) Uncertain significance'], dtype=object)"
      ]
     },
     "execution_count": 65,
     "metadata": {},
     "output_type": "execute_result"
    }
   ],
   "source": [
    "results_final.query(\"Reason != 'LoF Upgrade'\").loc[(~results_final['REGRESSION FINAL CONFIDENCE GRADING'].str.contains('Assoc w R')) & (results_final['REGRESSION + GRADING RULES'].str.contains('Assoc w R'))]['REGRESSION GRADING + LOF UPGRADE'].unique()"
   ]
  },
  {
   "cell_type": "code",
   "execution_count": 66,
   "id": "949c4ea5-a95e-47a9-855e-10cb27621f84",
   "metadata": {},
   "outputs": [
    {
     "data": {
      "text/plain": [
       "REGRESSION FINAL CONFIDENCE GRADING  REGRESSION GRADING + LOF UPGRADE\n",
       "3) Uncertain significance            2) Assoc w R - Interim              738\n",
       "                                     4) Not assoc w R - Interim           69\n",
       "Name: count, dtype: int64"
      ]
     },
     "execution_count": 66,
     "metadata": {},
     "output_type": "execute_result"
    }
   ],
   "source": [
    "# 807 total variants are upgraded by the LoF grading rule\n",
    "results_final.query(\"Reason=='LoF Upgrade'\")[['REGRESSION FINAL CONFIDENCE GRADING', 'REGRESSION GRADING + LOF UPGRADE']].value_counts()"
   ]
  },
  {
   "cell_type": "code",
   "execution_count": 67,
   "id": "2da0e38a-c315-44d6-8501-da4401706586",
   "metadata": {},
   "outputs": [
    {
     "data": {
      "text/plain": [
       "Drug          gene \n",
       "Kanamycin     eis      32\n",
       "Bedaquiline   mmpL5    28\n",
       "Streptomycin  whiB7     9\n",
       "Name: count, dtype: int64"
      ]
     },
     "execution_count": 67,
     "metadata": {},
     "output_type": "execute_result"
    }
   ],
   "source": [
    "results_final.query(\"Reason=='LoF Upgrade'\").loc[results_final['REGRESSION GRADING + LOF UPGRADE']=='4) Not assoc w R - Interim'][['Drug', 'gene']].value_counts()"
   ]
  },
  {
   "cell_type": "code",
   "execution_count": 68,
   "id": "0500fda2-7dfe-4cda-8efb-13e25e23bf46",
   "metadata": {},
   "outputs": [
    {
     "name": "stdout",
     "output_type": "stream",
     "text": [
      "Regression: 751\n",
      "Regression + GR: 1636\n",
      "SOLO: 457\n",
      "SOLO + GR: 1383\n"
     ]
    }
   ],
   "source": [
    "# Groups 1 and 2\n",
    "regression_Groups12 = results_final.loc[(results_final['REGRESSION FINAL CONFIDENCE GRADING'].str.contains('Assoc w R'))]\n",
    "regression_GR_Groups12 = results_final.loc[(results_final['REGRESSION + GRADING RULES'].str.contains('Assoc w R'))]\n",
    "SOLO_Groups12 = results_final.loc[results_final['SOLO INITIAL CONFIDENCE GRADING'].str.contains('Assoc w R')]\n",
    "SOLO_GR_Groups12 = results_final.loc[results_final['SOLO FINAL CONFIDENCE GRADING'].str.contains('Assoc w R')]\n",
    "\n",
    "groups12_lst = [regression_Groups12, regression_GR_Groups12, SOLO_Groups12, SOLO_GR_Groups12]\n",
    "group_names = ['Regression', 'Regression + GR', 'SOLO', 'SOLO + GR']\n",
    "\n",
    "for name, df in zip(group_names, groups12_lst):\n",
    "    print(f\"{name}: {len(df)}\")"
   ]
  },
  {
   "cell_type": "code",
   "execution_count": 69,
   "id": "2c963134-a996-4ea9-8864-ff6603e6b2b6",
   "metadata": {},
   "outputs": [
    {
     "data": {
      "text/plain": [
       "(294, 0.6433260393873085)"
      ]
     },
     "execution_count": 69,
     "metadata": {},
     "output_type": "execute_result"
    }
   ],
   "source": [
    "len(regression_Groups12) - len(SOLO_Groups12), (len(regression_Groups12) - len(SOLO_Groups12)) / len(SOLO_Groups12)"
   ]
  },
  {
   "cell_type": "code",
   "execution_count": 70,
   "id": "076d4789-3308-493a-a97f-525c1d5f830f",
   "metadata": {},
   "outputs": [
    {
     "data": {
      "text/plain": [
       "885"
      ]
     },
     "execution_count": 70,
     "metadata": {},
     "output_type": "execute_result"
    }
   ],
   "source": [
    "len(regression_GR_Groups12) - len(regression_Groups12)"
   ]
  },
  {
   "cell_type": "code",
   "execution_count": 71,
   "id": "9018b491-16c1-4720-8614-547966ea6077",
   "metadata": {},
   "outputs": [
    {
     "data": {
      "text/plain": [
       "(1, array(['katG_c.12A>G'], dtype=object))"
      ]
     },
     "execution_count": 71,
     "metadata": {},
     "output_type": "execute_result"
    }
   ],
   "source": [
    "silent_variants_assocR = results_final.loc[(results_final['predicted_effect'].isin(silent_lst)) & (results_final['REGRESSION FINAL CONFIDENCE GRADING'].str.contains('Assoc w R'))].mutation.values\n",
    "len(silent_variants_assocR), silent_variants_assocR"
   ]
  },
  {
   "cell_type": "code",
   "execution_count": 72,
   "id": "de371754-c099-49e2-b248-bed2ffdada82",
   "metadata": {},
   "outputs": [
    {
     "name": "stdout",
     "output_type": "stream",
     "text": [
      "Regression: 224 (161 non-silent)\n",
      "Regression + GR: 5197 (230 non-silent)\n",
      "SOLO: 297 (230 non-silent)\n",
      "SOLO + GR: 5248 (230 non-silent)\n"
     ]
    }
   ],
   "source": [
    "# Groups 4 and 5, +/- silent variants\n",
    "regression_Groups45 = results_final.loc[(results_final['REGRESSION FINAL CONFIDENCE GRADING'].str.contains('Not assoc w R'))]\n",
    "regression_GR_Groups45 = results_final.loc[(results_final['REGRESSION + GRADING RULES'].str.contains('Not assoc w R'))]\n",
    "SOLO_Groups45 = results_final.loc[results_final['SOLO INITIAL CONFIDENCE GRADING'].str.contains('Not assoc w R')]\n",
    "SOLO_GR_Groups45 = results_final.loc[results_final['SOLO FINAL CONFIDENCE GRADING'].str.contains('Not assoc w R')]\n",
    "\n",
    "groups45_lst = [regression_Groups45, regression_GR_Groups45, SOLO_Groups45, SOLO_GR_Groups45]\n",
    "\n",
    "for name, df in zip(group_names, groups45_lst):\n",
    "    print(f\"{name}: {len(df)} ({len(df.loc[~df['predicted_effect'].isin(silent_lst)])} non-silent)\")"
   ]
  },
  {
   "cell_type": "markdown",
   "id": "5246df58-a6af-48c5-bd6f-ee59352f5003",
   "metadata": {},
   "source": [
    "## Which variants does regression find, SOLO misses, and grading rules upgrade to interim?"
   ]
  },
  {
   "cell_type": "code",
   "execution_count": 73,
   "id": "4b050196-ef03-4762-bda0-5889abf1b404",
   "metadata": {},
   "outputs": [
    {
     "name": "stdout",
     "output_type": "stream",
     "text": [
      "Regression upgrades 79 R-assoc variants upgraded by grading rules.\n"
     ]
    }
   ],
   "source": [
    "# mutations that HAD to be upgraded to Groups 1 and 2 using rules\n",
    "SOLOmiss_GRupgrade_R = results_final.loc[(~results_final['SOLO INITIAL CONFIDENCE GRADING'].str.contains('Assoc w R')) &\n",
    "                                         (results_final['SOLO FINAL CONFIDENCE GRADING'].str.contains('Assoc w R'))\n",
    "                                        ]\n",
    "\n",
    "# matches with total counts above too\n",
    "assert len(SOLOmiss_GRupgrade_R) == len(SOLO_GR_Groups12) - len(SOLO_Groups12)\n",
    "\n",
    "regression_Rassoc_SOLOmiss_GRupgrade_R = SOLOmiss_GRupgrade_R.loc[SOLOmiss_GRupgrade_R['REGRESSION FINAL CONFIDENCE GRADING'].str.contains('Assoc w R')]\n",
    "print(f\"Regression upgrades {len(regression_Rassoc_SOLOmiss_GRupgrade_R)} R-assoc variants upgraded by grading rules.\")"
   ]
  },
  {
   "cell_type": "code",
   "execution_count": 74,
   "id": "5ee94f00-a56c-4272-bdb2-d4500a2d27be",
   "metadata": {},
   "outputs": [
    {
     "name": "stdout",
     "output_type": "stream",
     "text": [
      "Regression upgrades 46 Not R-assoc variants upgraded by grading rules.\n"
     ]
    }
   ],
   "source": [
    "# mutations that HAD to be upgraded to Groups 1 and 2 using rules\n",
    "SOLOmiss_GRupgrade_NotR = results_final.loc[(~results_final['SOLO INITIAL CONFIDENCE GRADING'].str.contains('Not assoc w R')) &\n",
    "                                             (results_final['SOLO FINAL CONFIDENCE GRADING'].str.contains('Not assoc w R'))\n",
    "                                            ]\n",
    "\n",
    "# matches with total counts above too\n",
    "assert len(SOLOmiss_GRupgrade_NotR) == len(SOLO_GR_Groups45) - len(SOLO_Groups45)\n",
    "\n",
    "regression_NotR_SOLOmiss_GRupgrade_NotR = SOLOmiss_GRupgrade_NotR.loc[SOLOmiss_GRupgrade_NotR['REGRESSION FINAL CONFIDENCE GRADING'].str.contains('Not assoc w R')]\n",
    "print(f\"Regression upgrades {len(regression_NotR_SOLOmiss_GRupgrade_NotR)} Not R-assoc variants upgraded by grading rules.\")"
   ]
  },
  {
   "cell_type": "markdown",
   "id": "4d7d62c8-77d8-4de2-b4b4-700a6f82865e",
   "metadata": {},
   "source": [
    "## Look into the cases where regression grades but SOLO misses"
   ]
  },
  {
   "cell_type": "code",
   "execution_count": 75,
   "id": "a4a24465-2ef0-4699-b0de-48ed4703d988",
   "metadata": {},
   "outputs": [
    {
     "name": "stdout",
     "output_type": "stream",
     "text": [
      "79\n"
     ]
    },
    {
     "data": {
      "text/plain": [
       "REGRESSION FINAL CONFIDENCE GRADING  SOLO INITIAL CONFIDENCE GRADING  SOLO FINAL CONFIDENCE GRADING\n",
       "1) Assoc w R                         3) Uncertain significance        2) Assoc w R - Interim           42\n",
       "2) Assoc w R - Interim               3) Uncertain significance        2) Assoc w R - Interim           34\n",
       "1) Assoc w R                         3) Uncertain significance        1) Assoc w R                      3\n",
       "Name: count, dtype: int64"
      ]
     },
     "execution_count": 75,
     "metadata": {},
     "output_type": "execute_result"
    }
   ],
   "source": [
    "# combine with WHO catalogue results to get additional information\n",
    "regression_Rassoc_SOLOmiss_GRupgrade_R_SOLO_results = regression_Rassoc_SOLOmiss_GRupgrade_R[['Drug', 'mutation']].merge(who_variants.rename(columns={'drug': 'Drug', 'variant': 'mutation'}))\n",
    "\n",
    "print(len(regression_Rassoc_SOLOmiss_GRupgrade_R_SOLO_results))\n",
    "assert len(regression_Rassoc_SOLOmiss_GRupgrade_R_SOLO_results) == len(regression_Rassoc_SOLOmiss_GRupgrade_R)\n",
    "\n",
    "regression_Rassoc_SOLOmiss_GRupgrade_R[['REGRESSION FINAL CONFIDENCE GRADING', 'SOLO INITIAL CONFIDENCE GRADING', 'SOLO FINAL CONFIDENCE GRADING']].value_counts()"
   ]
  },
  {
   "cell_type": "code",
   "execution_count": 76,
   "id": "fbfa9f0b-b92a-494a-be54-f4ba61a765da",
   "metadata": {},
   "outputs": [
    {
     "data": {
      "text/plain": [
       "(2, 27)"
      ]
     },
     "execution_count": 76,
     "metadata": {},
     "output_type": "execute_result"
    }
   ],
   "source": [
    "len(regression_Rassoc_SOLOmiss_GRupgrade_R_SOLO_results.query(\"ALL_Present_SOLO_SR==0\")), len(regression_Rassoc_SOLOmiss_GRupgrade_R_SOLO_results.query(\"ALL_Present_SOLO_SR < 5\"))"
   ]
  },
  {
   "cell_type": "code",
   "execution_count": 77,
   "id": "378b777e-57cd-4da4-88de-79d77a54cccc",
   "metadata": {},
   "outputs": [
    {
     "data": {
      "text/plain": [
       "ALL_OR_SOLO_FE_sig\n",
       "False    50\n",
       "True      2\n",
       "Name: count, dtype: int64"
      ]
     },
     "execution_count": 77,
     "metadata": {},
     "output_type": "execute_result"
    }
   ],
   "source": [
    "regression_Rassoc_SOLOmiss_GRupgrade_R_SOLO_results.query(\"ALL_Present_SOLO_SR >= 5\").ALL_OR_SOLO_FE_sig.value_counts()"
   ]
  },
  {
   "cell_type": "code",
   "execution_count": 78,
   "id": "dbeef190-5853-48aa-ac01-d5e88b6d6349",
   "metadata": {},
   "outputs": [
    {
     "data": {
      "text/html": [
       "<div>\n",
       "<style scoped>\n",
       "    .dataframe tbody tr th:only-of-type {\n",
       "        vertical-align: middle;\n",
       "    }\n",
       "\n",
       "    .dataframe tbody tr th {\n",
       "        vertical-align: top;\n",
       "    }\n",
       "\n",
       "    .dataframe thead th {\n",
       "        text-align: right;\n",
       "    }\n",
       "</style>\n",
       "<table border=\"1\" class=\"dataframe\">\n",
       "  <thead>\n",
       "    <tr style=\"text-align: right;\">\n",
       "      <th></th>\n",
       "      <th>Drug</th>\n",
       "      <th>mutation</th>\n",
       "      <th>INITIAL CONFIDENCE GRADING</th>\n",
       "      <th>FINAL CONFIDENCE GRADING</th>\n",
       "      <th>Additional grading criteria applied</th>\n",
       "    </tr>\n",
       "  </thead>\n",
       "  <tbody>\n",
       "    <tr>\n",
       "      <th>3</th>\n",
       "      <td>Clofazimine</td>\n",
       "      <td>Rv0678_p.Asp47fs</td>\n",
       "      <td>3) Uncertain significance</td>\n",
       "      <td>2) Assoc w R - Interim</td>\n",
       "      <td>Indel frameshift or premature stop codon (LoF)</td>\n",
       "    </tr>\n",
       "    <tr>\n",
       "      <th>43</th>\n",
       "      <td>Linezolid</td>\n",
       "      <td>rrl_n.2270G&gt;T</td>\n",
       "      <td>3) Uncertain significance</td>\n",
       "      <td>2) Assoc w R - Interim</td>\n",
       "      <td>Selection evidence</td>\n",
       "    </tr>\n",
       "  </tbody>\n",
       "</table>\n",
       "</div>"
      ],
      "text/plain": [
       "           Drug          mutation INITIAL CONFIDENCE GRADING  \\\n",
       "3   Clofazimine  Rv0678_p.Asp47fs  3) Uncertain significance   \n",
       "43    Linezolid     rrl_n.2270G>T  3) Uncertain significance   \n",
       "\n",
       "   FINAL CONFIDENCE GRADING             Additional grading criteria applied  \n",
       "3    2) Assoc w R - Interim  Indel frameshift or premature stop codon (LoF)  \n",
       "43   2) Assoc w R - Interim                              Selection evidence  "
      ]
     },
     "execution_count": 78,
     "metadata": {},
     "output_type": "execute_result"
    }
   ],
   "source": [
    "regression_Rassoc_SOLOmiss_GRupgrade_R_SOLO_results.query(\"ALL_Present_SOLO_SR >= 5 & ALL_OR_SOLO_FE_sig==True\")[['Drug', 'mutation', 'INITIAL CONFIDENCE GRADING', 'FINAL CONFIDENCE GRADING', 'Additional grading criteria applied']]"
   ]
  },
  {
   "cell_type": "code",
   "execution_count": 79,
   "id": "a1e0600e-8834-4bc1-adfc-2e39d914826c",
   "metadata": {},
   "outputs": [
    {
     "data": {
      "text/plain": [
       "(0.34177215189873417, 0.6329113924050633)"
      ]
     },
     "execution_count": 79,
     "metadata": {},
     "output_type": "execute_result"
    }
   ],
   "source": [
    "27/79, 50/79"
   ]
  },
  {
   "cell_type": "markdown",
   "id": "523b9fc9-4aea-4085-99d0-f20404ad4bf4",
   "metadata": {},
   "source": [
    "## Save the mutations for which regression supersedes the need for grading rules to a supplementary table"
   ]
  },
  {
   "cell_type": "code",
   "execution_count": 80,
   "id": "41eaa964-042c-46d2-bad4-89350d161a26",
   "metadata": {},
   "outputs": [
    {
     "data": {
      "text/plain": [
       "125"
      ]
     },
     "execution_count": 80,
     "metadata": {},
     "output_type": "execute_result"
    }
   ],
   "source": [
    "regression_supersede_save = pd.concat([regression_Rassoc_SOLOmiss_GRupgrade_R, regression_NotR_SOLOmiss_GRupgrade_NotR])[['Drug', 'mutation', 'SOLO INITIAL CONFIDENCE GRADING', 'SOLO FINAL CONFIDENCE GRADING', 'REGRESSION FINAL CONFIDENCE GRADING']].sort_values(\"Drug\")\n",
    "\n",
    "len(regression_supersede_save)"
   ]
  },
  {
   "cell_type": "code",
   "execution_count": 81,
   "id": "f4a5fc10-8f6d-4fb6-87ff-061e1999465e",
   "metadata": {},
   "outputs": [
    {
     "data": {
      "text/plain": [
       "SOLO INITIAL CONFIDENCE GRADING\n",
       "3) Uncertain significance    125\n",
       "Name: count, dtype: int64"
      ]
     },
     "execution_count": 81,
     "metadata": {},
     "output_type": "execute_result"
    }
   ],
   "source": [
    "regression_supersede_save['SOLO INITIAL CONFIDENCE GRADING'].value_counts()"
   ]
  },
  {
   "cell_type": "code",
   "execution_count": 82,
   "id": "6c1d7c2f-addb-4c58-88b6-7b205ce75585",
   "metadata": {},
   "outputs": [
    {
     "data": {
      "text/plain": [
       "SOLO FINAL CONFIDENCE GRADING\n",
       "2) Assoc w R - Interim        76\n",
       "4) Not assoc w R - Interim    46\n",
       "1) Assoc w R                   3\n",
       "Name: count, dtype: int64"
      ]
     },
     "execution_count": 82,
     "metadata": {},
     "output_type": "execute_result"
    }
   ],
   "source": [
    "regression_supersede_save['SOLO FINAL CONFIDENCE GRADING'].value_counts()"
   ]
  },
  {
   "cell_type": "code",
   "execution_count": 83,
   "id": "16cb8454-d12f-4786-9bc6-58226d0013cd",
   "metadata": {},
   "outputs": [
    {
     "data": {
      "text/plain": [
       "REGRESSION FINAL CONFIDENCE GRADING\n",
       "5) Not assoc w R              24\n",
       "4) Not assoc w R - Interim    22\n",
       "Name: count, dtype: int64"
      ]
     },
     "execution_count": 83,
     "metadata": {},
     "output_type": "execute_result"
    }
   ],
   "source": [
    "regression_supersede_save.loc[regression_supersede_save['SOLO FINAL CONFIDENCE GRADING']=='4) Not assoc w R - Interim']['REGRESSION FINAL CONFIDENCE GRADING'].value_counts()"
   ]
  },
  {
   "cell_type": "code",
   "execution_count": 84,
   "id": "a17c5523-3576-4eb7-8d7a-e879d025a41d",
   "metadata": {},
   "outputs": [
    {
     "data": {
      "text/plain": [
       "REGRESSION FINAL CONFIDENCE GRADING\n",
       "1) Assoc w R              45\n",
       "2) Assoc w R - Interim    34\n",
       "Name: count, dtype: int64"
      ]
     },
     "execution_count": 84,
     "metadata": {},
     "output_type": "execute_result"
    }
   ],
   "source": [
    "regression_supersede_save.loc[regression_supersede_save['SOLO FINAL CONFIDENCE GRADING'].str.contains('Assoc w R')]['REGRESSION FINAL CONFIDENCE GRADING'].value_counts()"
   ]
  },
  {
   "cell_type": "code",
   "execution_count": 85,
   "id": "406a3299-7a24-40df-8fea-ca4a160ae87a",
   "metadata": {},
   "outputs": [],
   "source": [
    "regression_supersede_save.to_csv(\"../tables/regression_supersede_save.csv\", index=False)"
   ]
  },
  {
   "cell_type": "markdown",
   "id": "964b23cd-15c2-4628-9b0a-447d7edcaadc",
   "metadata": {},
   "source": [
    "# Results Section D\n",
    "\n",
    "## RIF mutations newly graded by regression (for INH ones, focused on ahpC because there were a lot, in the other notebook)"
   ]
  },
  {
   "cell_type": "code",
   "execution_count": 96,
   "id": "719ae9d9-70d9-4057-8635-78f34b0cd86d",
   "metadata": {},
   "outputs": [
    {
     "data": {
      "text/plain": [
       "5"
      ]
     },
     "execution_count": 96,
     "metadata": {},
     "output_type": "execute_result"
    }
   ],
   "source": [
    "# do the inverse of significant MIC coefficient so that you don't exclude mutations not tested in the MIC models\n",
    "new_RIF_variants_no_MIC = results_final.query(\"Drug=='Rifampicin'\").loc[(results_final['SOLO FINAL CONFIDENCE GRADING']=='3) Uncertain significance') & (results_final['REGRESSION FINAL CONFIDENCE GRADING'].str.contains('Assoc w R'))].merge(MIC_results, how='left').query(\"~(MIC_BH_pval <= 0.05)\")\n",
    "\n",
    "len(new_RIF_variants_no_MIC)"
   ]
  },
  {
   "cell_type": "code",
   "execution_count": 108,
   "id": "c50f3f23-c965-4335-9338-7eb19ce88a44",
   "metadata": {},
   "outputs": [
    {
     "data": {
      "text/plain": [
       "(5, 66)"
      ]
     },
     "execution_count": 108,
     "metadata": {},
     "output_type": "execute_result"
    }
   ],
   "source": [
    "results_final.query(\"Drug=='Rifampicin'\").loc[(results_final['SOLO FINAL CONFIDENCE GRADING']=='3) Uncertain significance') & (results_final['REGRESSION FINAL CONFIDENCE GRADING'].str.contains('Assoc w R'))].shape"
   ]
  },
  {
   "cell_type": "code",
   "execution_count": 99,
   "id": "e54b4006-8d42-4038-81b6-78c9e6934c9a",
   "metadata": {},
   "outputs": [
    {
     "data": {
      "text/plain": [
       "30"
      ]
     },
     "execution_count": 99,
     "metadata": {},
     "output_type": "execute_result"
    }
   ],
   "source": [
    "new_INH_variants_no_MIC = results_final.query(\"Drug=='Isoniazid'\").loc[(results_final['SOLO FINAL CONFIDENCE GRADING']=='3) Uncertain significance') & (results_final['REGRESSION FINAL CONFIDENCE GRADING'].str.contains('Assoc w R'))].merge(MIC_results, how='left').query(\"~(MIC_BH_pval <= 0.05)\")\n",
    "\n",
    "len(new_INH_variants_no_MIC)"
   ]
  },
  {
   "cell_type": "code",
   "execution_count": 110,
   "id": "98299702-3613-4eb5-8802-53a2b6a48146",
   "metadata": {},
   "outputs": [
    {
     "data": {
      "text/plain": [
       "gene  predicted_effect     \n",
       "katG  missense_variant         20\n",
       "ahpC  upstream_gene_variant     5\n",
       "inhA  upstream_gene_variant     2\n",
       "ahpC  missense_variant          1\n",
       "inhA  missense_variant          1\n",
       "katG  upstream_gene_variant     1\n",
       "Name: count, dtype: int64"
      ]
     },
     "execution_count": 110,
     "metadata": {},
     "output_type": "execute_result"
    }
   ],
   "source": [
    "new_INH_variants_no_MIC[['gene', 'predicted_effect']].value_counts()"
   ]
  },
  {
   "cell_type": "code",
   "execution_count": null,
   "id": "f5c93fcd-a11f-48b2-8038-128d07991c24",
   "metadata": {},
   "outputs": [],
   "source": []
  },
  {
   "cell_type": "code",
   "execution_count": null,
   "id": "8183ad5a-c957-43cf-8d5f-8e5bf37d5d2c",
   "metadata": {},
   "outputs": [],
   "source": []
  },
  {
   "cell_type": "code",
   "execution_count": 103,
   "id": "44ea6827-a262-4fd7-8df8-3da576df0ec5",
   "metadata": {},
   "outputs": [
    {
     "data": {
      "text/plain": [
       "(1.039131671360849, 1.165863136905473)"
      ]
     },
     "execution_count": 103,
     "metadata": {},
     "output_type": "execute_result"
    }
   ],
   "source": [
    "new_INH_variants_no_MIC['ALL_Odds_Ratio'].min(), new_INH_variants_no_MIC['ALL_Odds_Ratio'].max()"
   ]
  },
  {
   "cell_type": "code",
   "execution_count": 98,
   "id": "9eb501fc-820b-46eb-b1bc-e8a42e86ee13",
   "metadata": {},
   "outputs": [
    {
     "data": {
      "text/html": [
       "<div>\n",
       "<style scoped>\n",
       "    .dataframe tbody tr th:only-of-type {\n",
       "        vertical-align: middle;\n",
       "    }\n",
       "\n",
       "    .dataframe tbody tr th {\n",
       "        vertical-align: top;\n",
       "    }\n",
       "\n",
       "    .dataframe thead th {\n",
       "        text-align: right;\n",
       "    }\n",
       "</style>\n",
       "<table border=\"1\" class=\"dataframe\">\n",
       "  <thead>\n",
       "    <tr style=\"text-align: right;\">\n",
       "      <th></th>\n",
       "      <th>mutation</th>\n",
       "      <th>ALL_Odds_Ratio</th>\n",
       "    </tr>\n",
       "  </thead>\n",
       "  <tbody>\n",
       "    <tr>\n",
       "      <th>0</th>\n",
       "      <td>rpoB_p.Ile491Leu</td>\n",
       "      <td>1.112158</td>\n",
       "    </tr>\n",
       "    <tr>\n",
       "      <th>1</th>\n",
       "      <td>rpoB_p.Phe424Val</td>\n",
       "      <td>1.091647</td>\n",
       "    </tr>\n",
       "    <tr>\n",
       "      <th>2</th>\n",
       "      <td>rpoB_p.Ser493Leu</td>\n",
       "      <td>1.088842</td>\n",
       "    </tr>\n",
       "    <tr>\n",
       "      <th>3</th>\n",
       "      <td>rpoB_p.Ile491Met</td>\n",
       "      <td>1.072449</td>\n",
       "    </tr>\n",
       "    <tr>\n",
       "      <th>4</th>\n",
       "      <td>rpoB_p.Ile491Thr</td>\n",
       "      <td>1.068486</td>\n",
       "    </tr>\n",
       "  </tbody>\n",
       "</table>\n",
       "</div>"
      ],
      "text/plain": [
       "           mutation  ALL_Odds_Ratio\n",
       "0  rpoB_p.Ile491Leu        1.112158\n",
       "1  rpoB_p.Phe424Val        1.091647\n",
       "2  rpoB_p.Ser493Leu        1.088842\n",
       "3  rpoB_p.Ile491Met        1.072449\n",
       "4  rpoB_p.Ile491Thr        1.068486"
      ]
     },
     "execution_count": 98,
     "metadata": {},
     "output_type": "execute_result"
    }
   ],
   "source": [
    "new_RIF_variants_no_MIC[['mutation', 'ALL_Odds_Ratio']]"
   ]
  },
  {
   "cell_type": "markdown",
   "id": "6cac7657-a474-4a8d-a82c-e6f7e0181eda",
   "metadata": {},
   "source": [
    "# 15 Variants that are Assoc w R in WHO and Uncertain in ALL"
   ]
  },
  {
   "cell_type": "code",
   "execution_count": 22,
   "id": "baa99767-22b5-4d83-b2e2-ac0946394a35",
   "metadata": {},
   "outputs": [
    {
     "data": {
      "text/plain": [
       "15"
      ]
     },
     "execution_count": 22,
     "metadata": {},
     "output_type": "execute_result"
    }
   ],
   "source": [
    "WHO_AssocR_ALL_Uncertain = results_final.loc[(results_final['Initial confidence grading WHO dataset']=='Assoc w R') & (results_final['Initial confidence grading ALL dataset']=='Uncertain')]\n",
    "\n",
    "WHO_AssocR_ALL_Uncertain['PPV_LB_diff_WHO_ALL'] = WHO_AssocR_ALL_Uncertain['WHO_R_PPV_LB'] - WHO_AssocR_ALL_Uncertain['ALL_R_PPV_LB']\n",
    "\n",
    "len(WHO_AssocR_ALL_Uncertain)"
   ]
  },
  {
   "cell_type": "code",
   "execution_count": 25,
   "id": "7b3b3fb7-50ca-40c3-9347-a95905841113",
   "metadata": {},
   "outputs": [
    {
     "data": {
      "text/plain": [
       "REGRESSION FINAL CONFIDENCE GRADING\n",
       "3) Uncertain significance    15\n",
       "Name: count, dtype: int64"
      ]
     },
     "execution_count": 25,
     "metadata": {},
     "output_type": "execute_result"
    }
   ],
   "source": [
    "WHO_AssocR_ALL_Uncertain['REGRESSION FINAL CONFIDENCE GRADING'].value_counts()"
   ]
  },
  {
   "cell_type": "code",
   "execution_count": 23,
   "id": "f700210c-cd39-412f-9a08-5fffe4849524",
   "metadata": {},
   "outputs": [
    {
     "data": {
      "text/plain": [
       "SOLO INITIAL CONFIDENCE GRADING  SOLO FINAL CONFIDENCE GRADING\n",
       "3) Uncertain significance        2) Assoc w R - Interim           5\n",
       "                                 3) Uncertain significance        5\n",
       "5) Not assoc w R                 4) Not assoc w R - Interim       2\n",
       "1) Assoc w R                     2) Assoc w R - Interim           1\n",
       "2) Assoc w R - Interim           2) Assoc w R - Interim           1\n",
       "3) Uncertain significance        4) Not assoc w R - Interim       1\n",
       "Name: count, dtype: int64"
      ]
     },
     "execution_count": 23,
     "metadata": {},
     "output_type": "execute_result"
    }
   ],
   "source": [
    "WHO_AssocR_ALL_Uncertain[['SOLO INITIAL CONFIDENCE GRADING', 'SOLO FINAL CONFIDENCE GRADING']].value_counts()"
   ]
  },
  {
   "cell_type": "code",
   "execution_count": 52,
   "id": "60e6b6e8-2d9e-4e51-9882-2b0b0a3e9267",
   "metadata": {},
   "outputs": [
    {
     "data": {
      "text/plain": [
       "(11, 69)"
      ]
     },
     "execution_count": 52,
     "metadata": {},
     "output_type": "execute_result"
    }
   ],
   "source": [
    "WHO_AssocR_ALL_Uncertain.query(\"(ALL_BH_pval <= 0.05 & predicted_effect not in @silent_lst) | (ALL_BH_pval <= 0.01 & predicted_effect in @silent_lst)\").shape"
   ]
  },
  {
   "cell_type": "code",
   "execution_count": 54,
   "id": "71b2c9e6-acf4-4402-9bf9-867de5c0345b",
   "metadata": {},
   "outputs": [
    {
     "data": {
      "text/plain": [
       "(7, 69)"
      ]
     },
     "execution_count": 54,
     "metadata": {},
     "output_type": "execute_result"
    }
   ],
   "source": [
    "WHO_AssocR_ALL_Uncertain.query(\"((ALL_BH_pval <= 0.05 & predicted_effect not in @silent_lst) | (ALL_BH_pval <= 0.01 & predicted_effect in @silent_lst)) & ALL_R_PPV_LB < 0.25\").shape"
   ]
  },
  {
   "cell_type": "code",
   "execution_count": 69,
   "id": "a90957cf-da3d-49cd-821d-af5d199f9482",
   "metadata": {},
   "outputs": [
    {
     "data": {
      "text/plain": [
       "array([0.01842252, 0.06080397, 0.09590884, 0.15315811, 0.26316292,\n",
       "       0.58097719, 0.59475568])"
      ]
     },
     "execution_count": 69,
     "metadata": {},
     "output_type": "execute_result"
    }
   ],
   "source": [
    "np.sort(WHO_AssocR_ALL_Uncertain.query(\"((ALL_BH_pval <= 0.05 & predicted_effect not in @silent_lst) | (ALL_BH_pval <= 0.01 & predicted_effect in @silent_lst)) & ALL_R_PPV_LB < 0.25\").PPV_LB_diff_WHO_ALL.values)"
   ]
  },
  {
   "cell_type": "code",
   "execution_count": 71,
   "id": "65b5c3bc-14d2-49a0-afc9-e6fcd95c5d63",
   "metadata": {},
   "outputs": [
    {
     "data": {
      "text/html": [
       "<div>\n",
       "<style scoped>\n",
       "    .dataframe tbody tr th:only-of-type {\n",
       "        vertical-align: middle;\n",
       "    }\n",
       "\n",
       "    .dataframe tbody tr th {\n",
       "        vertical-align: top;\n",
       "    }\n",
       "\n",
       "    .dataframe thead th {\n",
       "        text-align: right;\n",
       "    }\n",
       "</style>\n",
       "<table border=\"1\" class=\"dataframe\">\n",
       "  <thead>\n",
       "    <tr style=\"text-align: right;\">\n",
       "      <th></th>\n",
       "      <th>Drug</th>\n",
       "      <th>mutation</th>\n",
       "      <th>WHO_R_PPV_LB</th>\n",
       "      <th>WHO_R_PPV</th>\n",
       "      <th>WHO_Present_R</th>\n",
       "      <th>WHO_Present_S</th>\n",
       "      <th>ALL_R_PPV_LB</th>\n",
       "      <th>ALL_R_PPV</th>\n",
       "      <th>ALL_Present_R</th>\n",
       "      <th>ALL_Present_S</th>\n",
       "      <th>PPV_LB_diff_WHO_ALL</th>\n",
       "    </tr>\n",
       "  </thead>\n",
       "  <tbody>\n",
       "    <tr>\n",
       "      <th>1091</th>\n",
       "      <td>Bedaquiline</td>\n",
       "      <td>Rv0678_p.Met146Thr</td>\n",
       "      <td>0.715086</td>\n",
       "      <td>1.000000</td>\n",
       "      <td>11.0</td>\n",
       "      <td>0.0</td>\n",
       "      <td>0.120330</td>\n",
       "      <td>0.229167</td>\n",
       "      <td>11.0</td>\n",
       "      <td>37.0</td>\n",
       "      <td>0.594756</td>\n",
       "    </tr>\n",
       "    <tr>\n",
       "      <th>1089</th>\n",
       "      <td>Bedaquiline</td>\n",
       "      <td>mmpS5_c.-74G&gt;T</td>\n",
       "      <td>0.769425</td>\n",
       "      <td>0.914286</td>\n",
       "      <td>32.0</td>\n",
       "      <td>3.0</td>\n",
       "      <td>0.188448</td>\n",
       "      <td>0.264463</td>\n",
       "      <td>32.0</td>\n",
       "      <td>89.0</td>\n",
       "      <td>0.580977</td>\n",
       "    </tr>\n",
       "    <tr>\n",
       "      <th>9184</th>\n",
       "      <td>Ethionamide</td>\n",
       "      <td>ethA_p.Asp396fs</td>\n",
       "      <td>0.421277</td>\n",
       "      <td>0.857143</td>\n",
       "      <td>6.0</td>\n",
       "      <td>1.0</td>\n",
       "      <td>0.158114</td>\n",
       "      <td>1.000000</td>\n",
       "      <td>2.0</td>\n",
       "      <td>0.0</td>\n",
       "      <td>0.263163</td>\n",
       "    </tr>\n",
       "    <tr>\n",
       "      <th>2757</th>\n",
       "      <td>Clofazimine</td>\n",
       "      <td>Rv0678_p.Ile67fs</td>\n",
       "      <td>0.260191</td>\n",
       "      <td>0.500000</td>\n",
       "      <td>9.0</td>\n",
       "      <td>9.0</td>\n",
       "      <td>0.107032</td>\n",
       "      <td>0.212766</td>\n",
       "      <td>10.0</td>\n",
       "      <td>37.0</td>\n",
       "      <td>0.153158</td>\n",
       "    </tr>\n",
       "    <tr>\n",
       "      <th>12398</th>\n",
       "      <td>Kanamycin</td>\n",
       "      <td>whiB7_c.-116A&gt;G</td>\n",
       "      <td>0.317366</td>\n",
       "      <td>0.439394</td>\n",
       "      <td>29.0</td>\n",
       "      <td>37.0</td>\n",
       "      <td>0.221457</td>\n",
       "      <td>0.288235</td>\n",
       "      <td>49.0</td>\n",
       "      <td>121.0</td>\n",
       "      <td>0.095909</td>\n",
       "    </tr>\n",
       "    <tr>\n",
       "      <th>19770</th>\n",
       "      <td>Streptomycin</td>\n",
       "      <td>gid_p.Val65fs</td>\n",
       "      <td>0.283582</td>\n",
       "      <td>0.800000</td>\n",
       "      <td>4.0</td>\n",
       "      <td>1.0</td>\n",
       "      <td>0.222778</td>\n",
       "      <td>0.666667</td>\n",
       "      <td>4.0</td>\n",
       "      <td>2.0</td>\n",
       "      <td>0.060804</td>\n",
       "    </tr>\n",
       "    <tr>\n",
       "      <th>8808</th>\n",
       "      <td>Ethionamide</td>\n",
       "      <td>ethA_p.Trp391*</td>\n",
       "      <td>0.257131</td>\n",
       "      <td>0.476190</td>\n",
       "      <td>10.0</td>\n",
       "      <td>11.0</td>\n",
       "      <td>0.238708</td>\n",
       "      <td>0.400000</td>\n",
       "      <td>14.0</td>\n",
       "      <td>21.0</td>\n",
       "      <td>0.018423</td>\n",
       "    </tr>\n",
       "  </tbody>\n",
       "</table>\n",
       "</div>"
      ],
      "text/plain": [
       "               Drug            mutation  WHO_R_PPV_LB  WHO_R_PPV  \\\n",
       "1091    Bedaquiline  Rv0678_p.Met146Thr      0.715086   1.000000   \n",
       "1089    Bedaquiline      mmpS5_c.-74G>T      0.769425   0.914286   \n",
       "9184    Ethionamide     ethA_p.Asp396fs      0.421277   0.857143   \n",
       "2757    Clofazimine    Rv0678_p.Ile67fs      0.260191   0.500000   \n",
       "12398     Kanamycin     whiB7_c.-116A>G      0.317366   0.439394   \n",
       "19770  Streptomycin       gid_p.Val65fs      0.283582   0.800000   \n",
       "8808    Ethionamide      ethA_p.Trp391*      0.257131   0.476190   \n",
       "\n",
       "       WHO_Present_R  WHO_Present_S  ALL_R_PPV_LB  ALL_R_PPV  ALL_Present_R  \\\n",
       "1091            11.0            0.0      0.120330   0.229167           11.0   \n",
       "1089            32.0            3.0      0.188448   0.264463           32.0   \n",
       "9184             6.0            1.0      0.158114   1.000000            2.0   \n",
       "2757             9.0            9.0      0.107032   0.212766           10.0   \n",
       "12398           29.0           37.0      0.221457   0.288235           49.0   \n",
       "19770            4.0            1.0      0.222778   0.666667            4.0   \n",
       "8808            10.0           11.0      0.238708   0.400000           14.0   \n",
       "\n",
       "       ALL_Present_S  PPV_LB_diff_WHO_ALL  \n",
       "1091            37.0             0.594756  \n",
       "1089            89.0             0.580977  \n",
       "9184             0.0             0.263163  \n",
       "2757            37.0             0.153158  \n",
       "12398          121.0             0.095909  \n",
       "19770            2.0             0.060804  \n",
       "8808            21.0             0.018423  "
      ]
     },
     "execution_count": 71,
     "metadata": {},
     "output_type": "execute_result"
    }
   ],
   "source": [
    "WHO_AssocR_ALL_Uncertain.query(\"((ALL_BH_pval <= 0.05 & predicted_effect not in @silent_lst) | (ALL_BH_pval <= 0.01 & predicted_effect in @silent_lst)) & ALL_R_PPV_LB < 0.25\")[['Drug', 'mutation', 'WHO_R_PPV_LB', 'WHO_R_PPV', 'WHO_Present_R', 'WHO_Present_S', 'ALL_R_PPV_LB', 'ALL_R_PPV', 'ALL_Present_R', 'ALL_Present_S', 'PPV_LB_diff_WHO_ALL']].sort_values('PPV_LB_diff_WHO_ALL', ascending=False)"
   ]
  },
  {
   "cell_type": "markdown",
   "id": "2087e0cd-85ef-4773-9cf8-8e39418b4bbc",
   "metadata": {},
   "source": [
    "# Neutral Variants\n",
    "\n",
    "# 1. ALL Neutral, WHO not Neutral"
   ]
  },
  {
   "cell_type": "code",
   "execution_count": 132,
   "id": "e816926a-e7a9-4a5c-9e1f-b7f19ee4a128",
   "metadata": {},
   "outputs": [
    {
     "name": "stdout",
     "output_type": "stream",
     "text": [
      "28 variants Neutral in WHO only, 53 variants Neutral in ALL only\n"
     ]
    }
   ],
   "source": [
    "regression_neutral = results_final.loc[((results_final['Initial confidence grading WHO dataset']=='Neutral') | (results_final['Initial confidence grading ALL dataset']=='Neutral')) & (results_final['REGRESSION FINAL CONFIDENCE GRADING'].str.contains('Not assoc w R'))]\n",
    "\n",
    "ALL_neutral_only = results_final.loc[(results_final['Initial confidence grading WHO dataset'] != 'Neutral') & (results_final['Initial confidence grading ALL dataset'] == 'Neutral')].dropna(subset='Initial confidence grading WHO dataset')\n",
    "\n",
    "WHO_neutral_only = results_final.loc[(results_final['Initial confidence grading WHO dataset'] == 'Neutral') & (results_final['Initial confidence grading ALL dataset'] != 'Neutral')].dropna(subset='Initial confidence grading ALL dataset')\n",
    "\n",
    "# these should NOT be Neutral: ALL Neutral, but null in WHO, meaning they are absent from the WHO dataset\n",
    "assert len(results_final.loc[(pd.isnull(results_final['Initial confidence grading WHO dataset'])) & (results_final['Initial confidence grading ALL dataset']=='Neutral') & (results_final['REGRESSION FINAL CONFIDENCE GRADING'] != '3) Uncertain significance')]) == 0\n",
    "\n",
    "print(f\"{len(WHO_neutral_only)} variants Neutral in WHO only, {len(ALL_neutral_only)} variants Neutral in ALL only\")"
   ]
  },
  {
   "cell_type": "code",
   "execution_count": 133,
   "id": "efe2487f-4635-47eb-b114-920db8566ff9",
   "metadata": {},
   "outputs": [
    {
     "data": {
      "text/plain": [
       "SOLO FINAL CONFIDENCE GRADING\n",
       "3) Uncertain significance     33\n",
       "4) Not assoc w R - Interim    16\n",
       "5) Not assoc w R               4\n",
       "Name: count, dtype: int64"
      ]
     },
     "execution_count": 133,
     "metadata": {},
     "output_type": "execute_result"
    }
   ],
   "source": [
    "ALL_neutral_only['SOLO FINAL CONFIDENCE GRADING'].value_counts()"
   ]
  },
  {
   "cell_type": "markdown",
   "id": "921b53e5-48ee-4dd1-986a-8e13fdde8973",
   "metadata": {},
   "source": [
    "# Do any Neutral Variants have Significant MIC associations?\n",
    "\n",
    "## Not necessarily problematic, the MIC coefficient could reflect an association within the susceptible range"
   ]
  },
  {
   "cell_type": "code",
   "execution_count": 2,
   "id": "15ad4392-5827-4a46-b7e4-b6491e2029ed",
   "metadata": {},
   "outputs": [
    {
     "ename": "NameError",
     "evalue": "name 'regression_neutral' is not defined",
     "output_type": "error",
     "traceback": [
      "\u001b[0;31m---------------------------------------------------------------------------\u001b[0m",
      "\u001b[0;31mNameError\u001b[0m                                 Traceback (most recent call last)",
      "Cell \u001b[0;32mIn[2], line 3\u001b[0m\n\u001b[1;32m      1\u001b[0m MIC_results \u001b[38;5;241m=\u001b[39m pd\u001b[38;5;241m.\u001b[39mread_csv(\u001b[38;5;124m\"\u001b[39m\u001b[38;5;124m../tables/MIC_results.csv\u001b[39m\u001b[38;5;124m\"\u001b[39m)\n\u001b[0;32m----> 3\u001b[0m regression_neutral_withMIC \u001b[38;5;241m=\u001b[39m \u001b[43mregression_neutral\u001b[49m\u001b[38;5;241m.\u001b[39mmerge(MIC_results, on\u001b[38;5;241m=\u001b[39m[\u001b[38;5;124m'\u001b[39m\u001b[38;5;124mDrug\u001b[39m\u001b[38;5;124m'\u001b[39m, \u001b[38;5;124m'\u001b[39m\u001b[38;5;124mmutation\u001b[39m\u001b[38;5;124m'\u001b[39m])\n\u001b[1;32m      4\u001b[0m \u001b[38;5;28mprint\u001b[39m(regression_neutral_withMIC\u001b[38;5;241m.\u001b[39mshape)\n\u001b[1;32m      6\u001b[0m \u001b[38;5;66;03m# no\u001b[39;00m\n",
      "\u001b[0;31mNameError\u001b[0m: name 'regression_neutral' is not defined"
     ]
    }
   ],
   "source": [
    "MIC_results = pd.read_csv(\"../tables/MIC_results.csv\")\n",
    "\n",
    "regression_neutral_withMIC = regression_neutral.merge(MIC_results, on=['Drug', 'mutation'])\n",
    "print(regression_neutral_withMIC.shape)\n",
    "\n",
    "# no\n",
    "print(len(regression_neutral_withMIC.query(\"MIC_BH_pval <= 0.05\")))"
   ]
  },
  {
   "cell_type": "code",
   "execution_count": 135,
   "id": "baeaf17f-90b4-4fa3-8cc0-ad986d80ced6",
   "metadata": {},
   "outputs": [
    {
     "data": {
      "text/html": [
       "<div>\n",
       "<style scoped>\n",
       "    .dataframe tbody tr th:only-of-type {\n",
       "        vertical-align: middle;\n",
       "    }\n",
       "\n",
       "    .dataframe tbody tr th {\n",
       "        vertical-align: top;\n",
       "    }\n",
       "\n",
       "    .dataframe thead th {\n",
       "        text-align: right;\n",
       "    }\n",
       "</style>\n",
       "<table border=\"1\" class=\"dataframe\">\n",
       "  <thead>\n",
       "    <tr style=\"text-align: right;\">\n",
       "      <th></th>\n",
       "      <th>Drug</th>\n",
       "      <th>mutation</th>\n",
       "      <th>MIC_coef</th>\n",
       "      <th>MIC_BH_pval</th>\n",
       "      <th>WHO_Odds_Ratio</th>\n",
       "      <th>WHO_BH_pval</th>\n",
       "      <th>WHO_BH_neutral_pval</th>\n",
       "      <th>WHO_Present_SR</th>\n",
       "      <th>ALL_Odds_Ratio</th>\n",
       "      <th>ALL_BH_pval</th>\n",
       "      <th>ALL_BH_neutral_pval</th>\n",
       "      <th>ALL_Present_S</th>\n",
       "      <th>ALL_Present_R</th>\n",
       "    </tr>\n",
       "  </thead>\n",
       "  <tbody>\n",
       "    <tr>\n",
       "      <th>7</th>\n",
       "      <td>Clofazimine</td>\n",
       "      <td>Rv1979c_c.-129A&gt;G</td>\n",
       "      <td>0.042054</td>\n",
       "      <td>0.000000</td>\n",
       "      <td>1.003998</td>\n",
       "      <td>0.97375</td>\n",
       "      <td>0.048553</td>\n",
       "      <td>4868.0</td>\n",
       "      <td>1.025454</td>\n",
       "      <td>0.882918</td>\n",
       "      <td>0.751148</td>\n",
       "      <td>13818.0</td>\n",
       "      <td>617.0</td>\n",
       "    </tr>\n",
       "    <tr>\n",
       "      <th>55</th>\n",
       "      <td>Linezolid</td>\n",
       "      <td>rrl_n.2779A&gt;G</td>\n",
       "      <td>0.026713</td>\n",
       "      <td>0.014727</td>\n",
       "      <td>0.984404</td>\n",
       "      <td>0.99300</td>\n",
       "      <td>0.000000</td>\n",
       "      <td>4.0</td>\n",
       "      <td>0.987573</td>\n",
       "      <td>0.989000</td>\n",
       "      <td>0.000000</td>\n",
       "      <td>6.0</td>\n",
       "      <td>0.0</td>\n",
       "    </tr>\n",
       "  </tbody>\n",
       "</table>\n",
       "</div>"
      ],
      "text/plain": [
       "           Drug           mutation  MIC_coef  MIC_BH_pval  WHO_Odds_Ratio  \\\n",
       "7   Clofazimine  Rv1979c_c.-129A>G  0.042054     0.000000        1.003998   \n",
       "55    Linezolid      rrl_n.2779A>G  0.026713     0.014727        0.984404   \n",
       "\n",
       "    WHO_BH_pval  WHO_BH_neutral_pval  WHO_Present_SR  ALL_Odds_Ratio  \\\n",
       "7       0.97375             0.048553          4868.0        1.025454   \n",
       "55      0.99300             0.000000             4.0        0.987573   \n",
       "\n",
       "    ALL_BH_pval  ALL_BH_neutral_pval  ALL_Present_S  ALL_Present_R  \n",
       "7      0.882918             0.751148        13818.0          617.0  \n",
       "55     0.989000             0.000000            6.0            0.0  "
      ]
     },
     "execution_count": 135,
     "metadata": {},
     "output_type": "execute_result"
    }
   ],
   "source": [
    "regression_neutral_withMIC.query(\"MIC_BH_pval <= 0.05\")[['Drug', 'mutation', 'MIC_coef', 'MIC_BH_pval', 'WHO_Odds_Ratio', 'WHO_BH_pval', 'WHO_BH_neutral_pval', 'WHO_Present_SR', 'ALL_Odds_Ratio', 'ALL_BH_pval', 'ALL_BH_neutral_pval', 'ALL_Present_S', 'ALL_Present_R']]"
   ]
  },
  {
   "cell_type": "markdown",
   "id": "a0a95c78-13fe-481c-9258-c099ffb5fff9",
   "metadata": {},
   "source": [
    "# SOLO Not assoc w R, Regression Uncertain "
   ]
  },
  {
   "cell_type": "code",
   "execution_count": 136,
   "id": "03efa3e0-db72-4d93-860e-54526e047178",
   "metadata": {},
   "outputs": [
    {
     "name": "stdout",
     "output_type": "stream",
     "text": [
      "228 mutations Groups 4-5 by SOLO, Group 3 by Regression\n"
     ]
    }
   ],
   "source": [
    "SOLO_notAssoc_regression_uncertain = results_final.loc[(results_final['REGRESSION FINAL CONFIDENCE GRADING']=='3) Uncertain significance') & (results_final['SOLO INITIAL CONFIDENCE GRADING'].str.contains('Not assoc w R'))]\n",
    "\n",
    "print(f\"{len(SOLO_notAssoc_regression_uncertain)} mutations Groups 4-5 by SOLO, Group 3 by Regression\")"
   ]
  },
  {
   "cell_type": "code",
   "execution_count": 137,
   "id": "b4ecb273-200f-49fb-830e-600717a18c24",
   "metadata": {},
   "outputs": [
    {
     "name": "stdout",
     "output_type": "stream",
     "text": [
      "54/228 mutations were not graded\n"
     ]
    }
   ],
   "source": [
    "SOLO_notAssoc_regression_uncertain_ungraded = SOLO_notAssoc_regression_uncertain.query(\"Reason=='Not Graded'\")\n",
    "\n",
    "SOLO_notAssoc_regression_uncertain_graded = SOLO_notAssoc_regression_uncertain.query(\"Reason != 'Not Graded'\") #who_variants.merge(SOLO_notAssoc_regression_uncertain.query(\"Reason != 'Not Graded'\").rename(columns={'Drug': 'drug', 'mutation': 'variant'})[['drug', 'variant']])\n",
    "\n",
    "print(f\"{len(SOLO_notAssoc_regression_uncertain_ungraded)}/{len(SOLO_notAssoc_regression_uncertain)} mutations were not graded\")"
   ]
  },
  {
   "cell_type": "code",
   "execution_count": 138,
   "id": "2e6222bd-aceb-4446-bfc9-e8bbb1f9785b",
   "metadata": {},
   "outputs": [
    {
     "data": {
      "text/plain": [
       "(26, 67)"
      ]
     },
     "execution_count": 138,
     "metadata": {},
     "output_type": "execute_result"
    }
   ],
   "source": [
    "SOLO_notAssoc_regression_uncertain_graded.query(\"ALL_Present_SR < 5\").shape"
   ]
  },
  {
   "cell_type": "code",
   "execution_count": 139,
   "id": "fb03d65e-2bf2-4ca6-b92d-fbfe073d0f00",
   "metadata": {},
   "outputs": [
    {
     "data": {
      "text/plain": [
       "(32, 67)"
      ]
     },
     "execution_count": 139,
     "metadata": {},
     "output_type": "execute_result"
    }
   ],
   "source": [
    "SOLO_notAssoc_regression_uncertain_graded.query(\"ALL_Present_SR < 10\").shape"
   ]
  },
  {
   "cell_type": "code",
   "execution_count": 140,
   "id": "415f5236-b40e-4dae-b2ae-1fee0bac5c19",
   "metadata": {},
   "outputs": [
    {
     "data": {
      "text/plain": [
       "(16, 67)"
      ]
     },
     "execution_count": 140,
     "metadata": {},
     "output_type": "execute_result"
    }
   ],
   "source": [
    "SOLO_notAssoc_regression_uncertain_graded.query(\"ALL_Present_SR < 5 & ALL_BH_neutral_pval <= 0.05\").shape"
   ]
  },
  {
   "cell_type": "markdown",
   "id": "18500286-de5e-41e0-b212-e4bb0a635f5c",
   "metadata": {},
   "source": [
    "## 7 variants are marginally significant with OR < 1, p-value in (0.1, 0.5]\n",
    "\n",
    "## all are synonymous variants"
   ]
  },
  {
   "cell_type": "code",
   "execution_count": 141,
   "id": "62f9b589-83c1-407c-90a5-53596a132981",
   "metadata": {},
   "outputs": [
    {
     "data": {
      "text/plain": [
       "(7, 13)"
      ]
     },
     "execution_count": 141,
     "metadata": {},
     "output_type": "execute_result"
    }
   ],
   "source": [
    "SOLO_notAssoc_regression_uncertain_graded.query(\"(WHO_Odds_Ratio < 1 & WHO_BH_pval <= 0.05) | (ALL_Odds_Ratio < 1 & ALL_BH_pval <= 0.05)\")[['Drug', 'mutation', 'WHO_Odds_Ratio', 'WHO_BH_pval', 'WHO_S_PPV_LB', 'WHO_Present_SR', 'ALL_Odds_Ratio', 'ALL_BH_pval', 'ALL_S_PPV_LB', 'ALL_Present_SR', 'Initial confidence grading WHO dataset', 'Initial confidence grading ALL dataset', 'REGRESSION FINAL CONFIDENCE GRADING']].shape"
   ]
  },
  {
   "cell_type": "code",
   "execution_count": 142,
   "id": "d8018cea-9021-43c9-8d34-2ba25582acf9",
   "metadata": {},
   "outputs": [
    {
     "data": {
      "text/plain": [
       "array(['synonymous_variant'], dtype=object)"
      ]
     },
     "execution_count": 142,
     "metadata": {},
     "output_type": "execute_result"
    }
   ],
   "source": [
    "SOLO_notAssoc_regression_uncertain_graded.query(\"(WHO_Odds_Ratio < 1 & WHO_BH_pval <= 0.05) | (ALL_Odds_Ratio < 1 & ALL_BH_pval <= 0.05)\").predicted_effect.unique()"
   ]
  },
  {
   "cell_type": "code",
   "execution_count": 143,
   "id": "28c1c5d6-4f99-478d-a00b-7f995eac73c8",
   "metadata": {},
   "outputs": [
    {
     "data": {
      "text/html": [
       "<div>\n",
       "<style scoped>\n",
       "    .dataframe tbody tr th:only-of-type {\n",
       "        vertical-align: middle;\n",
       "    }\n",
       "\n",
       "    .dataframe tbody tr th {\n",
       "        vertical-align: top;\n",
       "    }\n",
       "\n",
       "    .dataframe thead th {\n",
       "        text-align: right;\n",
       "    }\n",
       "</style>\n",
       "<table border=\"1\" class=\"dataframe\">\n",
       "  <thead>\n",
       "    <tr style=\"text-align: right;\">\n",
       "      <th></th>\n",
       "      <th>drug</th>\n",
       "      <th>variant</th>\n",
       "      <th>WHO_Odds_Ratio</th>\n",
       "      <th>WHO_BH_pval</th>\n",
       "      <th>ALL_Odds_Ratio</th>\n",
       "      <th>ALL_BH_pval</th>\n",
       "      <th>ALL_Present_S</th>\n",
       "      <th>ALL_Present_R</th>\n",
       "      <th>WHO_PPV_ub</th>\n",
       "      <th>ALL_PPV_ub</th>\n",
       "      <th>WHO_setB</th>\n",
       "      <th>WHO_setC</th>\n",
       "      <th>WHO_setD1</th>\n",
       "      <th>WHO_setD2</th>\n",
       "    </tr>\n",
       "  </thead>\n",
       "  <tbody>\n",
       "    <tr>\n",
       "      <th>0</th>\n",
       "      <td>Amikacin</td>\n",
       "      <td>eis_c.-10G&gt;A</td>\n",
       "      <td>1.031197</td>\n",
       "      <td>0.583333</td>\n",
       "      <td>1.074510</td>\n",
       "      <td>0.011377</td>\n",
       "      <td>369.0</td>\n",
       "      <td>22.0</td>\n",
       "      <td>8.30%</td>\n",
       "      <td>8.40%</td>\n",
       "      <td>1.0</td>\n",
       "      <td>1.0</td>\n",
       "      <td>0.0</td>\n",
       "      <td>0.0</td>\n",
       "    </tr>\n",
       "    <tr>\n",
       "      <th>1</th>\n",
       "      <td>Amikacin</td>\n",
       "      <td>eis_c.-12C&gt;T</td>\n",
       "      <td>0.970624</td>\n",
       "      <td>0.742642</td>\n",
       "      <td>1.031827</td>\n",
       "      <td>0.665283</td>\n",
       "      <td>917.0</td>\n",
       "      <td>64.0</td>\n",
       "      <td>8.79%</td>\n",
       "      <td>8.25%</td>\n",
       "      <td>1.0</td>\n",
       "      <td>1.0</td>\n",
       "      <td>0.0</td>\n",
       "      <td>0.0</td>\n",
       "    </tr>\n",
       "    <tr>\n",
       "      <th>2</th>\n",
       "      <td>Amikacin</td>\n",
       "      <td>eis_p.Val163Ile</td>\n",
       "      <td>1.018560</td>\n",
       "      <td>0.896000</td>\n",
       "      <td>1.022127</td>\n",
       "      <td>0.924328</td>\n",
       "      <td>711.0</td>\n",
       "      <td>53.0</td>\n",
       "      <td>10.54%</td>\n",
       "      <td>8.98%</td>\n",
       "      <td>1.0</td>\n",
       "      <td>1.0</td>\n",
       "      <td>0.0</td>\n",
       "      <td>0.0</td>\n",
       "    </tr>\n",
       "    <tr>\n",
       "      <th>3</th>\n",
       "      <td>Amikacin</td>\n",
       "      <td>rrs_n.492C&gt;T</td>\n",
       "      <td>0.982933</td>\n",
       "      <td>0.896000</td>\n",
       "      <td>0.958186</td>\n",
       "      <td>0.924328</td>\n",
       "      <td>785.0</td>\n",
       "      <td>12.0</td>\n",
       "      <td>3.73%</td>\n",
       "      <td>2.62%</td>\n",
       "      <td>1.0</td>\n",
       "      <td>1.0</td>\n",
       "      <td>0.0</td>\n",
       "      <td>0.0</td>\n",
       "    </tr>\n",
       "    <tr>\n",
       "      <th>4</th>\n",
       "      <td>Amikacin</td>\n",
       "      <td>rrs_n.514A&gt;C</td>\n",
       "      <td>1.086014</td>\n",
       "      <td>0.090435</td>\n",
       "      <td>1.079965</td>\n",
       "      <td>0.022032</td>\n",
       "      <td>577.0</td>\n",
       "      <td>329.0</td>\n",
       "      <td>34.26%</td>\n",
       "      <td>39.54%</td>\n",
       "      <td>1.0</td>\n",
       "      <td>1.0</td>\n",
       "      <td>0.0</td>\n",
       "      <td>0.0</td>\n",
       "    </tr>\n",
       "    <tr>\n",
       "      <th>...</th>\n",
       "      <td>...</td>\n",
       "      <td>...</td>\n",
       "      <td>...</td>\n",
       "      <td>...</td>\n",
       "      <td>...</td>\n",
       "      <td>...</td>\n",
       "      <td>...</td>\n",
       "      <td>...</td>\n",
       "      <td>...</td>\n",
       "      <td>...</td>\n",
       "      <td>...</td>\n",
       "      <td>...</td>\n",
       "      <td>...</td>\n",
       "      <td>...</td>\n",
       "    </tr>\n",
       "    <tr>\n",
       "      <th>136</th>\n",
       "      <td>Streptomycin</td>\n",
       "      <td>rpsL_c.-125G&gt;C</td>\n",
       "      <td>0.987502</td>\n",
       "      <td>0.571079</td>\n",
       "      <td>1.005987</td>\n",
       "      <td>0.631913</td>\n",
       "      <td>84.0</td>\n",
       "      <td>40.0</td>\n",
       "      <td>20.35%</td>\n",
       "      <td>41.24%</td>\n",
       "      <td>1.0</td>\n",
       "      <td>1.0</td>\n",
       "      <td>0.0</td>\n",
       "      <td>0.0</td>\n",
       "    </tr>\n",
       "    <tr>\n",
       "      <th>137</th>\n",
       "      <td>Streptomycin</td>\n",
       "      <td>rrs_n.492C&gt;T</td>\n",
       "      <td>0.963921</td>\n",
       "      <td>0.410257</td>\n",
       "      <td>1.007857</td>\n",
       "      <td>0.631913</td>\n",
       "      <td>571.0</td>\n",
       "      <td>81.0</td>\n",
       "      <td>13.42%</td>\n",
       "      <td>15.20%</td>\n",
       "      <td>0.0</td>\n",
       "      <td>0.0</td>\n",
       "      <td>0.0</td>\n",
       "      <td>0.0</td>\n",
       "    </tr>\n",
       "    <tr>\n",
       "      <th>138</th>\n",
       "      <td>Streptomycin</td>\n",
       "      <td>Rv1258c_p.Glu194fs</td>\n",
       "      <td>1.005222</td>\n",
       "      <td>0.634835</td>\n",
       "      <td>0.955778</td>\n",
       "      <td>0.408522</td>\n",
       "      <td>3296.0</td>\n",
       "      <td>5120.0</td>\n",
       "      <td>63.23%</td>\n",
       "      <td>61.88%</td>\n",
       "      <td>1.0</td>\n",
       "      <td>1.0</td>\n",
       "      <td>0.0</td>\n",
       "      <td>0.0</td>\n",
       "    </tr>\n",
       "    <tr>\n",
       "      <th>139</th>\n",
       "      <td>Streptomycin</td>\n",
       "      <td>whiB7_c.-100T&gt;C</td>\n",
       "      <td>1.016152</td>\n",
       "      <td>0.500737</td>\n",
       "      <td>1.018207</td>\n",
       "      <td>0.439115</td>\n",
       "      <td>135.0</td>\n",
       "      <td>84.0</td>\n",
       "      <td>34.48%</td>\n",
       "      <td>45.15%</td>\n",
       "      <td>1.0</td>\n",
       "      <td>1.0</td>\n",
       "      <td>0.0</td>\n",
       "      <td>0.0</td>\n",
       "    </tr>\n",
       "    <tr>\n",
       "      <th>140</th>\n",
       "      <td>Streptomycin</td>\n",
       "      <td>whiB7_c.-242G&gt;C</td>\n",
       "      <td>0.977199</td>\n",
       "      <td>0.296244</td>\n",
       "      <td>0.974847</td>\n",
       "      <td>0.108138</td>\n",
       "      <td>93.0</td>\n",
       "      <td>10.0</td>\n",
       "      <td>19.15%</td>\n",
       "      <td>17.13%</td>\n",
       "      <td>0.0</td>\n",
       "      <td>0.0</td>\n",
       "      <td>0.0</td>\n",
       "      <td>1.0</td>\n",
       "    </tr>\n",
       "  </tbody>\n",
       "</table>\n",
       "<p>141 rows × 14 columns</p>\n",
       "</div>"
      ],
      "text/plain": [
       "             drug             variant  WHO_Odds_Ratio  WHO_BH_pval  \\\n",
       "0        Amikacin        eis_c.-10G>A        1.031197     0.583333   \n",
       "1        Amikacin        eis_c.-12C>T        0.970624     0.742642   \n",
       "2        Amikacin     eis_p.Val163Ile        1.018560     0.896000   \n",
       "3        Amikacin        rrs_n.492C>T        0.982933     0.896000   \n",
       "4        Amikacin        rrs_n.514A>C        1.086014     0.090435   \n",
       "..            ...                 ...             ...          ...   \n",
       "136  Streptomycin      rpsL_c.-125G>C        0.987502     0.571079   \n",
       "137  Streptomycin        rrs_n.492C>T        0.963921     0.410257   \n",
       "138  Streptomycin  Rv1258c_p.Glu194fs        1.005222     0.634835   \n",
       "139  Streptomycin     whiB7_c.-100T>C        1.016152     0.500737   \n",
       "140  Streptomycin     whiB7_c.-242G>C        0.977199     0.296244   \n",
       "\n",
       "     ALL_Odds_Ratio  ALL_BH_pval  ALL_Present_S  ALL_Present_R WHO_PPV_ub  \\\n",
       "0          1.074510     0.011377          369.0           22.0      8.30%   \n",
       "1          1.031827     0.665283          917.0           64.0      8.79%   \n",
       "2          1.022127     0.924328          711.0           53.0     10.54%   \n",
       "3          0.958186     0.924328          785.0           12.0      3.73%   \n",
       "4          1.079965     0.022032          577.0          329.0     34.26%   \n",
       "..              ...          ...            ...            ...        ...   \n",
       "136        1.005987     0.631913           84.0           40.0     20.35%   \n",
       "137        1.007857     0.631913          571.0           81.0     13.42%   \n",
       "138        0.955778     0.408522         3296.0         5120.0     63.23%   \n",
       "139        1.018207     0.439115          135.0           84.0     34.48%   \n",
       "140        0.974847     0.108138           93.0           10.0     19.15%   \n",
       "\n",
       "    ALL_PPV_ub  WHO_setB  WHO_setC  WHO_setD1  WHO_setD2  \n",
       "0        8.40%       1.0       1.0        0.0        0.0  \n",
       "1        8.25%       1.0       1.0        0.0        0.0  \n",
       "2        8.98%       1.0       1.0        0.0        0.0  \n",
       "3        2.62%       1.0       1.0        0.0        0.0  \n",
       "4       39.54%       1.0       1.0        0.0        0.0  \n",
       "..         ...       ...       ...        ...        ...  \n",
       "136     41.24%       1.0       1.0        0.0        0.0  \n",
       "137     15.20%       0.0       0.0        0.0        0.0  \n",
       "138     61.88%       1.0       1.0        0.0        0.0  \n",
       "139     45.15%       1.0       1.0        0.0        0.0  \n",
       "140     17.13%       0.0       0.0        0.0        1.0  \n",
       "\n",
       "[141 rows x 14 columns]"
      ]
     },
     "execution_count": 143,
     "metadata": {},
     "output_type": "execute_result"
    }
   ],
   "source": [
    "# 139 remaining that meet the SOLO Neutral criterion but don't meet regression criteria for grading\n",
    "df_search = SOLO_notAssoc_regression_uncertain_graded.query(\"ALL_Present_SR >= 5 & ~((WHO_Odds_Ratio < 1 & WHO_BH_pval <= 0.05) | (ALL_Odds_Ratio < 1 & ALL_BH_pval <= 0.05))\")[['mutation', 'Drug', 'WHO_Odds_Ratio', 'WHO_BH_pval', 'ALL_Odds_Ratio', 'ALL_BH_pval']].rename(columns={'mutation': 'variant', 'Drug': 'drug'})\n",
    "\n",
    "who_variants.merge(df_search)[['drug', 'variant', 'WHO_Odds_Ratio', 'WHO_BH_pval', 'ALL_Odds_Ratio', 'ALL_BH_pval', 'ALL_Present_S', 'ALL_Present_R', 'WHO_PPV_ub', 'ALL_PPV_ub',  'WHO_setB',\n",
    " 'WHO_setC',\n",
    " 'WHO_setD1',\n",
    " 'WHO_setD2']]"
   ]
  },
  {
   "cell_type": "code",
   "execution_count": 144,
   "id": "f2764c4b-03f4-4a37-8325-6717dc585433",
   "metadata": {},
   "outputs": [
    {
     "data": {
      "text/plain": [
       "228"
      ]
     },
     "execution_count": 144,
     "metadata": {},
     "output_type": "execute_result"
    }
   ],
   "source": [
    "# total\n",
    "141+7+26+54"
   ]
  },
  {
   "cell_type": "markdown",
   "id": "6aca97a8-7f92-4bd1-8fbd-1a226f1c7820",
   "metadata": {},
   "source": [
    "# Not assoc w R by Literature"
   ]
  },
  {
   "cell_type": "code",
   "execution_count": 145,
   "id": "683de1b0-5120-4b40-9f11-98d16eb4b359",
   "metadata": {},
   "outputs": [
    {
     "name": "stdout",
     "output_type": "stream",
     "text": [
      "28\n",
      "REGRESSION FINAL CONFIDENCE GRADING\n",
      "3) Uncertain significance     27\n",
      "4) Not assoc w R - Interim     1\n",
      "Name: count, dtype: int64\n"
     ]
    }
   ],
   "source": [
    "not_assocR_literature = not_assocR_literature.merge(results_final, how='inner')\n",
    "print(len(not_assocR_literature))\n",
    "print(not_assocR_literature['REGRESSION FINAL CONFIDENCE GRADING'].value_counts())"
   ]
  },
  {
   "cell_type": "code",
   "execution_count": 155,
   "id": "faebba4a-86d8-4046-8f0b-76e7fad700b3",
   "metadata": {},
   "outputs": [
    {
     "data": {
      "text/html": [
       "<div>\n",
       "<style scoped>\n",
       "    .dataframe tbody tr th:only-of-type {\n",
       "        vertical-align: middle;\n",
       "    }\n",
       "\n",
       "    .dataframe tbody tr th {\n",
       "        vertical-align: top;\n",
       "    }\n",
       "\n",
       "    .dataframe thead th {\n",
       "        text-align: right;\n",
       "    }\n",
       "</style>\n",
       "<table border=\"1\" class=\"dataframe\">\n",
       "  <thead>\n",
       "    <tr style=\"text-align: right;\">\n",
       "      <th></th>\n",
       "      <th>Drug</th>\n",
       "      <th>mutation</th>\n",
       "      <th>gene</th>\n",
       "      <th>predicted_effect</th>\n",
       "      <th>WHO_Odds_Ratio</th>\n",
       "      <th>WHO_pval</th>\n",
       "      <th>WHO_BH_pval</th>\n",
       "      <th>WHO_neutral_pval</th>\n",
       "      <th>WHO_BH_neutral_pval</th>\n",
       "      <th>WHO_LRT_pval</th>\n",
       "      <th>...</th>\n",
       "      <th>ALL_Spec_LB</th>\n",
       "      <th>ALL_Spec_UB</th>\n",
       "      <th>Initial confidence grading ALL dataset</th>\n",
       "      <th>REGRESSION FINAL CONFIDENCE GRADING</th>\n",
       "      <th>Reason</th>\n",
       "      <th>SOLO INITIAL CONFIDENCE GRADING</th>\n",
       "      <th>SOLO FINAL CONFIDENCE GRADING</th>\n",
       "      <th>REGRESSION GRADING + LOF UPGRADE</th>\n",
       "      <th>REGRESSION + GRADING RULES</th>\n",
       "      <th>variant_category</th>\n",
       "    </tr>\n",
       "  </thead>\n",
       "  <tbody>\n",
       "    <tr>\n",
       "      <th>0</th>\n",
       "      <td>Amikacin</td>\n",
       "      <td>whiB7_c.-178C&gt;T</td>\n",
       "      <td>whiB7</td>\n",
       "      <td>upstream_gene_variant</td>\n",
       "      <td>0.958454</td>\n",
       "      <td>0.246</td>\n",
       "      <td>0.742642</td>\n",
       "      <td>0.670</td>\n",
       "      <td>0.871545</td>\n",
       "      <td>7.246318e-01</td>\n",
       "      <td>...</td>\n",
       "      <td>0.993913</td>\n",
       "      <td>0.995868</td>\n",
       "      <td>Uncertain</td>\n",
       "      <td>3) Uncertain significance</td>\n",
       "      <td>Both Uncertain</td>\n",
       "      <td>5) Not assoc w R</td>\n",
       "      <td>4) Not assoc w R - Interim</td>\n",
       "      <td>3) Uncertain significance</td>\n",
       "      <td>3) Uncertain significance</td>\n",
       "      <td>c.-178C&gt;T</td>\n",
       "    </tr>\n",
       "    <tr>\n",
       "      <th>1</th>\n",
       "      <td>Bedaquiline</td>\n",
       "      <td>mmpL5_p.Ile948Val</td>\n",
       "      <td>mmpL5</td>\n",
       "      <td>missense_variant</td>\n",
       "      <td>0.948618</td>\n",
       "      <td>0.119</td>\n",
       "      <td>0.210974</td>\n",
       "      <td>0.753</td>\n",
       "      <td>1.000000</td>\n",
       "      <td>2.755944e-01</td>\n",
       "      <td>...</td>\n",
       "      <td>0.003131</td>\n",
       "      <td>0.005432</td>\n",
       "      <td>Uncertain</td>\n",
       "      <td>3) Uncertain significance</td>\n",
       "      <td>Both Uncertain</td>\n",
       "      <td>5) Not assoc w R</td>\n",
       "      <td>4) Not assoc w R - Interim</td>\n",
       "      <td>3) Uncertain significance</td>\n",
       "      <td>3) Uncertain significance</td>\n",
       "      <td>p.Ile948Val</td>\n",
       "    </tr>\n",
       "    <tr>\n",
       "      <th>2</th>\n",
       "      <td>Bedaquiline</td>\n",
       "      <td>mmpL5_p.Thr794Ile</td>\n",
       "      <td>mmpL5</td>\n",
       "      <td>missense_variant</td>\n",
       "      <td>1.145619</td>\n",
       "      <td>0.000</td>\n",
       "      <td>0.000000</td>\n",
       "      <td>1.000</td>\n",
       "      <td>1.000000</td>\n",
       "      <td>1.317292e-01</td>\n",
       "      <td>...</td>\n",
       "      <td>0.464525</td>\n",
       "      <td>0.481791</td>\n",
       "      <td>Uncertain</td>\n",
       "      <td>3) Uncertain significance</td>\n",
       "      <td>Both Uncertain</td>\n",
       "      <td>5) Not assoc w R</td>\n",
       "      <td>4) Not assoc w R - Interim</td>\n",
       "      <td>3) Uncertain significance</td>\n",
       "      <td>3) Uncertain significance</td>\n",
       "      <td>p.Thr794Ile</td>\n",
       "    </tr>\n",
       "    <tr>\n",
       "      <th>3</th>\n",
       "      <td>Bedaquiline</td>\n",
       "      <td>mmpS5_c.-74G&gt;T</td>\n",
       "      <td>mmpS5</td>\n",
       "      <td>upstream_gene_variant</td>\n",
       "      <td>1.394573</td>\n",
       "      <td>0.000</td>\n",
       "      <td>0.000000</td>\n",
       "      <td>1.000</td>\n",
       "      <td>1.000000</td>\n",
       "      <td>3.124144e-14</td>\n",
       "      <td>...</td>\n",
       "      <td>0.991557</td>\n",
       "      <td>0.994482</td>\n",
       "      <td>Uncertain</td>\n",
       "      <td>3) Uncertain significance</td>\n",
       "      <td>Downgrade to Uncertain</td>\n",
       "      <td>5) Not assoc w R</td>\n",
       "      <td>4) Not assoc w R - Interim</td>\n",
       "      <td>3) Uncertain significance</td>\n",
       "      <td>3) Uncertain significance</td>\n",
       "      <td>c.-74G&gt;T</td>\n",
       "    </tr>\n",
       "    <tr>\n",
       "      <th>4</th>\n",
       "      <td>Ethambutol</td>\n",
       "      <td>embA_p.Ala813Gly</td>\n",
       "      <td>embA</td>\n",
       "      <td>missense_variant</td>\n",
       "      <td>1.019164</td>\n",
       "      <td>0.019</td>\n",
       "      <td>0.180910</td>\n",
       "      <td>0.948</td>\n",
       "      <td>1.000000</td>\n",
       "      <td>9.031229e-01</td>\n",
       "      <td>...</td>\n",
       "      <td>0.997956</td>\n",
       "      <td>0.998817</td>\n",
       "      <td>Uncertain</td>\n",
       "      <td>3) Uncertain significance</td>\n",
       "      <td>Both Uncertain</td>\n",
       "      <td>5) Not assoc w R</td>\n",
       "      <td>4) Not assoc w R - Interim</td>\n",
       "      <td>3) Uncertain significance</td>\n",
       "      <td>3) Uncertain significance</td>\n",
       "      <td>p.Ala813Gly</td>\n",
       "    </tr>\n",
       "    <tr>\n",
       "      <th>5</th>\n",
       "      <td>Ethambutol</td>\n",
       "      <td>embA_p.Pro639Ser</td>\n",
       "      <td>embA</td>\n",
       "      <td>missense_variant</td>\n",
       "      <td>1.008050</td>\n",
       "      <td>0.241</td>\n",
       "      <td>0.839147</td>\n",
       "      <td>0.096</td>\n",
       "      <td>0.174206</td>\n",
       "      <td>7.817524e-01</td>\n",
       "      <td>...</td>\n",
       "      <td>0.997859</td>\n",
       "      <td>0.998742</td>\n",
       "      <td>Uncertain</td>\n",
       "      <td>3) Uncertain significance</td>\n",
       "      <td>Both Uncertain</td>\n",
       "      <td>5) Not assoc w R</td>\n",
       "      <td>4) Not assoc w R - Interim</td>\n",
       "      <td>3) Uncertain significance</td>\n",
       "      <td>3) Uncertain significance</td>\n",
       "      <td>p.Pro639Ser</td>\n",
       "    </tr>\n",
       "    <tr>\n",
       "      <th>6</th>\n",
       "      <td>Ethambutol</td>\n",
       "      <td>embA_p.Val468Ala</td>\n",
       "      <td>embA</td>\n",
       "      <td>missense_variant</td>\n",
       "      <td>1.034910</td>\n",
       "      <td>0.298</td>\n",
       "      <td>0.839147</td>\n",
       "      <td>0.461</td>\n",
       "      <td>0.615681</td>\n",
       "      <td>6.293708e-01</td>\n",
       "      <td>...</td>\n",
       "      <td>0.997859</td>\n",
       "      <td>0.998742</td>\n",
       "      <td>Uncertain</td>\n",
       "      <td>3) Uncertain significance</td>\n",
       "      <td>Both Uncertain</td>\n",
       "      <td>5) Not assoc w R</td>\n",
       "      <td>4) Not assoc w R - Interim</td>\n",
       "      <td>3) Uncertain significance</td>\n",
       "      <td>3) Uncertain significance</td>\n",
       "      <td>p.Val468Ala</td>\n",
       "    </tr>\n",
       "    <tr>\n",
       "      <th>7</th>\n",
       "      <td>Ethambutol</td>\n",
       "      <td>embB_c.660G&gt;A</td>\n",
       "      <td>embB</td>\n",
       "      <td>synonymous_variant</td>\n",
       "      <td>1.012574</td>\n",
       "      <td>0.371</td>\n",
       "      <td>0.839097</td>\n",
       "      <td>0.226</td>\n",
       "      <td>0.377979</td>\n",
       "      <td>1.000000e+00</td>\n",
       "      <td>...</td>\n",
       "      <td>0.996805</td>\n",
       "      <td>0.997904</td>\n",
       "      <td>Uncertain</td>\n",
       "      <td>3) Uncertain significance</td>\n",
       "      <td>Both Uncertain</td>\n",
       "      <td>5) Not assoc w R</td>\n",
       "      <td>4) Not assoc w R - Interim</td>\n",
       "      <td>3) Uncertain significance</td>\n",
       "      <td>3) Uncertain significance</td>\n",
       "      <td>c.660G&gt;A</td>\n",
       "    </tr>\n",
       "    <tr>\n",
       "      <th>8</th>\n",
       "      <td>Ethambutol</td>\n",
       "      <td>embB_p.Gly156Cys</td>\n",
       "      <td>embB</td>\n",
       "      <td>missense_variant</td>\n",
       "      <td>1.019164</td>\n",
       "      <td>0.019</td>\n",
       "      <td>0.180910</td>\n",
       "      <td>0.948</td>\n",
       "      <td>1.000000</td>\n",
       "      <td>9.031229e-01</td>\n",
       "      <td>...</td>\n",
       "      <td>0.997956</td>\n",
       "      <td>0.998817</td>\n",
       "      <td>Uncertain</td>\n",
       "      <td>3) Uncertain significance</td>\n",
       "      <td>Both Uncertain</td>\n",
       "      <td>5) Not assoc w R</td>\n",
       "      <td>4) Not assoc w R - Interim</td>\n",
       "      <td>3) Uncertain significance</td>\n",
       "      <td>3) Uncertain significance</td>\n",
       "      <td>p.Gly156Cys</td>\n",
       "    </tr>\n",
       "    <tr>\n",
       "      <th>9</th>\n",
       "      <td>Ethambutol</td>\n",
       "      <td>embB_p.Ser1054Pro</td>\n",
       "      <td>embB</td>\n",
       "      <td>missense_variant</td>\n",
       "      <td>0.984675</td>\n",
       "      <td>0.236</td>\n",
       "      <td>0.839147</td>\n",
       "      <td>0.562</td>\n",
       "      <td>0.714417</td>\n",
       "      <td>6.390246e-01</td>\n",
       "      <td>...</td>\n",
       "      <td>0.998379</td>\n",
       "      <td>0.999135</td>\n",
       "      <td>Uncertain</td>\n",
       "      <td>3) Uncertain significance</td>\n",
       "      <td>Both Uncertain</td>\n",
       "      <td>5) Not assoc w R</td>\n",
       "      <td>4) Not assoc w R - Interim</td>\n",
       "      <td>3) Uncertain significance</td>\n",
       "      <td>3) Uncertain significance</td>\n",
       "      <td>p.Ser1054Pro</td>\n",
       "    </tr>\n",
       "    <tr>\n",
       "      <th>10</th>\n",
       "      <td>Ethambutol</td>\n",
       "      <td>embB_p.Val668Ile</td>\n",
       "      <td>embB</td>\n",
       "      <td>missense_variant</td>\n",
       "      <td>0.991459</td>\n",
       "      <td>0.356</td>\n",
       "      <td>0.839147</td>\n",
       "      <td>0.339</td>\n",
       "      <td>0.491986</td>\n",
       "      <td>1.000000e+00</td>\n",
       "      <td>...</td>\n",
       "      <td>0.999015</td>\n",
       "      <td>0.999584</td>\n",
       "      <td>Uncertain</td>\n",
       "      <td>3) Uncertain significance</td>\n",
       "      <td>Both Uncertain</td>\n",
       "      <td>5) Not assoc w R</td>\n",
       "      <td>4) Not assoc w R - Interim</td>\n",
       "      <td>3) Uncertain significance</td>\n",
       "      <td>3) Uncertain significance</td>\n",
       "      <td>p.Val668Ile</td>\n",
       "    </tr>\n",
       "    <tr>\n",
       "      <th>11</th>\n",
       "      <td>Ethambutol</td>\n",
       "      <td>embC_c.-1188C&gt;T</td>\n",
       "      <td>embC</td>\n",
       "      <td>upstream_gene_variant</td>\n",
       "      <td>1.050518</td>\n",
       "      <td>0.106</td>\n",
       "      <td>0.679071</td>\n",
       "      <td>0.764</td>\n",
       "      <td>0.895699</td>\n",
       "      <td>1.000000e+00</td>\n",
       "      <td>...</td>\n",
       "      <td>0.948625</td>\n",
       "      <td>0.953179</td>\n",
       "      <td>Uncertain</td>\n",
       "      <td>3) Uncertain significance</td>\n",
       "      <td>Both Uncertain</td>\n",
       "      <td>5) Not assoc w R</td>\n",
       "      <td>4) Not assoc w R - Interim</td>\n",
       "      <td>3) Uncertain significance</td>\n",
       "      <td>3) Uncertain significance</td>\n",
       "      <td>c.-1188C&gt;T</td>\n",
       "    </tr>\n",
       "    <tr>\n",
       "      <th>12</th>\n",
       "      <td>Ethambutol</td>\n",
       "      <td>embC_c.-1520C&gt;A</td>\n",
       "      <td>embC</td>\n",
       "      <td>upstream_gene_variant</td>\n",
       "      <td>1.050952</td>\n",
       "      <td>0.016</td>\n",
       "      <td>0.159213</td>\n",
       "      <td>0.870</td>\n",
       "      <td>0.980213</td>\n",
       "      <td>7.709065e-01</td>\n",
       "      <td>...</td>\n",
       "      <td>0.997284</td>\n",
       "      <td>0.998290</td>\n",
       "      <td>Uncertain</td>\n",
       "      <td>3) Uncertain significance</td>\n",
       "      <td>Both Uncertain</td>\n",
       "      <td>5) Not assoc w R</td>\n",
       "      <td>4) Not assoc w R - Interim</td>\n",
       "      <td>3) Uncertain significance</td>\n",
       "      <td>3) Uncertain significance</td>\n",
       "      <td>c.-1520C&gt;A</td>\n",
       "    </tr>\n",
       "    <tr>\n",
       "      <th>13</th>\n",
       "      <td>Ethambutol</td>\n",
       "      <td>embC_c.-20A&gt;C</td>\n",
       "      <td>embC</td>\n",
       "      <td>upstream_gene_variant</td>\n",
       "      <td>1.012820</td>\n",
       "      <td>0.409</td>\n",
       "      <td>0.839147</td>\n",
       "      <td>0.288</td>\n",
       "      <td>0.478293</td>\n",
       "      <td>8.378864e-01</td>\n",
       "      <td>...</td>\n",
       "      <td>0.997892</td>\n",
       "      <td>0.998767</td>\n",
       "      <td>Uncertain</td>\n",
       "      <td>3) Uncertain significance</td>\n",
       "      <td>Both Uncertain</td>\n",
       "      <td>5) Not assoc w R</td>\n",
       "      <td>4) Not assoc w R - Interim</td>\n",
       "      <td>3) Uncertain significance</td>\n",
       "      <td>3) Uncertain significance</td>\n",
       "      <td>c.-20A&gt;C</td>\n",
       "    </tr>\n",
       "    <tr>\n",
       "      <th>14</th>\n",
       "      <td>Ethambutol</td>\n",
       "      <td>ubiA_p.Val49Ile</td>\n",
       "      <td>ubiA</td>\n",
       "      <td>missense_variant</td>\n",
       "      <td>1.038564</td>\n",
       "      <td>0.184</td>\n",
       "      <td>0.839147</td>\n",
       "      <td>0.775</td>\n",
       "      <td>0.905534</td>\n",
       "      <td>1.000000e+00</td>\n",
       "      <td>...</td>\n",
       "      <td>0.997253</td>\n",
       "      <td>0.998264</td>\n",
       "      <td>Uncertain</td>\n",
       "      <td>3) Uncertain significance</td>\n",
       "      <td>Both Uncertain</td>\n",
       "      <td>5) Not assoc w R</td>\n",
       "      <td>4) Not assoc w R - Interim</td>\n",
       "      <td>3) Uncertain significance</td>\n",
       "      <td>3) Uncertain significance</td>\n",
       "      <td>p.Val49Ile</td>\n",
       "    </tr>\n",
       "    <tr>\n",
       "      <th>15</th>\n",
       "      <td>Isoniazid</td>\n",
       "      <td>ahpC_c.18T&gt;C</td>\n",
       "      <td>ahpC</td>\n",
       "      <td>synonymous_variant</td>\n",
       "      <td>0.996142</td>\n",
       "      <td>0.376</td>\n",
       "      <td>0.587538</td>\n",
       "      <td>0.231</td>\n",
       "      <td>0.461449</td>\n",
       "      <td>7.962410e-01</td>\n",
       "      <td>...</td>\n",
       "      <td>0.993314</td>\n",
       "      <td>0.995132</td>\n",
       "      <td>Uncertain</td>\n",
       "      <td>3) Uncertain significance</td>\n",
       "      <td>Both Uncertain</td>\n",
       "      <td>5) Not assoc w R</td>\n",
       "      <td>4) Not assoc w R - Interim</td>\n",
       "      <td>3) Uncertain significance</td>\n",
       "      <td>3) Uncertain significance</td>\n",
       "      <td>c.18T&gt;C</td>\n",
       "    </tr>\n",
       "    <tr>\n",
       "      <th>16</th>\n",
       "      <td>Isoniazid</td>\n",
       "      <td>katG_c.-354C&gt;T</td>\n",
       "      <td>katG</td>\n",
       "      <td>upstream_gene_variant</td>\n",
       "      <td>0.981953</td>\n",
       "      <td>0.102</td>\n",
       "      <td>0.325742</td>\n",
       "      <td>0.799</td>\n",
       "      <td>1.000000</td>\n",
       "      <td>5.863476e-01</td>\n",
       "      <td>...</td>\n",
       "      <td>0.996557</td>\n",
       "      <td>0.997832</td>\n",
       "      <td>Uncertain</td>\n",
       "      <td>3) Uncertain significance</td>\n",
       "      <td>Both Uncertain</td>\n",
       "      <td>5) Not assoc w R</td>\n",
       "      <td>4) Not assoc w R - Interim</td>\n",
       "      <td>3) Uncertain significance</td>\n",
       "      <td>3) Uncertain significance</td>\n",
       "      <td>c.-354C&gt;T</td>\n",
       "    </tr>\n",
       "    <tr>\n",
       "      <th>17</th>\n",
       "      <td>Isoniazid</td>\n",
       "      <td>katG_c.1197A&gt;G</td>\n",
       "      <td>katG</td>\n",
       "      <td>synonymous_variant</td>\n",
       "      <td>0.979557</td>\n",
       "      <td>0.056</td>\n",
       "      <td>0.229477</td>\n",
       "      <td>0.908</td>\n",
       "      <td>1.000000</td>\n",
       "      <td>4.772806e-01</td>\n",
       "      <td>...</td>\n",
       "      <td>0.998069</td>\n",
       "      <td>0.998995</td>\n",
       "      <td>Uncertain</td>\n",
       "      <td>3) Uncertain significance</td>\n",
       "      <td>Both Uncertain</td>\n",
       "      <td>5) Not assoc w R</td>\n",
       "      <td>4) Not assoc w R - Interim</td>\n",
       "      <td>3) Uncertain significance</td>\n",
       "      <td>3) Uncertain significance</td>\n",
       "      <td>c.1197A&gt;G</td>\n",
       "    </tr>\n",
       "    <tr>\n",
       "      <th>18</th>\n",
       "      <td>Kanamycin</td>\n",
       "      <td>rrs_n.1338A&gt;C</td>\n",
       "      <td>rrs</td>\n",
       "      <td>non_coding_transcript_exon_variant</td>\n",
       "      <td>0.990234</td>\n",
       "      <td>0.795</td>\n",
       "      <td>0.828509</td>\n",
       "      <td>0.000</td>\n",
       "      <td>0.000000</td>\n",
       "      <td>8.441037e-01</td>\n",
       "      <td>...</td>\n",
       "      <td>0.999723</td>\n",
       "      <td>0.999999</td>\n",
       "      <td>Uncertain</td>\n",
       "      <td>3) Uncertain significance</td>\n",
       "      <td>Both Uncertain</td>\n",
       "      <td>5) Not assoc w R</td>\n",
       "      <td>4) Not assoc w R - Interim</td>\n",
       "      <td>3) Uncertain significance</td>\n",
       "      <td>3) Uncertain significance</td>\n",
       "      <td>n.1338A&gt;C</td>\n",
       "    </tr>\n",
       "    <tr>\n",
       "      <th>19</th>\n",
       "      <td>Kanamycin</td>\n",
       "      <td>rrs_n.514A&gt;C</td>\n",
       "      <td>rrs</td>\n",
       "      <td>non_coding_transcript_exon_variant</td>\n",
       "      <td>1.145102</td>\n",
       "      <td>0.000</td>\n",
       "      <td>0.000000</td>\n",
       "      <td>1.000</td>\n",
       "      <td>1.000000</td>\n",
       "      <td>3.095331e-03</td>\n",
       "      <td>...</td>\n",
       "      <td>0.973548</td>\n",
       "      <td>0.977850</td>\n",
       "      <td>Uncertain</td>\n",
       "      <td>3) Uncertain significance</td>\n",
       "      <td>Downgrade to Uncertain</td>\n",
       "      <td>5) Not assoc w R</td>\n",
       "      <td>4) Not assoc w R - Interim</td>\n",
       "      <td>3) Uncertain significance</td>\n",
       "      <td>3) Uncertain significance</td>\n",
       "      <td>n.514A&gt;C</td>\n",
       "    </tr>\n",
       "    <tr>\n",
       "      <th>20</th>\n",
       "      <td>Kanamycin</td>\n",
       "      <td>whiB7_c.-178C&gt;T</td>\n",
       "      <td>whiB7</td>\n",
       "      <td>upstream_gene_variant</td>\n",
       "      <td>0.971828</td>\n",
       "      <td>0.185</td>\n",
       "      <td>0.595800</td>\n",
       "      <td>0.650</td>\n",
       "      <td>0.889050</td>\n",
       "      <td>7.543955e-01</td>\n",
       "      <td>...</td>\n",
       "      <td>0.993407</td>\n",
       "      <td>0.995500</td>\n",
       "      <td>Uncertain</td>\n",
       "      <td>3) Uncertain significance</td>\n",
       "      <td>Both Uncertain</td>\n",
       "      <td>5) Not assoc w R</td>\n",
       "      <td>4) Not assoc w R - Interim</td>\n",
       "      <td>3) Uncertain significance</td>\n",
       "      <td>3) Uncertain significance</td>\n",
       "      <td>c.-178C&gt;T</td>\n",
       "    </tr>\n",
       "    <tr>\n",
       "      <th>21</th>\n",
       "      <td>Levofloxacin</td>\n",
       "      <td>gyrA_p.Ala90Gly</td>\n",
       "      <td>gyrA</td>\n",
       "      <td>missense_variant</td>\n",
       "      <td>1.052957</td>\n",
       "      <td>0.020</td>\n",
       "      <td>0.121000</td>\n",
       "      <td>0.930</td>\n",
       "      <td>1.000000</td>\n",
       "      <td>1.000000e+00</td>\n",
       "      <td>...</td>\n",
       "      <td>0.998343</td>\n",
       "      <td>0.999286</td>\n",
       "      <td>Uncertain</td>\n",
       "      <td>3) Uncertain significance</td>\n",
       "      <td>Both Uncertain</td>\n",
       "      <td>5) Not assoc w R</td>\n",
       "      <td>4) Not assoc w R - Interim</td>\n",
       "      <td>3) Uncertain significance</td>\n",
       "      <td>3) Uncertain significance</td>\n",
       "      <td>p.Ala90Gly</td>\n",
       "    </tr>\n",
       "    <tr>\n",
       "      <th>22</th>\n",
       "      <td>Levofloxacin</td>\n",
       "      <td>gyrA_p.Arg252Leu</td>\n",
       "      <td>gyrA</td>\n",
       "      <td>missense_variant</td>\n",
       "      <td>0.905968</td>\n",
       "      <td>0.001</td>\n",
       "      <td>0.008203</td>\n",
       "      <td>0.999</td>\n",
       "      <td>1.000000</td>\n",
       "      <td>1.137049e-01</td>\n",
       "      <td>...</td>\n",
       "      <td>0.995534</td>\n",
       "      <td>0.997178</td>\n",
       "      <td>Uncertain</td>\n",
       "      <td>4) Not assoc w R - Interim</td>\n",
       "      <td>Downgrade to Interim</td>\n",
       "      <td>5) Not assoc w R</td>\n",
       "      <td>4) Not assoc w R - Interim</td>\n",
       "      <td>4) Not assoc w R - Interim</td>\n",
       "      <td>4) Not assoc w R - Interim</td>\n",
       "      <td>p.Arg252Leu</td>\n",
       "    </tr>\n",
       "    <tr>\n",
       "      <th>23</th>\n",
       "      <td>Moxifloxacin</td>\n",
       "      <td>gyrA_p.Ala90Gly</td>\n",
       "      <td>gyrA</td>\n",
       "      <td>missense_variant</td>\n",
       "      <td>0.985801</td>\n",
       "      <td>0.641</td>\n",
       "      <td>0.830079</td>\n",
       "      <td>0.058</td>\n",
       "      <td>0.108849</td>\n",
       "      <td>9.494210e-01</td>\n",
       "      <td>...</td>\n",
       "      <td>0.999611</td>\n",
       "      <td>0.999987</td>\n",
       "      <td>Uncertain</td>\n",
       "      <td>3) Uncertain significance</td>\n",
       "      <td>Both Uncertain</td>\n",
       "      <td>5) Not assoc w R</td>\n",
       "      <td>4) Not assoc w R - Interim</td>\n",
       "      <td>3) Uncertain significance</td>\n",
       "      <td>3) Uncertain significance</td>\n",
       "      <td>p.Ala90Gly</td>\n",
       "    </tr>\n",
       "    <tr>\n",
       "      <th>24</th>\n",
       "      <td>Moxifloxacin</td>\n",
       "      <td>gyrA_p.Thr80Ala</td>\n",
       "      <td>gyrA</td>\n",
       "      <td>missense_variant</td>\n",
       "      <td>0.976301</td>\n",
       "      <td>0.254</td>\n",
       "      <td>0.774000</td>\n",
       "      <td>0.543</td>\n",
       "      <td>0.736826</td>\n",
       "      <td>1.000000e+00</td>\n",
       "      <td>...</td>\n",
       "      <td>0.998079</td>\n",
       "      <td>0.999172</td>\n",
       "      <td>Uncertain</td>\n",
       "      <td>3) Uncertain significance</td>\n",
       "      <td>Both Uncertain</td>\n",
       "      <td>5) Not assoc w R</td>\n",
       "      <td>4) Not assoc w R - Interim</td>\n",
       "      <td>3) Uncertain significance</td>\n",
       "      <td>3) Uncertain significance</td>\n",
       "      <td>p.Thr80Ala</td>\n",
       "    </tr>\n",
       "    <tr>\n",
       "      <th>25</th>\n",
       "      <td>Pyrazinamide</td>\n",
       "      <td>clpC1_p.Val63Ala</td>\n",
       "      <td>clpC1</td>\n",
       "      <td>missense_variant</td>\n",
       "      <td>1.115496</td>\n",
       "      <td>0.000</td>\n",
       "      <td>0.000000</td>\n",
       "      <td>0.999</td>\n",
       "      <td>1.000000</td>\n",
       "      <td>1.000000e+00</td>\n",
       "      <td>...</td>\n",
       "      <td>0.920087</td>\n",
       "      <td>0.928156</td>\n",
       "      <td>Uncertain</td>\n",
       "      <td>3) Uncertain significance</td>\n",
       "      <td>Both Uncertain</td>\n",
       "      <td>5) Not assoc w R</td>\n",
       "      <td>4) Not assoc w R - Interim</td>\n",
       "      <td>3) Uncertain significance</td>\n",
       "      <td>3) Uncertain significance</td>\n",
       "      <td>p.Val63Ala</td>\n",
       "    </tr>\n",
       "    <tr>\n",
       "      <th>26</th>\n",
       "      <td>Rifampicin</td>\n",
       "      <td>rpoB_p.Glu250Gly</td>\n",
       "      <td>rpoB</td>\n",
       "      <td>missense_variant</td>\n",
       "      <td>0.979929</td>\n",
       "      <td>0.050</td>\n",
       "      <td>0.172176</td>\n",
       "      <td>0.920</td>\n",
       "      <td>1.000000</td>\n",
       "      <td>4.653204e-01</td>\n",
       "      <td>...</td>\n",
       "      <td>0.996834</td>\n",
       "      <td>0.997994</td>\n",
       "      <td>Uncertain</td>\n",
       "      <td>3) Uncertain significance</td>\n",
       "      <td>Both Uncertain</td>\n",
       "      <td>5) Not assoc w R</td>\n",
       "      <td>4) Not assoc w R - Interim</td>\n",
       "      <td>3) Uncertain significance</td>\n",
       "      <td>3) Uncertain significance</td>\n",
       "      <td>p.Glu250Gly</td>\n",
       "    </tr>\n",
       "    <tr>\n",
       "      <th>27</th>\n",
       "      <td>Streptomycin</td>\n",
       "      <td>rrs_n.492C&gt;T</td>\n",
       "      <td>rrs</td>\n",
       "      <td>non_coding_transcript_exon_variant</td>\n",
       "      <td>0.963921</td>\n",
       "      <td>0.129</td>\n",
       "      <td>0.410257</td>\n",
       "      <td>0.714</td>\n",
       "      <td>1.000000</td>\n",
       "      <td>1.000000e+00</td>\n",
       "      <td>...</td>\n",
       "      <td>0.960984</td>\n",
       "      <td>0.967113</td>\n",
       "      <td>Uncertain</td>\n",
       "      <td>3) Uncertain significance</td>\n",
       "      <td>Both Uncertain</td>\n",
       "      <td>5) Not assoc w R</td>\n",
       "      <td>4) Not assoc w R - Interim</td>\n",
       "      <td>3) Uncertain significance</td>\n",
       "      <td>3) Uncertain significance</td>\n",
       "      <td>n.492C&gt;T</td>\n",
       "    </tr>\n",
       "  </tbody>\n",
       "</table>\n",
       "<p>28 rows × 67 columns</p>\n",
       "</div>"
      ],
      "text/plain": [
       "            Drug           mutation   gene  \\\n",
       "0       Amikacin    whiB7_c.-178C>T  whiB7   \n",
       "1    Bedaquiline  mmpL5_p.Ile948Val  mmpL5   \n",
       "2    Bedaquiline  mmpL5_p.Thr794Ile  mmpL5   \n",
       "3    Bedaquiline     mmpS5_c.-74G>T  mmpS5   \n",
       "4     Ethambutol   embA_p.Ala813Gly   embA   \n",
       "5     Ethambutol   embA_p.Pro639Ser   embA   \n",
       "6     Ethambutol   embA_p.Val468Ala   embA   \n",
       "7     Ethambutol      embB_c.660G>A   embB   \n",
       "8     Ethambutol   embB_p.Gly156Cys   embB   \n",
       "9     Ethambutol  embB_p.Ser1054Pro   embB   \n",
       "10    Ethambutol   embB_p.Val668Ile   embB   \n",
       "11    Ethambutol    embC_c.-1188C>T   embC   \n",
       "12    Ethambutol    embC_c.-1520C>A   embC   \n",
       "13    Ethambutol      embC_c.-20A>C   embC   \n",
       "14    Ethambutol    ubiA_p.Val49Ile   ubiA   \n",
       "15     Isoniazid       ahpC_c.18T>C   ahpC   \n",
       "16     Isoniazid     katG_c.-354C>T   katG   \n",
       "17     Isoniazid     katG_c.1197A>G   katG   \n",
       "18     Kanamycin      rrs_n.1338A>C    rrs   \n",
       "19     Kanamycin       rrs_n.514A>C    rrs   \n",
       "20     Kanamycin    whiB7_c.-178C>T  whiB7   \n",
       "21  Levofloxacin    gyrA_p.Ala90Gly   gyrA   \n",
       "22  Levofloxacin   gyrA_p.Arg252Leu   gyrA   \n",
       "23  Moxifloxacin    gyrA_p.Ala90Gly   gyrA   \n",
       "24  Moxifloxacin    gyrA_p.Thr80Ala   gyrA   \n",
       "25  Pyrazinamide   clpC1_p.Val63Ala  clpC1   \n",
       "26    Rifampicin   rpoB_p.Glu250Gly   rpoB   \n",
       "27  Streptomycin       rrs_n.492C>T    rrs   \n",
       "\n",
       "                      predicted_effect  WHO_Odds_Ratio  WHO_pval  WHO_BH_pval  \\\n",
       "0                upstream_gene_variant        0.958454     0.246     0.742642   \n",
       "1                     missense_variant        0.948618     0.119     0.210974   \n",
       "2                     missense_variant        1.145619     0.000     0.000000   \n",
       "3                upstream_gene_variant        1.394573     0.000     0.000000   \n",
       "4                     missense_variant        1.019164     0.019     0.180910   \n",
       "5                     missense_variant        1.008050     0.241     0.839147   \n",
       "6                     missense_variant        1.034910     0.298     0.839147   \n",
       "7                   synonymous_variant        1.012574     0.371     0.839097   \n",
       "8                     missense_variant        1.019164     0.019     0.180910   \n",
       "9                     missense_variant        0.984675     0.236     0.839147   \n",
       "10                    missense_variant        0.991459     0.356     0.839147   \n",
       "11               upstream_gene_variant        1.050518     0.106     0.679071   \n",
       "12               upstream_gene_variant        1.050952     0.016     0.159213   \n",
       "13               upstream_gene_variant        1.012820     0.409     0.839147   \n",
       "14                    missense_variant        1.038564     0.184     0.839147   \n",
       "15                  synonymous_variant        0.996142     0.376     0.587538   \n",
       "16               upstream_gene_variant        0.981953     0.102     0.325742   \n",
       "17                  synonymous_variant        0.979557     0.056     0.229477   \n",
       "18  non_coding_transcript_exon_variant        0.990234     0.795     0.828509   \n",
       "19  non_coding_transcript_exon_variant        1.145102     0.000     0.000000   \n",
       "20               upstream_gene_variant        0.971828     0.185     0.595800   \n",
       "21                    missense_variant        1.052957     0.020     0.121000   \n",
       "22                    missense_variant        0.905968     0.001     0.008203   \n",
       "23                    missense_variant        0.985801     0.641     0.830079   \n",
       "24                    missense_variant        0.976301     0.254     0.774000   \n",
       "25                    missense_variant        1.115496     0.000     0.000000   \n",
       "26                    missense_variant        0.979929     0.050     0.172176   \n",
       "27  non_coding_transcript_exon_variant        0.963921     0.129     0.410257   \n",
       "\n",
       "    WHO_neutral_pval  WHO_BH_neutral_pval  WHO_LRT_pval  ...  ALL_Spec_LB  \\\n",
       "0              0.670             0.871545  7.246318e-01  ...     0.993913   \n",
       "1              0.753             1.000000  2.755944e-01  ...     0.003131   \n",
       "2              1.000             1.000000  1.317292e-01  ...     0.464525   \n",
       "3              1.000             1.000000  3.124144e-14  ...     0.991557   \n",
       "4              0.948             1.000000  9.031229e-01  ...     0.997956   \n",
       "5              0.096             0.174206  7.817524e-01  ...     0.997859   \n",
       "6              0.461             0.615681  6.293708e-01  ...     0.997859   \n",
       "7              0.226             0.377979  1.000000e+00  ...     0.996805   \n",
       "8              0.948             1.000000  9.031229e-01  ...     0.997956   \n",
       "9              0.562             0.714417  6.390246e-01  ...     0.998379   \n",
       "10             0.339             0.491986  1.000000e+00  ...     0.999015   \n",
       "11             0.764             0.895699  1.000000e+00  ...     0.948625   \n",
       "12             0.870             0.980213  7.709065e-01  ...     0.997284   \n",
       "13             0.288             0.478293  8.378864e-01  ...     0.997892   \n",
       "14             0.775             0.905534  1.000000e+00  ...     0.997253   \n",
       "15             0.231             0.461449  7.962410e-01  ...     0.993314   \n",
       "16             0.799             1.000000  5.863476e-01  ...     0.996557   \n",
       "17             0.908             1.000000  4.772806e-01  ...     0.998069   \n",
       "18             0.000             0.000000  8.441037e-01  ...     0.999723   \n",
       "19             1.000             1.000000  3.095331e-03  ...     0.973548   \n",
       "20             0.650             0.889050  7.543955e-01  ...     0.993407   \n",
       "21             0.930             1.000000  1.000000e+00  ...     0.998343   \n",
       "22             0.999             1.000000  1.137049e-01  ...     0.995534   \n",
       "23             0.058             0.108849  9.494210e-01  ...     0.999611   \n",
       "24             0.543             0.736826  1.000000e+00  ...     0.998079   \n",
       "25             0.999             1.000000  1.000000e+00  ...     0.920087   \n",
       "26             0.920             1.000000  4.653204e-01  ...     0.996834   \n",
       "27             0.714             1.000000  1.000000e+00  ...     0.960984   \n",
       "\n",
       "    ALL_Spec_UB  Initial confidence grading ALL dataset  \\\n",
       "0      0.995868                               Uncertain   \n",
       "1      0.005432                               Uncertain   \n",
       "2      0.481791                               Uncertain   \n",
       "3      0.994482                               Uncertain   \n",
       "4      0.998817                               Uncertain   \n",
       "5      0.998742                               Uncertain   \n",
       "6      0.998742                               Uncertain   \n",
       "7      0.997904                               Uncertain   \n",
       "8      0.998817                               Uncertain   \n",
       "9      0.999135                               Uncertain   \n",
       "10     0.999584                               Uncertain   \n",
       "11     0.953179                               Uncertain   \n",
       "12     0.998290                               Uncertain   \n",
       "13     0.998767                               Uncertain   \n",
       "14     0.998264                               Uncertain   \n",
       "15     0.995132                               Uncertain   \n",
       "16     0.997832                               Uncertain   \n",
       "17     0.998995                               Uncertain   \n",
       "18     0.999999                               Uncertain   \n",
       "19     0.977850                               Uncertain   \n",
       "20     0.995500                               Uncertain   \n",
       "21     0.999286                               Uncertain   \n",
       "22     0.997178                               Uncertain   \n",
       "23     0.999987                               Uncertain   \n",
       "24     0.999172                               Uncertain   \n",
       "25     0.928156                               Uncertain   \n",
       "26     0.997994                               Uncertain   \n",
       "27     0.967113                               Uncertain   \n",
       "\n",
       "    REGRESSION FINAL CONFIDENCE GRADING                  Reason  \\\n",
       "0             3) Uncertain significance          Both Uncertain   \n",
       "1             3) Uncertain significance          Both Uncertain   \n",
       "2             3) Uncertain significance          Both Uncertain   \n",
       "3             3) Uncertain significance  Downgrade to Uncertain   \n",
       "4             3) Uncertain significance          Both Uncertain   \n",
       "5             3) Uncertain significance          Both Uncertain   \n",
       "6             3) Uncertain significance          Both Uncertain   \n",
       "7             3) Uncertain significance          Both Uncertain   \n",
       "8             3) Uncertain significance          Both Uncertain   \n",
       "9             3) Uncertain significance          Both Uncertain   \n",
       "10            3) Uncertain significance          Both Uncertain   \n",
       "11            3) Uncertain significance          Both Uncertain   \n",
       "12            3) Uncertain significance          Both Uncertain   \n",
       "13            3) Uncertain significance          Both Uncertain   \n",
       "14            3) Uncertain significance          Both Uncertain   \n",
       "15            3) Uncertain significance          Both Uncertain   \n",
       "16            3) Uncertain significance          Both Uncertain   \n",
       "17            3) Uncertain significance          Both Uncertain   \n",
       "18            3) Uncertain significance          Both Uncertain   \n",
       "19            3) Uncertain significance  Downgrade to Uncertain   \n",
       "20            3) Uncertain significance          Both Uncertain   \n",
       "21            3) Uncertain significance          Both Uncertain   \n",
       "22           4) Not assoc w R - Interim    Downgrade to Interim   \n",
       "23            3) Uncertain significance          Both Uncertain   \n",
       "24            3) Uncertain significance          Both Uncertain   \n",
       "25            3) Uncertain significance          Both Uncertain   \n",
       "26            3) Uncertain significance          Both Uncertain   \n",
       "27            3) Uncertain significance          Both Uncertain   \n",
       "\n",
       "    SOLO INITIAL CONFIDENCE GRADING  SOLO FINAL CONFIDENCE GRADING  \\\n",
       "0                  5) Not assoc w R     4) Not assoc w R - Interim   \n",
       "1                  5) Not assoc w R     4) Not assoc w R - Interim   \n",
       "2                  5) Not assoc w R     4) Not assoc w R - Interim   \n",
       "3                  5) Not assoc w R     4) Not assoc w R - Interim   \n",
       "4                  5) Not assoc w R     4) Not assoc w R - Interim   \n",
       "5                  5) Not assoc w R     4) Not assoc w R - Interim   \n",
       "6                  5) Not assoc w R     4) Not assoc w R - Interim   \n",
       "7                  5) Not assoc w R     4) Not assoc w R - Interim   \n",
       "8                  5) Not assoc w R     4) Not assoc w R - Interim   \n",
       "9                  5) Not assoc w R     4) Not assoc w R - Interim   \n",
       "10                 5) Not assoc w R     4) Not assoc w R - Interim   \n",
       "11                 5) Not assoc w R     4) Not assoc w R - Interim   \n",
       "12                 5) Not assoc w R     4) Not assoc w R - Interim   \n",
       "13                 5) Not assoc w R     4) Not assoc w R - Interim   \n",
       "14                 5) Not assoc w R     4) Not assoc w R - Interim   \n",
       "15                 5) Not assoc w R     4) Not assoc w R - Interim   \n",
       "16                 5) Not assoc w R     4) Not assoc w R - Interim   \n",
       "17                 5) Not assoc w R     4) Not assoc w R - Interim   \n",
       "18                 5) Not assoc w R     4) Not assoc w R - Interim   \n",
       "19                 5) Not assoc w R     4) Not assoc w R - Interim   \n",
       "20                 5) Not assoc w R     4) Not assoc w R - Interim   \n",
       "21                 5) Not assoc w R     4) Not assoc w R - Interim   \n",
       "22                 5) Not assoc w R     4) Not assoc w R - Interim   \n",
       "23                 5) Not assoc w R     4) Not assoc w R - Interim   \n",
       "24                 5) Not assoc w R     4) Not assoc w R - Interim   \n",
       "25                 5) Not assoc w R     4) Not assoc w R - Interim   \n",
       "26                 5) Not assoc w R     4) Not assoc w R - Interim   \n",
       "27                 5) Not assoc w R     4) Not assoc w R - Interim   \n",
       "\n",
       "    REGRESSION GRADING + LOF UPGRADE  REGRESSION + GRADING RULES  \\\n",
       "0          3) Uncertain significance   3) Uncertain significance   \n",
       "1          3) Uncertain significance   3) Uncertain significance   \n",
       "2          3) Uncertain significance   3) Uncertain significance   \n",
       "3          3) Uncertain significance   3) Uncertain significance   \n",
       "4          3) Uncertain significance   3) Uncertain significance   \n",
       "5          3) Uncertain significance   3) Uncertain significance   \n",
       "6          3) Uncertain significance   3) Uncertain significance   \n",
       "7          3) Uncertain significance   3) Uncertain significance   \n",
       "8          3) Uncertain significance   3) Uncertain significance   \n",
       "9          3) Uncertain significance   3) Uncertain significance   \n",
       "10         3) Uncertain significance   3) Uncertain significance   \n",
       "11         3) Uncertain significance   3) Uncertain significance   \n",
       "12         3) Uncertain significance   3) Uncertain significance   \n",
       "13         3) Uncertain significance   3) Uncertain significance   \n",
       "14         3) Uncertain significance   3) Uncertain significance   \n",
       "15         3) Uncertain significance   3) Uncertain significance   \n",
       "16         3) Uncertain significance   3) Uncertain significance   \n",
       "17         3) Uncertain significance   3) Uncertain significance   \n",
       "18         3) Uncertain significance   3) Uncertain significance   \n",
       "19         3) Uncertain significance   3) Uncertain significance   \n",
       "20         3) Uncertain significance   3) Uncertain significance   \n",
       "21         3) Uncertain significance   3) Uncertain significance   \n",
       "22        4) Not assoc w R - Interim  4) Not assoc w R - Interim   \n",
       "23         3) Uncertain significance   3) Uncertain significance   \n",
       "24         3) Uncertain significance   3) Uncertain significance   \n",
       "25         3) Uncertain significance   3) Uncertain significance   \n",
       "26         3) Uncertain significance   3) Uncertain significance   \n",
       "27         3) Uncertain significance   3) Uncertain significance   \n",
       "\n",
       "    variant_category  \n",
       "0          c.-178C>T  \n",
       "1        p.Ile948Val  \n",
       "2        p.Thr794Ile  \n",
       "3           c.-74G>T  \n",
       "4        p.Ala813Gly  \n",
       "5        p.Pro639Ser  \n",
       "6        p.Val468Ala  \n",
       "7           c.660G>A  \n",
       "8        p.Gly156Cys  \n",
       "9       p.Ser1054Pro  \n",
       "10       p.Val668Ile  \n",
       "11        c.-1188C>T  \n",
       "12        c.-1520C>A  \n",
       "13          c.-20A>C  \n",
       "14        p.Val49Ile  \n",
       "15           c.18T>C  \n",
       "16         c.-354C>T  \n",
       "17         c.1197A>G  \n",
       "18         n.1338A>C  \n",
       "19          n.514A>C  \n",
       "20         c.-178C>T  \n",
       "21        p.Ala90Gly  \n",
       "22       p.Arg252Leu  \n",
       "23        p.Ala90Gly  \n",
       "24        p.Thr80Ala  \n",
       "25        p.Val63Ala  \n",
       "26       p.Glu250Gly  \n",
       "27          n.492C>T  \n",
       "\n",
       "[28 rows x 67 columns]"
      ]
     },
     "execution_count": 155,
     "metadata": {},
     "output_type": "execute_result"
    }
   ],
   "source": [
    "not_assocR_literature"
   ]
  },
  {
   "cell_type": "markdown",
   "id": "de5d96a2-65d0-4696-bcb9-427c87652081",
   "metadata": {},
   "source": [
    "# Variants Graded Neutral by Regression"
   ]
  },
  {
   "cell_type": "code",
   "execution_count": 151,
   "id": "fd02e1cb-ce96-415c-9a6a-aed2b0dce2cd",
   "metadata": {},
   "outputs": [
    {
     "data": {
      "text/plain": [
       "91"
      ]
     },
     "execution_count": 151,
     "metadata": {},
     "output_type": "execute_result"
    }
   ],
   "source": [
    "neutral_variants = results_final.loc[(results_final['Initial confidence grading WHO dataset']=='Neutral') | (results_final['Initial confidence grading ALL dataset']=='Neutral') & (results_final['REGRESSION FINAL CONFIDENCE GRADING'] != '3) Uncertain significance')]\n",
    "\n",
    "len(neutral_variants)"
   ]
  },
  {
   "cell_type": "code",
   "execution_count": 154,
   "id": "eeeab01b-f39d-42a6-83bf-378c4b95af52",
   "metadata": {},
   "outputs": [
    {
     "data": {
      "text/plain": [
       "SOLO FINAL CONFIDENCE GRADING\n",
       "3) Uncertain significance     48\n",
       "4) Not assoc w R - Interim    36\n",
       "5) Not assoc w R               7\n",
       "Name: count, dtype: int64"
      ]
     },
     "execution_count": 154,
     "metadata": {},
     "output_type": "execute_result"
    }
   ],
   "source": [
    "# gyrA_p.Arg252Leu is also from the literature\n",
    "neutral_variants['SOLO FINAL CONFIDENCE GRADING'].value_counts()"
   ]
  },
  {
   "cell_type": "code",
   "execution_count": 156,
   "id": "80685bef-30ee-4312-8564-b9448aa41868",
   "metadata": {},
   "outputs": [
    {
     "data": {
      "text/html": [
       "<div>\n",
       "<style scoped>\n",
       "    .dataframe tbody tr th:only-of-type {\n",
       "        vertical-align: middle;\n",
       "    }\n",
       "\n",
       "    .dataframe tbody tr th {\n",
       "        vertical-align: top;\n",
       "    }\n",
       "\n",
       "    .dataframe thead th {\n",
       "        text-align: right;\n",
       "    }\n",
       "</style>\n",
       "<table border=\"1\" class=\"dataframe\">\n",
       "  <thead>\n",
       "    <tr style=\"text-align: right;\">\n",
       "      <th></th>\n",
       "      <th>Drug</th>\n",
       "      <th>gene</th>\n",
       "      <th>mutation</th>\n",
       "      <th>predicted_effect</th>\n",
       "      <th>WHO_Odds_Ratio</th>\n",
       "      <th>WHO_pval</th>\n",
       "      <th>WHO_BH_pval</th>\n",
       "      <th>WHO_neutral_pval</th>\n",
       "      <th>WHO_BH_neutral_pval</th>\n",
       "      <th>WHO_LRT_pval</th>\n",
       "      <th>...</th>\n",
       "      <th>ALL_Spec_LB</th>\n",
       "      <th>ALL_Spec_UB</th>\n",
       "      <th>Initial confidence grading ALL dataset</th>\n",
       "      <th>REGRESSION FINAL CONFIDENCE GRADING</th>\n",
       "      <th>Reason</th>\n",
       "      <th>SOLO INITIAL CONFIDENCE GRADING</th>\n",
       "      <th>SOLO FINAL CONFIDENCE GRADING</th>\n",
       "      <th>REGRESSION GRADING + LOF UPGRADE</th>\n",
       "      <th>REGRESSION + GRADING RULES</th>\n",
       "      <th>variant_category</th>\n",
       "    </tr>\n",
       "  </thead>\n",
       "  <tbody>\n",
       "    <tr>\n",
       "      <th>84</th>\n",
       "      <td>Amikacin</td>\n",
       "      <td>rrs</td>\n",
       "      <td>rrs_n.1077dupT</td>\n",
       "      <td>non_coding_transcript_exon_variant</td>\n",
       "      <td>1.024186</td>\n",
       "      <td>0.143</td>\n",
       "      <td>0.486809</td>\n",
       "      <td>0.193</td>\n",
       "      <td>0.346966</td>\n",
       "      <td>0.208234</td>\n",
       "      <td>...</td>\n",
       "      <td>0.999518</td>\n",
       "      <td>0.999949</td>\n",
       "      <td>Neutral</td>\n",
       "      <td>4) Not assoc w R - Interim</td>\n",
       "      <td>ALL Neutral only</td>\n",
       "      <td>3) Uncertain significance</td>\n",
       "      <td>3) Uncertain significance</td>\n",
       "      <td>4) Not assoc w R - Interim</td>\n",
       "      <td>4) Not assoc w R - Interim</td>\n",
       "      <td>n.1077dupT</td>\n",
       "    </tr>\n",
       "    <tr>\n",
       "      <th>89</th>\n",
       "      <td>Amikacin</td>\n",
       "      <td>rrs</td>\n",
       "      <td>rrs_n.517C&gt;T</td>\n",
       "      <td>non_coding_transcript_exon_variant</td>\n",
       "      <td>1.008540</td>\n",
       "      <td>0.424</td>\n",
       "      <td>0.896000</td>\n",
       "      <td>0.149</td>\n",
       "      <td>0.287229</td>\n",
       "      <td>0.604213</td>\n",
       "      <td>...</td>\n",
       "      <td>0.976974</td>\n",
       "      <td>0.980880</td>\n",
       "      <td>Neutral</td>\n",
       "      <td>4) Not assoc w R - Interim</td>\n",
       "      <td>ALL Neutral only</td>\n",
       "      <td>5) Not assoc w R</td>\n",
       "      <td>5) Not assoc w R</td>\n",
       "      <td>4) Not assoc w R - Interim</td>\n",
       "      <td>4) Not assoc w R - Interim</td>\n",
       "      <td>n.517C&gt;T</td>\n",
       "    </tr>\n",
       "    <tr>\n",
       "      <th>667</th>\n",
       "      <td>Amikacin</td>\n",
       "      <td>eis</td>\n",
       "      <td>eis_c.42G&gt;C</td>\n",
       "      <td>synonymous_variant</td>\n",
       "      <td>1.000056</td>\n",
       "      <td>0.434</td>\n",
       "      <td>0.898000</td>\n",
       "      <td>0.002</td>\n",
       "      <td>0.004861</td>\n",
       "      <td>0.908762</td>\n",
       "      <td>...</td>\n",
       "      <td>0.998206</td>\n",
       "      <td>0.999200</td>\n",
       "      <td>Uncertain</td>\n",
       "      <td>5) Not assoc w R</td>\n",
       "      <td>WHO Neutral only</td>\n",
       "      <td>3) Uncertain significance</td>\n",
       "      <td>4) Not assoc w R - Interim</td>\n",
       "      <td>5) Not assoc w R</td>\n",
       "      <td>5) Not assoc w R</td>\n",
       "      <td>c.42G&gt;C</td>\n",
       "    </tr>\n",
       "    <tr>\n",
       "      <th>1271</th>\n",
       "      <td>Bedaquiline</td>\n",
       "      <td>mmpL5</td>\n",
       "      <td>mmpL5_p.Leu219Phe</td>\n",
       "      <td>missense_variant</td>\n",
       "      <td>1.062927</td>\n",
       "      <td>0.000</td>\n",
       "      <td>0.000000</td>\n",
       "      <td>1.000</td>\n",
       "      <td>1.000000</td>\n",
       "      <td>0.515114</td>\n",
       "      <td>...</td>\n",
       "      <td>0.999324</td>\n",
       "      <td>0.999952</td>\n",
       "      <td>Neutral</td>\n",
       "      <td>4) Not assoc w R - Interim</td>\n",
       "      <td>ALL Neutral only</td>\n",
       "      <td>3) Uncertain significance</td>\n",
       "      <td>3) Uncertain significance</td>\n",
       "      <td>4) Not assoc w R - Interim</td>\n",
       "      <td>4) Not assoc w R - Interim</td>\n",
       "      <td>p.Leu219Phe</td>\n",
       "    </tr>\n",
       "    <tr>\n",
       "      <th>1447</th>\n",
       "      <td>Bedaquiline</td>\n",
       "      <td>mmpL5</td>\n",
       "      <td>mmpL5_c.2079C&gt;G</td>\n",
       "      <td>synonymous_variant</td>\n",
       "      <td>0.969590</td>\n",
       "      <td>0.365</td>\n",
       "      <td>0.485293</td>\n",
       "      <td>0.457</td>\n",
       "      <td>1.000000</td>\n",
       "      <td>0.677829</td>\n",
       "      <td>...</td>\n",
       "      <td>0.999099</td>\n",
       "      <td>0.999875</td>\n",
       "      <td>Neutral</td>\n",
       "      <td>4) Not assoc w R - Interim</td>\n",
       "      <td>ALL Neutral only</td>\n",
       "      <td>3) Uncertain significance</td>\n",
       "      <td>4) Not assoc w R - Interim</td>\n",
       "      <td>4) Not assoc w R - Interim</td>\n",
       "      <td>4) Not assoc w R - Interim</td>\n",
       "      <td>c.2079C&gt;G</td>\n",
       "    </tr>\n",
       "    <tr>\n",
       "      <th>...</th>\n",
       "      <td>...</td>\n",
       "      <td>...</td>\n",
       "      <td>...</td>\n",
       "      <td>...</td>\n",
       "      <td>...</td>\n",
       "      <td>...</td>\n",
       "      <td>...</td>\n",
       "      <td>...</td>\n",
       "      <td>...</td>\n",
       "      <td>...</td>\n",
       "      <td>...</td>\n",
       "      <td>...</td>\n",
       "      <td>...</td>\n",
       "      <td>...</td>\n",
       "      <td>...</td>\n",
       "      <td>...</td>\n",
       "      <td>...</td>\n",
       "      <td>...</td>\n",
       "      <td>...</td>\n",
       "      <td>...</td>\n",
       "      <td>...</td>\n",
       "    </tr>\n",
       "    <tr>\n",
       "      <th>20253</th>\n",
       "      <td>Streptomycin</td>\n",
       "      <td>rrs</td>\n",
       "      <td>rrs_n.1012A&gt;G</td>\n",
       "      <td>non_coding_transcript_exon_variant</td>\n",
       "      <td>1.006574</td>\n",
       "      <td>0.322</td>\n",
       "      <td>0.633719</td>\n",
       "      <td>0.354</td>\n",
       "      <td>0.722562</td>\n",
       "      <td>0.703999</td>\n",
       "      <td>...</td>\n",
       "      <td>0.998820</td>\n",
       "      <td>0.999716</td>\n",
       "      <td>Neutral</td>\n",
       "      <td>4) Not assoc w R - Interim</td>\n",
       "      <td>ALL Neutral only</td>\n",
       "      <td>3) Uncertain significance</td>\n",
       "      <td>3) Uncertain significance</td>\n",
       "      <td>4) Not assoc w R - Interim</td>\n",
       "      <td>4) Not assoc w R - Interim</td>\n",
       "      <td>n.1012A&gt;G</td>\n",
       "    </tr>\n",
       "    <tr>\n",
       "      <th>20257</th>\n",
       "      <td>Streptomycin</td>\n",
       "      <td>gid</td>\n",
       "      <td>gid_p.Ala10Val</td>\n",
       "      <td>missense_variant</td>\n",
       "      <td>0.990109</td>\n",
       "      <td>0.315</td>\n",
       "      <td>0.633719</td>\n",
       "      <td>0.387</td>\n",
       "      <td>0.780489</td>\n",
       "      <td>0.742519</td>\n",
       "      <td>...</td>\n",
       "      <td>0.999098</td>\n",
       "      <td>0.999848</td>\n",
       "      <td>Neutral</td>\n",
       "      <td>4) Not assoc w R - Interim</td>\n",
       "      <td>ALL Neutral only</td>\n",
       "      <td>3) Uncertain significance</td>\n",
       "      <td>3) Uncertain significance</td>\n",
       "      <td>4) Not assoc w R - Interim</td>\n",
       "      <td>4) Not assoc w R - Interim</td>\n",
       "      <td>p.Ala10Val</td>\n",
       "    </tr>\n",
       "    <tr>\n",
       "      <th>20356</th>\n",
       "      <td>Streptomycin</td>\n",
       "      <td>whiB7</td>\n",
       "      <td>whiB7_c.-215delC</td>\n",
       "      <td>upstream_gene_variant</td>\n",
       "      <td>1.008081</td>\n",
       "      <td>0.165</td>\n",
       "      <td>0.465448</td>\n",
       "      <td>0.350</td>\n",
       "      <td>0.716796</td>\n",
       "      <td>1.000000</td>\n",
       "      <td>...</td>\n",
       "      <td>0.999501</td>\n",
       "      <td>0.999983</td>\n",
       "      <td>Neutral</td>\n",
       "      <td>4) Not assoc w R - Interim</td>\n",
       "      <td>ALL Neutral only</td>\n",
       "      <td>3) Uncertain significance</td>\n",
       "      <td>3) Uncertain significance</td>\n",
       "      <td>4) Not assoc w R - Interim</td>\n",
       "      <td>4) Not assoc w R - Interim</td>\n",
       "      <td>c.-215delC</td>\n",
       "    </tr>\n",
       "    <tr>\n",
       "      <th>20447</th>\n",
       "      <td>Streptomycin</td>\n",
       "      <td>rpsL</td>\n",
       "      <td>rpsL_c.117C&gt;T</td>\n",
       "      <td>synonymous_variant</td>\n",
       "      <td>0.999750</td>\n",
       "      <td>0.508</td>\n",
       "      <td>0.633367</td>\n",
       "      <td>0.014</td>\n",
       "      <td>0.034712</td>\n",
       "      <td>0.964704</td>\n",
       "      <td>...</td>\n",
       "      <td>0.996940</td>\n",
       "      <td>0.998534</td>\n",
       "      <td>Uncertain</td>\n",
       "      <td>5) Not assoc w R</td>\n",
       "      <td>WHO Neutral only</td>\n",
       "      <td>3) Uncertain significance</td>\n",
       "      <td>4) Not assoc w R - Interim</td>\n",
       "      <td>5) Not assoc w R</td>\n",
       "      <td>5) Not assoc w R</td>\n",
       "      <td>c.117C&gt;T</td>\n",
       "    </tr>\n",
       "    <tr>\n",
       "      <th>20458</th>\n",
       "      <td>Streptomycin</td>\n",
       "      <td>gid</td>\n",
       "      <td>gid_c.-50A&gt;G</td>\n",
       "      <td>upstream_gene_variant</td>\n",
       "      <td>0.992441</td>\n",
       "      <td>0.576</td>\n",
       "      <td>0.634835</td>\n",
       "      <td>0.000</td>\n",
       "      <td>0.000000</td>\n",
       "      <td>1.000000</td>\n",
       "      <td>...</td>\n",
       "      <td>0.999293</td>\n",
       "      <td>0.999925</td>\n",
       "      <td>Neutral</td>\n",
       "      <td>4) Not assoc w R - Interim</td>\n",
       "      <td>ALL Neutral only</td>\n",
       "      <td>3) Uncertain significance</td>\n",
       "      <td>3) Uncertain significance</td>\n",
       "      <td>4) Not assoc w R - Interim</td>\n",
       "      <td>4) Not assoc w R - Interim</td>\n",
       "      <td>c.-50A&gt;G</td>\n",
       "    </tr>\n",
       "  </tbody>\n",
       "</table>\n",
       "<p>91 rows × 67 columns</p>\n",
       "</div>"
      ],
      "text/plain": [
       "               Drug   gene           mutation  \\\n",
       "84         Amikacin    rrs     rrs_n.1077dupT   \n",
       "89         Amikacin    rrs       rrs_n.517C>T   \n",
       "667        Amikacin    eis        eis_c.42G>C   \n",
       "1271    Bedaquiline  mmpL5  mmpL5_p.Leu219Phe   \n",
       "1447    Bedaquiline  mmpL5    mmpL5_c.2079C>G   \n",
       "...             ...    ...                ...   \n",
       "20253  Streptomycin    rrs      rrs_n.1012A>G   \n",
       "20257  Streptomycin    gid     gid_p.Ala10Val   \n",
       "20356  Streptomycin  whiB7   whiB7_c.-215delC   \n",
       "20447  Streptomycin   rpsL      rpsL_c.117C>T   \n",
       "20458  Streptomycin    gid       gid_c.-50A>G   \n",
       "\n",
       "                         predicted_effect  WHO_Odds_Ratio  WHO_pval  \\\n",
       "84     non_coding_transcript_exon_variant        1.024186     0.143   \n",
       "89     non_coding_transcript_exon_variant        1.008540     0.424   \n",
       "667                    synonymous_variant        1.000056     0.434   \n",
       "1271                     missense_variant        1.062927     0.000   \n",
       "1447                   synonymous_variant        0.969590     0.365   \n",
       "...                                   ...             ...       ...   \n",
       "20253  non_coding_transcript_exon_variant        1.006574     0.322   \n",
       "20257                    missense_variant        0.990109     0.315   \n",
       "20356               upstream_gene_variant        1.008081     0.165   \n",
       "20447                  synonymous_variant        0.999750     0.508   \n",
       "20458               upstream_gene_variant        0.992441     0.576   \n",
       "\n",
       "       WHO_BH_pval  WHO_neutral_pval  WHO_BH_neutral_pval  WHO_LRT_pval  ...  \\\n",
       "84        0.486809             0.193             0.346966      0.208234  ...   \n",
       "89        0.896000             0.149             0.287229      0.604213  ...   \n",
       "667       0.898000             0.002             0.004861      0.908762  ...   \n",
       "1271      0.000000             1.000             1.000000      0.515114  ...   \n",
       "1447      0.485293             0.457             1.000000      0.677829  ...   \n",
       "...            ...               ...                  ...           ...  ...   \n",
       "20253     0.633719             0.354             0.722562      0.703999  ...   \n",
       "20257     0.633719             0.387             0.780489      0.742519  ...   \n",
       "20356     0.465448             0.350             0.716796      1.000000  ...   \n",
       "20447     0.633367             0.014             0.034712      0.964704  ...   \n",
       "20458     0.634835             0.000             0.000000      1.000000  ...   \n",
       "\n",
       "       ALL_Spec_LB  ALL_Spec_UB  Initial confidence grading ALL dataset  \\\n",
       "84        0.999518     0.999949                                 Neutral   \n",
       "89        0.976974     0.980880                                 Neutral   \n",
       "667       0.998206     0.999200                               Uncertain   \n",
       "1271      0.999324     0.999952                                 Neutral   \n",
       "1447      0.999099     0.999875                                 Neutral   \n",
       "...            ...          ...                                     ...   \n",
       "20253     0.998820     0.999716                                 Neutral   \n",
       "20257     0.999098     0.999848                                 Neutral   \n",
       "20356     0.999501     0.999983                                 Neutral   \n",
       "20447     0.996940     0.998534                               Uncertain   \n",
       "20458     0.999293     0.999925                                 Neutral   \n",
       "\n",
       "       REGRESSION FINAL CONFIDENCE GRADING            Reason  \\\n",
       "84              4) Not assoc w R - Interim  ALL Neutral only   \n",
       "89              4) Not assoc w R - Interim  ALL Neutral only   \n",
       "667                       5) Not assoc w R  WHO Neutral only   \n",
       "1271            4) Not assoc w R - Interim  ALL Neutral only   \n",
       "1447            4) Not assoc w R - Interim  ALL Neutral only   \n",
       "...                                    ...               ...   \n",
       "20253           4) Not assoc w R - Interim  ALL Neutral only   \n",
       "20257           4) Not assoc w R - Interim  ALL Neutral only   \n",
       "20356           4) Not assoc w R - Interim  ALL Neutral only   \n",
       "20447                     5) Not assoc w R  WHO Neutral only   \n",
       "20458           4) Not assoc w R - Interim  ALL Neutral only   \n",
       "\n",
       "       SOLO INITIAL CONFIDENCE GRADING  SOLO FINAL CONFIDENCE GRADING  \\\n",
       "84           3) Uncertain significance      3) Uncertain significance   \n",
       "89                    5) Not assoc w R               5) Not assoc w R   \n",
       "667          3) Uncertain significance     4) Not assoc w R - Interim   \n",
       "1271         3) Uncertain significance      3) Uncertain significance   \n",
       "1447         3) Uncertain significance     4) Not assoc w R - Interim   \n",
       "...                                ...                            ...   \n",
       "20253        3) Uncertain significance      3) Uncertain significance   \n",
       "20257        3) Uncertain significance      3) Uncertain significance   \n",
       "20356        3) Uncertain significance      3) Uncertain significance   \n",
       "20447        3) Uncertain significance     4) Not assoc w R - Interim   \n",
       "20458        3) Uncertain significance      3) Uncertain significance   \n",
       "\n",
       "       REGRESSION GRADING + LOF UPGRADE  REGRESSION + GRADING RULES  \\\n",
       "84           4) Not assoc w R - Interim  4) Not assoc w R - Interim   \n",
       "89           4) Not assoc w R - Interim  4) Not assoc w R - Interim   \n",
       "667                    5) Not assoc w R            5) Not assoc w R   \n",
       "1271         4) Not assoc w R - Interim  4) Not assoc w R - Interim   \n",
       "1447         4) Not assoc w R - Interim  4) Not assoc w R - Interim   \n",
       "...                                 ...                         ...   \n",
       "20253        4) Not assoc w R - Interim  4) Not assoc w R - Interim   \n",
       "20257        4) Not assoc w R - Interim  4) Not assoc w R - Interim   \n",
       "20356        4) Not assoc w R - Interim  4) Not assoc w R - Interim   \n",
       "20447                  5) Not assoc w R            5) Not assoc w R   \n",
       "20458        4) Not assoc w R - Interim  4) Not assoc w R - Interim   \n",
       "\n",
       "       variant_category  \n",
       "84           n.1077dupT  \n",
       "89             n.517C>T  \n",
       "667             c.42G>C  \n",
       "1271        p.Leu219Phe  \n",
       "1447          c.2079C>G  \n",
       "...                 ...  \n",
       "20253         n.1012A>G  \n",
       "20257        p.Ala10Val  \n",
       "20356        c.-215delC  \n",
       "20447          c.117C>T  \n",
       "20458          c.-50A>G  \n",
       "\n",
       "[91 rows x 67 columns]"
      ]
     },
     "execution_count": 156,
     "metadata": {},
     "output_type": "execute_result"
    }
   ],
   "source": [
    "neutral_variants"
   ]
  },
  {
   "cell_type": "code",
   "execution_count": null,
   "id": "02b0fb90-74da-416f-96e7-74a0ee15a2a6",
   "metadata": {},
   "outputs": [],
   "source": []
  }
 ],
 "metadata": {
  "kernelspec": {
   "display_name": "Python 3 (ipykernel)",
   "language": "python",
   "name": "python3"
  },
  "language_info": {
   "codemirror_mode": {
    "name": "ipython",
    "version": 3
   },
   "file_extension": ".py",
   "mimetype": "text/x-python",
   "name": "python",
   "nbconvert_exporter": "python",
   "pygments_lexer": "ipython3",
   "version": "3.9.18"
  }
 },
 "nbformat": 4,
 "nbformat_minor": 5
}
