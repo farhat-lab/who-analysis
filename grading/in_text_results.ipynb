{
 "cells": [
  {
   "cell_type": "code",
   "execution_count": 4,
   "id": "e90cf878-292e-4fb2-894a-29e2922e4b02",
   "metadata": {},
   "outputs": [
    {
     "name": "stdout",
     "output_type": "stream",
     "text": [
      "(52567, 10)\n"
     ]
    }
   ],
   "source": [
    "import numpy as np\n",
    "import pandas as pd\n",
    "import matplotlib.pyplot as plt\n",
    "import matplotlib.patches as mpatches\n",
    "from matplotlib_venn import venn2, venn3\n",
    "\n",
    "plt.rcParams['figure.dpi'] = 150\n",
    "import seaborn as sns\n",
    "import scipy.stats as st\n",
    "import statsmodels\n",
    "import statsmodels.api as sm\n",
    "from functools import reduce\n",
    "\n",
    "import glob, os, yaml, subprocess, itertools, sparse, sys, statsmodels, shutil\n",
    "from sklearn.model_selection import train_test_split, KFold, GridSearchCV\n",
    "from sklearn.preprocessing import StandardScaler\n",
    "from sklearn.linear_model import LogisticRegression, LogisticRegressionCV\n",
    "\n",
    "analysis_dir = '/n/data1/hms/dbmi/farhat/Sanjana/who-mutation-catalogue'\n",
    "\n",
    "lineages = pd.read_csv(\"../lineages/combined_lineages_samples.csv\")\n",
    "print(lineages.shape)\n",
    "import collections, warnings\n",
    "warnings.filterwarnings(\"ignore\")\n",
    "\n",
    "sys.path.append(os.path.join(os.path.dirname(os.getcwd()), \"utils\"))\n",
    "from stats_utils import *\n",
    "from data_utils import *\n",
    "\n",
    "coll2014 = pd.read_csv(\"../data/coll2014_SNP_scheme.tsv\", sep=\"\\t\")\n",
    "coll2014[\"#lineage\"] = coll2014[\"#lineage\"].str.replace(\"lineage\", \"\")\n",
    "coll2014.rename(columns={\"#lineage\": \"Lineage\"}, inplace=True)\n",
    "coll2014['nucleotide'] = [val.split('/')[1] for val in coll2014['allele_change'].values]\n",
    "\n",
    "drug_abbr_dict = {\"Delamanid\": \"DLM\",\n",
    "                  \"Bedaquiline\": \"BDQ\",\n",
    "                  \"Clofazimine\": \"CFZ\",\n",
    "                  \"Ethionamide\": \"ETO\",\n",
    "                  \"Linezolid\": \"LZD\",\n",
    "                  \"Moxifloxacin\": \"MXF\",\n",
    "                  \"Capreomycin\": \"CAP\",\n",
    "                  \"Amikacin\": \"AMK\",\n",
    "                  \"Pretomanid\": \"PMD\",\n",
    "                  \"Pyrazinamide\": \"PZA\",\n",
    "                  \"Kanamycin\": \"KAN\",\n",
    "                  \"Levofloxacin\": \"LFX\",\n",
    "                  \"Streptomycin\": \"STM\",\n",
    "                  \"Ethambutol\": \"EMB\",\n",
    "                  \"Isoniazid\": \"INH\",\n",
    "                  \"Rifampicin\": \"RIF\"\n",
    "                 }\n",
    "\n",
    "cc_df = pd.read_csv(\"../data/drug_CC.csv\")\n",
    "# who_variants_V1 = pd.read_excel(\"../results/WHO-catalog-V1.xlsx\", sheet_name='Mutation_catalogue')\n",
    "# who_variants = pd.read_csv(\"../results/WHO-catalog-V2-full.csv\", header=[2]).query(\"tier==1\").reset_index(drop=True)\n",
    "# del who_variants['mutation']\n",
    "\n",
    "# for col in who_variants.columns[6:46]:\n",
    "#     who_variants.rename(columns={col: f\"ALL_{col}\"}, inplace=True)\n",
    "\n",
    "# for col in who_variants.columns[50:97]:\n",
    "#     who_variants.rename(columns={col: f\"WHO_{col.replace('.1', '')}\"}, inplace=True)\n",
    "\n",
    "# who_variants.to_csv(\"../results/WHO-catalog-V2-tier1.csv\", index=False)\n",
    "who_variants = pd.read_csv(\"../results/WHO-catalog-V2-tier1.csv\")\n",
    "del who_variants['mutation']\n",
    "RS_counts = pd.read_csv(\"../tables/Figure_3A_data.csv\", index_col='Drug')\n",
    "\n",
    "results_final = pd.read_csv(\"../results/Regression_Final_June2024_Tier1.csv\")\n",
    "not_assocR_literature = pd.read_excel(\"../data/NotAwR by literature.xlsx\", sheet_name=0).rename(columns={'drug': 'Drug', 'variant': 'mutation'})\n",
    "\n",
    "drug_gene_mapping = pd.read_csv(\"../data/drug_gene_mapping.csv\")\n",
    "silent_lst = ['synonymous_variant', 'initiator_codon_variant', 'stop_retained_variant']\n",
    "\n",
    "drugs_lst = list(drug_abbr_dict.keys())\n",
    "sample_ids_mapping = pd.read_csv(\"../data/sample_ids_mapping_20220922.csv\")"
   ]
  },
  {
   "cell_type": "markdown",
   "id": "37501916-868d-45bc-a5fd-6957b212b46c",
   "metadata": {},
   "source": [
    "# Overview of Regression Gradings"
   ]
  },
  {
   "cell_type": "code",
   "execution_count": 2,
   "id": "ac18fbda-bb3e-4026-aa82-08f188c558ba",
   "metadata": {},
   "outputs": [],
   "source": [
    "regression_grading_cols_lst = ['REGRESSION FINAL CONFIDENCE GRADING', 'REGRESSION + GRADING RULES']\n",
    "solo_cols_lst = ['SOLO INITIAL CONFIDENCE GRADING', 'SOLO FINAL CONFIDENCE GRADING']\n",
    "\n",
    "regression_totals_df = []\n",
    "solo_totals_df = []\n",
    "\n",
    "for col in regression_grading_cols_lst:\n",
    "    regression_totals_df.append(pd.DataFrame(results_final[col].value_counts()).reset_index().rename(columns={col: 'Grading', 'count': col}).set_index('Grading'))\n",
    "\n",
    "for col in solo_cols_lst:\n",
    "    solo_totals_df.append(pd.DataFrame(results_final[col].value_counts()).reset_index().rename(columns={col: 'Grading', 'count': col}).set_index('Grading'))\n",
    "\n",
    "regression_totals_df = pd.concat(regression_totals_df, axis=1).sort_index()\n",
    "solo_totals_df = pd.concat(solo_totals_df, axis=1).sort_index()"
   ]
  },
  {
   "cell_type": "code",
   "execution_count": 3,
   "id": "bbd05957-232a-4898-93a7-87fccae6fa8a",
   "metadata": {},
   "outputs": [
    {
     "data": {
      "text/html": [
       "<div>\n",
       "<style scoped>\n",
       "    .dataframe tbody tr th:only-of-type {\n",
       "        vertical-align: middle;\n",
       "    }\n",
       "\n",
       "    .dataframe tbody tr th {\n",
       "        vertical-align: top;\n",
       "    }\n",
       "\n",
       "    .dataframe thead th {\n",
       "        text-align: right;\n",
       "    }\n",
       "</style>\n",
       "<table border=\"1\" class=\"dataframe\">\n",
       "  <thead>\n",
       "    <tr style=\"text-align: right;\">\n",
       "      <th></th>\n",
       "      <th>REGRESSION FINAL CONFIDENCE GRADING</th>\n",
       "      <th>REGRESSION + GRADING RULES</th>\n",
       "      <th>SOLO INITIAL CONFIDENCE GRADING</th>\n",
       "      <th>SOLO FINAL CONFIDENCE GRADING</th>\n",
       "    </tr>\n",
       "    <tr>\n",
       "      <th>Grading</th>\n",
       "      <th></th>\n",
       "      <th></th>\n",
       "      <th></th>\n",
       "      <th></th>\n",
       "    </tr>\n",
       "  </thead>\n",
       "  <tbody>\n",
       "    <tr>\n",
       "      <th>1) Assoc w R</th>\n",
       "      <td>589</td>\n",
       "      <td>589</td>\n",
       "      <td>311</td>\n",
       "      <td>253</td>\n",
       "    </tr>\n",
       "    <tr>\n",
       "      <th>2) Assoc w R - Interim</th>\n",
       "      <td>164</td>\n",
       "      <td>1050</td>\n",
       "      <td>146</td>\n",
       "      <td>1130</td>\n",
       "    </tr>\n",
       "    <tr>\n",
       "      <th>3) Uncertain significance</th>\n",
       "      <td>20617</td>\n",
       "      <td>14763</td>\n",
       "      <td>20835</td>\n",
       "      <td>14958</td>\n",
       "    </tr>\n",
       "    <tr>\n",
       "      <th>4) Not assoc w R - Interim</th>\n",
       "      <td>130</td>\n",
       "      <td>5098</td>\n",
       "      <td>19</td>\n",
       "      <td>4998</td>\n",
       "    </tr>\n",
       "    <tr>\n",
       "      <th>5) Not assoc w R</th>\n",
       "      <td>89</td>\n",
       "      <td>89</td>\n",
       "      <td>278</td>\n",
       "      <td>250</td>\n",
       "    </tr>\n",
       "  </tbody>\n",
       "</table>\n",
       "</div>"
      ],
      "text/plain": [
       "                            REGRESSION FINAL CONFIDENCE GRADING  \\\n",
       "Grading                                                           \n",
       "1) Assoc w R                                                589   \n",
       "2) Assoc w R - Interim                                      164   \n",
       "3) Uncertain significance                                 20617   \n",
       "4) Not assoc w R - Interim                                  130   \n",
       "5) Not assoc w R                                             89   \n",
       "\n",
       "                            REGRESSION + GRADING RULES  \\\n",
       "Grading                                                  \n",
       "1) Assoc w R                                       589   \n",
       "2) Assoc w R - Interim                            1050   \n",
       "3) Uncertain significance                        14763   \n",
       "4) Not assoc w R - Interim                        5098   \n",
       "5) Not assoc w R                                    89   \n",
       "\n",
       "                            SOLO INITIAL CONFIDENCE GRADING  \\\n",
       "Grading                                                       \n",
       "1) Assoc w R                                            311   \n",
       "2) Assoc w R - Interim                                  146   \n",
       "3) Uncertain significance                             20835   \n",
       "4) Not assoc w R - Interim                               19   \n",
       "5) Not assoc w R                                        278   \n",
       "\n",
       "                            SOLO FINAL CONFIDENCE GRADING  \n",
       "Grading                                                    \n",
       "1) Assoc w R                                          253  \n",
       "2) Assoc w R - Interim                               1130  \n",
       "3) Uncertain significance                           14958  \n",
       "4) Not assoc w R - Interim                           4998  \n",
       "5) Not assoc w R                                      250  "
      ]
     },
     "execution_count": 3,
     "metadata": {},
     "output_type": "execute_result"
    }
   ],
   "source": [
    "regression_totals_df.merge(solo_totals_df, left_index=True, right_index=True)"
   ]
  },
  {
   "cell_type": "code",
   "execution_count": 2,
   "id": "c4d58af2-ec50-4b9a-8b79-a35e77a80438",
   "metadata": {},
   "outputs": [
    {
     "data": {
      "text/plain": [
       "754"
      ]
     },
     "execution_count": 2,
     "metadata": {},
     "output_type": "execute_result"
    }
   ],
   "source": [
    "311+146+19+278"
   ]
  },
  {
   "cell_type": "code",
   "execution_count": 1,
   "id": "90e88d66-6d70-4d05-b611-3c9685c6e726",
   "metadata": {},
   "outputs": [
    {
     "data": {
      "text/plain": [
       "218"
      ]
     },
     "execution_count": 1,
     "metadata": {},
     "output_type": "execute_result"
    }
   ],
   "source": [
    "20835-20617"
   ]
  },
  {
   "cell_type": "code",
   "execution_count": 3,
   "id": "c0124a31-25cf-4c92-9445-21ef5f0752fb",
   "metadata": {},
   "outputs": [
    {
     "data": {
      "text/plain": [
       "0.2891246684350133"
      ]
     },
     "execution_count": 3,
     "metadata": {},
     "output_type": "execute_result"
    }
   ],
   "source": [
    "218/754"
   ]
  },
  {
   "cell_type": "code",
   "execution_count": null,
   "id": "169b7733-7194-47b3-b5ca-297487ba7c82",
   "metadata": {},
   "outputs": [],
   "source": []
  },
  {
   "cell_type": "code",
   "execution_count": 4,
   "id": "fa3cd877-97fc-4bed-a6dd-5d64b41f4dd3",
   "metadata": {},
   "outputs": [
    {
     "data": {
      "text/plain": [
       "(218, 754, 0.2891246684350133)"
      ]
     },
     "execution_count": 4,
     "metadata": {},
     "output_type": "execute_result"
    }
   ],
   "source": [
    "solo_uncertain = solo_totals_df.loc['3) Uncertain significance', 'SOLO INITIAL CONFIDENCE GRADING']\n",
    "regression_uncertain = regression_totals_df.loc['3) Uncertain significance', 'REGRESSION FINAL CONFIDENCE GRADING']\n",
    "\n",
    "solo_graded = solo_totals_df.drop(labels='3) Uncertain significance')['SOLO INITIAL CONFIDENCE GRADING'].sum()\n",
    "\n",
    "# how many fewer Uncertain mutations does regression leave? What is the percent change relative to the number of SOLO graded mutations?\n",
    "solo_uncertain-regression_uncertain, solo_graded, (solo_uncertain-regression_uncertain)/solo_graded"
   ]
  },
  {
   "cell_type": "code",
   "execution_count": 5,
   "id": "8acec19d-1483-4ff7-90d8-ae9452ec372c",
   "metadata": {},
   "outputs": [
    {
     "name": "stdout",
     "output_type": "stream",
     "text": [
      "804 variants were upgraded by grading rules\n",
      "804 non-silent variants were upgraded by grading rules\n",
      "5050 variants were upgraded by grading rules\n",
      "146 non-silent variants were upgraded by grading rules\n"
     ]
    }
   ],
   "source": [
    "regression_LoF_upgrades = results_final.loc[(results_final['REGRESSION FINAL CONFIDENCE GRADING'] != results_final['REGRESSION GRADING + LOF UPGRADE'])]\n",
    "regression_GR_upgrades = results_final.loc[(results_final['REGRESSION GRADING + LOF UPGRADE'] != results_final['REGRESSION + GRADING RULES'])]\n",
    "\n",
    "print(f'{len(regression_LoF_upgrades)} variants were upgraded by grading rules')\n",
    "print(f'{len(regression_LoF_upgrades.query(\"predicted_effect not in @silent_lst\"))} non-silent variants were upgraded by grading rules')\n",
    "print(f'{len(regression_GR_upgrades)} variants were upgraded by grading rules')\n",
    "print(f'{len(regression_GR_upgrades.query(\"predicted_effect not in @silent_lst\"))} non-silent variants were upgraded by grading rules')"
   ]
  },
  {
   "cell_type": "markdown",
   "id": "d10aa5eb-662a-45d8-bae6-4e3913ef0367",
   "metadata": {},
   "source": [
    "# Number of Variants tested only in the ALL dataset or Ungraded"
   ]
  },
  {
   "cell_type": "code",
   "execution_count": 6,
   "id": "299db3e8-e8b9-4e40-a2b7-6a09a8b6c778",
   "metadata": {},
   "outputs": [
    {
     "name": "stdout",
     "output_type": "stream",
     "text": [
      "2388 (11.1)% mutations were not tested in either phenotypic dataset\n",
      "0/19201 (0.0)% mutations were only tested in the WHO dataset\n",
      "6710/19201 (34.9)% mutations were only tested in the ALL dataset\n",
      "12173 (97.5)% mutations have the same grading in both datasets\n"
     ]
    }
   ],
   "source": [
    "ungraded_muts = results_final.loc[(pd.isnull(results_final['WHO_Odds_Ratio'])) & (pd.isnull(results_final['ALL_Odds_Ratio']))]\n",
    "graded_muts = results_final.dropna(subset=['WHO_Odds_Ratio', 'ALL_Odds_Ratio'], how='all')\n",
    "WHO_only = results_final.loc[(~pd.isnull(results_final['WHO_Odds_Ratio'])) & (pd.isnull(results_final['ALL_Odds_Ratio']))]\n",
    "ALL_only = results_final.loc[(pd.isnull(results_final['WHO_Odds_Ratio'])) & (~pd.isnull(results_final['ALL_Odds_Ratio']))]\n",
    "\n",
    "WHO_ALL_graded = results_final.loc[(~pd.isnull(results_final['WHO_Odds_Ratio'])) & (~pd.isnull(results_final['ALL_Odds_Ratio']))]\n",
    "WHO_ALL_same_grading = WHO_ALL_graded.loc[(WHO_ALL_graded['Initial confidence grading WHO dataset'] == WHO_ALL_graded['Initial confidence grading ALL dataset'])]\n",
    "\n",
    "print(f\"{len(ungraded_muts)} ({np.round(len(ungraded_muts) / len(results_final) * 100, 1)})% mutations were not tested in either phenotypic dataset\")\n",
    "print(f\"{len(WHO_only)}/{len(graded_muts)} ({np.round(len(WHO_only) / len(graded_muts) * 100, 1)})% mutations were only tested in the WHO dataset\")\n",
    "print(f\"{len(ALL_only)}/{len(graded_muts)} ({np.round(len(ALL_only) / len(graded_muts) * 100, 1)})% mutations were only tested in the ALL dataset\")\n",
    "print(f\"{len(WHO_ALL_same_grading)} ({np.round(len(WHO_ALL_same_grading) / len(WHO_ALL_graded) * 100, 1)})% mutations have the same grading in both datasets\")"
   ]
  },
  {
   "cell_type": "code",
   "execution_count": 7,
   "id": "469fc941-5695-4037-a0f0-94ec0c5854b1",
   "metadata": {},
   "outputs": [
    {
     "data": {
      "text/plain": [
       "(12491, 12491)"
      ]
     },
     "execution_count": 7,
     "metadata": {},
     "output_type": "execute_result"
    }
   ],
   "source": [
    "len(graded_muts) - len(ALL_only), len(WHO_ALL_graded)"
   ]
  },
  {
   "cell_type": "markdown",
   "id": "d0bd40a5-5828-47ef-9b16-fc2232619601",
   "metadata": {},
   "source": [
    "# Number of Variants that meet different Criteria for resolving WHO and ALL discrepancies"
   ]
  },
  {
   "cell_type": "code",
   "execution_count": 12,
   "id": "50f2d836-7f16-4f14-9c70-f8ebea345c32",
   "metadata": {},
   "outputs": [
    {
     "name": "stdout",
     "output_type": "stream",
     "text": [
      "Both Assoc w R: 589\n",
      "Both Not assoc w R or Neutral: 61\n",
      "WHO = Neutral, ALL = Uncertain: 28\n",
      "WHO = Uncertain, ALL = Neutral: 53\n",
      "WHO = Assoc w R, ALL = Uncertain: 15\n",
      "WHO = Not assoc w R, ALL = Uncertain: 17\n",
      "WHO = Uncertain, ALL = Assoc w R: 149\n",
      "WHO = Uncertain, ALL = Not assoc w R: 55\n",
      "WHO = Assoc w R, ALL = Not assoc w R, Neutral: 0\n",
      "WHO = Not assoc w R, Neutral, ALL = Assoc w R: 0\n"
     ]
    }
   ],
   "source": [
    "WHO_col = 'Initial confidence grading WHO dataset'\n",
    "ALL_col = 'Initial confidence grading ALL dataset'\n",
    "\n",
    "print('Both Assoc w R:', len(results_final.loc[(results_final[WHO_col]=='Assoc w R') & (results_final[ALL_col]=='Assoc w R')]))\n",
    "\n",
    "print('Both Not assoc w R or Neutral:', len(results_final.loc[(results_final[WHO_col].isin(['Not assoc w R', 'Neutral'])) & (results_final[ALL_col].isin(['Not assoc w R', 'Neutral']))]))\n",
    "\n",
    "print('WHO = Neutral, ALL = Uncertain:', len(results_final.loc[(results_final[WHO_col]=='Neutral') & (results_final[ALL_col]=='Uncertain')]))\n",
    "\n",
    "print('WHO = Uncertain, ALL = Neutral:', len(results_final.loc[(results_final[WHO_col]=='Uncertain') & (results_final[ALL_col]=='Neutral') & (~pd.isnull(results_final[WHO_col]))]))\n",
    "\n",
    "print('WHO = Assoc w R, ALL = Uncertain:', len(results_final.loc[(results_final[WHO_col]=='Assoc w R') & (results_final[ALL_col]=='Uncertain')]))\n",
    "\n",
    "print('WHO = Not assoc w R, ALL = Uncertain:', len(results_final.loc[(results_final[WHO_col]=='Not assoc w R') & (results_final[ALL_col]=='Uncertain')]))\n",
    "\n",
    "print('WHO = Uncertain, ALL = Assoc w R:', len(results_final.loc[(results_final[WHO_col]=='Uncertain') & (results_final[ALL_col]=='Assoc w R')]))\n",
    "\n",
    "print('WHO = Uncertain, ALL = Not assoc w R:', len(results_final.loc[(results_final[WHO_col]=='Uncertain') & (results_final[ALL_col]=='Not assoc w R')]))\n",
    "\n",
    "print('WHO = Assoc w R, ALL = Not assoc w R, Neutral:', len(results_final.loc[(results_final[WHO_col]=='Assoc w R') & (results_final[ALL_col].isin(['Not assoc w R', 'Neutral']))]))\n",
    "\n",
    "print('WHO = Not assoc w R, Neutral, ALL = Assoc w R:', len(results_final.loc[(results_final[ALL_col]=='Assoc w R') & (results_final[WHO_col].isin(['Not assoc w R', 'Neutral']))]))"
   ]
  },
  {
   "cell_type": "markdown",
   "id": "a860449d-14c5-4124-a2ca-a58114b706e4",
   "metadata": {},
   "source": [
    "# Results Section A\n",
    "\n",
    "## Variants that are Assoc w R in WHO and Uncertain in ALL"
   ]
  },
  {
   "cell_type": "code",
   "execution_count": 105,
   "id": "7cf7b0f5-2ffd-4ccd-9040-5ceab69efeb9",
   "metadata": {},
   "outputs": [
    {
     "data": {
      "text/plain": [
       "(452, 457, 0.9890590809628009)"
      ]
     },
     "execution_count": 105,
     "metadata": {},
     "output_type": "execute_result"
    }
   ],
   "source": [
    "search_string = 'Assoc w R'\n",
    "\n",
    "regression_Group12_agreement = len(results_final.loc[(results_final['REGRESSION FINAL CONFIDENCE GRADING'].str.contains(search_string)) & (results_final['SOLO INITIAL CONFIDENCE GRADING'].str.contains(search_string))])\n",
    "\n",
    "SOLO_Group12 = len(results_final.loc[(results_final['SOLO INITIAL CONFIDENCE GRADING'].str.contains(search_string))])\n",
    "\n",
    "regression_Group12_agreement, SOLO_Group12, regression_Group12_agreement/SOLO_Group12"
   ]
  },
  {
   "cell_type": "code",
   "execution_count": 106,
   "id": "8d9f5e9a-f7f0-44a7-b795-37d26b9f3285",
   "metadata": {},
   "outputs": [
    {
     "data": {
      "text/plain": [
       "(1380, 1383, 0.9978308026030369)"
      ]
     },
     "execution_count": 106,
     "metadata": {},
     "output_type": "execute_result"
    }
   ],
   "source": [
    "search_string = 'Assoc w R'\n",
    "\n",
    "regression_SOLO_GR_Group12_agreement = len(results_final.loc[(results_final['REGRESSION + GRADING RULES'].str.contains(search_string)) & (results_final['SOLO FINAL CONFIDENCE GRADING'].str.contains(search_string))])\n",
    "\n",
    "SOLO_GR_Group12 = len(results_final.loc[(results_final['SOLO FINAL CONFIDENCE GRADING'].str.contains(search_string))])\n",
    "\n",
    "regression_SOLO_GR_Group12_agreement, SOLO_GR_Group12, regression_SOLO_GR_Group12_agreement/SOLO_GR_Group12"
   ]
  },
  {
   "cell_type": "code",
   "execution_count": 2,
   "id": "0500fda2-7dfe-4cda-8efb-13e25e23bf46",
   "metadata": {},
   "outputs": [
    {
     "name": "stdout",
     "output_type": "stream",
     "text": [
      "Regression: 753\n",
      "Regression + GR: 1639\n",
      "SOLO: 457\n",
      "SOLO + GR: 1383\n"
     ]
    }
   ],
   "source": [
    "# Groups 1 and 2\n",
    "regression_Groups12 = results_final.loc[(results_final['REGRESSION FINAL CONFIDENCE GRADING'].str.contains('Assoc w R'))]\n",
    "regression_GR_Groups12 = results_final.loc[(results_final['REGRESSION + GRADING RULES'].str.contains('Assoc w R'))]\n",
    "SOLO_Groups12 = results_final.loc[results_final['SOLO INITIAL CONFIDENCE GRADING'].str.contains('Assoc w R')]\n",
    "SOLO_GR_Groups12 = results_final.loc[results_final['SOLO FINAL CONFIDENCE GRADING'].str.contains('Assoc w R')]\n",
    "\n",
    "groups12_lst = [regression_Groups12, regression_GR_Groups12, SOLO_Groups12, SOLO_GR_Groups12]\n",
    "group_names = ['Regression', 'Regression + GR', 'SOLO', 'SOLO + GR']\n",
    "\n",
    "for name, df in zip(group_names, groups12_lst):\n",
    "    print(f\"{name}: {len(df)}\")"
   ]
  },
  {
   "cell_type": "code",
   "execution_count": 3,
   "id": "2c963134-a996-4ea9-8864-ff6603e6b2b6",
   "metadata": {},
   "outputs": [
    {
     "data": {
      "text/plain": [
       "(296, 0.6477024070021882)"
      ]
     },
     "execution_count": 3,
     "metadata": {},
     "output_type": "execute_result"
    }
   ],
   "source": [
    "len(regression_Groups12) - len(SOLO_Groups12), (len(regression_Groups12) - len(SOLO_Groups12)) / len(SOLO_Groups12)"
   ]
  },
  {
   "cell_type": "code",
   "execution_count": 4,
   "id": "076d4789-3308-493a-a97f-525c1d5f830f",
   "metadata": {},
   "outputs": [
    {
     "data": {
      "text/plain": [
       "886"
      ]
     },
     "execution_count": 4,
     "metadata": {},
     "output_type": "execute_result"
    }
   ],
   "source": [
    "len(regression_GR_Groups12) - len(regression_Groups12)"
   ]
  },
  {
   "cell_type": "code",
   "execution_count": 5,
   "id": "9018b491-16c1-4720-8614-547966ea6077",
   "metadata": {},
   "outputs": [
    {
     "data": {
      "text/plain": [
       "(1, array(['katG_c.12A>G'], dtype=object))"
      ]
     },
     "execution_count": 5,
     "metadata": {},
     "output_type": "execute_result"
    }
   ],
   "source": [
    "silent_variants_assocR = results_final.loc[(results_final['predicted_effect'].isin(silent_lst)) & (results_final['REGRESSION FINAL CONFIDENCE GRADING'].str.contains('Assoc w R'))].mutation.values\n",
    "len(silent_variants_assocR), silent_variants_assocR"
   ]
  },
  {
   "cell_type": "code",
   "execution_count": 6,
   "id": "de371754-c099-49e2-b248-bed2ffdada82",
   "metadata": {},
   "outputs": [
    {
     "name": "stdout",
     "output_type": "stream",
     "text": [
      "Regression: 219 (160 non-silent)\n",
      "Regression + GR: 5187 (224 non-silent)\n",
      "SOLO: 297 (230 non-silent)\n",
      "SOLO + GR: 5248 (230 non-silent)\n"
     ]
    }
   ],
   "source": [
    "# Groups 4 and 5, +/- silent variants\n",
    "regression_Groups45 = results_final.loc[(results_final['REGRESSION FINAL CONFIDENCE GRADING'].str.contains('Not assoc w R'))]\n",
    "regression_GR_Groups45 = results_final.loc[(results_final['REGRESSION + GRADING RULES'].str.contains('Not assoc w R'))]\n",
    "SOLO_Groups45 = results_final.loc[results_final['SOLO INITIAL CONFIDENCE GRADING'].str.contains('Not assoc w R')]\n",
    "SOLO_GR_Groups45 = results_final.loc[results_final['SOLO FINAL CONFIDENCE GRADING'].str.contains('Not assoc w R')]\n",
    "\n",
    "groups45_lst = [regression_Groups45, regression_GR_Groups45, SOLO_Groups45, SOLO_GR_Groups45]\n",
    "\n",
    "for name, df in zip(group_names, groups45_lst):\n",
    "    print(f\"{name}: {len(df)} ({len(df.loc[~df['predicted_effect'].isin(silent_lst)])} non-silent)\")"
   ]
  },
  {
   "cell_type": "markdown",
   "id": "5246df58-a6af-48c5-bd6f-ee59352f5003",
   "metadata": {},
   "source": [
    "## Which variants does regression find, SOLO misses, and grading rules upgrade to interim?"
   ]
  },
  {
   "cell_type": "code",
   "execution_count": 7,
   "id": "4b050196-ef03-4762-bda0-5889abf1b404",
   "metadata": {},
   "outputs": [
    {
     "name": "stdout",
     "output_type": "stream",
     "text": [
      "Regression upgrades 78 R-assoc variants upgraded by grading rules.\n"
     ]
    }
   ],
   "source": [
    "# mutations that HAD to be upgraded to Groups 1 and 2 using rules\n",
    "SOLOmiss_GRupgrade_R = results_final.loc[(~results_final['SOLO INITIAL CONFIDENCE GRADING'].str.contains('Assoc w R')) &\n",
    "                                         (results_final['SOLO FINAL CONFIDENCE GRADING'].str.contains('Assoc w R'))\n",
    "                                        ]\n",
    "\n",
    "# matches with total counts above too\n",
    "assert len(SOLOmiss_GRupgrade_R) == len(SOLO_GR_Groups12) - len(SOLO_Groups12)\n",
    "\n",
    "regression_Rassoc_SOLOmiss_GRupgrade_R = SOLOmiss_GRupgrade_R.loc[SOLOmiss_GRupgrade_R['REGRESSION FINAL CONFIDENCE GRADING'].str.contains('Assoc w R')]\n",
    "print(f\"Regression upgrades {len(regression_Rassoc_SOLOmiss_GRupgrade_R)} R-assoc variants upgraded by grading rules.\")"
   ]
  },
  {
   "cell_type": "code",
   "execution_count": 8,
   "id": "5ee94f00-a56c-4272-bdb2-d4500a2d27be",
   "metadata": {},
   "outputs": [
    {
     "name": "stdout",
     "output_type": "stream",
     "text": [
      "Regression upgrades 46 Not R-assoc variants upgraded by grading rules.\n"
     ]
    }
   ],
   "source": [
    "# mutations that HAD to be upgraded to Groups 1 and 2 using rules\n",
    "SOLOmiss_GRupgrade_NotR = results_final.loc[(~results_final['SOLO INITIAL CONFIDENCE GRADING'].str.contains('Not assoc w R')) &\n",
    "                                             (results_final['SOLO FINAL CONFIDENCE GRADING'].str.contains('Not assoc w R'))\n",
    "                                            ]\n",
    "\n",
    "# matches with total counts above too\n",
    "assert len(SOLOmiss_GRupgrade_NotR) == len(SOLO_GR_Groups45) - len(SOLO_Groups45)\n",
    "\n",
    "regression_NotR_SOLOmiss_GRupgrade_NotR = SOLOmiss_GRupgrade_NotR.loc[SOLOmiss_GRupgrade_NotR['REGRESSION FINAL CONFIDENCE GRADING'].str.contains('Not assoc w R')]\n",
    "print(f\"Regression upgrades {len(regression_NotR_SOLOmiss_GRupgrade_NotR)} Not R-assoc variants upgraded by grading rules.\")"
   ]
  },
  {
   "cell_type": "markdown",
   "id": "4d7d62c8-77d8-4de2-b4b4-700a6f82865e",
   "metadata": {},
   "source": [
    "## Look into the cases where regression grades but SOLO misses"
   ]
  },
  {
   "cell_type": "code",
   "execution_count": 9,
   "id": "a4a24465-2ef0-4699-b0de-48ed4703d988",
   "metadata": {},
   "outputs": [
    {
     "name": "stdout",
     "output_type": "stream",
     "text": [
      "78\n"
     ]
    },
    {
     "data": {
      "text/plain": [
       "REGRESSION FINAL CONFIDENCE GRADING  SOLO INITIAL CONFIDENCE GRADING  SOLO FINAL CONFIDENCE GRADING\n",
       "1) Assoc w R                         3) Uncertain significance        2) Assoc w R - Interim           42\n",
       "2) Assoc w R - Interim               3) Uncertain significance        2) Assoc w R - Interim           33\n",
       "1) Assoc w R                         3) Uncertain significance        1) Assoc w R                      3\n",
       "Name: count, dtype: int64"
      ]
     },
     "execution_count": 9,
     "metadata": {},
     "output_type": "execute_result"
    }
   ],
   "source": [
    "# combine with WHO catalogue results to get additional information\n",
    "regression_Rassoc_SOLOmiss_GRupgrade_R_SOLO_results = regression_Rassoc_SOLOmiss_GRupgrade_R[['Drug', 'mutation']].merge(who_variants.rename(columns={'drug': 'Drug', 'variant': 'mutation'}))\n",
    "\n",
    "print(len(regression_Rassoc_SOLOmiss_GRupgrade_R_SOLO_results))\n",
    "assert len(regression_Rassoc_SOLOmiss_GRupgrade_R_SOLO_results) == len(regression_Rassoc_SOLOmiss_GRupgrade_R)\n",
    "\n",
    "regression_Rassoc_SOLOmiss_GRupgrade_R[['REGRESSION FINAL CONFIDENCE GRADING', 'SOLO INITIAL CONFIDENCE GRADING', 'SOLO FINAL CONFIDENCE GRADING']].value_counts()"
   ]
  },
  {
   "cell_type": "code",
   "execution_count": 31,
   "id": "fbfa9f0b-b92a-494a-be54-f4ba61a765da",
   "metadata": {},
   "outputs": [
    {
     "data": {
      "text/plain": [
       "(3, 27)"
      ]
     },
     "execution_count": 31,
     "metadata": {},
     "output_type": "execute_result"
    }
   ],
   "source": [
    "len(regression_Rassoc_SOLOmiss_GRupgrade_R_SOLO_results.query(\"ALL_Present_SOLO_SR==0\")), len(regression_Rassoc_SOLOmiss_GRupgrade_R_SOLO_results.query(\"ALL_Present_SOLO_SR < 5\"))"
   ]
  },
  {
   "cell_type": "code",
   "execution_count": 32,
   "id": "378b777e-57cd-4da4-88de-79d77a54cccc",
   "metadata": {},
   "outputs": [
    {
     "data": {
      "text/plain": [
       "ALL_OR_SOLO_FE_sig\n",
       "False    49\n",
       "True      2\n",
       "Name: count, dtype: int64"
      ]
     },
     "execution_count": 32,
     "metadata": {},
     "output_type": "execute_result"
    }
   ],
   "source": [
    "regression_Rassoc_SOLOmiss_GRupgrade_R_SOLO_results.query(\"ALL_Present_SOLO_SR >= 5\").ALL_OR_SOLO_FE_sig.value_counts()"
   ]
  },
  {
   "cell_type": "code",
   "execution_count": 35,
   "id": "dbeef190-5853-48aa-ac01-d5e88b6d6349",
   "metadata": {},
   "outputs": [
    {
     "data": {
      "text/html": [
       "<div>\n",
       "<style scoped>\n",
       "    .dataframe tbody tr th:only-of-type {\n",
       "        vertical-align: middle;\n",
       "    }\n",
       "\n",
       "    .dataframe tbody tr th {\n",
       "        vertical-align: top;\n",
       "    }\n",
       "\n",
       "    .dataframe thead th {\n",
       "        text-align: right;\n",
       "    }\n",
       "</style>\n",
       "<table border=\"1\" class=\"dataframe\">\n",
       "  <thead>\n",
       "    <tr style=\"text-align: right;\">\n",
       "      <th></th>\n",
       "      <th>Drug</th>\n",
       "      <th>mutation</th>\n",
       "      <th>INITIAL CONFIDENCE GRADING</th>\n",
       "      <th>FINAL CONFIDENCE GRADING</th>\n",
       "      <th>Additional grading criteria applied</th>\n",
       "    </tr>\n",
       "  </thead>\n",
       "  <tbody>\n",
       "    <tr>\n",
       "      <th>3</th>\n",
       "      <td>Clofazimine</td>\n",
       "      <td>Rv0678_p.Asp47fs</td>\n",
       "      <td>3) Uncertain significance</td>\n",
       "      <td>2) Assoc w R - Interim</td>\n",
       "      <td>Indel frameshift or premature stop codon (LoF)</td>\n",
       "    </tr>\n",
       "    <tr>\n",
       "      <th>42</th>\n",
       "      <td>Linezolid</td>\n",
       "      <td>rrl_n.2270G&gt;T</td>\n",
       "      <td>3) Uncertain significance</td>\n",
       "      <td>2) Assoc w R - Interim</td>\n",
       "      <td>Selection evidence</td>\n",
       "    </tr>\n",
       "  </tbody>\n",
       "</table>\n",
       "</div>"
      ],
      "text/plain": [
       "           Drug          mutation INITIAL CONFIDENCE GRADING  \\\n",
       "3   Clofazimine  Rv0678_p.Asp47fs  3) Uncertain significance   \n",
       "42    Linezolid     rrl_n.2270G>T  3) Uncertain significance   \n",
       "\n",
       "   FINAL CONFIDENCE GRADING             Additional grading criteria applied  \n",
       "3    2) Assoc w R - Interim  Indel frameshift or premature stop codon (LoF)  \n",
       "42   2) Assoc w R - Interim                              Selection evidence  "
      ]
     },
     "execution_count": 35,
     "metadata": {},
     "output_type": "execute_result"
    }
   ],
   "source": [
    "regression_Rassoc_SOLOmiss_GRupgrade_R_SOLO_results.query(\"ALL_Present_SOLO_SR >= 5 & ALL_OR_SOLO_FE_sig==True\")[['Drug', 'mutation', 'INITIAL CONFIDENCE GRADING', 'FINAL CONFIDENCE GRADING', 'Additional grading criteria applied']]"
   ]
  },
  {
   "cell_type": "markdown",
   "id": "523b9fc9-4aea-4085-99d0-f20404ad4bf4",
   "metadata": {},
   "source": [
    "## Save the mutations for which regression supersedes the need for grading rules to a supplementary table"
   ]
  },
  {
   "cell_type": "code",
   "execution_count": 23,
   "id": "41eaa964-042c-46d2-bad4-89350d161a26",
   "metadata": {},
   "outputs": [
    {
     "data": {
      "text/plain": [
       "124"
      ]
     },
     "execution_count": 23,
     "metadata": {},
     "output_type": "execute_result"
    }
   ],
   "source": [
    "regression_supersede_save = pd.concat([regression_Rassoc_SOLOmiss_GRupgrade_R, regression_NotR_SOLOmiss_GRupgrade_NotR])[['Drug', 'mutation', 'SOLO INITIAL CONFIDENCE GRADING', 'SOLO FINAL CONFIDENCE GRADING', 'REGRESSION FINAL CONFIDENCE GRADING']].sort_values(\"Drug\")\n",
    "\n",
    "len(regression_supersede_save)"
   ]
  },
  {
   "cell_type": "code",
   "execution_count": 24,
   "id": "f4a5fc10-8f6d-4fb6-87ff-061e1999465e",
   "metadata": {},
   "outputs": [
    {
     "data": {
      "text/plain": [
       "SOLO INITIAL CONFIDENCE GRADING\n",
       "3) Uncertain significance    124\n",
       "Name: count, dtype: int64"
      ]
     },
     "execution_count": 24,
     "metadata": {},
     "output_type": "execute_result"
    }
   ],
   "source": [
    "regression_supersede_save['SOLO INITIAL CONFIDENCE GRADING'].value_counts()"
   ]
  },
  {
   "cell_type": "code",
   "execution_count": 25,
   "id": "6c1d7c2f-addb-4c58-88b6-7b205ce75585",
   "metadata": {},
   "outputs": [
    {
     "data": {
      "text/plain": [
       "SOLO FINAL CONFIDENCE GRADING\n",
       "2) Assoc w R - Interim        75\n",
       "4) Not assoc w R - Interim    46\n",
       "1) Assoc w R                   3\n",
       "Name: count, dtype: int64"
      ]
     },
     "execution_count": 25,
     "metadata": {},
     "output_type": "execute_result"
    }
   ],
   "source": [
    "regression_supersede_save['SOLO FINAL CONFIDENCE GRADING'].value_counts()"
   ]
  },
  {
   "cell_type": "code",
   "execution_count": 27,
   "id": "16cb8454-d12f-4786-9bc6-58226d0013cd",
   "metadata": {},
   "outputs": [
    {
     "data": {
      "text/plain": [
       "REGRESSION FINAL CONFIDENCE GRADING\n",
       "5) Not assoc w R              24\n",
       "4) Not assoc w R - Interim    22\n",
       "Name: count, dtype: int64"
      ]
     },
     "execution_count": 27,
     "metadata": {},
     "output_type": "execute_result"
    }
   ],
   "source": [
    "regression_supersede_save.loc[regression_supersede_save['SOLO FINAL CONFIDENCE GRADING']=='4) Not assoc w R - Interim']['REGRESSION FINAL CONFIDENCE GRADING'].value_counts()"
   ]
  },
  {
   "cell_type": "code",
   "execution_count": 28,
   "id": "a17c5523-3576-4eb7-8d7a-e879d025a41d",
   "metadata": {},
   "outputs": [
    {
     "data": {
      "text/plain": [
       "REGRESSION FINAL CONFIDENCE GRADING\n",
       "1) Assoc w R              45\n",
       "2) Assoc w R - Interim    33\n",
       "Name: count, dtype: int64"
      ]
     },
     "execution_count": 28,
     "metadata": {},
     "output_type": "execute_result"
    }
   ],
   "source": [
    "regression_supersede_save.loc[regression_supersede_save['SOLO FINAL CONFIDENCE GRADING'].str.contains('Assoc w R')]['REGRESSION FINAL CONFIDENCE GRADING'].value_counts()"
   ]
  },
  {
   "cell_type": "code",
   "execution_count": 30,
   "id": "406a3299-7a24-40df-8fea-ca4a160ae87a",
   "metadata": {},
   "outputs": [],
   "source": [
    "regression_supersede_save.to_csv(\"../tables/regression_supersede_save.csv\", index=False)"
   ]
  },
  {
   "cell_type": "markdown",
   "id": "6cac7657-a474-4a8d-a82c-e6f7e0181eda",
   "metadata": {},
   "source": [
    "# 15 Variants that are Assoc w R in WHO and Uncertain in ALL"
   ]
  },
  {
   "cell_type": "code",
   "execution_count": 22,
   "id": "baa99767-22b5-4d83-b2e2-ac0946394a35",
   "metadata": {},
   "outputs": [
    {
     "data": {
      "text/plain": [
       "15"
      ]
     },
     "execution_count": 22,
     "metadata": {},
     "output_type": "execute_result"
    }
   ],
   "source": [
    "WHO_AssocR_ALL_Uncertain = results_final.loc[(results_final['Initial confidence grading WHO dataset']=='Assoc w R') & (results_final['Initial confidence grading ALL dataset']=='Uncertain')]\n",
    "\n",
    "WHO_AssocR_ALL_Uncertain['PPV_LB_diff_WHO_ALL'] = WHO_AssocR_ALL_Uncertain['WHO_R_PPV_LB'] - WHO_AssocR_ALL_Uncertain['ALL_R_PPV_LB']\n",
    "\n",
    "len(WHO_AssocR_ALL_Uncertain)"
   ]
  },
  {
   "cell_type": "code",
   "execution_count": 25,
   "id": "7b3b3fb7-50ca-40c3-9347-a95905841113",
   "metadata": {},
   "outputs": [
    {
     "data": {
      "text/plain": [
       "REGRESSION FINAL CONFIDENCE GRADING\n",
       "3) Uncertain significance    15\n",
       "Name: count, dtype: int64"
      ]
     },
     "execution_count": 25,
     "metadata": {},
     "output_type": "execute_result"
    }
   ],
   "source": [
    "WHO_AssocR_ALL_Uncertain['REGRESSION FINAL CONFIDENCE GRADING'].value_counts()"
   ]
  },
  {
   "cell_type": "code",
   "execution_count": 23,
   "id": "f700210c-cd39-412f-9a08-5fffe4849524",
   "metadata": {},
   "outputs": [
    {
     "data": {
      "text/plain": [
       "SOLO INITIAL CONFIDENCE GRADING  SOLO FINAL CONFIDENCE GRADING\n",
       "3) Uncertain significance        2) Assoc w R - Interim           5\n",
       "                                 3) Uncertain significance        5\n",
       "5) Not assoc w R                 4) Not assoc w R - Interim       2\n",
       "1) Assoc w R                     2) Assoc w R - Interim           1\n",
       "2) Assoc w R - Interim           2) Assoc w R - Interim           1\n",
       "3) Uncertain significance        4) Not assoc w R - Interim       1\n",
       "Name: count, dtype: int64"
      ]
     },
     "execution_count": 23,
     "metadata": {},
     "output_type": "execute_result"
    }
   ],
   "source": [
    "WHO_AssocR_ALL_Uncertain[['SOLO INITIAL CONFIDENCE GRADING', 'SOLO FINAL CONFIDENCE GRADING']].value_counts()"
   ]
  },
  {
   "cell_type": "code",
   "execution_count": 52,
   "id": "60e6b6e8-2d9e-4e51-9882-2b0b0a3e9267",
   "metadata": {},
   "outputs": [
    {
     "data": {
      "text/plain": [
       "(11, 69)"
      ]
     },
     "execution_count": 52,
     "metadata": {},
     "output_type": "execute_result"
    }
   ],
   "source": [
    "WHO_AssocR_ALL_Uncertain.query(\"(ALL_BH_pval <= 0.05 & predicted_effect not in @silent_lst) | (ALL_BH_pval <= 0.01 & predicted_effect in @silent_lst)\").shape"
   ]
  },
  {
   "cell_type": "code",
   "execution_count": 54,
   "id": "71b2c9e6-acf4-4402-9bf9-867de5c0345b",
   "metadata": {},
   "outputs": [
    {
     "data": {
      "text/plain": [
       "(7, 69)"
      ]
     },
     "execution_count": 54,
     "metadata": {},
     "output_type": "execute_result"
    }
   ],
   "source": [
    "WHO_AssocR_ALL_Uncertain.query(\"((ALL_BH_pval <= 0.05 & predicted_effect not in @silent_lst) | (ALL_BH_pval <= 0.01 & predicted_effect in @silent_lst)) & ALL_R_PPV_LB < 0.25\").shape"
   ]
  },
  {
   "cell_type": "code",
   "execution_count": 69,
   "id": "a90957cf-da3d-49cd-821d-af5d199f9482",
   "metadata": {},
   "outputs": [
    {
     "data": {
      "text/plain": [
       "array([0.01842252, 0.06080397, 0.09590884, 0.15315811, 0.26316292,\n",
       "       0.58097719, 0.59475568])"
      ]
     },
     "execution_count": 69,
     "metadata": {},
     "output_type": "execute_result"
    }
   ],
   "source": [
    "np.sort(WHO_AssocR_ALL_Uncertain.query(\"((ALL_BH_pval <= 0.05 & predicted_effect not in @silent_lst) | (ALL_BH_pval <= 0.01 & predicted_effect in @silent_lst)) & ALL_R_PPV_LB < 0.25\").PPV_LB_diff_WHO_ALL.values)"
   ]
  },
  {
   "cell_type": "code",
   "execution_count": 71,
   "id": "65b5c3bc-14d2-49a0-afc9-e6fcd95c5d63",
   "metadata": {},
   "outputs": [
    {
     "data": {
      "text/html": [
       "<div>\n",
       "<style scoped>\n",
       "    .dataframe tbody tr th:only-of-type {\n",
       "        vertical-align: middle;\n",
       "    }\n",
       "\n",
       "    .dataframe tbody tr th {\n",
       "        vertical-align: top;\n",
       "    }\n",
       "\n",
       "    .dataframe thead th {\n",
       "        text-align: right;\n",
       "    }\n",
       "</style>\n",
       "<table border=\"1\" class=\"dataframe\">\n",
       "  <thead>\n",
       "    <tr style=\"text-align: right;\">\n",
       "      <th></th>\n",
       "      <th>Drug</th>\n",
       "      <th>mutation</th>\n",
       "      <th>WHO_R_PPV_LB</th>\n",
       "      <th>WHO_R_PPV</th>\n",
       "      <th>WHO_Present_R</th>\n",
       "      <th>WHO_Present_S</th>\n",
       "      <th>ALL_R_PPV_LB</th>\n",
       "      <th>ALL_R_PPV</th>\n",
       "      <th>ALL_Present_R</th>\n",
       "      <th>ALL_Present_S</th>\n",
       "      <th>PPV_LB_diff_WHO_ALL</th>\n",
       "    </tr>\n",
       "  </thead>\n",
       "  <tbody>\n",
       "    <tr>\n",
       "      <th>1091</th>\n",
       "      <td>Bedaquiline</td>\n",
       "      <td>Rv0678_p.Met146Thr</td>\n",
       "      <td>0.715086</td>\n",
       "      <td>1.000000</td>\n",
       "      <td>11.0</td>\n",
       "      <td>0.0</td>\n",
       "      <td>0.120330</td>\n",
       "      <td>0.229167</td>\n",
       "      <td>11.0</td>\n",
       "      <td>37.0</td>\n",
       "      <td>0.594756</td>\n",
       "    </tr>\n",
       "    <tr>\n",
       "      <th>1089</th>\n",
       "      <td>Bedaquiline</td>\n",
       "      <td>mmpS5_c.-74G&gt;T</td>\n",
       "      <td>0.769425</td>\n",
       "      <td>0.914286</td>\n",
       "      <td>32.0</td>\n",
       "      <td>3.0</td>\n",
       "      <td>0.188448</td>\n",
       "      <td>0.264463</td>\n",
       "      <td>32.0</td>\n",
       "      <td>89.0</td>\n",
       "      <td>0.580977</td>\n",
       "    </tr>\n",
       "    <tr>\n",
       "      <th>9184</th>\n",
       "      <td>Ethionamide</td>\n",
       "      <td>ethA_p.Asp396fs</td>\n",
       "      <td>0.421277</td>\n",
       "      <td>0.857143</td>\n",
       "      <td>6.0</td>\n",
       "      <td>1.0</td>\n",
       "      <td>0.158114</td>\n",
       "      <td>1.000000</td>\n",
       "      <td>2.0</td>\n",
       "      <td>0.0</td>\n",
       "      <td>0.263163</td>\n",
       "    </tr>\n",
       "    <tr>\n",
       "      <th>2757</th>\n",
       "      <td>Clofazimine</td>\n",
       "      <td>Rv0678_p.Ile67fs</td>\n",
       "      <td>0.260191</td>\n",
       "      <td>0.500000</td>\n",
       "      <td>9.0</td>\n",
       "      <td>9.0</td>\n",
       "      <td>0.107032</td>\n",
       "      <td>0.212766</td>\n",
       "      <td>10.0</td>\n",
       "      <td>37.0</td>\n",
       "      <td>0.153158</td>\n",
       "    </tr>\n",
       "    <tr>\n",
       "      <th>12398</th>\n",
       "      <td>Kanamycin</td>\n",
       "      <td>whiB7_c.-116A&gt;G</td>\n",
       "      <td>0.317366</td>\n",
       "      <td>0.439394</td>\n",
       "      <td>29.0</td>\n",
       "      <td>37.0</td>\n",
       "      <td>0.221457</td>\n",
       "      <td>0.288235</td>\n",
       "      <td>49.0</td>\n",
       "      <td>121.0</td>\n",
       "      <td>0.095909</td>\n",
       "    </tr>\n",
       "    <tr>\n",
       "      <th>19770</th>\n",
       "      <td>Streptomycin</td>\n",
       "      <td>gid_p.Val65fs</td>\n",
       "      <td>0.283582</td>\n",
       "      <td>0.800000</td>\n",
       "      <td>4.0</td>\n",
       "      <td>1.0</td>\n",
       "      <td>0.222778</td>\n",
       "      <td>0.666667</td>\n",
       "      <td>4.0</td>\n",
       "      <td>2.0</td>\n",
       "      <td>0.060804</td>\n",
       "    </tr>\n",
       "    <tr>\n",
       "      <th>8808</th>\n",
       "      <td>Ethionamide</td>\n",
       "      <td>ethA_p.Trp391*</td>\n",
       "      <td>0.257131</td>\n",
       "      <td>0.476190</td>\n",
       "      <td>10.0</td>\n",
       "      <td>11.0</td>\n",
       "      <td>0.238708</td>\n",
       "      <td>0.400000</td>\n",
       "      <td>14.0</td>\n",
       "      <td>21.0</td>\n",
       "      <td>0.018423</td>\n",
       "    </tr>\n",
       "  </tbody>\n",
       "</table>\n",
       "</div>"
      ],
      "text/plain": [
       "               Drug            mutation  WHO_R_PPV_LB  WHO_R_PPV  \\\n",
       "1091    Bedaquiline  Rv0678_p.Met146Thr      0.715086   1.000000   \n",
       "1089    Bedaquiline      mmpS5_c.-74G>T      0.769425   0.914286   \n",
       "9184    Ethionamide     ethA_p.Asp396fs      0.421277   0.857143   \n",
       "2757    Clofazimine    Rv0678_p.Ile67fs      0.260191   0.500000   \n",
       "12398     Kanamycin     whiB7_c.-116A>G      0.317366   0.439394   \n",
       "19770  Streptomycin       gid_p.Val65fs      0.283582   0.800000   \n",
       "8808    Ethionamide      ethA_p.Trp391*      0.257131   0.476190   \n",
       "\n",
       "       WHO_Present_R  WHO_Present_S  ALL_R_PPV_LB  ALL_R_PPV  ALL_Present_R  \\\n",
       "1091            11.0            0.0      0.120330   0.229167           11.0   \n",
       "1089            32.0            3.0      0.188448   0.264463           32.0   \n",
       "9184             6.0            1.0      0.158114   1.000000            2.0   \n",
       "2757             9.0            9.0      0.107032   0.212766           10.0   \n",
       "12398           29.0           37.0      0.221457   0.288235           49.0   \n",
       "19770            4.0            1.0      0.222778   0.666667            4.0   \n",
       "8808            10.0           11.0      0.238708   0.400000           14.0   \n",
       "\n",
       "       ALL_Present_S  PPV_LB_diff_WHO_ALL  \n",
       "1091            37.0             0.594756  \n",
       "1089            89.0             0.580977  \n",
       "9184             0.0             0.263163  \n",
       "2757            37.0             0.153158  \n",
       "12398          121.0             0.095909  \n",
       "19770            2.0             0.060804  \n",
       "8808            21.0             0.018423  "
      ]
     },
     "execution_count": 71,
     "metadata": {},
     "output_type": "execute_result"
    }
   ],
   "source": [
    "WHO_AssocR_ALL_Uncertain.query(\"((ALL_BH_pval <= 0.05 & predicted_effect not in @silent_lst) | (ALL_BH_pval <= 0.01 & predicted_effect in @silent_lst)) & ALL_R_PPV_LB < 0.25\")[['Drug', 'mutation', 'WHO_R_PPV_LB', 'WHO_R_PPV', 'WHO_Present_R', 'WHO_Present_S', 'ALL_R_PPV_LB', 'ALL_R_PPV', 'ALL_Present_R', 'ALL_Present_S', 'PPV_LB_diff_WHO_ALL']].sort_values('PPV_LB_diff_WHO_ALL', ascending=False)"
   ]
  },
  {
   "cell_type": "markdown",
   "id": "2087e0cd-85ef-4773-9cf8-8e39418b4bbc",
   "metadata": {},
   "source": [
    "# Neutral Variants\n",
    "\n",
    "# 1. ALL Neutral, WHO not Neutral"
   ]
  },
  {
   "cell_type": "code",
   "execution_count": 6,
   "id": "e816926a-e7a9-4a5c-9e1f-b7f19ee4a128",
   "metadata": {},
   "outputs": [
    {
     "name": "stdout",
     "output_type": "stream",
     "text": [
      "29 variants Neutral in WHO only, 53 variants Neutral in ALL only\n"
     ]
    }
   ],
   "source": [
    "regression_neutral = results_final.loc[((results_final['Initial confidence grading WHO dataset']=='Neutral') | (results_final['Initial confidence grading ALL dataset']=='Neutral')) & (results_final['REGRESSION FINAL CONFIDENCE GRADING'].str.contains('Not assoc w R'))]\n",
    "\n",
    "ALL_neutral_only = results_final.loc[(results_final['Initial confidence grading WHO dataset'] != 'Neutral') & (results_final['Initial confidence grading ALL dataset'] == 'Neutral')].dropna(subset='Initial confidence grading WHO dataset')\n",
    "\n",
    "WHO_neutral_only = results_final.loc[(results_final['Initial confidence grading WHO dataset'] == 'Neutral') & (results_final['Initial confidence grading ALL dataset'] != 'Neutral')].dropna(subset='Initial confidence grading ALL dataset')\n",
    "\n",
    "# these should NOT be Neutral: ALL Neutral, but null in WHO, meaning they are absent from the WHO dataset\n",
    "assert len(results_final.loc[(pd.isnull(results_final['Initial confidence grading WHO dataset'])) & (results_final['Initial confidence grading ALL dataset']=='Neutral') & (results_final['REGRESSION FINAL CONFIDENCE GRADING'] != '3) Uncertain significance')]) == 0\n",
    "\n",
    "print(f\"{len(WHO_neutral_only)} variants Neutral in WHO only, {len(ALL_neutral_only)} variants Neutral in ALL only\")"
   ]
  },
  {
   "cell_type": "code",
   "execution_count": 7,
   "id": "efe2487f-4635-47eb-b114-920db8566ff9",
   "metadata": {},
   "outputs": [
    {
     "data": {
      "text/plain": [
       "SOLO FINAL CONFIDENCE GRADING\n",
       "3) Uncertain significance     35\n",
       "4) Not assoc w R - Interim    15\n",
       "5) Not assoc w R               3\n",
       "Name: count, dtype: int64"
      ]
     },
     "execution_count": 7,
     "metadata": {},
     "output_type": "execute_result"
    }
   ],
   "source": [
    "ALL_neutral_only['SOLO FINAL CONFIDENCE GRADING'].value_counts()"
   ]
  },
  {
   "cell_type": "markdown",
   "id": "921b53e5-48ee-4dd1-986a-8e13fdde8973",
   "metadata": {},
   "source": [
    "# Do any Neutral Variants have Significant MIC associations?"
   ]
  },
  {
   "cell_type": "code",
   "execution_count": 8,
   "id": "15ad4392-5827-4a46-b7e4-b6491e2029ed",
   "metadata": {},
   "outputs": [
    {
     "name": "stdout",
     "output_type": "stream",
     "text": [
      "(77, 68)\n",
      "1\n"
     ]
    }
   ],
   "source": [
    "MIC_results = pd.read_csv(\"../tables/MIC_results.csv\")\n",
    "\n",
    "regression_neutral_withMIC = regression_neutral.merge(MIC_results, on=['Drug', 'mutation'])\n",
    "print(regression_neutral_withMIC.shape)\n",
    "\n",
    "# no\n",
    "print(len(regression_neutral_withMIC.query(\"MIC_BH_pval <= 0.05\")))"
   ]
  },
  {
   "cell_type": "code",
   "execution_count": 10,
   "id": "baeaf17f-90b4-4fa3-8cc0-ad986d80ced6",
   "metadata": {},
   "outputs": [
    {
     "data": {
      "text/html": [
       "<div>\n",
       "<style scoped>\n",
       "    .dataframe tbody tr th:only-of-type {\n",
       "        vertical-align: middle;\n",
       "    }\n",
       "\n",
       "    .dataframe tbody tr th {\n",
       "        vertical-align: top;\n",
       "    }\n",
       "\n",
       "    .dataframe thead th {\n",
       "        text-align: right;\n",
       "    }\n",
       "</style>\n",
       "<table border=\"1\" class=\"dataframe\">\n",
       "  <thead>\n",
       "    <tr style=\"text-align: right;\">\n",
       "      <th></th>\n",
       "      <th>Drug</th>\n",
       "      <th>mutation</th>\n",
       "      <th>MIC_coef</th>\n",
       "      <th>MIC_BH_pval</th>\n",
       "      <th>WHO_Odds_Ratio</th>\n",
       "      <th>WHO_BH_pval</th>\n",
       "      <th>WHO_BH_neutral_pval</th>\n",
       "      <th>WHO_Present_SR</th>\n",
       "      <th>ALL_Odds_Ratio</th>\n",
       "      <th>ALL_BH_pval</th>\n",
       "      <th>ALL_BH_neutral_pval</th>\n",
       "      <th>ALL_Present_S</th>\n",
       "      <th>ALL_Present_R</th>\n",
       "    </tr>\n",
       "  </thead>\n",
       "  <tbody>\n",
       "    <tr>\n",
       "      <th>46</th>\n",
       "      <td>Linezolid</td>\n",
       "      <td>rrl_n.2779A&gt;G</td>\n",
       "      <td>0.026412</td>\n",
       "      <td>0.024923</td>\n",
       "      <td>0.984589</td>\n",
       "      <td>0.991</td>\n",
       "      <td>0.0</td>\n",
       "      <td>4.0</td>\n",
       "      <td>0.988435</td>\n",
       "      <td>0.989</td>\n",
       "      <td>0.0</td>\n",
       "      <td>6.0</td>\n",
       "      <td>0.0</td>\n",
       "    </tr>\n",
       "  </tbody>\n",
       "</table>\n",
       "</div>"
      ],
      "text/plain": [
       "         Drug       mutation  MIC_coef  MIC_BH_pval  WHO_Odds_Ratio  \\\n",
       "46  Linezolid  rrl_n.2779A>G  0.026412     0.024923        0.984589   \n",
       "\n",
       "    WHO_BH_pval  WHO_BH_neutral_pval  WHO_Present_SR  ALL_Odds_Ratio  \\\n",
       "46        0.991                  0.0             4.0        0.988435   \n",
       "\n",
       "    ALL_BH_pval  ALL_BH_neutral_pval  ALL_Present_S  ALL_Present_R  \n",
       "46        0.989                  0.0            6.0            0.0  "
      ]
     },
     "execution_count": 10,
     "metadata": {},
     "output_type": "execute_result"
    }
   ],
   "source": [
    "regression_neutral_withMIC.query(\"MIC_BH_pval <= 0.05\")[['Drug', 'mutation', 'MIC_coef', 'MIC_BH_pval', 'WHO_Odds_Ratio', 'WHO_BH_pval', 'WHO_BH_neutral_pval', 'WHO_Present_SR', 'ALL_Odds_Ratio', 'ALL_BH_pval', 'ALL_BH_neutral_pval', 'ALL_Present_S', 'ALL_Present_R']]"
   ]
  },
  {
   "cell_type": "markdown",
   "id": "a0a95c78-13fe-481c-9258-c099ffb5fff9",
   "metadata": {},
   "source": [
    "# SOLO Not assoc w R, Regression Uncertain "
   ]
  },
  {
   "cell_type": "code",
   "execution_count": 11,
   "id": "03efa3e0-db72-4d93-860e-54526e047178",
   "metadata": {},
   "outputs": [
    {
     "name": "stdout",
     "output_type": "stream",
     "text": [
      "233 mutations Groups 4-5 by SOLO, Group 3 by Regression\n"
     ]
    }
   ],
   "source": [
    "SOLO_notAssoc_regression_uncertain = results_final.loc[(results_final['REGRESSION FINAL CONFIDENCE GRADING']=='3) Uncertain significance') & (results_final['SOLO INITIAL CONFIDENCE GRADING'].str.contains('Not assoc w R'))]\n",
    "\n",
    "print(f\"{len(SOLO_notAssoc_regression_uncertain)} mutations Groups 4-5 by SOLO, Group 3 by Regression\")"
   ]
  },
  {
   "cell_type": "code",
   "execution_count": 12,
   "id": "b4ecb273-200f-49fb-830e-600717a18c24",
   "metadata": {},
   "outputs": [
    {
     "name": "stdout",
     "output_type": "stream",
     "text": [
      "54/233 mutations were not graded\n"
     ]
    }
   ],
   "source": [
    "SOLO_notAssoc_regression_uncertain_ungraded = SOLO_notAssoc_regression_uncertain.query(\"Reason=='Not Graded'\")\n",
    "\n",
    "SOLO_notAssoc_regression_uncertain_graded = SOLO_notAssoc_regression_uncertain.query(\"Reason != 'Not Graded'\") #who_variants.merge(SOLO_notAssoc_regression_uncertain.query(\"Reason != 'Not Graded'\").rename(columns={'Drug': 'drug', 'mutation': 'variant'})[['drug', 'variant']])\n",
    "\n",
    "print(f\"{len(SOLO_notAssoc_regression_uncertain_ungraded)}/{len(SOLO_notAssoc_regression_uncertain)} mutations were not graded\")"
   ]
  },
  {
   "cell_type": "code",
   "execution_count": 13,
   "id": "2e6222bd-aceb-4446-bfc9-e8bbb1f9785b",
   "metadata": {},
   "outputs": [
    {
     "data": {
      "text/plain": [
       "(26, 66)"
      ]
     },
     "execution_count": 13,
     "metadata": {},
     "output_type": "execute_result"
    }
   ],
   "source": [
    "SOLO_notAssoc_regression_uncertain_graded.query(\"ALL_Present_SR < 5\").shape"
   ]
  },
  {
   "cell_type": "code",
   "execution_count": 14,
   "id": "fb03d65e-2bf2-4ca6-b92d-fbfe073d0f00",
   "metadata": {},
   "outputs": [
    {
     "data": {
      "text/plain": [
       "(32, 66)"
      ]
     },
     "execution_count": 14,
     "metadata": {},
     "output_type": "execute_result"
    }
   ],
   "source": [
    "SOLO_notAssoc_regression_uncertain_graded.query(\"ALL_Present_SR < 10\").shape"
   ]
  },
  {
   "cell_type": "code",
   "execution_count": 15,
   "id": "415f5236-b40e-4dae-b2ae-1fee0bac5c19",
   "metadata": {},
   "outputs": [
    {
     "data": {
      "text/plain": [
       "(16, 66)"
      ]
     },
     "execution_count": 15,
     "metadata": {},
     "output_type": "execute_result"
    }
   ],
   "source": [
    "SOLO_notAssoc_regression_uncertain_graded.query(\"ALL_Present_SR < 5 & ALL_BH_neutral_pval <= 0.05\").shape"
   ]
  },
  {
   "cell_type": "markdown",
   "id": "18500286-de5e-41e0-b212-e4bb0a635f5c",
   "metadata": {},
   "source": [
    "## 14 variants are marginally significant with OR < 1, p-value in (0.1, 0.5]\n",
    "\n",
    "## all are synonymous variants"
   ]
  },
  {
   "cell_type": "code",
   "execution_count": 16,
   "id": "62f9b589-83c1-407c-90a5-53596a132981",
   "metadata": {},
   "outputs": [
    {
     "data": {
      "text/plain": [
       "(14, 13)"
      ]
     },
     "execution_count": 16,
     "metadata": {},
     "output_type": "execute_result"
    }
   ],
   "source": [
    "SOLO_notAssoc_regression_uncertain_graded.query(\"(WHO_Odds_Ratio < 1 & WHO_BH_pval <= 0.05) | (ALL_Odds_Ratio < 1 & ALL_BH_pval <= 0.05)\")[['Drug', 'mutation', 'WHO_Odds_Ratio', 'WHO_BH_pval', 'WHO_S_PPV_LB', 'WHO_Present_SR', 'ALL_Odds_Ratio', 'ALL_BH_pval', 'ALL_S_PPV_LB', 'ALL_Present_SR', 'Initial confidence grading WHO dataset', 'Initial confidence grading ALL dataset', 'REGRESSION FINAL CONFIDENCE GRADING']].shape"
   ]
  },
  {
   "cell_type": "code",
   "execution_count": 17,
   "id": "d8018cea-9021-43c9-8d34-2ba25582acf9",
   "metadata": {},
   "outputs": [
    {
     "data": {
      "text/plain": [
       "array(['synonymous_variant'], dtype=object)"
      ]
     },
     "execution_count": 17,
     "metadata": {},
     "output_type": "execute_result"
    }
   ],
   "source": [
    "SOLO_notAssoc_regression_uncertain_graded.query(\"(WHO_Odds_Ratio < 1 & WHO_BH_pval <= 0.05) | (ALL_Odds_Ratio < 1 & ALL_BH_pval <= 0.05)\").predicted_effect.unique()"
   ]
  },
  {
   "cell_type": "code",
   "execution_count": 20,
   "id": "28c1c5d6-4f99-478d-a00b-7f995eac73c8",
   "metadata": {},
   "outputs": [
    {
     "data": {
      "text/html": [
       "<div>\n",
       "<style scoped>\n",
       "    .dataframe tbody tr th:only-of-type {\n",
       "        vertical-align: middle;\n",
       "    }\n",
       "\n",
       "    .dataframe tbody tr th {\n",
       "        vertical-align: top;\n",
       "    }\n",
       "\n",
       "    .dataframe thead th {\n",
       "        text-align: right;\n",
       "    }\n",
       "</style>\n",
       "<table border=\"1\" class=\"dataframe\">\n",
       "  <thead>\n",
       "    <tr style=\"text-align: right;\">\n",
       "      <th></th>\n",
       "      <th>drug</th>\n",
       "      <th>variant</th>\n",
       "      <th>WHO_Odds_Ratio</th>\n",
       "      <th>WHO_BH_pval</th>\n",
       "      <th>ALL_Odds_Ratio</th>\n",
       "      <th>ALL_BH_pval</th>\n",
       "      <th>ALL_Present_S</th>\n",
       "      <th>ALL_Present_R</th>\n",
       "      <th>WHO_PPV_ub</th>\n",
       "      <th>ALL_PPV_ub</th>\n",
       "      <th>WHO_setB</th>\n",
       "      <th>WHO_setC</th>\n",
       "      <th>WHO_setD1</th>\n",
       "      <th>WHO_setD2</th>\n",
       "    </tr>\n",
       "  </thead>\n",
       "  <tbody>\n",
       "    <tr>\n",
       "      <th>0</th>\n",
       "      <td>Amikacin</td>\n",
       "      <td>eis_c.-10G&gt;A</td>\n",
       "      <td>1.031504</td>\n",
       "      <td>0.670638</td>\n",
       "      <td>1.072857</td>\n",
       "      <td>0.000000</td>\n",
       "      <td>369.0</td>\n",
       "      <td>22.0</td>\n",
       "      <td>8.30%</td>\n",
       "      <td>8.40%</td>\n",
       "      <td>1.0</td>\n",
       "      <td>1.0</td>\n",
       "      <td>0.0</td>\n",
       "      <td>0.0</td>\n",
       "    </tr>\n",
       "    <tr>\n",
       "      <th>1</th>\n",
       "      <td>Amikacin</td>\n",
       "      <td>eis_c.-12C&gt;T</td>\n",
       "      <td>0.973076</td>\n",
       "      <td>0.752432</td>\n",
       "      <td>1.030509</td>\n",
       "      <td>0.723324</td>\n",
       "      <td>917.0</td>\n",
       "      <td>64.0</td>\n",
       "      <td>8.79%</td>\n",
       "      <td>8.25%</td>\n",
       "      <td>1.0</td>\n",
       "      <td>1.0</td>\n",
       "      <td>0.0</td>\n",
       "      <td>0.0</td>\n",
       "    </tr>\n",
       "    <tr>\n",
       "      <th>2</th>\n",
       "      <td>Amikacin</td>\n",
       "      <td>eis_p.Val163Ile</td>\n",
       "      <td>1.035268</td>\n",
       "      <td>0.752432</td>\n",
       "      <td>1.002809</td>\n",
       "      <td>0.925333</td>\n",
       "      <td>711.0</td>\n",
       "      <td>53.0</td>\n",
       "      <td>10.54%</td>\n",
       "      <td>8.98%</td>\n",
       "      <td>1.0</td>\n",
       "      <td>1.0</td>\n",
       "      <td>0.0</td>\n",
       "      <td>0.0</td>\n",
       "    </tr>\n",
       "    <tr>\n",
       "      <th>3</th>\n",
       "      <td>Amikacin</td>\n",
       "      <td>rrs_n.492C&gt;T</td>\n",
       "      <td>0.992668</td>\n",
       "      <td>0.897806</td>\n",
       "      <td>0.970594</td>\n",
       "      <td>0.925333</td>\n",
       "      <td>785.0</td>\n",
       "      <td>12.0</td>\n",
       "      <td>3.73%</td>\n",
       "      <td>2.62%</td>\n",
       "      <td>1.0</td>\n",
       "      <td>1.0</td>\n",
       "      <td>0.0</td>\n",
       "      <td>0.0</td>\n",
       "    </tr>\n",
       "    <tr>\n",
       "      <th>4</th>\n",
       "      <td>Amikacin</td>\n",
       "      <td>rrs_n.514A&gt;C</td>\n",
       "      <td>1.081648</td>\n",
       "      <td>0.124878</td>\n",
       "      <td>1.081290</td>\n",
       "      <td>0.029743</td>\n",
       "      <td>577.0</td>\n",
       "      <td>329.0</td>\n",
       "      <td>34.26%</td>\n",
       "      <td>39.54%</td>\n",
       "      <td>1.0</td>\n",
       "      <td>1.0</td>\n",
       "      <td>0.0</td>\n",
       "      <td>0.0</td>\n",
       "    </tr>\n",
       "    <tr>\n",
       "      <th>...</th>\n",
       "      <td>...</td>\n",
       "      <td>...</td>\n",
       "      <td>...</td>\n",
       "      <td>...</td>\n",
       "      <td>...</td>\n",
       "      <td>...</td>\n",
       "      <td>...</td>\n",
       "      <td>...</td>\n",
       "      <td>...</td>\n",
       "      <td>...</td>\n",
       "      <td>...</td>\n",
       "      <td>...</td>\n",
       "      <td>...</td>\n",
       "      <td>...</td>\n",
       "    </tr>\n",
       "    <tr>\n",
       "      <th>134</th>\n",
       "      <td>Streptomycin</td>\n",
       "      <td>Rv1258c_c.1029T&gt;C</td>\n",
       "      <td>0.944848</td>\n",
       "      <td>0.207446</td>\n",
       "      <td>0.933563</td>\n",
       "      <td>0.094394</td>\n",
       "      <td>391.0</td>\n",
       "      <td>35.0</td>\n",
       "      <td>11.51%</td>\n",
       "      <td>11.24%</td>\n",
       "      <td>1.0</td>\n",
       "      <td>1.0</td>\n",
       "      <td>0.0</td>\n",
       "      <td>0.0</td>\n",
       "    </tr>\n",
       "    <tr>\n",
       "      <th>135</th>\n",
       "      <td>Streptomycin</td>\n",
       "      <td>Rv1258c_p.Glu194fs</td>\n",
       "      <td>1.012949</td>\n",
       "      <td>0.630768</td>\n",
       "      <td>0.977383</td>\n",
       "      <td>0.633541</td>\n",
       "      <td>3296.0</td>\n",
       "      <td>5120.0</td>\n",
       "      <td>63.23%</td>\n",
       "      <td>61.88%</td>\n",
       "      <td>1.0</td>\n",
       "      <td>1.0</td>\n",
       "      <td>0.0</td>\n",
       "      <td>0.0</td>\n",
       "    </tr>\n",
       "    <tr>\n",
       "      <th>136</th>\n",
       "      <td>Streptomycin</td>\n",
       "      <td>whiB7_c.-100T&gt;C</td>\n",
       "      <td>1.031658</td>\n",
       "      <td>0.173571</td>\n",
       "      <td>1.029012</td>\n",
       "      <td>0.190362</td>\n",
       "      <td>135.0</td>\n",
       "      <td>84.0</td>\n",
       "      <td>34.48%</td>\n",
       "      <td>45.15%</td>\n",
       "      <td>1.0</td>\n",
       "      <td>1.0</td>\n",
       "      <td>0.0</td>\n",
       "      <td>0.0</td>\n",
       "    </tr>\n",
       "    <tr>\n",
       "      <th>137</th>\n",
       "      <td>Streptomycin</td>\n",
       "      <td>whiB7_c.-242G&gt;C</td>\n",
       "      <td>0.997890</td>\n",
       "      <td>0.630768</td>\n",
       "      <td>0.979538</td>\n",
       "      <td>0.352047</td>\n",
       "      <td>93.0</td>\n",
       "      <td>10.0</td>\n",
       "      <td>19.15%</td>\n",
       "      <td>17.13%</td>\n",
       "      <td>0.0</td>\n",
       "      <td>0.0</td>\n",
       "      <td>0.0</td>\n",
       "      <td>1.0</td>\n",
       "    </tr>\n",
       "    <tr>\n",
       "      <th>138</th>\n",
       "      <td>Streptomycin</td>\n",
       "      <td>whiB7_p.Gly64fs</td>\n",
       "      <td>0.945534</td>\n",
       "      <td>0.183538</td>\n",
       "      <td>0.939423</td>\n",
       "      <td>0.190362</td>\n",
       "      <td>441.0</td>\n",
       "      <td>47.0</td>\n",
       "      <td>12.49%</td>\n",
       "      <td>12.60%</td>\n",
       "      <td>1.0</td>\n",
       "      <td>1.0</td>\n",
       "      <td>0.0</td>\n",
       "      <td>0.0</td>\n",
       "    </tr>\n",
       "  </tbody>\n",
       "</table>\n",
       "<p>139 rows × 14 columns</p>\n",
       "</div>"
      ],
      "text/plain": [
       "             drug             variant  WHO_Odds_Ratio  WHO_BH_pval  \\\n",
       "0        Amikacin        eis_c.-10G>A        1.031504     0.670638   \n",
       "1        Amikacin        eis_c.-12C>T        0.973076     0.752432   \n",
       "2        Amikacin     eis_p.Val163Ile        1.035268     0.752432   \n",
       "3        Amikacin        rrs_n.492C>T        0.992668     0.897806   \n",
       "4        Amikacin        rrs_n.514A>C        1.081648     0.124878   \n",
       "..            ...                 ...             ...          ...   \n",
       "134  Streptomycin   Rv1258c_c.1029T>C        0.944848     0.207446   \n",
       "135  Streptomycin  Rv1258c_p.Glu194fs        1.012949     0.630768   \n",
       "136  Streptomycin     whiB7_c.-100T>C        1.031658     0.173571   \n",
       "137  Streptomycin     whiB7_c.-242G>C        0.997890     0.630768   \n",
       "138  Streptomycin     whiB7_p.Gly64fs        0.945534     0.183538   \n",
       "\n",
       "     ALL_Odds_Ratio  ALL_BH_pval  ALL_Present_S  ALL_Present_R WHO_PPV_ub  \\\n",
       "0          1.072857     0.000000          369.0           22.0      8.30%   \n",
       "1          1.030509     0.723324          917.0           64.0      8.79%   \n",
       "2          1.002809     0.925333          711.0           53.0     10.54%   \n",
       "3          0.970594     0.925333          785.0           12.0      3.73%   \n",
       "4          1.081290     0.029743          577.0          329.0     34.26%   \n",
       "..              ...          ...            ...            ...        ...   \n",
       "134        0.933563     0.094394          391.0           35.0     11.51%   \n",
       "135        0.977383     0.633541         3296.0         5120.0     63.23%   \n",
       "136        1.029012     0.190362          135.0           84.0     34.48%   \n",
       "137        0.979538     0.352047           93.0           10.0     19.15%   \n",
       "138        0.939423     0.190362          441.0           47.0     12.49%   \n",
       "\n",
       "    ALL_PPV_ub  WHO_setB  WHO_setC  WHO_setD1  WHO_setD2  \n",
       "0        8.40%       1.0       1.0        0.0        0.0  \n",
       "1        8.25%       1.0       1.0        0.0        0.0  \n",
       "2        8.98%       1.0       1.0        0.0        0.0  \n",
       "3        2.62%       1.0       1.0        0.0        0.0  \n",
       "4       39.54%       1.0       1.0        0.0        0.0  \n",
       "..         ...       ...       ...        ...        ...  \n",
       "134     11.24%       1.0       1.0        0.0        0.0  \n",
       "135     61.88%       1.0       1.0        0.0        0.0  \n",
       "136     45.15%       1.0       1.0        0.0        0.0  \n",
       "137     17.13%       0.0       0.0        0.0        1.0  \n",
       "138     12.60%       1.0       1.0        0.0        0.0  \n",
       "\n",
       "[139 rows x 14 columns]"
      ]
     },
     "execution_count": 20,
     "metadata": {},
     "output_type": "execute_result"
    }
   ],
   "source": [
    "# 139 remaining that meet the SOLO Neutral criterion but don't meet regression criteria for grading\n",
    "df_search = SOLO_notAssoc_regression_uncertain_graded.query(\"ALL_Present_SR >= 5 & ~((WHO_Odds_Ratio < 1 & WHO_BH_pval <= 0.05) | (ALL_Odds_Ratio < 1 & ALL_BH_pval <= 0.05))\")[['mutation', 'Drug', 'WHO_Odds_Ratio', 'WHO_BH_pval', 'ALL_Odds_Ratio', 'ALL_BH_pval']].rename(columns={'mutation': 'variant', 'Drug': 'drug'})\n",
    "\n",
    "who_variants.merge(df_search)[['drug', 'variant', 'WHO_Odds_Ratio', 'WHO_BH_pval', 'ALL_Odds_Ratio', 'ALL_BH_pval', 'ALL_Present_S', 'ALL_Present_R', 'WHO_PPV_ub', 'ALL_PPV_ub',  'WHO_setB',\n",
    " 'WHO_setC',\n",
    " 'WHO_setD1',\n",
    " 'WHO_setD2']]"
   ]
  },
  {
   "cell_type": "code",
   "execution_count": 71,
   "id": "f2764c4b-03f4-4a37-8325-6717dc585433",
   "metadata": {},
   "outputs": [
    {
     "data": {
      "text/plain": [
       "233"
      ]
     },
     "execution_count": 71,
     "metadata": {},
     "output_type": "execute_result"
    }
   ],
   "source": [
    "# total\n",
    "139+14+26+54"
   ]
  },
  {
   "cell_type": "markdown",
   "id": "6aca97a8-7f92-4bd1-8fbd-1a226f1c7820",
   "metadata": {},
   "source": [
    "# Not assoc w R by Literature"
   ]
  },
  {
   "cell_type": "code",
   "execution_count": 134,
   "id": "683de1b0-5120-4b40-9f11-98d16eb4b359",
   "metadata": {},
   "outputs": [
    {
     "name": "stdout",
     "output_type": "stream",
     "text": [
      "28\n",
      "REGRESSION FINAL CONFIDENCE GRADING\n",
      "3) Uncertain significance     27\n",
      "4) Not assoc w R - Interim     1\n",
      "Name: count, dtype: int64\n"
     ]
    }
   ],
   "source": [
    "not_assocR_literature = not_assocR_literature.merge(results_final, how='inner')\n",
    "print(len(not_assocR_literature))\n",
    "print(not_assocR_literature['REGRESSION FINAL CONFIDENCE GRADING'].value_counts())"
   ]
  },
  {
   "cell_type": "code",
   "execution_count": null,
   "id": "a5ec1d94-32df-465d-89fd-24a008308ba7",
   "metadata": {},
   "outputs": [],
   "source": []
  }
 ],
 "metadata": {
  "kernelspec": {
   "display_name": "Python 3 (ipykernel)",
   "language": "python",
   "name": "python3"
  },
  "language_info": {
   "codemirror_mode": {
    "name": "ipython",
    "version": 3
   },
   "file_extension": ".py",
   "mimetype": "text/x-python",
   "name": "python",
   "nbconvert_exporter": "python",
   "pygments_lexer": "ipython3",
   "version": "3.9.18"
  }
 },
 "nbformat": 4,
 "nbformat_minor": 5
}
