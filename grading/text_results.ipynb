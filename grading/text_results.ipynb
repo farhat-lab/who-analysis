{
 "cells": [
  {
   "cell_type": "code",
   "execution_count": 1,
   "id": "e90cf878-292e-4fb2-894a-29e2922e4b02",
   "metadata": {},
   "outputs": [
    {
     "name": "stdout",
     "output_type": "stream",
     "text": [
      "(52567, 10)\n"
     ]
    }
   ],
   "source": [
    "import numpy as np\n",
    "import pandas as pd\n",
    "import matplotlib.pyplot as plt\n",
    "import matplotlib.patches as mpatches\n",
    "plt.rcParams['figure.dpi'] = 150\n",
    "import seaborn as sns\n",
    "import scipy.stats as st\n",
    "import statsmodels\n",
    "import statsmodels.api as sm\n",
    "from functools import reduce\n",
    "\n",
    "import glob, os, yaml, subprocess, itertools, sparse, sys, statsmodels, shutil\n",
    "from sklearn.model_selection import train_test_split, KFold, GridSearchCV\n",
    "from sklearn.preprocessing import StandardScaler\n",
    "from sklearn.linear_model import LogisticRegression, LogisticRegressionCV\n",
    "\n",
    "analysis_dir = '/n/data1/hms/dbmi/farhat/Sanjana/who-mutation-catalogue'\n",
    "\n",
    "lineages = pd.read_csv(\"../lineages/combined_lineages_samples.csv\")\n",
    "print(lineages.shape)\n",
    "import collections, warnings\n",
    "warnings.filterwarnings(\"ignore\")\n",
    "\n",
    "sys.path.append(os.path.join(os.path.dirname(os.getcwd()), \"utils\"))\n",
    "from stats_utils import *\n",
    "from data_utils import *\n",
    "\n",
    "coll2014 = pd.read_csv(\"../data/coll2014_SNP_scheme.tsv\", sep=\"\\t\")\n",
    "coll2014[\"#lineage\"] = coll2014[\"#lineage\"].str.replace(\"lineage\", \"\")\n",
    "coll2014.rename(columns={\"#lineage\": \"Lineage\"}, inplace=True)\n",
    "coll2014['nucleotide'] = [val.split('/')[1] for val in coll2014['allele_change'].values]\n",
    "\n",
    "drug_abbr_dict = {\"Delamanid\": \"DLM\",\n",
    "                  \"Bedaquiline\": \"BDQ\",\n",
    "                  \"Clofazimine\": \"CFZ\",\n",
    "                  \"Ethionamide\": \"ETO\",\n",
    "                  \"Linezolid\": \"LZD\",\n",
    "                  \"Moxifloxacin\": \"MXF\",\n",
    "                  \"Capreomycin\": \"CAP\",\n",
    "                  \"Amikacin\": \"AMK\",\n",
    "                  \"Pretomanid\": \"PMD\",\n",
    "                  \"Pyrazinamide\": \"PZA\",\n",
    "                  \"Kanamycin\": \"KAN\",\n",
    "                  \"Levofloxacin\": \"LFX\",\n",
    "                  \"Streptomycin\": \"STM\",\n",
    "                  \"Ethambutol\": \"EMB\",\n",
    "                  \"Isoniazid\": \"INH\",\n",
    "                  \"Rifampicin\": \"RIF\"\n",
    "                 }\n",
    "\n",
    "cc_df = pd.read_csv(\"../data/drug_CC.csv\")\n",
    "# who_variants_V1 = pd.read_excel(\"../results/WHO-catalog-V1.xlsx\", sheet_name='Mutation_catalogue')\n",
    "who_variants = pd.read_csv(\"../results/WHO-catalog-V2.csv\", header=[2]).query(\"tier==1\").reset_index(drop=True)\n",
    "del who_variants['mutation']\n",
    "\n",
    "results_final = pd.read_csv(\"../results/Regression_Final_April2024_Tier1.csv\")\n",
    "not_assocR_literature = pd.read_excel(\"../data/NotAwR by literature.xlsx\", sheet_name=0).rename(columns={'drug': 'Drug', 'variant': 'mutation'})\n",
    "\n",
    "drug_gene_mapping = pd.read_csv(\"../data/drug_gene_mapping.csv\")\n",
    "silent_lst = ['synonymous_variant', 'initiator_codon_variant', 'stop_retained_variant']\n",
    "\n",
    "drugs_lst = list(drug_abbr_dict.keys())\n",
    "sample_ids_mapping = pd.read_csv(\"../data/sample_ids_mapping_20220922.csv\")\n",
    "\n",
    "# add regression + grading rules gradings\n",
    "results_final = add_grading_rules_regression(results_final)"
   ]
  },
  {
   "cell_type": "markdown",
   "id": "37501916-868d-45bc-a5fd-6957b212b46c",
   "metadata": {},
   "source": [
    "# Overview of Regression Gradings"
   ]
  },
  {
   "cell_type": "code",
   "execution_count": 2,
   "id": "ac18fbda-bb3e-4026-aa82-08f188c558ba",
   "metadata": {},
   "outputs": [],
   "source": [
    "regression_grading_cols_lst = ['REGRESSION FINAL CONFIDENCE GRADING', 'REGRESSION + GRADING RULES']\n",
    "solo_cols_lst = ['SOLO INITIAL CONFIDENCE GRADING', 'SOLO FINAL CONFIDENCE GRADING']\n",
    "\n",
    "regression_totals_df = []\n",
    "solo_totals_df = []\n",
    "\n",
    "for col in regression_grading_cols_lst:\n",
    "    regression_totals_df.append(pd.DataFrame(results_final[col].value_counts()).reset_index().rename(columns={col: 'Grading', 'count': col}).set_index('Grading'))\n",
    "\n",
    "for col in solo_cols_lst:\n",
    "    solo_totals_df.append(pd.DataFrame(results_final[col].value_counts()).reset_index().rename(columns={col: 'Grading', 'count': col}).set_index('Grading'))\n",
    "\n",
    "regression_totals_df = pd.concat(regression_totals_df, axis=1).loc[['Assoc w R', 'Assoc w R - Interim', 'Uncertain', 'Assoc w S - Interim', 'Assoc w S', 'Neutral']]\n",
    "solo_totals_df = pd.concat(solo_totals_df, axis=1).sort_index()"
   ]
  },
  {
   "cell_type": "code",
   "execution_count": 3,
   "id": "8cfa0557-5c49-4650-aa97-80377c4f7b18",
   "metadata": {},
   "outputs": [
    {
     "data": {
      "text/html": [
       "<div>\n",
       "<style scoped>\n",
       "    .dataframe tbody tr th:only-of-type {\n",
       "        vertical-align: middle;\n",
       "    }\n",
       "\n",
       "    .dataframe tbody tr th {\n",
       "        vertical-align: top;\n",
       "    }\n",
       "\n",
       "    .dataframe thead th {\n",
       "        text-align: right;\n",
       "    }\n",
       "</style>\n",
       "<table border=\"1\" class=\"dataframe\">\n",
       "  <thead>\n",
       "    <tr style=\"text-align: right;\">\n",
       "      <th></th>\n",
       "      <th>REGRESSION FINAL CONFIDENCE GRADING</th>\n",
       "      <th>REGRESSION + GRADING RULES</th>\n",
       "    </tr>\n",
       "    <tr>\n",
       "      <th>Grading</th>\n",
       "      <th></th>\n",
       "      <th></th>\n",
       "    </tr>\n",
       "  </thead>\n",
       "  <tbody>\n",
       "    <tr>\n",
       "      <th>Assoc w R</th>\n",
       "      <td>783</td>\n",
       "      <td>641</td>\n",
       "    </tr>\n",
       "    <tr>\n",
       "      <th>Assoc w R - Interim</th>\n",
       "      <td>336</td>\n",
       "      <td>1200</td>\n",
       "    </tr>\n",
       "    <tr>\n",
       "      <th>Uncertain</th>\n",
       "      <td>20225</td>\n",
       "      <td>14599</td>\n",
       "    </tr>\n",
       "    <tr>\n",
       "      <th>Assoc w S - Interim</th>\n",
       "      <td>21</td>\n",
       "      <td>5000</td>\n",
       "    </tr>\n",
       "    <tr>\n",
       "      <th>Assoc w S</th>\n",
       "      <td>14</td>\n",
       "      <td>14</td>\n",
       "    </tr>\n",
       "    <tr>\n",
       "      <th>Neutral</th>\n",
       "      <td>210</td>\n",
       "      <td>135</td>\n",
       "    </tr>\n",
       "  </tbody>\n",
       "</table>\n",
       "</div>"
      ],
      "text/plain": [
       "                     REGRESSION FINAL CONFIDENCE GRADING  \\\n",
       "Grading                                                    \n",
       "Assoc w R                                            783   \n",
       "Assoc w R - Interim                                  336   \n",
       "Uncertain                                          20225   \n",
       "Assoc w S - Interim                                   21   \n",
       "Assoc w S                                             14   \n",
       "Neutral                                              210   \n",
       "\n",
       "                     REGRESSION + GRADING RULES  \n",
       "Grading                                          \n",
       "Assoc w R                                   641  \n",
       "Assoc w R - Interim                        1200  \n",
       "Uncertain                                 14599  \n",
       "Assoc w S - Interim                        5000  \n",
       "Assoc w S                                    14  \n",
       "Neutral                                     135  "
      ]
     },
     "execution_count": 3,
     "metadata": {},
     "output_type": "execute_result"
    }
   ],
   "source": [
    "regression_totals_df"
   ]
  },
  {
   "cell_type": "code",
   "execution_count": 34,
   "id": "5cbfaba0-fbea-4eb5-ae37-10f352282567",
   "metadata": {},
   "outputs": [
    {
     "data": {
      "text/html": [
       "<div>\n",
       "<style scoped>\n",
       "    .dataframe tbody tr th:only-of-type {\n",
       "        vertical-align: middle;\n",
       "    }\n",
       "\n",
       "    .dataframe tbody tr th {\n",
       "        vertical-align: top;\n",
       "    }\n",
       "\n",
       "    .dataframe thead th {\n",
       "        text-align: right;\n",
       "    }\n",
       "</style>\n",
       "<table border=\"1\" class=\"dataframe\">\n",
       "  <thead>\n",
       "    <tr style=\"text-align: right;\">\n",
       "      <th></th>\n",
       "      <th>SOLO INITIAL CONFIDENCE GRADING</th>\n",
       "      <th>SOLO FINAL CONFIDENCE GRADING</th>\n",
       "    </tr>\n",
       "    <tr>\n",
       "      <th>Grading</th>\n",
       "      <th></th>\n",
       "      <th></th>\n",
       "    </tr>\n",
       "  </thead>\n",
       "  <tbody>\n",
       "    <tr>\n",
       "      <th>1) Assoc w R</th>\n",
       "      <td>311</td>\n",
       "      <td>253</td>\n",
       "    </tr>\n",
       "    <tr>\n",
       "      <th>2) Assoc w R - Interim</th>\n",
       "      <td>146</td>\n",
       "      <td>1130</td>\n",
       "    </tr>\n",
       "    <tr>\n",
       "      <th>3) Uncertain significance</th>\n",
       "      <td>20835</td>\n",
       "      <td>14958</td>\n",
       "    </tr>\n",
       "    <tr>\n",
       "      <th>4) Not assoc w R - Interim</th>\n",
       "      <td>19</td>\n",
       "      <td>4998</td>\n",
       "    </tr>\n",
       "    <tr>\n",
       "      <th>5) Not assoc w R</th>\n",
       "      <td>278</td>\n",
       "      <td>250</td>\n",
       "    </tr>\n",
       "  </tbody>\n",
       "</table>\n",
       "</div>"
      ],
      "text/plain": [
       "                            SOLO INITIAL CONFIDENCE GRADING  \\\n",
       "Grading                                                       \n",
       "1) Assoc w R                                            311   \n",
       "2) Assoc w R - Interim                                  146   \n",
       "3) Uncertain significance                             20835   \n",
       "4) Not assoc w R - Interim                               19   \n",
       "5) Not assoc w R                                        278   \n",
       "\n",
       "                            SOLO FINAL CONFIDENCE GRADING  \n",
       "Grading                                                    \n",
       "1) Assoc w R                                          253  \n",
       "2) Assoc w R - Interim                               1130  \n",
       "3) Uncertain significance                           14958  \n",
       "4) Not assoc w R - Interim                           4998  \n",
       "5) Not assoc w R                                      250  "
      ]
     },
     "execution_count": 34,
     "metadata": {},
     "output_type": "execute_result"
    }
   ],
   "source": [
    "solo_totals_df"
   ]
  },
  {
   "cell_type": "code",
   "execution_count": 38,
   "id": "24a56eea-5467-4dcc-8267-abc85e70a859",
   "metadata": {},
   "outputs": [
    {
     "data": {
      "text/plain": [
       "REGRESSION + GRADING RULES\n",
       "Uncertain              14545\n",
       "Assoc w R - Interim     1200\n",
       "Assoc w R                641\n",
       "Neutral                  125\n",
       "Assoc w S - Interim       46\n",
       "Assoc w S                 14\n",
       "Name: count, dtype: int64"
      ]
     },
     "execution_count": 38,
     "metadata": {},
     "output_type": "execute_result"
    }
   ],
   "source": [
    "results_final.query(\"predicted_effect not in @silent_lst\")['REGRESSION + GRADING RULES'].value_counts()"
   ]
  },
  {
   "cell_type": "code",
   "execution_count": 17,
   "id": "855a468e-502a-46a4-b2a9-01f5c6411501",
   "metadata": {},
   "outputs": [],
   "source": [
    "new_drugs_Rassoc_df = []\n",
    "\n",
    "for col in regression_grading_cols_lst + solo_cols_lst:\n",
    "\n",
    "    new_drugs_Rassoc_df.append(pd.DataFrame(results_final.loc[results_final[col].str.contains('Assoc w R')].query(\"predicted_effect != 'LoF' & Drug in ['Bedaquiline', 'Clofazimine', 'Delamanid', 'Linezolid']\")['Drug'].value_counts()).rename(columns={'count': col}))\n",
    "\n",
    "new_drugs_Rassoc_df = pd.concat(new_drugs_Rassoc_df, axis=1)"
   ]
  },
  {
   "cell_type": "code",
   "execution_count": 18,
   "id": "7014d72a-0267-4cf0-b82c-7ff482c6dd4b",
   "metadata": {},
   "outputs": [
    {
     "data": {
      "text/html": [
       "<div>\n",
       "<style scoped>\n",
       "    .dataframe tbody tr th:only-of-type {\n",
       "        vertical-align: middle;\n",
       "    }\n",
       "\n",
       "    .dataframe tbody tr th {\n",
       "        vertical-align: top;\n",
       "    }\n",
       "\n",
       "    .dataframe thead th {\n",
       "        text-align: right;\n",
       "    }\n",
       "</style>\n",
       "<table border=\"1\" class=\"dataframe\">\n",
       "  <thead>\n",
       "    <tr style=\"text-align: right;\">\n",
       "      <th></th>\n",
       "      <th>REGRESSION FINAL CONFIDENCE GRADING</th>\n",
       "      <th>REGRESSION + GRADING RULES</th>\n",
       "      <th>SOLO INITIAL CONFIDENCE GRADING</th>\n",
       "      <th>SOLO FINAL CONFIDENCE GRADING</th>\n",
       "    </tr>\n",
       "    <tr>\n",
       "      <th>Drug</th>\n",
       "      <th></th>\n",
       "      <th></th>\n",
       "      <th></th>\n",
       "      <th></th>\n",
       "    </tr>\n",
       "  </thead>\n",
       "  <tbody>\n",
       "    <tr>\n",
       "      <th>Bedaquiline</th>\n",
       "      <td>39</td>\n",
       "      <td>95</td>\n",
       "      <td>23</td>\n",
       "      <td>86</td>\n",
       "    </tr>\n",
       "    <tr>\n",
       "      <th>Clofazimine</th>\n",
       "      <td>27</td>\n",
       "      <td>74</td>\n",
       "      <td>2</td>\n",
       "      <td>57</td>\n",
       "    </tr>\n",
       "    <tr>\n",
       "      <th>Delamanid</th>\n",
       "      <td>3</td>\n",
       "      <td>25</td>\n",
       "      <td>1</td>\n",
       "      <td>24</td>\n",
       "    </tr>\n",
       "    <tr>\n",
       "      <th>Linezolid</th>\n",
       "      <td>3</td>\n",
       "      <td>8</td>\n",
       "      <td>2</td>\n",
       "      <td>8</td>\n",
       "    </tr>\n",
       "  </tbody>\n",
       "</table>\n",
       "</div>"
      ],
      "text/plain": [
       "             REGRESSION FINAL CONFIDENCE GRADING  REGRESSION + GRADING RULES  \\\n",
       "Drug                                                                           \n",
       "Bedaquiline                                   39                          95   \n",
       "Clofazimine                                   27                          74   \n",
       "Delamanid                                      3                          25   \n",
       "Linezolid                                      3                           8   \n",
       "\n",
       "             SOLO INITIAL CONFIDENCE GRADING  SOLO FINAL CONFIDENCE GRADING  \n",
       "Drug                                                                         \n",
       "Bedaquiline                               23                             86  \n",
       "Clofazimine                                2                             57  \n",
       "Delamanid                                  1                             24  \n",
       "Linezolid                                  2                              8  "
      ]
     },
     "execution_count": 18,
     "metadata": {},
     "output_type": "execute_result"
    }
   ],
   "source": [
    "new_drugs_Rassoc_df"
   ]
  },
  {
   "cell_type": "markdown",
   "id": "a860449d-14c5-4124-a2ca-a58114b706e4",
   "metadata": {},
   "source": [
    "# Results Section A"
   ]
  },
  {
   "cell_type": "code",
   "execution_count": 19,
   "id": "0500fda2-7dfe-4cda-8efb-13e25e23bf46",
   "metadata": {},
   "outputs": [
    {
     "name": "stdout",
     "output_type": "stream",
     "text": [
      "Regression: 1119\n",
      "DA: 457\n",
      "SOLO: 1383\n"
     ]
    }
   ],
   "source": [
    "# Groups 1 and 2\n",
    "print(f\"Regression: {len(results_final.loc[(results_final['REGRESSION FINAL CONFIDENCE GRADING'].str.contains('Assoc w R'))])}\")\n",
    "print(f\"DA: {len(results_final.loc[results_final['SOLO INITIAL CONFIDENCE GRADING'].str.contains('Assoc w R')])}\")\n",
    "print(f\"SOLO: {len(results_final.loc[results_final['SOLO FINAL CONFIDENCE GRADING'].str.contains('Assoc w R')])}\")"
   ]
  },
  {
   "cell_type": "code",
   "execution_count": 36,
   "id": "a328c04d-047b-493f-a394-dfdf23f3beb4",
   "metadata": {},
   "outputs": [
    {
     "data": {
      "text/plain": [
       "(662, 1.4485776805251642)"
      ]
     },
     "execution_count": 36,
     "metadata": {},
     "output_type": "execute_result"
    }
   ],
   "source": [
    "1119-457, (1119-457)/457 "
   ]
  },
  {
   "cell_type": "code",
   "execution_count": 15,
   "id": "0d8039b3-ac95-4f41-9c15-1b8c623c9d52",
   "metadata": {},
   "outputs": [
    {
     "name": "stdout",
     "output_type": "stream",
     "text": [
      "Regression: 1118\n",
      "DA: 457\n",
      "SOLO: 1383\n"
     ]
    }
   ],
   "source": [
    "# Groups 1 and 2, without silent variants\n",
    "print(f\"Regression: {len(results_final.loc[(~results_final['predicted_effect'].isin(silent_lst)) & (results_final['REGRESSION FINAL CONFIDENCE GRADING'].str.contains('Assoc w R'))])}\")\n",
    "\n",
    "print(f\"DA: {len(results_final.loc[(~results_final['predicted_effect'].isin(silent_lst)) & (results_final['SOLO INITIAL CONFIDENCE GRADING'].str.contains('Assoc w R'))])}\")\n",
    "\n",
    "print(f\"SOLO: {len(results_final.loc[(~results_final['predicted_effect'].isin(silent_lst)) & (results_final['SOLO FINAL CONFIDENCE GRADING'].str.contains('Assoc w R'))])}\")"
   ]
  },
  {
   "cell_type": "code",
   "execution_count": 2,
   "id": "9018b491-16c1-4720-8614-547966ea6077",
   "metadata": {},
   "outputs": [
    {
     "data": {
      "text/plain": [
       "(1, array(['katG_c.12A>G'], dtype=object))"
      ]
     },
     "execution_count": 2,
     "metadata": {},
     "output_type": "execute_result"
    }
   ],
   "source": [
    "silent_variants_assocR = results_final.loc[(results_final['predicted_effect'].isin(silent_lst)) & (results_final['REGRESSION FINAL CONFIDENCE GRADING'].str.contains('Assoc w R'))].mutation.values\n",
    "len(silent_variants_assocR), silent_variants_assocR"
   ]
  },
  {
   "cell_type": "code",
   "execution_count": null,
   "id": "008fe5c5-c761-47b2-87c9-e8c2464e6431",
   "metadata": {},
   "outputs": [],
   "source": [
    "INH_phenos = pd.read_csv(os.path.join(analysis_dir, \"Isoniazid\", \"phenos_binary.csv\"))\n",
    "\n",
    "INH_genos = pd.read_csv(os.path.join(analysis_dir, \"Isoniazid\", \"genos_1.csv.gz\"), compression='gzip', usecols=['sample_id', 'resolved_symbol', 'variant_category', 'variant_allele_frequency'])\n",
    "\n",
    "# INH_genos['mutation'] = INH_genos['resolved_symbol'] + '_' + INH_genos['variant_category']"
   ]
  },
  {
   "cell_type": "code",
   "execution_count": null,
   "id": "8c8179fe-c003-410f-9f8b-52a31c122633",
   "metadata": {},
   "outputs": [],
   "source": [
    "mutation = 'katG_c.12A>G' #'mmpL5_c.2889G>A'\n",
    "gene, variant = mutation.split('_')\n",
    "\n",
    "samples_with_mutation = INH_genos.query(\"resolved_symbol==@gene & variant_category==@variant & variant_allele_frequency > 0.75\").sample_id.values\n",
    "len(samples_with_mutation)"
   ]
  },
  {
   "cell_type": "code",
   "execution_count": null,
   "id": "b67e41b0-04e7-44f3-874d-f7ba4cfac619",
   "metadata": {},
   "outputs": [],
   "source": [
    "len(samples_with_mutation), INH_phenos.query(\"sample_id in @samples_with_mutation\")['phenotype'].sum()"
   ]
  },
  {
   "cell_type": "code",
   "execution_count": null,
   "id": "54688669-fabf-402f-9cd6-de2dd67e7bc4",
   "metadata": {},
   "outputs": [],
   "source": [
    "muts_lst = INH_genos.query(\"~(resolved_symbol==@gene & variant_category==@variant) & variant_allele_frequency > 0.75 & sample_id in @samples_with_mutation\").mutation.values\n",
    "\n",
    "who_variants.query(\"drug=='Isoniazid' & variant in @muts_lst\")[['drug', 'variant', 'Present_SOLO_R', 'Present_SOLO_S', 'INITIAL CONFIDENCE GRADING', 'FINAL CONFIDENCE GRADING']]"
   ]
  },
  {
   "cell_type": "code",
   "execution_count": 5,
   "id": "de371754-c099-49e2-b248-bed2ffdada82",
   "metadata": {},
   "outputs": [
    {
     "name": "stdout",
     "output_type": "stream",
     "text": [
      "Regression: 245\n",
      "DA: 297\n",
      "SOLO: 5248\n",
      "Regression: 35\n"
     ]
    }
   ],
   "source": [
    "# Groups 4-6\n",
    "print(f\"Regression: {len(results_final.loc[(results_final['REGRESSION FINAL CONFIDENCE GRADING'].str.contains('|'.join(['Assoc w S', 'Neutral'])))])}\")\n",
    "print(f\"DA: {len(results_final.loc[results_final['SOLO INITIAL CONFIDENCE GRADING'].str.contains('Not assoc w R')])}\")\n",
    "print(f\"SOLO: {len(results_final.loc[results_final['SOLO FINAL CONFIDENCE GRADING'].str.contains('Not assoc w R')])}\")\n",
    "\n",
    "# Groups 4-5\n",
    "print(f\"Regression: {len(results_final.loc[results_final['REGRESSION FINAL CONFIDENCE GRADING'].str.contains('Assoc w S')])}\")"
   ]
  },
  {
   "cell_type": "code",
   "execution_count": 23,
   "id": "cde69214-fafb-46cc-8c80-a5959ba075a5",
   "metadata": {},
   "outputs": [
    {
     "name": "stdout",
     "output_type": "stream",
     "text": [
      "Regression: 170\n",
      "DA: 230\n",
      "SOLO: 230\n"
     ]
    }
   ],
   "source": [
    "# Groups 4-6, without silent variants\n",
    "print(f\"Regression: {len(results_final.loc[(~results_final['predicted_effect'].isin(silent_lst)) & (results_final['REGRESSION FINAL CONFIDENCE GRADING'].str.contains('|'.join(['Assoc w S', 'Neutral'])))])}\")\n",
    "\n",
    "print(f\"DA: {len(results_final.loc[(~results_final['predicted_effect'].isin(silent_lst)) & (results_final['SOLO INITIAL CONFIDENCE GRADING'].str.contains('Not assoc w R'))])}\")\n",
    "\n",
    "print(f\"SOLO: {len(results_final.loc[(~results_final['predicted_effect'].isin(silent_lst)) & (results_final['SOLO FINAL CONFIDENCE GRADING'].str.contains('Not assoc w R'))])}\")"
   ]
  },
  {
   "cell_type": "code",
   "execution_count": 24,
   "id": "68e21943-e1af-406b-91b4-d8e37c47074b",
   "metadata": {},
   "outputs": [
    {
     "data": {
      "text/html": [
       "<div>\n",
       "<style scoped>\n",
       "    .dataframe tbody tr th:only-of-type {\n",
       "        vertical-align: middle;\n",
       "    }\n",
       "\n",
       "    .dataframe tbody tr th {\n",
       "        vertical-align: top;\n",
       "    }\n",
       "\n",
       "    .dataframe thead th {\n",
       "        text-align: right;\n",
       "    }\n",
       "</style>\n",
       "<table border=\"1\" class=\"dataframe\">\n",
       "  <thead>\n",
       "    <tr style=\"text-align: right;\">\n",
       "      <th></th>\n",
       "      <th>Drug</th>\n",
       "      <th>mutation</th>\n",
       "      <th>WHO_Present_R</th>\n",
       "      <th>WHO_Present_S</th>\n",
       "      <th>Initial confidence grading WHO dataset</th>\n",
       "      <th>Initial confidence grading ALL dataset</th>\n",
       "    </tr>\n",
       "  </thead>\n",
       "  <tbody>\n",
       "    <tr>\n",
       "      <th>17266</th>\n",
       "      <td>Pyrazinamide</td>\n",
       "      <td>pncA_p.Asp49fs</td>\n",
       "      <td>1.0</td>\n",
       "      <td>1.0</td>\n",
       "      <td>Uncertain</td>\n",
       "      <td>Assoc w R - Interim</td>\n",
       "    </tr>\n",
       "    <tr>\n",
       "      <th>17430</th>\n",
       "      <td>Pyrazinamide</td>\n",
       "      <td>pncA_p.Thr22fs</td>\n",
       "      <td>2.0</td>\n",
       "      <td>0.0</td>\n",
       "      <td>Assoc w R - Interim</td>\n",
       "      <td>Uncertain</td>\n",
       "    </tr>\n",
       "  </tbody>\n",
       "</table>\n",
       "</div>"
      ],
      "text/plain": [
       "               Drug        mutation  WHO_Present_R  WHO_Present_S  \\\n",
       "17266  Pyrazinamide  pncA_p.Asp49fs            1.0            1.0   \n",
       "17430  Pyrazinamide  pncA_p.Thr22fs            2.0            0.0   \n",
       "\n",
       "      Initial confidence grading WHO dataset  \\\n",
       "17266                              Uncertain   \n",
       "17430                    Assoc w R - Interim   \n",
       "\n",
       "      Initial confidence grading ALL dataset  \n",
       "17266                    Assoc w R - Interim  \n",
       "17430                              Uncertain  "
      ]
     },
     "execution_count": 24,
     "metadata": {},
     "output_type": "execute_result"
    }
   ],
   "source": [
    "results_final.loc[(results_final['REGRESSION FINAL CONFIDENCE GRADING']=='Uncertain') & (results_final['SOLO INITIAL CONFIDENCE GRADING'].str.contains('Assoc w R'))][['Drug', 'mutation', 'WHO_Present_R', 'WHO_Present_S', 'Initial confidence grading WHO dataset', 'Initial confidence grading ALL dataset']]"
   ]
  },
  {
   "cell_type": "markdown",
   "id": "5246df58-a6af-48c5-bd6f-ee59352f5003",
   "metadata": {},
   "source": [
    "## Which R- and S-associated variants does regression find, DA misses, and SOLO upgrades to interim?"
   ]
  },
  {
   "cell_type": "code",
   "execution_count": 25,
   "id": "4b050196-ef03-4762-bda0-5889abf1b404",
   "metadata": {},
   "outputs": [
    {
     "name": "stdout",
     "output_type": "stream",
     "text": [
      "926 926\n",
      "202\n"
     ]
    }
   ],
   "source": [
    "# mutations that HAD to be upgraded to Groups 1 and 2 using rules\n",
    "DAmiss_SOLOupgrade_R = results_final.loc[(~results_final['SOLO INITIAL CONFIDENCE GRADING'].str.contains('Assoc w R')) &\n",
    "                                         (results_final['SOLO FINAL CONFIDENCE GRADING'].str.contains('Assoc w R'))\n",
    "                                        ]\n",
    "\n",
    "# matches with total counts above too\n",
    "print(len(DAmiss_SOLOupgrade_R), 1383-457)\n",
    "\n",
    "regression_Rassoc_DAmiss_SOLOupgrade_R = DAmiss_SOLOupgrade_R.loc[DAmiss_SOLOupgrade_R['REGRESSION FINAL CONFIDENCE GRADING'].str.contains('Assoc w R')]\n",
    "print(len(regression_Rassoc_DAmiss_SOLOupgrade_R))"
   ]
  },
  {
   "cell_type": "code",
   "execution_count": 26,
   "id": "5ee94f00-a56c-4272-bdb2-d4500a2d27be",
   "metadata": {},
   "outputs": [
    {
     "name": "stdout",
     "output_type": "stream",
     "text": [
      "4951 4951\n",
      "64\n"
     ]
    }
   ],
   "source": [
    "# mutations that HAD to be upgraded to Groups 1 and 2 using rules\n",
    "DAmiss_SOLOupgrade_S = results_final.loc[(~results_final['SOLO INITIAL CONFIDENCE GRADING'].str.contains('Not assoc w R')) &\n",
    "                                         (results_final['SOLO FINAL CONFIDENCE GRADING'].str.contains('Not assoc w R'))\n",
    "                                        ]\n",
    "\n",
    "# matches with total counts above too\n",
    "print(len(DAmiss_SOLOupgrade_S), 5248-297)\n",
    "\n",
    "regression_Rassoc_DAmiss_SOLOupgrade_S = DAmiss_SOLOupgrade_S.loc[DAmiss_SOLOupgrade_S['REGRESSION FINAL CONFIDENCE GRADING'].str.contains('|'.join(['Assoc w S', 'Neutral']))]\n",
    "print(len(regression_Rassoc_DAmiss_SOLOupgrade_S))"
   ]
  },
  {
   "cell_type": "markdown",
   "id": "4d7d62c8-77d8-4de2-b4b4-700a6f82865e",
   "metadata": {},
   "source": [
    "## Look into the cases where regression grades but SOLO misses"
   ]
  },
  {
   "cell_type": "code",
   "execution_count": 42,
   "id": "a4a24465-2ef0-4699-b0de-48ed4703d988",
   "metadata": {},
   "outputs": [
    {
     "data": {
      "text/plain": [
       "REGRESSION FINAL CONFIDENCE GRADING  SOLO INITIAL CONFIDENCE GRADING  SOLO FINAL CONFIDENCE GRADING\n",
       "Assoc w R                            3) Uncertain significance        2) Assoc w R - Interim           103\n",
       "Assoc w R - Interim                  3) Uncertain significance        2) Assoc w R - Interim            96\n",
       "Assoc w R                            3) Uncertain significance        1) Assoc w R                       3\n",
       "Name: count, dtype: int64"
      ]
     },
     "execution_count": 42,
     "metadata": {},
     "output_type": "execute_result"
    }
   ],
   "source": [
    "regression_Rassoc_DAmiss_SOLOupgrade_R[['REGRESSION FINAL CONFIDENCE GRADING', 'SOLO INITIAL CONFIDENCE GRADING', 'SOLO FINAL CONFIDENCE GRADING']].value_counts()"
   ]
  },
  {
   "cell_type": "code",
   "execution_count": 43,
   "id": "31cef904-ed86-44ee-8ed3-8e281e8966d5",
   "metadata": {},
   "outputs": [
    {
     "data": {
      "text/plain": [
       "202"
      ]
     },
     "execution_count": 43,
     "metadata": {},
     "output_type": "execute_result"
    }
   ],
   "source": [
    "regression_Rassoc_DAmiss_SOLOupgrade_R_SOLO_results = regression_Rassoc_DAmiss_SOLOupgrade_R[['Drug', 'mutation']].merge(who_variants.rename(columns={'drug': 'Drug', 'variant': 'mutation'}))\n",
    "\n",
    "len(regression_Rassoc_DAmiss_SOLOupgrade_R_SOLO_results)"
   ]
  },
  {
   "cell_type": "code",
   "execution_count": 45,
   "id": "65dec1fa-40ab-45cb-bc10-bfadb21cfc8b",
   "metadata": {},
   "outputs": [
    {
     "data": {
      "text/plain": [
       "(202, 3, 126)"
      ]
     },
     "execution_count": 45,
     "metadata": {},
     "output_type": "execute_result"
    }
   ],
   "source": [
    "len(regression_Rassoc_DAmiss_SOLOupgrade_R_SOLO_results), len(regression_Rassoc_DAmiss_SOLOupgrade_R_SOLO_results.query(\"Present_SOLO_SR==0\")), len(regression_Rassoc_DAmiss_SOLOupgrade_R_SOLO_results.query(\"Present_SOLO_SR < 5\"))"
   ]
  },
  {
   "cell_type": "code",
   "execution_count": 47,
   "id": "00ceb063-2575-42c0-bcbc-85eef321b7e4",
   "metadata": {},
   "outputs": [
    {
     "data": {
      "text/plain": [
       "0.6237623762376238"
      ]
     },
     "execution_count": 47,
     "metadata": {},
     "output_type": "execute_result"
    }
   ],
   "source": [
    "126/202"
   ]
  },
  {
   "cell_type": "code",
   "execution_count": 46,
   "id": "742bf2ae-f7d7-4e69-a360-d2652cb84220",
   "metadata": {},
   "outputs": [
    {
     "data": {
      "text/plain": [
       "(76,\n",
       " OR_SOLO_FE_sig\n",
       " False    71\n",
       " True      5\n",
       " Name: count, dtype: int64)"
      ]
     },
     "execution_count": 46,
     "metadata": {},
     "output_type": "execute_result"
    }
   ],
   "source": [
    "len(regression_Rassoc_DAmiss_SOLOupgrade_R_SOLO_results.query(\"Present_SOLO_SR >= 5\")), regression_Rassoc_DAmiss_SOLOupgrade_R_SOLO_results.query(\"Present_SOLO_SR >= 5\").OR_SOLO_FE_sig.value_counts()"
   ]
  },
  {
   "cell_type": "markdown",
   "id": "2087e0cd-85ef-4773-9cf8-8e39418b4bbc",
   "metadata": {},
   "source": [
    "# Neutral Variants"
   ]
  },
  {
   "cell_type": "code",
   "execution_count": 61,
   "id": "094b0a84-c630-4ea0-983d-a33a25dab759",
   "metadata": {},
   "outputs": [
    {
     "data": {
      "text/plain": [
       "REGRESSION FINAL CONFIDENCE GRADING\n",
       "Uncertain    19\n",
       "Neutral       8\n",
       "Assoc w R     1\n",
       "Name: count, dtype: int64"
      ]
     },
     "execution_count": 61,
     "metadata": {},
     "output_type": "execute_result"
    }
   ],
   "source": [
    "# 28 Tier 1 variants\n",
    "neutral_literature_regression_results = results_final.merge(not_assocR_literature, on=['Drug', 'mutation'], how='right').merge(who_variants.rename(columns={'drug': 'Drug', 'variant': 'mutation'})[['Drug', 'mutation', 'Present_SOLO_S', 'Present_SOLO_R', 'Present_S', 'Present_R']], on=['Drug', 'mutation'])\n",
    "\n",
    "neutral_literature_regression_results['REGRESSION FINAL CONFIDENCE GRADING'].value_counts()"
   ]
  },
  {
   "cell_type": "code",
   "execution_count": 42,
   "id": "15ecc141-7fc7-4281-ab4a-6d6e8bfca8ee",
   "metadata": {},
   "outputs": [],
   "source": [
    "neutral_literature_regression_results.loc[neutral_literature_regression_results['REGRESSION FINAL CONFIDENCE GRADING']=='Neutral'].sort_values([\"Drug\", \"ALL_Odds_Ratio\"], ascending=[True, False])[['Drug', 'mutation', 'WHO_Odds_Ratio', 'ALL_Odds_Ratio', 'Present_S', 'Present_R']].to_csv(\"../results/neutral_vars_OR.csv\", index=False)"
   ]
  },
  {
   "cell_type": "code",
   "execution_count": 50,
   "id": "9330c4b5-241b-4988-bf21-2e7ae5308d45",
   "metadata": {},
   "outputs": [
    {
     "data": {
      "text/html": [
       "<div>\n",
       "<style scoped>\n",
       "    .dataframe tbody tr th:only-of-type {\n",
       "        vertical-align: middle;\n",
       "    }\n",
       "\n",
       "    .dataframe tbody tr th {\n",
       "        vertical-align: top;\n",
       "    }\n",
       "\n",
       "    .dataframe thead th {\n",
       "        text-align: right;\n",
       "    }\n",
       "</style>\n",
       "<table border=\"1\" class=\"dataframe\">\n",
       "  <thead>\n",
       "    <tr style=\"text-align: right;\">\n",
       "      <th></th>\n",
       "      <th>Drug</th>\n",
       "      <th>mutation</th>\n",
       "      <th>WHO_Odds_Ratio</th>\n",
       "      <th>WHO_BH_neutral_pval</th>\n",
       "      <th>WHO_BH_LRT_neutral_pval</th>\n",
       "      <th>SOLO INITIAL CONFIDENCE GRADING</th>\n",
       "      <th>SOLO FINAL CONFIDENCE GRADING</th>\n",
       "    </tr>\n",
       "  </thead>\n",
       "  <tbody>\n",
       "    <tr>\n",
       "      <th>0</th>\n",
       "      <td>Amikacin</td>\n",
       "      <td>whiB7_c.-178C&gt;T</td>\n",
       "      <td>0.950986</td>\n",
       "      <td>0.884856</td>\n",
       "      <td>0.585905</td>\n",
       "      <td>5) Not assoc w R</td>\n",
       "      <td>4) Not assoc w R - Interim</td>\n",
       "    </tr>\n",
       "    <tr>\n",
       "      <th>1</th>\n",
       "      <td>Bedaquiline</td>\n",
       "      <td>mmpL5_p.Ile948Val</td>\n",
       "      <td>0.936788</td>\n",
       "      <td>1.000000</td>\n",
       "      <td>1.000000</td>\n",
       "      <td>5) Not assoc w R</td>\n",
       "      <td>4) Not assoc w R - Interim</td>\n",
       "    </tr>\n",
       "    <tr>\n",
       "      <th>2</th>\n",
       "      <td>Bedaquiline</td>\n",
       "      <td>mmpL5_p.Thr794Ile</td>\n",
       "      <td>1.096449</td>\n",
       "      <td>1.000000</td>\n",
       "      <td>1.000000</td>\n",
       "      <td>5) Not assoc w R</td>\n",
       "      <td>4) Not assoc w R - Interim</td>\n",
       "    </tr>\n",
       "    <tr>\n",
       "      <th>3</th>\n",
       "      <td>Bedaquiline</td>\n",
       "      <td>mmpS5_c.-74G&gt;T</td>\n",
       "      <td>1.409350</td>\n",
       "      <td>1.000000</td>\n",
       "      <td>1.000000</td>\n",
       "      <td>5) Not assoc w R</td>\n",
       "      <td>4) Not assoc w R - Interim</td>\n",
       "    </tr>\n",
       "    <tr>\n",
       "      <th>4</th>\n",
       "      <td>Ethambutol</td>\n",
       "      <td>embA_p.Ala813Gly</td>\n",
       "      <td>1.015761</td>\n",
       "      <td>1.000000</td>\n",
       "      <td>0.000000</td>\n",
       "      <td>5) Not assoc w R</td>\n",
       "      <td>4) Not assoc w R - Interim</td>\n",
       "    </tr>\n",
       "    <tr>\n",
       "      <th>6</th>\n",
       "      <td>Ethambutol</td>\n",
       "      <td>embA_p.Val468Ala</td>\n",
       "      <td>1.039590</td>\n",
       "      <td>0.645634</td>\n",
       "      <td>0.460355</td>\n",
       "      <td>5) Not assoc w R</td>\n",
       "      <td>4) Not assoc w R - Interim</td>\n",
       "    </tr>\n",
       "    <tr>\n",
       "      <th>8</th>\n",
       "      <td>Ethambutol</td>\n",
       "      <td>embB_p.Gly156Cys</td>\n",
       "      <td>1.015761</td>\n",
       "      <td>1.000000</td>\n",
       "      <td>0.000000</td>\n",
       "      <td>5) Not assoc w R</td>\n",
       "      <td>4) Not assoc w R - Interim</td>\n",
       "    </tr>\n",
       "    <tr>\n",
       "      <th>9</th>\n",
       "      <td>Ethambutol</td>\n",
       "      <td>embB_p.Ser1054Pro</td>\n",
       "      <td>0.975779</td>\n",
       "      <td>0.974543</td>\n",
       "      <td>0.698541</td>\n",
       "      <td>5) Not assoc w R</td>\n",
       "      <td>4) Not assoc w R - Interim</td>\n",
       "    </tr>\n",
       "    <tr>\n",
       "      <th>10</th>\n",
       "      <td>Ethambutol</td>\n",
       "      <td>embB_p.Val668Ile</td>\n",
       "      <td>0.988786</td>\n",
       "      <td>0.575934</td>\n",
       "      <td>0.168534</td>\n",
       "      <td>5) Not assoc w R</td>\n",
       "      <td>4) Not assoc w R - Interim</td>\n",
       "    </tr>\n",
       "    <tr>\n",
       "      <th>11</th>\n",
       "      <td>Ethambutol</td>\n",
       "      <td>embC_c.-1188C&gt;T</td>\n",
       "      <td>1.030252</td>\n",
       "      <td>0.605246</td>\n",
       "      <td>0.000000</td>\n",
       "      <td>5) Not assoc w R</td>\n",
       "      <td>4) Not assoc w R - Interim</td>\n",
       "    </tr>\n",
       "    <tr>\n",
       "      <th>5</th>\n",
       "      <td>Ethambutol</td>\n",
       "      <td>embA_p.Pro639Ser</td>\n",
       "      <td>1.008916</td>\n",
       "      <td>0.206456</td>\n",
       "      <td>0.000000</td>\n",
       "      <td>5) Not assoc w R</td>\n",
       "      <td>4) Not assoc w R - Interim</td>\n",
       "    </tr>\n",
       "    <tr>\n",
       "      <th>7</th>\n",
       "      <td>Ethambutol</td>\n",
       "      <td>embB_c.660G&gt;A</td>\n",
       "      <td>1.016809</td>\n",
       "      <td>0.466915</td>\n",
       "      <td>0.000000</td>\n",
       "      <td>5) Not assoc w R</td>\n",
       "      <td>4) Not assoc w R - Interim</td>\n",
       "    </tr>\n",
       "    <tr>\n",
       "      <th>12</th>\n",
       "      <td>Ethambutol</td>\n",
       "      <td>embC_c.-1520C&gt;A</td>\n",
       "      <td>1.056170</td>\n",
       "      <td>0.980596</td>\n",
       "      <td>0.000000</td>\n",
       "      <td>5) Not assoc w R</td>\n",
       "      <td>4) Not assoc w R - Interim</td>\n",
       "    </tr>\n",
       "    <tr>\n",
       "      <th>13</th>\n",
       "      <td>Ethambutol</td>\n",
       "      <td>embC_c.-20A&gt;C</td>\n",
       "      <td>1.012323</td>\n",
       "      <td>0.482792</td>\n",
       "      <td>0.000000</td>\n",
       "      <td>5) Not assoc w R</td>\n",
       "      <td>4) Not assoc w R - Interim</td>\n",
       "    </tr>\n",
       "    <tr>\n",
       "      <th>14</th>\n",
       "      <td>Ethambutol</td>\n",
       "      <td>ubiA_p.Val49Ile</td>\n",
       "      <td>1.043340</td>\n",
       "      <td>0.924165</td>\n",
       "      <td>0.000000</td>\n",
       "      <td>5) Not assoc w R</td>\n",
       "      <td>4) Not assoc w R - Interim</td>\n",
       "    </tr>\n",
       "    <tr>\n",
       "      <th>15</th>\n",
       "      <td>Isoniazid</td>\n",
       "      <td>ahpC_c.18T&gt;C</td>\n",
       "      <td>0.993627</td>\n",
       "      <td>0.698589</td>\n",
       "      <td>0.508738</td>\n",
       "      <td>5) Not assoc w R</td>\n",
       "      <td>4) Not assoc w R - Interim</td>\n",
       "    </tr>\n",
       "    <tr>\n",
       "      <th>16</th>\n",
       "      <td>Isoniazid</td>\n",
       "      <td>katG_c.-354C&gt;T</td>\n",
       "      <td>0.994494</td>\n",
       "      <td>0.583555</td>\n",
       "      <td>0.525217</td>\n",
       "      <td>5) Not assoc w R</td>\n",
       "      <td>4) Not assoc w R - Interim</td>\n",
       "    </tr>\n",
       "    <tr>\n",
       "      <th>17</th>\n",
       "      <td>Isoniazid</td>\n",
       "      <td>katG_c.1197A&gt;G</td>\n",
       "      <td>0.982419</td>\n",
       "      <td>1.000000</td>\n",
       "      <td>0.552710</td>\n",
       "      <td>5) Not assoc w R</td>\n",
       "      <td>4) Not assoc w R - Interim</td>\n",
       "    </tr>\n",
       "    <tr>\n",
       "      <th>18</th>\n",
       "      <td>Kanamycin</td>\n",
       "      <td>rrs_n.1338A&gt;C</td>\n",
       "      <td>0.987642</td>\n",
       "      <td>0.000000</td>\n",
       "      <td>0.411114</td>\n",
       "      <td>5) Not assoc w R</td>\n",
       "      <td>4) Not assoc w R - Interim</td>\n",
       "    </tr>\n",
       "    <tr>\n",
       "      <th>19</th>\n",
       "      <td>Kanamycin</td>\n",
       "      <td>rrs_n.514A&gt;C</td>\n",
       "      <td>1.143766</td>\n",
       "      <td>1.000000</td>\n",
       "      <td>1.000000</td>\n",
       "      <td>5) Not assoc w R</td>\n",
       "      <td>4) Not assoc w R - Interim</td>\n",
       "    </tr>\n",
       "    <tr>\n",
       "      <th>20</th>\n",
       "      <td>Kanamycin</td>\n",
       "      <td>whiB7_c.-178C&gt;T</td>\n",
       "      <td>0.973385</td>\n",
       "      <td>0.861483</td>\n",
       "      <td>0.430483</td>\n",
       "      <td>5) Not assoc w R</td>\n",
       "      <td>4) Not assoc w R - Interim</td>\n",
       "    </tr>\n",
       "    <tr>\n",
       "      <th>22</th>\n",
       "      <td>Levofloxacin</td>\n",
       "      <td>gyrA_p.Arg252Leu</td>\n",
       "      <td>0.916570</td>\n",
       "      <td>1.000000</td>\n",
       "      <td>0.888828</td>\n",
       "      <td>5) Not assoc w R</td>\n",
       "      <td>4) Not assoc w R - Interim</td>\n",
       "    </tr>\n",
       "    <tr>\n",
       "      <th>21</th>\n",
       "      <td>Levofloxacin</td>\n",
       "      <td>gyrA_p.Ala90Gly</td>\n",
       "      <td>1.055768</td>\n",
       "      <td>1.000000</td>\n",
       "      <td>0.000000</td>\n",
       "      <td>5) Not assoc w R</td>\n",
       "      <td>4) Not assoc w R - Interim</td>\n",
       "    </tr>\n",
       "    <tr>\n",
       "      <th>23</th>\n",
       "      <td>Moxifloxacin</td>\n",
       "      <td>gyrA_p.Ala90Gly</td>\n",
       "      <td>0.986098</td>\n",
       "      <td>0.094549</td>\n",
       "      <td>0.297873</td>\n",
       "      <td>5) Not assoc w R</td>\n",
       "      <td>4) Not assoc w R - Interim</td>\n",
       "    </tr>\n",
       "    <tr>\n",
       "      <th>24</th>\n",
       "      <td>Moxifloxacin</td>\n",
       "      <td>gyrA_p.Thr80Ala</td>\n",
       "      <td>0.978612</td>\n",
       "      <td>0.696851</td>\n",
       "      <td>0.000000</td>\n",
       "      <td>5) Not assoc w R</td>\n",
       "      <td>4) Not assoc w R - Interim</td>\n",
       "    </tr>\n",
       "    <tr>\n",
       "      <th>25</th>\n",
       "      <td>Pyrazinamide</td>\n",
       "      <td>clpC1_p.Val63Ala</td>\n",
       "      <td>1.212246</td>\n",
       "      <td>1.000000</td>\n",
       "      <td>0.983021</td>\n",
       "      <td>5) Not assoc w R</td>\n",
       "      <td>4) Not assoc w R - Interim</td>\n",
       "    </tr>\n",
       "    <tr>\n",
       "      <th>26</th>\n",
       "      <td>Rifampicin</td>\n",
       "      <td>rpoB_p.Glu250Gly</td>\n",
       "      <td>0.980232</td>\n",
       "      <td>1.000000</td>\n",
       "      <td>0.690174</td>\n",
       "      <td>5) Not assoc w R</td>\n",
       "      <td>4) Not assoc w R - Interim</td>\n",
       "    </tr>\n",
       "    <tr>\n",
       "      <th>27</th>\n",
       "      <td>Streptomycin</td>\n",
       "      <td>rrs_n.492C&gt;T</td>\n",
       "      <td>0.955118</td>\n",
       "      <td>1.000000</td>\n",
       "      <td>0.000000</td>\n",
       "      <td>5) Not assoc w R</td>\n",
       "      <td>4) Not assoc w R - Interim</td>\n",
       "    </tr>\n",
       "  </tbody>\n",
       "</table>\n",
       "</div>"
      ],
      "text/plain": [
       "            Drug           mutation  WHO_Odds_Ratio  WHO_BH_neutral_pval  \\\n",
       "0       Amikacin    whiB7_c.-178C>T        0.950986             0.884856   \n",
       "1    Bedaquiline  mmpL5_p.Ile948Val        0.936788             1.000000   \n",
       "2    Bedaquiline  mmpL5_p.Thr794Ile        1.096449             1.000000   \n",
       "3    Bedaquiline     mmpS5_c.-74G>T        1.409350             1.000000   \n",
       "4     Ethambutol   embA_p.Ala813Gly        1.015761             1.000000   \n",
       "6     Ethambutol   embA_p.Val468Ala        1.039590             0.645634   \n",
       "8     Ethambutol   embB_p.Gly156Cys        1.015761             1.000000   \n",
       "9     Ethambutol  embB_p.Ser1054Pro        0.975779             0.974543   \n",
       "10    Ethambutol   embB_p.Val668Ile        0.988786             0.575934   \n",
       "11    Ethambutol    embC_c.-1188C>T        1.030252             0.605246   \n",
       "5     Ethambutol   embA_p.Pro639Ser        1.008916             0.206456   \n",
       "7     Ethambutol      embB_c.660G>A        1.016809             0.466915   \n",
       "12    Ethambutol    embC_c.-1520C>A        1.056170             0.980596   \n",
       "13    Ethambutol      embC_c.-20A>C        1.012323             0.482792   \n",
       "14    Ethambutol    ubiA_p.Val49Ile        1.043340             0.924165   \n",
       "15     Isoniazid       ahpC_c.18T>C        0.993627             0.698589   \n",
       "16     Isoniazid     katG_c.-354C>T        0.994494             0.583555   \n",
       "17     Isoniazid     katG_c.1197A>G        0.982419             1.000000   \n",
       "18     Kanamycin      rrs_n.1338A>C        0.987642             0.000000   \n",
       "19     Kanamycin       rrs_n.514A>C        1.143766             1.000000   \n",
       "20     Kanamycin    whiB7_c.-178C>T        0.973385             0.861483   \n",
       "22  Levofloxacin   gyrA_p.Arg252Leu        0.916570             1.000000   \n",
       "21  Levofloxacin    gyrA_p.Ala90Gly        1.055768             1.000000   \n",
       "23  Moxifloxacin    gyrA_p.Ala90Gly        0.986098             0.094549   \n",
       "24  Moxifloxacin    gyrA_p.Thr80Ala        0.978612             0.696851   \n",
       "25  Pyrazinamide   clpC1_p.Val63Ala        1.212246             1.000000   \n",
       "26    Rifampicin   rpoB_p.Glu250Gly        0.980232             1.000000   \n",
       "27  Streptomycin       rrs_n.492C>T        0.955118             1.000000   \n",
       "\n",
       "    WHO_BH_LRT_neutral_pval SOLO INITIAL CONFIDENCE GRADING  \\\n",
       "0                  0.585905                5) Not assoc w R   \n",
       "1                  1.000000                5) Not assoc w R   \n",
       "2                  1.000000                5) Not assoc w R   \n",
       "3                  1.000000                5) Not assoc w R   \n",
       "4                  0.000000                5) Not assoc w R   \n",
       "6                  0.460355                5) Not assoc w R   \n",
       "8                  0.000000                5) Not assoc w R   \n",
       "9                  0.698541                5) Not assoc w R   \n",
       "10                 0.168534                5) Not assoc w R   \n",
       "11                 0.000000                5) Not assoc w R   \n",
       "5                  0.000000                5) Not assoc w R   \n",
       "7                  0.000000                5) Not assoc w R   \n",
       "12                 0.000000                5) Not assoc w R   \n",
       "13                 0.000000                5) Not assoc w R   \n",
       "14                 0.000000                5) Not assoc w R   \n",
       "15                 0.508738                5) Not assoc w R   \n",
       "16                 0.525217                5) Not assoc w R   \n",
       "17                 0.552710                5) Not assoc w R   \n",
       "18                 0.411114                5) Not assoc w R   \n",
       "19                 1.000000                5) Not assoc w R   \n",
       "20                 0.430483                5) Not assoc w R   \n",
       "22                 0.888828                5) Not assoc w R   \n",
       "21                 0.000000                5) Not assoc w R   \n",
       "23                 0.297873                5) Not assoc w R   \n",
       "24                 0.000000                5) Not assoc w R   \n",
       "25                 0.983021                5) Not assoc w R   \n",
       "26                 0.690174                5) Not assoc w R   \n",
       "27                 0.000000                5) Not assoc w R   \n",
       "\n",
       "   SOLO FINAL CONFIDENCE GRADING  \n",
       "0     4) Not assoc w R - Interim  \n",
       "1     4) Not assoc w R - Interim  \n",
       "2     4) Not assoc w R - Interim  \n",
       "3     4) Not assoc w R - Interim  \n",
       "4     4) Not assoc w R - Interim  \n",
       "6     4) Not assoc w R - Interim  \n",
       "8     4) Not assoc w R - Interim  \n",
       "9     4) Not assoc w R - Interim  \n",
       "10    4) Not assoc w R - Interim  \n",
       "11    4) Not assoc w R - Interim  \n",
       "5     4) Not assoc w R - Interim  \n",
       "7     4) Not assoc w R - Interim  \n",
       "12    4) Not assoc w R - Interim  \n",
       "13    4) Not assoc w R - Interim  \n",
       "14    4) Not assoc w R - Interim  \n",
       "15    4) Not assoc w R - Interim  \n",
       "16    4) Not assoc w R - Interim  \n",
       "17    4) Not assoc w R - Interim  \n",
       "18    4) Not assoc w R - Interim  \n",
       "19    4) Not assoc w R - Interim  \n",
       "20    4) Not assoc w R - Interim  \n",
       "22    4) Not assoc w R - Interim  \n",
       "21    4) Not assoc w R - Interim  \n",
       "23    4) Not assoc w R - Interim  \n",
       "24    4) Not assoc w R - Interim  \n",
       "25    4) Not assoc w R - Interim  \n",
       "26    4) Not assoc w R - Interim  \n",
       "27    4) Not assoc w R - Interim  "
      ]
     },
     "execution_count": 50,
     "metadata": {},
     "output_type": "execute_result"
    }
   ],
   "source": [
    "neutral_literature_regression_results.sort_values([\"Drug\", \"REGRESSION FINAL CONFIDENCE GRADING\"], ascending=[True, False])[['Drug', 'mutation', 'WHO_Odds_Ratio', 'WHO_BH_neutral_pval', 'WHO_BH_LRT_neutral_pval', 'SOLO INITIAL CONFIDENCE GRADING', 'SOLO FINAL CONFIDENCE GRADING']]"
   ]
  },
  {
   "cell_type": "code",
   "execution_count": 62,
   "id": "ee3e5987-15b9-42c4-a6eb-c41754cf265b",
   "metadata": {},
   "outputs": [
    {
     "data": {
      "text/plain": [
       "Initial confidence grading WHO dataset  Initial confidence grading ALL dataset\n",
       "Uncertain                               Uncertain                                 10\n",
       "Neutral                                 Neutral                                    4\n",
       "                                        Uncertain                                  4\n",
       "                                        Assoc w R - Interim                        3\n",
       "Uncertain                               Neutral                                    3\n",
       "Assoc w R                               Assoc w R - Interim                        1\n",
       "Assoc w R - Interim                     Neutral                                    1\n",
       "                                        Uncertain                                  1\n",
       "Assoc w S - Interim                     Uncertain                                  1\n",
       "Name: count, dtype: int64"
      ]
     },
     "execution_count": 62,
     "metadata": {},
     "output_type": "execute_result"
    }
   ],
   "source": [
    "neutral_literature_regression_results[['Initial confidence grading WHO dataset', 'Initial confidence grading ALL dataset']].value_counts()"
   ]
  },
  {
   "cell_type": "code",
   "execution_count": 63,
   "id": "49679b60-7c43-482d-8189-7bbfe0e25696",
   "metadata": {},
   "outputs": [
    {
     "data": {
      "text/html": [
       "<div>\n",
       "<style scoped>\n",
       "    .dataframe tbody tr th:only-of-type {\n",
       "        vertical-align: middle;\n",
       "    }\n",
       "\n",
       "    .dataframe tbody tr th {\n",
       "        vertical-align: top;\n",
       "    }\n",
       "\n",
       "    .dataframe thead th {\n",
       "        text-align: right;\n",
       "    }\n",
       "</style>\n",
       "<table border=\"1\" class=\"dataframe\">\n",
       "  <thead>\n",
       "    <tr style=\"text-align: right;\">\n",
       "      <th></th>\n",
       "      <th>mutation</th>\n",
       "      <th>predicted_effect</th>\n",
       "      <th>WHO_Odds_Ratio</th>\n",
       "      <th>WHO_pval</th>\n",
       "      <th>WHO_BH_pval</th>\n",
       "      <th>WHO_neutral_pval</th>\n",
       "      <th>WHO_BH_neutral_pval</th>\n",
       "      <th>WHO_LRT_pval</th>\n",
       "      <th>WHO_BH_LRT_pval</th>\n",
       "      <th>WHO_LRT_neutral_pval</th>\n",
       "      <th>...</th>\n",
       "      <th>REGRESSION FINAL CONFIDENCE GRADING</th>\n",
       "      <th>Reason</th>\n",
       "      <th>Drug</th>\n",
       "      <th>SOLO INITIAL CONFIDENCE GRADING</th>\n",
       "      <th>SOLO FINAL CONFIDENCE GRADING</th>\n",
       "      <th>REGRESSION + GRADING RULES</th>\n",
       "      <th>Present_SOLO_S</th>\n",
       "      <th>Present_SOLO_R</th>\n",
       "      <th>Present_S</th>\n",
       "      <th>Present_R</th>\n",
       "    </tr>\n",
       "  </thead>\n",
       "  <tbody>\n",
       "    <tr>\n",
       "      <th>6</th>\n",
       "      <td>embA_p.Val468Ala</td>\n",
       "      <td>missense_variant</td>\n",
       "      <td>1.039590</td>\n",
       "      <td>0.309</td>\n",
       "      <td>0.837759</td>\n",
       "      <td>0.492</td>\n",
       "      <td>0.645634</td>\n",
       "      <td>0.653341</td>\n",
       "      <td>1.000000</td>\n",
       "      <td>0.346659</td>\n",
       "      <td>...</td>\n",
       "      <td>Uncertain</td>\n",
       "      <td>Neutral in ALL</td>\n",
       "      <td>Ethambutol</td>\n",
       "      <td>5) Not assoc w R</td>\n",
       "      <td>4) Not assoc w R - Interim</td>\n",
       "      <td>Assoc w S - Interim</td>\n",
       "      <td>0.0</td>\n",
       "      <td>0.0</td>\n",
       "      <td>58.0</td>\n",
       "      <td>16.0</td>\n",
       "    </tr>\n",
       "    <tr>\n",
       "      <th>16</th>\n",
       "      <td>katG_c.-354C&gt;T</td>\n",
       "      <td>upstream_gene_variant</td>\n",
       "      <td>0.994494</td>\n",
       "      <td>0.366</td>\n",
       "      <td>0.556180</td>\n",
       "      <td>0.276</td>\n",
       "      <td>0.583555</td>\n",
       "      <td>0.853434</td>\n",
       "      <td>0.886362</td>\n",
       "      <td>0.146566</td>\n",
       "      <td>...</td>\n",
       "      <td>Uncertain</td>\n",
       "      <td>Neutral in ALL</td>\n",
       "      <td>Isoniazid</td>\n",
       "      <td>5) Not assoc w R</td>\n",
       "      <td>4) Not assoc w R - Interim</td>\n",
       "      <td>Assoc w S - Interim</td>\n",
       "      <td>1.0</td>\n",
       "      <td>0.0</td>\n",
       "      <td>76.0</td>\n",
       "      <td>4.0</td>\n",
       "    </tr>\n",
       "    <tr>\n",
       "      <th>20</th>\n",
       "      <td>whiB7_c.-178C&gt;T</td>\n",
       "      <td>upstream_gene_variant</td>\n",
       "      <td>0.973385</td>\n",
       "      <td>0.222</td>\n",
       "      <td>0.562626</td>\n",
       "      <td>0.602</td>\n",
       "      <td>0.861483</td>\n",
       "      <td>0.844293</td>\n",
       "      <td>1.000000</td>\n",
       "      <td>0.155707</td>\n",
       "      <td>...</td>\n",
       "      <td>Uncertain</td>\n",
       "      <td>Neutral in ALL</td>\n",
       "      <td>Kanamycin</td>\n",
       "      <td>5) Not assoc w R</td>\n",
       "      <td>4) Not assoc w R - Interim</td>\n",
       "      <td>Assoc w S - Interim</td>\n",
       "      <td>91.0</td>\n",
       "      <td>1.0</td>\n",
       "      <td>115.0</td>\n",
       "      <td>4.0</td>\n",
       "    </tr>\n",
       "  </tbody>\n",
       "</table>\n",
       "<p>3 rows × 66 columns</p>\n",
       "</div>"
      ],
      "text/plain": [
       "            mutation       predicted_effect  WHO_Odds_Ratio  WHO_pval  \\\n",
       "6   embA_p.Val468Ala       missense_variant        1.039590     0.309   \n",
       "16    katG_c.-354C>T  upstream_gene_variant        0.994494     0.366   \n",
       "20   whiB7_c.-178C>T  upstream_gene_variant        0.973385     0.222   \n",
       "\n",
       "    WHO_BH_pval  WHO_neutral_pval  WHO_BH_neutral_pval  WHO_LRT_pval  \\\n",
       "6      0.837759             0.492             0.645634      0.653341   \n",
       "16     0.556180             0.276             0.583555      0.853434   \n",
       "20     0.562626             0.602             0.861483      0.844293   \n",
       "\n",
       "    WHO_BH_LRT_pval  WHO_LRT_neutral_pval  ...  \\\n",
       "6          1.000000              0.346659  ...   \n",
       "16         0.886362              0.146566  ...   \n",
       "20         1.000000              0.155707  ...   \n",
       "\n",
       "    REGRESSION FINAL CONFIDENCE GRADING          Reason        Drug  \\\n",
       "6                             Uncertain  Neutral in ALL  Ethambutol   \n",
       "16                            Uncertain  Neutral in ALL   Isoniazid   \n",
       "20                            Uncertain  Neutral in ALL   Kanamycin   \n",
       "\n",
       "    SOLO INITIAL CONFIDENCE GRADING  SOLO FINAL CONFIDENCE GRADING  \\\n",
       "6                  5) Not assoc w R     4) Not assoc w R - Interim   \n",
       "16                 5) Not assoc w R     4) Not assoc w R - Interim   \n",
       "20                 5) Not assoc w R     4) Not assoc w R - Interim   \n",
       "\n",
       "    REGRESSION + GRADING RULES  Present_SOLO_S  Present_SOLO_R  Present_S  \\\n",
       "6          Assoc w S - Interim             0.0             0.0       58.0   \n",
       "16         Assoc w S - Interim             1.0             0.0       76.0   \n",
       "20         Assoc w S - Interim            91.0             1.0      115.0   \n",
       "\n",
       "    Present_R  \n",
       "6        16.0  \n",
       "16        4.0  \n",
       "20        4.0  \n",
       "\n",
       "[3 rows x 66 columns]"
      ]
     },
     "execution_count": 63,
     "metadata": {},
     "output_type": "execute_result"
    }
   ],
   "source": [
    "neutral_literature_regression_results.loc[(neutral_literature_regression_results['Initial confidence grading WHO dataset']=='Uncertain') & (neutral_literature_regression_results['Initial confidence grading ALL dataset']=='Neutral')]"
   ]
  },
  {
   "cell_type": "code",
   "execution_count": 71,
   "id": "d713673b-a0cd-49c4-ac1c-9ce207cf180c",
   "metadata": {},
   "outputs": [
    {
     "data": {
      "text/plain": [
       "(153, 62)"
      ]
     },
     "execution_count": 71,
     "metadata": {},
     "output_type": "execute_result"
    }
   ],
   "source": [
    "results_final.loc[(results_final['Initial confidence grading WHO dataset']=='Uncertain') & (results_final['Initial confidence grading ALL dataset']=='Neutral')].shape"
   ]
  },
  {
   "cell_type": "code",
   "execution_count": 67,
   "id": "450aa9c3-7f27-4066-b9b9-241d07505023",
   "metadata": {},
   "outputs": [
    {
     "data": {
      "text/plain": [
       "SOLO INITIAL CONFIDENCE GRADING  SOLO FINAL CONFIDENCE GRADING\n",
       "3) Uncertain significance        3) Uncertain significance        102\n",
       "                                 4) Not assoc w R - Interim        23\n",
       "5) Not assoc w R                 5) Not assoc w R                  22\n",
       "3) Uncertain significance        2) Assoc w R - Interim             3\n",
       "5) Not assoc w R                 4) Not assoc w R - Interim         3\n",
       "Name: count, dtype: int64"
      ]
     },
     "execution_count": 67,
     "metadata": {},
     "output_type": "execute_result"
    }
   ],
   "source": [
    "results_final.loc[(results_final['Initial confidence grading WHO dataset']=='Uncertain') & (results_final['Initial confidence grading ALL dataset']=='Neutral')][['SOLO INITIAL CONFIDENCE GRADING', 'SOLO FINAL CONFIDENCE GRADING']].value_counts()"
   ]
  },
  {
   "cell_type": "code",
   "execution_count": 76,
   "id": "4672ac1f-0932-4de4-9735-55ae96068586",
   "metadata": {},
   "outputs": [
    {
     "data": {
      "text/plain": [
       "8925     1.036471\n",
       "18590    1.001678\n",
       "18601    0.998989\n",
       "Name: ALL_Odds_Ratio, dtype: float64"
      ]
     },
     "execution_count": 76,
     "metadata": {},
     "output_type": "execute_result"
    }
   ],
   "source": [
    "search_lst = results_final.loc[(results_final['Initial confidence grading WHO dataset']=='Uncertain') & (results_final['Initial confidence grading ALL dataset']=='Neutral') & (results_final['SOLO FINAL CONFIDENCE GRADING']=='2) Assoc w R - Interim')].mutation.values\n",
    "\n",
    "results_final.loc[(results_final['Initial confidence grading WHO dataset']=='Uncertain') & (results_final['Initial confidence grading ALL dataset']=='Neutral') & (results_final['SOLO FINAL CONFIDENCE GRADING']=='2) Assoc w R - Interim')]"
   ]
  },
  {
   "cell_type": "code",
   "execution_count": 77,
   "id": "2ead6d3b-f7da-453e-a194-012c29ad621c",
   "metadata": {},
   "outputs": [
    {
     "data": {
      "text/html": [
       "<div>\n",
       "<style scoped>\n",
       "    .dataframe tbody tr th:only-of-type {\n",
       "        vertical-align: middle;\n",
       "    }\n",
       "\n",
       "    .dataframe tbody tr th {\n",
       "        vertical-align: top;\n",
       "    }\n",
       "\n",
       "    .dataframe thead th {\n",
       "        text-align: right;\n",
       "    }\n",
       "</style>\n",
       "<table border=\"1\" class=\"dataframe\">\n",
       "  <thead>\n",
       "    <tr style=\"text-align: right;\">\n",
       "      <th></th>\n",
       "      <th>drug</th>\n",
       "      <th>variant</th>\n",
       "      <th>Present_R</th>\n",
       "      <th>Present_S</th>\n",
       "      <th>OR</th>\n",
       "      <th>OR_SOLO</th>\n",
       "    </tr>\n",
       "  </thead>\n",
       "  <tbody>\n",
       "    <tr>\n",
       "      <th>8981</th>\n",
       "      <td>Ethionamide</td>\n",
       "      <td>ethA_p.Arg463fs</td>\n",
       "      <td>83.0</td>\n",
       "      <td>124.0</td>\n",
       "      <td>2.0049</td>\n",
       "      <td>inf</td>\n",
       "    </tr>\n",
       "    <tr>\n",
       "      <th>18783</th>\n",
       "      <td>Rifampicin</td>\n",
       "      <td>rpoB_p.Asn437Asp</td>\n",
       "      <td>15.0</td>\n",
       "      <td>6.0</td>\n",
       "      <td>4.5439</td>\n",
       "      <td>NaN</td>\n",
       "    </tr>\n",
       "    <tr>\n",
       "      <th>19173</th>\n",
       "      <td>Rifampicin</td>\n",
       "      <td>rpoB_p.Lys446Gln</td>\n",
       "      <td>5.0</td>\n",
       "      <td>1.0</td>\n",
       "      <td>9.0839</td>\n",
       "      <td>NaN</td>\n",
       "    </tr>\n",
       "  </tbody>\n",
       "</table>\n",
       "</div>"
      ],
      "text/plain": [
       "              drug           variant  Present_R  Present_S      OR  OR_SOLO\n",
       "8981   Ethionamide   ethA_p.Arg463fs       83.0      124.0  2.0049      inf\n",
       "18783   Rifampicin  rpoB_p.Asn437Asp       15.0        6.0  4.5439      NaN\n",
       "19173   Rifampicin  rpoB_p.Lys446Gln        5.0        1.0  9.0839      NaN"
      ]
     },
     "execution_count": 77,
     "metadata": {},
     "output_type": "execute_result"
    }
   ],
   "source": [
    "who_variants.query(\"variant in @search_lst\")[['drug', 'variant', 'Present_R', 'Present_S', 'OR', 'OR_SOLO']]"
   ]
  },
  {
   "cell_type": "markdown",
   "id": "921b53e5-48ee-4dd1-986a-8e13fdde8973",
   "metadata": {},
   "source": [
    "# Supplementary Results Section B"
   ]
  },
  {
   "cell_type": "code",
   "execution_count": 26,
   "id": "15ad4392-5827-4a46-b7e4-b6491e2029ed",
   "metadata": {},
   "outputs": [
    {
     "name": "stdout",
     "output_type": "stream",
     "text": [
      "(245, 62)\n"
     ]
    }
   ],
   "source": [
    "minor_missed = results_final.loc[(results_final['SOLO INITIAL CONFIDENCE GRADING'].str.contains('Not assoc w R')) & (results_final['REGRESSION FINAL CONFIDENCE GRADING']=='Uncertain')]\n",
    "\n",
    "print(minor_missed.shape)\n",
    "\n",
    "minor_missed = minor_missed.merge(who_variants.rename(columns={'drug': 'Drug', 'variant': 'mutation'})[['Drug', 'mutation', 'Present_SOLO_S', 'Present_SOLO_R', 'Present_S', 'Present_R']])"
   ]
  },
  {
   "cell_type": "code",
   "execution_count": 27,
   "id": "b2cd5d3d-f44d-4711-afb5-a2357c52599a",
   "metadata": {},
   "outputs": [
    {
     "data": {
      "text/plain": [
       "SOLO INITIAL CONFIDENCE GRADING\n",
       "5) Not assoc w R              229\n",
       "4) Not assoc w R - Interim     16\n",
       "Name: count, dtype: int64"
      ]
     },
     "execution_count": 27,
     "metadata": {},
     "output_type": "execute_result"
    }
   ],
   "source": [
    "minor_missed['SOLO INITIAL CONFIDENCE GRADING'].value_counts()"
   ]
  },
  {
   "cell_type": "code",
   "execution_count": 8,
   "id": "7610771a-a6f4-4381-b782-c10032e51411",
   "metadata": {},
   "outputs": [
    {
     "data": {
      "text/plain": [
       "(54, 62)"
      ]
     },
     "execution_count": 8,
     "metadata": {},
     "output_type": "execute_result"
    }
   ],
   "source": [
    "minor_missed.query(\"Reason=='Not Graded'\").shape"
   ]
  },
  {
   "cell_type": "code",
   "execution_count": 10,
   "id": "aaec09cf-3e7b-4e65-a99c-b151187fad9c",
   "metadata": {},
   "outputs": [
    {
     "data": {
      "text/plain": [
       "Reason\n",
       "Silent variant downgrade    56\n",
       "WHO ALL Same Grading        51\n",
       "Insufficient evidence       32\n",
       "WHO Uncertain               22\n",
       "ALL Evidence Only           16\n",
       "Both Interim                14\n",
       "Name: count, dtype: int64"
      ]
     },
     "execution_count": 10,
     "metadata": {},
     "output_type": "execute_result"
    }
   ],
   "source": [
    "minor_missed.query(\"Reason!='Not Graded'\")['Reason'].value_counts()"
   ]
  },
  {
   "cell_type": "code",
   "execution_count": 22,
   "id": "15682cf4-2f95-4f4b-b89f-3bd89cced765",
   "metadata": {},
   "outputs": [
    {
     "data": {
      "text/plain": [
       "Initial confidence grading WHO dataset\n",
       "Uncertain              133\n",
       "Assoc w S - Interim     27\n",
       "Neutral                 12\n",
       "Assoc w R - Interim      3\n",
       "Name: count, dtype: int64"
      ]
     },
     "execution_count": 22,
     "metadata": {},
     "output_type": "execute_result"
    }
   ],
   "source": [
    "minor_missed.query(\"Reason!='Not Graded'\")['Initial confidence grading WHO dataset'].value_counts()"
   ]
  },
  {
   "cell_type": "code",
   "execution_count": 31,
   "id": "20b9333e-fb7d-4002-a3e0-47a8140cf2c2",
   "metadata": {},
   "outputs": [
    {
     "data": {
      "text/html": [
       "<div>\n",
       "<style scoped>\n",
       "    .dataframe tbody tr th:only-of-type {\n",
       "        vertical-align: middle;\n",
       "    }\n",
       "\n",
       "    .dataframe tbody tr th {\n",
       "        vertical-align: top;\n",
       "    }\n",
       "\n",
       "    .dataframe thead th {\n",
       "        text-align: right;\n",
       "    }\n",
       "</style>\n",
       "<table border=\"1\" class=\"dataframe\">\n",
       "  <thead>\n",
       "    <tr style=\"text-align: right;\">\n",
       "      <th></th>\n",
       "      <th>Drug</th>\n",
       "      <th>mutation</th>\n",
       "      <th>Present_SOLO_S</th>\n",
       "      <th>Present_SOLO_R</th>\n",
       "      <th>Present_S</th>\n",
       "      <th>Present_R</th>\n",
       "    </tr>\n",
       "  </thead>\n",
       "  <tbody>\n",
       "    <tr>\n",
       "      <th>0</th>\n",
       "      <td>Amikacin</td>\n",
       "      <td>rrs_n.514A&gt;C</td>\n",
       "      <td>328.0</td>\n",
       "      <td>8.0</td>\n",
       "      <td>577.0</td>\n",
       "      <td>329.0</td>\n",
       "    </tr>\n",
       "    <tr>\n",
       "      <th>1</th>\n",
       "      <td>Amikacin</td>\n",
       "      <td>eis_c.-10G&gt;A</td>\n",
       "      <td>310.0</td>\n",
       "      <td>18.0</td>\n",
       "      <td>369.0</td>\n",
       "      <td>22.0</td>\n",
       "    </tr>\n",
       "    <tr>\n",
       "      <th>2</th>\n",
       "      <td>Amikacin</td>\n",
       "      <td>eis_c.-12C&gt;T</td>\n",
       "      <td>657.0</td>\n",
       "      <td>22.0</td>\n",
       "      <td>917.0</td>\n",
       "      <td>64.0</td>\n",
       "    </tr>\n",
       "    <tr>\n",
       "      <th>3</th>\n",
       "      <td>Amikacin</td>\n",
       "      <td>whiB7_p.Gly64fs</td>\n",
       "      <td>84.0</td>\n",
       "      <td>1.0</td>\n",
       "      <td>98.0</td>\n",
       "      <td>2.0</td>\n",
       "    </tr>\n",
       "    <tr>\n",
       "      <th>4</th>\n",
       "      <td>Amikacin</td>\n",
       "      <td>eis_p.Val163Ile</td>\n",
       "      <td>635.0</td>\n",
       "      <td>13.0</td>\n",
       "      <td>711.0</td>\n",
       "      <td>53.0</td>\n",
       "    </tr>\n",
       "    <tr>\n",
       "      <th>...</th>\n",
       "      <td>...</td>\n",
       "      <td>...</td>\n",
       "      <td>...</td>\n",
       "      <td>...</td>\n",
       "      <td>...</td>\n",
       "      <td>...</td>\n",
       "    </tr>\n",
       "    <tr>\n",
       "      <th>239</th>\n",
       "      <td>Streptomycin</td>\n",
       "      <td>gid_p.Tyr195His</td>\n",
       "      <td>0.0</td>\n",
       "      <td>0.0</td>\n",
       "      <td>220.0</td>\n",
       "      <td>149.0</td>\n",
       "    </tr>\n",
       "    <tr>\n",
       "      <th>240</th>\n",
       "      <td>Streptomycin</td>\n",
       "      <td>Rv1258c_p.Gly363Val</td>\n",
       "      <td>0.0</td>\n",
       "      <td>0.0</td>\n",
       "      <td>56.0</td>\n",
       "      <td>1.0</td>\n",
       "    </tr>\n",
       "    <tr>\n",
       "      <th>241</th>\n",
       "      <td>Streptomycin</td>\n",
       "      <td>gid_c.615A&gt;G</td>\n",
       "      <td>NaN</td>\n",
       "      <td>NaN</td>\n",
       "      <td>6745.0</td>\n",
       "      <td>6224.0</td>\n",
       "    </tr>\n",
       "    <tr>\n",
       "      <th>242</th>\n",
       "      <td>Streptomycin</td>\n",
       "      <td>gid_c.330G&gt;T</td>\n",
       "      <td>NaN</td>\n",
       "      <td>NaN</td>\n",
       "      <td>1744.0</td>\n",
       "      <td>366.0</td>\n",
       "    </tr>\n",
       "    <tr>\n",
       "      <th>243</th>\n",
       "      <td>Streptomycin</td>\n",
       "      <td>gid_p.Leu16Arg</td>\n",
       "      <td>11.0</td>\n",
       "      <td>1.0</td>\n",
       "      <td>2430.0</td>\n",
       "      <td>1092.0</td>\n",
       "    </tr>\n",
       "  </tbody>\n",
       "</table>\n",
       "<p>191 rows × 6 columns</p>\n",
       "</div>"
      ],
      "text/plain": [
       "             Drug             mutation  Present_SOLO_S  Present_SOLO_R  \\\n",
       "0        Amikacin         rrs_n.514A>C           328.0             8.0   \n",
       "1        Amikacin         eis_c.-10G>A           310.0            18.0   \n",
       "2        Amikacin         eis_c.-12C>T           657.0            22.0   \n",
       "3        Amikacin      whiB7_p.Gly64fs            84.0             1.0   \n",
       "4        Amikacin      eis_p.Val163Ile           635.0            13.0   \n",
       "..            ...                  ...             ...             ...   \n",
       "239  Streptomycin      gid_p.Tyr195His             0.0             0.0   \n",
       "240  Streptomycin  Rv1258c_p.Gly363Val             0.0             0.0   \n",
       "241  Streptomycin         gid_c.615A>G             NaN             NaN   \n",
       "242  Streptomycin         gid_c.330G>T             NaN             NaN   \n",
       "243  Streptomycin       gid_p.Leu16Arg            11.0             1.0   \n",
       "\n",
       "     Present_S  Present_R  \n",
       "0        577.0      329.0  \n",
       "1        369.0       22.0  \n",
       "2        917.0       64.0  \n",
       "3         98.0        2.0  \n",
       "4        711.0       53.0  \n",
       "..         ...        ...  \n",
       "239      220.0      149.0  \n",
       "240       56.0        1.0  \n",
       "241     6745.0     6224.0  \n",
       "242     1744.0      366.0  \n",
       "243     2430.0     1092.0  \n",
       "\n",
       "[191 rows x 6 columns]"
      ]
     },
     "execution_count": 31,
     "metadata": {},
     "output_type": "execute_result"
    }
   ],
   "source": [
    "minor_missed.query(\"Reason != 'Not Graded'\")[['Drug', 'mutation', 'Present_SOLO_S', 'Present_SOLO_R', 'Present_S', 'Present_R']]"
   ]
  },
  {
   "cell_type": "code",
   "execution_count": 33,
   "id": "ebc7860a-a4ca-4b6f-b16f-f9c46f0287ce",
   "metadata": {},
   "outputs": [
    {
     "data": {
      "text/plain": [
       "(191, 77, 77)"
      ]
     },
     "execution_count": 33,
     "metadata": {},
     "output_type": "execute_result"
    }
   ],
   "source": [
    "len(minor_missed.query(\"Reason != 'Not Graded'\")), len(minor_missed.query(\"Reason != 'Not Graded' & Present_SOLO_S > Present_SOLO_R\")), len(minor_missed.query(\"Present_SOLO_S > Present_SOLO_R\"))"
   ]
  },
  {
   "cell_type": "code",
   "execution_count": 19,
   "id": "777261fc-2d63-47da-b08b-cb788ea82e9b",
   "metadata": {},
   "outputs": [
    {
     "data": {
      "text/plain": [
       "Initial confidence grading WHO dataset  Initial confidence grading ALL dataset\n",
       "Uncertain                               Uncertain                                 91\n",
       "Assoc w S - Interim                     Assoc w S - Interim                       19\n",
       "Uncertain                               Assoc w S - Interim                       10\n",
       "Assoc w S - Interim                     Uncertain                                  8\n",
       "Neutral                                 Assoc w S - Interim                        8\n",
       "Uncertain                               Assoc w R - Interim                        7\n",
       "Neutral                                 Assoc w R - Interim                        4\n",
       "Assoc w R - Interim                     Assoc w R - Interim                        1\n",
       "                                        Uncertain                                  1\n",
       "Name: count, dtype: int64"
      ]
     },
     "execution_count": 19,
     "metadata": {},
     "output_type": "execute_result"
    }
   ],
   "source": [
    "minor_missed.query(\"Reason!='Not Graded'\").loc[minor_missed['Initial confidence grading ALL dataset']!= 'Neutral'][['Initial confidence grading WHO dataset', 'Initial confidence grading ALL dataset']].value_counts()"
   ]
  },
  {
   "cell_type": "code",
   "execution_count": 21,
   "id": "473fbbd8-c626-45b5-a5e5-b69ce2bc19cf",
   "metadata": {},
   "outputs": [
    {
     "data": {
      "text/plain": [
       "(45, 62)"
      ]
     },
     "execution_count": 21,
     "metadata": {},
     "output_type": "execute_result"
    }
   ],
   "source": [
    "minor_missed.loc[(minor_missed['Initial confidence grading ALL dataset'].str.contains('Assoc w S')) | (minor_missed['Initial confidence grading WHO dataset'].str.contains('Assoc w S'))].shape"
   ]
  },
  {
   "cell_type": "code",
   "execution_count": null,
   "id": "4b49bf01-f098-4990-9333-af1b34730bc6",
   "metadata": {},
   "outputs": [],
   "source": [
    "minor_missed.query(\"\")"
   ]
  }
 ],
 "metadata": {
  "kernelspec": {
   "display_name": "Python 3 (ipykernel)",
   "language": "python",
   "name": "python3"
  },
  "language_info": {
   "codemirror_mode": {
    "name": "ipython",
    "version": 3
   },
   "file_extension": ".py",
   "mimetype": "text/x-python",
   "name": "python",
   "nbconvert_exporter": "python",
   "pygments_lexer": "ipython3",
   "version": "3.9.18"
  }
 },
 "nbformat": 4,
 "nbformat_minor": 5
}
