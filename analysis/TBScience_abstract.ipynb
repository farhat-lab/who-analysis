{
 "cells": [
  {
   "cell_type": "code",
   "execution_count": 1,
   "id": "b9e69cf2-dc33-43ec-92d3-590d57cdb33a",
   "metadata": {},
   "outputs": [
    {
     "name": "stdout",
     "output_type": "stream",
     "text": [
      "(49113, 6)\n",
      "16\n"
     ]
    }
   ],
   "source": [
    "import numpy as np\n",
    "import pandas as pd\n",
    "import matplotlib.pyplot as plt\n",
    "import matplotlib.patches as mpatches\n",
    "plt.rcParams['figure.dpi'] = 150\n",
    "import seaborn as sns\n",
    "import scipy.stats as st\n",
    "import statsmodels.api as sm\n",
    "from functools import reduce\n",
    "\n",
    "import glob, os, yaml, subprocess, itertools, sparse, sys\n",
    "from sklearn.model_selection import train_test_split, KFold, StratifiedKFold, GridSearchCV, cross_val_score, cross_validate\n",
    "from sklearn.preprocessing import StandardScaler\n",
    "from sklearn.linear_model import LogisticRegression, LogisticRegressionCV\n",
    "\n",
    "# eigenvec_df = pd.read_csv(\"../data/eigenvec_original_10PC.csv\", index_col=[0])\n",
    "# eigenvec_df = pd.read_csv(\"../data/eigenvec_1000PC.csv\", index_col=[0])\n",
    "eigenvec_df = pd.read_csv(\"data/eigenvec_100PC.csv\", index_col=[0])\n",
    "who_variants = pd.read_csv(\"analysis/who_confidence_2021.csv\")\n",
    "drug_gene_mapping = pd.read_csv(\"data/drug_gene_mapping.csv\")\n",
    "analysis_dir = '/n/data1/hms/dbmi/farhat/Sanjana/who-mutation-catalogue'\n",
    "\n",
    "lineages = pd.read_csv(\"data/combined_lineages_samples.csv\", low_memory=False).query(\"sample_id in @eigenvec_df.index\")\n",
    "print(lineages.shape)\n",
    "import collections, warnings\n",
    "warnings.filterwarnings(\"ignore\")\n",
    "\n",
    "sys.path.append(\"utils\")\n",
    "from stats_utils import *\n",
    "\n",
    "coll2014 = pd.read_csv(\"data/coll2014_SNP_scheme.tsv\", sep=\"\\t\")\n",
    "coll2014[\"#lineage\"] = coll2014[\"#lineage\"].str.replace(\"lineage\", \"\")\n",
    "coll2014.rename(columns={\"#lineage\": \"Lineage\"}, inplace=True)\n",
    "\n",
    "drug_abbr_dict = {\"Delamanid\": \"DLM\",\n",
    "                  \"Bedaquiline\": \"BDQ\",\n",
    "                  \"Clofazimine\": \"CFZ\",\n",
    "                  \"Ethionamide\": \"ETH\",\n",
    "                  \"Linezolid\": \"LZD\",\n",
    "                  \"Moxifloxacin\": \"MXF\",\n",
    "                  \"Capreomycin\": \"CAP\",\n",
    "                  \"Amikacin\": \"AMI\",\n",
    "                  \"Pretomanid\": \"PTM\",\n",
    "                  \"Pyrazinamide\": \"PZA\",\n",
    "                  \"Kanamycin\": \"KAN\",\n",
    "                  \"Levofloxacin\": \"LEV\",\n",
    "                  \"Streptomycin\": \"STM\",\n",
    "                  \"Ethambubtol\": \"EMB\",\n",
    "                  \"Isoniazid\": \"INH\",\n",
    "                  \"Rifampicin\": \"RIF\"\n",
    "                 }\n",
    "\n",
    "solo_results = pd.read_excel(\"data/SOLO primary_STATA_ver18Feb2023.xlsx\", sheet_name=None)\n",
    "\n",
    "if len(solo_results) == 1:\n",
    "    solo_results = solo_results[list(solo_results.keys())[0]]\n",
    "    \n",
    "print(len(solo_results.drug.unique()))\n",
    "\n",
    "# hard coded paths to preserve the model hierarchy\n",
    "binary_analyses_lst = [\n",
    "                        \"tiers=1/phenos=WHO\",\n",
    "                        \"tiers=1+2/phenos=WHO\",\n",
    "                        \"tiers=1/phenos=ALL\",\n",
    "                        \"tiers=1+2/phenos=ALL\"\n",
    "                      ]\n",
    "\n",
    "model_names = [\"Tier 1,\\nWHO Phenos\", \"Tiers 1+2,\\nWHO Phenos\", \"Tier 1,\\nALL Phenos\", \"Tiers 1+2,\\nALL Phenos\"]\n",
    "path_name_dict = dict(zip(binary_analyses_lst, model_names))"
   ]
  },
  {
   "cell_type": "code",
   "execution_count": 149,
   "id": "921ffde4-7477-407c-bb67-75d7e45e20d7",
   "metadata": {
    "scrolled": true
   },
   "outputs": [
    {
     "data": {
      "text/plain": [
       "dict_keys(['T1,WHO,noSyn_unpooled', 'T1,WHO,noSyn_poolSeparate', 'T1,WHO,withSyn_unpooled', 'T1+2,WHO,noSyn_unpooled', 'T1+2,WHO,noSyn_poolSeparate', 'T1+2,WHO,withSyn_unpooled', 'T1,ALL,noSyn_unpooled', 'T1,ALL,noSyn_poolSeparate', 'T1,ALL,withSyn_unpooled', 'T1+2,ALL,noSyn_unpooled', 'T1+2,ALL,noSyn_poolSeparate', 'T1+2,ALL,withSyn_unpooled'])"
      ]
     },
     "execution_count": 149,
     "metadata": {},
     "output_type": "execute_result"
    }
   ],
   "source": [
    "drug = \"Clofazimine\"\n",
    "results = pd.read_excel(f\"results/NEW/{drug}.xlsx\", sheet_name=None)\n",
    "results.keys()"
   ]
  },
  {
   "cell_type": "code",
   "execution_count": 150,
   "id": "98136cd0-8fde-4fb4-8134-6e6cf878ac2a",
   "metadata": {},
   "outputs": [],
   "source": [
    "# for key, df in results.items():\n",
    "\n",
    "#     if len(df.query(\"regression_confidence.str.contains('strict')\")) > 0:\n",
    "#         print(key)"
   ]
  },
  {
   "cell_type": "code",
   "execution_count": 153,
   "id": "c6d6af2a-4134-4ad8-b32b-b80bb6881f9d",
   "metadata": {},
   "outputs": [
    {
     "data": {
      "text/html": [
       "<div>\n",
       "<style scoped>\n",
       "    .dataframe tbody tr th:only-of-type {\n",
       "        vertical-align: middle;\n",
       "    }\n",
       "\n",
       "    .dataframe tbody tr th {\n",
       "        vertical-align: top;\n",
       "    }\n",
       "\n",
       "    .dataframe thead th {\n",
       "        text-align: right;\n",
       "    }\n",
       "</style>\n",
       "<table border=\"1\" class=\"dataframe\">\n",
       "  <thead>\n",
       "    <tr style=\"text-align: right;\">\n",
       "      <th></th>\n",
       "      <th>mutation</th>\n",
       "      <th>regression_confidence</th>\n",
       "      <th>Sens</th>\n",
       "      <th>Mut_R</th>\n",
       "      <th>Mut_S</th>\n",
       "      <th>NoMut_S</th>\n",
       "      <th>NoMut_R</th>\n",
       "      <th>PPV_LB</th>\n",
       "    </tr>\n",
       "  </thead>\n",
       "  <tbody>\n",
       "    <tr>\n",
       "      <th>0</th>\n",
       "      <td>Rv0678_p.Glu49fs</td>\n",
       "      <td>Assoc w R - strict</td>\n",
       "      <td>0.045886</td>\n",
       "      <td>29</td>\n",
       "      <td>33</td>\n",
       "      <td>14019</td>\n",
       "      <td>603</td>\n",
       "      <td>0.339827</td>\n",
       "    </tr>\n",
       "    <tr>\n",
       "      <th>1</th>\n",
       "      <td>Rv1979c_p.Arg409Gln</td>\n",
       "      <td>Assoc w R - strict</td>\n",
       "      <td>0.128165</td>\n",
       "      <td>81</td>\n",
       "      <td>137</td>\n",
       "      <td>13915</td>\n",
       "      <td>551</td>\n",
       "      <td>0.307265</td>\n",
       "    </tr>\n",
       "    <tr>\n",
       "      <th>2</th>\n",
       "      <td>Rv0678_p.Asp47fs</td>\n",
       "      <td>Assoc w R - strict</td>\n",
       "      <td>0.026899</td>\n",
       "      <td>17</td>\n",
       "      <td>22</td>\n",
       "      <td>14030</td>\n",
       "      <td>615</td>\n",
       "      <td>0.278108</td>\n",
       "    </tr>\n",
       "    <tr>\n",
       "      <th>10</th>\n",
       "      <td>Rv0678_p.Gly121Arg</td>\n",
       "      <td>Assoc w R - strict</td>\n",
       "      <td>0.006329</td>\n",
       "      <td>4</td>\n",
       "      <td>1</td>\n",
       "      <td>14051</td>\n",
       "      <td>628</td>\n",
       "      <td>0.283582</td>\n",
       "    </tr>\n",
       "  </tbody>\n",
       "</table>\n",
       "</div>"
      ],
      "text/plain": [
       "               mutation regression_confidence      Sens  Mut_R  Mut_S   \n",
       "0      Rv0678_p.Glu49fs    Assoc w R - strict  0.045886     29     33  \\\n",
       "1   Rv1979c_p.Arg409Gln    Assoc w R - strict  0.128165     81    137   \n",
       "2      Rv0678_p.Asp47fs    Assoc w R - strict  0.026899     17     22   \n",
       "10   Rv0678_p.Gly121Arg    Assoc w R - strict  0.006329      4      1   \n",
       "\n",
       "    NoMut_S  NoMut_R    PPV_LB  \n",
       "0     14019      603  0.339827  \n",
       "1     13915      551  0.307265  \n",
       "2     14030      615  0.278108  \n",
       "10    14051      628  0.283582  "
      ]
     },
     "execution_count": 153,
     "metadata": {},
     "output_type": "execute_result"
    }
   ],
   "source": [
    "results[\"T1,ALL,noSyn_unpooled\"].query(\"regression_confidence.str.contains('Assoc w R - strict')\")[[\"mutation\", \"regression_confidence\", \"Sens\", 'Mut_R', 'Mut_S', 'NoMut_S', 'NoMut_R', 'PPV_LB']]"
   ]
  },
  {
   "cell_type": "code",
   "execution_count": 154,
   "id": "104ca4f6-02f2-4cc7-8470-3b3a2ff2fda9",
   "metadata": {},
   "outputs": [
    {
     "data": {
      "text/html": [
       "<div>\n",
       "<style scoped>\n",
       "    .dataframe tbody tr th:only-of-type {\n",
       "        vertical-align: middle;\n",
       "    }\n",
       "\n",
       "    .dataframe tbody tr th {\n",
       "        vertical-align: top;\n",
       "    }\n",
       "\n",
       "    .dataframe thead th {\n",
       "        text-align: right;\n",
       "    }\n",
       "</style>\n",
       "<table border=\"1\" class=\"dataframe\">\n",
       "  <thead>\n",
       "    <tr style=\"text-align: right;\">\n",
       "      <th></th>\n",
       "      <th>mutation</th>\n",
       "      <th>regression_confidence</th>\n",
       "      <th>Sens</th>\n",
       "      <th>Mut_R</th>\n",
       "      <th>Mut_S</th>\n",
       "      <th>NoMut_S</th>\n",
       "      <th>NoMut_R</th>\n",
       "    </tr>\n",
       "  </thead>\n",
       "  <tbody>\n",
       "  </tbody>\n",
       "</table>\n",
       "</div>"
      ],
      "text/plain": [
       "Empty DataFrame\n",
       "Columns: [mutation, regression_confidence, Sens, Mut_R, Mut_S, NoMut_S, NoMut_R]\n",
       "Index: []"
      ]
     },
     "execution_count": 154,
     "metadata": {},
     "output_type": "execute_result"
    }
   ],
   "source": [
    "results[\"T1+2,ALL,noSyn_unpooled\"].query(\"regression_confidence.str.contains('Assoc w R - strict')\")[[\"mutation\", \"regression_confidence\", \"Sens\", 'Mut_R', 'Mut_S', 'NoMut_S', 'NoMut_R']]"
   ]
  },
  {
   "cell_type": "code",
   "execution_count": 155,
   "id": "3e4e2841-b829-4b3d-a75b-bd6f90205882",
   "metadata": {},
   "outputs": [
    {
     "data": {
      "text/plain": [
       "0     0.045886\n",
       "1     0.128165\n",
       "2     0.026899\n",
       "10    0.006329\n",
       "dtype: float64"
      ]
     },
     "execution_count": 155,
     "metadata": {},
     "output_type": "execute_result"
    }
   ],
   "source": [
    "results[\"T1,ALL,noSyn_unpooled\"].query(\"regression_confidence.str.contains('Assoc w R - strict')\")[\"Mut_R\"] / (results[\"T1,ALL,noSyn_unpooled\"].query(\"regression_confidence.str.contains('Assoc w R - strict')\")[\"Mut_R\"] + results[\"T1,ALL,noSyn_unpooled\"].query(\"regression_confidence.str.contains('Assoc w R - strict')\")[\"NoMut_R\"])"
   ]
  },
  {
   "cell_type": "code",
   "execution_count": 156,
   "id": "87a26afc-5776-40a7-8748-d75182522399",
   "metadata": {},
   "outputs": [
    {
     "data": {
      "text/plain": [
       "0.006329113924050633"
      ]
     },
     "execution_count": 156,
     "metadata": {},
     "output_type": "execute_result"
    }
   ],
   "source": [
    "4 / (4 + 628)"
   ]
  },
  {
   "cell_type": "code",
   "execution_count": 124,
   "id": "9c0b212d-66dc-4af0-a3e1-dbc83386c324",
   "metadata": {},
   "outputs": [
    {
     "data": {
      "text/html": [
       "<div>\n",
       "<style scoped>\n",
       "    .dataframe tbody tr th:only-of-type {\n",
       "        vertical-align: middle;\n",
       "    }\n",
       "\n",
       "    .dataframe tbody tr th {\n",
       "        vertical-align: top;\n",
       "    }\n",
       "\n",
       "    .dataframe thead th {\n",
       "        text-align: right;\n",
       "    }\n",
       "</style>\n",
       "<table border=\"1\" class=\"dataframe\">\n",
       "  <thead>\n",
       "    <tr style=\"text-align: right;\">\n",
       "      <th></th>\n",
       "      <th>mutation</th>\n",
       "      <th>regression_confidence</th>\n",
       "      <th>Odds_Ratio</th>\n",
       "      <th>Sens</th>\n",
       "      <th>NPV_LB</th>\n",
       "      <th>Num_Isolates</th>\n",
       "      <th>Mut_R</th>\n",
       "      <th>Mut_S</th>\n",
       "      <th>NoMut_S</th>\n",
       "      <th>NoMut_R</th>\n",
       "    </tr>\n",
       "  </thead>\n",
       "  <tbody>\n",
       "    <tr>\n",
       "      <th>814</th>\n",
       "      <td>Rv1979c_c.-50A&gt;C</td>\n",
       "      <td>Assoc w S - strict</td>\n",
       "      <td>0.902758</td>\n",
       "      <td>0.0</td>\n",
       "      <td>0.95332</td>\n",
       "      <td>73</td>\n",
       "      <td>0</td>\n",
       "      <td>73</td>\n",
       "      <td>13979</td>\n",
       "      <td>632</td>\n",
       "    </tr>\n",
       "  </tbody>\n",
       "</table>\n",
       "</div>"
      ],
      "text/plain": [
       "             mutation regression_confidence  Odds_Ratio  Sens   NPV_LB   \n",
       "814  Rv1979c_c.-50A>C    Assoc w S - strict    0.902758   0.0  0.95332  \\\n",
       "\n",
       "     Num_Isolates  Mut_R  Mut_S  NoMut_S  NoMut_R  \n",
       "814            73      0     73    13979      632  "
      ]
     },
     "execution_count": 124,
     "metadata": {},
     "output_type": "execute_result"
    }
   ],
   "source": [
    "results[\"T1,ALL,noSyn_unpooled\"].query(\"mutation=='Rv1979c_c.-50A>C'\")[[\"mutation\", \"regression_confidence\", \"Odds_Ratio\", \"Sens\", \"NPV_LB\", 'Num_Isolates', 'Mut_R', 'Mut_S', 'NoMut_S', 'NoMut_R']]"
   ]
  },
  {
   "cell_type": "code",
   "execution_count": 126,
   "id": "8057cc63-89eb-4a5a-9803-12833d258ac4",
   "metadata": {},
   "outputs": [
    {
     "data": {
      "text/html": [
       "<div>\n",
       "<style scoped>\n",
       "    .dataframe tbody tr th:only-of-type {\n",
       "        vertical-align: middle;\n",
       "    }\n",
       "\n",
       "    .dataframe tbody tr th {\n",
       "        vertical-align: top;\n",
       "    }\n",
       "\n",
       "    .dataframe thead th {\n",
       "        text-align: right;\n",
       "    }\n",
       "</style>\n",
       "<table border=\"1\" class=\"dataframe\">\n",
       "  <thead>\n",
       "    <tr style=\"text-align: right;\">\n",
       "      <th></th>\n",
       "      <th>mutation</th>\n",
       "      <th>regression_confidence</th>\n",
       "      <th>Odds_Ratio</th>\n",
       "      <th>Sens</th>\n",
       "      <th>NPV_LB</th>\n",
       "      <th>Num_Isolates</th>\n",
       "      <th>Mut_R</th>\n",
       "      <th>Mut_S</th>\n",
       "      <th>NoMut_S</th>\n",
       "      <th>NoMut_R</th>\n",
       "    </tr>\n",
       "  </thead>\n",
       "  <tbody>\n",
       "    <tr>\n",
       "      <th>815</th>\n",
       "      <td>mmpL5_p.Asp767Asn</td>\n",
       "      <td>Assoc w S - strict</td>\n",
       "      <td>0.90101</td>\n",
       "      <td>0.213608</td>\n",
       "      <td>0.947118</td>\n",
       "      <td>4445</td>\n",
       "      <td>135</td>\n",
       "      <td>4310</td>\n",
       "      <td>9742</td>\n",
       "      <td>497</td>\n",
       "    </tr>\n",
       "  </tbody>\n",
       "</table>\n",
       "</div>"
      ],
      "text/plain": [
       "              mutation regression_confidence  Odds_Ratio      Sens    NPV_LB   \n",
       "815  mmpL5_p.Asp767Asn    Assoc w S - strict     0.90101  0.213608  0.947118  \\\n",
       "\n",
       "     Num_Isolates  Mut_R  Mut_S  NoMut_S  NoMut_R  \n",
       "815          4445    135   4310     9742      497  "
      ]
     },
     "execution_count": 126,
     "metadata": {},
     "output_type": "execute_result"
    }
   ],
   "source": [
    "results[\"T1,ALL,noSyn_unpooled\"].query(\"mutation=='mmpL5_p.Asp767Asn'\")[[\"mutation\", \"regression_confidence\", \"Odds_Ratio\", \"Sens\", \"NPV_LB\", 'Num_Isolates', 'Mut_R', 'Mut_S', 'NoMut_S', 'NoMut_R']]"
   ]
  },
  {
   "cell_type": "code",
   "execution_count": 128,
   "id": "493a44aa-f5d6-46f8-a95b-cb4edfa9fe59",
   "metadata": {},
   "outputs": [
    {
     "data": {
      "text/plain": [
       "0.3067179049245659"
      ]
     },
     "execution_count": 128,
     "metadata": {},
     "output_type": "execute_result"
    }
   ],
   "source": [
    "4310 / (4310 + 9742)"
   ]
  },
  {
   "cell_type": "code",
   "execution_count": 127,
   "id": "01a7bf0f-a547-4ca6-bad1-94399e557b32",
   "metadata": {},
   "outputs": [
    {
     "data": {
      "text/plain": [
       "0.005194990037005408"
      ]
     },
     "execution_count": 127,
     "metadata": {},
     "output_type": "execute_result"
    }
   ],
   "source": [
    "73/ (73 + 13979)"
   ]
  },
  {
   "cell_type": "code",
   "execution_count": null,
   "id": "a9cc70ae-c053-456c-aa50-c0b956bcda99",
   "metadata": {},
   "outputs": [],
   "source": [
    "TP / (TP + FN)"
   ]
  },
  {
   "cell_type": "code",
   "execution_count": 123,
   "id": "14442e09-85b8-49c7-836b-cf3486f29a66",
   "metadata": {},
   "outputs": [
    {
     "data": {
      "text/plain": [
       "Index(['mutation', 'Tier', 'predicted_effect', 'position', 'confidence_V1',\n",
       "       'Odds_Ratio', 'pval', 'BH_pval', 'neutral_pval', 'BH_neutral_pval',\n",
       "       'LRT_pval', 'BH_LRT_pval', 'LRT_neutral_pval', 'BH_LRT_neutral_pval',\n",
       "       'Num_Isolates', 'Mut_R', 'Mut_S', 'NoMut_S', 'NoMut_R', 'PPV', 'NPV',\n",
       "       'Sens', 'Spec', 'LR+', 'LR-', 'PPV_LB', 'PPV_UB', 'NPV_LB', 'NPV_UB',\n",
       "       'Sens_LB', 'Sens_UB', 'Spec_LB', 'Spec_UB', 'LR+_LB', 'LR+_UB',\n",
       "       'LR-_LB', 'LR-_UB', 'pool_type', 'synonymous', 'regression_confidence',\n",
       "       'MIC_coef', 'BH_MIC_pval', 'single_lineage',\n",
       "       'Initial_Confidence_Grading', 'Phenos'],\n",
       "      dtype='object')"
      ]
     },
     "execution_count": 123,
     "metadata": {},
     "output_type": "execute_result"
    }
   ],
   "source": [
    "results[\"T1,ALL,noSyn_unpooled\"].columns"
   ]
  },
  {
   "cell_type": "code",
   "execution_count": null,
   "id": "4acb88f5-af1d-4ec1-80cd-7042baf65a2c",
   "metadata": {},
   "outputs": [],
   "source": [
    "0.5-26"
   ]
  },
  {
   "cell_type": "code",
   "execution_count": 116,
   "id": "464a2692-b5d1-458f-b2f9-9565f926f2e0",
   "metadata": {},
   "outputs": [
    {
     "data": {
      "text/html": [
       "<div>\n",
       "<style scoped>\n",
       "    .dataframe tbody tr th:only-of-type {\n",
       "        vertical-align: middle;\n",
       "    }\n",
       "\n",
       "    .dataframe tbody tr th {\n",
       "        vertical-align: top;\n",
       "    }\n",
       "\n",
       "    .dataframe thead th {\n",
       "        text-align: right;\n",
       "    }\n",
       "</style>\n",
       "<table border=\"1\" class=\"dataframe\">\n",
       "  <thead>\n",
       "    <tr style=\"text-align: right;\">\n",
       "      <th></th>\n",
       "      <th>mutation</th>\n",
       "      <th>regression_confidence</th>\n",
       "      <th>Sens</th>\n",
       "    </tr>\n",
       "  </thead>\n",
       "  <tbody>\n",
       "  </tbody>\n",
       "</table>\n",
       "</div>"
      ],
      "text/plain": [
       "Empty DataFrame\n",
       "Columns: [mutation, regression_confidence, Sens]\n",
       "Index: []"
      ]
     },
     "execution_count": 116,
     "metadata": {},
     "output_type": "execute_result"
    }
   ],
   "source": [
    "results[\"T1+2,ALL,noSyn_unpooled\"].query(\"regression_confidence.str.contains('strict')\")[[\"mutation\", \"regression_confidence\", \"Sens\"]]"
   ]
  },
  {
   "cell_type": "code",
   "execution_count": null,
   "id": "a4f44b8a-d765-4a47-9c34-b4e20212e124",
   "metadata": {},
   "outputs": [],
   "source": []
  },
  {
   "cell_type": "code",
   "execution_count": 87,
   "id": "4bab0546-1891-456e-a8ba-fdbbfa279c0d",
   "metadata": {},
   "outputs": [],
   "source": [
    "eigenvec_df = pd.read_csv(\"data/eigenvec_100PC.csv\")"
   ]
  },
  {
   "cell_type": "code",
   "execution_count": 88,
   "id": "46f82ec1-d409-4171-89d3-788d7eddff93",
   "metadata": {},
   "outputs": [
    {
     "data": {
      "text/plain": [
       "52567"
      ]
     },
     "execution_count": 88,
     "metadata": {},
     "output_type": "execute_result"
    }
   ],
   "source": [
    "len(eigenvec_df)"
   ]
  },
  {
   "cell_type": "code",
   "execution_count": 79,
   "id": "37334bd4-e88c-4ca5-9ff9-51802fe29cab",
   "metadata": {},
   "outputs": [
    {
     "data": {
      "text/plain": [
       "dict_keys(['T1,WHO,noSyn_unpooled', 'T1,WHO,noSyn_poolSeparate', 'T1,WHO,withSyn_unpooled', 'T1+2,WHO,noSyn_unpooled', 'T1+2,WHO,noSyn_poolSeparate', 'T1+2,WHO,withSyn_unpooled', 'T1,ALL,noSyn_unpooled', 'T1,ALL,noSyn_poolSeparate', 'T1,ALL,withSyn_unpooled', 'T1+2,ALL,noSyn_unpooled', 'T1+2,ALL,noSyn_poolSeparate', 'T1+2,ALL,withSyn_unpooled'])"
      ]
     },
     "execution_count": 79,
     "metadata": {},
     "output_type": "execute_result"
    }
   ],
   "source": [
    "drug = \"Levofloxacin\"\n",
    "results = pd.read_excel(f\"results/NEW/{drug}.xlsx\", sheet_name=None)\n",
    "results.keys()"
   ]
  },
  {
   "cell_type": "code",
   "execution_count": 80,
   "id": "0fd9ce59-7d83-4c1f-bce5-4c1bb028237c",
   "metadata": {},
   "outputs": [
    {
     "name": "stdout",
     "output_type": "stream",
     "text": [
      "Empty DataFrame\n",
      "Columns: [mutation, predicted_effect, confidence_V1, Odds_Ratio, BH_pval, BH_LRT_pval, PPV_LB, NPV_LB, regression_confidence, MIC_coef, BH_MIC_pval, Num_Isolates]\n",
      "Index: []\n",
      "Empty DataFrame\n",
      "Columns: [mutation, predicted_effect, confidence_V1, Odds_Ratio, BH_pval, BH_LRT_pval, PPV_LB, NPV_LB, regression_confidence, MIC_coef, BH_MIC_pval, Num_Isolates]\n",
      "Index: []\n",
      "Empty DataFrame\n",
      "Columns: [mutation, predicted_effect, confidence_V1, Odds_Ratio, BH_pval, BH_LRT_pval, PPV_LB, NPV_LB, regression_confidence, MIC_coef, BH_MIC_pval, Num_Isolates]\n",
      "Index: []\n"
     ]
    }
   ],
   "source": [
    "for path in [\"T1+2,ALL,noSyn_unpooled\", \"T1+2,ALL,withSyn_unpooled\", \"T1+2,ALL,noSyn_poolSeparate\"]:\n",
    "\n",
    "    print(results[path].query(\"BH_pval < 0.01 & BH_LRT_pval < 0.01\")[[\"mutation\", \"predicted_effect\", \"confidence_V1\", \"Odds_Ratio\", \"BH_pval\", \"BH_LRT_pval\", \"PPV_LB\", \"NPV_LB\", \"regression_confidence\", \"MIC_coef\", \"BH_MIC_pval\", \"Num_Isolates\"]])"
   ]
  },
  {
   "cell_type": "code",
   "execution_count": 81,
   "id": "c7756fd6-6e84-4110-a43f-7120bfc8bad2",
   "metadata": {},
   "outputs": [
    {
     "data": {
      "text/plain": [
       "dict_keys(['T1,WHO,noSyn_unpooled', 'T1,WHO,noSyn_poolSeparate', 'T1,WHO,withSyn_unpooled', 'T1+2,WHO,noSyn_unpooled', 'T1+2,WHO,noSyn_poolSeparate', 'T1+2,WHO,withSyn_unpooled', 'T1,ALL,noSyn_unpooled', 'T1,ALL,noSyn_poolSeparate', 'T1,ALL,withSyn_unpooled', 'T1+2,ALL,noSyn_unpooled', 'T1+2,ALL,noSyn_poolSeparate', 'T1+2,ALL,withSyn_unpooled'])"
      ]
     },
     "execution_count": 81,
     "metadata": {},
     "output_type": "execute_result"
    }
   ],
   "source": [
    "drug = \"Moxifloxacin\"\n",
    "results = pd.read_excel(f\"results/NEW/{drug}.xlsx\", sheet_name=None)\n",
    "results.keys()"
   ]
  },
  {
   "cell_type": "code",
   "execution_count": null,
   "id": "ae0118a7-0631-45b3-803f-3d24a2969599",
   "metadata": {},
   "outputs": [],
   "source": []
  },
  {
   "cell_type": "code",
   "execution_count": 85,
   "id": "512c53f9-6162-4f36-bb2c-2d20fe20e027",
   "metadata": {},
   "outputs": [
    {
     "name": "stdout",
     "output_type": "stream",
     "text": [
      "             mutation predicted_effect  confidence_V1  Odds_Ratio  BH_pval   \n",
      "0  Rv2752c_p.Val348fs       frameshift            NaN    1.103373      0.0  \\\n",
      "4     glpK_p.His193fs       frameshift            NaN    1.055805      0.0   \n",
      "\n",
      "   BH_LRT_pval    PPV_LB    NPV_LB regression_confidence  MIC_coef   \n",
      "0     0.000002  0.374273  0.823243    Possible Assoc w R       NaN  \\\n",
      "4     0.005172  0.067586  0.822747             Uncertain  0.057599   \n",
      "\n",
      "   BH_MIC_pval  Num_Isolates single_lineage  \n",
      "0          NaN            30          2.2.1  \n",
      "4          0.0             4            NaN  \n",
      "           mutation    predicted_effect  confidence_V1  Odds_Ratio  BH_pval   \n",
      "0  Rv2752c_c.675C>T  synonymous_variant            NaN    1.170687      0.0  \\\n",
      "\n",
      "   BH_LRT_pval    PPV_LB    NPV_LB regression_confidence  MIC_coef   \n",
      "0     0.003517  0.092983  0.822208             Uncertain -0.005275  \\\n",
      "\n",
      "   BH_MIC_pval  Num_Isolates single_lineage  \n",
      "0     0.513971           152              4  \n",
      "   mutation predicted_effect  confidence_V1  Odds_Ratio  BH_pval  BH_LRT_pval   \n",
      "0  glpK_lof              lof            NaN    1.110081      0.0     0.000186  \\\n",
      "\n",
      "     PPV_LB    NPV_LB regression_confidence  MIC_coef  BH_MIC_pval   \n",
      "0  0.189537  0.823618             Uncertain  0.000798     0.526615  \\\n",
      "\n",
      "   Num_Isolates single_lineage  \n",
      "0           305            NaN  \n"
     ]
    }
   ],
   "source": [
    "for path in [\"T1+2,ALL,noSyn_unpooled\", \"T1+2,ALL,withSyn_unpooled\", \"T1+2,ALL,noSyn_poolSeparate\"]:\n",
    "\n",
    "    print(results[path].query(\"BH_pval < 0.01 & BH_LRT_pval < 0.01\")[[\"mutation\", \"predicted_effect\", \"confidence_V1\", \"Odds_Ratio\", \"BH_pval\", \"BH_LRT_pval\", \"PPV_LB\", \"NPV_LB\", \"regression_confidence\", \"MIC_coef\", \"BH_MIC_pval\", \"Num_Isolates\", \"single_lineage\"]])"
   ]
  },
  {
   "cell_type": "code",
   "execution_count": 84,
   "id": "acc490ed-55b2-4054-b204-df418a7d6f84",
   "metadata": {},
   "outputs": [
    {
     "data": {
      "text/html": [
       "<div>\n",
       "<style scoped>\n",
       "    .dataframe tbody tr th:only-of-type {\n",
       "        vertical-align: middle;\n",
       "    }\n",
       "\n",
       "    .dataframe tbody tr th {\n",
       "        vertical-align: top;\n",
       "    }\n",
       "\n",
       "    .dataframe thead th {\n",
       "        text-align: right;\n",
       "    }\n",
       "</style>\n",
       "<table border=\"1\" class=\"dataframe\">\n",
       "  <thead>\n",
       "    <tr style=\"text-align: right;\">\n",
       "      <th></th>\n",
       "      <th>mutation</th>\n",
       "      <th>predicted_effect</th>\n",
       "      <th>confidence_V1</th>\n",
       "      <th>Odds_Ratio</th>\n",
       "      <th>BH_pval</th>\n",
       "      <th>BH_LRT_pval</th>\n",
       "      <th>PPV_LB</th>\n",
       "      <th>NPV_LB</th>\n",
       "      <th>regression_confidence</th>\n",
       "      <th>MIC_coef</th>\n",
       "      <th>BH_MIC_pval</th>\n",
       "      <th>Num_Isolates</th>\n",
       "      <th>single_lineage</th>\n",
       "    </tr>\n",
       "  </thead>\n",
       "  <tbody>\n",
       "    <tr>\n",
       "      <th>0</th>\n",
       "      <td>glpK_lof</td>\n",
       "      <td>lof</td>\n",
       "      <td>NaN</td>\n",
       "      <td>1.110081</td>\n",
       "      <td>0.0</td>\n",
       "      <td>0.000186</td>\n",
       "      <td>0.189537</td>\n",
       "      <td>0.823618</td>\n",
       "      <td>Uncertain</td>\n",
       "      <td>0.000798</td>\n",
       "      <td>0.526615</td>\n",
       "      <td>305</td>\n",
       "      <td>NaN</td>\n",
       "    </tr>\n",
       "  </tbody>\n",
       "</table>\n",
       "</div>"
      ],
      "text/plain": [
       "   mutation predicted_effect  confidence_V1  Odds_Ratio  BH_pval  BH_LRT_pval   \n",
       "0  glpK_lof              lof            NaN    1.110081      0.0     0.000186  \\\n",
       "\n",
       "     PPV_LB    NPV_LB regression_confidence  MIC_coef  BH_MIC_pval   \n",
       "0  0.189537  0.823618             Uncertain  0.000798     0.526615  \\\n",
       "\n",
       "   Num_Isolates single_lineage  \n",
       "0           305            NaN  "
      ]
     },
     "execution_count": 84,
     "metadata": {},
     "output_type": "execute_result"
    }
   ],
   "source": [
    "results[path].query(\"BH_pval < 0.01 & BH_LRT_pval < 0.01\")[[\"mutation\", \"predicted_effect\", \"confidence_V1\", \"Odds_Ratio\", \"BH_pval\", \"BH_LRT_pval\", \"PPV_LB\", \"NPV_LB\", \"regression_confidence\", \"MIC_coef\", \"BH_MIC_pval\", \"Num_Isolates\", \"single_lineage\"]]"
   ]
  },
  {
   "cell_type": "code",
   "execution_count": 9,
   "id": "6c787289-ac4d-4ec3-86fe-ad0754c018b1",
   "metadata": {},
   "outputs": [
    {
     "name": "stdout",
     "output_type": "stream",
     "text": [
      "Levofloxacin 5874 0.213\n",
      "Pyrazinamide 4431 0.208\n",
      "Streptomycin 10410 0.398\n",
      "Amikacin 2480 0.1\n",
      "Ethambutol 9536 0.21\n",
      "Clofazimine 677 0.045\n",
      "Linezolid 374 0.021\n",
      "Moxifloxacin 4030 0.177\n",
      "Kanamycin 3569 0.145\n",
      "Bedaquiline 1037 0.073\n",
      "Capreomycin 2065 0.117\n",
      "Rifampicin 16861 0.353\n",
      "Pretomanid 14 0.02\n",
      "Delamanid 252 0.021\n",
      "Isoniazid 20951 0.43\n",
      "Ethionamide 5241 0.25\n"
     ]
    }
   ],
   "source": [
    "# for drug in [\"Clofazimine\", \"Linezolid\", \"Delamanid\", \"Pretomanid\"]:\n",
    "for drug in os.listdir(analysis_dir):\n",
    "    \n",
    "    # len(df_phenos.query(\"phenotype==0\"))\n",
    "    \n",
    "    df_phenos = pd.read_csv(os.path.join(analysis_dir, drug, \"phenos_binary.csv\"))\n",
    "    print(drug, len(df_phenos.query(\"phenotype==1\")), np.round(df_phenos[\"phenotype\"].mean(), 3))"
   ]
  },
  {
   "cell_type": "code",
   "execution_count": 11,
   "id": "7b51a970-b159-4273-8900-dd8c2acba0f3",
   "metadata": {},
   "outputs": [
    {
     "name": "stdout",
     "output_type": "stream",
     "text": [
      "Clofazimine 677 0.0454\n",
      "Linezolid 374 0.0208\n",
      "Delamanid 252 0.0214\n",
      "Pretomanid 14 0.0201\n"
     ]
    }
   ],
   "source": [
    "for drug in [\"Clofazimine\", \"Linezolid\", \"Delamanid\", \"Pretomanid\"]:    \n",
    "    # len(df_phenos.query(\"phenotype==0\"))\n",
    "    \n",
    "    df_phenos = pd.read_csv(os.path.join(analysis_dir, drug, \"phenos_binary.csv\"))\n",
    "    print(drug, len(df_phenos.query(\"phenotype==1\")), np.round(df_phenos[\"phenotype\"].mean(), 4))"
   ]
  },
  {
   "cell_type": "code",
   "execution_count": 2,
   "id": "c1fec92f-9b05-4af5-bdca-386350bf8942",
   "metadata": {},
   "outputs": [],
   "source": [
    "# for drug in os.listdir(analysis_dir):\n",
    "    \n",
    "#     for path in binary_analyses_lst:\n",
    "        \n",
    "#         fNames = glob.glob(f\"{analysis_dir}/{drug}/BINARY/{path}/*.csv\") + glob.glob(f\"{path}/*.txt\")\n",
    "#         for fName in fNames:\n",
    "#             os.remove(fName)"
   ]
  },
  {
   "cell_type": "markdown",
   "id": "36388b0b-0657-40c6-90a8-a5162f678dfb",
   "metadata": {},
   "source": [
    "# Implement Catalog Method Using V1 Results"
   ]
  },
  {
   "cell_type": "code",
   "execution_count": 5,
   "id": "12d467e0-7f82-4e63-b13b-9c2cd3220a99",
   "metadata": {},
   "outputs": [],
   "source": [
    "# def get_catalog_metrics(df_phenos, AF_thresh=0.75):\n",
    "\n",
    "#     # for computing AUC, set AF to 0 for isolates below the threshold. This is because they are all classified as S anyway\n",
    "#     df_phenos.loc[df_phenos[\"variant_allele_frequency\"] < AF_thresh, \"variant_allele_frequency\"] = 0\n",
    "    \n",
    "#     # samples with a Cat 1 variant at an AF greater than or equal to the threshold are predicted R \n",
    "#     df_phenos.loc[df_phenos[\"variant_allele_frequency\"] >= AF_thresh, \"binary_pred\"] = 1\n",
    "#     df_phenos[\"binary_pred\"] = df_phenos[\"binary_pred\"].fillna(0).astype(int)\n",
    "    \n",
    "#     TN, FP, FN, TP = sklearn.metrics.confusion_matrix(y_true=df_phenos[\"phenotype\"].values, y_pred=df_phenos[\"binary_pred\"].values).ravel()\n",
    "    \n",
    "#     return pd.DataFrame({\"Sens\": TP / (TP + FN), \n",
    "#                          \"Spec\": TN / (TN + FP), \n",
    "#                          \"Precision\": TP / (TP + FP),\n",
    "#                          \"AUC\": sklearn.metrics.roc_auc_score(y_true=df_phenos[\"phenotype\"], y_score=df_phenos[\"variant_allele_frequency\"]),\n",
    "#                          \"Accuracy\": sklearn.metrics.accuracy_score(y_true=df_phenos[\"phenotype\"].values, y_pred=df_phenos[\"binary_pred\"].values),\n",
    "#                          \"Balanced_Acc\": sklearn.metrics.balanced_accuracy_score(y_true=df_phenos[\"phenotype\"].values, y_pred=df_phenos[\"binary_pred\"].values)\n",
    "#                         }, index=[0])"
   ]
  },
  {
   "cell_type": "code",
   "execution_count": 3,
   "id": "a2986041-e1ef-41b0-9234-e04c5b855466",
   "metadata": {},
   "outputs": [],
   "source": [
    "# def classify_using_V1_catalog(drug, AF_thresh, num_bootstrap=1000):\n",
    "    \n",
    "#     drug_abbr = drug_abbr_dict[drug]\n",
    "#     drug_cat1_variants = who_variants.query(\"drug==@drug_abbr & confidence == '1) Assoc w R'\")\n",
    "    \n",
    "#     if len(drug_cat1_variants) == 0:\n",
    "#         print(f\"No category 1 mutations for {drug}\")\n",
    "#         return None, None\n",
    "    \n",
    "#     drug_cat1_variants[[\"gene\", \"variant\"]] = drug_cat1_variants[\"mutation\"].str.split(\"_\", expand=True)\n",
    "#     cat1_genes = drug_cat1_variants.gene.unique()\n",
    "#     cat1_variants = drug_cat1_variants[\"variant\"].values\n",
    "\n",
    "#     if 2 not in drug_gene_mapping.query(\"Drug==@drug & Gene in @cat1_genes\").Tier.unique():\n",
    "#         print(\"Reading in Tier 1 genes only\")\n",
    "#         df_genos = pd.read_csv(os.path.join(analysis_dir, drug, \"genos_1.csv.gz\"))\n",
    "#     else:\n",
    "#         print(\"Reading in Tier 1 and 2 genes\")\n",
    "#         df_genos = pd.concat([pd.read_csv(os.path.join(analysis_dir, drug, \"genos_1.csv.gz\")),\n",
    "#                               pd.read_csv(os.path.join(analysis_dir, drug, \"genos_2.csv.gz\"))\n",
    "#                              ])\n",
    "\n",
    "#     # keep only samples that are in the genotypes dataframe\n",
    "#     df_phenos = pd.read_csv(os.path.join(analysis_dir, drug, \"phenos_binary.csv\"))\n",
    "#     df_phenos = df_phenos.query(\"sample_id in @df_genos.sample_id.values\").reset_index(drop=True)\n",
    "    \n",
    "#     # merge with genotypes to get allele fractions for every variant. keep only Cat 1 variants because those are what the prediction will be based on\n",
    "#     df_phenos = df_phenos.merge(df_genos.query(\"variant_category in @cat1_variants\")[[\"sample_id\", \"variant_allele_frequency\"]].sort_values(\"variant_allele_frequency\", ascending=False).drop_duplicates(\"sample_id\", keep=\"first\"),\n",
    "#                     on=\"sample_id\", how=\"left\"\n",
    "#                    )\n",
    "\n",
    "#     # drop NaNs, which are isolates that didn't pass quality control\n",
    "#     df_phenos = df_phenos.dropna(subset='variant_allele_frequency', axis=0).reset_index(drop=True)\n",
    "    \n",
    "#     ALL_results = get_catalog_metrics(df_phenos, AF_thresh)\n",
    "#     ALL_results[\"CV\"] = 0\n",
    "    \n",
    "#     print(f\"Performing {num_bootstrap}x bootstrapping for the ALL dataset\")\n",
    "    \n",
    "#     for i in range(num_bootstrap):\n",
    "#         bs_idx = np.random.choice(df_phenos.index.values, size=len(df_phenos), replace=True)\n",
    "#         df_bs = df_phenos.iloc[bs_idx]\n",
    "        \n",
    "#         single_rep_results = get_catalog_metrics(df_bs, AF_thresh)\n",
    "#         single_rep_results[\"CV\"] = i + 1\n",
    "#         ALL_results = pd.concat([ALL_results, single_rep_results], axis=0)\n",
    "        \n",
    "#     del df_bs\n",
    "#     df_WHO = df_phenos.query(\"phenotypic_category == 'WHO'\").reset_index(drop=True)\n",
    "#     del df_phenos\n",
    "    \n",
    "#     WHO_results = get_catalog_metrics(df_WHO, AF_thresh)\n",
    "#     WHO_results[\"CV\"] = 0\n",
    "\n",
    "#     print(f\"Performing {num_bootstrap}x bootstrapping for the WHO dataset\")\n",
    "    \n",
    "#     for i in range(num_bootstrap):\n",
    "#         bs_idx = np.random.choice(df_WHO.index.values, size=len(df_WHO), replace=True)\n",
    "#         df_bs = df_WHO.iloc[bs_idx]\n",
    "        \n",
    "#         single_rep_results = get_catalog_metrics(df_bs, AF_thresh)\n",
    "#         single_rep_results[\"CV\"] = i + 1\n",
    "#         WHO_results = pd.concat([WHO_results, single_rep_results], axis=0)\n",
    "        \n",
    "#     WHO_results[\"CV\"] = WHO_results[\"CV\"].astype(int)\n",
    "#     ALL_results[\"CV\"] = ALL_results[\"CV\"].astype(int)\n",
    "    \n",
    "#     # add dummy variables of 0 for the AUCs so that it doesn't interfere with adding plot labels. The 0 bar doesn't get plotted because it is 0\n",
    "#     WHO_results[\"Model\"] = \"V1 Catalogue,\\nWHO Phenos\"\n",
    "#     ALL_results[\"Model\"] = \"V1 Catalogue,\\nALL Phenos\"\n",
    "        \n",
    "# #     # add dummy variables of 0 for the AUCs so that it doesn't interfere with adding plot labels. The 0 bar doesn't get plotted because it is 0\n",
    "# #     WHO_results[[\"Model\", \"AUC\"]] = [\"V1 Catalogue,\\nWHO Phenos\", 0]\n",
    "# #     ALL_results[[\"Model\", \"AUC\"]] = [\"V1 Catalogue,\\nALL Phenos\", 0]\n",
    "    \n",
    "#     return WHO_results, ALL_results"
   ]
  },
  {
   "cell_type": "markdown",
   "id": "5772c92d-7758-453f-af6f-8b0d9bfd0a5c",
   "metadata": {},
   "source": [
    "# Plot Sensitivity, Specificity, and AUC for Each Drug with Bootstrapped Confidence Intervals"
   ]
  },
  {
   "cell_type": "code",
   "execution_count": 2,
   "id": "b9037a7c-74df-4476-8d81-0cb5a6e2b1f6",
   "metadata": {},
   "outputs": [],
   "source": [
    "def single_drug_bar_chart(drug, variable_lst, include_het=False, binary_analyses_lst=binary_analyses_lst, bootstrap=False, errorbar=None, palette=\"muted\", sigfig=1, saveName=None):\n",
    "    \n",
    "    concat_models = []\n",
    "    \n",
    "    if include_het:\n",
    "        model_prefix = \"_HET\"\n",
    "    else:\n",
    "        model_prefix = \"\"\n",
    "        \n",
    "    if bootstrap:\n",
    "        model_prefix += \"_bootstrap\"\n",
    "        \n",
    "    if drug == \"Pretomanid\":\n",
    "        binary_analyses_lst = [path for path in binary_analyses_lst if \"ALL\" in path and \"1+2\" not in path]\n",
    "    \n",
    "    hue_order = [\"Tier 1,\\nWHO Phenos\", \"Tier 1,\\nALL Phenos\", \"Tiers 1+2,\\nWHO Phenos\", \"Tiers 1+2,\\nALL Phenos\"]\n",
    "    #hue_order = [\"Tier 1,\\nWHO Phenos\", \"Tier 1,\\nALL Phenos\", \"Tiers 1+2,\\nWHO Phenos\", \"Tiers 1+2,\\nALL Phenos\", \"V1 Catalogue,\\nWHO Phenos\", \"V1 Catalogue,\\nALL Phenos\"]\n",
    "        \n",
    "    for path in binary_analyses_lst:\n",
    "        \n",
    "        if os.path.isfile(os.path.join(analysis_dir, drug, \"BINARY\", path, f\"model_stats_CV{model_prefix}.csv\")):\n",
    "            df = pd.read_csv(os.path.join(analysis_dir, drug, \"BINARY\", path, f\"model_stats_CV{model_prefix}.csv\"))\n",
    "        else:\n",
    "            df = pd.read_csv(os.path.join(analysis_dir, drug, \"BINARY\", path.replace(\"tiers=1+2\", \"tiers=1\"), f\"model_stats_CV{model_prefix}.csv\"))\n",
    "        \n",
    "        df[\"Model\"] = path_name_dict[path]\n",
    "        concat_models.append(df)\n",
    "\n",
    "    df_plot = pd.concat(concat_models, axis=0)\n",
    "    \n",
    "        \n",
    "    # if there is no HET in the model prefix, use threshold of 0.75. If HET, use threshold of 0.25\n",
    "    if include_het:\n",
    "        AF_thresh = 0.25\n",
    "        title_str = \"+HET\"\n",
    "    else:\n",
    "        AF_thresh = 0.75\n",
    "        title_str = \"-HET\"\n",
    "        \n",
    "    #catalog_WHO, catalog_ALL = classify_using_V1_catalog(drug, AF_thresh, num_bootstrap=1000)\n",
    "    catalog_WHO = None\n",
    "    catalog_ALL = None\n",
    "    df_plot = pd.concat([df_plot, catalog_WHO, catalog_ALL], axis=0)\n",
    "\n",
    "    df_plot = df_plot.melt(id_vars=[\"Model\"])\n",
    "    df_plot[\"variable\"] = df_plot[\"variable\"].replace(\"Sens\", \"Sensitivity\").replace(\"Spec\", \"Specificity\").replace(\"Balanced_Acc\", \"Balanced Accuracy\")\n",
    "    df_plot = df_plot.query(\"variable in @variable_lst\")#.query(\"CV > 0\")\n",
    "    df_plot[\"value\"] *= 100\n",
    "    \n",
    "    # if catalog_WHO is not None:\n",
    "    #     plot_width = 8\n",
    "    #     hue_order = [\"Tier 1,\\nWHO Phenos\", \"Tier 1,\\nALL Phenos\", \"Tiers 1+2,\\nWHO Phenos\", \"Tiers 1+2,\\nALL Phenos\", \"V1 Catalogue,\\nWHO Phenos\", \"V1 Catalogue,\\nALL Phenos\"]\n",
    "    #     # x_order = [\"Tier 1,\\nWHO Phenos\", \"Tiers 1+2,\\nWHO Phenos\", \"V1 Catalogue,\\nWHO Phenos\", \"Tier 1,\\nALL Phenos\", \"Tiers 1+2,\\nALL Phenos\", \"V1 Catalogue,\\nALL Phenos\"]\n",
    "    # else:\n",
    "    #     plot_width = 6\n",
    "    #     hue_order = [\"Tier 1,\\nWHO Phenos\", \"Tier 1,\\nALL Phenos\", \"Tiers 1+2,\\nWHO Phenos\", \"Tiers 1+2,\\nALL Phenos\"]\n",
    "    #     # x_order=[\"Tier 1,\\nWHO Phenos\", \"Tiers 1+2,\\nWHO Phenos\", \"Tier 1,\\nALL Phenos\", \"Tiers 1+2,\\nALL Phenos\"]\n",
    "    plot_width = 2 * len(df_plot[\"variable\"].unique())       \n",
    "    palette = list(sns.color_palette(\"Paired\").as_hex())\n",
    "    \n",
    "    # first pair is blue, second is orange, third is green, fourth is purple\n",
    "    palette = palette[:2] + palette[6:8] + palette[2:4] + palette[8:10]\n",
    "    \n",
    "    fig, ax = plt.subplots(figsize=(plot_width, 4))\n",
    "    sns.barplot(data=df_plot,\n",
    "                x=\"variable\",\n",
    "                y=\"value\",\n",
    "                hue=\"Model\",\n",
    "                hue_order=hue_order,\n",
    "                order=variable_lst,\n",
    "                errorbar=errorbar,\n",
    "                errwidth=0.75,\n",
    "                capsize=0.05,\n",
    "                palette=palette,\n",
    "                ax=ax\n",
    "                )\n",
    "    \n",
    "    # bar_scale = 0.8\n",
    "    # for patch in ax.patches:\n",
    "    #     current_width = patch.get_width()\n",
    "    #     patch.set_width(current_width * bar_scale)\n",
    "        \n",
    "    label_loc = 'center'\n",
    "    \n",
    "    if sigfig == 1:\n",
    "        font_size = '8'\n",
    "    else:\n",
    "        font_size = '10'\n",
    "\n",
    "    for cont in ax.containers:\n",
    "        labels = [np.round(val, sigfig) if val > 0 else \"\" for val in cont.datavalues]    \n",
    "        ax.bar_label(cont, labels=labels, label_type=label_loc, fontsize=font_size)\n",
    "\n",
    "    plt.ylim(0, 100)\n",
    "    plt.title(f\"{drug} Models\\n\")\n",
    "    plt.xlabel(\"\")\n",
    "    plt.ylabel(\"\")\n",
    "    sns.move_legend(ax, fontsize=8, title='', loc='upper right', #bbox_to_anchor=(1.12, 0.6)\n",
    "                    ncol=len(df_plot[\"Model\"].unique()) / 2, bbox_to_anchor=(0.7, -0.1)\n",
    "                   )\n",
    "\n",
    "    sns.despine()\n",
    "    plt.tight_layout()\n",
    "    \n",
    "    if saveName is None:\n",
    "        plt.show()\n",
    "    else:\n",
    "        if not os.path.isdir(os.path.dirname(saveName)):\n",
    "            os.makedirs(os.path.dirname(saveName))\n",
    "        plt.savefig(saveName, dpi=300)\n",
    "        \n",
    "    return df_plot\n",
    "\n",
    "\n",
    "def significance_test_HET_results(DROP_results, HET_results, variable_lst):\n",
    "                    \n",
    "    for var in variable_lst:\n",
    "        \n",
    "        x_var = DROP_results.query(\"CV > 0\")[var].values\n",
    "        y_var = HET_results.query(\"CV > 0\")[var].values\n",
    "        \n",
    "        if st.normaltest(x_var) and st.normaltest(y_var):\n",
    "            test_type = \"parametric\"\n",
    "        else:\n",
    "            test_type = \"non\"\n",
    "        \n",
    "        # alternative hypothesis is that the model with HETs is better\n",
    "        if test_type == \"parametric\":\n",
    "            _, pval = st.ttest_ind(x_var, y_var, alternative='two-sided', equal_var=False)\n",
    "        else:\n",
    "            _, pval = st.mannwhitneyu(x_var, y_var, alternative='two-sided')\n",
    "        \n",
    "        if pval < 0.05:\n",
    "            \n",
    "            mean_diff = np.mean(y_var) - np.mean(x_var)\n",
    "            \n",
    "            if test_type == \"parametric\":\n",
    "                _, pval = st.ttest_ind(x_var, y_var, alternative='less', equal_var=False)\n",
    "            else:\n",
    "                _, pval = st.mannwhitneyu(x_var, y_var, alternative='less')\n",
    "            \n",
    "            if pval < 0.05:\n",
    "                print(f\"{var}: HET +{np.round(mean_diff, 2)}\")\n",
    "            else:\n",
    "                if test_type == \"parametric\":\n",
    "                    _, pval = st.ttest_ind(x_var, y_var, alternative='greater', equal_var=False)\n",
    "                else:\n",
    "                    _, pval = st.mannwhitneyu(x_var, y_var, alternative='greater')\n",
    "\n",
    "                if pval < 0.05:\n",
    "                    print(f\"{var}: HET -{np.round(-mean_diff, 4)}\")"
   ]
  },
  {
   "cell_type": "code",
   "execution_count": 3,
   "id": "c85d7609-8fd2-41b6-82d1-e788bcdf379e",
   "metadata": {},
   "outputs": [],
   "source": [
    "# Levofloxacin: sens = 84.6, spec = 97"
   ]
  },
  {
   "cell_type": "code",
   "execution_count": 4,
   "id": "b81dbd72-310b-4a7a-a44b-e7d98c95fbf5",
   "metadata": {},
   "outputs": [],
   "source": [
    "# very bad, not very informative results. Just compare mutations for PTM\n",
    "# drug = \"Pretomanid\"\n",
    "# # 695/5, \n",
    "# # variable_lst = [\"AUC\", \"Sens\", \"Spec\"]#, \"Balanced_Acc\"]\n",
    "\n",
    "# plot_everything_check_significance(drug)"
   ]
  },
  {
   "cell_type": "code",
   "execution_count": 5,
   "id": "5b949b7d-9494-4b20-8042-cd355a9bfe2d",
   "metadata": {},
   "outputs": [],
   "source": [
    "# drug = \"Pretomanid\"\n",
    "# PTM_results, PTM_het_results = plot_everything_check_significance(drug, variable_lst=[\"AUC\"])#saveName_DROP=\"results/TBScience/BDQ_no_HETs.png\", saveName_HET=\"results/TBScience/BDQ_with_HETs.png\")"
   ]
  },
  {
   "cell_type": "code",
   "execution_count": 114,
   "id": "9eec06f3-fde2-47d7-aee4-92ee65e3f9b9",
   "metadata": {},
   "outputs": [
    {
     "name": "stdout",
     "output_type": "stream",
     "text": [
      "Sens: HET +0.02\n",
      "Spec: HET -0.0022\n",
      "AUC: HET +0.01\n",
      "Balanced_Acc: HET +0.01\n"
     ]
    }
   ],
   "source": [
    "drug = \"Bedaquiline\"\n",
    "path = 'tiers=1+2/phenos=ALL'\n",
    "variable_lst = [\"Sens\", \"Spec\", \"AUC\", \"Balanced_Acc\"]\n",
    "results = pd.read_csv(os.path.join(analysis_dir, drug, \"BINARY\", path, \"model_stats_CV_bootstrap.csv\"))\n",
    "HET_results = pd.read_csv(os.path.join(analysis_dir, drug, \"BINARY\", path, \"model_stats_CV_HET_bootstrap.csv\"))\n",
    "\n",
    "significance_test_HET_results(results, HET_results, variable_lst)"
   ]
  },
  {
   "cell_type": "code",
   "execution_count": 115,
   "id": "696721c3-ff82-4c71-bf83-6945848866c6",
   "metadata": {},
   "outputs": [
    {
     "name": "stdout",
     "output_type": "stream",
     "text": [
      "Sens: HET +0.01\n",
      "Spec: HET -0.0045\n",
      "AUC: HET +0.0\n",
      "Balanced_Acc: HET +0.0\n"
     ]
    }
   ],
   "source": [
    "drug = \"Levofloxacin\"\n",
    "path = 'tiers=1+2/phenos=ALL'\n",
    "variable_lst = [\"Sens\", \"Spec\", \"AUC\", \"Balanced_Acc\"]\n",
    "results = pd.read_csv(os.path.join(analysis_dir, drug, \"BINARY\", path, \"model_stats_CV_bootstrap.csv\"))\n",
    "HET_results = pd.read_csv(os.path.join(analysis_dir, drug, \"BINARY\", path, \"model_stats_CV_HET_bootstrap.csv\"))\n",
    "\n",
    "significance_test_HET_results(results, HET_results, variable_lst)"
   ]
  },
  {
   "cell_type": "code",
   "execution_count": 69,
   "id": "8d5f350a-d7ea-40e4-ace4-6c302ee4667d",
   "metadata": {},
   "outputs": [
    {
     "data": {
      "text/plain": [
       "array([0.91839479, 0.92879892])"
      ]
     },
     "execution_count": 69,
     "metadata": {},
     "output_type": "execute_result"
    }
   ],
   "source": [
    "np.percentile(BDQ_HET_results[\"Accuracy\"], q=[2.5, 97.5])"
   ]
  },
  {
   "cell_type": "code",
   "execution_count": 66,
   "id": "980cc6c8-58b4-47f1-b6ce-66ebeb29c067",
   "metadata": {},
   "outputs": [
    {
     "data": {
      "text/plain": [
       "0.9250433242417784"
      ]
     },
     "execution_count": 66,
     "metadata": {},
     "output_type": "execute_result"
    }
   ],
   "source": [
    "np.mean(BDQ_results[\"Accuracy\"])"
   ]
  },
  {
   "cell_type": "code",
   "execution_count": null,
   "id": "3f0368a1-8c09-4b63-bb41-452c96ffbcdd",
   "metadata": {},
   "outputs": [],
   "source": []
  },
  {
   "cell_type": "code",
   "execution_count": 78,
   "id": "70b27aa5-8e3f-4a6d-b224-32da61c54e70",
   "metadata": {},
   "outputs": [
    {
     "data": {
      "text/plain": [
       "(3.8831529356799404e-05, 1.0534967777069153e-20)"
      ]
     },
     "execution_count": 78,
     "metadata": {},
     "output_type": "execute_result"
    }
   ],
   "source": [
    "st.normaltest(BDQ_results[\"Accuracy\"])[1], st.normaltest(BDQ_HET_results[\"Accuracy\"])[1]"
   ]
  },
  {
   "cell_type": "code",
   "execution_count": 79,
   "id": "070bee2a-1271-4e81-94f2-77f318697cc9",
   "metadata": {},
   "outputs": [
    {
     "data": {
      "text/plain": [
       "(array([ 31., 108., 290., 320., 182.,  55.,   9.,   2.,   2.,   2.]),\n",
       " array([0.91634227, 0.91854342, 0.92074457, 0.92294571, 0.92514686,\n",
       "        0.92734801, 0.92954915, 0.9317503 , 0.93395145, 0.93615259,\n",
       "        0.93835374]),\n",
       " <BarContainer object of 10 artists>)"
      ]
     },
     "execution_count": 79,
     "metadata": {},
     "output_type": "execute_result"
    },
    {
     "data": {
      "image/png": "[encoded data removed]",
      "text/plain": [
       "<Figure size 960x720 with 1 Axes>"
      ]
     },
     "metadata": {},
     "output_type": "display_data"
    }
   ],
   "source": [
    "plt.hist(BDQ_HET_results[\"Accuracy\"])"
   ]
  },
  {
   "cell_type": "code",
   "execution_count": null,
   "id": "ffb40d16-adc7-48a1-a33b-145a8c611e3f",
   "metadata": {},
   "outputs": [],
   "source": []
  },
  {
   "cell_type": "code",
   "execution_count": 68,
   "id": "ea6a1046-114a-4e2a-86e8-956308f0b262",
   "metadata": {},
   "outputs": [
    {
     "data": {
      "text/plain": [
       "array([0.92056108, 0.92936377])"
      ]
     },
     "execution_count": 68,
     "metadata": {},
     "output_type": "execute_result"
    }
   ],
   "source": [
    "np.percentile(BDQ_results[\"Accuracy\"], q=[2.5, 97.5])"
   ]
  },
  {
   "cell_type": "code",
   "execution_count": 52,
   "id": "420a6e4c-ed6c-4d97-9a04-b3915fc78db4",
   "metadata": {},
   "outputs": [
    {
     "data": {
      "text/plain": [
       "'/n/data1/hms/dbmi/farhat/Sanjana/who-mutation-catalogue/Bedaquiline/BINARY/tiers=1+2/phenos=ALL'"
      ]
     },
     "execution_count": 52,
     "metadata": {},
     "output_type": "execute_result"
    }
   ],
   "source": [
    "os.path.join(analysis_dir, drug, \"BINARY\", path)"
   ]
  },
  {
   "cell_type": "code",
   "execution_count": 51,
   "id": "1e94f351-7c37-4dbd-a2d1-7aa3ab37c848",
   "metadata": {},
   "outputs": [
    {
     "data": {
      "text/html": [
       "<div>\n",
       "<style scoped>\n",
       "    .dataframe tbody tr th:only-of-type {\n",
       "        vertical-align: middle;\n",
       "    }\n",
       "\n",
       "    .dataframe tbody tr th {\n",
       "        vertical-align: top;\n",
       "    }\n",
       "\n",
       "    .dataframe thead th {\n",
       "        text-align: right;\n",
       "    }\n",
       "</style>\n",
       "<table border=\"1\" class=\"dataframe\">\n",
       "  <thead>\n",
       "    <tr style=\"text-align: right;\">\n",
       "      <th></th>\n",
       "      <th>AUC</th>\n",
       "      <th>Sens</th>\n",
       "      <th>Spec</th>\n",
       "      <th>Precision</th>\n",
       "      <th>Accuracy</th>\n",
       "      <th>Balanced_Acc</th>\n",
       "      <th>CV</th>\n",
       "    </tr>\n",
       "  </thead>\n",
       "  <tbody>\n",
       "    <tr>\n",
       "      <th>0</th>\n",
       "      <td>0.845175</td>\n",
       "      <td>0.656608</td>\n",
       "      <td>0.944205</td>\n",
       "      <td>0.464996</td>\n",
       "      <td>0.924426</td>\n",
       "      <td>0.800407</td>\n",
       "      <td>0</td>\n",
       "    </tr>\n",
       "    <tr>\n",
       "      <th>1</th>\n",
       "      <td>0.840464</td>\n",
       "      <td>0.631463</td>\n",
       "      <td>0.945729</td>\n",
       "      <td>0.447389</td>\n",
       "      <td>0.925284</td>\n",
       "      <td>0.788596</td>\n",
       "      <td>1</td>\n",
       "    </tr>\n",
       "    <tr>\n",
       "      <th>2</th>\n",
       "      <td>0.843917</td>\n",
       "      <td>0.647716</td>\n",
       "      <td>0.943486</td>\n",
       "      <td>0.465015</td>\n",
       "      <td>0.922637</td>\n",
       "      <td>0.795601</td>\n",
       "      <td>2</td>\n",
       "    </tr>\n",
       "    <tr>\n",
       "      <th>3</th>\n",
       "      <td>0.840863</td>\n",
       "      <td>0.646377</td>\n",
       "      <td>0.946978</td>\n",
       "      <td>0.493727</td>\n",
       "      <td>0.924712</td>\n",
       "      <td>0.796677</td>\n",
       "      <td>3</td>\n",
       "    </tr>\n",
       "    <tr>\n",
       "      <th>4</th>\n",
       "      <td>0.843228</td>\n",
       "      <td>0.646444</td>\n",
       "      <td>0.944688</td>\n",
       "      <td>0.461883</td>\n",
       "      <td>0.924283</td>\n",
       "      <td>0.795566</td>\n",
       "      <td>4</td>\n",
       "    </tr>\n",
       "    <tr>\n",
       "      <th>...</th>\n",
       "      <td>...</td>\n",
       "      <td>...</td>\n",
       "      <td>...</td>\n",
       "      <td>...</td>\n",
       "      <td>...</td>\n",
       "      <td>...</td>\n",
       "      <td>...</td>\n",
       "    </tr>\n",
       "    <tr>\n",
       "      <th>996</th>\n",
       "      <td>0.839753</td>\n",
       "      <td>0.654255</td>\n",
       "      <td>0.945446</td>\n",
       "      <td>0.463801</td>\n",
       "      <td>0.925857</td>\n",
       "      <td>0.799851</td>\n",
       "      <td>996</td>\n",
       "    </tr>\n",
       "    <tr>\n",
       "      <th>997</th>\n",
       "      <td>0.844460</td>\n",
       "      <td>0.665635</td>\n",
       "      <td>0.943863</td>\n",
       "      <td>0.469091</td>\n",
       "      <td>0.924569</td>\n",
       "      <td>0.804749</td>\n",
       "      <td>997</td>\n",
       "    </tr>\n",
       "    <tr>\n",
       "      <th>998</th>\n",
       "      <td>0.851004</td>\n",
       "      <td>0.654088</td>\n",
       "      <td>0.943928</td>\n",
       "      <td>0.460857</td>\n",
       "      <td>0.924139</td>\n",
       "      <td>0.799008</td>\n",
       "      <td>998</td>\n",
       "    </tr>\n",
       "    <tr>\n",
       "      <th>999</th>\n",
       "      <td>0.841445</td>\n",
       "      <td>0.650054</td>\n",
       "      <td>0.946897</td>\n",
       "      <td>0.464037</td>\n",
       "      <td>0.927288</td>\n",
       "      <td>0.798475</td>\n",
       "      <td>999</td>\n",
       "    </tr>\n",
       "    <tr>\n",
       "      <th>1000</th>\n",
       "      <td>0.843470</td>\n",
       "      <td>0.656284</td>\n",
       "      <td>0.946251</td>\n",
       "      <td>0.465701</td>\n",
       "      <td>0.926931</td>\n",
       "      <td>0.801267</td>\n",
       "      <td>1000</td>\n",
       "    </tr>\n",
       "  </tbody>\n",
       "</table>\n",
       "<p>1001 rows × 7 columns</p>\n",
       "</div>"
      ],
      "text/plain": [
       "           AUC      Sens      Spec  Precision  Accuracy  Balanced_Acc    CV\n",
       "0     0.845175  0.656608  0.944205   0.464996  0.924426      0.800407     0\n",
       "1     0.840464  0.631463  0.945729   0.447389  0.925284      0.788596     1\n",
       "2     0.843917  0.647716  0.943486   0.465015  0.922637      0.795601     2\n",
       "3     0.840863  0.646377  0.946978   0.493727  0.924712      0.796677     3\n",
       "4     0.843228  0.646444  0.944688   0.461883  0.924283      0.795566     4\n",
       "...        ...       ...       ...        ...       ...           ...   ...\n",
       "996   0.839753  0.654255  0.945446   0.463801  0.925857      0.799851   996\n",
       "997   0.844460  0.665635  0.943863   0.469091  0.924569      0.804749   997\n",
       "998   0.851004  0.654088  0.943928   0.460857  0.924139      0.799008   998\n",
       "999   0.841445  0.650054  0.946897   0.464037  0.927288      0.798475   999\n",
       "1000  0.843470  0.656284  0.946251   0.465701  0.926931      0.801267  1000\n",
       "\n",
       "[1001 rows x 7 columns]"
      ]
     },
     "execution_count": 51,
     "metadata": {},
     "output_type": "execute_result"
    }
   ],
   "source": [
    "BDQ_results"
   ]
  },
  {
   "cell_type": "code",
   "execution_count": null,
   "id": "c2791789-9309-4601-a81d-f40e04598f2c",
   "metadata": {},
   "outputs": [],
   "source": []
  },
  {
   "cell_type": "code",
   "execution_count": 8,
   "id": "0f48b7d3-24a7-4d7f-aef8-b9c0126277ba",
   "metadata": {},
   "outputs": [],
   "source": [
    "# drug = \"Moxifloxacin\"\n",
    "# MXF_results, MXF_HET_results = plot_everything_check_significance(drug, variable_lst=[\"Sensitivity\", \"Specificity\", \"AUC\", \"Balanced Accuracy\"])#saveName_DROP=\"results/TBScience/BDQ_no_HETs.png\", saveName_HET=\"results/TBScience/BDQ_with_HETs.png\")"
   ]
  },
  {
   "cell_type": "markdown",
   "id": "a1a4768d-fc40-4f69-a1c1-1fd8aa8b7448",
   "metadata": {},
   "source": [
    "# Plot Statistics for a Single Model for all Drugs"
   ]
  },
  {
   "cell_type": "code",
   "execution_count": 46,
   "id": "f3647d80-2316-4787-94a4-98cbdde55229",
   "metadata": {},
   "outputs": [],
   "source": [
    "def plot_single_model_all_drugs(paths_lst, \n",
    "                                hue_variable,\n",
    "                                variable_lst, \n",
    "                                x_order=[\"Levofloxacin\", \"Moxifloxacin\", \"Bedaquiline\", \"Clofazimine\", \"Linezolid\", \"Delamanid\", \"Pretomanid\"],\n",
    "                                bootstrap=False, errorbar=None, include_het=False, palette=\"muted\", sigfig=1, saveName=None\n",
    "                               ):\n",
    "        \n",
    "    if include_het:\n",
    "        model_prefix = \"_HET\"\n",
    "        title_str = \" +HET\"\n",
    "    else:\n",
    "        model_prefix = \"\"\n",
    "        title_str = \" -HET\"\n",
    "            \n",
    "    if bootstrap:\n",
    "        model_prefix += \"_bootstrap\"\n",
    "\n",
    "    concat_models = []\n",
    "    for drug in x_order:\n",
    "        \n",
    "        for path in paths_lst:\n",
    "            \n",
    "            full_path = os.path.join(analysis_dir, drug, \"BINARY\", path, f\"model_stats_CV{model_prefix}.csv\")\n",
    "            tier1_path = os.path.join(analysis_dir, drug, \"BINARY\", path.replace(\"1+2\", \"1\"), f\"model_stats_CV{model_prefix}.csv\")\n",
    "\n",
    "            if os.path.isfile(full_path):\n",
    "                df = pd.read_csv(full_path)\n",
    "                print(f\"Tiers 1+2 for {drug}\")\n",
    "            elif os.path.isfile(tier1_path):\n",
    "                df = pd.read_csv(tier1_path)\n",
    "                print(f\"Tier 1 for {drug}\")\n",
    "            else:\n",
    "                df = pd.DataFrame({\"AUC\": 0, \"Sens\": 0, \"Spec\": 0, \"Precision\": 0, \"Accuracy\": 0, \"Balanced_Acc\": 0}, index=[0])\n",
    "                print(f\"No results for {drug}\")\n",
    "            \n",
    "            df[\"Drug\"] = drug\n",
    "            df[\"F1\"] = 2 / ((1 / df[\"Precision\"]) + (1 / df[\"Sens\"]))\n",
    "            \n",
    "            if len(paths_lst) > 1:\n",
    "                df[\"Model\"] = path_name_dict[path]\n",
    "\n",
    "            concat_models.append(df)\n",
    "            \n",
    "    df_plot = pd.concat(concat_models, axis=0)\n",
    "    \n",
    "    if len(paths_lst) > 1:\n",
    "        df_plot = df_plot.melt(id_vars=[\"Drug\", \"Model\"])\n",
    "    else:\n",
    "        df_plot = df_plot.melt(id_vars=[\"Drug\"])\n",
    "\n",
    "    df_plot[\"variable\"] = df_plot[\"variable\"].replace(\"Sens\", \"Sensitivity\").replace(\"Spec\", \"Specificity\").replace(\"Balanced_Acc\", \"Balanced Accuracy\")\n",
    "    df_plot = df_plot.query(\"variable in @variable_lst\")#.query(\"CV > 0\")\n",
    "    df_plot[\"value\"] *= 100\n",
    "    \n",
    "    x_order = [drug for drug in x_order if drug in df_plot[\"Drug\"].values]\n",
    "    plot_width = 1.5 * len(df_plot[\"Drug\"].unique())\n",
    "\n",
    "    fig, ax = plt.subplots(figsize=(plot_width, 4.5))\n",
    "    sns.barplot(data=df_plot,\n",
    "                x=\"Drug\",\n",
    "                y=\"value\",\n",
    "                hue=hue_variable,\n",
    "                edgecolor=\"black\",\n",
    "                linewidth=0.5,\n",
    "                hue_order=variable_lst,\n",
    "                order=x_order,\n",
    "                errorbar=errorbar,\n",
    "                errwidth=0.75,\n",
    "                capsize=0,\n",
    "                palette=palette,\n",
    "                ax=ax\n",
    "                )\n",
    "\n",
    "    for i, line in enumerate(ax.get_lines()):\n",
    "        line.set_color(\"black\")\n",
    "    \n",
    "    # label_loc = 'center'\n",
    "\n",
    "    # for cont in ax.containers:\n",
    "    #     if sigfig == 0:\n",
    "    #         labels = [int(np.rint(val)) if val > 0 else \"\" for val in cont.datavalues] \n",
    "    #         font_size = \"9\"\n",
    "    #     else:\n",
    "    #         labels = [np.round(val, sigfig) if val > 0 else \"\" for val in cont.datavalues]    \n",
    "    #         font_size = \"7\"\n",
    "            \n",
    "    #     ax.bar_label(cont, labels=labels, label_type=label_loc, fontsize=font_size)\n",
    "\n",
    "    plt.ylim(0, 101)\n",
    "                                   \n",
    "    # # Duplicate the y-axis\n",
    "    # ax2 = ax.twinx()\n",
    "    \n",
    "    # # Set the limits of the duplicated y-axis to be the same as the original y-axis\n",
    "    # ax2.set_ylim(ax.get_ylim())\n",
    "    \n",
    "    # # Remove the ticks and labels from the duplicated y-axis\n",
    "    # ax2.set_yticks(ticks=ax.get_yticks(), labels=ax.get_yticklabels())\n",
    "    \n",
    "    # plt.title(f\"{path}, {title_str}\\n\")\n",
    "    plt.xlabel(\"\")\n",
    "    plt.ylabel(\"\")\n",
    "    # plt.legend(loc=\"upper right\", fontsize=8)\n",
    "\n",
    "    sns.move_legend(ax, fontsize=8, title='', loc='upper right', #bbox_to_anchor=(1.12, 0.6)\n",
    "                    ncol=len(df_plot[\"variable\"].unique()), bbox_to_anchor=(0.7, -0.3)\n",
    "                   )\n",
    "    sns.despine()\n",
    "    plt.tight_layout()\n",
    "    \n",
    "    if saveName is None:\n",
    "        plt.show()\n",
    "    else:\n",
    "        if not os.path.isdir(os.path.dirname(saveName)):\n",
    "            os.makedirs(os.path.dirname(saveName))\n",
    "        plt.savefig(saveName, dpi=300)\n",
    "        \n",
    "    return df_plot"
   ]
  },
  {
   "cell_type": "code",
   "execution_count": 48,
   "id": "03a49fc8-ddc3-4126-b9dc-a43aa7180c51",
   "metadata": {},
   "outputs": [
    {
     "name": "stdout",
     "output_type": "stream",
     "text": [
      "Tiers 1+2 for Levofloxacin\n",
      "Tiers 1+2 for Moxifloxacin\n",
      "Tiers 1+2 for Bedaquiline\n",
      "Tiers 1+2 for Clofazimine\n",
      "Tiers 1+2 for Linezolid\n",
      "Tiers 1+2 for Delamanid\n",
      "Tier 1 for Pretomanid\n"
     ]
    },
    {
     "data": {
      "image/png": "[encoded data removed]",
      "text/plain": [
       "<Figure size 1575x675 with 1 Axes>"
      ]
     },
     "metadata": {},
     "output_type": "display_data"
    }
   ],
   "source": [
    "paths_lst = ['tiers=1+2/phenos=ALL']\n",
    "\n",
    "tier1_ALL_results = plot_single_model_all_drugs(paths_lst, \n",
    "                                                hue_variable=\"variable\",\n",
    "                                                variable_lst=[\"Sensitivity\", \"Specificity\", \"AUC\", \"Balanced Accuracy\"], \n",
    "                                                x_order=[\"Levofloxacin\", \"Moxifloxacin\", \"Bedaquiline\", \"Clofazimine\", \"Linezolid\", \"Delamanid\", \"Pretomanid\"],\n",
    "                                                sigfig=0,\n",
    "                                                bootstrap=True, errorbar=(\"pi\", 95), include_het=False, palette=sns.color_palette(\"Set2\").as_hex()[:3] + [sns.color_palette(\"Set2\").as_hex()[-1]], \n",
    "                                                saveName=\"results/TBScience/binary_metrics_ALL_no_labels.png\"\n",
    "                                               )"
   ]
  },
  {
   "cell_type": "code",
   "execution_count": 42,
   "id": "8d0043b2-036a-44f2-9881-c167cc2c72ab",
   "metadata": {},
   "outputs": [],
   "source": [
    "drug = \"Moxifloxacin\"\n",
    "test = pd.read_csv(f\"/n/data1/hms/dbmi/farhat/Sanjana/who-mutation-catalogue/{drug}/BINARY/tiers=1/phenos=ALL/model_stats_CV_bootstrap.csv\")"
   ]
  },
  {
   "cell_type": "code",
   "execution_count": 43,
   "id": "4b318d73-312b-43cc-af27-b23d6a385c15",
   "metadata": {},
   "outputs": [
    {
     "name": "stdout",
     "output_type": "stream",
     "text": [
      "AUC NormaltestResult(statistic=15.417061163545391, pvalue=0.00044898073312713525)\n",
      "Balanced_Acc NormaltestResult(statistic=14.399169779511409, pvalue=0.0007468957881274159)\n"
     ]
    }
   ],
   "source": [
    "for col in test.columns:\n",
    "    \n",
    "    if col in [\"AUC\", \"Balanced_Acc\"]:\n",
    "        print(col, st.normaltest(test.query(\"CV > 0\")[col]))"
   ]
  },
  {
   "cell_type": "code",
   "execution_count": 45,
   "id": "7d0d45e0-383e-49e6-8ac3-76b0df2cf6d0",
   "metadata": {},
   "outputs": [
    {
     "data": {
      "text/plain": [
       "(array([ 1.,  0.,  0.,  4., 10., 19., 32., 24.,  7.,  4.]),\n",
       " array([0.92825031, 0.92998017, 0.93171003, 0.93343989, 0.93516975,\n",
       "        0.93689961, 0.93862948, 0.94035934, 0.9420892 , 0.94381906,\n",
       "        0.94554892]),\n",
       " <BarContainer object of 10 artists>)"
      ]
     },
     "execution_count": 45,
     "metadata": {},
     "output_type": "execute_result"
    },
    {
     "data": {
      "image/png": "[encoded data removed]",
      "text/plain": [
       "<Figure size 960x720 with 1 Axes>"
      ]
     },
     "metadata": {},
     "output_type": "display_data"
    }
   ],
   "source": [
    "plt.hist(test[\"AUC\"])"
   ]
  },
  {
   "cell_type": "code",
   "execution_count": null,
   "id": "c39bf412-72f4-4f78-a901-5d6f38b0822f",
   "metadata": {},
   "outputs": [],
   "source": []
  },
  {
   "cell_type": "markdown",
   "id": "17cc7997-1074-460f-879b-573925b555a0",
   "metadata": {},
   "source": [
    "PTM: No Tier 2 genes\n",
    "DLM: No significant WHO?\n",
    "BDQ/MXF/LEV/CFZ: AUC+\n",
    "BDQ/CFZ: Spec+\n",
    "MXF/LEV: Sens+ and Spec-\n",
    "BDQ: Sens-\n",
    "LZD: No significant Tier 2 mutations"
   ]
  },
  {
   "cell_type": "code",
   "execution_count": null,
   "id": "3c47f17e-7689-4d36-8416-44e97de84cdc",
   "metadata": {},
   "outputs": [],
   "source": [
    "#sns.histplot(data=LEV_results.query(\"variable=='Specificity' & Model.str.contains('ALL')\"), x=\"value\", hue=\"Model\")"
   ]
  }
 ],
 "metadata": {
  "kernelspec": {
   "display_name": "Python 3 (ipykernel)",
   "language": "python",
   "name": "python3"
  },
  "language_info": {
   "codemirror_mode": {
    "name": "ipython",
    "version": 3
   },
   "file_extension": ".py",
   "mimetype": "text/x-python",
   "name": "python",
   "nbconvert_exporter": "python",
   "pygments_lexer": "ipython3",
   "version": "3.9.16"
  }
 },
 "nbformat": 4,
 "nbformat_minor": 5
}
