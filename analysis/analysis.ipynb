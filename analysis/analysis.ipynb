{
 "cells": [
  {
   "cell_type": "code",
   "execution_count": 26,
   "id": "a4647438-032f-45bc-acab-e16b6955dbc6",
   "metadata": {},
   "outputs": [],
   "source": [
    "import numpy as np\n",
    "import pandas as pd\n",
    "import matplotlib.pyplot as plt\n",
    "plt.rcParams['figure.dpi'] = 125\n",
    "import seaborn as sns\n",
    "from Bio import SeqIO, Seq\n",
    "import scipy.stats as st\n",
    "import sklearn\n",
    "from sklearn.preprocessing import StandardScaler\n",
    "from sklearn.linear_model import LogisticRegression, LogisticRegressionCV\n",
    "import glob, os, yaml, subprocess, itertools, sparse\n",
    "\n",
    "who_variants_combined = pd.read_csv(\"who_confidence_2021.csv\")\n",
    "\n",
    "# pd.set_option('display.float_format', lambda x: '%.4f' % x)\n",
    "samples_summary = pd.read_csv(\"../data/samples_summary.csv\")\n",
    "analysis_dir = '/n/data1/hms/dbmi/farhat/Sanjana/who-mutation-catalogue'\n",
    "\n",
    "import warnings\n",
    "warnings.filterwarnings(action='ignore')"
   ]
  },
  {
   "cell_type": "markdown",
   "id": "8953767f-ee63-4a83-8a93-ae161544528f",
   "metadata": {},
   "source": [
    "# Write Final Dataframes for the Binary Analysis to an Excel File\n",
    "\n",
    "Each drug will have a separate Excel file. Each file will have 16 sheets, one for each model.\n",
    "\n",
    "For INH, surprising that hadA variants are found with high associations. Might be homoplastic!\n",
    "For PZA, surprising that clpC1_c.2302T>C co-occurs with pncA_p.His57Asp"
   ]
  },
  {
   "cell_type": "code",
   "execution_count": 102,
   "id": "bcbcca0a-cb11-4f41-86e6-fa459f7dcd95",
   "metadata": {},
   "outputs": [],
   "source": [
    "finished_drugs = [\"Delamanid\", \"Bedaquiline\", \"Clofazimine\", \"Ethionamide\", \"Linezolid\",\n",
    "                  \"Moxifloxacin\", \"Capreomycin\", \"Amikacin\", \"Pyrazinamide\", \"Kanamycin\", \"Levofloxacin\",\n",
    "                  \"Streptomycin\", \"Ethambutol\", \"Isoniazid\", \"Rifampicin\", \n",
    "                 ]\n",
    "\n",
    "drug_abbr_dict = {\"Delamanid\": \"DLM\",\n",
    "                  \"Bedaquiline\": \"BDQ\",\n",
    "                  \"Clofazimine\": \"CFZ\",\n",
    "                  \"Ethionamide\": \"ETH\",\n",
    "                  \"Linezolid\": \"LZD\",\n",
    "                  \"Moxifloxacin\": \"MXF\",\n",
    "                  \"Capreomycin\": \"CAP\",\n",
    "                  \"Amikacin\": \"AMI\",\n",
    "                  \"Pyrazinamide\": \"PZA\",\n",
    "                  \"Kanamycin\": \"KAN\",\n",
    "                  \"Levofloxacin\": \"LEV\",\n",
    "                  \"Streptomycin\": \"STM\",\n",
    "                  \"Ethambutol\": \"EMB\",\n",
    "                  \"Isoniazid\": \"INH\",\n",
    "                  \"Rifampicin\": \"RIF\"\n",
    "                 }"
   ]
  },
  {
   "cell_type": "code",
   "execution_count": 31,
   "id": "0352ff86-bf7a-4a4e-b4d4-a2046c6adac1",
   "metadata": {},
   "outputs": [],
   "source": [
    "analysis_paths = [\"tiers=1/phenos=WHO/dropAF_noSyn\",\n",
    "                  \"tiers=1/phenos=WHO/dropAF_noSyn_unpooled\",\n",
    "                  \"tiers=1/phenos=WHO/dropAF_withSyn\",\n",
    "                  \"tiers=1+2/phenos=WHO/dropAF_noSyn\",\n",
    "                  \"tiers=1+2/phenos=WHO/dropAF_noSyn_unpooled\",\n",
    "                  \"tiers=1+2/phenos=WHO/dropAF_withSyn\",\n",
    "                  \"tiers=1/phenos=ALL/dropAF_noSyn\",\n",
    "                  \"tiers=1/phenos=ALL/dropAF_noSyn_unpooled\",\n",
    "                  \"tiers=1/phenos=ALL/dropAF_withSyn\",\n",
    "                  \"tiers=1+2/phenos=ALL/dropAF_noSyn\",\n",
    "                  \"tiers=1+2/phenos=ALL/dropAF_noSyn_unpooled\",\n",
    "                  \"tiers=1+2/phenos=ALL/dropAF_withSyn\",\n",
    "                  \"tiers=1/phenos=WHO/encodeAF_noSyn\",\n",
    "                  \"tiers=1+2/phenos=WHO/encodeAF_noSyn\",\n",
    "                  \"tiers=1/phenos=ALL/encodeAF_noSyn\",\n",
    "                  \"tiers=1+2/phenos=ALL/encodeAF_noSyn\",\n",
    "]\n",
    "\n",
    "drug_analyses = {}\n",
    "for drug in np.sort(finished_drugs):\n",
    "    \n",
    "    all_analyses = {}\n",
    "    \n",
    "    for i, model_path in enumerate(analysis_paths):\n",
    "        add_analysis = pd.read_csv(os.path.join(analysis_dir, drug, \"BINARY\", model_path, \"model_analysis_with_stats.csv\"))\n",
    "\n",
    "        add_analysis[\"Tier\"] = [2 if \"+2\" in model_path else 1][0]\n",
    "        add_analysis[\"Phenos\"] = [\"ALL\" if \"ALL\" in model_path else \"WHO\"][0]\n",
    "        add_analysis[\"unpooled\"] = int(\"unpooled\" in model_path)\n",
    "        add_analysis[\"synonymous\"] = int(\"withSyn\" in model_path)\n",
    "        add_analysis[\"HET\"] = [\"DROP\" if \"drop\" in model_path else \"AF\"][0]\n",
    "        \n",
    "        # remove principal components\n",
    "        add_analysis = add_analysis.loc[~add_analysis[\"mutation\"].str.contains(\"PC\", case=True)]\n",
    "        \n",
    "        all_analyses[f\"Model_{i+1}\"] = add_analysis\n",
    "    \n",
    "    with pd.ExcelWriter(f\"../results/{drug}.xlsx\") as file:\n",
    "\n",
    "        for key, val in all_analyses.items():\n",
    "            val.to_excel(file, sheet_name=key, index=False)"
   ]
  },
  {
   "cell_type": "markdown",
   "id": "0632463a-6bae-430e-8263-b42d728fac2e",
   "metadata": {},
   "source": [
    "# Analysis Summaries File\n",
    "\n",
    "## Make an Excel file summarizing the results for each drug\n",
    "\n",
    "## Break down results by FDR (Significant), OR > 1, Primary Analysis, PPV ≥ 25%, and True Positive (# with variant and resistant) ≥ 5"
   ]
  },
  {
   "cell_type": "code",
   "execution_count": 103,
   "id": "06bfc758-b8b1-434e-988c-4c64f4cfc657",
   "metadata": {},
   "outputs": [],
   "source": [
    "def generate_summary_data(drug, all_permutations):\n",
    "    \n",
    "    # read in Excel file with all the sheets \n",
    "    df = pd.read_excel(f\"../results/{drug}.xlsx\", sheet_name=None)\n",
    "    \n",
    "    # combine sheets into a single dataframe and keep only the first instance of every mutation\n",
    "    df = pd.concat(list(df.values())).drop_duplicates(\"mutation\", keep=\"first\")\n",
    "\n",
    "    # # annotation for primary vs. secondary analysis\n",
    "    # df.loc[(df[\"Tier\"] == 1) & \n",
    "    #        (df[\"Phenos\"] == 'WHO') & \n",
    "    #        (df[\"unpooled\"] == 0) & \n",
    "    #        (df[\"synonymous\"] == 0) &\n",
    "    #        (df[\"HET\"] == 'DROP'), \"Primary_Analysis\"\n",
    "    #        ] = 1\n",
    "\n",
    "    # OR > 1 or OR < 1 --> associated with resistance or susceptibility\n",
    "    df[\"OR>1\"] = (df[\"Odds_Ratio\"] > 1).astype(int)\n",
    "\n",
    "    # annotation for primary vs. secondary analysis\n",
    "    df.loc[(df[\"TP\"] >= 5) & \n",
    "           (df[\"PPV_LB\"] >= 0.25) & \n",
    "           (df[\"Odds_Ratio\"] > 1) & \n",
    "           (df[\"Significant\"] == 1), \"Expert_PASS\"\n",
    "           ] = 1\n",
    "\n",
    "    df[[\"Expert_PASS\"]] = df[[\"Expert_PASS\"]].fillna(0).astype(int)\n",
    "\n",
    "    summary_cols = [\"Expert_PASS\", \"Significant\", \"OR>1\", \"Tier\", \"Phenos\", \"synonymous\", \"unpooled\"]\n",
    "\n",
    "    summary = pd.DataFrame(df[summary_cols].value_counts()).reset_index().rename(columns={0:\"Count\"})\n",
    "    summary = summary[[\"Count\"] + summary_cols].sort_values(by=summary_cols, ascending=[False, False, False, True, False, True, True])\n",
    "                \n",
    "    return summary.rename(columns={\"Tier\": \"Gene_Tier\", \"unpooled\": \"unpooled_LOF_inframe\"})"
   ]
  },
  {
   "cell_type": "code",
   "execution_count": 104,
   "id": "58b17541-a806-4edd-95e4-3bda914128b2",
   "metadata": {},
   "outputs": [
    {
     "name": "stdout",
     "output_type": "stream",
     "text": [
      "Finished Amikacin!\n",
      "Finished Bedaquiline!\n",
      "Finished Capreomycin!\n",
      "Finished Clofazimine!\n",
      "Finished Delamanid!\n",
      "Finished Ethambutol!\n",
      "Finished Ethionamide!\n",
      "Finished Isoniazid!\n",
      "Finished Kanamycin!\n",
      "Finished Levofloxacin!\n",
      "Finished Linezolid!\n",
      "Finished Moxifloxacin!\n",
      "Finished Pyrazinamide!\n",
      "Finished Rifampicin!\n",
      "Finished Streptomycin!\n"
     ]
    }
   ],
   "source": [
    "analysis_summaries = {}\n",
    "\n",
    "for drug in np.sort(finished_drugs):\n",
    "    analysis_summaries[drug] = generate_summary_data(drug, all_permutations)\n",
    "    print(f\"Finished {drug}!\")\n",
    "    \n",
    "# write results to an Excel file, where each sheet name is a drug\n",
    "with pd.ExcelWriter(\"../results/ALLDrugs_summaries.xlsx\") as file:\n",
    "   \n",
    "    for key, val in analysis_summaries.items():\n",
    "        val.to_excel(file, sheet_name=key, index=False)"
   ]
  },
  {
   "cell_type": "markdown",
   "id": "87ad4f67-af81-44fa-b21a-79d0e5b33f40",
   "metadata": {},
   "source": [
    "# Volcano Plots"
   ]
  },
  {
   "cell_type": "code",
   "execution_count": null,
   "id": "f15ac787-36ec-4624-a64b-c5ad99657c51",
   "metadata": {},
   "outputs": [],
   "source": [
    "def volcano_plot(df, drug, plot_x=\"log-OR\", plot_y=\"log_neg_log_pval\", pval_col=\"BH_pval\", color_col=\"Significant\", or_thresh=0, saveFig=None):\n",
    "    '''\n",
    "    This function generates a volcano scatterplot of p-values against odds ratios to visualize the results for each drug. \n",
    "    \n",
    "    It generates 2 plots for each drug: one for the primary analyses and another for the additional variants picked up by the secondary analyses. Separating them makes the secondary results\n",
    "    easier to see because the effect sizes for those are much smaller, and they can get obscured by the primary analysis results. \n",
    "    \n",
    "    Arguments:\n",
    "    \n",
    "        df = dataframe of results\n",
    "        plot_x = column in df to plot as the x variable\n",
    "        plot_y = column in df to plot as the y variable\n",
    "        pval_col = p-value column to plot (i.e. p-value, Bonferroni, or Benjamini-Hochberg)\n",
    "        drug = drug name for plotting\n",
    "        color_col = column in df to color point by. Default is Significant\n",
    "        or_thresh = to clean up the plot, you can exclude some mutations with very small effect sizes. or_thresh should be a value in [0, ∞). i.e. a threshold of 0.01 will\n",
    "                    exclude variants with odds ratios in [0.99, 1.01]\n",
    "        save_fig = file name to save plot to. If it is None, the plot is rendered in the notebook.\n",
    "        \n",
    "    Primary analysis: Tier = 1, Phenos = WHO, unpooled = False, synonymous = False, HET mutations = DROP\n",
    "    \n",
    "    The function computes the log odds ratio, negative logarithm of p-values, and the logarithm of the negative log of p-values. All of these can be plotted. \n",
    "    \n",
    "    '''\n",
    "    plot_df = df.copy()\n",
    "    lower, upper = 1 - or_thresh, 1 + or_thresh\n",
    "    plot_df = plot_df.query(\"Odds_Ratio < @lower | Odds_Ratio > @upper\")\n",
    "    \n",
    "    if or_thresh > 0:\n",
    "        print(f\"Excluded {len(df) - len(plot_df)} variants from plotting\")\n",
    "    \n",
    "    if plot_df[pval_col].min() == 0:\n",
    "        second_smallest = np.sort(np.unique(plot_df[pval_col]))[1]\n",
    "        plot_df[pval_col] += second_smallest\n",
    "        \n",
    "    plot_df[\"neg_log_pval\"] = -np.log(plot_df[pval_col])\n",
    "    plot_df[\"log_neg_log_pval\"] = np.log(plot_df[\"neg_log_pval\"])\n",
    "    plot_df[\"log-OR\"] = np.log(plot_df[\"Odds_Ratio\"])\n",
    "    plot_df.loc[(plot_df[\"Tier\"]==1) & \n",
    "                (plot_df[\"Phenos\"]=='WHO') & \n",
    "                (plot_df[\"unpooled\"]==0) & \n",
    "                (plot_df[\"synonymous\"]==0) & \n",
    "                (plot_df[\"HET\"]=='DROP'), \n",
    "                \"Analysis\"] = \"Primary\"\n",
    "    plot_df[\"Analysis\"] = plot_df[\"Analysis\"].fillna(\"Secondary\")\n",
    "        \n",
    "    fig, ax = plt.subplots(1, 2, figsize=(12, 4))\n",
    "    sns.scatterplot(data=plot_df.query(\"Analysis=='Primary'\"), \n",
    "                    x=plot_x, \n",
    "                    y=plot_y, \n",
    "                    alpha=0.8,\n",
    "                    hue=\"Significant\", \n",
    "                    linewidth=0.25,\n",
    "                    edgecolor='white',\n",
    "                    s=30,\n",
    "                    palette={1:sns.color_palette(\"tab10\").as_hex()[0], 0:\"lightgray\"},\n",
    "                    #palette={\"Primary\": sns.color_palette(\"Set2\").as_hex()[2], \"Secondary\": sns.color_palette(\"Set2\").as_hex()[1]},\n",
    "                    ax=ax[0]\n",
    "                   )\n",
    "    sns.scatterplot(data=plot_df.query(\"Analysis=='Secondary'\"), \n",
    "                    x=plot_x, \n",
    "                    y=plot_y, \n",
    "                    alpha=0.8,\n",
    "                    hue=\"Significant\",\n",
    "                    linewidth=0.25,\n",
    "                    edgecolor='white',\n",
    "                    s=30,\n",
    "                    palette={1:sns.color_palette(\"tab10\").as_hex()[0], 0:\"lightgray\"},\n",
    "                    #palette={\"Primary\": sns.color_palette(\"Set2\").as_hex()[2], \"Secondary\": sns.color_palette(\"Set2\").as_hex()[1]},\n",
    "                    ax=ax[1]\n",
    "                   )\n",
    "    \n",
    "    if plot_x[:3] == 'log':\n",
    "        center = 0\n",
    "    else:\n",
    "        center = 1\n",
    "      \n",
    "    for axis in ax:\n",
    "        if plot_y[:3] == 'log':\n",
    "            axis.set_ylabel(\"Log(-Log(p-value))\")\n",
    "        else:\n",
    "            axis.set_ylabel(\"-Log(p-value)\")\n",
    "\n",
    "    bound_0 = np.max(np.abs(plot_df.query(\"Analysis=='Primary'\")[plot_x] - center))*1.1\n",
    "    bound_1 = np.max(np.abs(plot_df.query(\"Analysis=='Secondary'\")[plot_x] - center))*1.1\n",
    "        \n",
    "    for axis in ax:\n",
    "        axis.set_xlabel(\"Regression Log-Odds\")\n",
    "        axis.legend().set_visible(False)\n",
    "        \n",
    "    ax[0].set_title(f\"Primary Analysis Results for {drug}\")\n",
    "    ax[0].set_xlim(center - bound_0, center + bound_0)\n",
    "    \n",
    "    ax[1].set_title(f\"Secondary Analysis Results for {drug}\")\n",
    "    ax[1].set_xlim(center - bound_1, center + bound_1)\n",
    "\n",
    "    sns.despine()\n",
    "    \n",
    "    if saveFig is not None:\n",
    "        plt.savefig(saveFig, dpi=300, bbox_inches=\"tight\")\n",
    "    else:\n",
    "        plt.show()\n",
    "        \n",
    "    return plot_df"
   ]
  },
  {
   "cell_type": "code",
   "execution_count": null,
   "id": "107e5c52-9f7f-4624-b45a-4766798fb0f2",
   "metadata": {},
   "outputs": [],
   "source": [
    "for drug in finished_drugs:\n",
    "    _ = volcano_plot(drug_analyses[drug], drug, \"log-OR\", \"log_neg_log_pval\", \"BH_pval\", \"Analysis\", 0, saveFig=f\"../results/{drug}_volcano.png\")"
   ]
  },
  {
   "cell_type": "code",
   "execution_count": null,
   "id": "4203f5b0-ed7c-4c16-abb6-0585021e99e1",
   "metadata": {},
   "outputs": [],
   "source": []
  },
  {
   "cell_type": "code",
   "execution_count": null,
   "id": "9fb1006f-f10b-4fba-b923-8141279ebc65",
   "metadata": {},
   "outputs": [],
   "source": []
  },
  {
   "cell_type": "code",
   "execution_count": null,
   "id": "a273d495-f36f-4d2a-be94-4dc81553a0c3",
   "metadata": {},
   "outputs": [],
   "source": []
  },
  {
   "cell_type": "markdown",
   "id": "b110c6fe-07ae-48ac-9658-3cdd9eee7fcc",
   "metadata": {},
   "source": [
    "# CC vs. CC-ATU Analyses\n",
    "\n",
    "## This section is not finalized yet"
   ]
  },
  {
   "cell_type": "code",
   "execution_count": 7,
   "id": "c5b6f805-2245-4371-aa53-6f02f73a304b",
   "metadata": {},
   "outputs": [
    {
     "data": {
      "text/plain": [
       "(454, 11)"
      ]
     },
     "execution_count": 7,
     "metadata": {},
     "output_type": "execute_result"
    }
   ],
   "source": [
    "out_dir = \"/n/data1/hms/dbmi/farhat/Sanjana/who-mutation-catalogue/Delamanid/ATU/tiers=1/dropAF_noSyn\"\n",
    "\n",
    "cc_analysis = pd.read_csv(os.path.join(out_dir, \"model_analysis_CC.csv\"))\n",
    "cc_atu_analysis = pd.read_csv(os.path.join(out_dir, \"model_analysis_CC_ATU.csv\"))\n",
    "cc_analysis.shape"
   ]
  },
  {
   "cell_type": "code",
   "execution_count": 10,
   "id": "140b3528-d318-44d9-a729-249fdeca6cce",
   "metadata": {},
   "outputs": [
    {
     "data": {
      "text/html": [
       "<div>\n",
       "<style scoped>\n",
       "    .dataframe tbody tr th:only-of-type {\n",
       "        vertical-align: middle;\n",
       "    }\n",
       "\n",
       "    .dataframe tbody tr th {\n",
       "        vertical-align: top;\n",
       "    }\n",
       "\n",
       "    .dataframe thead th {\n",
       "        text-align: right;\n",
       "    }\n",
       "</style>\n",
       "<table border=\"1\" class=\"dataframe\">\n",
       "  <thead>\n",
       "    <tr style=\"text-align: right;\">\n",
       "      <th></th>\n",
       "      <th>mutation</th>\n",
       "      <th>coef</th>\n",
       "      <th>coef_LB</th>\n",
       "      <th>coef_UB</th>\n",
       "      <th>pval</th>\n",
       "      <th>BH_pval</th>\n",
       "      <th>Bonferroni_pval</th>\n",
       "      <th>Odds_Ratio</th>\n",
       "      <th>OR_LB</th>\n",
       "      <th>OR_UB</th>\n",
       "      <th>confidence</th>\n",
       "    </tr>\n",
       "  </thead>\n",
       "  <tbody>\n",
       "    <tr>\n",
       "      <th>0</th>\n",
       "      <td>PC0</td>\n",
       "      <td>0.270883</td>\n",
       "      <td>0.107039</td>\n",
       "      <td>0.448694</td>\n",
       "      <td>0.000940</td>\n",
       "      <td>0.005333</td>\n",
       "      <td>0.426666</td>\n",
       "      <td>1.311122</td>\n",
       "      <td>1.112977</td>\n",
       "      <td>1.566265</td>\n",
       "      <td>NaN</td>\n",
       "    </tr>\n",
       "    <tr>\n",
       "      <th>1</th>\n",
       "      <td>PC4</td>\n",
       "      <td>0.254505</td>\n",
       "      <td>0.080691</td>\n",
       "      <td>0.419788</td>\n",
       "      <td>0.001351</td>\n",
       "      <td>0.007573</td>\n",
       "      <td>0.613431</td>\n",
       "      <td>1.289823</td>\n",
       "      <td>1.084036</td>\n",
       "      <td>1.521640</td>\n",
       "      <td>NaN</td>\n",
       "    </tr>\n",
       "    <tr>\n",
       "      <th>5</th>\n",
       "      <td>PC1</td>\n",
       "      <td>0.151696</td>\n",
       "      <td>-0.050061</td>\n",
       "      <td>0.287617</td>\n",
       "      <td>0.036386</td>\n",
       "      <td>0.042249</td>\n",
       "      <td>1.000000</td>\n",
       "      <td>1.163806</td>\n",
       "      <td>0.951172</td>\n",
       "      <td>1.333246</td>\n",
       "      <td>NaN</td>\n",
       "    </tr>\n",
       "    <tr>\n",
       "      <th>453</th>\n",
       "      <td>PC3</td>\n",
       "      <td>-0.267010</td>\n",
       "      <td>-0.440578</td>\n",
       "      <td>-0.094574</td>\n",
       "      <td>0.001510</td>\n",
       "      <td>0.008258</td>\n",
       "      <td>0.685430</td>\n",
       "      <td>0.765666</td>\n",
       "      <td>0.643665</td>\n",
       "      <td>0.909760</td>\n",
       "      <td>NaN</td>\n",
       "    </tr>\n",
       "  </tbody>\n",
       "</table>\n",
       "</div>"
      ],
      "text/plain": [
       "    mutation      coef   coef_LB   coef_UB      pval   BH_pval  \\\n",
       "0        PC0  0.270883  0.107039  0.448694  0.000940  0.005333   \n",
       "1        PC4  0.254505  0.080691  0.419788  0.001351  0.007573   \n",
       "5        PC1  0.151696 -0.050061  0.287617  0.036386  0.042249   \n",
       "453      PC3 -0.267010 -0.440578 -0.094574  0.001510  0.008258   \n",
       "\n",
       "     Bonferroni_pval  Odds_Ratio     OR_LB     OR_UB confidence  \n",
       "0           0.426666    1.311122  1.112977  1.566265        NaN  \n",
       "1           0.613431    1.289823  1.084036  1.521640        NaN  \n",
       "5           1.000000    1.163806  0.951172  1.333246        NaN  \n",
       "453         0.685430    0.765666  0.643665  0.909760        NaN  "
      ]
     },
     "execution_count": 10,
     "metadata": {},
     "output_type": "execute_result"
    }
   ],
   "source": [
    "cc_analysis.query(\"BH_pval < 0.05\").loc[cc_analysis[\"mutation\"].str.contains(\"PC\")]"
   ]
  },
  {
   "cell_type": "code",
   "execution_count": 18,
   "id": "80db088a-babb-4a30-912c-2b5dd1a19e57",
   "metadata": {},
   "outputs": [
    {
     "data": {
      "text/plain": [
       "(63, 11)"
      ]
     },
     "execution_count": 18,
     "metadata": {},
     "output_type": "execute_result"
    }
   ],
   "source": [
    "cc_analysis.query(\"((coef_LB > 0 & coef_UB > 0) | (coef_LB < 0 & coef_UB < 0))\").shape"
   ]
  },
  {
   "cell_type": "code",
   "execution_count": 19,
   "id": "f6508731-6ada-4e62-a00a-fa8833769676",
   "metadata": {},
   "outputs": [
    {
     "data": {
      "text/plain": [
       "(59, 11)"
      ]
     },
     "execution_count": 19,
     "metadata": {},
     "output_type": "execute_result"
    }
   ],
   "source": [
    "cc_atu_analysis.query(\"((coef_LB > 0 & coef_UB > 0) | (coef_LB < 0 & coef_UB < 0))\").shape"
   ]
  },
  {
   "cell_type": "code",
   "execution_count": 21,
   "id": "88579246-0165-4bba-874a-6980a7931f86",
   "metadata": {},
   "outputs": [
    {
     "data": {
      "text/plain": [
       "{'PC1',\n",
       " 'ddn_p.Gly81Ser',\n",
       " 'ddn_p.Tyr65Ser',\n",
       " 'fbiA_p.Arg321Ser',\n",
       " 'fgd1_p.Arg64Ser',\n",
       " 'fgd1_p.Val170Met'}"
      ]
     },
     "execution_count": 21,
     "metadata": {},
     "output_type": "execute_result"
    }
   ],
   "source": [
    "set(cc_atu_analysis.query(\"((coef_LB > 0 & coef_UB > 0) | (coef_LB < 0 & coef_UB < 0))\").mutation) - set(cc_analysis.query(\"((coef_LB > 0 & coef_UB > 0) | (coef_LB < 0 & coef_UB < 0))\").mutation)\n",
    "\n"
   ]
  },
  {
   "cell_type": "code",
   "execution_count": 22,
   "id": "7b632dec-7e69-4511-8f10-f69ef8d884ff",
   "metadata": {},
   "outputs": [
    {
     "data": {
      "text/plain": [
       "{'PC3',\n",
       " 'Rv2983_p.Gly145Arg',\n",
       " 'ddn_p.Gly34Arg',\n",
       " 'fbiA_c.-97A>T',\n",
       " 'fbiB_p.Arg174His',\n",
       " 'fbiB_p.Arg253His',\n",
       " 'fbiB_p.Leu447Arg',\n",
       " 'fbiC_p.Ala333Val',\n",
       " 'fbiC_p.Ser762Asn',\n",
       " 'fbiC_p.Thr273Ala'}"
      ]
     },
     "execution_count": 22,
     "metadata": {},
     "output_type": "execute_result"
    }
   ],
   "source": [
    "set(cc_analysis.query(\"((coef_LB > 0 & coef_UB > 0) | (coef_LB < 0 & coef_UB < 0))\").mutation) - set(cc_atu_analysis.query(\"((coef_LB > 0 & coef_UB > 0) | (coef_LB < 0 & coef_UB < 0))\").mutation)\n"
   ]
  },
  {
   "cell_type": "code",
   "execution_count": 12,
   "id": "f6dc7ee2-34b8-4d8a-ad6d-24f5d51c8d84",
   "metadata": {},
   "outputs": [
    {
     "data": {
      "text/html": [
       "<div>\n",
       "<style scoped>\n",
       "    .dataframe tbody tr th:only-of-type {\n",
       "        vertical-align: middle;\n",
       "    }\n",
       "\n",
       "    .dataframe tbody tr th {\n",
       "        vertical-align: top;\n",
       "    }\n",
       "\n",
       "    .dataframe thead th {\n",
       "        text-align: right;\n",
       "    }\n",
       "</style>\n",
       "<table border=\"1\" class=\"dataframe\">\n",
       "  <thead>\n",
       "    <tr style=\"text-align: right;\">\n",
       "      <th></th>\n",
       "      <th>mutation</th>\n",
       "      <th>coef</th>\n",
       "      <th>coef_LB</th>\n",
       "      <th>coef_UB</th>\n",
       "      <th>pval</th>\n",
       "      <th>BH_pval</th>\n",
       "      <th>Bonferroni_pval</th>\n",
       "      <th>Odds_Ratio</th>\n",
       "      <th>OR_LB</th>\n",
       "      <th>OR_UB</th>\n",
       "      <th>confidence</th>\n",
       "    </tr>\n",
       "  </thead>\n",
       "  <tbody>\n",
       "    <tr>\n",
       "      <th>0</th>\n",
       "      <td>PC4</td>\n",
       "      <td>0.228386</td>\n",
       "      <td>0.158683</td>\n",
       "      <td>0.293854</td>\n",
       "      <td>5.161070e-11</td>\n",
       "      <td>1.952605e-09</td>\n",
       "      <td>2.343126e-08</td>\n",
       "      <td>1.256570</td>\n",
       "      <td>1.171967</td>\n",
       "      <td>1.341588</td>\n",
       "      <td>NaN</td>\n",
       "    </tr>\n",
       "    <tr>\n",
       "      <th>1</th>\n",
       "      <td>PC1</td>\n",
       "      <td>0.144476</td>\n",
       "      <td>0.073678</td>\n",
       "      <td>0.210999</td>\n",
       "      <td>1.748210e-05</td>\n",
       "      <td>2.736853e-04</td>\n",
       "      <td>7.936874e-03</td>\n",
       "      <td>1.155434</td>\n",
       "      <td>1.076460</td>\n",
       "      <td>1.234912</td>\n",
       "      <td>NaN</td>\n",
       "    </tr>\n",
       "  </tbody>\n",
       "</table>\n",
       "</div>"
      ],
      "text/plain": [
       "  mutation      coef   coef_LB   coef_UB          pval       BH_pval  \\\n",
       "0      PC4  0.228386  0.158683  0.293854  5.161070e-11  1.952605e-09   \n",
       "1      PC1  0.144476  0.073678  0.210999  1.748210e-05  2.736853e-04   \n",
       "\n",
       "   Bonferroni_pval  Odds_Ratio     OR_LB     OR_UB confidence  \n",
       "0     2.343126e-08    1.256570  1.171967  1.341588        NaN  \n",
       "1     7.936874e-03    1.155434  1.076460  1.234912        NaN  "
      ]
     },
     "execution_count": 12,
     "metadata": {},
     "output_type": "execute_result"
    }
   ],
   "source": [
    "cc_atu_analysis.query(\"BH_pval < 0.05\").loc[cc_atu_analysis[\"mutation\"].str.contains(\"PC\")]"
   ]
  },
  {
   "cell_type": "markdown",
   "id": "d82f0a83-ed26-4c56-931c-e15e13e6ca9c",
   "metadata": {},
   "source": [
    "# TODO: Get model metrics for every drug, and write them to a single CSV"
   ]
  },
  {
   "cell_type": "code",
   "execution_count": 3,
   "id": "450fa902-f43e-45cf-b6d1-92b2229aca3f",
   "metadata": {},
   "outputs": [],
   "source": [
    "# results_df = pd.DataFrame(columns=[\"Drug\", \"Sensitivity\", \"Sens_Lower\", \"Sens_Upper\", \"Specificity\", \"Spec_Lower\", \"Spec_Upper\", \n",
    "#                                    \"accuracy\", \"accuracy_Lower\", \"accuracy_Upper\", \"AUC\", \"AUC_Lower\", \"AUC_Upper\"]).set_index(\"Drug\")\n",
    "\n",
    "# def get_model_summary(drug, analyses_dict, results_df):\n",
    "    \n",
    "#     var_lst = [\"Sens\", \"Spec\", \"AUC\", \"accuracy\"]\n",
    "#     name_lst = [\"Sensitivity\", \"Specificity\", \"AUC\", \"accuracy\"]\n",
    "#     summary_df = analyses_dict[drug]    \n",
    "    \n",
    "#     # add the actual values\n",
    "#     results_df.loc[drug, name_lst] = summary_df.query(\"BS==0\")[var_lst].values[0]\n",
    "    \n",
    "#     # add the confidence intervals\n",
    "#     for i, variable in enumerate(var_lst):\n",
    "#         lower, upper = np.percentile(summary_df.query(\"BS==1\")[variable], q=[2.5, 97.5])\n",
    "#         results_df.loc[drug, [variable + \"_Lower\", variable + \"_Upper\"]] = [lower, upper]\n",
    "#         assert lower <= results_df.loc[drug, name_lst[i]]\n",
    "#         assert upper >= results_df.loc[drug, name_lst[i]]\n",
    "    \n",
    "#     return results_df"
   ]
  },
  {
   "cell_type": "code",
   "execution_count": 4,
   "id": "882e9016-c83c-49ef-b322-fac25e08ad7e",
   "metadata": {},
   "outputs": [],
   "source": [
    "# analyses_dict = {}\n",
    "# for drug in os.listdir(analysis_dir):\n",
    "    \n",
    "#     if os.path.isfile(os.path.join(analysis_dir, drug, \"core_logReg_summary.csv\")):\n",
    "#         df = pd.read_csv(os.path.join(analysis_dir, drug, \"core_logReg_summary.csv\"))\n",
    "#         if len(df) == 1001:\n",
    "#             analyses_dict[drug] = df\n",
    "            \n",
    "# for drug in list(analyses_dict.keys()):\n",
    "#     results_df = get_model_summary(drug, analyses_dict, results_df)"
   ]
  },
  {
   "cell_type": "code",
   "execution_count": null,
   "id": "9c225d9c-faf1-4141-884c-034c55fa03de",
   "metadata": {},
   "outputs": [],
   "source": []
  }
 ],
 "metadata": {
  "kernelspec": {
   "display_name": "Python 3 (ipykernel)",
   "language": "python",
   "name": "python3"
  },
  "language_info": {
   "codemirror_mode": {
    "name": "ipython",
    "version": 3
   },
   "file_extension": ".py",
   "mimetype": "text/x-python",
   "name": "python",
   "nbconvert_exporter": "python",
   "pygments_lexer": "ipython3",
   "version": "3.9.12"
  }
 },
 "nbformat": 4,
 "nbformat_minor": 5
}
