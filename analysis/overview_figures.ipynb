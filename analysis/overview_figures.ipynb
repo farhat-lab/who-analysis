{
 "cells": [
  {
   "cell_type": "code",
   "execution_count": 1,
   "id": "78f71cca-9186-4795-88c5-c64b390f3722",
   "metadata": {},
   "outputs": [
    {
     "name": "stdout",
     "output_type": "stream",
     "text": [
      "(49113, 7)\n"
     ]
    }
   ],
   "source": [
    "import numpy as np\n",
    "import pandas as pd\n",
    "import matplotlib.pyplot as plt\n",
    "import matplotlib.patches as mpatches\n",
    "plt.rcParams['figure.dpi'] = 150\n",
    "import seaborn as sns\n",
    "import scipy.stats as st\n",
    "import statsmodels\n",
    "import statsmodels.api as sm\n",
    "from functools import reduce\n",
    "\n",
    "import glob, os, yaml, subprocess, itertools, sparse, sys, statsmodels\n",
    "from sklearn.model_selection import train_test_split, KFold, GridSearchCV\n",
    "from sklearn.preprocessing import StandardScaler\n",
    "from sklearn.linear_model import LogisticRegression, LogisticRegressionCV\n",
    "\n",
    "eigenvec_df = pd.read_csv(\"../PCA/eigenvec_100PC.csv\", index_col=[0])\n",
    "who_variants_combined = pd.read_csv(\"who_confidence_2021.csv\")\n",
    "analysis_dir = '/n/data1/hms/dbmi/farhat/Sanjana/who-mutation-catalogue'\n",
    "\n",
    "lineages = pd.read_csv(\"../data/combined_lineages_samples.csv\", low_memory=False).query(\"Sample_ID in @eigenvec_df.index\")\n",
    "print(lineages.shape)\n",
    "import collections, warnings\n",
    "warnings.filterwarnings(\"ignore\")\n",
    "\n",
    "sys.path.append(os.path.join(os.path.dirname(os.getcwd()), \"utils\"))\n",
    "from stats_utils import *\n",
    "\n",
    "coll2014 = pd.read_csv(\"../data/coll2014_SNP_scheme.tsv\", sep=\"\\t\")\n",
    "coll2014[\"#lineage\"] = coll2014[\"#lineage\"].str.replace(\"lineage\", \"\")\n",
    "coll2014.rename(columns={\"#lineage\": \"Lineage\"}, inplace=True)\n",
    "\n",
    "drug_abbr_dict = {\"Delamanid\": \"DLM\",\n",
    "                  \"Bedaquiline\": \"BDQ\",\n",
    "                  \"Clofazimine\": \"CFZ\",\n",
    "                  \"Ethionamide\": \"ETH\",\n",
    "                  \"Linezolid\": \"LZD\",\n",
    "                  \"Moxifloxacin\": \"MXF\",\n",
    "                  \"Capreomycin\": \"CAP\",\n",
    "                  \"Amikacin\": \"AMI\",\n",
    "                  \"Pretomanid\": \"PTM\",\n",
    "                  \"Pyrazinamide\": \"PZA\",\n",
    "                  \"Kanamycin\": \"KAN\",\n",
    "                  \"Levofloxacin\": \"LEV\",\n",
    "                  \"Streptomycin\": \"STM\",\n",
    "                  \"Ethambutol\": \"EMB\",\n",
    "                  \"Isoniazid\": \"INH\",\n",
    "                  \"Rifampicin\": \"RIF\"\n",
    "                 }\n",
    "\n",
    "solo_results = pd.read_csv(\"../results/SOLO_Final_Aug2023.csv\", header=[1]).query(\"tier==1\")\n",
    "drugs_lst = os.listdir(analysis_dir)"
   ]
  },
  {
   "cell_type": "markdown",
   "id": "d5cf8e4b-8bbd-490a-ae88-e1f1a53b5596",
   "metadata": {},
   "source": [
    "# Number of Samples in Each Drug Model (after dropping)"
   ]
  },
  {
   "cell_type": "code",
   "execution_count": 41,
   "id": "d4af0633-660a-4c0d-bbf9-004c6b5f668d",
   "metadata": {},
   "outputs": [],
   "source": [
    "samples_summary_phenos = pd.DataFrame(columns=['Drug', 'Pheno', 'Unpooled', 'Pooled'])\n",
    "i = 0\n",
    "\n",
    "for drug in np.sort(drugs_lst):\n",
    "\n",
    "    for pheno in os.listdir(os.path.join(analysis_dir, drug, 'BINARY', 'tiers=1')):\n",
    "\n",
    "        unpooled_count = 0\n",
    "        pooled_count = 0\n",
    "    \n",
    "        for model_path in glob.glob(os.path.join(analysis_dir, drug, 'BINARY', 'tiers=1', pheno, '*')):\n",
    "            \n",
    "            if os.path.isdir(model_path) and 'withSyn' not in model_path and os.path.isfile(os.path.join(model_path, 'model_matrix.pkl')):\n",
    "                model_matrix = pd.read_pickle(os.path.join(model_path, 'model_matrix.pkl'))\n",
    "\n",
    "                if 'unpooled' in model_path:\n",
    "                    unpooled_count = len(model_matrix)\n",
    "                elif 'poolSeparate' in model_path:\n",
    "                    pooled_count = len(model_matrix)\n",
    "                \n",
    "        samples_summary_phenos.loc[i, :] = [drug, pheno.replace(\"phenos=\", \"\"), unpooled_count, pooled_count]\n",
    "        i += 1"
   ]
  },
  {
   "cell_type": "code",
   "execution_count": 45,
   "id": "cd54d64b-c92b-4231-a7c0-14b53fa56c31",
   "metadata": {},
   "outputs": [
    {
     "data": {
      "text/html": [
       "<div>\n",
       "<style scoped>\n",
       "    .dataframe tbody tr th:only-of-type {\n",
       "        vertical-align: middle;\n",
       "    }\n",
       "\n",
       "    .dataframe tbody tr th {\n",
       "        vertical-align: top;\n",
       "    }\n",
       "\n",
       "    .dataframe thead tr th {\n",
       "        text-align: left;\n",
       "    }\n",
       "\n",
       "    .dataframe thead tr:last-of-type th {\n",
       "        text-align: right;\n",
       "    }\n",
       "</style>\n",
       "<table border=\"1\" class=\"dataframe\">\n",
       "  <thead>\n",
       "    <tr>\n",
       "      <th></th>\n",
       "      <th>Unpooled</th>\n",
       "      <th>Pooled</th>\n",
       "      <th>Unpooled</th>\n",
       "      <th>Pooled</th>\n",
       "    </tr>\n",
       "    <tr>\n",
       "      <th>Pheno</th>\n",
       "      <th>WHO</th>\n",
       "      <th>WHO</th>\n",
       "      <th>ALL</th>\n",
       "      <th>ALL</th>\n",
       "    </tr>\n",
       "    <tr>\n",
       "      <th>Drug</th>\n",
       "      <th></th>\n",
       "      <th></th>\n",
       "      <th></th>\n",
       "      <th></th>\n",
       "    </tr>\n",
       "  </thead>\n",
       "  <tbody>\n",
       "    <tr>\n",
       "      <th>Amikacin</th>\n",
       "      <td>8454</td>\n",
       "      <td>8454</td>\n",
       "      <td>23614</td>\n",
       "      <td>23615</td>\n",
       "    </tr>\n",
       "    <tr>\n",
       "      <th>Bedaquiline</th>\n",
       "      <td>2012</td>\n",
       "      <td>2012</td>\n",
       "      <td>13861</td>\n",
       "      <td>13863</td>\n",
       "    </tr>\n",
       "    <tr>\n",
       "      <th>Capreomycin</th>\n",
       "      <td>9534</td>\n",
       "      <td>9534</td>\n",
       "      <td>16956</td>\n",
       "      <td>16956</td>\n",
       "    </tr>\n",
       "    <tr>\n",
       "      <th>Clofazimine</th>\n",
       "      <td>4916</td>\n",
       "      <td>4920</td>\n",
       "      <td>14690</td>\n",
       "      <td>14699</td>\n",
       "    </tr>\n",
       "    <tr>\n",
       "      <th>Delamanid</th>\n",
       "      <td>571</td>\n",
       "      <td>573</td>\n",
       "      <td>11594</td>\n",
       "      <td>11741</td>\n",
       "    </tr>\n",
       "    <tr>\n",
       "      <th>Ethambutol</th>\n",
       "      <td>32267</td>\n",
       "      <td>32267</td>\n",
       "      <td>44180</td>\n",
       "      <td>44180</td>\n",
       "    </tr>\n",
       "    <tr>\n",
       "      <th>Ethionamide</th>\n",
       "      <td>5890</td>\n",
       "      <td>5892</td>\n",
       "      <td>20444</td>\n",
       "      <td>20456</td>\n",
       "    </tr>\n",
       "    <tr>\n",
       "      <th>Isoniazid</th>\n",
       "      <td>34585</td>\n",
       "      <td>34587</td>\n",
       "      <td>48246</td>\n",
       "      <td>48251</td>\n",
       "    </tr>\n",
       "    <tr>\n",
       "      <th>Kanamycin</th>\n",
       "      <td>7553</td>\n",
       "      <td>7554</td>\n",
       "      <td>23494</td>\n",
       "      <td>23496</td>\n",
       "    </tr>\n",
       "    <tr>\n",
       "      <th>Levofloxacin</th>\n",
       "      <td>12200</td>\n",
       "      <td>12200</td>\n",
       "      <td>27108</td>\n",
       "      <td>27108</td>\n",
       "    </tr>\n",
       "    <tr>\n",
       "      <th>Linezolid</th>\n",
       "      <td>5901</td>\n",
       "      <td>0</td>\n",
       "      <td>16065</td>\n",
       "      <td>16065</td>\n",
       "    </tr>\n",
       "    <tr>\n",
       "      <th>Moxifloxacin</th>\n",
       "      <td>8295</td>\n",
       "      <td>8295</td>\n",
       "      <td>22402</td>\n",
       "      <td>22402</td>\n",
       "    </tr>\n",
       "    <tr>\n",
       "      <th>Pretomanid</th>\n",
       "      <td>688</td>\n",
       "      <td>688</td>\n",
       "      <td>0</td>\n",
       "      <td>0</td>\n",
       "    </tr>\n",
       "    <tr>\n",
       "      <th>Pyrazinamide</th>\n",
       "      <td>19714</td>\n",
       "      <td>19715</td>\n",
       "      <td>21097</td>\n",
       "      <td>21099</td>\n",
       "    </tr>\n",
       "    <tr>\n",
       "      <th>Rifampicin</th>\n",
       "      <td>35068</td>\n",
       "      <td>35068</td>\n",
       "      <td>47241</td>\n",
       "      <td>47241</td>\n",
       "    </tr>\n",
       "    <tr>\n",
       "      <th>Streptomycin</th>\n",
       "      <td>18151</td>\n",
       "      <td>18237</td>\n",
       "      <td>24298</td>\n",
       "      <td>24312</td>\n",
       "    </tr>\n",
       "  </tbody>\n",
       "</table>\n",
       "</div>"
      ],
      "text/plain": [
       "             Unpooled Pooled Unpooled Pooled\n",
       "Pheno             WHO    WHO      ALL    ALL\n",
       "Drug                                        \n",
       "Amikacin         8454   8454    23614  23615\n",
       "Bedaquiline      2012   2012    13861  13863\n",
       "Capreomycin      9534   9534    16956  16956\n",
       "Clofazimine      4916   4920    14690  14699\n",
       "Delamanid         571    573    11594  11741\n",
       "Ethambutol      32267  32267    44180  44180\n",
       "Ethionamide      5890   5892    20444  20456\n",
       "Isoniazid       34585  34587    48246  48251\n",
       "Kanamycin        7553   7554    23494  23496\n",
       "Levofloxacin    12200  12200    27108  27108\n",
       "Linezolid        5901      0    16065  16065\n",
       "Moxifloxacin     8295   8295    22402  22402\n",
       "Pretomanid        688    688        0      0\n",
       "Pyrazinamide    19714  19715    21097  21099\n",
       "Rifampicin      35068  35068    47241  47241\n",
       "Streptomycin    18151  18237    24298  24312"
      ]
     },
     "execution_count": 45,
     "metadata": {},
     "output_type": "execute_result"
    }
   ],
   "source": [
    "actual_summary = samples_summary_phenos.pivot(index='Drug', columns=['Pheno'])\n",
    "actual_summary = actual_summary[[('Unpooled', 'WHO'), (  'Pooled', 'WHO'), ('Unpooled', 'ALL'), (  'Pooled', 'ALL')]]\n",
    "actual_summary.to_csv(\"../data/samples_counts_models.csv\")\n",
    "actual_summary"
   ]
  },
  {
   "cell_type": "code",
   "execution_count": null,
   "id": "36d6219b-f00b-4c99-8e41-c9228b447a8e",
   "metadata": {},
   "outputs": [],
   "source": [
    "2012, 13863"
   ]
  },
  {
   "cell_type": "code",
   "execution_count": 51,
   "id": "5ce4a35d-2061-4c2e-a479-fd18ed0b0573",
   "metadata": {},
   "outputs": [
    {
     "data": {
      "text/plain": [
       "array([0, 0, 0, 571, 573, 688, 688, 2012, 2012, 4916, 4920, 5890, 5892,\n",
       "       5901, 7553, 7554, 8295, 8295, 8454, 8454, 9534, 9534, 11594, 11741,\n",
       "       12200, 12200, 13861, 13863, 14690, 14699, 16065, 16065, 16956,\n",
       "       16956, 18151, 18237, 19714, 19715, 20444, 20456, 21097, 21099,\n",
       "       22402, 22402, 23494, 23496, 23614, 23615, 24298, 24312, 27108,\n",
       "       27108, 32267, 32267, 34585, 34587, 35068, 35068, 44180, 44180,\n",
       "       47241, 47241, 48246, 48251], dtype=object)"
      ]
     },
     "execution_count": 51,
     "metadata": {},
     "output_type": "execute_result"
    }
   ],
   "source": [
    "np.sort(actual_summary.values.flatten())"
   ]
  },
  {
   "cell_type": "markdown",
   "id": "f6baed0c-e862-4efd-88c3-9144966cba36",
   "metadata": {},
   "source": [
    "# Bedaquiline Skew between WHO and ALL Datasets"
   ]
  },
  {
   "cell_type": "code",
   "execution_count": 11,
   "id": "2a5a99af-c4d6-491e-ba15-5fa816f333ab",
   "metadata": {},
   "outputs": [
    {
     "name": "stdout",
     "output_type": "stream",
     "text": [
      "7 14135\n",
      "2165 14135\n"
     ]
    }
   ],
   "source": [
    "drug = \"Bedaquiline\"\n",
    "assert len(glob.glob(f\"/n/data1/hms/dbmi/farhat/Sanjana/who-mutation-catalogue-raw-data/phenotypes/drug_name={drug}/*\")) == 1\n",
    "df_phenos = pd.read_csv(glob.glob(f\"/n/data1/hms/dbmi/farhat/Sanjana/who-mutation-catalogue-raw-data/phenotypes/drug_name={drug}/*\")[0])\n",
    "df_phenos_processed = pd.read_csv(os.path.join(analysis_dir, drug, \"phenos_binary.csv\"))\n",
    "\n",
    "df_phenos_processed = df_phenos_processed.merge(lineages, left_on='sample_id', right_on='Sample_ID', how='left')\n",
    "print(len(df_phenos_processed.loc[pd.isnull(df_phenos_processed['Lineage'])]), len(df_phenos_processed))\n",
    "\n",
    "df_WHO = df_phenos_processed.query(\"phenotypic_category=='WHO'\")\n",
    "df_ALL = df_phenos_processed.copy()\n",
    "print(len(df_WHO), len(df_ALL))"
   ]
  },
  {
   "cell_type": "code",
   "execution_count": 12,
   "id": "0c163755-42fc-4f71-84e6-796ceb0ee3f3",
   "metadata": {},
   "outputs": [
    {
     "data": {
      "text/plain": [
       "box\n",
       "CRyPTIC_MIC      11231\n",
       "WHO_current       2076\n",
       "non_WHO_CC_S       676\n",
       "WHO_past            89\n",
       "WHO_undefined       34\n",
       "non_WHO_CC_R        29\n",
       "Name: count, dtype: int64"
      ]
     },
     "execution_count": 12,
     "metadata": {},
     "output_type": "execute_result"
    }
   ],
   "source": [
    "df_phenos.query(\"phenotypic_category in ['WHO', 'ALL']\").box.value_counts()"
   ]
  },
  {
   "cell_type": "code",
   "execution_count": 13,
   "id": "d830dc8a-c984-4e44-a795-f87b01a8b3c4",
   "metadata": {},
   "outputs": [
    {
     "data": {
      "text/plain": [
       "(2165, 14135)"
      ]
     },
     "execution_count": 13,
     "metadata": {},
     "output_type": "execute_result"
    }
   ],
   "source": [
    "df_phenos.query(\"phenotypic_category=='WHO'\").sample_id.nunique(), df_phenos.query(\"phenotypic_category in ['WHO', 'ALL']\").sample_id.nunique()"
   ]
  },
  {
   "cell_type": "code",
   "execution_count": null,
   "id": "118703ca-b52b-4b52-9285-5aaee5bb8ad5",
   "metadata": {},
   "outputs": [],
   "source": [
    "results_"
   ]
  },
  {
   "cell_type": "code",
   "execution_count": null,
   "id": "3a664be2-de00-44dd-964c-f9aed8e143a4",
   "metadata": {},
   "outputs": [],
   "source": []
  },
  {
   "cell_type": "code",
   "execution_count": null,
   "id": "45620e74-3a79-4351-ab66-90e8d8b7a2e6",
   "metadata": {},
   "outputs": [],
   "source": []
  },
  {
   "cell_type": "code",
   "execution_count": 14,
   "id": "39db4edd-219f-41ea-b9cf-8db1bcd0da58",
   "metadata": {},
   "outputs": [],
   "source": [
    "df_WHO_lineage = pd.DataFrame(df_WHO.Lineage.value_counts()).reset_index()\n",
    "df_WHO_lineage['Proportion'] = df_WHO_lineage['count'] / df_WHO_lineage['count'].sum()\n",
    "df_WHO_lineage.loc[-1, :] = ['Total', df_WHO_lineage['count'].sum(), 1]\n",
    "df_WHO_lineage['Dataset'] = 'WHO'\n",
    "\n",
    "df_ALL_lineage = pd.DataFrame(df_ALL.Lineage.value_counts()).reset_index()\n",
    "df_ALL_lineage['Proportion'] = df_ALL_lineage['count'] / df_ALL_lineage['count'].sum()\n",
    "df_ALL_lineage.loc[-1, :] = ['Total', df_ALL_lineage['count'].sum(), 1]\n",
    "df_ALL_lineage['Dataset'] = 'ALL'\n",
    "\n",
    "lineages_combined = pd.concat([df_WHO_lineage, df_ALL_lineage])"
   ]
  },
  {
   "cell_type": "code",
   "execution_count": 16,
   "id": "9eda0796-6d26-4f73-b842-06a3c69cff46",
   "metadata": {},
   "outputs": [
    {
     "data": {
      "image/png": "[encoded data removed]",
      "text/plain": [
       "<Figure size 900x600 with 1 Axes>"
      ]
     },
     "metadata": {},
     "output_type": "display_data"
    }
   ],
   "source": [
    "fig, ax = plt.subplots(figsize=(6, 4))\n",
    "\n",
    "sns.barplot(data=lineages_combined.query(\"Proportion > 0.005 & Proportion < 1\"),\n",
    "            x='Lineage',\n",
    "            y='Proportion',\n",
    "            hue='Dataset',\n",
    "            ax=ax\n",
    "           )\n",
    "\n",
    "for container in ax.containers:\n",
    "    ax.bar_label(container, fmt='{:.2f}')\n",
    "\n",
    "plt.ylabel(\"Proportion\")\n",
    "plt.title(f\"{drug}-Resistant Samples by Lineage and Dataset\")\n",
    "plt.ylim(0, 1)\n",
    "sns.despine()\n",
    "plt.show()"
   ]
  },
  {
   "cell_type": "code",
   "execution_count": 110,
   "id": "fd2dd239-8870-4f3f-b4f9-376a3709273e",
   "metadata": {},
   "outputs": [
    {
     "data": {
      "text/plain": [
       "((831, 55), (609, 9))"
      ]
     },
     "execution_count": 110,
     "metadata": {},
     "output_type": "execute_result"
    }
   ],
   "source": [
    "BDQ_MIC_results = pd.read_csv(\"/n/data1/hms/dbmi/farhat/Sanjana/who-mutation-catalogue/Bedaquiline/MIC/tiers=1/dropAF_noSyn_unpooled/model_analysis.csv\")\n",
    "BDQ_results = pd.read_csv(\"../results/FINAL/Bedaquiline.csv\")\n",
    "BDQ_results.shape, BDQ_MIC_results.shape"
   ]
  },
  {
   "cell_type": "code",
   "execution_count": 108,
   "id": "134d7161-f259-4a1b-bd38-47959221640a",
   "metadata": {},
   "outputs": [
    {
     "data": {
      "text/html": [
       "<div>\n",
       "<style scoped>\n",
       "    .dataframe tbody tr th:only-of-type {\n",
       "        vertical-align: middle;\n",
       "    }\n",
       "\n",
       "    .dataframe tbody tr th {\n",
       "        vertical-align: top;\n",
       "    }\n",
       "\n",
       "    .dataframe thead th {\n",
       "        text-align: right;\n",
       "    }\n",
       "</style>\n",
       "<table border=\"1\" class=\"dataframe\">\n",
       "  <thead>\n",
       "    <tr style=\"text-align: right;\">\n",
       "      <th></th>\n",
       "      <th>mutation</th>\n",
       "      <th>WHO_Odds_Ratio</th>\n",
       "      <th>WHO_BH_pval</th>\n",
       "      <th>WHO_BH_LRT_pval</th>\n",
       "      <th>WHO_Present_R</th>\n",
       "      <th>WHO_Present_S</th>\n",
       "      <th>WHO_Absent_R</th>\n",
       "      <th>WHO_Absent_S</th>\n",
       "      <th>WHO_PPV_LB</th>\n",
       "      <th>WHO_PPV</th>\n",
       "    </tr>\n",
       "  </thead>\n",
       "  <tbody>\n",
       "    <tr>\n",
       "      <th>4</th>\n",
       "      <td>mmpS5_c.-74G&gt;T</td>\n",
       "      <td>1.40935</td>\n",
       "      <td>0.0</td>\n",
       "      <td>8.151491e-13</td>\n",
       "      <td>32.0</td>\n",
       "      <td>3.0</td>\n",
       "      <td>732.0</td>\n",
       "      <td>1245.0</td>\n",
       "      <td>0.769425</td>\n",
       "      <td>0.914286</td>\n",
       "    </tr>\n",
       "  </tbody>\n",
       "</table>\n",
       "</div>"
      ],
      "text/plain": [
       "         mutation  WHO_Odds_Ratio  WHO_BH_pval  WHO_BH_LRT_pval  \\\n",
       "4  mmpS5_c.-74G>T         1.40935          0.0     8.151491e-13   \n",
       "\n",
       "   WHO_Present_R  WHO_Present_S  WHO_Absent_R  WHO_Absent_S  WHO_PPV_LB  \\\n",
       "4           32.0            3.0         732.0        1245.0    0.769425   \n",
       "\n",
       "    WHO_PPV  \n",
       "4  0.914286  "
      ]
     },
     "execution_count": 108,
     "metadata": {},
     "output_type": "execute_result"
    }
   ],
   "source": [
    "BDQ_results.query(\"mutation=='mmpS5_c.-74G>T'\")[['mutation', 'WHO_Odds_Ratio', 'WHO_BH_pval', 'WHO_BH_LRT_pval', 'WHO_Present_R', 'WHO_Present_S', 'WHO_Absent_R', 'WHO_Absent_S', 'WHO_PPV_LB', 'WHO_PPV']]"
   ]
  },
  {
   "cell_type": "code",
   "execution_count": 109,
   "id": "f8deb46c-4477-4491-bef2-842131987331",
   "metadata": {},
   "outputs": [
    {
     "data": {
      "text/html": [
       "<div>\n",
       "<style scoped>\n",
       "    .dataframe tbody tr th:only-of-type {\n",
       "        vertical-align: middle;\n",
       "    }\n",
       "\n",
       "    .dataframe tbody tr th {\n",
       "        vertical-align: top;\n",
       "    }\n",
       "\n",
       "    .dataframe thead th {\n",
       "        text-align: right;\n",
       "    }\n",
       "</style>\n",
       "<table border=\"1\" class=\"dataframe\">\n",
       "  <thead>\n",
       "    <tr style=\"text-align: right;\">\n",
       "      <th></th>\n",
       "      <th>mutation</th>\n",
       "      <th>ALL_Odds_Ratio</th>\n",
       "      <th>ALL_BH_pval</th>\n",
       "      <th>ALL_BH_LRT_pval</th>\n",
       "      <th>ALL_Present_R</th>\n",
       "      <th>ALL_Present_S</th>\n",
       "      <th>ALL_Absent_R</th>\n",
       "      <th>ALL_Absent_S</th>\n",
       "      <th>ALL_PPV_LB</th>\n",
       "      <th>ALL_PPV</th>\n",
       "    </tr>\n",
       "  </thead>\n",
       "  <tbody>\n",
       "    <tr>\n",
       "      <th>4</th>\n",
       "      <td>mmpS5_c.-74G&gt;T</td>\n",
       "      <td>1.219286</td>\n",
       "      <td>0.0</td>\n",
       "      <td>1.924069e-37</td>\n",
       "      <td>32.0</td>\n",
       "      <td>89.0</td>\n",
       "      <td>848.0</td>\n",
       "      <td>12892.0</td>\n",
       "      <td>0.188448</td>\n",
       "      <td>0.264463</td>\n",
       "    </tr>\n",
       "  </tbody>\n",
       "</table>\n",
       "</div>"
      ],
      "text/plain": [
       "         mutation  ALL_Odds_Ratio  ALL_BH_pval  ALL_BH_LRT_pval  \\\n",
       "4  mmpS5_c.-74G>T        1.219286          0.0     1.924069e-37   \n",
       "\n",
       "   ALL_Present_R  ALL_Present_S  ALL_Absent_R  ALL_Absent_S  ALL_PPV_LB  \\\n",
       "4           32.0           89.0         848.0       12892.0    0.188448   \n",
       "\n",
       "    ALL_PPV  \n",
       "4  0.264463  "
      ]
     },
     "execution_count": 109,
     "metadata": {},
     "output_type": "execute_result"
    }
   ],
   "source": [
    "BDQ_results.query(\"mutation=='mmpS5_c.-74G>T'\")[['mutation', 'ALL_Odds_Ratio', 'ALL_BH_pval', 'ALL_BH_LRT_pval', 'ALL_Present_R', 'ALL_Present_S', 'ALL_Absent_R', 'ALL_Absent_S', 'ALL_PPV_LB', 'ALL_PPV']]"
   ]
  },
  {
   "cell_type": "code",
   "execution_count": 112,
   "id": "ce5e6992-ab77-49a6-a8e5-278428725214",
   "metadata": {},
   "outputs": [
    {
     "data": {
      "text/html": [
       "<div>\n",
       "<style scoped>\n",
       "    .dataframe tbody tr th:only-of-type {\n",
       "        vertical-align: middle;\n",
       "    }\n",
       "\n",
       "    .dataframe tbody tr th {\n",
       "        vertical-align: top;\n",
       "    }\n",
       "\n",
       "    .dataframe thead th {\n",
       "        text-align: right;\n",
       "    }\n",
       "</style>\n",
       "<table border=\"1\" class=\"dataframe\">\n",
       "  <thead>\n",
       "    <tr style=\"text-align: right;\">\n",
       "      <th></th>\n",
       "      <th>mutation</th>\n",
       "      <th>coef</th>\n",
       "      <th>pval</th>\n",
       "      <th>neutral_pval</th>\n",
       "      <th>BH_pval</th>\n",
       "      <th>Bonferroni_pval</th>\n",
       "      <th>BH_neutral_pval</th>\n",
       "      <th>Bonferroni_neutral_pval</th>\n",
       "      <th>confidence</th>\n",
       "    </tr>\n",
       "  </thead>\n",
       "  <tbody>\n",
       "    <tr>\n",
       "      <th>379</th>\n",
       "      <td>mmpS5_c.-74G&gt;T</td>\n",
       "      <td>-0.003734</td>\n",
       "      <td>0.424</td>\n",
       "      <td>0.167</td>\n",
       "      <td>0.4872</td>\n",
       "      <td>1.0</td>\n",
       "      <td>1.0</td>\n",
       "      <td>1.0</td>\n",
       "      <td>3) Uncertain significance</td>\n",
       "    </tr>\n",
       "  </tbody>\n",
       "</table>\n",
       "</div>"
      ],
      "text/plain": [
       "           mutation      coef   pval  neutral_pval  BH_pval  Bonferroni_pval  \\\n",
       "379  mmpS5_c.-74G>T -0.003734  0.424         0.167   0.4872              1.0   \n",
       "\n",
       "     BH_neutral_pval  Bonferroni_neutral_pval                 confidence  \n",
       "379              1.0                      1.0  3) Uncertain significance  "
      ]
     },
     "execution_count": 112,
     "metadata": {},
     "output_type": "execute_result"
    }
   ],
   "source": [
    "BDQ_MIC_results.query(\"mutation=='mmpS5_c.-74G>T'\")"
   ]
  },
  {
   "cell_type": "code",
   "execution_count": 100,
   "id": "da6bee32-d8df-4740-86d5-df6044e4b40e",
   "metadata": {},
   "outputs": [
    {
     "data": {
      "text/html": [
       "<div>\n",
       "<style scoped>\n",
       "    .dataframe tbody tr th:only-of-type {\n",
       "        vertical-align: middle;\n",
       "    }\n",
       "\n",
       "    .dataframe tbody tr th {\n",
       "        vertical-align: top;\n",
       "    }\n",
       "\n",
       "    .dataframe thead th {\n",
       "        text-align: right;\n",
       "    }\n",
       "</style>\n",
       "<table border=\"1\" class=\"dataframe\">\n",
       "  <thead>\n",
       "    <tr style=\"text-align: right;\">\n",
       "      <th></th>\n",
       "      <th>mutation</th>\n",
       "      <th>Initial confidence grading WHO dataset</th>\n",
       "      <th>Initial confidence grading ALL dataset</th>\n",
       "    </tr>\n",
       "  </thead>\n",
       "  <tbody>\n",
       "    <tr>\n",
       "      <th>4</th>\n",
       "      <td>mmpS5_c.-74G&gt;T</td>\n",
       "      <td>Assoc w R</td>\n",
       "      <td>Uncertain</td>\n",
       "    </tr>\n",
       "    <tr>\n",
       "      <th>9</th>\n",
       "      <td>Rv0678_p.Met146Thr</td>\n",
       "      <td>Assoc w R</td>\n",
       "      <td>Uncertain</td>\n",
       "    </tr>\n",
       "    <tr>\n",
       "      <th>16</th>\n",
       "      <td>mmpL5_c.2889G&gt;A</td>\n",
       "      <td>Possible Assoc w R</td>\n",
       "      <td>Uncertain</td>\n",
       "    </tr>\n",
       "    <tr>\n",
       "      <th>26</th>\n",
       "      <td>atpE_p.Ala63Pro</td>\n",
       "      <td>Uncertain</td>\n",
       "      <td>Assoc w R</td>\n",
       "    </tr>\n",
       "    <tr>\n",
       "      <th>27</th>\n",
       "      <td>Rv0678_p.Cys46Arg</td>\n",
       "      <td>Possible Assoc w R</td>\n",
       "      <td>Assoc w R</td>\n",
       "    </tr>\n",
       "    <tr>\n",
       "      <th>...</th>\n",
       "      <td>...</td>\n",
       "      <td>...</td>\n",
       "      <td>...</td>\n",
       "    </tr>\n",
       "    <tr>\n",
       "      <th>826</th>\n",
       "      <td>mmpL5_p.Ile555_Gly559del</td>\n",
       "      <td>NaN</td>\n",
       "      <td>NaN</td>\n",
       "    </tr>\n",
       "    <tr>\n",
       "      <th>827</th>\n",
       "      <td>mmpS5_c.-9_-8delCG</td>\n",
       "      <td>NaN</td>\n",
       "      <td>NaN</td>\n",
       "    </tr>\n",
       "    <tr>\n",
       "      <th>828</th>\n",
       "      <td>pepQ_c.21A&gt;C</td>\n",
       "      <td>NaN</td>\n",
       "      <td>NaN</td>\n",
       "    </tr>\n",
       "    <tr>\n",
       "      <th>829</th>\n",
       "      <td>Rv0678_p.Arg109fs</td>\n",
       "      <td>NaN</td>\n",
       "      <td>NaN</td>\n",
       "    </tr>\n",
       "    <tr>\n",
       "      <th>830</th>\n",
       "      <td>Rv0678_p.Arg109Leu</td>\n",
       "      <td>NaN</td>\n",
       "      <td>NaN</td>\n",
       "    </tr>\n",
       "  </tbody>\n",
       "</table>\n",
       "<p>591 rows × 3 columns</p>\n",
       "</div>"
      ],
      "text/plain": [
       "                     mutation Initial confidence grading WHO dataset  \\\n",
       "4              mmpS5_c.-74G>T                              Assoc w R   \n",
       "9          Rv0678_p.Met146Thr                              Assoc w R   \n",
       "16            mmpL5_c.2889G>A                     Possible Assoc w R   \n",
       "26            atpE_p.Ala63Pro                              Uncertain   \n",
       "27          Rv0678_p.Cys46Arg                     Possible Assoc w R   \n",
       "..                        ...                                    ...   \n",
       "826  mmpL5_p.Ile555_Gly559del                                    NaN   \n",
       "827        mmpS5_c.-9_-8delCG                                    NaN   \n",
       "828              pepQ_c.21A>C                                    NaN   \n",
       "829         Rv0678_p.Arg109fs                                    NaN   \n",
       "830        Rv0678_p.Arg109Leu                                    NaN   \n",
       "\n",
       "    Initial confidence grading ALL dataset  \n",
       "4                                Uncertain  \n",
       "9                                Uncertain  \n",
       "16                               Uncertain  \n",
       "26                               Assoc w R  \n",
       "27                               Assoc w R  \n",
       "..                                     ...  \n",
       "826                                    NaN  \n",
       "827                                    NaN  \n",
       "828                                    NaN  \n",
       "829                                    NaN  \n",
       "830                                    NaN  \n",
       "\n",
       "[591 rows x 3 columns]"
      ]
     },
     "execution_count": 100,
     "metadata": {},
     "output_type": "execute_result"
    }
   ],
   "source": [
    "BDQ_results.loc[(BDQ_results['Initial confidence grading WHO dataset'] != BDQ_results['Initial confidence grading ALL dataset'])][['mutation', 'Initial confidence grading WHO dataset', 'Initial confidence grading ALL dataset']]"
   ]
  },
  {
   "cell_type": "code",
   "execution_count": null,
   "id": "4dd4ba47-9963-4b39-9f89-2e86e91d783d",
   "metadata": {},
   "outputs": [],
   "source": []
  },
  {
   "cell_type": "code",
   "execution_count": 73,
   "id": "1c0dbb2f-f059-4326-89a6-22e15bf7b086",
   "metadata": {},
   "outputs": [
    {
     "name": "stdout",
     "output_type": "stream",
     "text": [
      "2165\n"
     ]
    }
   ],
   "source": [
    "df_WHO_lineage_phenos = pd.DataFrame(df_WHO.groupby(\"Lineage\").phenotype.mean()).reset_index()\n",
    "df_WHO_lineage_phenos.loc[-1, :] = ['Total', df_WHO.loc[~pd.isnull(df_WHO['Lineage'])].phenotype.mean()]\n",
    "df_WHO_lineage_phenos['Dataset'] = 'WHO'\n",
    "\n",
    "df_ALL_lineage_phenos = pd.DataFrame(df_ALL.groupby(\"Lineage\").phenotype.mean()).reset_index()\n",
    "df_ALL_lineage_phenos.loc[-1, :] = ['Total', df_ALL.loc[~pd.isnull(df_ALL['Lineage'])].phenotype.mean()]\n",
    "df_ALL_lineage_phenos['Dataset'] = 'ALL'\n",
    "\n",
    "lineage_phenos_combined = pd.concat([df_WHO_lineage_phenos, df_ALL_lineage_phenos])\n",
    "print(len(set(df_WHO.sample_id).intersection(df_ALL.sample_id)))"
   ]
  },
  {
   "cell_type": "code",
   "execution_count": 91,
   "id": "82755b1b-2679-4f86-8a9a-b076164732ff",
   "metadata": {},
   "outputs": [
    {
     "data": {
      "image/png": "[encoded data removed]",
      "text/plain": [
       "<Figure size 900x600 with 1 Axes>"
      ]
     },
     "metadata": {},
     "output_type": "display_data"
    }
   ],
   "source": [
    "fig, ax = plt.subplots(figsize=(6, 4))\n",
    "\n",
    "sns.barplot(data=lineage_phenos_combined.query(\"phenotype > 0.005\"),\n",
    "            x='Lineage',\n",
    "            y='phenotype',\n",
    "            hue='Dataset',\n",
    "            ax=ax\n",
    "           )\n",
    "\n",
    "for container in ax.containers:\n",
    "    ax.bar_label(container, fmt='{:.2f}')\n",
    "\n",
    "plt.ylabel(\"Proportion\")\n",
    "plt.title(\"Bedaquiline-Resistant Samples by Lineage and Dataset\")\n",
    "plt.ylim(0, 1)\n",
    "sns.despine()\n",
    "plt.savefig(\"../figures/BDQ_phenos_by_lineage_dataset.png\", dpi=300)"
   ]
  },
  {
   "cell_type": "code",
   "execution_count": null,
   "id": "227b3dbe-1843-4469-a06a-f5442b86e576",
   "metadata": {},
   "outputs": [],
   "source": []
  },
  {
   "cell_type": "markdown",
   "id": "029b594c-090a-4793-9508-65079e654333",
   "metadata": {},
   "source": [
    "# Lineage Distribution for Each Drug Model"
   ]
  },
  {
   "cell_type": "code",
   "execution_count": 52,
   "id": "8d564586-9191-4d37-a493-1b666aa4daa6",
   "metadata": {},
   "outputs": [],
   "source": [
    "def create_lineage_summary_df(og_lineages_df, other_thresh=0.01):\n",
    "    '''\n",
    "    other_cols is a list of lineages that should be combined into an other category because there are so few of them. Basically just for aesthetic purposes\n",
    "    '''\n",
    "    \n",
    "    lineage_summary = pd.DataFrame(og_lineages_df[\"Lineage\"].value_counts())\n",
    "\n",
    "    lineage_summary = lineage_summary.reset_index().rename(columns={\"index\":\"Lineage\", \"Lineage\": \"Count\"})\n",
    "    \n",
    "    # get lineages that are present at < 1% frequency. Combine them into an \"Other\" category for aesthetic purposes in plotting\n",
    "    samples_total = lineage_summary[\"Count\"].sum()\n",
    "    samples_thresh = int(other_thresh*samples_total)\n",
    "    other_cols = lineage_summary.query(\"Count < @samples_thresh\")[\"Lineage\"].values\n",
    "    \n",
    "    # \",\".join(other_cols) --> this makes the name too long, but can try later\n",
    "    # combine low-frequency lineages into an Other category\n",
    "    lineage_summary = pd.concat([lineage_summary, \n",
    "                                 pd.DataFrame({\"Lineage\": \"Other\", \"Count\": lineage_summary.query(\"Lineage in @other_cols\")[\"Count\"].sum()\n",
    "                                              }, index=[-1])\n",
    "                                ]).query(\"Lineage not in @other_cols\")\n",
    "    \n",
    "    lineage_summary = lineage_summary.sort_values(\"Lineage\", ascending=True).reset_index(drop=True)\n",
    "    lineage_summary[\"Count\"] = lineage_summary[\"Count\"].astype(int)\n",
    "    return lineage_summary"
   ]
  },
  {
   "cell_type": "code",
   "execution_count": 53,
   "id": "078099c0-1b00-4cf1-b160-661870e3490b",
   "metadata": {},
   "outputs": [
    {
     "name": "stdout",
     "output_type": "stream",
     "text": [
      "0.010669272901268503\n"
     ]
    }
   ],
   "source": [
    "single_lineages = lineages.query(\"~Coll2014.str.contains(',')\")\n",
    "\n",
    "# percent mixed lineage samples\n",
    "print((len(lineages)-len(single_lineages)) / len(lineages))\n",
    "\n",
    "# add primary lineage column\n",
    "for i, row in single_lineages.iterrows():\n",
    "    if row[\"Coll2014\"][0].isnumeric():\n",
    "        single_lineages.loc[i, \"Lineage\"] = row[\"Coll2014\"][0]\n",
    "    else:\n",
    "        single_lineages.loc[i, \"Lineage\"] = row[\"Coll2014\"]"
   ]
  },
  {
   "cell_type": "code",
   "execution_count": 54,
   "id": "f7f67678-e326-4e6f-9c2b-982e3387b758",
   "metadata": {},
   "outputs": [
    {
     "ename": "TypeError",
     "evalue": "can't multiply sequence by non-int of type 'float'",
     "output_type": "error",
     "traceback": [
      "\u001b[0;31m---------------------------------------------------------------------------\u001b[0m",
      "\u001b[0;31mTypeError\u001b[0m                                 Traceback (most recent call last)",
      "Cell \u001b[0;32mIn[54], line 1\u001b[0m\n\u001b[0;32m----> 1\u001b[0m \u001b[43mcreate_lineage_summary_df\u001b[49m\u001b[43m(\u001b[49m\u001b[43msingle_lineages\u001b[49m\u001b[43m)\u001b[49m\n",
      "Cell \u001b[0;32mIn[52], line 12\u001b[0m, in \u001b[0;36mcreate_lineage_summary_df\u001b[0;34m(og_lineages_df, other_thresh)\u001b[0m\n\u001b[1;32m     10\u001b[0m \u001b[38;5;66;03m# get lineages that are present at < 1% frequency. Combine them into an \"Other\" category for aesthetic purposes in plotting\u001b[39;00m\n\u001b[1;32m     11\u001b[0m samples_total \u001b[38;5;241m=\u001b[39m lineage_summary[\u001b[38;5;124m\"\u001b[39m\u001b[38;5;124mCount\u001b[39m\u001b[38;5;124m\"\u001b[39m]\u001b[38;5;241m.\u001b[39msum()\n\u001b[0;32m---> 12\u001b[0m samples_thresh \u001b[38;5;241m=\u001b[39m \u001b[38;5;28mint\u001b[39m(\u001b[43mother_thresh\u001b[49m\u001b[38;5;241;43m*\u001b[39;49m\u001b[43msamples_total\u001b[49m)\n\u001b[1;32m     13\u001b[0m other_cols \u001b[38;5;241m=\u001b[39m lineage_summary\u001b[38;5;241m.\u001b[39mquery(\u001b[38;5;124m\"\u001b[39m\u001b[38;5;124mCount < @samples_thresh\u001b[39m\u001b[38;5;124m\"\u001b[39m)[\u001b[38;5;124m\"\u001b[39m\u001b[38;5;124mLineage\u001b[39m\u001b[38;5;124m\"\u001b[39m]\u001b[38;5;241m.\u001b[39mvalues\n\u001b[1;32m     15\u001b[0m \u001b[38;5;66;03m# \",\".join(other_cols) --> this makes the name too long, but can try later\u001b[39;00m\n\u001b[1;32m     16\u001b[0m \u001b[38;5;66;03m# combine low-frequency lineages into an Other category\u001b[39;00m\n",
      "\u001b[0;31mTypeError\u001b[0m: can't multiply sequence by non-int of type 'float'"
     ]
    }
   ],
   "source": [
    "create_lineage_summary_df(single_lineages)"
   ]
  },
  {
   "cell_type": "code",
   "execution_count": null,
   "id": "e60736bc-3c45-45f0-b3fc-bd84d6d6f511",
   "metadata": {},
   "outputs": [],
   "source": []
  }
 ],
 "metadata": {
  "kernelspec": {
   "display_name": "Python 3 (ipykernel)",
   "language": "python",
   "name": "python3"
  },
  "language_info": {
   "codemirror_mode": {
    "name": "ipython",
    "version": 3
   },
   "file_extension": ".py",
   "mimetype": "text/x-python",
   "name": "python",
   "nbconvert_exporter": "python",
   "pygments_lexer": "ipython3",
   "version": "3.9.18"
  }
 },
 "nbformat": 4,
 "nbformat_minor": 5
}
