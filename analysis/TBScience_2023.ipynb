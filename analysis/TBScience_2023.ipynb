{
 "cells": [
  {
   "cell_type": "code",
   "execution_count": 1,
   "id": "b9e69cf2-dc33-43ec-92d3-590d57cdb33a",
   "metadata": {},
   "outputs": [
    {
     "name": "stdout",
     "output_type": "stream",
     "text": [
      "(49113, 7)\n"
     ]
    }
   ],
   "source": [
    "import numpy as np\n",
    "import pandas as pd\n",
    "import matplotlib.pyplot as plt\n",
    "import matplotlib.patches as mpatches\n",
    "plt.rcParams['figure.dpi'] = 150\n",
    "import seaborn as sns\n",
    "import scipy.stats as st\n",
    "import statsmodels.api as sm\n",
    "from functools import reduce\n",
    "\n",
    "import glob, os, yaml, subprocess, itertools, sparse, sys\n",
    "from sklearn.model_selection import train_test_split, KFold, StratifiedKFold, GridSearchCV, cross_val_score, cross_validate\n",
    "from sklearn.preprocessing import StandardScaler\n",
    "from sklearn.linear_model import LogisticRegression, LogisticRegressionCV\n",
    "\n",
    "# eigenvec_df = pd.read_csv(\"../data/eigenvec_original_10PC.csv\", index_col=[0])\n",
    "# eigenvec_df = pd.read_csv(\"../data/eigenvec_1000PC.csv\", index_col=[0])\n",
    "# eigenvec_df = pd.read_csv(\"data/eigenvec_100PC.csv\", index_col=[0])\n",
    "# who_variants = pd.read_csv(\"../data/who_confidence_2021.csv\")\n",
    "drug_gene_mapping = pd.read_csv(\"../data/drug_gene_mapping.csv\")\n",
    "analysis_dir = '/n/data1/hms/dbmi/farhat/Sanjana/who-mutation-catalogue'\n",
    "drugs_lst = os.listdir(analysis_dir)\n",
    "\n",
    "lineages = pd.read_csv(\"../data/combined_lineages_samples.csv\", low_memory=False)#.query(\"sample_id in @eigenvec_df.index\")\n",
    "print(lineages.shape)\n",
    "import collections, warnings\n",
    "warnings.filterwarnings(\"ignore\")\n",
    "\n",
    "# utils files are in a separate folder\n",
    "sys.path.append(os.path.join(os.path.dirname(os.getcwd()), \"utils\"))\n",
    "from data_utils import *\n",
    "from stats_utils import *\n",
    "\n",
    "solo_results = pd.read_csv(\"../results/SOLO_Final_Aug2023.csv\", header=[1])\n",
    "cc_df = pd.read_csv(\"../data/drug_CC.csv\")\n",
    "\n",
    "coll2014 = pd.read_csv(\"../data/coll2014_SNP_scheme.tsv\", sep=\"\\t\")\n",
    "coll2014[\"#lineage\"] = coll2014[\"#lineage\"].str.replace(\"lineage\", \"\")\n",
    "coll2014.rename(columns={\"#lineage\": \"Lineage\"}, inplace=True)\n",
    "\n",
    "drug_abbr_dict = {\"Delamanid\": \"DLM\",\n",
    "                  \"Bedaquiline\": \"BDQ\",\n",
    "                  \"Clofazimine\": \"CFZ\",\n",
    "                  \"Ethionamide\": \"ETH\",\n",
    "                  \"Linezolid\": \"LZD\",\n",
    "                  \"Moxifloxacin\": \"MXF\",\n",
    "                  \"Capreomycin\": \"CAP\",\n",
    "                  \"Amikacin\": \"AMI\",\n",
    "                  \"Pretomanid\": \"PTM\",\n",
    "                  \"Pyrazinamide\": \"PZA\",\n",
    "                  \"Kanamycin\": \"KAN\",\n",
    "                  \"Levofloxacin\": \"LEV\",\n",
    "                  \"Streptomycin\": \"STM\",\n",
    "                  \"Ethambutol\": \"EMB\",\n",
    "                  \"Isoniazid\": \"INH\",\n",
    "                  \"Rifampicin\": \"RIF\"\n",
    "                 }\n",
    "\n",
    "# hard coded paths to preserve the model hierarchy\n",
    "binary_analyses_lst = [\n",
    "                        \"tiers=1/phenos=WHO\",\n",
    "                        \"tiers=1+2/phenos=WHO\",\n",
    "                        \"tiers=1/phenos=ALL\",\n",
    "                        \"tiers=1+2/phenos=ALL\"\n",
    "                      ]\n",
    "\n",
    "model_names = [\"Tier 1,\\nWHO Phenos\", \"Tiers 1+2,\\nWHO Phenos\", \"Tier 1,\\nALL Phenos\", \"Tiers 1+2,\\nALL Phenos\"]\n",
    "path_name_dict = dict(zip(binary_analyses_lst, model_names))"
   ]
  },
  {
   "cell_type": "markdown",
   "id": "a756e6c3-5199-4396-a84f-9783ad667972",
   "metadata": {},
   "source": [
    "# Plot Metrics for all Drugs with Exact Confidence Intervals (Regression ONLY, no SOLO)"
   ]
  },
  {
   "cell_type": "code",
   "execution_count": 28,
   "id": "29ac5948-0def-406f-810c-425d217fc4bb",
   "metadata": {},
   "outputs": [],
   "source": [
    "metrics_names_dict = {'Sens': 'Sensitivity',\n",
    "                       'Spec': 'Specificity',\n",
    "                       'F1': 'F1 Score',\n",
    "                       'PPV': 'PPV',\n",
    "                       'NPV': 'NPV',\n",
    "                       'Accuracy': 'Accuracy',\n",
    "                      'BalancedAcc': 'Balanced Accuracy'\n",
    "                      }\n",
    "\n",
    "def regression_binary_metrics_all_drugs(drugs_lst, metrics_lst, saveName=None):\n",
    "\n",
    "    fig, ax = plt.subplots(1, 1, figsize=(12, 4))\n",
    "\n",
    "    plot_df = []\n",
    "    metric_legend_dict = {}\n",
    "    metric_colors = sns.color_palette(\"Set2\")\n",
    "    \n",
    "    for drug in drugs_lst:\n",
    "    \n",
    "        # if drug == 'Pretomanid':\n",
    "        #     phenos_name = 'WHO'\n",
    "        # else:\n",
    "        #     phenos_name = \"ALL\"\n",
    "\n",
    "        phenos_name = \"ALL\"\n",
    "\n",
    "        if drug != \"Pretomanid\":\n",
    "            stats = pd.read_csv(os.path.join(analysis_dir, drug, f\"BINARY/tiers=1/phenos={phenos_name}/model_stats_AF75.csv\"), index_col=[0])\n",
    "            stats['Drug'] = drug\n",
    "            plot_df.append(pd.DataFrame(stats.loc[\"Catalog\"]).T.rename(index={'Catalog': 'Regression'}))\n",
    "        \n",
    "    plot_df = pd.concat(plot_df).dropna(axis=1).reset_index(drop=True).set_index(\"Drug\")\n",
    "\n",
    "    # sort decreasing by the first metric\n",
    "    drugs_lst = plot_df.sort_values(metrics_lst[0], ascending=False).index.unique()\n",
    "    \n",
    "    # Bar width and positions\n",
    "    bar_width = 0.4\n",
    "    bar_positions = np.arange(len(drugs_lst))\n",
    "    \n",
    "    errwidth = 0.04\n",
    "    errlinewidth = 0.5\n",
    "    \n",
    "    for i, drug in enumerate(drugs_lst):\n",
    "\n",
    "        for j, metric in enumerate(metrics_lst):\n",
    "                \n",
    "            test = plot_df.loc[drug, metric] * 100\n",
    "            lower = plot_df.loc[drug, f\"{metric}_lb\"] * 100\n",
    "            upper = plot_df.loc[drug, f\"{metric}_ub\"] * 100\n",
    "            \n",
    "            # Plot the test value as a bar\n",
    "            patch = ax.bar(i + j * bar_width, test, bar_width, color=sns.color_palette(\"Set2\").as_hex()[j], linewidth=0.5, edgecolor='black', label=metric)                \n",
    "            ax.bar_label(patch, label_type='center', fmt='%.1f', fontsize=8)\n",
    "            \n",
    "            # Plot the confidence interval as a vertical line\n",
    "            ax.vlines(i + j * bar_width, lower, upper, color='black', linewidth=errlinewidth)\n",
    "    \n",
    "            # plot horizontal lines to make the error bars look nicer\n",
    "            ax.hlines(lower, i + j * bar_width  - errwidth, i + j * bar_width + errwidth, color='black', linewidth=errlinewidth)\n",
    "            ax.hlines(upper, i + j * bar_width - errwidth, i + j * bar_width + errwidth, color='black', linewidth=errlinewidth)\n",
    "\n",
    "            # Store metric information in the legend dictionary\n",
    "            if metrics_names_dict[metric] not in metric_legend_dict:\n",
    "                metric_legend_dict[metrics_names_dict[metric]] = (metric_colors[i], patch)\n",
    "\n",
    "    # ax.set_title(metric, fontsize=10)\n",
    "    # remove x-axis ticks and labels\n",
    "    # ax.set_xticks(bar_positions)\n",
    "\n",
    "    # dodge ticks so that they are in the middle of each group of bars\n",
    "    ax.set_xticks([pos + bar_width / len(metrics_lst) for pos in bar_positions])\n",
    "    # ax.set_xticklabels([drug_abbr_dict[drug] for drug in drugs_lst])\n",
    "    ax.set_xticklabels(drugs_lst, fontsize=7)\n",
    "    ax.set_yticklabels(np.array(ax.get_yticks()).astype(int), fontsize=9)\n",
    "    \n",
    "    # Show the plot\n",
    "    handles, labels = zip(*[(metric_legend_dict[metric][1], metric) for metric in metric_legend_dict])\n",
    "    ax.legend(handles, labels, bbox_to_anchor=(0.55, -0.15), loc=\"lower right\", ncol=len(metrics_lst), fontsize=7)\n",
    "    sns.despine()\n",
    "    plt.tight_layout()\n",
    "    plt.ylim(0, 100)\n",
    "\n",
    "    # Set the x-axis limits to reduce the space on both ends\n",
    "    ax.set_xlim(-0.4, len(drugs_lst) - 0.3)\n",
    "    \n",
    "    sns.despine()\n",
    "\n",
    "    if saveName is None:\n",
    "        plt.show()\n",
    "    else:\n",
    "        plt.savefig(saveName, dpi=300, bbox_inches=\"tight\")"
   ]
  },
  {
   "cell_type": "code",
   "execution_count": 29,
   "id": "12dadf26-4752-4642-8de4-f3fb135e6f02",
   "metadata": {},
   "outputs": [
    {
     "data": {
      "image/png": "[encoded data removed]",
      "text/plain": [
       "<Figure size 1800x600 with 1 Axes>"
      ]
     },
     "metadata": {},
     "output_type": "display_data"
    }
   ],
   "source": [
    "regression_binary_metrics_all_drugs(drugs_lst, [\"Sens\", \"Spec\"], saveName=\"TBScience_sens_spec.png\")"
   ]
  },
  {
   "cell_type": "markdown",
   "id": "709a5288-bd3d-4300-9820-1919441dc0ec",
   "metadata": {},
   "source": [
    "# MIC Model Analysis"
   ]
  },
  {
   "cell_type": "code",
   "execution_count": 6,
   "id": "a2b5e96a-0a8a-4ee2-8b36-96f6155e577d",
   "metadata": {},
   "outputs": [],
   "source": [
    "BDQ_WHO_analysis = pd.read_csv(os.path.join(analysis_dir, \"Bedaquiline\", \"BINARY\", \"tiers=1/phenos=WHO\", \"dropAF_noSyn_unpooled\", \"model_analysis.csv\"))\n",
    "BDQ_WHO_LRT = pd.read_csv(os.path.join(analysis_dir, \"Bedaquiline\", \"BINARY\", \"tiers=1/phenos=WHO\", \"dropAF_noSyn_unpooled\", \"LRT_results.csv\"))\n",
    "\n",
    "BDQ_ALL_analysis = pd.read_csv(os.path.join(analysis_dir, \"Bedaquiline\", \"BINARY\", \"tiers=1/phenos=ALL\", \"dropAF_noSyn_unpooled\", \"model_analysis.csv\"))\n",
    "BDQ_ALL_LRT = pd.read_csv(os.path.join(analysis_dir, \"Bedaquiline\", \"BINARY\", \"tiers=1/phenos=ALL\", \"dropAF_noSyn_unpooled\", \"LRT_results.csv\"))\n",
    "\n",
    "BDQ_MIC_analysis = pd.read_csv(os.path.join(analysis_dir, \"Bedaquiline\", \"MIC\", \"tiers=1\", \"dropAF_noSyn_unpooled\", \"model_analysis.csv\"))\n",
    "# BDQ_genos = pd.read_csv(os.path.join(analysis_dir, \"Bedaquiline\", \"genos_1.csv.gz\"), compression=\"gzip\")\n",
    "# BDQ_genos[\"mutation\"] = BDQ_genos[\"resolved_symbol\"] + \"_\" + BDQ_genos[\"variant_category\"]\n",
    "\n",
    "# del BDQ_genos[\"resolved_symbol\"]\n",
    "# del BDQ_genos[\"variant_category\"]"
   ]
  },
  {
   "cell_type": "code",
   "execution_count": 77,
   "id": "f08a4a4d-93c1-4d16-a867-51c8908d99fc",
   "metadata": {},
   "outputs": [
    {
     "name": "stdout",
     "output_type": "stream",
     "text": [
      "(12869, 7)\n",
      "(12646, 7)\n"
     ]
    }
   ],
   "source": [
    "BDQ_MICs = pd.read_csv(os.path.join(analysis_dir, \"Bedaquiline\", \"phenos_mic.csv\"))\n",
    "print(BDQ_MICs.shape)\n",
    "BDQ_MICs = process_multiple_MICs_different_media(BDQ_MICs)\n",
    "print(BDQ_MICs.shape)\n",
    "\n",
    "# add variable denoting if mmpS5_c.-74G>T is present in a sample or not\n",
    "samples_with_variant = BDQ_genos.query(\"mutation=='mmpS5_c.-74G>T' & variant_binary_status==1\").sample_id.values\n",
    "BDQ_MICs.loc[BDQ_MICs[\"sample_id\"].isin(samples_with_variant), \"mutation\"] = 1\n",
    "BDQ_MICs[\"mutation\"] = BDQ_MICs[\"mutation\"].fillna(0).astype(int)"
   ]
  },
  {
   "cell_type": "code",
   "execution_count": 97,
   "id": "b1d62159-b359-4495-920f-8e907e5e0608",
   "metadata": {},
   "outputs": [
    {
     "data": {
      "text/plain": [
       "((12646, 8), 12646)"
      ]
     },
     "execution_count": 97,
     "metadata": {},
     "output_type": "execute_result"
    }
   ],
   "source": [
    "BDQ_MICs.shape, BDQ_MICs.sample_id.nunique()"
   ]
  },
  {
   "cell_type": "code",
   "execution_count": 98,
   "id": "949a6340-d57e-4d95-ba32-f02d583754c8",
   "metadata": {},
   "outputs": [
    {
     "data": {
      "text/plain": [
       "113"
      ]
     },
     "execution_count": 98,
     "metadata": {},
     "output_type": "execute_result"
    }
   ],
   "source": [
    "BDQ_MICs.query(\"mutation==1\").sample_id.nunique()"
   ]
  },
  {
   "cell_type": "code",
   "execution_count": 94,
   "id": "84569235-f881-4ccd-abf6-3f0aa27bb0d2",
   "metadata": {},
   "outputs": [
    {
     "data": {
      "image/png": "[encoded data removed]",
      "text/plain": [
       "<Figure size 960x720 with 1 Axes>"
      ]
     },
     "metadata": {},
     "output_type": "display_data"
    }
   ],
   "source": [
    "sns.histplot(data=BDQ_MICs.sort_values(\"mutation\", ascending=True),\n",
    "             x=\"mic_value\",\n",
    "             hue=\"mutation\", \n",
    "             hue_order=[0, 1],\n",
    "             log_scale=2,\n",
    "             stat=\"probability\",\n",
    "             common_norm=False,\n",
    "             multiple=\"dodge\",\n",
    "             palette=\"Set2\",\n",
    "             legend=True\n",
    "            )\n",
    "\n",
    "plt.axvline(0.25, linestyle='--', linewidth=0.75, color=\"black\")\n",
    "plt.title(\"Bedaquiline MICs Stratified by mmpS5_c.-74G>T\")\n",
    "plt.xlabel(\"MIC (µg/mL)\")\n",
    "\n",
    "sns.despine()\n",
    "plt.savefig(\"BDQ_mmpS5_variant_MIC.png\", dpi=300, bbox_inches=\"tight\")"
   ]
  },
  {
   "cell_type": "code",
   "execution_count": 86,
   "id": "804158aa-0429-4936-bdcb-daa307c1fc69",
   "metadata": {},
   "outputs": [
    {
     "name": "stdout",
     "output_type": "stream",
     "text": [
      "22\n"
     ]
    },
    {
     "data": {
      "text/plain": [
       "mutation\n",
       "mmpL5_p.Ile948Val    22\n",
       "mmpL5_p.Thr794Ile    22\n",
       "mmpL5_p.Asp767Asn    22\n",
       "atpE_p.Ile66Met       2\n",
       "Rv0678_p.Glu49fs      2\n",
       "Rv0678_p.Asp47fs      2\n",
       "Rv0678_p.Gln115*      1\n",
       "Rv0678_p.Cys46Arg     1\n",
       "Name: count, dtype: int64"
      ]
     },
     "execution_count": 86,
     "metadata": {},
     "output_type": "execute_result"
    }
   ],
   "source": [
    "search_lst = BDQ_MICs.query(\"mic_value > 0.25 & mutation==1\").sample_id.values\n",
    "print(len(search_lst))\n",
    "\n",
    "# what other mutations do they have?\n",
    "muts_lst = BDQ_genos.query(\"sample_id in @search_lst & variant_binary_status == 1 & mutation != 'mmpS5_c.-74G>T'\").mutation.unique()\n",
    "BDQ_genos.query(\"sample_id in @search_lst & variant_binary_status == 1 & mutation != 'mmpS5_c.-74G>T'\").mutation.value_counts()"
   ]
  },
  {
   "cell_type": "code",
   "execution_count": null,
   "id": "f0524a83-7bc8-44bd-88a1-eb7644e871bc",
   "metadata": {},
   "outputs": [],
   "source": [
    "Eight samples contain atpE_p.Ile66Met (2), Rv0678_p.Glu49fs (2), Rv0678_p.Asp47fs (2), Rv0678_p.Gln115* (1), and Rv0678_p.Cys46Arg (1), which are graded as strongly or interim-associated with Bedaquiline resistance in SOLO V2. "
   ]
  },
  {
   "cell_type": "code",
   "execution_count": 90,
   "id": "37684d81-cf1e-4237-b815-1c0d9dbc8353",
   "metadata": {},
   "outputs": [
    {
     "data": {
      "text/plain": [
       "8"
      ]
     },
     "execution_count": 90,
     "metadata": {},
     "output_type": "execute_result"
    }
   ],
   "source": [
    "BDQ_genos.query(\"sample_id in @search_lst & variant_binary_status == 1 & ~mutation.str.contains('mmp')\").sample_id.nunique()"
   ]
  },
  {
   "cell_type": "code",
   "execution_count": 89,
   "id": "cdb43a04-1579-462c-bead-20c0bab7bf16",
   "metadata": {},
   "outputs": [
    {
     "data": {
      "text/html": [
       "<div>\n",
       "<style scoped>\n",
       "    .dataframe tbody tr th:only-of-type {\n",
       "        vertical-align: middle;\n",
       "    }\n",
       "\n",
       "    .dataframe tbody tr th {\n",
       "        vertical-align: top;\n",
       "    }\n",
       "\n",
       "    .dataframe thead th {\n",
       "        text-align: right;\n",
       "    }\n",
       "</style>\n",
       "<table border=\"1\" class=\"dataframe\">\n",
       "  <thead>\n",
       "    <tr style=\"text-align: right;\">\n",
       "      <th></th>\n",
       "      <th>sample_id</th>\n",
       "      <th>predicted_effect</th>\n",
       "      <th>variant_allele_frequency</th>\n",
       "      <th>variant_binary_status</th>\n",
       "      <th>position</th>\n",
       "      <th>mutation</th>\n",
       "    </tr>\n",
       "  </thead>\n",
       "  <tbody>\n",
       "    <tr>\n",
       "      <th>3370</th>\n",
       "      <td>822946</td>\n",
       "      <td>missense_variant</td>\n",
       "      <td>1.00</td>\n",
       "      <td>1.0</td>\n",
       "      <td>1461242</td>\n",
       "      <td>atpE_p.Ile66Met</td>\n",
       "    </tr>\n",
       "    <tr>\n",
       "      <th>22852</th>\n",
       "      <td>823148</td>\n",
       "      <td>missense_variant</td>\n",
       "      <td>1.00</td>\n",
       "      <td>1.0</td>\n",
       "      <td>1461242</td>\n",
       "      <td>atpE_p.Ile66Met</td>\n",
       "    </tr>\n",
       "    <tr>\n",
       "      <th>4208537</th>\n",
       "      <td>822943</td>\n",
       "      <td>frameshift</td>\n",
       "      <td>0.96</td>\n",
       "      <td>1.0</td>\n",
       "      <td>779130</td>\n",
       "      <td>Rv0678_p.Glu49fs</td>\n",
       "    </tr>\n",
       "    <tr>\n",
       "      <th>4213193</th>\n",
       "      <td>823349</td>\n",
       "      <td>frameshift</td>\n",
       "      <td>0.96</td>\n",
       "      <td>1.0</td>\n",
       "      <td>779130</td>\n",
       "      <td>Rv0678_p.Glu49fs</td>\n",
       "    </tr>\n",
       "    <tr>\n",
       "      <th>4520902</th>\n",
       "      <td>823314</td>\n",
       "      <td>stop_gained</td>\n",
       "      <td>1.00</td>\n",
       "      <td>1.0</td>\n",
       "      <td>779332</td>\n",
       "      <td>Rv0678_p.Gln115*</td>\n",
       "    </tr>\n",
       "    <tr>\n",
       "      <th>9268966</th>\n",
       "      <td>823466</td>\n",
       "      <td>missense_variant</td>\n",
       "      <td>1.00</td>\n",
       "      <td>1.0</td>\n",
       "      <td>779125</td>\n",
       "      <td>Rv0678_p.Cys46Arg</td>\n",
       "    </tr>\n",
       "    <tr>\n",
       "      <th>9502540</th>\n",
       "      <td>823455</td>\n",
       "      <td>frameshift</td>\n",
       "      <td>0.99</td>\n",
       "      <td>1.0</td>\n",
       "      <td>779129;779126;779127;779121;779128;779125;779122</td>\n",
       "      <td>Rv0678_p.Asp47fs</td>\n",
       "    </tr>\n",
       "    <tr>\n",
       "      <th>9506660</th>\n",
       "      <td>823065</td>\n",
       "      <td>frameshift</td>\n",
       "      <td>0.99</td>\n",
       "      <td>1.0</td>\n",
       "      <td>779129;779126;779127;779121;779128;779125;779122</td>\n",
       "      <td>Rv0678_p.Asp47fs</td>\n",
       "    </tr>\n",
       "  </tbody>\n",
       "</table>\n",
       "</div>"
      ],
      "text/plain": [
       "         sample_id  predicted_effect  variant_allele_frequency  \\\n",
       "3370        822946  missense_variant                      1.00   \n",
       "22852       823148  missense_variant                      1.00   \n",
       "4208537     822943        frameshift                      0.96   \n",
       "4213193     823349        frameshift                      0.96   \n",
       "4520902     823314       stop_gained                      1.00   \n",
       "9268966     823466  missense_variant                      1.00   \n",
       "9502540     823455        frameshift                      0.99   \n",
       "9506660     823065        frameshift                      0.99   \n",
       "\n",
       "         variant_binary_status  \\\n",
       "3370                       1.0   \n",
       "22852                      1.0   \n",
       "4208537                    1.0   \n",
       "4213193                    1.0   \n",
       "4520902                    1.0   \n",
       "9268966                    1.0   \n",
       "9502540                    1.0   \n",
       "9506660                    1.0   \n",
       "\n",
       "                                                 position           mutation  \n",
       "3370                                              1461242    atpE_p.Ile66Met  \n",
       "22852                                             1461242    atpE_p.Ile66Met  \n",
       "4208537                                            779130   Rv0678_p.Glu49fs  \n",
       "4213193                                            779130   Rv0678_p.Glu49fs  \n",
       "4520902                                            779332   Rv0678_p.Gln115*  \n",
       "9268966                                            779125  Rv0678_p.Cys46Arg  \n",
       "9502540  779129;779126;779127;779121;779128;779125;779122   Rv0678_p.Asp47fs  \n",
       "9506660  779129;779126;779127;779121;779128;779125;779122   Rv0678_p.Asp47fs  "
      ]
     },
     "execution_count": 89,
     "metadata": {},
     "output_type": "execute_result"
    }
   ],
   "source": [
    "BDQ_genos.query(\"sample_id in @search_lst & variant_binary_status == 1 & ~mutation.str.contains('mmp')\")"
   ]
  },
  {
   "cell_type": "code",
   "execution_count": 91,
   "id": "0562f5f1-a1f5-4e6c-9296-5d229399ab89",
   "metadata": {},
   "outputs": [
    {
     "data": {
      "text/html": [
       "<div>\n",
       "<style scoped>\n",
       "    .dataframe tbody tr th:only-of-type {\n",
       "        vertical-align: middle;\n",
       "    }\n",
       "\n",
       "    .dataframe tbody tr th {\n",
       "        vertical-align: top;\n",
       "    }\n",
       "\n",
       "    .dataframe thead th {\n",
       "        text-align: right;\n",
       "    }\n",
       "</style>\n",
       "<table border=\"1\" class=\"dataframe\">\n",
       "  <thead>\n",
       "    <tr style=\"text-align: right;\">\n",
       "      <th></th>\n",
       "      <th>variant</th>\n",
       "      <th>effect</th>\n",
       "      <th>Additional grading criteria applied</th>\n",
       "      <th>FINAL CONFIDENCE GRADING</th>\n",
       "      <th>Comment</th>\n",
       "      <th>CHANGES vs ver1</th>\n",
       "    </tr>\n",
       "  </thead>\n",
       "  <tbody>\n",
       "    <tr>\n",
       "      <th>2205</th>\n",
       "      <td>atpE_p.Ile66Met</td>\n",
       "      <td>missense_variant</td>\n",
       "      <td>Evidence from ALL dataset only</td>\n",
       "      <td>2) Assoc w R - Interim</td>\n",
       "      <td>Includes data from one site that only submitte...</td>\n",
       "      <td>New AwRI</td>\n",
       "    </tr>\n",
       "    <tr>\n",
       "      <th>3226</th>\n",
       "      <td>Rv0678_p.Asp47fs</td>\n",
       "      <td>frameshift</td>\n",
       "      <td>NaN</td>\n",
       "      <td>1) Assoc w R</td>\n",
       "      <td>Can only confer resistance if genetically link...</td>\n",
       "      <td>New AwR</td>\n",
       "    </tr>\n",
       "    <tr>\n",
       "      <th>3234</th>\n",
       "      <td>Rv0678_p.Cys46Arg</td>\n",
       "      <td>missense_variant</td>\n",
       "      <td>Potentially inflated PPV</td>\n",
       "      <td>2) Assoc w R - Interim</td>\n",
       "      <td>Includes data from one site that only submitte...</td>\n",
       "      <td>UP from Uncertain to AwRI</td>\n",
       "    </tr>\n",
       "    <tr>\n",
       "      <th>3240</th>\n",
       "      <td>Rv0678_p.Gln115*</td>\n",
       "      <td>stop_gained</td>\n",
       "      <td>Indel frameshift or premature stop codon (LoF)</td>\n",
       "      <td>2) Assoc w R - Interim</td>\n",
       "      <td>Can only confer resistance if genetically link...</td>\n",
       "      <td>UP from Uncertain to AwRI</td>\n",
       "    </tr>\n",
       "    <tr>\n",
       "      <th>3262</th>\n",
       "      <td>Rv0678_p.Glu49fs</td>\n",
       "      <td>frameshift</td>\n",
       "      <td>NaN</td>\n",
       "      <td>1) Assoc w R</td>\n",
       "      <td>Can only confer resistance if genetically link...</td>\n",
       "      <td>UP from Uncertain to AwR</td>\n",
       "    </tr>\n",
       "  </tbody>\n",
       "</table>\n",
       "</div>"
      ],
      "text/plain": [
       "                variant            effect  \\\n",
       "2205    atpE_p.Ile66Met  missense_variant   \n",
       "3226   Rv0678_p.Asp47fs        frameshift   \n",
       "3234  Rv0678_p.Cys46Arg  missense_variant   \n",
       "3240   Rv0678_p.Gln115*       stop_gained   \n",
       "3262   Rv0678_p.Glu49fs        frameshift   \n",
       "\n",
       "                 Additional grading criteria applied FINAL CONFIDENCE GRADING  \\\n",
       "2205                  Evidence from ALL dataset only   2) Assoc w R - Interim   \n",
       "3226                                             NaN             1) Assoc w R   \n",
       "3234                        Potentially inflated PPV   2) Assoc w R - Interim   \n",
       "3240  Indel frameshift or premature stop codon (LoF)   2) Assoc w R - Interim   \n",
       "3262                                             NaN             1) Assoc w R   \n",
       "\n",
       "                                                Comment  \\\n",
       "2205  Includes data from one site that only submitte...   \n",
       "3226  Can only confer resistance if genetically link...   \n",
       "3234  Includes data from one site that only submitte...   \n",
       "3240  Can only confer resistance if genetically link...   \n",
       "3262  Can only confer resistance if genetically link...   \n",
       "\n",
       "                CHANGES vs ver1  \n",
       "2205                   New AwRI  \n",
       "3226                    New AwR  \n",
       "3234  UP from Uncertain to AwRI  \n",
       "3240  UP from Uncertain to AwRI  \n",
       "3262   UP from Uncertain to AwR  "
      ]
     },
     "execution_count": 91,
     "metadata": {},
     "output_type": "execute_result"
    }
   ],
   "source": [
    "solo_results.query(\"drug=='Bedaquiline' & variant in @muts_lst & ~variant.str.contains('mmp')\")[['variant', 'effect', 'Additional grading criteria applied', 'FINAL CONFIDENCE GRADING', 'Comment', 'CHANGES vs ver1']]"
   ]
  },
  {
   "cell_type": "code",
   "execution_count": 93,
   "id": "f1371660-a7a5-43e3-acc5-1f78e757562b",
   "metadata": {},
   "outputs": [
    {
     "data": {
      "text/html": [
       "<div>\n",
       "<style scoped>\n",
       "    .dataframe tbody tr th:only-of-type {\n",
       "        vertical-align: middle;\n",
       "    }\n",
       "\n",
       "    .dataframe tbody tr th {\n",
       "        vertical-align: top;\n",
       "    }\n",
       "\n",
       "    .dataframe thead th {\n",
       "        text-align: right;\n",
       "    }\n",
       "</style>\n",
       "<table border=\"1\" class=\"dataframe\">\n",
       "  <thead>\n",
       "    <tr style=\"text-align: right;\">\n",
       "      <th></th>\n",
       "      <th>drug</th>\n",
       "      <th>gene</th>\n",
       "      <th>mutation</th>\n",
       "      <th>variant</th>\n",
       "      <th>tier</th>\n",
       "      <th>effect</th>\n",
       "      <th>genomic position</th>\n",
       "      <th>algorithm_pass</th>\n",
       "      <th>Present_SOLO_SR</th>\n",
       "      <th>Present_SOLO_R</th>\n",
       "      <th>...</th>\n",
       "      <th>Additional grading criteria applied</th>\n",
       "      <th>FINAL CONFIDENCE GRADING</th>\n",
       "      <th>Comment</th>\n",
       "      <th>CHANGES vs ver1</th>\n",
       "      <th>Relaxed thresholds simulation (BDQ_Rv0678, CFZ_Rv0678, INH_katG, DLM_ddn/fbiA/fbiB/fbiC/fgd1/Rv2983)</th>\n",
       "      <th>Silent mutation</th>\n",
       "      <th>Listed in abridged tables</th>\n",
       "      <th>Additional grading</th>\n",
       "      <th>Footnote</th>\n",
       "      <th>CHANGES vs ver1.1</th>\n",
       "    </tr>\n",
       "  </thead>\n",
       "  <tbody>\n",
       "    <tr>\n",
       "      <th>2753</th>\n",
       "      <td>Bedaquiline</td>\n",
       "      <td>mmpS5</td>\n",
       "      <td>c.-74G&gt;T</td>\n",
       "      <td>mmpS5_c.-74G&gt;T</td>\n",
       "      <td>1</td>\n",
       "      <td>upstream_gene_variant</td>\n",
       "      <td>778979.0</td>\n",
       "      <td>0.0</td>\n",
       "      <td>0.0</td>\n",
       "      <td>0.0</td>\n",
       "      <td>...</td>\n",
       "      <td>Literature evidence (PMID 28031270; 34503982)</td>\n",
       "      <td>4) Not assoc w R - Interim</td>\n",
       "      <td>NaN</td>\n",
       "      <td>UP from Uncertain to NotAwRI</td>\n",
       "      <td>NaN</td>\n",
       "      <td>NaN</td>\n",
       "      <td>yes</td>\n",
       "      <td>Lit. (PMID 28031270; 34503982)</td>\n",
       "      <td>NaN</td>\n",
       "      <td>4</td>\n",
       "    </tr>\n",
       "  </tbody>\n",
       "</table>\n",
       "<p>1 rows × 114 columns</p>\n",
       "</div>"
      ],
      "text/plain": [
       "             drug   gene  mutation         variant  tier  \\\n",
       "2753  Bedaquiline  mmpS5  c.-74G>T  mmpS5_c.-74G>T     1   \n",
       "\n",
       "                     effect  genomic position  algorithm_pass  \\\n",
       "2753  upstream_gene_variant          778979.0             0.0   \n",
       "\n",
       "      Present_SOLO_SR  Present_SOLO_R  ...  \\\n",
       "2753              0.0             0.0  ...   \n",
       "\n",
       "                Additional grading criteria applied  \\\n",
       "2753  Literature evidence (PMID 28031270; 34503982)   \n",
       "\n",
       "        FINAL CONFIDENCE GRADING  Comment               CHANGES vs ver1  \\\n",
       "2753  4) Not assoc w R - Interim      NaN  UP from Uncertain to NotAwRI   \n",
       "\n",
       "      Relaxed thresholds simulation (BDQ_Rv0678, CFZ_Rv0678, INH_katG, DLM_ddn/fbiA/fbiB/fbiC/fgd1/Rv2983)  \\\n",
       "2753                                                NaN                                                      \n",
       "\n",
       "     Silent mutation Listed in abridged tables  \\\n",
       "2753             NaN                       yes   \n",
       "\n",
       "                  Additional grading Footnote CHANGES vs ver1.1  \n",
       "2753  Lit. (PMID 28031270; 34503982)      NaN                 4  \n",
       "\n",
       "[1 rows x 114 columns]"
      ]
     },
     "execution_count": 93,
     "metadata": {},
     "output_type": "execute_result"
    }
   ],
   "source": [
    "solo_results.query(\"drug=='Bedaquiline' & variant=='mmpS5_c.-74G>T'\")"
   ]
  },
  {
   "cell_type": "code",
   "execution_count": null,
   "id": "a361c001-df26-4034-b7ee-1b23f0971446",
   "metadata": {},
   "outputs": [],
   "source": []
  },
  {
   "cell_type": "code",
   "execution_count": 35,
   "id": "2e9caea1-21cb-417f-a3ef-c6c77acf6610",
   "metadata": {},
   "outputs": [
    {
     "data": {
      "text/html": [
       "<div>\n",
       "<style scoped>\n",
       "    .dataframe tbody tr th:only-of-type {\n",
       "        vertical-align: middle;\n",
       "    }\n",
       "\n",
       "    .dataframe tbody tr th {\n",
       "        vertical-align: top;\n",
       "    }\n",
       "\n",
       "    .dataframe thead th {\n",
       "        text-align: right;\n",
       "    }\n",
       "</style>\n",
       "<table border=\"1\" class=\"dataframe\">\n",
       "  <thead>\n",
       "    <tr style=\"text-align: right;\">\n",
       "      <th></th>\n",
       "      <th>mutation</th>\n",
       "      <th>Odds_Ratio</th>\n",
       "      <th>BH_pval</th>\n",
       "      <th>PPV_LB</th>\n",
       "      <th>PPV</th>\n",
       "      <th>PPV_UB</th>\n",
       "      <th>Mut_R</th>\n",
       "      <th>Mut_S</th>\n",
       "      <th>NoMut_S</th>\n",
       "      <th>NoMut_R</th>\n",
       "      <th>LRT_pval</th>\n",
       "    </tr>\n",
       "  </thead>\n",
       "  <tbody>\n",
       "    <tr>\n",
       "      <th>0</th>\n",
       "      <td>mmpS5_c.-74G&gt;T</td>\n",
       "      <td>1.40935</td>\n",
       "      <td>0.0</td>\n",
       "      <td>0.769425</td>\n",
       "      <td>0.914286</td>\n",
       "      <td>0.981962</td>\n",
       "      <td>32.0</td>\n",
       "      <td>3.0</td>\n",
       "      <td>1245.0</td>\n",
       "      <td>732.0</td>\n",
       "      <td>1.462151e-14</td>\n",
       "    </tr>\n",
       "  </tbody>\n",
       "</table>\n",
       "</div>"
      ],
      "text/plain": [
       "         mutation  Odds_Ratio  BH_pval    PPV_LB       PPV    PPV_UB  Mut_R  \\\n",
       "0  mmpS5_c.-74G>T     1.40935      0.0  0.769425  0.914286  0.981962   32.0   \n",
       "\n",
       "   Mut_S  NoMut_S  NoMut_R      LRT_pval  \n",
       "0    3.0   1245.0    732.0  1.462151e-14  "
      ]
     },
     "execution_count": 35,
     "metadata": {},
     "output_type": "execute_result"
    }
   ],
   "source": [
    "BDQ_WHO_analysis.query(\"mutation=='mmpS5_c.-74G>T'\")[['mutation', 'Odds_Ratio', 'BH_pval', 'PPV_LB', 'PPV', 'PPV_UB', 'Mut_R',\n",
    "       'Mut_S', 'NoMut_S', 'NoMut_R']].merge(BDQ_WHO_LRT.query(\"mutation=='mmpS5_c.-74G>T'\")[['mutation', 'LRT_pval']])"
   ]
  },
  {
   "cell_type": "code",
   "execution_count": 30,
   "id": "ef59574d-080a-403a-93c5-3780fd630c25",
   "metadata": {},
   "outputs": [
    {
     "data": {
      "text/html": [
       "<div>\n",
       "<style scoped>\n",
       "    .dataframe tbody tr th:only-of-type {\n",
       "        vertical-align: middle;\n",
       "    }\n",
       "\n",
       "    .dataframe tbody tr th {\n",
       "        vertical-align: top;\n",
       "    }\n",
       "\n",
       "    .dataframe thead th {\n",
       "        text-align: right;\n",
       "    }\n",
       "</style>\n",
       "<table border=\"1\" class=\"dataframe\">\n",
       "  <thead>\n",
       "    <tr style=\"text-align: right;\">\n",
       "      <th></th>\n",
       "      <th>Medium</th>\n",
       "      <th>Value</th>\n",
       "      <th>Drug</th>\n",
       "    </tr>\n",
       "  </thead>\n",
       "  <tbody>\n",
       "    <tr>\n",
       "      <th>18</th>\n",
       "      <td>UKMYC5</td>\n",
       "      <td>0.25</td>\n",
       "      <td>Bedaquiline</td>\n",
       "    </tr>\n",
       "    <tr>\n",
       "      <th>19</th>\n",
       "      <td>UKMYC6</td>\n",
       "      <td>0.25</td>\n",
       "      <td>Bedaquiline</td>\n",
       "    </tr>\n",
       "    <tr>\n",
       "      <th>32</th>\n",
       "      <td>7H11</td>\n",
       "      <td>0.25</td>\n",
       "      <td>Bedaquiline</td>\n",
       "    </tr>\n",
       "    <tr>\n",
       "      <th>51</th>\n",
       "      <td>MGIT</td>\n",
       "      <td>1.00</td>\n",
       "      <td>Bedaquiline</td>\n",
       "    </tr>\n",
       "  </tbody>\n",
       "</table>\n",
       "</div>"
      ],
      "text/plain": [
       "    Medium  Value         Drug\n",
       "18  UKMYC5   0.25  Bedaquiline\n",
       "19  UKMYC6   0.25  Bedaquiline\n",
       "32    7H11   0.25  Bedaquiline\n",
       "51    MGIT   1.00  Bedaquiline"
      ]
     },
     "execution_count": 30,
     "metadata": {},
     "output_type": "execute_result"
    }
   ],
   "source": [
    "cc_df.query(\"Drug=='Bedaquiline'\")"
   ]
  },
  {
   "cell_type": "code",
   "execution_count": 44,
   "id": "f6611b50-1354-4946-ac8f-864838714b1d",
   "metadata": {},
   "outputs": [
    {
     "data": {
      "text/plain": [
       "(0.041884816753926704, 0.002403846153846154)"
      ]
     },
     "execution_count": 44,
     "metadata": {},
     "output_type": "execute_result"
    }
   ],
   "source": [
    "32/(32+732), 3/(3+1245)"
   ]
  },
  {
   "cell_type": "code",
   "execution_count": 45,
   "id": "4cb13661-3dbe-4337-a3a8-872076650d4d",
   "metadata": {},
   "outputs": [
    {
     "data": {
      "text/plain": [
       "17.42408376963351"
      ]
     },
     "execution_count": 45,
     "metadata": {},
     "output_type": "execute_result"
    }
   ],
   "source": [
    "0.041884816753926704/0.002403846153846154"
   ]
  },
  {
   "cell_type": "code",
   "execution_count": 34,
   "id": "acff2316-6219-45c2-9d38-c3f1fd5bb5c8",
   "metadata": {},
   "outputs": [
    {
     "data": {
      "text/plain": [
       "0.9142857142857143"
      ]
     },
     "execution_count": 34,
     "metadata": {},
     "output_type": "execute_result"
    }
   ],
   "source": [
    "32/35"
   ]
  },
  {
   "cell_type": "code",
   "execution_count": 36,
   "id": "94239d44-5b5e-4715-ba6c-ae07c59a3f23",
   "metadata": {},
   "outputs": [
    {
     "data": {
      "text/html": [
       "<div>\n",
       "<style scoped>\n",
       "    .dataframe tbody tr th:only-of-type {\n",
       "        vertical-align: middle;\n",
       "    }\n",
       "\n",
       "    .dataframe tbody tr th {\n",
       "        vertical-align: top;\n",
       "    }\n",
       "\n",
       "    .dataframe thead th {\n",
       "        text-align: right;\n",
       "    }\n",
       "</style>\n",
       "<table border=\"1\" class=\"dataframe\">\n",
       "  <thead>\n",
       "    <tr style=\"text-align: right;\">\n",
       "      <th></th>\n",
       "      <th>mutation</th>\n",
       "      <th>Odds_Ratio</th>\n",
       "      <th>BH_pval</th>\n",
       "      <th>PPV_LB</th>\n",
       "      <th>PPV</th>\n",
       "      <th>PPV_UB</th>\n",
       "      <th>Mut_R</th>\n",
       "      <th>Mut_S</th>\n",
       "      <th>NoMut_S</th>\n",
       "      <th>NoMut_R</th>\n",
       "      <th>LRT_pval</th>\n",
       "    </tr>\n",
       "  </thead>\n",
       "  <tbody>\n",
       "    <tr>\n",
       "      <th>0</th>\n",
       "      <td>mmpS5_c.-74G&gt;T</td>\n",
       "      <td>1.219286</td>\n",
       "      <td>0.0</td>\n",
       "      <td>0.188448</td>\n",
       "      <td>0.264463</td>\n",
       "      <td>0.352361</td>\n",
       "      <td>32.0</td>\n",
       "      <td>89.0</td>\n",
       "      <td>12892.0</td>\n",
       "      <td>848.0</td>\n",
       "      <td>1.551669e-39</td>\n",
       "    </tr>\n",
       "  </tbody>\n",
       "</table>\n",
       "</div>"
      ],
      "text/plain": [
       "         mutation  Odds_Ratio  BH_pval    PPV_LB       PPV    PPV_UB  Mut_R  \\\n",
       "0  mmpS5_c.-74G>T    1.219286      0.0  0.188448  0.264463  0.352361   32.0   \n",
       "\n",
       "   Mut_S  NoMut_S  NoMut_R      LRT_pval  \n",
       "0   89.0  12892.0    848.0  1.551669e-39  "
      ]
     },
     "execution_count": 36,
     "metadata": {},
     "output_type": "execute_result"
    }
   ],
   "source": [
    "BDQ_ALL_analysis.query(\"mutation=='mmpS5_c.-74G>T'\")[['mutation', 'Odds_Ratio', 'BH_pval', 'PPV_LB', 'PPV', 'PPV_UB', 'Mut_R',\n",
    "       'Mut_S', 'NoMut_S', 'NoMut_R']].merge(BDQ_ALL_LRT.query(\"mutation=='mmpS5_c.-74G>T'\")[['mutation', 'LRT_pval']])"
   ]
  },
  {
   "cell_type": "code",
   "execution_count": 46,
   "id": "0f0193d6-5427-472e-8f05-7256e5f7c2d8",
   "metadata": {},
   "outputs": [
    {
     "data": {
      "text/plain": [
       "(0.03636363636363636, 0.006856174408751252)"
      ]
     },
     "execution_count": 46,
     "metadata": {},
     "output_type": "execute_result"
    }
   ],
   "source": [
    "32/(32+848), 89/(89+12892)"
   ]
  },
  {
   "cell_type": "code",
   "execution_count": 47,
   "id": "63e88756-e155-4df1-a1ec-310f1b41eebf",
   "metadata": {},
   "outputs": [
    {
     "data": {
      "text/plain": [
       "5.303779366700715"
      ]
     },
     "execution_count": 47,
     "metadata": {},
     "output_type": "execute_result"
    }
   ],
   "source": [
    "0.03636363636363636/0.006856174408751252"
   ]
  },
  {
   "cell_type": "code",
   "execution_count": 37,
   "id": "ebfb09bf-81cc-4b85-a29f-bc62ddbb39d7",
   "metadata": {},
   "outputs": [
    {
     "data": {
      "text/plain": [
       "0.2644628099173554"
      ]
     },
     "execution_count": 37,
     "metadata": {},
     "output_type": "execute_result"
    }
   ],
   "source": [
    "32/121"
   ]
  },
  {
   "cell_type": "code",
   "execution_count": 3,
   "id": "46053c56-60ef-4b1f-bb1e-2dc7101d9c83",
   "metadata": {},
   "outputs": [
    {
     "data": {
      "text/html": [
       "<div>\n",
       "<style scoped>\n",
       "    .dataframe tbody tr th:only-of-type {\n",
       "        vertical-align: middle;\n",
       "    }\n",
       "\n",
       "    .dataframe tbody tr th {\n",
       "        vertical-align: top;\n",
       "    }\n",
       "\n",
       "    .dataframe thead th {\n",
       "        text-align: right;\n",
       "    }\n",
       "</style>\n",
       "<table border=\"1\" class=\"dataframe\">\n",
       "  <thead>\n",
       "    <tr style=\"text-align: right;\">\n",
       "      <th></th>\n",
       "      <th>mutation</th>\n",
       "      <th>coef</th>\n",
       "      <th>pval</th>\n",
       "      <th>neutral_pval</th>\n",
       "      <th>BH_pval</th>\n",
       "      <th>Bonferroni_pval</th>\n",
       "      <th>BH_neutral_pval</th>\n",
       "      <th>Bonferroni_neutral_pval</th>\n",
       "      <th>confidence</th>\n",
       "    </tr>\n",
       "  </thead>\n",
       "  <tbody>\n",
       "    <tr>\n",
       "      <th>379</th>\n",
       "      <td>mmpS5_c.-74G&gt;T</td>\n",
       "      <td>-0.003734</td>\n",
       "      <td>0.424</td>\n",
       "      <td>0.167</td>\n",
       "      <td>0.4872</td>\n",
       "      <td>1.0</td>\n",
       "      <td>1.0</td>\n",
       "      <td>1.0</td>\n",
       "      <td>3) Uncertain significance</td>\n",
       "    </tr>\n",
       "  </tbody>\n",
       "</table>\n",
       "</div>"
      ],
      "text/plain": [
       "           mutation      coef   pval  neutral_pval  BH_pval  Bonferroni_pval  \\\n",
       "379  mmpS5_c.-74G>T -0.003734  0.424         0.167   0.4872              1.0   \n",
       "\n",
       "     BH_neutral_pval  Bonferroni_neutral_pval                 confidence  \n",
       "379              1.0                      1.0  3) Uncertain significance  "
      ]
     },
     "execution_count": 3,
     "metadata": {},
     "output_type": "execute_result"
    }
   ],
   "source": [
    "BDQ_MIC_analysis.query(\"mutation=='mmpS5_c.-74G>T'\")"
   ]
  },
  {
   "cell_type": "code",
   "execution_count": 42,
   "id": "ab074a26-f149-43c2-b877-dfa3e7715763",
   "metadata": {},
   "outputs": [
    {
     "data": {
      "text/html": [
       "<div>\n",
       "<style scoped>\n",
       "    .dataframe tbody tr th:only-of-type {\n",
       "        vertical-align: middle;\n",
       "    }\n",
       "\n",
       "    .dataframe tbody tr th {\n",
       "        vertical-align: top;\n",
       "    }\n",
       "\n",
       "    .dataframe thead th {\n",
       "        text-align: right;\n",
       "    }\n",
       "</style>\n",
       "<table border=\"1\" class=\"dataframe\">\n",
       "  <thead>\n",
       "    <tr style=\"text-align: right;\">\n",
       "      <th></th>\n",
       "      <th>drug</th>\n",
       "      <th>gene</th>\n",
       "      <th>mutation</th>\n",
       "      <th>variant</th>\n",
       "      <th>tier</th>\n",
       "      <th>effect</th>\n",
       "      <th>genomic position</th>\n",
       "      <th>algorithm_pass</th>\n",
       "      <th>Present_SOLO_SR</th>\n",
       "      <th>Present_SOLO_R</th>\n",
       "      <th>...</th>\n",
       "      <th>Additional grading criteria applied</th>\n",
       "      <th>FINAL CONFIDENCE GRADING</th>\n",
       "      <th>Comment</th>\n",
       "      <th>CHANGES vs ver1</th>\n",
       "      <th>Relaxed thresholds simulation (BDQ_Rv0678, CFZ_Rv0678, INH_katG, DLM_ddn/fbiA/fbiB/fbiC/fgd1/Rv2983)</th>\n",
       "      <th>Silent mutation</th>\n",
       "      <th>Listed in abridged tables</th>\n",
       "      <th>Additional grading</th>\n",
       "      <th>Footnote</th>\n",
       "      <th>CHANGES vs ver1.1</th>\n",
       "    </tr>\n",
       "  </thead>\n",
       "  <tbody>\n",
       "    <tr>\n",
       "      <th>2753</th>\n",
       "      <td>Bedaquiline</td>\n",
       "      <td>mmpS5</td>\n",
       "      <td>c.-74G&gt;T</td>\n",
       "      <td>mmpS5_c.-74G&gt;T</td>\n",
       "      <td>1</td>\n",
       "      <td>upstream_gene_variant</td>\n",
       "      <td>778979.0</td>\n",
       "      <td>0.0</td>\n",
       "      <td>0.0</td>\n",
       "      <td>0.0</td>\n",
       "      <td>...</td>\n",
       "      <td>Literature evidence (PMID 28031270; 34503982)</td>\n",
       "      <td>4) Not assoc w R - Interim</td>\n",
       "      <td>NaN</td>\n",
       "      <td>UP from Uncertain to NotAwRI</td>\n",
       "      <td>NaN</td>\n",
       "      <td>NaN</td>\n",
       "      <td>yes</td>\n",
       "      <td>Lit. (PMID 28031270; 34503982)</td>\n",
       "      <td>NaN</td>\n",
       "      <td>4</td>\n",
       "    </tr>\n",
       "    <tr>\n",
       "      <th>7451</th>\n",
       "      <td>Clofazimine</td>\n",
       "      <td>mmpS5</td>\n",
       "      <td>c.-74G&gt;T</td>\n",
       "      <td>mmpS5_c.-74G&gt;T</td>\n",
       "      <td>1</td>\n",
       "      <td>upstream_gene_variant</td>\n",
       "      <td>778979.0</td>\n",
       "      <td>1.0</td>\n",
       "      <td>64.0</td>\n",
       "      <td>1.0</td>\n",
       "      <td>...</td>\n",
       "      <td>NaN</td>\n",
       "      <td>3) Uncertain significance</td>\n",
       "      <td>NaN</td>\n",
       "      <td>No change</td>\n",
       "      <td>NaN</td>\n",
       "      <td>NaN</td>\n",
       "      <td>no</td>\n",
       "      <td>NaN</td>\n",
       "      <td>NaN</td>\n",
       "      <td>1</td>\n",
       "    </tr>\n",
       "  </tbody>\n",
       "</table>\n",
       "<p>2 rows × 114 columns</p>\n",
       "</div>"
      ],
      "text/plain": [
       "             drug   gene  mutation         variant  tier  \\\n",
       "2753  Bedaquiline  mmpS5  c.-74G>T  mmpS5_c.-74G>T     1   \n",
       "7451  Clofazimine  mmpS5  c.-74G>T  mmpS5_c.-74G>T     1   \n",
       "\n",
       "                     effect  genomic position  algorithm_pass  \\\n",
       "2753  upstream_gene_variant          778979.0             0.0   \n",
       "7451  upstream_gene_variant          778979.0             1.0   \n",
       "\n",
       "      Present_SOLO_SR  Present_SOLO_R  ...  \\\n",
       "2753              0.0             0.0  ...   \n",
       "7451             64.0             1.0  ...   \n",
       "\n",
       "                Additional grading criteria applied  \\\n",
       "2753  Literature evidence (PMID 28031270; 34503982)   \n",
       "7451                                            NaN   \n",
       "\n",
       "        FINAL CONFIDENCE GRADING  Comment               CHANGES vs ver1  \\\n",
       "2753  4) Not assoc w R - Interim      NaN  UP from Uncertain to NotAwRI   \n",
       "7451   3) Uncertain significance      NaN                     No change   \n",
       "\n",
       "      Relaxed thresholds simulation (BDQ_Rv0678, CFZ_Rv0678, INH_katG, DLM_ddn/fbiA/fbiB/fbiC/fgd1/Rv2983)  \\\n",
       "2753                                                NaN                                                      \n",
       "7451                                                NaN                                                      \n",
       "\n",
       "     Silent mutation Listed in abridged tables  \\\n",
       "2753             NaN                       yes   \n",
       "7451             NaN                        no   \n",
       "\n",
       "                  Additional grading Footnote CHANGES vs ver1.1  \n",
       "2753  Lit. (PMID 28031270; 34503982)      NaN                 4  \n",
       "7451                             NaN      NaN                 1  \n",
       "\n",
       "[2 rows x 114 columns]"
      ]
     },
     "execution_count": 42,
     "metadata": {},
     "output_type": "execute_result"
    }
   ],
   "source": [
    "solo_results.query(\"variant=='mmpS5_c.-74G>T'\")"
   ]
  },
  {
   "cell_type": "code",
   "execution_count": null,
   "id": "75613686-1d60-4819-ae28-21be824f4dba",
   "metadata": {},
   "outputs": [],
   "source": [
    "For example, the distribution of mmpS5_c.-74G>T (Rv0678_c.-11C>A) between BDQ-R and BDQ-S isolates is very different between the WHO and ALL datasets. In the WHO dataset, it is graded as Assoc w R, but Uncertain in the ALL dataset because of its low positive predictive value (PPV) lower bound (0.77 vs. 0.19). In the model regressing BDQ MICs on genotypes, this variant has a small but insignificant negative association with BDQ MIC (coefficient = -0.004). "
   ]
  },
  {
   "cell_type": "markdown",
   "id": "5772c92d-7758-453f-af6f-8b0d9bfd0a5c",
   "metadata": {},
   "source": [
    "# Plot Sensitivity, Specificity, and AUC for Each Drug with Bootstrapped Confidence Intervals"
   ]
  },
  {
   "cell_type": "code",
   "execution_count": 2,
   "id": "b9037a7c-74df-4476-8d81-0cb5a6e2b1f6",
   "metadata": {},
   "outputs": [],
   "source": [
    "def single_drug_bar_chart(drug, variable_lst, include_het=False, binary_analyses_lst=binary_analyses_lst, bootstrap=False, errorbar=None, palette=\"muted\", sigfig=1, saveName=None):\n",
    "    \n",
    "    concat_models = []\n",
    "    \n",
    "    if include_het:\n",
    "        model_prefix = \"_HET\"\n",
    "    else:\n",
    "        model_prefix = \"\"\n",
    "        \n",
    "    if bootstrap:\n",
    "        model_prefix += \"_bootstrap\"\n",
    "        \n",
    "    if drug == \"Pretomanid\":\n",
    "        binary_analyses_lst = [path for path in binary_analyses_lst if \"ALL\" in path and \"1+2\" not in path]\n",
    "    \n",
    "    hue_order = [\"Tier 1,\\nWHO Phenos\", \"Tier 1,\\nALL Phenos\", \"Tiers 1+2,\\nWHO Phenos\", \"Tiers 1+2,\\nALL Phenos\"]\n",
    "    #hue_order = [\"Tier 1,\\nWHO Phenos\", \"Tier 1,\\nALL Phenos\", \"Tiers 1+2,\\nWHO Phenos\", \"Tiers 1+2,\\nALL Phenos\", \"V1 Catalogue,\\nWHO Phenos\", \"V1 Catalogue,\\nALL Phenos\"]\n",
    "        \n",
    "    for path in binary_analyses_lst:\n",
    "        \n",
    "        if os.path.isfile(os.path.join(analysis_dir, drug, \"BINARY\", path, f\"model_stats_CV{model_prefix}.csv\")):\n",
    "            df = pd.read_csv(os.path.join(analysis_dir, drug, \"BINARY\", path, f\"model_stats_CV{model_prefix}.csv\"))\n",
    "        else:\n",
    "            df = pd.read_csv(os.path.join(analysis_dir, drug, \"BINARY\", path.replace(\"tiers=1+2\", \"tiers=1\"), f\"model_stats_CV{model_prefix}.csv\"))\n",
    "        \n",
    "        df[\"Model\"] = path_name_dict[path]\n",
    "        concat_models.append(df)\n",
    "\n",
    "    df_plot = pd.concat(concat_models, axis=0)\n",
    "    \n",
    "        \n",
    "    # if there is no HET in the model prefix, use threshold of 0.75. If HET, use threshold of 0.25\n",
    "    if include_het:\n",
    "        AF_thresh = 0.25\n",
    "        title_str = \"+HET\"\n",
    "    else:\n",
    "        AF_thresh = 0.75\n",
    "        title_str = \"-HET\"\n",
    "        \n",
    "    #catalog_WHO, catalog_ALL = classify_using_V1_catalog(drug, AF_thresh, num_bootstrap=1000)\n",
    "    catalog_WHO = None\n",
    "    catalog_ALL = None\n",
    "    df_plot = pd.concat([df_plot, catalog_WHO, catalog_ALL], axis=0)\n",
    "\n",
    "    df_plot = df_plot.melt(id_vars=[\"Model\"])\n",
    "    df_plot[\"variable\"] = df_plot[\"variable\"].replace(\"Sens\", \"Sensitivity\").replace(\"Spec\", \"Specificity\").replace(\"Balanced_Acc\", \"Balanced Accuracy\")\n",
    "    df_plot = df_plot.query(\"variable in @variable_lst\")#.query(\"CV > 0\")\n",
    "    df_plot[\"value\"] *= 100\n",
    "    \n",
    "    # if catalog_WHO is not None:\n",
    "    #     plot_width = 8\n",
    "    #     hue_order = [\"Tier 1,\\nWHO Phenos\", \"Tier 1,\\nALL Phenos\", \"Tiers 1+2,\\nWHO Phenos\", \"Tiers 1+2,\\nALL Phenos\", \"V1 Catalogue,\\nWHO Phenos\", \"V1 Catalogue,\\nALL Phenos\"]\n",
    "    #     # x_order = [\"Tier 1,\\nWHO Phenos\", \"Tiers 1+2,\\nWHO Phenos\", \"V1 Catalogue,\\nWHO Phenos\", \"Tier 1,\\nALL Phenos\", \"Tiers 1+2,\\nALL Phenos\", \"V1 Catalogue,\\nALL Phenos\"]\n",
    "    # else:\n",
    "    #     plot_width = 6\n",
    "    #     hue_order = [\"Tier 1,\\nWHO Phenos\", \"Tier 1,\\nALL Phenos\", \"Tiers 1+2,\\nWHO Phenos\", \"Tiers 1+2,\\nALL Phenos\"]\n",
    "    #     # x_order=[\"Tier 1,\\nWHO Phenos\", \"Tiers 1+2,\\nWHO Phenos\", \"Tier 1,\\nALL Phenos\", \"Tiers 1+2,\\nALL Phenos\"]\n",
    "    plot_width = 2 * len(df_plot[\"variable\"].unique())       \n",
    "    palette = list(sns.color_palette(\"Paired\").as_hex())\n",
    "    \n",
    "    # first pair is blue, second is orange, third is green, fourth is purple\n",
    "    palette = palette[:2] + palette[6:8] + palette[2:4] + palette[8:10]\n",
    "    \n",
    "    fig, ax = plt.subplots(figsize=(plot_width, 4))\n",
    "    sns.barplot(data=df_plot,\n",
    "                x=\"variable\",\n",
    "                y=\"value\",\n",
    "                hue=\"Model\",\n",
    "                hue_order=hue_order,\n",
    "                order=variable_lst,\n",
    "                errorbar=errorbar,\n",
    "                errwidth=0.75,\n",
    "                capsize=0.05,\n",
    "                palette=palette,\n",
    "                ax=ax\n",
    "                )\n",
    "    \n",
    "    # bar_scale = 0.8\n",
    "    # for patch in ax.patches:\n",
    "    #     current_width = patch.get_width()\n",
    "    #     patch.set_width(current_width * bar_scale)\n",
    "        \n",
    "    label_loc = 'center'\n",
    "    \n",
    "    if sigfig == 1:\n",
    "        font_size = '8'\n",
    "    else:\n",
    "        font_size = '10'\n",
    "\n",
    "    for cont in ax.containers:\n",
    "        labels = [np.round(val, sigfig) if val > 0 else \"\" for val in cont.datavalues]    \n",
    "        ax.bar_label(cont, labels=labels, label_type=label_loc, fontsize=font_size)\n",
    "\n",
    "    plt.ylim(0, 100)\n",
    "    plt.title(f\"{drug} Models\\n\")\n",
    "    plt.xlabel(\"\")\n",
    "    plt.ylabel(\"\")\n",
    "    sns.move_legend(ax, fontsize=8, title='', loc='upper right', #bbox_to_anchor=(1.12, 0.6)\n",
    "                    ncol=len(df_plot[\"Model\"].unique()) / 2, bbox_to_anchor=(0.7, -0.1)\n",
    "                   )\n",
    "\n",
    "    sns.despine()\n",
    "    plt.tight_layout()\n",
    "    \n",
    "    if saveName is None:\n",
    "        plt.show()\n",
    "    else:\n",
    "        if not os.path.isdir(os.path.dirname(saveName)):\n",
    "            os.makedirs(os.path.dirname(saveName))\n",
    "        plt.savefig(saveName, dpi=300)\n",
    "        \n",
    "    return df_plot\n",
    "\n",
    "\n",
    "def significance_test_HET_results(DROP_results, HET_results, variable_lst):\n",
    "                    \n",
    "    for var in variable_lst:\n",
    "        \n",
    "        x_var = DROP_results.query(\"CV > 0\")[var].values\n",
    "        y_var = HET_results.query(\"CV > 0\")[var].values\n",
    "        \n",
    "        if st.normaltest(x_var) and st.normaltest(y_var):\n",
    "            test_type = \"parametric\"\n",
    "        else:\n",
    "            test_type = \"non\"\n",
    "        \n",
    "        # alternative hypothesis is that the model with HETs is better\n",
    "        if test_type == \"parametric\":\n",
    "            _, pval = st.ttest_ind(x_var, y_var, alternative='two-sided', equal_var=False)\n",
    "        else:\n",
    "            _, pval = st.mannwhitneyu(x_var, y_var, alternative='two-sided')\n",
    "        \n",
    "        if pval < 0.05:\n",
    "            \n",
    "            mean_diff = np.mean(y_var) - np.mean(x_var)\n",
    "            \n",
    "            if test_type == \"parametric\":\n",
    "                _, pval = st.ttest_ind(x_var, y_var, alternative='less', equal_var=False)\n",
    "            else:\n",
    "                _, pval = st.mannwhitneyu(x_var, y_var, alternative='less')\n",
    "            \n",
    "            if pval < 0.05:\n",
    "                print(f\"{var}: HET +{np.round(mean_diff, 2)}\")\n",
    "            else:\n",
    "                if test_type == \"parametric\":\n",
    "                    _, pval = st.ttest_ind(x_var, y_var, alternative='greater', equal_var=False)\n",
    "                else:\n",
    "                    _, pval = st.mannwhitneyu(x_var, y_var, alternative='greater')\n",
    "\n",
    "                if pval < 0.05:\n",
    "                    print(f\"{var}: HET -{np.round(-mean_diff, 4)}\")"
   ]
  },
  {
   "cell_type": "code",
   "execution_count": 3,
   "id": "c85d7609-8fd2-41b6-82d1-e788bcdf379e",
   "metadata": {},
   "outputs": [],
   "source": [
    "# Levofloxacin: sens = 84.6, spec = 97"
   ]
  },
  {
   "cell_type": "code",
   "execution_count": 4,
   "id": "b81dbd72-310b-4a7a-a44b-e7d98c95fbf5",
   "metadata": {},
   "outputs": [],
   "source": [
    "# very bad, not very informative results. Just compare mutations for PTM\n",
    "# drug = \"Pretomanid\"\n",
    "# # 695/5, \n",
    "# # variable_lst = [\"AUC\", \"Sens\", \"Spec\"]#, \"Balanced_Acc\"]\n",
    "\n",
    "# plot_everything_check_significance(drug)"
   ]
  },
  {
   "cell_type": "code",
   "execution_count": 5,
   "id": "5b949b7d-9494-4b20-8042-cd355a9bfe2d",
   "metadata": {},
   "outputs": [],
   "source": [
    "# drug = \"Pretomanid\"\n",
    "# PTM_results, PTM_het_results = plot_everything_check_significance(drug, variable_lst=[\"AUC\"])#saveName_DROP=\"results/TBScience/BDQ_no_HETs.png\", saveName_HET=\"results/TBScience/BDQ_with_HETs.png\")"
   ]
  },
  {
   "cell_type": "code",
   "execution_count": 114,
   "id": "9eec06f3-fde2-47d7-aee4-92ee65e3f9b9",
   "metadata": {},
   "outputs": [
    {
     "name": "stdout",
     "output_type": "stream",
     "text": [
      "Sens: HET +0.02\n",
      "Spec: HET -0.0022\n",
      "AUC: HET +0.01\n",
      "Balanced_Acc: HET +0.01\n"
     ]
    }
   ],
   "source": [
    "drug = \"Bedaquiline\"\n",
    "path = 'tiers=1+2/phenos=ALL'\n",
    "variable_lst = [\"Sens\", \"Spec\", \"AUC\", \"Balanced_Acc\"]\n",
    "results = pd.read_csv(os.path.join(analysis_dir, drug, \"BINARY\", path, \"model_stats_CV_bootstrap.csv\"))\n",
    "HET_results = pd.read_csv(os.path.join(analysis_dir, drug, \"BINARY\", path, \"model_stats_CV_HET_bootstrap.csv\"))\n",
    "\n",
    "significance_test_HET_results(results, HET_results, variable_lst)"
   ]
  },
  {
   "cell_type": "code",
   "execution_count": 115,
   "id": "696721c3-ff82-4c71-bf83-6945848866c6",
   "metadata": {},
   "outputs": [
    {
     "name": "stdout",
     "output_type": "stream",
     "text": [
      "Sens: HET +0.01\n",
      "Spec: HET -0.0045\n",
      "AUC: HET +0.0\n",
      "Balanced_Acc: HET +0.0\n"
     ]
    }
   ],
   "source": [
    "drug = \"Levofloxacin\"\n",
    "path = 'tiers=1+2/phenos=ALL'\n",
    "variable_lst = [\"Sens\", \"Spec\", \"AUC\", \"Balanced_Acc\"]\n",
    "results = pd.read_csv(os.path.join(analysis_dir, drug, \"BINARY\", path, \"model_stats_CV_bootstrap.csv\"))\n",
    "HET_results = pd.read_csv(os.path.join(analysis_dir, drug, \"BINARY\", path, \"model_stats_CV_HET_bootstrap.csv\"))\n",
    "\n",
    "significance_test_HET_results(results, HET_results, variable_lst)"
   ]
  },
  {
   "cell_type": "code",
   "execution_count": 69,
   "id": "8d5f350a-d7ea-40e4-ace4-6c302ee4667d",
   "metadata": {},
   "outputs": [
    {
     "data": {
      "text/plain": [
       "array([0.91839479, 0.92879892])"
      ]
     },
     "execution_count": 69,
     "metadata": {},
     "output_type": "execute_result"
    }
   ],
   "source": [
    "np.percentile(BDQ_HET_results[\"Accuracy\"], q=[2.5, 97.5])"
   ]
  },
  {
   "cell_type": "code",
   "execution_count": 66,
   "id": "980cc6c8-58b4-47f1-b6ce-66ebeb29c067",
   "metadata": {},
   "outputs": [
    {
     "data": {
      "text/plain": [
       "0.9250433242417784"
      ]
     },
     "execution_count": 66,
     "metadata": {},
     "output_type": "execute_result"
    }
   ],
   "source": [
    "np.mean(BDQ_results[\"Accuracy\"])"
   ]
  },
  {
   "cell_type": "code",
   "execution_count": null,
   "id": "3f0368a1-8c09-4b63-bb41-452c96ffbcdd",
   "metadata": {},
   "outputs": [],
   "source": []
  },
  {
   "cell_type": "code",
   "execution_count": 78,
   "id": "70b27aa5-8e3f-4a6d-b224-32da61c54e70",
   "metadata": {},
   "outputs": [
    {
     "data": {
      "text/plain": [
       "(3.8831529356799404e-05, 1.0534967777069153e-20)"
      ]
     },
     "execution_count": 78,
     "metadata": {},
     "output_type": "execute_result"
    }
   ],
   "source": [
    "st.normaltest(BDQ_results[\"Accuracy\"])[1], st.normaltest(BDQ_HET_results[\"Accuracy\"])[1]"
   ]
  },
  {
   "cell_type": "code",
   "execution_count": 79,
   "id": "070bee2a-1271-4e81-94f2-77f318697cc9",
   "metadata": {},
   "outputs": [
    {
     "data": {
      "text/plain": [
       "(array([ 31., 108., 290., 320., 182.,  55.,   9.,   2.,   2.,   2.]),\n",
       " array([0.91634227, 0.91854342, 0.92074457, 0.92294571, 0.92514686,\n",
       "        0.92734801, 0.92954915, 0.9317503 , 0.93395145, 0.93615259,\n",
       "        0.93835374]),\n",
       " <BarContainer object of 10 artists>)"
      ]
     },
     "execution_count": 79,
     "metadata": {},
     "output_type": "execute_result"
    },
    {
     "data": {
      "image/png": "[encoded data removed]",
      "text/plain": [
       "<Figure size 960x720 with 1 Axes>"
      ]
     },
     "metadata": {},
     "output_type": "display_data"
    }
   ],
   "source": [
    "plt.hist(BDQ_HET_results[\"Accuracy\"])"
   ]
  },
  {
   "cell_type": "code",
   "execution_count": null,
   "id": "ffb40d16-adc7-48a1-a33b-145a8c611e3f",
   "metadata": {},
   "outputs": [],
   "source": []
  },
  {
   "cell_type": "code",
   "execution_count": 68,
   "id": "ea6a1046-114a-4e2a-86e8-956308f0b262",
   "metadata": {},
   "outputs": [
    {
     "data": {
      "text/plain": [
       "array([0.92056108, 0.92936377])"
      ]
     },
     "execution_count": 68,
     "metadata": {},
     "output_type": "execute_result"
    }
   ],
   "source": [
    "np.percentile(BDQ_results[\"Accuracy\"], q=[2.5, 97.5])"
   ]
  },
  {
   "cell_type": "code",
   "execution_count": 52,
   "id": "420a6e4c-ed6c-4d97-9a04-b3915fc78db4",
   "metadata": {},
   "outputs": [
    {
     "data": {
      "text/plain": [
       "'/n/data1/hms/dbmi/farhat/Sanjana/who-mutation-catalogue/Bedaquiline/BINARY/tiers=1+2/phenos=ALL'"
      ]
     },
     "execution_count": 52,
     "metadata": {},
     "output_type": "execute_result"
    }
   ],
   "source": [
    "os.path.join(analysis_dir, drug, \"BINARY\", path)"
   ]
  },
  {
   "cell_type": "code",
   "execution_count": 51,
   "id": "1e94f351-7c37-4dbd-a2d1-7aa3ab37c848",
   "metadata": {},
   "outputs": [
    {
     "data": {
      "text/html": [
       "<div>\n",
       "<style scoped>\n",
       "    .dataframe tbody tr th:only-of-type {\n",
       "        vertical-align: middle;\n",
       "    }\n",
       "\n",
       "    .dataframe tbody tr th {\n",
       "        vertical-align: top;\n",
       "    }\n",
       "\n",
       "    .dataframe thead th {\n",
       "        text-align: right;\n",
       "    }\n",
       "</style>\n",
       "<table border=\"1\" class=\"dataframe\">\n",
       "  <thead>\n",
       "    <tr style=\"text-align: right;\">\n",
       "      <th></th>\n",
       "      <th>AUC</th>\n",
       "      <th>Sens</th>\n",
       "      <th>Spec</th>\n",
       "      <th>Precision</th>\n",
       "      <th>Accuracy</th>\n",
       "      <th>Balanced_Acc</th>\n",
       "      <th>CV</th>\n",
       "    </tr>\n",
       "  </thead>\n",
       "  <tbody>\n",
       "    <tr>\n",
       "      <th>0</th>\n",
       "      <td>0.845175</td>\n",
       "      <td>0.656608</td>\n",
       "      <td>0.944205</td>\n",
       "      <td>0.464996</td>\n",
       "      <td>0.924426</td>\n",
       "      <td>0.800407</td>\n",
       "      <td>0</td>\n",
       "    </tr>\n",
       "    <tr>\n",
       "      <th>1</th>\n",
       "      <td>0.840464</td>\n",
       "      <td>0.631463</td>\n",
       "      <td>0.945729</td>\n",
       "      <td>0.447389</td>\n",
       "      <td>0.925284</td>\n",
       "      <td>0.788596</td>\n",
       "      <td>1</td>\n",
       "    </tr>\n",
       "    <tr>\n",
       "      <th>2</th>\n",
       "      <td>0.843917</td>\n",
       "      <td>0.647716</td>\n",
       "      <td>0.943486</td>\n",
       "      <td>0.465015</td>\n",
       "      <td>0.922637</td>\n",
       "      <td>0.795601</td>\n",
       "      <td>2</td>\n",
       "    </tr>\n",
       "    <tr>\n",
       "      <th>3</th>\n",
       "      <td>0.840863</td>\n",
       "      <td>0.646377</td>\n",
       "      <td>0.946978</td>\n",
       "      <td>0.493727</td>\n",
       "      <td>0.924712</td>\n",
       "      <td>0.796677</td>\n",
       "      <td>3</td>\n",
       "    </tr>\n",
       "    <tr>\n",
       "      <th>4</th>\n",
       "      <td>0.843228</td>\n",
       "      <td>0.646444</td>\n",
       "      <td>0.944688</td>\n",
       "      <td>0.461883</td>\n",
       "      <td>0.924283</td>\n",
       "      <td>0.795566</td>\n",
       "      <td>4</td>\n",
       "    </tr>\n",
       "    <tr>\n",
       "      <th>...</th>\n",
       "      <td>...</td>\n",
       "      <td>...</td>\n",
       "      <td>...</td>\n",
       "      <td>...</td>\n",
       "      <td>...</td>\n",
       "      <td>...</td>\n",
       "      <td>...</td>\n",
       "    </tr>\n",
       "    <tr>\n",
       "      <th>996</th>\n",
       "      <td>0.839753</td>\n",
       "      <td>0.654255</td>\n",
       "      <td>0.945446</td>\n",
       "      <td>0.463801</td>\n",
       "      <td>0.925857</td>\n",
       "      <td>0.799851</td>\n",
       "      <td>996</td>\n",
       "    </tr>\n",
       "    <tr>\n",
       "      <th>997</th>\n",
       "      <td>0.844460</td>\n",
       "      <td>0.665635</td>\n",
       "      <td>0.943863</td>\n",
       "      <td>0.469091</td>\n",
       "      <td>0.924569</td>\n",
       "      <td>0.804749</td>\n",
       "      <td>997</td>\n",
       "    </tr>\n",
       "    <tr>\n",
       "      <th>998</th>\n",
       "      <td>0.851004</td>\n",
       "      <td>0.654088</td>\n",
       "      <td>0.943928</td>\n",
       "      <td>0.460857</td>\n",
       "      <td>0.924139</td>\n",
       "      <td>0.799008</td>\n",
       "      <td>998</td>\n",
       "    </tr>\n",
       "    <tr>\n",
       "      <th>999</th>\n",
       "      <td>0.841445</td>\n",
       "      <td>0.650054</td>\n",
       "      <td>0.946897</td>\n",
       "      <td>0.464037</td>\n",
       "      <td>0.927288</td>\n",
       "      <td>0.798475</td>\n",
       "      <td>999</td>\n",
       "    </tr>\n",
       "    <tr>\n",
       "      <th>1000</th>\n",
       "      <td>0.843470</td>\n",
       "      <td>0.656284</td>\n",
       "      <td>0.946251</td>\n",
       "      <td>0.465701</td>\n",
       "      <td>0.926931</td>\n",
       "      <td>0.801267</td>\n",
       "      <td>1000</td>\n",
       "    </tr>\n",
       "  </tbody>\n",
       "</table>\n",
       "<p>1001 rows × 7 columns</p>\n",
       "</div>"
      ],
      "text/plain": [
       "           AUC      Sens      Spec  Precision  Accuracy  Balanced_Acc    CV\n",
       "0     0.845175  0.656608  0.944205   0.464996  0.924426      0.800407     0\n",
       "1     0.840464  0.631463  0.945729   0.447389  0.925284      0.788596     1\n",
       "2     0.843917  0.647716  0.943486   0.465015  0.922637      0.795601     2\n",
       "3     0.840863  0.646377  0.946978   0.493727  0.924712      0.796677     3\n",
       "4     0.843228  0.646444  0.944688   0.461883  0.924283      0.795566     4\n",
       "...        ...       ...       ...        ...       ...           ...   ...\n",
       "996   0.839753  0.654255  0.945446   0.463801  0.925857      0.799851   996\n",
       "997   0.844460  0.665635  0.943863   0.469091  0.924569      0.804749   997\n",
       "998   0.851004  0.654088  0.943928   0.460857  0.924139      0.799008   998\n",
       "999   0.841445  0.650054  0.946897   0.464037  0.927288      0.798475   999\n",
       "1000  0.843470  0.656284  0.946251   0.465701  0.926931      0.801267  1000\n",
       "\n",
       "[1001 rows x 7 columns]"
      ]
     },
     "execution_count": 51,
     "metadata": {},
     "output_type": "execute_result"
    }
   ],
   "source": [
    "BDQ_results"
   ]
  },
  {
   "cell_type": "code",
   "execution_count": null,
   "id": "c2791789-9309-4601-a81d-f40e04598f2c",
   "metadata": {},
   "outputs": [],
   "source": []
  },
  {
   "cell_type": "code",
   "execution_count": 8,
   "id": "0f48b7d3-24a7-4d7f-aef8-b9c0126277ba",
   "metadata": {},
   "outputs": [],
   "source": [
    "# drug = \"Moxifloxacin\"\n",
    "# MXF_results, MXF_HET_results = plot_everything_check_significance(drug, variable_lst=[\"Sensitivity\", \"Specificity\", \"AUC\", \"Balanced Accuracy\"])#saveName_DROP=\"results/TBScience/BDQ_no_HETs.png\", saveName_HET=\"results/TBScience/BDQ_with_HETs.png\")"
   ]
  },
  {
   "cell_type": "markdown",
   "id": "a1a4768d-fc40-4f69-a1c1-1fd8aa8b7448",
   "metadata": {},
   "source": [
    "# Plot Statistics for a Single Model for all Drugs"
   ]
  },
  {
   "cell_type": "code",
   "execution_count": 46,
   "id": "f3647d80-2316-4787-94a4-98cbdde55229",
   "metadata": {},
   "outputs": [],
   "source": [
    "def plot_single_model_all_drugs(paths_lst, \n",
    "                                hue_variable,\n",
    "                                variable_lst, \n",
    "                                x_order=[\"Levofloxacin\", \"Moxifloxacin\", \"Bedaquiline\", \"Clofazimine\", \"Linezolid\", \"Delamanid\", \"Pretomanid\"],\n",
    "                                bootstrap=False, errorbar=None, include_het=False, palette=\"muted\", sigfig=1, saveName=None\n",
    "                               ):\n",
    "        \n",
    "    if include_het:\n",
    "        model_prefix = \"_HET\"\n",
    "        title_str = \" +HET\"\n",
    "    else:\n",
    "        model_prefix = \"\"\n",
    "        title_str = \" -HET\"\n",
    "            \n",
    "    if bootstrap:\n",
    "        model_prefix += \"_bootstrap\"\n",
    "\n",
    "    concat_models = []\n",
    "    for drug in x_order:\n",
    "        \n",
    "        for path in paths_lst:\n",
    "            \n",
    "            full_path = os.path.join(analysis_dir, drug, \"BINARY\", path, f\"model_stats_CV{model_prefix}.csv\")\n",
    "            tier1_path = os.path.join(analysis_dir, drug, \"BINARY\", path.replace(\"1+2\", \"1\"), f\"model_stats_CV{model_prefix}.csv\")\n",
    "\n",
    "            if os.path.isfile(full_path):\n",
    "                df = pd.read_csv(full_path)\n",
    "                print(f\"Tiers 1+2 for {drug}\")\n",
    "            elif os.path.isfile(tier1_path):\n",
    "                df = pd.read_csv(tier1_path)\n",
    "                print(f\"Tier 1 for {drug}\")\n",
    "            else:\n",
    "                df = pd.DataFrame({\"AUC\": 0, \"Sens\": 0, \"Spec\": 0, \"Precision\": 0, \"Accuracy\": 0, \"Balanced_Acc\": 0}, index=[0])\n",
    "                print(f\"No results for {drug}\")\n",
    "            \n",
    "            df[\"Drug\"] = drug\n",
    "            df[\"F1\"] = 2 / ((1 / df[\"Precision\"]) + (1 / df[\"Sens\"]))\n",
    "            \n",
    "            if len(paths_lst) > 1:\n",
    "                df[\"Model\"] = path_name_dict[path]\n",
    "\n",
    "            concat_models.append(df)\n",
    "            \n",
    "    df_plot = pd.concat(concat_models, axis=0)\n",
    "    \n",
    "    if len(paths_lst) > 1:\n",
    "        df_plot = df_plot.melt(id_vars=[\"Drug\", \"Model\"])\n",
    "    else:\n",
    "        df_plot = df_plot.melt(id_vars=[\"Drug\"])\n",
    "\n",
    "    df_plot[\"variable\"] = df_plot[\"variable\"].replace(\"Sens\", \"Sensitivity\").replace(\"Spec\", \"Specificity\").replace(\"Balanced_Acc\", \"Balanced Accuracy\")\n",
    "    df_plot = df_plot.query(\"variable in @variable_lst\")#.query(\"CV > 0\")\n",
    "    df_plot[\"value\"] *= 100\n",
    "    \n",
    "    x_order = [drug for drug in x_order if drug in df_plot[\"Drug\"].values]\n",
    "    plot_width = 1.5 * len(df_plot[\"Drug\"].unique())\n",
    "\n",
    "    fig, ax = plt.subplots(figsize=(plot_width, 4.5))\n",
    "    sns.barplot(data=df_plot,\n",
    "                x=\"Drug\",\n",
    "                y=\"value\",\n",
    "                hue=hue_variable,\n",
    "                edgecolor=\"black\",\n",
    "                linewidth=0.5,\n",
    "                hue_order=variable_lst,\n",
    "                order=x_order,\n",
    "                errorbar=errorbar,\n",
    "                errwidth=0.75,\n",
    "                capsize=0,\n",
    "                palette=palette,\n",
    "                ax=ax\n",
    "                )\n",
    "\n",
    "    for i, line in enumerate(ax.get_lines()):\n",
    "        line.set_color(\"black\")\n",
    "    \n",
    "    # label_loc = 'center'\n",
    "\n",
    "    # for cont in ax.containers:\n",
    "    #     if sigfig == 0:\n",
    "    #         labels = [int(np.rint(val)) if val > 0 else \"\" for val in cont.datavalues] \n",
    "    #         font_size = \"9\"\n",
    "    #     else:\n",
    "    #         labels = [np.round(val, sigfig) if val > 0 else \"\" for val in cont.datavalues]    \n",
    "    #         font_size = \"7\"\n",
    "            \n",
    "    #     ax.bar_label(cont, labels=labels, label_type=label_loc, fontsize=font_size)\n",
    "\n",
    "    plt.ylim(0, 101)\n",
    "                                   \n",
    "    # # Duplicate the y-axis\n",
    "    # ax2 = ax.twinx()\n",
    "    \n",
    "    # # Set the limits of the duplicated y-axis to be the same as the original y-axis\n",
    "    # ax2.set_ylim(ax.get_ylim())\n",
    "    \n",
    "    # # Remove the ticks and labels from the duplicated y-axis\n",
    "    # ax2.set_yticks(ticks=ax.get_yticks(), labels=ax.get_yticklabels())\n",
    "    \n",
    "    # plt.title(f\"{path}, {title_str}\\n\")\n",
    "    plt.xlabel(\"\")\n",
    "    plt.ylabel(\"\")\n",
    "    # plt.legend(loc=\"upper right\", fontsize=8)\n",
    "\n",
    "    sns.move_legend(ax, fontsize=8, title='', loc='upper right', #bbox_to_anchor=(1.12, 0.6)\n",
    "                    ncol=len(df_plot[\"variable\"].unique()), bbox_to_anchor=(0.7, -0.3)\n",
    "                   )\n",
    "    sns.despine()\n",
    "    plt.tight_layout()\n",
    "    \n",
    "    if saveName is None:\n",
    "        plt.show()\n",
    "    else:\n",
    "        if not os.path.isdir(os.path.dirname(saveName)):\n",
    "            os.makedirs(os.path.dirname(saveName))\n",
    "        plt.savefig(saveName, dpi=300)\n",
    "        \n",
    "    return df_plot"
   ]
  },
  {
   "cell_type": "code",
   "execution_count": 48,
   "id": "03a49fc8-ddc3-4126-b9dc-a43aa7180c51",
   "metadata": {},
   "outputs": [
    {
     "name": "stdout",
     "output_type": "stream",
     "text": [
      "Tiers 1+2 for Levofloxacin\n",
      "Tiers 1+2 for Moxifloxacin\n",
      "Tiers 1+2 for Bedaquiline\n",
      "Tiers 1+2 for Clofazimine\n",
      "Tiers 1+2 for Linezolid\n",
      "Tiers 1+2 for Delamanid\n",
      "Tier 1 for Pretomanid\n"
     ]
    },
    {
     "data": {
      "image/png": "[encoded data removed]",
      "text/plain": [
       "<Figure size 1575x675 with 1 Axes>"
      ]
     },
     "metadata": {},
     "output_type": "display_data"
    }
   ],
   "source": [
    "paths_lst = ['tiers=1+2/phenos=ALL']\n",
    "\n",
    "tier1_ALL_results = plot_single_model_all_drugs(paths_lst, \n",
    "                                                hue_variable=\"variable\",\n",
    "                                                variable_lst=[\"Sensitivity\", \"Specificity\", \"AUC\", \"Balanced Accuracy\"], \n",
    "                                                x_order=[\"Levofloxacin\", \"Moxifloxacin\", \"Bedaquiline\", \"Clofazimine\", \"Linezolid\", \"Delamanid\", \"Pretomanid\"],\n",
    "                                                sigfig=0,\n",
    "                                                bootstrap=True, errorbar=(\"pi\", 95), include_het=False, palette=sns.color_palette(\"Set2\").as_hex()[:3] + [sns.color_palette(\"Set2\").as_hex()[-1]], \n",
    "                                                saveName=\"results/TBScience/binary_metrics_ALL_no_labels.png\"\n",
    "                                               )"
   ]
  },
  {
   "cell_type": "code",
   "execution_count": 42,
   "id": "8d0043b2-036a-44f2-9881-c167cc2c72ab",
   "metadata": {},
   "outputs": [],
   "source": [
    "drug = \"Moxifloxacin\"\n",
    "test = pd.read_csv(f\"/n/data1/hms/dbmi/farhat/Sanjana/who-mutation-catalogue/{drug}/BINARY/tiers=1/phenos=ALL/model_stats_CV_bootstrap.csv\")"
   ]
  },
  {
   "cell_type": "code",
   "execution_count": 43,
   "id": "4b318d73-312b-43cc-af27-b23d6a385c15",
   "metadata": {},
   "outputs": [
    {
     "name": "stdout",
     "output_type": "stream",
     "text": [
      "AUC NormaltestResult(statistic=15.417061163545391, pvalue=0.00044898073312713525)\n",
      "Balanced_Acc NormaltestResult(statistic=14.399169779511409, pvalue=0.0007468957881274159)\n"
     ]
    }
   ],
   "source": [
    "for col in test.columns:\n",
    "    \n",
    "    if col in [\"AUC\", \"Balanced_Acc\"]:\n",
    "        print(col, st.normaltest(test.query(\"CV > 0\")[col]))"
   ]
  },
  {
   "cell_type": "code",
   "execution_count": 45,
   "id": "7d0d45e0-383e-49e6-8ac3-76b0df2cf6d0",
   "metadata": {},
   "outputs": [
    {
     "data": {
      "text/plain": [
       "(array([ 1.,  0.,  0.,  4., 10., 19., 32., 24.,  7.,  4.]),\n",
       " array([0.92825031, 0.92998017, 0.93171003, 0.93343989, 0.93516975,\n",
       "        0.93689961, 0.93862948, 0.94035934, 0.9420892 , 0.94381906,\n",
       "        0.94554892]),\n",
       " <BarContainer object of 10 artists>)"
      ]
     },
     "execution_count": 45,
     "metadata": {},
     "output_type": "execute_result"
    },
    {
     "data": {
      "image/png": "[encoded data removed]",
      "text/plain": [
       "<Figure size 960x720 with 1 Axes>"
      ]
     },
     "metadata": {},
     "output_type": "display_data"
    }
   ],
   "source": [
    "plt.hist(test[\"AUC\"])"
   ]
  },
  {
   "cell_type": "code",
   "execution_count": null,
   "id": "c39bf412-72f4-4f78-a901-5d6f38b0822f",
   "metadata": {},
   "outputs": [],
   "source": []
  },
  {
   "cell_type": "markdown",
   "id": "17cc7997-1074-460f-879b-573925b555a0",
   "metadata": {},
   "source": [
    "PTM: No Tier 2 genes\n",
    "DLM: No significant WHO?\n",
    "BDQ/MXF/LEV/CFZ: AUC+\n",
    "BDQ/CFZ: Spec+\n",
    "MXF/LEV: Sens+ and Spec-\n",
    "BDQ: Sens-\n",
    "LZD: No significant Tier 2 mutations"
   ]
  },
  {
   "cell_type": "code",
   "execution_count": null,
   "id": "3c47f17e-7689-4d36-8416-44e97de84cdc",
   "metadata": {},
   "outputs": [],
   "source": [
    "#sns.histplot(data=LEV_results.query(\"variable=='Specificity' & Model.str.contains('ALL')\"), x=\"value\", hue=\"Model\")"
   ]
  }
 ],
 "metadata": {
  "kernelspec": {
   "display_name": "Python 3 (ipykernel)",
   "language": "python",
   "name": "python3"
  },
  "language_info": {
   "codemirror_mode": {
    "name": "ipython",
    "version": 3
   },
   "file_extension": ".py",
   "mimetype": "text/x-python",
   "name": "python",
   "nbconvert_exporter": "python",
   "pygments_lexer": "ipython3",
   "version": "3.9.18"
  }
 },
 "nbformat": 4,
 "nbformat_minor": 5
}
