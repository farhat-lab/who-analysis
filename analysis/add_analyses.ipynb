{
 "cells": [
  {
   "cell_type": "code",
   "execution_count": 1,
   "id": "86d79dbc-86b7-4a6d-b26c-3052aaeb12a4",
   "metadata": {},
   "outputs": [],
   "source": [
    "import numpy as np\n",
    "import pandas as pd\n",
    "import matplotlib.pyplot as plt\n",
    "plt.rcParams['figure.dpi'] = 150\n",
    "import seaborn as sns\n",
    "\n",
    "import glob, os, yaml, subprocess, itertools\n",
    "from sklearn.model_selection import train_test_split, KFold, GridSearchCV\n",
    "from sklearn.preprocessing import StandardScaler\n",
    "from sklearn.linear_model import LogisticRegression, LogisticRegressionCV\n",
    "from statsmodels.distributions.empirical_distribution import ECDF\n",
    "import sklearn.metrics\n",
    "from sklearn.decomposition import PCA\n",
    "import timeit\n",
    "import scipy.stats as st\n",
    "import statsmodels\n",
    "import pickle, yaml, tracemalloc\n",
    "from scipy.stats import binomtest\n",
    "\n",
    "analysis_dir = '/n/data1/hms/dbmi/farhat/Sanjana/who-mutation-catalogue'\n",
    "input_data_dir = '/n/data1/hms/dbmi/farhat/ye12/who'\n",
    "who_variants_combined = pd.read_csv(\"who_confidence_2021.csv\")\n",
    "\n",
    "import itertools\n",
    "from stats_utils import *\n",
    "import warnings\n",
    "warnings.filterwarnings(\"ignore\")"
   ]
  },
  {
   "cell_type": "code",
   "execution_count": 39,
   "id": "73746e03-3f9b-42ee-ac68-f0f2e82b83b0",
   "metadata": {},
   "outputs": [],
   "source": [
    "res = {'fit_time': np.array([0.46307302, 0.46552658, 0.46767092, 0.45148492, 0.46610522]), \n",
    "       'score_time': np.array([0.01107359, 0.00999832, 0.01002049, 0.00967932, 0.01317215]), \n",
    "       'test_roc_auc': np.array([0.97973397, 0.98943888, 0.95101111, 0.95274882, 0.96620066]), \n",
    "       'test_recall': np.array([0.95521739, 0.95523685, 0.89217391, 0.90434783, 0.93217391]), \n",
    "       'test_accuracy': np.array([0.97737876, 0.97879259, 0.94937783, 0.95220588, 0.95616516]), \n",
    "       'test_balanced_accuracy': np.array([0.97163761, 0.97269387, 0.93456139, 0.93981012, 0.94995116])\n",
    "      }\n",
    "\n",
    "res['test_spec'] = 2 * res['test_balanced_accuracy'] - res['test_recall']"
   ]
  },
  {
   "cell_type": "code",
   "execution_count": 36,
   "id": "33e78587-ee3d-4fd2-86b5-9ec933b0ca91",
   "metadata": {},
   "outputs": [
    {
     "data": {
      "text/plain": [
       "0.967826688"
      ]
     },
     "execution_count": 36,
     "metadata": {},
     "output_type": "execute_result"
    }
   ],
   "source": [
    "res['test_roc_auc'].mean()"
   ]
  },
  {
   "cell_type": "code",
   "execution_count": 40,
   "id": "be90a6f5-3a3e-442a-bb5c-f4a349da6a35",
   "metadata": {},
   "outputs": [
    {
     "data": {
      "text/plain": [
       "0.9278299779999999"
      ]
     },
     "execution_count": 40,
     "metadata": {},
     "output_type": "execute_result"
    }
   ],
   "source": [
    "res['test_recall'].mean()"
   ]
  },
  {
   "cell_type": "code",
   "execution_count": 41,
   "id": "f8c0ef68-994f-446b-8de7-6fead8a70b84",
   "metadata": {},
   "outputs": [
    {
     "data": {
      "text/plain": [
       "0.9796316820000002"
      ]
     },
     "execution_count": 41,
     "metadata": {},
     "output_type": "execute_result"
    }
   ],
   "source": [
    "res['test_spec'].mean()"
   ]
  },
  {
   "cell_type": "code",
   "execution_count": 42,
   "id": "02aba91f-d66b-4cf1-bb31-9dd91fdeb281",
   "metadata": {},
   "outputs": [
    {
     "data": {
      "text/plain": [
       "0.962784044"
      ]
     },
     "execution_count": 42,
     "metadata": {},
     "output_type": "execute_result"
    }
   ],
   "source": [
    "res['test_accuracy'].mean()"
   ]
  },
  {
   "cell_type": "code",
   "execution_count": 43,
   "id": "999e9cc0-b4ec-4cf5-b9e4-62587ead0395",
   "metadata": {},
   "outputs": [
    {
     "data": {
      "text/plain": [
       "0.9537308300000001"
      ]
     },
     "execution_count": 43,
     "metadata": {},
     "output_type": "execute_result"
    }
   ],
   "source": [
    "res['test_balanced_accuracy'].mean()"
   ]
  },
  {
   "cell_type": "code",
   "execution_count": null,
   "id": "e7389b31-18d7-4d55-ac38-ec7ec6424c54",
   "metadata": {},
   "outputs": [],
   "source": []
  },
  {
   "cell_type": "markdown",
   "id": "07de7321-bf6a-40ca-9cd5-51a5df1b16c0",
   "metadata": {
    "tags": []
   },
   "source": [
    "# RIFAMPICIN TEST CASE\n",
    "\n",
    "# 0. Original Analysis: 137 new significant resistance-associated variants\n",
    "\n",
    "## But, there are 152 with OR > 1 and BH p-val < 0.01 that are in tier 2 genes (rpoB is the only tier 1)\n",
    "## These 152 mutations were studied in the next two analyses"
   ]
  },
  {
   "cell_type": "code",
   "execution_count": 154,
   "id": "d46b8cbd-3e49-4b4d-94fc-fb3f944f4ab4",
   "metadata": {},
   "outputs": [],
   "source": [
    "folder = \"BINARY\"\n",
    "phenos_name = \"WHO\"\n",
    "drug = \"Rifampicin\"\n",
    "drug_WHO_abbr = \"RIF\"\n",
    "\n",
    "# get the number of high confidence resistance-associated \n",
    "tiers1_stats = pd.read_csv(os.path.join(analysis_dir, drug, \"BINARY/tiers=1/phenos=WHO/dropAF_noSyn_unpooled\", \"model_analysis_with_stats.csv\"))\n",
    "tiers12_stats = pd.read_csv(os.path.join(analysis_dir, drug, \"BINARY/tiers=1+2/phenos=WHO/dropAF_noSyn_unpooled\", \"model_analysis_with_stats.csv\"))"
   ]
  },
  {
   "cell_type": "code",
   "execution_count": 155,
   "id": "5af49d45-38ad-49bd-a356-f7b0a309e410",
   "metadata": {},
   "outputs": [
    {
     "data": {
      "text/html": [
       "<div>\n",
       "<style scoped>\n",
       "    .dataframe tbody tr th:only-of-type {\n",
       "        vertical-align: middle;\n",
       "    }\n",
       "\n",
       "    .dataframe tbody tr th {\n",
       "        vertical-align: top;\n",
       "    }\n",
       "\n",
       "    .dataframe thead th {\n",
       "        text-align: right;\n",
       "    }\n",
       "</style>\n",
       "<table border=\"1\" class=\"dataframe\">\n",
       "  <thead>\n",
       "    <tr style=\"text-align: right;\">\n",
       "      <th></th>\n",
       "      <th>mutation</th>\n",
       "      <th>predicted_effect</th>\n",
       "      <th>position</th>\n",
       "      <th>confidence</th>\n",
       "      <th>Odds_Ratio</th>\n",
       "      <th>pval</th>\n",
       "      <th>BH_pval</th>\n",
       "      <th>Bonferroni_pval</th>\n",
       "      <th>Num_Isolates</th>\n",
       "      <th>TP</th>\n",
       "      <th>FP</th>\n",
       "      <th>TN</th>\n",
       "      <th>FN</th>\n",
       "      <th>PPV</th>\n",
       "      <th>Sens</th>\n",
       "      <th>Spec</th>\n",
       "      <th>PPV_LB</th>\n",
       "      <th>PPV_UB</th>\n",
       "    </tr>\n",
       "  </thead>\n",
       "  <tbody>\n",
       "    <tr>\n",
       "      <th>16</th>\n",
       "      <td>rpoC_p.Glu1092Asp</td>\n",
       "      <td>missense_variant</td>\n",
       "      <td>766645</td>\n",
       "      <td>5) Not assoc w R</td>\n",
       "      <td>1.216332</td>\n",
       "      <td>0.0</td>\n",
       "      <td>0.0</td>\n",
       "      <td>0.0</td>\n",
       "      <td>2697</td>\n",
       "      <td>1711</td>\n",
       "      <td>986</td>\n",
       "      <td>19935</td>\n",
       "      <td>8352</td>\n",
       "      <td>0.634409</td>\n",
       "      <td>0.170029</td>\n",
       "      <td>0.95287</td>\n",
       "      <td>0.615909</td>\n",
       "      <td>0.652616</td>\n",
       "    </tr>\n",
       "  </tbody>\n",
       "</table>\n",
       "</div>"
      ],
      "text/plain": [
       "             mutation  predicted_effect position        confidence  \\\n",
       "16  rpoC_p.Glu1092Asp  missense_variant   766645  5) Not assoc w R   \n",
       "\n",
       "    Odds_Ratio  pval  BH_pval  Bonferroni_pval  Num_Isolates    TP   FP  \\\n",
       "16    1.216332   0.0      0.0              0.0          2697  1711  986   \n",
       "\n",
       "       TN    FN       PPV      Sens     Spec    PPV_LB    PPV_UB  \n",
       "16  19935  8352  0.634409  0.170029  0.95287  0.615909  0.652616  "
      ]
     },
     "execution_count": 155,
     "metadata": {},
     "output_type": "execute_result"
    }
   ],
   "source": [
    "tiers12_stats.query(\"mutation=='rpoC_p.Glu1092Asp'\")[['mutation', 'predicted_effect', 'position', 'confidence', 'Odds_Ratio',\n",
    "       'pval', 'BH_pval', 'Bonferroni_pval', 'Num_Isolates', 'TP', 'FP', 'TN', 'FN', 'PPV', 'Sens', 'Spec', 'PPV_LB', 'PPV_UB']]"
   ]
  },
  {
   "cell_type": "code",
   "execution_count": 156,
   "id": "4b3fb68a-1de1-4cc2-a1ae-998658eee957",
   "metadata": {},
   "outputs": [
    {
     "data": {
      "text/plain": [
       "0.6344086021505376"
      ]
     },
     "execution_count": 156,
     "metadata": {},
     "output_type": "execute_result"
    }
   ],
   "source": [
    "1711/(1711+986)"
   ]
  },
  {
   "cell_type": "markdown",
   "id": "2b8b21b1-b6a4-4a9d-a822-5806d1916379",
   "metadata": {},
   "source": [
    "# 1. Likelihood Ratio Test: 5/152 of the Above Tier 2 Mutations are Significant\n",
    "\n",
    "152 tier 2 variants were found significant in the first analysis. We then performed a likelihood ratio test:\n",
    "\n",
    "A mutation is removed from the original model input matrix, and then a new model is fit. \n",
    "\n",
    "We then compare the log-likelihoods of the original model and the model with 1 less mutation. If the p-value is significant, it means that removing the mutation significantly changes the fit of the model. "
   ]
  },
  {
   "cell_type": "code",
   "execution_count": 2,
   "id": "84632d9d-fd85-4532-a823-15b8b33dde51",
   "metadata": {},
   "outputs": [
    {
     "name": "stdout",
     "output_type": "stream",
     "text": [
      "815 2845\n"
     ]
    }
   ],
   "source": [
    "drug = \"Rifampicin\"\n",
    "phenos_name = \"WHO\"\n",
    "out_dir = os.path.join(analysis_dir, drug, f\"BINARY/LRT/phenos={phenos_name}\")\n",
    "\n",
    "LRTresults_tier1 = pd.read_csv(os.path.join(out_dir, f\"results_tier={'1'}.csv\")).rename(columns={\"Unnamed: 0\": \"mutation\"})\n",
    "LRTresults_tier2 = pd.read_csv(os.path.join(out_dir, f\"results_tier={'2'}.csv\")).rename(columns={\"Unnamed: 0\": \"mutation\"})\n",
    "\n",
    "# remove the FULL model row, which is the first row\n",
    "LRTresults_tier1 = add_pval_corrections(LRTresults_tier1.iloc[1:, ])\n",
    "LRTresults_tier2 = add_pval_corrections(LRTresults_tier2.iloc[1:, ])\n",
    "\n",
    "tier1_model_permute = pd.read_csv(os.path.join(analysis_dir, drug, f\"BINARY/tiers=1/phenos={phenos_name}/dropAF_noSyn_unpooled/model_analysis.csv\")).query(\"~mutation.str.contains('PC')\")\n",
    "tier2_model_permute = pd.read_csv(os.path.join(analysis_dir, drug, f\"BINARY/tiers=1+2/phenos={phenos_name}/dropAF_noSyn_unpooled/model_analysis.csv\")).query(\"~mutation.str.contains('PC')\")\n",
    "\n",
    "# remove the tier 1 genes for the purposes of this analysis\n",
    "tier2_model_permute = tier2_model_permute.query(\"mutation not in @tier1_model_permute.mutation\")\n",
    "\n",
    "# check that all mutations in the permutation dataframe are in the LRT dataframe. The only difference should be the FULL model row\n",
    "# print(set(tier1_model_permute.mutation).symmetric_difference(LRTresults_tier1.index))\n",
    "# print(set(tier2_model_permute.mutation).symmetric_difference(LRTresults_tier2.index))\n",
    "assert len(set(tier1_model_permute.mutation).symmetric_difference(LRTresults_tier1.mutation)) == 0\n",
    "assert len(set(tier2_model_permute.mutation).symmetric_difference(LRTresults_tier2.mutation)) == 0\n",
    "\n",
    "# combine results into a single dataframe for easy searching\n",
    "tier1_model = tier1_model_permute.merge(LRTresults_tier1[[\"mutation\", \"pval\", \"BH_pval\", \"Bonferroni_pval\"]].rename(columns={\"pval\": \"LRT_pval\", \n",
    "                                                                                                               \"BH_pval\": \"LRT_BH_pval\", \n",
    "                                                                                                               \"Bonferroni_pval\": \"LRT_Bonferroni_pval\"\n",
    "                                                                                                              }), on=\"mutation\", how=\"left\")\n",
    "\n",
    "tier2_model = tier2_model_permute.merge(LRTresults_tier2[[\"mutation\", \"pval\", \"BH_pval\", \"Bonferroni_pval\"]].rename(columns={\"pval\": \"LRT_pval\", \n",
    "                                                                                                               \"BH_pval\": \"LRT_BH_pval\", \n",
    "                                                                                                               \"Bonferroni_pval\": \"LRT_Bonferroni_pval\"\n",
    "                                                                                                              }), on=\"mutation\", how=\"left\")\n",
    "\n",
    "print(len(tier1_model), len(tier2_model))"
   ]
  },
  {
   "cell_type": "code",
   "execution_count": 4,
   "id": "bb824e0e-3baf-48ea-aa9a-8a24cd23c58d",
   "metadata": {},
   "outputs": [
    {
     "name": "stdout",
     "output_type": "stream",
     "text": [
      "78 significant coef, but not LRT\n",
      "2 significant LRT, but not coef\n",
      "51 significant in both\n"
     ]
    }
   ],
   "source": [
    "# mutations picked up by the LRT, but not the coefficient association. \n",
    "# They are not significant in the tiers 1+2 model either \n",
    "thresh = 0.05\n",
    "\n",
    "print(f\"{len(tier1_model.query('Odds_Ratio > 1 & BH_pval < @thresh & LRT_BH_pval > @thresh'))} significant coef, but not LRT\")\n",
    "print(f\"{len(tier1_model.query('Odds_Ratio > 1 & BH_pval > @thresh & LRT_BH_pval < @thresh'))} significant LRT, but not coef\")\n",
    "print(f\"{len(tier1_model.query('Odds_Ratio > 1 & BH_pval < @thresh & LRT_BH_pval < @thresh'))} significant in both\")"
   ]
  },
  {
   "cell_type": "code",
   "execution_count": 7,
   "id": "6751efcd-707c-44f3-b0a2-7088fcc1e4eb",
   "metadata": {},
   "outputs": [
    {
     "data": {
      "text/html": [
       "<div>\n",
       "<style scoped>\n",
       "    .dataframe tbody tr th:only-of-type {\n",
       "        vertical-align: middle;\n",
       "    }\n",
       "\n",
       "    .dataframe tbody tr th {\n",
       "        vertical-align: top;\n",
       "    }\n",
       "\n",
       "    .dataframe thead th {\n",
       "        text-align: right;\n",
       "    }\n",
       "</style>\n",
       "<table border=\"1\" class=\"dataframe\">\n",
       "  <thead>\n",
       "    <tr style=\"text-align: right;\">\n",
       "      <th></th>\n",
       "      <th>mutation</th>\n",
       "      <th>coef</th>\n",
       "      <th>coef_LB</th>\n",
       "      <th>coef_UB</th>\n",
       "      <th>pval</th>\n",
       "      <th>BH_pval</th>\n",
       "      <th>Bonferroni_pval</th>\n",
       "      <th>Odds_Ratio</th>\n",
       "      <th>OR_LB</th>\n",
       "      <th>OR_UB</th>\n",
       "      <th>confidence</th>\n",
       "      <th>LRT_pval</th>\n",
       "      <th>LRT_BH_pval</th>\n",
       "      <th>LRT_Bonferroni_pval</th>\n",
       "    </tr>\n",
       "  </thead>\n",
       "  <tbody>\n",
       "    <tr>\n",
       "      <th>2</th>\n",
       "      <td>rpoC_p.Glu1092Asp</td>\n",
       "      <td>0.195840</td>\n",
       "      <td>0.128329</td>\n",
       "      <td>0.264205</td>\n",
       "      <td>0.0</td>\n",
       "      <td>0.0</td>\n",
       "      <td>0.0</td>\n",
       "      <td>1.216332</td>\n",
       "      <td>1.136927</td>\n",
       "      <td>1.302395</td>\n",
       "      <td>5) Not assoc w R</td>\n",
       "      <td>5.033098e-07</td>\n",
       "      <td>0.000716</td>\n",
       "      <td>0.001432</td>\n",
       "    </tr>\n",
       "    <tr>\n",
       "      <th>19</th>\n",
       "      <td>Rv2752c_p.Asn30Ser</td>\n",
       "      <td>0.099958</td>\n",
       "      <td>0.039851</td>\n",
       "      <td>0.149232</td>\n",
       "      <td>0.0</td>\n",
       "      <td>0.0</td>\n",
       "      <td>0.0</td>\n",
       "      <td>1.105124</td>\n",
       "      <td>1.040655</td>\n",
       "      <td>1.160942</td>\n",
       "      <td>3) Uncertain significance</td>\n",
       "      <td>1.480226e-07</td>\n",
       "      <td>0.000421</td>\n",
       "      <td>0.000421</td>\n",
       "    </tr>\n",
       "  </tbody>\n",
       "</table>\n",
       "</div>"
      ],
      "text/plain": [
       "              mutation      coef   coef_LB   coef_UB  pval  BH_pval  \\\n",
       "2    rpoC_p.Glu1092Asp  0.195840  0.128329  0.264205   0.0      0.0   \n",
       "19  Rv2752c_p.Asn30Ser  0.099958  0.039851  0.149232   0.0      0.0   \n",
       "\n",
       "    Bonferroni_pval  Odds_Ratio     OR_LB     OR_UB  \\\n",
       "2               0.0    1.216332  1.136927  1.302395   \n",
       "19              0.0    1.105124  1.040655  1.160942   \n",
       "\n",
       "                   confidence      LRT_pval  LRT_BH_pval  LRT_Bonferroni_pval  \n",
       "2            5) Not assoc w R  5.033098e-07     0.000716             0.001432  \n",
       "19  3) Uncertain significance  1.480226e-07     0.000421             0.000421  "
      ]
     },
     "execution_count": 7,
     "metadata": {},
     "output_type": "execute_result"
    }
   ],
   "source": [
    "thresh = 0.01\n",
    "tier2_model.query('Odds_Ratio > 1 & (BH_pval < @thresh & LRT_BH_pval < @thresh)')"
   ]
  },
  {
   "cell_type": "code",
   "execution_count": 9,
   "id": "f388f24e-4500-4f2a-81f2-f4953b70a34a",
   "metadata": {},
   "outputs": [
    {
     "data": {
      "text/html": [
       "<div>\n",
       "<style scoped>\n",
       "    .dataframe tbody tr th:only-of-type {\n",
       "        vertical-align: middle;\n",
       "    }\n",
       "\n",
       "    .dataframe tbody tr th {\n",
       "        vertical-align: top;\n",
       "    }\n",
       "\n",
       "    .dataframe thead th {\n",
       "        text-align: right;\n",
       "    }\n",
       "</style>\n",
       "<table border=\"1\" class=\"dataframe\">\n",
       "  <thead>\n",
       "    <tr style=\"text-align: right;\">\n",
       "      <th></th>\n",
       "      <th>mutation</th>\n",
       "      <th>coef</th>\n",
       "      <th>coef_LB</th>\n",
       "      <th>coef_UB</th>\n",
       "      <th>pval</th>\n",
       "      <th>BH_pval</th>\n",
       "      <th>Bonferroni_pval</th>\n",
       "      <th>Odds_Ratio</th>\n",
       "      <th>OR_LB</th>\n",
       "      <th>OR_UB</th>\n",
       "      <th>confidence</th>\n",
       "      <th>LRT_pval</th>\n",
       "      <th>LRT_BH_pval</th>\n",
       "      <th>LRT_Bonferroni_pval</th>\n",
       "    </tr>\n",
       "  </thead>\n",
       "  <tbody>\n",
       "    <tr>\n",
       "      <th>203</th>\n",
       "      <td>glpK_p.Val192fs</td>\n",
       "      <td>0.026607</td>\n",
       "      <td>-0.011454</td>\n",
       "      <td>0.062963</td>\n",
       "      <td>0.032</td>\n",
       "      <td>0.255294</td>\n",
       "      <td>1.0</td>\n",
       "      <td>1.026964</td>\n",
       "      <td>0.988611</td>\n",
       "      <td>1.064987</td>\n",
       "      <td>NaN</td>\n",
       "      <td>1.0</td>\n",
       "      <td>1.0</td>\n",
       "      <td>1.0</td>\n",
       "    </tr>\n",
       "  </tbody>\n",
       "</table>\n",
       "</div>"
      ],
      "text/plain": [
       "            mutation      coef   coef_LB   coef_UB   pval   BH_pval  \\\n",
       "203  glpK_p.Val192fs  0.026607 -0.011454  0.062963  0.032  0.255294   \n",
       "\n",
       "     Bonferroni_pval  Odds_Ratio     OR_LB     OR_UB confidence  LRT_pval  \\\n",
       "203              1.0    1.026964  0.988611  1.064987        NaN       1.0   \n",
       "\n",
       "     LRT_BH_pval  LRT_Bonferroni_pval  \n",
       "203          1.0                  1.0  "
      ]
     },
     "execution_count": 9,
     "metadata": {},
     "output_type": "execute_result"
    }
   ],
   "source": [
    "# this was the other mutation they called attention to as not being resistance-associated\n",
    "tier2_model.query(\"mutation=='glpK_p.Val192fs'\")"
   ]
  },
  {
   "cell_type": "code",
   "execution_count": 10,
   "id": "68e95ff2-7e0a-4ca7-a166-b99c61dc9b15",
   "metadata": {},
   "outputs": [
    {
     "name": "stdout",
     "output_type": "stream",
     "text": [
      "101 significant coef, but not LRT\n",
      "0 significant LRT, but not coef\n",
      "2 significant in both\n"
     ]
    }
   ],
   "source": [
    "thresh = 0.01\n",
    "\n",
    "print(f\"{len(tier2_model.query('Odds_Ratio > 1 & BH_pval < @thresh & LRT_BH_pval > @thresh'))} significant coef, but not LRT\")\n",
    "print(f\"{len(tier2_model.query('Odds_Ratio > 1 & BH_pval > @thresh & LRT_BH_pval < @thresh'))} significant LRT, but not coef\")\n",
    "print(f\"{len(tier2_model.query('Odds_Ratio > 1 & BH_pval < @thresh & LRT_BH_pval < @thresh'))} significant in both\")"
   ]
  },
  {
   "cell_type": "code",
   "execution_count": 11,
   "id": "480d217d-0b8d-4fda-9514-54002dca8e4c",
   "metadata": {},
   "outputs": [
    {
     "name": "stdout",
     "output_type": "stream",
     "text": [
      "131 103\n",
      "234\n"
     ]
    }
   ],
   "source": [
    "thresh = 0.05\n",
    "tier1_sig_variants = tier1_model.query('Odds_Ratio > 1 & (BH_pval < @thresh | LRT_BH_pval < @thresh)')[\"mutation\"].values\n",
    "\n",
    "thresh = 0.01\n",
    "tier2_sig_variants = tier2_model.query('Odds_Ratio > 1 & (BH_pval < @thresh | LRT_BH_pval < @thresh)')[\"mutation\"].values\n",
    "print(len(tier1_sig_variants), len(tier2_sig_variants))\n",
    "\n",
    "combined_variants = np.concatenate([tier1_sig_variants, tier2_sig_variants])\n",
    "print(len(np.unique(combined_variants)))\n",
    "        \n",
    "combined_variants_df = pd.DataFrame({\"mutation\": combined_variants, \"Tier\": [\"1\"]*len(tier1_sig_variants) + [\"2\"]*len(tier2_sig_variants)})\n",
    "\n",
    "# USE THIS LIST FOR THE FINAL PREDICTIVE MODELS AND TO MEASURE THE AUC INCREASE\n",
    "combined_variants_df.to_csv(os.path.join(analysis_dir, drug, \"BINARY\", \"significant_tiers=1+2_variants.csv\"), index=False)"
   ]
  },
  {
   "cell_type": "markdown",
   "id": "651dd7e7-b428-4b87-bc0f-5946578a8e19",
   "metadata": {},
   "source": [
    "# Perform bootstrapping for all 152 mutations to see how much AUC, Sens, Spec, and Accuracy Change\n",
    "\n",
    "If the confidence interval lies above 0, it means that removing the feature SIGNIFICANTLY DECREASES THE PREDICTIVE POWER OF THE MODEL\n",
    "\n",
    "CI > 0 = FEATURE IS IMPORTANT"
   ]
  },
  {
   "cell_type": "code",
   "execution_count": 127,
   "id": "8b9d72b2-6e0e-4bc7-b8ad-39cf938671da",
   "metadata": {},
   "outputs": [],
   "source": [
    "# # bootstrapped the difference: full model stat - (model - 1) stat\n",
    "# LRT_bootstrap_StatsDiff = pd.read_csv(os.path.join(analysis_dir, drug, \"BINARY/LRT\", f\"{phenos_name}phenos_bootstrap_StatsDiff.csv.gz\"), compression=\"gzip\")\n",
    "# print(len(LRT_bootstrap_StatsDiff.mutation.unique()))\n",
    "# LRT_bootstrap_StatsDiff2 = pd.read_csv(os.path.join(analysis_dir, drug, \"BINARY/LRT\", f\"{phenos_name}phenos_bootstrap_StatsDiff_2.csv.gz\"), compression=\"gzip\")\n",
    "# print(len(LRT_bootstrap_StatsDiff2.mutation.unique()))\n",
    "\n",
    "# LRT_bootstrap_StatsDiff = pd.concat([LRT_bootstrap_StatsDiff, LRT_bootstrap_StatsDiff2])\n",
    "\n",
    "tier1_metrics_CV = pd.read_csv(os.path.join(out_dir, f\"tier=1_binaryMetrics_CV.csv\"), index_col=[0])\n",
    "# tier1_metrics_CV = tier1_metrics_CV.iloc[:, :-1]\n",
    "# tier1_metrics_CV.columns = [\"AUC\", \"Sens\", \"Spec\", \"Acc\"]\n",
    "ref_tier1 = tier1_metrics_CV.loc[\"FULL\"]\n",
    "\n",
    "tier2_metrics_CV = pd.read_csv(os.path.join(out_dir, f\"tiers=1+2_binaryMetrics_CV.csv\"), index_col=[0])\n",
    "# tier2_metrics_CV = tier2_metrics_CV.iloc[:, :-1]\n",
    "# tier2_metrics_CV.columns = [\"AUC\", \"Sens\", \"Spec\", \"Acc\"]\n",
    "ref_tier2 = tier2_metrics_CV.loc[\"FULL\"]"
   ]
  },
  {
   "cell_type": "code",
   "execution_count": null,
   "id": "e7baecf1-fae5-4cad-99da-ad065eb7dbdb",
   "metadata": {},
   "outputs": [],
   "source": [
    "# summary_stats_all = pd.read_csv(os.path.join(out_dir, f\"tiers=1+2_binaryMetrics_CV.csv\"))\n",
    "# drug_WHO_abbr = \"RIF\"\n",
    "\n",
    "# summary_stats_all = summary_stats_all.merge(who_variants_combined.query(\"drug==@drug_WHO_abbr\")[[\"mutation\", \"confidence\"]],\n",
    "#                        on=\"mutation\", how=\"left\"\n",
    "#                       )\n",
    "\n",
    "# summary_stats_all.to_csv(os.path.join(out_dir, f\"tier=1_binaryMetrics_CV.csv\"), index=False)"
   ]
  },
  {
   "cell_type": "code",
   "execution_count": 152,
   "id": "aa096840-0239-4b77-932a-9a9afbc1d352",
   "metadata": {},
   "outputs": [
    {
     "name": "stdout",
     "output_type": "stream",
     "text": [
      "rpoB_p.Asp435Val, 1) Assoc w R \n",
      "{'test_roc_auc': 0.0528, 'test_sens': 0.0079, 'test_spec': 0.5104, 'test_accuracy': 0.0389, 'test_balanced_accuracy': 0.0185}\n",
      "rpoB_p.Ser450Leu, 1) Assoc w R \n",
      "{'test_roc_auc': 0.001, 'test_sens': 0.0004, 'test_spec': 0.0064, 'test_accuracy': 0.0024, 'test_balanced_accuracy': 0.0014}\n"
     ]
    }
   ],
   "source": [
    "thresh = 0.05\n",
    "for mutation in tier1_metrics_CV.index.unique():\n",
    "        \n",
    "    # can also use alternative = 'greater' to see if removing the mutation causes a significant decrease in metrics\n",
    "    pvals = st.ttest_ind(ref_tier1.iloc[:, :-1], tier1_metrics_CV.loc[mutation].iloc[:, :-1], axis=0, equal_var=False, alternative='greater')[1]\n",
    "        \n",
    "    # any p-value is less than the threshold, print it\n",
    "    if sum(pvals < thresh) > 0:\n",
    "        print(f\"{mutation}, {tier1_metrics_CV.loc[mutation, 'confidence'].unique()[0]} \\n{dict(zip(tier1_metrics_CV.columns, np.round(pvals, 4)))}\")\n",
    "        \n",
    "        "
   ]
  },
  {
   "cell_type": "code",
   "execution_count": 153,
   "id": "28785dc8-20a1-4a58-8dc7-05da3a6efd86",
   "metadata": {},
   "outputs": [],
   "source": [
    "thresh = 0.01\n",
    "for mutation in tier2_metrics_CV.index.unique():\n",
    "        \n",
    "    # can also use alternative = 'greater' to see if removing the mutation causes a significant decrease in metrics\n",
    "    pvals = st.ttest_ind(ref_tier2, tier2_metrics_CV.loc[mutation], axis=0, equal_var=False, alternative='greater')[1]\n",
    "        \n",
    "    # any p-value is less than the threshold, print it\n",
    "    if sum(pvals < thresh) > 0:\n",
    "        print(f\"{mutation}, {tier2_metrics_CV.loc[mutation, 'confidence'].unique()[0]} \\n{dict(zip(tier2_metrics_CV.columns, np.round(pvals, 4)))}\")\n"
   ]
  },
  {
   "cell_type": "markdown",
   "id": "51ff9fee-e0ea-4908-ad04-750f663165f2",
   "metadata": {},
   "source": [
    "# Model with Interaction Terms\n",
    "\n",
    "Chose 2 variants because they were the only Tier 2 genes that were significantly associated in the Ridge regression and were significant in the LRT"
   ]
  },
  {
   "cell_type": "code",
   "execution_count": 60,
   "id": "c88b8b80-1690-4a6c-8b5f-1dddf193a3f6",
   "metadata": {},
   "outputs": [
    {
     "data": {
      "text/html": [
       "<div>\n",
       "<style scoped>\n",
       "    .dataframe tbody tr th:only-of-type {\n",
       "        vertical-align: middle;\n",
       "    }\n",
       "\n",
       "    .dataframe tbody tr th {\n",
       "        vertical-align: top;\n",
       "    }\n",
       "\n",
       "    .dataframe thead th {\n",
       "        text-align: right;\n",
       "    }\n",
       "</style>\n",
       "<table border=\"1\" class=\"dataframe\">\n",
       "  <thead>\n",
       "    <tr style=\"text-align: right;\">\n",
       "      <th></th>\n",
       "      <th>mutation</th>\n",
       "      <th>coef</th>\n",
       "      <th>pval</th>\n",
       "      <th>BH_pval</th>\n",
       "      <th>Bonferroni_pval</th>\n",
       "      <th>Odds_Ratio</th>\n",
       "      <th>confidence</th>\n",
       "      <th>LRT_pval</th>\n",
       "      <th>LRT_BH_pval</th>\n",
       "      <th>LRT_Bonferroni_pval</th>\n",
       "    </tr>\n",
       "  </thead>\n",
       "  <tbody>\n",
       "    <tr>\n",
       "      <th>2</th>\n",
       "      <td>rpoC_p.Glu1092Asp</td>\n",
       "      <td>0.195840</td>\n",
       "      <td>0.0</td>\n",
       "      <td>0.0</td>\n",
       "      <td>0.0</td>\n",
       "      <td>1.216332</td>\n",
       "      <td>5) Not assoc w R</td>\n",
       "      <td>5.033098e-07</td>\n",
       "      <td>0.000716</td>\n",
       "      <td>0.001432</td>\n",
       "    </tr>\n",
       "    <tr>\n",
       "      <th>19</th>\n",
       "      <td>Rv2752c_p.Asn30Ser</td>\n",
       "      <td>0.099958</td>\n",
       "      <td>0.0</td>\n",
       "      <td>0.0</td>\n",
       "      <td>0.0</td>\n",
       "      <td>1.105124</td>\n",
       "      <td>3) Uncertain significance</td>\n",
       "      <td>1.480226e-07</td>\n",
       "      <td>0.000421</td>\n",
       "      <td>0.000421</td>\n",
       "    </tr>\n",
       "  </tbody>\n",
       "</table>\n",
       "</div>"
      ],
      "text/plain": [
       "              mutation      coef  pval  BH_pval  Bonferroni_pval  Odds_Ratio  \\\n",
       "2    rpoC_p.Glu1092Asp  0.195840   0.0      0.0              0.0    1.216332   \n",
       "19  Rv2752c_p.Asn30Ser  0.099958   0.0      0.0              0.0    1.105124   \n",
       "\n",
       "                   confidence      LRT_pval  LRT_BH_pval  LRT_Bonferroni_pval  \n",
       "2            5) Not assoc w R  5.033098e-07     0.000716             0.001432  \n",
       "19  3) Uncertain significance  1.480226e-07     0.000421             0.000421  "
      ]
     },
     "execution_count": 60,
     "metadata": {},
     "output_type": "execute_result"
    }
   ],
   "source": [
    "thresh = 0.01\n",
    "tier2_model.query('BH_pval < @thresh & LRT_BH_pval < @thresh')"
   ]
  },
  {
   "cell_type": "code",
   "execution_count": 61,
   "id": "0a490028-8614-4b27-86bf-51612d571e1d",
   "metadata": {},
   "outputs": [
    {
     "data": {
      "text/plain": [
       "(30984, 3737)"
      ]
     },
     "execution_count": 61,
     "metadata": {},
     "output_type": "execute_result"
    }
   ],
   "source": [
    "thresh = 0.01\n",
    "interact_mut = tier2_model.query('BH_pval < @thresh & LRT_BH_pval < @thresh')[\"mutation\"].values\n",
    "df_phenos = pd.read_csv(os.path.join(analysis_dir, drug, \"phenos_binary.csv\")).set_index(\"sample_id\")\n",
    "#interact_mut = ['rpoC_p.Glu1092Asp', 'Rv2752c_p.Asn30Ser']\n",
    "\n",
    "# model_matrix = pd.read_pickle(os.path.join(analysis_dir, drug, \"BINARY/tiers=1+2/phenos=WHO/dropAF_noSyn_unpooled/model_matrix.pkl\"))\n",
    "# interact_matrix = model_matrix.copy()\n",
    "\n",
    "# # get a list of all pairs of mutations to interact\n",
    "# interactions = list(itertools.product(*[interact_mut, interact_matrix.columns[interact_matrix.columns.str.contains(\"rpoB\")]]))\n",
    "\n",
    "# # add interactions\n",
    "# for (mut1, mut2) in interactions:\n",
    "#     interact_matrix[f\"{mut1}+{mut2}\"] = interact_matrix[mut1] * interact_matrix[mut2]\n",
    "    \n",
    "# # drop any columns with no signal\n",
    "# interact_matrix = interact_matrix[interact_matrix.columns[~((interact_matrix == 0).all())]]\n",
    "\n",
    "# assert len(set(model_matrix.columns) - set(interact_matrix.columns)) == 0\n",
    "# print(len(interact_matrix), len(model_matrix))\n",
    "\n",
    "# interact_matrix.to_pickle(os.path.join(analysis_dir, drug, f\"BINARY/interaction/model_matrix_{phenos_name}.pkl\"))\n",
    "\n",
    "interact_matrix = pd.read_pickle(os.path.join(analysis_dir, drug, f\"BINARY/interaction/model_matrix_{phenos_name}.pkl\"))\n",
    "\n",
    "interact_matrix = interact_matrix.merge(df_phenos, left_index=True, right_index=True, how=\"left\")\n",
    "del interact_matrix[\"phenotypic_category\"]\n",
    "\n",
    "interact_matrix.shape"
   ]
  },
  {
   "cell_type": "code",
   "execution_count": 62,
   "id": "61501b9b-818c-474a-8f38-82074d1e4b53",
   "metadata": {},
   "outputs": [
    {
     "name": "stdout",
     "output_type": "stream",
     "text": [
      "rpoC_p.Glu1092Asp 125\n",
      "Rv2752c_p.Asn30Ser 4\n"
     ]
    }
   ],
   "source": [
    "# so much co-occurrence of rpoC_p.Glu1092Asp with rpoB mutations. Can also check proportion that are high confidence rpoB mutations\n",
    "for mut in interact_mut:\n",
    "    print(mut, interact_matrix[interact_matrix.columns[interact_matrix.columns.str.contains(mut)]].shape[1])"
   ]
  },
  {
   "cell_type": "code",
   "execution_count": 63,
   "id": "97e9b440-e22c-4b3a-8bb0-490cb0fc96e2",
   "metadata": {},
   "outputs": [],
   "source": [
    "phenos_name = \"WHO\"\n",
    "interact_res = pd.read_csv(os.path.join(analysis_dir, drug, f\"BINARY/interaction/{phenos_name}_coef.csv\"))\n",
    "interact_permute = pd.read_csv(os.path.join(analysis_dir, drug, f\"BINARY/interaction/{phenos_name}_coef_permutation.csv\"))\n",
    "\n",
    "# assess significance using the results of the permutation test\n",
    "for i, row in interact_res.iterrows():\n",
    "    # p-value is the proportion of permutation coefficients that are AT LEAST AS EXTREME as the test statistic\n",
    "    if row[\"coef\"] > 0:\n",
    "        interact_res.loc[i, \"pval\"] = np.mean(interact_permute[row[\"mutation\"]] >= row[\"coef\"])\n",
    "    else:\n",
    "        interact_res.loc[i, \"pval\"] = np.mean(interact_permute[row[\"mutation\"]] <= row[\"coef\"])\n",
    "        \n",
    "interact_res = add_pval_corrections(interact_res)\n",
    "interact_res[\"Odds_Ratio\"] = np.exp(interact_res[\"coef\"])\n",
    "\n",
    "interact_res[[\"Mut1\", \"Mut2\"]] = interact_res[\"mutation\"].str.split(\"+\", expand=True)\n",
    "interact_res = interact_res.merge(who_variants_combined.query(\"drug=='RIF'\"), left_on=\"Mut2\", right_on=\"mutation\", how=\"left\")\n",
    "del interact_res[\"mutation_y\"]\n",
    "del interact_res[\"drug\"]\n",
    "interact_res.rename(columns={\"mutation_x\": \"mutation\"}, inplace=True)"
   ]
  },
  {
   "cell_type": "code",
   "execution_count": 68,
   "id": "42d4f33d-4f57-4cc7-92b8-cf3ecb1cc77a",
   "metadata": {},
   "outputs": [
    {
     "data": {
      "text/html": [
       "<div>\n",
       "<style scoped>\n",
       "    .dataframe tbody tr th:only-of-type {\n",
       "        vertical-align: middle;\n",
       "    }\n",
       "\n",
       "    .dataframe tbody tr th {\n",
       "        vertical-align: top;\n",
       "    }\n",
       "\n",
       "    .dataframe thead th {\n",
       "        text-align: right;\n",
       "    }\n",
       "</style>\n",
       "<table border=\"1\" class=\"dataframe\">\n",
       "  <thead>\n",
       "    <tr style=\"text-align: right;\">\n",
       "      <th></th>\n",
       "      <th>mutation</th>\n",
       "      <th>coef</th>\n",
       "      <th>pval</th>\n",
       "      <th>BH_pval</th>\n",
       "      <th>Bonferroni_pval</th>\n",
       "      <th>Odds_Ratio</th>\n",
       "      <th>Mut1</th>\n",
       "      <th>Mut2</th>\n",
       "      <th>confidence</th>\n",
       "    </tr>\n",
       "  </thead>\n",
       "  <tbody>\n",
       "    <tr>\n",
       "      <th>3206</th>\n",
       "      <td>rpoC_p.Glu1092Asp</td>\n",
       "      <td>0.219309</td>\n",
       "      <td>0.000</td>\n",
       "      <td>0.000000</td>\n",
       "      <td>0.0</td>\n",
       "      <td>1.245216</td>\n",
       "      <td>rpoC_p.Glu1092Asp</td>\n",
       "      <td>None</td>\n",
       "      <td>NaN</td>\n",
       "    </tr>\n",
       "    <tr>\n",
       "      <th>3676</th>\n",
       "      <td>rpoC_p.Glu1092Asp+rpoB_p.Ile491Tyr</td>\n",
       "      <td>0.026609</td>\n",
       "      <td>0.000</td>\n",
       "      <td>0.000000</td>\n",
       "      <td>0.0</td>\n",
       "      <td>1.026966</td>\n",
       "      <td>rpoC_p.Glu1092Asp</td>\n",
       "      <td>rpoB_p.Ile491Tyr</td>\n",
       "      <td>3) Uncertain significance</td>\n",
       "    </tr>\n",
       "    <tr>\n",
       "      <th>3693</th>\n",
       "      <td>rpoC_p.Glu1092Asp+rpoB_p.Met434_Asn437delinsIle</td>\n",
       "      <td>0.018817</td>\n",
       "      <td>0.000</td>\n",
       "      <td>0.000000</td>\n",
       "      <td>0.0</td>\n",
       "      <td>1.018995</td>\n",
       "      <td>rpoC_p.Glu1092Asp</td>\n",
       "      <td>rpoB_p.Met434_Asn437delinsIle</td>\n",
       "      <td>2) Assoc w R - Interim</td>\n",
       "    </tr>\n",
       "    <tr>\n",
       "      <th>3623</th>\n",
       "      <td>rpoC_p.Glu1092Asp+rpoB_p.Asn260Asp</td>\n",
       "      <td>-0.027974</td>\n",
       "      <td>0.000</td>\n",
       "      <td>0.000000</td>\n",
       "      <td>0.0</td>\n",
       "      <td>0.972414</td>\n",
       "      <td>rpoC_p.Glu1092Asp</td>\n",
       "      <td>rpoB_p.Asn260Asp</td>\n",
       "      <td>NaN</td>\n",
       "    </tr>\n",
       "    <tr>\n",
       "      <th>3725</th>\n",
       "      <td>rpoC_p.Glu1092Asp+rpoB_p.Val170Phe</td>\n",
       "      <td>-0.057892</td>\n",
       "      <td>0.003</td>\n",
       "      <td>0.038700</td>\n",
       "      <td>1.0</td>\n",
       "      <td>0.943752</td>\n",
       "      <td>rpoC_p.Glu1092Asp</td>\n",
       "      <td>rpoB_p.Val170Phe</td>\n",
       "      <td>1) Assoc w R</td>\n",
       "    </tr>\n",
       "    <tr>\n",
       "      <th>3708</th>\n",
       "      <td>rpoC_p.Glu1092Asp+rpoB_p.Ser450Leu</td>\n",
       "      <td>0.057540</td>\n",
       "      <td>0.004</td>\n",
       "      <td>0.048584</td>\n",
       "      <td>1.0</td>\n",
       "      <td>1.059228</td>\n",
       "      <td>rpoC_p.Glu1092Asp</td>\n",
       "      <td>rpoB_p.Ser450Leu</td>\n",
       "      <td>1) Assoc w R</td>\n",
       "    </tr>\n",
       "  </tbody>\n",
       "</table>\n",
       "</div>"
      ],
      "text/plain": [
       "                                             mutation      coef   pval  \\\n",
       "3206                                rpoC_p.Glu1092Asp  0.219309  0.000   \n",
       "3676               rpoC_p.Glu1092Asp+rpoB_p.Ile491Tyr  0.026609  0.000   \n",
       "3693  rpoC_p.Glu1092Asp+rpoB_p.Met434_Asn437delinsIle  0.018817  0.000   \n",
       "3623               rpoC_p.Glu1092Asp+rpoB_p.Asn260Asp -0.027974  0.000   \n",
       "3725               rpoC_p.Glu1092Asp+rpoB_p.Val170Phe -0.057892  0.003   \n",
       "3708               rpoC_p.Glu1092Asp+rpoB_p.Ser450Leu  0.057540  0.004   \n",
       "\n",
       "       BH_pval  Bonferroni_pval  Odds_Ratio               Mut1  \\\n",
       "3206  0.000000              0.0    1.245216  rpoC_p.Glu1092Asp   \n",
       "3676  0.000000              0.0    1.026966  rpoC_p.Glu1092Asp   \n",
       "3693  0.000000              0.0    1.018995  rpoC_p.Glu1092Asp   \n",
       "3623  0.000000              0.0    0.972414  rpoC_p.Glu1092Asp   \n",
       "3725  0.038700              1.0    0.943752  rpoC_p.Glu1092Asp   \n",
       "3708  0.048584              1.0    1.059228  rpoC_p.Glu1092Asp   \n",
       "\n",
       "                               Mut2                 confidence  \n",
       "3206                           None                        NaN  \n",
       "3676               rpoB_p.Ile491Tyr  3) Uncertain significance  \n",
       "3693  rpoB_p.Met434_Asn437delinsIle     2) Assoc w R - Interim  \n",
       "3623               rpoB_p.Asn260Asp                        NaN  \n",
       "3725               rpoB_p.Val170Phe               1) Assoc w R  \n",
       "3708               rpoB_p.Ser450Leu               1) Assoc w R  "
      ]
     },
     "execution_count": 68,
     "metadata": {},
     "output_type": "execute_result"
    }
   ],
   "source": [
    "interact_res.query(\"mutation.str.contains('rpoC_p.Glu1092Asp') & BH_pval < 0.05\").sort_values([\"BH_pval\", \"Odds_Ratio\"], \n",
    "                                                                                           ascending=[True, False]\n",
    "                                                                                          )"
   ]
  },
  {
   "cell_type": "code",
   "execution_count": 70,
   "id": "50e05e3c-ae52-41db-aa52-c197e98d458d",
   "metadata": {},
   "outputs": [
    {
     "data": {
      "text/html": [
       "<div>\n",
       "<style scoped>\n",
       "    .dataframe tbody tr th:only-of-type {\n",
       "        vertical-align: middle;\n",
       "    }\n",
       "\n",
       "    .dataframe tbody tr th {\n",
       "        vertical-align: top;\n",
       "    }\n",
       "\n",
       "    .dataframe thead th {\n",
       "        text-align: right;\n",
       "    }\n",
       "</style>\n",
       "<table border=\"1\" class=\"dataframe\">\n",
       "  <thead>\n",
       "    <tr style=\"text-align: right;\">\n",
       "      <th></th>\n",
       "      <th>mutation</th>\n",
       "      <th>coef</th>\n",
       "      <th>pval</th>\n",
       "      <th>BH_pval</th>\n",
       "      <th>Bonferroni_pval</th>\n",
       "      <th>Odds_Ratio</th>\n",
       "      <th>Mut1</th>\n",
       "      <th>Mut2</th>\n",
       "      <th>confidence</th>\n",
       "    </tr>\n",
       "  </thead>\n",
       "  <tbody>\n",
       "    <tr>\n",
       "      <th>2936</th>\n",
       "      <td>rpoB_p.Val170Phe</td>\n",
       "      <td>0.191617</td>\n",
       "      <td>0.000</td>\n",
       "      <td>0.0000</td>\n",
       "      <td>0.0</td>\n",
       "      <td>1.211206</td>\n",
       "      <td>rpoB_p.Val170Phe</td>\n",
       "      <td>None</td>\n",
       "      <td>NaN</td>\n",
       "    </tr>\n",
       "    <tr>\n",
       "      <th>3725</th>\n",
       "      <td>rpoC_p.Glu1092Asp+rpoB_p.Val170Phe</td>\n",
       "      <td>-0.057892</td>\n",
       "      <td>0.003</td>\n",
       "      <td>0.0387</td>\n",
       "      <td>1.0</td>\n",
       "      <td>0.943752</td>\n",
       "      <td>rpoC_p.Glu1092Asp</td>\n",
       "      <td>rpoB_p.Val170Phe</td>\n",
       "      <td>1) Assoc w R</td>\n",
       "    </tr>\n",
       "  </tbody>\n",
       "</table>\n",
       "</div>"
      ],
      "text/plain": [
       "                                mutation      coef   pval  BH_pval  \\\n",
       "2936                    rpoB_p.Val170Phe  0.191617  0.000   0.0000   \n",
       "3725  rpoC_p.Glu1092Asp+rpoB_p.Val170Phe -0.057892  0.003   0.0387   \n",
       "\n",
       "      Bonferroni_pval  Odds_Ratio               Mut1              Mut2  \\\n",
       "2936              0.0    1.211206   rpoB_p.Val170Phe              None   \n",
       "3725              1.0    0.943752  rpoC_p.Glu1092Asp  rpoB_p.Val170Phe   \n",
       "\n",
       "        confidence  \n",
       "2936           NaN  \n",
       "3725  1) Assoc w R  "
      ]
     },
     "execution_count": 70,
     "metadata": {},
     "output_type": "execute_result"
    }
   ],
   "source": [
    "interact_res.query(\"mutation.str.contains('rpoB_p.Val170Phe')\")"
   ]
  },
  {
   "cell_type": "code",
   "execution_count": 67,
   "id": "9344d6c2-420a-4320-a06e-1f30196b8ee5",
   "metadata": {},
   "outputs": [
    {
     "data": {
      "text/html": [
       "<div>\n",
       "<style scoped>\n",
       "    .dataframe tbody tr th:only-of-type {\n",
       "        vertical-align: middle;\n",
       "    }\n",
       "\n",
       "    .dataframe tbody tr th {\n",
       "        vertical-align: top;\n",
       "    }\n",
       "\n",
       "    .dataframe thead th {\n",
       "        text-align: right;\n",
       "    }\n",
       "</style>\n",
       "<table border=\"1\" class=\"dataframe\">\n",
       "  <thead>\n",
       "    <tr style=\"text-align: right;\">\n",
       "      <th></th>\n",
       "      <th>mutation</th>\n",
       "      <th>coef</th>\n",
       "      <th>pval</th>\n",
       "      <th>BH_pval</th>\n",
       "      <th>Bonferroni_pval</th>\n",
       "      <th>Odds_Ratio</th>\n",
       "      <th>Mut1</th>\n",
       "      <th>Mut2</th>\n",
       "      <th>confidence</th>\n",
       "    </tr>\n",
       "  </thead>\n",
       "  <tbody>\n",
       "    <tr>\n",
       "      <th>2395</th>\n",
       "      <td>rpoB_p.Asn260Asp</td>\n",
       "      <td>-0.027974</td>\n",
       "      <td>0.0</td>\n",
       "      <td>0.0</td>\n",
       "      <td>0.0</td>\n",
       "      <td>0.972414</td>\n",
       "      <td>rpoB_p.Asn260Asp</td>\n",
       "      <td>None</td>\n",
       "      <td>NaN</td>\n",
       "    </tr>\n",
       "    <tr>\n",
       "      <th>3623</th>\n",
       "      <td>rpoC_p.Glu1092Asp+rpoB_p.Asn260Asp</td>\n",
       "      <td>-0.027974</td>\n",
       "      <td>0.0</td>\n",
       "      <td>0.0</td>\n",
       "      <td>0.0</td>\n",
       "      <td>0.972414</td>\n",
       "      <td>rpoC_p.Glu1092Asp</td>\n",
       "      <td>rpoB_p.Asn260Asp</td>\n",
       "      <td>NaN</td>\n",
       "    </tr>\n",
       "  </tbody>\n",
       "</table>\n",
       "</div>"
      ],
      "text/plain": [
       "                                mutation      coef  pval  BH_pval  \\\n",
       "2395                    rpoB_p.Asn260Asp -0.027974   0.0      0.0   \n",
       "3623  rpoC_p.Glu1092Asp+rpoB_p.Asn260Asp -0.027974   0.0      0.0   \n",
       "\n",
       "      Bonferroni_pval  Odds_Ratio               Mut1              Mut2  \\\n",
       "2395              0.0    0.972414   rpoB_p.Asn260Asp              None   \n",
       "3623              0.0    0.972414  rpoC_p.Glu1092Asp  rpoB_p.Asn260Asp   \n",
       "\n",
       "     confidence  \n",
       "2395        NaN  \n",
       "3623        NaN  "
      ]
     },
     "execution_count": 67,
     "metadata": {},
     "output_type": "execute_result"
    }
   ],
   "source": [
    "interact_res.query(\"mutation.str.contains('rpoB_p.Asn260Asp')\")"
   ]
  },
  {
   "cell_type": "code",
   "execution_count": 217,
   "id": "9710b1d6-fad5-4b8b-ba48-d96227834be3",
   "metadata": {},
   "outputs": [
    {
     "data": {
      "text/plain": [
       "phenotype  rpoC_p.Glu1092Asp+rpoB_p.Ser450Leu\n",
       "0          0.0                                   20907\n",
       "           1.0                                      14\n",
       "1          0.0                                    8682\n",
       "           1.0                                    1381\n",
       "Name: rpoC_p.Glu1092Asp+rpoB_p.Ser450Leu, dtype: int64"
      ]
     },
     "execution_count": 217,
     "metadata": {},
     "output_type": "execute_result"
    }
   ],
   "source": [
    "interact_matrix.groupby(\"phenotype\")['rpoC_p.Glu1092Asp+rpoB_p.Ser450Leu'].value_counts()"
   ]
  },
  {
   "cell_type": "code",
   "execution_count": 224,
   "id": "72d42bbb-ce7e-4e64-9af7-d31b0acd9ba7",
   "metadata": {},
   "outputs": [
    {
     "data": {
      "text/plain": [
       "0.045023237800154915"
      ]
     },
     "execution_count": 224,
     "metadata": {},
     "output_type": "execute_result"
    }
   ],
   "source": [
    "interact_matrix['rpoC_p.Glu1092Asp+rpoB_p.Ser450Leu'].mean()"
   ]
  },
  {
   "cell_type": "code",
   "execution_count": 218,
   "id": "d8a9eb00-3c8e-445c-94c5-07a3c6e0f7d3",
   "metadata": {},
   "outputs": [
    {
     "data": {
      "text/plain": [
       "0.9971119133574007"
      ]
     },
     "execution_count": 218,
     "metadata": {},
     "output_type": "execute_result"
    }
   ],
   "source": [
    "1381 / 1385"
   ]
  },
  {
   "cell_type": "code",
   "execution_count": 223,
   "id": "bb4d7011-21b7-4c87-b754-4c9adbf2d6a4",
   "metadata": {},
   "outputs": [
    {
     "data": {
      "text/plain": [
       "0.08704492641363284"
      ]
     },
     "execution_count": 223,
     "metadata": {},
     "output_type": "execute_result"
    }
   ],
   "source": [
    "interact_matrix['rpoC_p.Glu1092Asp'].mean()"
   ]
  },
  {
   "cell_type": "code",
   "execution_count": 222,
   "id": "4adc8ca7-e960-47f8-86e6-ac6f4fc81f85",
   "metadata": {},
   "outputs": [
    {
     "data": {
      "text/plain": [
       "0.21449780531887425"
      ]
     },
     "execution_count": 222,
     "metadata": {},
     "output_type": "execute_result"
    }
   ],
   "source": [
    "interact_matrix['rpoB_p.Ser450Leu'].mean()"
   ]
  },
  {
   "cell_type": "code",
   "execution_count": 34,
   "id": "cea1cf2d-e073-428b-8dd6-0acadb10438f",
   "metadata": {},
   "outputs": [
    {
     "data": {
      "text/plain": [
       "'/n/data1/hms/dbmi/farhat/Sanjana/who-mutation-catalogue/Rifampicin/BINARY/tiers=1/phenos=WHO/dropAF_noSyn_unpooled'"
      ]
     },
     "execution_count": 34,
     "metadata": {},
     "output_type": "execute_result"
    }
   ],
   "source": [
    "os.path.join()"
   ]
  },
  {
   "cell_type": "code",
   "execution_count": 64,
   "id": "947aaa3a-da07-4ffd-9d68-9e6e361ed275",
   "metadata": {},
   "outputs": [],
   "source": []
  },
  {
   "cell_type": "code",
   "execution_count": null,
   "id": "9092692c-9ff2-41de-8481-7a8e36f5bfa4",
   "metadata": {},
   "outputs": [],
   "source": []
  },
  {
   "cell_type": "code",
   "execution_count": null,
   "id": "4d96600d-2456-4d00-a536-47d985a2117f",
   "metadata": {},
   "outputs": [],
   "source": []
  }
 ],
 "metadata": {
  "kernelspec": {
   "display_name": "Python 3 (ipykernel)",
   "language": "python",
   "name": "python3"
  },
  "language_info": {
   "codemirror_mode": {
    "name": "ipython",
    "version": 3
   },
   "file_extension": ".py",
   "mimetype": "text/x-python",
   "name": "python",
   "nbconvert_exporter": "python",
   "pygments_lexer": "ipython3",
   "version": "3.9.13"
  }
 },
 "nbformat": 4,
 "nbformat_minor": 5
}
