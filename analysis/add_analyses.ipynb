{
 "cells": [
  {
   "cell_type": "code",
   "execution_count": 2,
   "id": "86d79dbc-86b7-4a6d-b26c-3052aaeb12a4",
   "metadata": {},
   "outputs": [],
   "source": [
    "import numpy as np\n",
    "import pandas as pd\n",
    "import matplotlib.pyplot as plt\n",
    "plt.rcParams['figure.dpi'] = 150\n",
    "import seaborn as sns\n",
    "\n",
    "import glob, os, yaml, subprocess, itertools\n",
    "from sklearn.model_selection import train_test_split, KFold, GridSearchCV\n",
    "from sklearn.preprocessing import StandardScaler\n",
    "from sklearn.linear_model import LogisticRegression, LogisticRegressionCV\n",
    "from statsmodels.distributions.empirical_distribution import ECDF\n",
    "import sklearn.metrics\n",
    "from sklearn.decomposition import PCA\n",
    "import timeit\n",
    "import scipy.stats as st\n",
    "import statsmodels\n",
    "import pickle, yaml, tracemalloc\n",
    "from scipy.stats import binomtest\n",
    "\n",
    "analysis_dir = '/n/data1/hms/dbmi/farhat/Sanjana/who-mutation-catalogue'\n",
    "input_data_dir = '/n/data1/hms/dbmi/farhat/ye12/who'\n",
    "who_variants_combined = pd.read_csv(\"who_confidence_2021.csv\")\n",
    "lineages = pd.read_csv(\"../data/lineages.csv\", low_memory=False)\n",
    "\n",
    "import itertools\n",
    "from stats_utils import *\n",
    "import warnings\n",
    "warnings.filterwarnings(\"ignore\")\n",
    "\n",
    "import vcf, yaml"
   ]
  },
  {
   "cell_type": "code",
   "execution_count": 3,
   "id": "366ba965-efa0-4cb3-84f0-7dc381f5b507",
   "metadata": {},
   "outputs": [],
   "source": [
    "def combine_unpooled_analyses(drug, phenos_name, folder=\"BINARY\", model_prefix=\"dropAF_noSyn_unpooled\"):\n",
    "    \n",
    "    ################## 1. READ IN RIDGE REGRESSION RESULTS ##################\n",
    "    tier1_model_permute = pd.read_csv(os.path.join(f\"{analysis_dir}/{drug}/{folder}/tiers=1/phenos={phenos_name}/{model_prefix}/model_analysis.csv\")).query(\"~mutation.str.contains('PC')\")\n",
    "    tier2_model_permute = pd.read_csv(os.path.join(f\"{analysis_dir}/{drug}/{folder}/tiers=1+2/phenos={phenos_name}/{model_prefix}/model_analysis.csv\")).query(\"~mutation.str.contains('PC')\")\n",
    "\n",
    "    # remove the tier 1 genes for the purposes of this analysis\n",
    "    tier2_model_permute = tier2_model_permute.query(\"mutation not in @tier1_model_permute.mutation\")\n",
    "\n",
    "    \n",
    "    ################## 2. READ IN LRT RESULTS ##################\n",
    "    LRTresults_tier1 = pd.read_csv(os.path.join(f\"{analysis_dir}/{drug}/{folder}/tiers=1/phenos={phenos_name}/{model_prefix}/LRT_results.csv\")).rename(columns={\"Unnamed: 0\": \"mutation\"})\n",
    "    LRTresults_tier2 = pd.read_csv(os.path.join(f\"{analysis_dir}/{drug}/{folder}/tiers=1+2/phenos={phenos_name}/{model_prefix}/LRT_results.csv\")).rename(columns={\"Unnamed: 0\": \"mutation\"})\n",
    "\n",
    "    # remove the FULL model row, which is the first row\n",
    "    LRTresults_tier1 = add_pval_corrections(LRTresults_tier1.iloc[1:, ])\n",
    "    LRTresults_tier2 = add_pval_corrections(LRTresults_tier2.iloc[1:, ])\n",
    "    \n",
    "    # check that all mutations in the permutation dataframe are in the LRT dataframe. The only difference should be the FULL model row\n",
    "    assert len(set(tier1_model_permute.mutation).symmetric_difference(LRTresults_tier1.mutation)) == 0\n",
    "    assert len(set(tier2_model_permute.mutation).symmetric_difference(LRTresults_tier2.mutation)) == 0\n",
    "\n",
    "    # combine results into a single dataframe for easy searching. REMOVE BONFERRONI AND COEFS\n",
    "    tier1_model = tier1_model_permute[tier1_model_permute.columns[~tier1_model_permute.columns.str.contains(\"|\".join([\"Bonferroni\", \"coef\"]))]].merge(LRTresults_tier1[[\"mutation\", \"pval\", \"BH_pval\"]].rename(columns={\"pval\": \"LRT_pval\", \n",
    "                                                                                                                   \"BH_pval\": \"LRT_BH_pval\", \n",
    "                                                                                                                  }), on=\"mutation\", how=\"left\")\n",
    "\n",
    "    tier2_model = tier2_model_permute[tier2_model_permute.columns[~tier2_model_permute.columns.str.contains(\"|\".join([\"Bonferroni\", \"coef\"]))]].merge(LRTresults_tier2[[\"mutation\", \"pval\", \"BH_pval\"]].rename(columns={\"pval\": \"LRT_pval\", \n",
    "                                                                                                                   \"BH_pval\": \"LRT_BH_pval\", \n",
    "                                                                                                                  }), on=\"mutation\", how=\"left\")\n",
    "\n",
    "    ################## 3. READ IN AUC TEST RESULTS ##################\n",
    "    tier1_auc = pd.read_csv(os.path.join(analysis_dir, drug, folder, \"tiers=1/phenos=WHO/dropAF_noSyn_unpooled/AUC_test_results.csv\"))\n",
    "    del tier1_auc[\"Bonferroni_pval\"]\n",
    "    tier2_auc = pd.read_csv(os.path.join(analysis_dir, drug, folder, \"tiers=1+2/phenos=WHO/dropAF_noSyn_unpooled/AUC_test_results.csv\"))\n",
    "    del tier2_auc[\"Bonferroni_pval\"]\n",
    "\n",
    "    tier1_combined_results = tier1_model.merge(tier1_auc.rename(columns={\"pval\": \"AUC_pval\", \"BH_pval\": \"AUC_BH_pval\"}), \n",
    "                      on=\"mutation\", how=\"left\")\n",
    "\n",
    "    tier1_combined_results[['Num_Isolates', 'Total_Isolates',\n",
    "           'TP', 'FP', 'TN', 'FN']] = tier1_combined_results[['Num_Isolates', 'Total_Isolates',\n",
    "           'TP', 'FP', 'TN', 'FN']].astype(int)\n",
    "\n",
    "    tier2_combined_results = tier2_model.merge(tier2_auc.rename(columns={\"pval\": \"AUC_pval\", \"BH_pval\": \"AUC_BH_pval\"}), \n",
    "                      on=\"mutation\", how=\"left\")\n",
    "\n",
    "    tier2_combined_results[['Num_Isolates', 'Total_Isolates',\n",
    "           'TP', 'FP', 'TN', 'FN']] = tier2_combined_results[['Num_Isolates', 'Total_Isolates',\n",
    "           'TP', 'FP', 'TN', 'FN']].astype(int)\n",
    "\n",
    "    tier1_combined_results[\"Tier\"] = 1\n",
    "    tier2_combined_results[\"Tier\"] = 2\n",
    "\n",
    "    # columns to return, in the desired order\n",
    "    keep_cols = ['mutation', 'Tier', 'predicted_effect', 'position', 'confidence', 'Odds_Ratio',\n",
    "                           'OR_LB', 'OR_UB', 'pval', 'BH_pval', 'LRT_pval', 'LRT_BH_pval', \n",
    "                            'AUC_diff', 'AUC_pval', 'AUC_BH_pval', \n",
    "                            'Num_Isolates', 'Total_Isolates',\n",
    "                           'TP', 'FP', 'TN', 'FN', 'PPV', 'NPV', 'Sens', 'Spec', 'LR+', 'LR-',\n",
    "                           'PPV_LB', 'PPV_UB', 'NPV_LB', 'NPV_UB', 'Sens_LB', 'Sens_UB', 'Spec_LB',\n",
    "                           'Spec_UB', 'LR+_LB', 'LR+_UB', 'LR-_LB', 'LR-_UB'\n",
    "                           ]\n",
    "    \n",
    "    # combine Tier 1 and 2 results, and return the result\n",
    "    final = pd.concat([tier1_combined_results[keep_cols],\n",
    "                      tier2_combined_results[keep_cols]\n",
    "                      ], axis=0\n",
    "                     )\n",
    "    \n",
    "    print(\"Tier 1:\")\n",
    "    print(f'    Ridge: {len(final.query(\"OR_LB > 1 & Tier == 1 & BH_pval < 0.05\"))}')\n",
    "    print(f'    LRT: {len(final.query(\"OR_LB > 1 & Tier == 1 & LRT_BH_pval < 0.05\"))}')\n",
    "    print(f'    AUC: {len(final.query(\"OR_LB > 1 & Tier == 1 & AUC_BH_pval < 0.05\"))}')\n",
    "    \n",
    "    print(\"Tier 2:\")\n",
    "    print(f'    Ridge: {len(final.query(\"OR_LB > 1 & Tier == 2 & BH_pval < 0.01\"))}')\n",
    "    print(f'    LRT: {len(final.query(\"OR_LB > 1 & Tier == 2 & LRT_BH_pval < 0.01\"))}')\n",
    "    print(f'    AUC: {len(final.query(\"OR_LB > 1 & Tier == 2 & AUC_BH_pval < 0.01\"))}')\n",
    "\n",
    "    return final"
   ]
  },
  {
   "cell_type": "code",
   "execution_count": 12,
   "id": "dfb344f8-6839-4052-861e-1561c6ecbbbc",
   "metadata": {},
   "outputs": [
    {
     "name": "stdout",
     "output_type": "stream",
     "text": [
      "Tier 1:\n",
      "    Ridge: 86\n",
      "    LRT: 41\n",
      "    AUC: 23\n",
      "Tier 2:\n",
      "    Ridge: 68\n",
      "    LRT: 2\n",
      "    AUC: 1\n"
     ]
    }
   ],
   "source": [
    "phenos_name = \"WHO\"\n",
    "\n",
    "final_RIF = combine_unpooled_analyses(\"Rifampicin\", phenos_name)"
   ]
  },
  {
   "cell_type": "code",
   "execution_count": 4,
   "id": "84632d9d-fd85-4532-a823-15b8b33dde51",
   "metadata": {},
   "outputs": [],
   "source": [
    "final_RIF = pd.read_csv(\"/home/sak0914/RIF_unpooled_results.csv\")"
   ]
  },
  {
   "cell_type": "code",
   "execution_count": 13,
   "id": "0386fb11-eb07-4e83-9eac-296ad0a5ab89",
   "metadata": {},
   "outputs": [
    {
     "data": {
      "text/html": [
       "<div>\n",
       "<style scoped>\n",
       "    .dataframe tbody tr th:only-of-type {\n",
       "        vertical-align: middle;\n",
       "    }\n",
       "\n",
       "    .dataframe tbody tr th {\n",
       "        vertical-align: top;\n",
       "    }\n",
       "\n",
       "    .dataframe thead th {\n",
       "        text-align: right;\n",
       "    }\n",
       "</style>\n",
       "<table border=\"1\" class=\"dataframe\">\n",
       "  <thead>\n",
       "    <tr style=\"text-align: right;\">\n",
       "      <th></th>\n",
       "      <th>mutation</th>\n",
       "      <th>Tier</th>\n",
       "      <th>predicted_effect</th>\n",
       "      <th>position</th>\n",
       "      <th>confidence</th>\n",
       "      <th>Odds_Ratio</th>\n",
       "      <th>OR_LB</th>\n",
       "      <th>OR_UB</th>\n",
       "      <th>pval</th>\n",
       "      <th>BH_pval</th>\n",
       "      <th>...</th>\n",
       "      <th>NPV_LB</th>\n",
       "      <th>NPV_UB</th>\n",
       "      <th>Sens_LB</th>\n",
       "      <th>Sens_UB</th>\n",
       "      <th>Spec_LB</th>\n",
       "      <th>Spec_UB</th>\n",
       "      <th>LR+_LB</th>\n",
       "      <th>LR+_UB</th>\n",
       "      <th>LR-_LB</th>\n",
       "      <th>LR-_UB</th>\n",
       "    </tr>\n",
       "  </thead>\n",
       "  <tbody>\n",
       "  </tbody>\n",
       "</table>\n",
       "<p>0 rows × 39 columns</p>\n",
       "</div>"
      ],
      "text/plain": [
       "Empty DataFrame\n",
       "Columns: [mutation, Tier, predicted_effect, position, confidence, Odds_Ratio, OR_LB, OR_UB, pval, BH_pval, LRT_pval, LRT_BH_pval, AUC_diff, AUC_pval, AUC_BH_pval, Num_Isolates, Total_Isolates, TP, FP, TN, FN, PPV, NPV, Sens, Spec, LR+, LR-, PPV_LB, PPV_UB, NPV_LB, NPV_UB, Sens_LB, Sens_UB, Spec_LB, Spec_UB, LR+_LB, LR+_UB, LR-_LB, LR-_UB]\n",
       "Index: []\n",
       "\n",
       "[0 rows x 39 columns]"
      ]
     },
     "execution_count": 13,
     "metadata": {},
     "output_type": "execute_result"
    }
   ],
   "source": [
    "final_RIF.query(\"Tier==1 & OR_LB > 1 & BH_pval > 0.05 & LRT_BH_pval < 0.05\")"
   ]
  },
  {
   "cell_type": "code",
   "execution_count": 14,
   "id": "b36ea073-9793-4672-9a5c-f2c2e17688d3",
   "metadata": {},
   "outputs": [
    {
     "data": {
      "text/html": [
       "<div>\n",
       "<style scoped>\n",
       "    .dataframe tbody tr th:only-of-type {\n",
       "        vertical-align: middle;\n",
       "    }\n",
       "\n",
       "    .dataframe tbody tr th {\n",
       "        vertical-align: top;\n",
       "    }\n",
       "\n",
       "    .dataframe thead th {\n",
       "        text-align: right;\n",
       "    }\n",
       "</style>\n",
       "<table border=\"1\" class=\"dataframe\">\n",
       "  <thead>\n",
       "    <tr style=\"text-align: right;\">\n",
       "      <th></th>\n",
       "      <th>mutation</th>\n",
       "      <th>Tier</th>\n",
       "      <th>predicted_effect</th>\n",
       "      <th>position</th>\n",
       "      <th>confidence</th>\n",
       "      <th>Odds_Ratio</th>\n",
       "      <th>OR_LB</th>\n",
       "      <th>OR_UB</th>\n",
       "      <th>pval</th>\n",
       "      <th>BH_pval</th>\n",
       "      <th>...</th>\n",
       "      <th>NPV_LB</th>\n",
       "      <th>NPV_UB</th>\n",
       "      <th>Sens_LB</th>\n",
       "      <th>Sens_UB</th>\n",
       "      <th>Spec_LB</th>\n",
       "      <th>Spec_UB</th>\n",
       "      <th>LR+_LB</th>\n",
       "      <th>LR+_UB</th>\n",
       "      <th>LR-_LB</th>\n",
       "      <th>LR-_UB</th>\n",
       "    </tr>\n",
       "  </thead>\n",
       "  <tbody>\n",
       "  </tbody>\n",
       "</table>\n",
       "<p>0 rows × 39 columns</p>\n",
       "</div>"
      ],
      "text/plain": [
       "Empty DataFrame\n",
       "Columns: [mutation, Tier, predicted_effect, position, confidence, Odds_Ratio, OR_LB, OR_UB, pval, BH_pval, LRT_pval, LRT_BH_pval, AUC_diff, AUC_pval, AUC_BH_pval, Num_Isolates, Total_Isolates, TP, FP, TN, FN, PPV, NPV, Sens, Spec, LR+, LR-, PPV_LB, PPV_UB, NPV_LB, NPV_UB, Sens_LB, Sens_UB, Spec_LB, Spec_UB, LR+_LB, LR+_UB, LR-_LB, LR-_UB]\n",
       "Index: []\n",
       "\n",
       "[0 rows x 39 columns]"
      ]
     },
     "execution_count": 14,
     "metadata": {},
     "output_type": "execute_result"
    }
   ],
   "source": [
    "final_RIF.query(\"Tier==2 & OR_LB > 1 & BH_pval > 0.01 & LRT_BH_pval < 0.01\")"
   ]
  },
  {
   "cell_type": "code",
   "execution_count": 7,
   "id": "81a4ebdb-3d4f-469d-a2f4-e7103c1d47d7",
   "metadata": {},
   "outputs": [
    {
     "data": {
      "text/plain": [
       "0.8078787878787879"
      ]
     },
     "execution_count": 7,
     "metadata": {},
     "output_type": "execute_result"
    }
   ],
   "source": [
    "final_RIF.query(\"AUC_diff<0\").AUC_BH_pval.min()"
   ]
  },
  {
   "cell_type": "code",
   "execution_count": 11,
   "id": "31499db0-a141-463c-9bf5-7b802b5d6ac0",
   "metadata": {},
   "outputs": [
    {
     "data": {
      "text/html": [
       "<div>\n",
       "<style scoped>\n",
       "    .dataframe tbody tr th:only-of-type {\n",
       "        vertical-align: middle;\n",
       "    }\n",
       "\n",
       "    .dataframe tbody tr th {\n",
       "        vertical-align: top;\n",
       "    }\n",
       "\n",
       "    .dataframe thead th {\n",
       "        text-align: right;\n",
       "    }\n",
       "</style>\n",
       "<table border=\"1\" class=\"dataframe\">\n",
       "  <thead>\n",
       "    <tr style=\"text-align: right;\">\n",
       "      <th></th>\n",
       "      <th>mutation</th>\n",
       "      <th>AUC_diff</th>\n",
       "      <th>AUC_pval</th>\n",
       "      <th>AUC_BH_pval</th>\n",
       "      <th>Tier</th>\n",
       "      <th>confidence</th>\n",
       "    </tr>\n",
       "  </thead>\n",
       "  <tbody>\n",
       "    <tr>\n",
       "      <th>57</th>\n",
       "      <td>rpoB_p.Thr427Ala</td>\n",
       "      <td>-1.140565e-06</td>\n",
       "      <td>0.33</td>\n",
       "      <td>0.809412</td>\n",
       "      <td>1</td>\n",
       "      <td>2) Assoc w R - Interim</td>\n",
       "    </tr>\n",
       "    <tr>\n",
       "      <th>95</th>\n",
       "      <td>rpoB_p.Leu430Arg</td>\n",
       "      <td>-5.079705e-06</td>\n",
       "      <td>0.31</td>\n",
       "      <td>0.807879</td>\n",
       "      <td>1</td>\n",
       "      <td>2) Assoc w R - Interim</td>\n",
       "    </tr>\n",
       "    <tr>\n",
       "      <th>815</th>\n",
       "      <td>rpoC_p.Val483Gly</td>\n",
       "      <td>-1.223020e-04</td>\n",
       "      <td>0.06</td>\n",
       "      <td>0.811940</td>\n",
       "      <td>2</td>\n",
       "      <td>NaN</td>\n",
       "    </tr>\n",
       "    <tr>\n",
       "      <th>835</th>\n",
       "      <td>rpoC_p.Asn826Thr</td>\n",
       "      <td>-2.549304e-05</td>\n",
       "      <td>0.07</td>\n",
       "      <td>0.811940</td>\n",
       "      <td>2</td>\n",
       "      <td>NaN</td>\n",
       "    </tr>\n",
       "    <tr>\n",
       "      <th>838</th>\n",
       "      <td>rpoC_p.Val1039Ala</td>\n",
       "      <td>-1.519988e-07</td>\n",
       "      <td>0.23</td>\n",
       "      <td>0.811940</td>\n",
       "      <td>2</td>\n",
       "      <td>NaN</td>\n",
       "    </tr>\n",
       "    <tr>\n",
       "      <th>840</th>\n",
       "      <td>rpoC_p.Leu507Val</td>\n",
       "      <td>-3.747720e-06</td>\n",
       "      <td>0.22</td>\n",
       "      <td>0.811940</td>\n",
       "      <td>2</td>\n",
       "      <td>NaN</td>\n",
       "    </tr>\n",
       "    <tr>\n",
       "      <th>846</th>\n",
       "      <td>rpoA_p.Gly31Ser</td>\n",
       "      <td>-3.472222e-06</td>\n",
       "      <td>0.21</td>\n",
       "      <td>0.811940</td>\n",
       "      <td>2</td>\n",
       "      <td>NaN</td>\n",
       "    </tr>\n",
       "    <tr>\n",
       "      <th>849</th>\n",
       "      <td>rpoC_p.Phe452Cys</td>\n",
       "      <td>-1.496238e-06</td>\n",
       "      <td>0.21</td>\n",
       "      <td>0.811940</td>\n",
       "      <td>2</td>\n",
       "      <td>NaN</td>\n",
       "    </tr>\n",
       "    <tr>\n",
       "      <th>858</th>\n",
       "      <td>rpoC_p.Leu746Val</td>\n",
       "      <td>-1.472488e-07</td>\n",
       "      <td>0.24</td>\n",
       "      <td>0.811940</td>\n",
       "      <td>2</td>\n",
       "      <td>NaN</td>\n",
       "    </tr>\n",
       "    <tr>\n",
       "      <th>867</th>\n",
       "      <td>rpoC_p.Val1252Met</td>\n",
       "      <td>-1.543737e-06</td>\n",
       "      <td>0.20</td>\n",
       "      <td>0.811940</td>\n",
       "      <td>2</td>\n",
       "      <td>NaN</td>\n",
       "    </tr>\n",
       "    <tr>\n",
       "      <th>871</th>\n",
       "      <td>rpoC_p.Phe831Leu</td>\n",
       "      <td>-4.217966e-06</td>\n",
       "      <td>0.23</td>\n",
       "      <td>0.811940</td>\n",
       "      <td>2</td>\n",
       "      <td>3) Uncertain significance</td>\n",
       "    </tr>\n",
       "    <tr>\n",
       "      <th>888</th>\n",
       "      <td>rpoC_p.Ile832Val</td>\n",
       "      <td>-1.814485e-06</td>\n",
       "      <td>0.31</td>\n",
       "      <td>0.811940</td>\n",
       "      <td>2</td>\n",
       "      <td>NaN</td>\n",
       "    </tr>\n",
       "  </tbody>\n",
       "</table>\n",
       "</div>"
      ],
      "text/plain": [
       "              mutation      AUC_diff  AUC_pval  AUC_BH_pval  Tier  \\\n",
       "57    rpoB_p.Thr427Ala -1.140565e-06      0.33     0.809412     1   \n",
       "95    rpoB_p.Leu430Arg -5.079705e-06      0.31     0.807879     1   \n",
       "815   rpoC_p.Val483Gly -1.223020e-04      0.06     0.811940     2   \n",
       "835   rpoC_p.Asn826Thr -2.549304e-05      0.07     0.811940     2   \n",
       "838  rpoC_p.Val1039Ala -1.519988e-07      0.23     0.811940     2   \n",
       "840   rpoC_p.Leu507Val -3.747720e-06      0.22     0.811940     2   \n",
       "846    rpoA_p.Gly31Ser -3.472222e-06      0.21     0.811940     2   \n",
       "849   rpoC_p.Phe452Cys -1.496238e-06      0.21     0.811940     2   \n",
       "858   rpoC_p.Leu746Val -1.472488e-07      0.24     0.811940     2   \n",
       "867  rpoC_p.Val1252Met -1.543737e-06      0.20     0.811940     2   \n",
       "871   rpoC_p.Phe831Leu -4.217966e-06      0.23     0.811940     2   \n",
       "888   rpoC_p.Ile832Val -1.814485e-06      0.31     0.811940     2   \n",
       "\n",
       "                    confidence  \n",
       "57      2) Assoc w R - Interim  \n",
       "95      2) Assoc w R - Interim  \n",
       "815                        NaN  \n",
       "835                        NaN  \n",
       "838                        NaN  \n",
       "840                        NaN  \n",
       "846                        NaN  \n",
       "849                        NaN  \n",
       "858                        NaN  \n",
       "867                        NaN  \n",
       "871  3) Uncertain significance  \n",
       "888                        NaN  "
      ]
     },
     "execution_count": 11,
     "metadata": {},
     "output_type": "execute_result"
    }
   ],
   "source": [
    "final_RIF.query(\"AUC_diff<0\")[[\"mutation\", \"AUC_diff\", \"AUC_pval\", \"AUC_BH_pval\", \"Tier\", \"confidence\"]]"
   ]
  },
  {
   "cell_type": "markdown",
   "id": "e242ed62-37ed-4b08-9a60-ccddb6f37d30",
   "metadata": {},
   "source": [
    "# 2. AUC Change Test for Mutations that are Significant in EITHER Ridge or LRT\n",
    "\n",
    "Tier 1: 86 mutations\n",
    "\n",
    "Tier 2: 68 mutations"
   ]
  },
  {
   "cell_type": "code",
   "execution_count": 75,
   "id": "8d6391e3-c6d9-4f9b-a680-c383d67dd4e2",
   "metadata": {},
   "outputs": [],
   "source": [
    "# rif_results = pd.read_excel(\"../results/BINARY/Rifampicin.xlsx\", sheet_name=[\"Model_3\", \"Model_7\"])\n",
    "\n",
    "# # mutation renaming, that's all\n",
    "# set(rif_results[\"Model_7\"].mutation) - set(final.mutation)\n",
    "# set(final.query(\"Tier==2\").mutation) - set(rif_results[\"Model_7\"].mutation)"
   ]
  },
  {
   "cell_type": "code",
   "execution_count": 221,
   "id": "c4caa0ac-2cc9-46e4-9a45-5fe147499da4",
   "metadata": {},
   "outputs": [
    {
     "name": "stdout",
     "output_type": "stream",
     "text": [
      "86\n",
      "41\n",
      "23\n"
     ]
    }
   ],
   "source": [
    "thresh = 0.05\n",
    "print(len(tier1_combined_results.query(\"OR_LB > 1 & BH_pval < @thresh\")))\n",
    "print(len(tier1_combined_results.query(\"OR_LB > 1 & LRT_BH_pval < @thresh\")))\n",
    "print(len(tier1_combined_results.query(\"OR_LB > 1 & AUC_BH_pval < @thresh\")))"
   ]
  },
  {
   "cell_type": "code",
   "execution_count": 35,
   "id": "7a302842-2c63-4015-82a5-44ba2fd8efd1",
   "metadata": {},
   "outputs": [
    {
     "name": "stdout",
     "output_type": "stream",
     "text": [
      "68\n",
      "2\n",
      "1\n"
     ]
    }
   ],
   "source": [
    "thresh = 0.01\n",
    "print(len(tier2_combined_results.query(\"OR_LB > 1 & BH_pval < @thresh\")))\n",
    "print(len(tier2_combined_results.query(\"OR_LB > 1 & LRT_BH_pval < @thresh\")))\n",
    "print(len(tier2_combined_results.query(\"OR_LB > 1 & AUC_BH_pval < @thresh\")))"
   ]
  },
  {
   "cell_type": "code",
   "execution_count": 36,
   "id": "4ba7f1dd-c848-4e4f-a267-2e92e0758fdd",
   "metadata": {},
   "outputs": [
    {
     "data": {
      "text/html": [
       "<div>\n",
       "<style scoped>\n",
       "    .dataframe tbody tr th:only-of-type {\n",
       "        vertical-align: middle;\n",
       "    }\n",
       "\n",
       "    .dataframe tbody tr th {\n",
       "        vertical-align: top;\n",
       "    }\n",
       "\n",
       "    .dataframe thead th {\n",
       "        text-align: right;\n",
       "    }\n",
       "</style>\n",
       "<table border=\"1\" class=\"dataframe\">\n",
       "  <thead>\n",
       "    <tr style=\"text-align: right;\">\n",
       "      <th></th>\n",
       "      <th>mutation</th>\n",
       "      <th>predicted_effect</th>\n",
       "      <th>position</th>\n",
       "      <th>confidence</th>\n",
       "      <th>Odds_Ratio</th>\n",
       "      <th>OR_LB</th>\n",
       "      <th>OR_UB</th>\n",
       "      <th>pval</th>\n",
       "      <th>BH_pval</th>\n",
       "      <th>Num_Isolates</th>\n",
       "      <th>...</th>\n",
       "      <th>Spec_UB</th>\n",
       "      <th>LR+_LB</th>\n",
       "      <th>LR+_UB</th>\n",
       "      <th>LR-_LB</th>\n",
       "      <th>LR-_UB</th>\n",
       "      <th>LRT_pval</th>\n",
       "      <th>LRT_BH_pval</th>\n",
       "      <th>AUC_diff</th>\n",
       "      <th>AUC_pval</th>\n",
       "      <th>AUC_BH_pval</th>\n",
       "    </tr>\n",
       "  </thead>\n",
       "  <tbody>\n",
       "    <tr>\n",
       "      <th>2</th>\n",
       "      <td>rpoC_p.Glu1092Asp</td>\n",
       "      <td>missense_variant</td>\n",
       "      <td>766645</td>\n",
       "      <td>5) Not assoc w R</td>\n",
       "      <td>1.216332</td>\n",
       "      <td>1.139563</td>\n",
       "      <td>1.296843</td>\n",
       "      <td>0.0</td>\n",
       "      <td>0.0</td>\n",
       "      <td>2697</td>\n",
       "      <td>...</td>\n",
       "      <td>0.955703</td>\n",
       "      <td>3.348102</td>\n",
       "      <td>3.887383</td>\n",
       "      <td>0.862922</td>\n",
       "      <td>0.879198</td>\n",
       "      <td>5.033098e-07</td>\n",
       "      <td>0.000716</td>\n",
       "      <td>0.000649</td>\n",
       "      <td>0.1</td>\n",
       "      <td>0.81194</td>\n",
       "    </tr>\n",
       "    <tr>\n",
       "      <th>19</th>\n",
       "      <td>Rv2752c_p.Asn30Ser</td>\n",
       "      <td>missense_variant</td>\n",
       "      <td>3066103</td>\n",
       "      <td>3) Uncertain significance</td>\n",
       "      <td>1.105124</td>\n",
       "      <td>1.050165</td>\n",
       "      <td>1.166855</td>\n",
       "      <td>0.0</td>\n",
       "      <td>0.0</td>\n",
       "      <td>12</td>\n",
       "      <td>...</td>\n",
       "      <td>0.999895</td>\n",
       "      <td>0.670690</td>\n",
       "      <td>6.444480</td>\n",
       "      <td>0.999161</td>\n",
       "      <td>1.000220</td>\n",
       "      <td>1.480226e-07</td>\n",
       "      <td>0.000421</td>\n",
       "      <td>0.000220</td>\n",
       "      <td>0.0</td>\n",
       "      <td>0.00000</td>\n",
       "    </tr>\n",
       "  </tbody>\n",
       "</table>\n",
       "<p>2 rows × 38 columns</p>\n",
       "</div>"
      ],
      "text/plain": [
       "              mutation  predicted_effect position                 confidence  \\\n",
       "2    rpoC_p.Glu1092Asp  missense_variant   766645           5) Not assoc w R   \n",
       "19  Rv2752c_p.Asn30Ser  missense_variant  3066103  3) Uncertain significance   \n",
       "\n",
       "    Odds_Ratio     OR_LB     OR_UB  pval  BH_pval  Num_Isolates  ...  \\\n",
       "2     1.216332  1.139563  1.296843   0.0      0.0          2697  ...   \n",
       "19    1.105124  1.050165  1.166855   0.0      0.0            12  ...   \n",
       "\n",
       "     Spec_UB    LR+_LB    LR+_UB    LR-_LB    LR-_UB      LRT_pval  \\\n",
       "2   0.955703  3.348102  3.887383  0.862922  0.879198  5.033098e-07   \n",
       "19  0.999895  0.670690  6.444480  0.999161  1.000220  1.480226e-07   \n",
       "\n",
       "    LRT_BH_pval  AUC_diff  AUC_pval  AUC_BH_pval  \n",
       "2      0.000716  0.000649       0.1      0.81194  \n",
       "19     0.000421  0.000220       0.0      0.00000  \n",
       "\n",
       "[2 rows x 38 columns]"
      ]
     },
     "execution_count": 36,
     "metadata": {},
     "output_type": "execute_result"
    }
   ],
   "source": [
    "tier2_combined_results.query(\"OR_LB > 1 & LRT_BH_pval < @thresh\")"
   ]
  },
  {
   "cell_type": "code",
   "execution_count": 37,
   "id": "8f3a91c7-6304-4ed8-9cd0-a4528cb50cc0",
   "metadata": {},
   "outputs": [
    {
     "data": {
      "text/html": [
       "<div>\n",
       "<style scoped>\n",
       "    .dataframe tbody tr th:only-of-type {\n",
       "        vertical-align: middle;\n",
       "    }\n",
       "\n",
       "    .dataframe tbody tr th {\n",
       "        vertical-align: top;\n",
       "    }\n",
       "\n",
       "    .dataframe thead th {\n",
       "        text-align: right;\n",
       "    }\n",
       "</style>\n",
       "<table border=\"1\" class=\"dataframe\">\n",
       "  <thead>\n",
       "    <tr style=\"text-align: right;\">\n",
       "      <th></th>\n",
       "      <th>mutation</th>\n",
       "      <th>predicted_effect</th>\n",
       "      <th>position</th>\n",
       "      <th>confidence</th>\n",
       "      <th>Odds_Ratio</th>\n",
       "      <th>OR_LB</th>\n",
       "      <th>OR_UB</th>\n",
       "      <th>pval</th>\n",
       "      <th>BH_pval</th>\n",
       "      <th>Num_Isolates</th>\n",
       "      <th>...</th>\n",
       "      <th>Spec_UB</th>\n",
       "      <th>LR+_LB</th>\n",
       "      <th>LR+_UB</th>\n",
       "      <th>LR-_LB</th>\n",
       "      <th>LR-_UB</th>\n",
       "      <th>LRT_pval</th>\n",
       "      <th>LRT_BH_pval</th>\n",
       "      <th>AUC_diff</th>\n",
       "      <th>AUC_pval</th>\n",
       "      <th>AUC_BH_pval</th>\n",
       "    </tr>\n",
       "  </thead>\n",
       "  <tbody>\n",
       "    <tr>\n",
       "      <th>19</th>\n",
       "      <td>Rv2752c_p.Asn30Ser</td>\n",
       "      <td>missense_variant</td>\n",
       "      <td>3066103</td>\n",
       "      <td>3) Uncertain significance</td>\n",
       "      <td>1.105124</td>\n",
       "      <td>1.050165</td>\n",
       "      <td>1.166855</td>\n",
       "      <td>0.0</td>\n",
       "      <td>0.0</td>\n",
       "      <td>12</td>\n",
       "      <td>...</td>\n",
       "      <td>0.999895</td>\n",
       "      <td>0.67069</td>\n",
       "      <td>6.44448</td>\n",
       "      <td>0.999161</td>\n",
       "      <td>1.00022</td>\n",
       "      <td>1.480226e-07</td>\n",
       "      <td>0.000421</td>\n",
       "      <td>0.00022</td>\n",
       "      <td>0.0</td>\n",
       "      <td>0.0</td>\n",
       "    </tr>\n",
       "  </tbody>\n",
       "</table>\n",
       "<p>1 rows × 38 columns</p>\n",
       "</div>"
      ],
      "text/plain": [
       "              mutation  predicted_effect position                 confidence  \\\n",
       "19  Rv2752c_p.Asn30Ser  missense_variant  3066103  3) Uncertain significance   \n",
       "\n",
       "    Odds_Ratio     OR_LB     OR_UB  pval  BH_pval  Num_Isolates  ...  \\\n",
       "19    1.105124  1.050165  1.166855   0.0      0.0            12  ...   \n",
       "\n",
       "     Spec_UB   LR+_LB   LR+_UB    LR-_LB   LR-_UB      LRT_pval  LRT_BH_pval  \\\n",
       "19  0.999895  0.67069  6.44448  0.999161  1.00022  1.480226e-07     0.000421   \n",
       "\n",
       "    AUC_diff  AUC_pval  AUC_BH_pval  \n",
       "19   0.00022       0.0          0.0  \n",
       "\n",
       "[1 rows x 38 columns]"
      ]
     },
     "execution_count": 37,
     "metadata": {},
     "output_type": "execute_result"
    }
   ],
   "source": [
    "tier2_combined_results.query(\"OR_LB > 1 & AUC_BH_pval < @thresh\")"
   ]
  },
  {
   "cell_type": "code",
   "execution_count": 236,
   "id": "f45bcb7d-b021-4dc7-bbb1-2bdd42c0593c",
   "metadata": {},
   "outputs": [
    {
     "data": {
      "text/html": [
       "<div>\n",
       "<style scoped>\n",
       "    .dataframe tbody tr th:only-of-type {\n",
       "        vertical-align: middle;\n",
       "    }\n",
       "\n",
       "    .dataframe tbody tr th {\n",
       "        vertical-align: top;\n",
       "    }\n",
       "\n",
       "    .dataframe thead th {\n",
       "        text-align: right;\n",
       "    }\n",
       "</style>\n",
       "<table border=\"1\" class=\"dataframe\">\n",
       "  <thead>\n",
       "    <tr style=\"text-align: right;\">\n",
       "      <th></th>\n",
       "      <th>mutation</th>\n",
       "      <th>predicted_effect</th>\n",
       "      <th>position</th>\n",
       "      <th>confidence</th>\n",
       "      <th>Odds_Ratio</th>\n",
       "      <th>OR_LB</th>\n",
       "      <th>OR_UB</th>\n",
       "      <th>pval</th>\n",
       "      <th>BH_pval</th>\n",
       "      <th>Num_Isolates</th>\n",
       "      <th>...</th>\n",
       "      <th>Spec_UB</th>\n",
       "      <th>LR+_LB</th>\n",
       "      <th>LR+_UB</th>\n",
       "      <th>LR-_LB</th>\n",
       "      <th>LR-_UB</th>\n",
       "      <th>LRT_pval</th>\n",
       "      <th>LRT_BH_pval</th>\n",
       "      <th>AUC_diff</th>\n",
       "      <th>AUC_pval</th>\n",
       "      <th>AUC_BH_pval</th>\n",
       "    </tr>\n",
       "  </thead>\n",
       "  <tbody>\n",
       "  </tbody>\n",
       "</table>\n",
       "<p>0 rows × 38 columns</p>\n",
       "</div>"
      ],
      "text/plain": [
       "Empty DataFrame\n",
       "Columns: [mutation, predicted_effect, position, confidence, Odds_Ratio, OR_LB, OR_UB, pval, BH_pval, Num_Isolates, Total_Isolates, TP, FP, TN, FN, PPV, NPV, Sens, Spec, LR+, LR-, PPV_LB, PPV_UB, NPV_LB, NPV_UB, Sens_LB, Sens_UB, Spec_LB, Spec_UB, LR+_LB, LR+_UB, LR-_LB, LR-_UB, LRT_pval, LRT_BH_pval, AUC_diff, AUC_pval, AUC_BH_pval]\n",
       "Index: []\n",
       "\n",
       "[0 rows x 38 columns]"
      ]
     },
     "execution_count": 236,
     "metadata": {},
     "output_type": "execute_result"
    }
   ],
   "source": [
    "thresh = 0.05\n",
    "tier1_combined_results.query(\"OR_LB > 1 & LRT_BH_pval < @thresh & BH_pval > @thresh\")"
   ]
  },
  {
   "cell_type": "code",
   "execution_count": 239,
   "id": "f0526c45-dc9b-4228-9263-f5b2d0655caf",
   "metadata": {},
   "outputs": [
    {
     "data": {
      "text/html": [
       "<div>\n",
       "<style scoped>\n",
       "    .dataframe tbody tr th:only-of-type {\n",
       "        vertical-align: middle;\n",
       "    }\n",
       "\n",
       "    .dataframe tbody tr th {\n",
       "        vertical-align: top;\n",
       "    }\n",
       "\n",
       "    .dataframe thead th {\n",
       "        text-align: right;\n",
       "    }\n",
       "</style>\n",
       "<table border=\"1\" class=\"dataframe\">\n",
       "  <thead>\n",
       "    <tr style=\"text-align: right;\">\n",
       "      <th></th>\n",
       "      <th>mutation</th>\n",
       "      <th>PPV_LB</th>\n",
       "      <th>PPV_UB</th>\n",
       "    </tr>\n",
       "  </thead>\n",
       "  <tbody>\n",
       "    <tr>\n",
       "      <th>2</th>\n",
       "      <td>rpoC_p.Glu1092Asp</td>\n",
       "      <td>0.615909</td>\n",
       "      <td>0.652616</td>\n",
       "    </tr>\n",
       "    <tr>\n",
       "      <th>19</th>\n",
       "      <td>Rv2752c_p.Asn30Ser</td>\n",
       "      <td>0.210945</td>\n",
       "      <td>0.789055</td>\n",
       "    </tr>\n",
       "  </tbody>\n",
       "</table>\n",
       "</div>"
      ],
      "text/plain": [
       "              mutation    PPV_LB    PPV_UB\n",
       "2    rpoC_p.Glu1092Asp  0.615909  0.652616\n",
       "19  Rv2752c_p.Asn30Ser  0.210945  0.789055"
      ]
     },
     "execution_count": 239,
     "metadata": {},
     "output_type": "execute_result"
    }
   ],
   "source": [
    "thresh = 0.01\n",
    "tier2_model.query(\"OR_LB > 1 & LRT_BH_pval < @thresh\")[[\"mutation\", \"PPV_LB\", \"PPV_UB\"]]"
   ]
  },
  {
   "cell_type": "code",
   "execution_count": 240,
   "id": "53523eed-6831-4859-9b05-7ec972c4b5d9",
   "metadata": {},
   "outputs": [
    {
     "data": {
      "text/plain": [
       "2794"
      ]
     },
     "execution_count": 240,
     "metadata": {},
     "output_type": "execute_result"
    }
   ],
   "source": [
    "3609-815"
   ]
  },
  {
   "cell_type": "code",
   "execution_count": 235,
   "id": "bbb8af50-0839-47a3-b093-c9c7d4de28f5",
   "metadata": {},
   "outputs": [
    {
     "name": "stdout",
     "output_type": "stream",
     "text": [
      "68\n",
      "2\n"
     ]
    }
   ],
   "source": [
    "thresh = 0.01\n",
    "print(len(tier2_model.query(\"OR_LB > 1 & BH_pval < @thresh\")))\n",
    "print(len(tier2_model.query(\"OR_LB > 1 & LRT_BH_pval < @thresh\")))\n",
    "# print(len(tier1_combined_results.query(\"OR_LB > 1 & AUC_BH_pval < @thresh\")))"
   ]
  },
  {
   "cell_type": "code",
   "execution_count": 227,
   "id": "b2e093bf-266a-42bf-b4eb-15e6bbe0b4e3",
   "metadata": {},
   "outputs": [
    {
     "data": {
      "text/plain": [
       "(86, 38)"
      ]
     },
     "execution_count": 227,
     "metadata": {},
     "output_type": "execute_result"
    }
   ],
   "source": [
    "thresh = 0.05\n",
    "tier1_combined_results.query(\"OR_LB > 1 & (LRT_BH_pval < @thresh | BH_pval < @thresh)\").shape"
   ]
  },
  {
   "cell_type": "code",
   "execution_count": 228,
   "id": "9cb6b27a-687a-4512-9c72-0cb003e74de2",
   "metadata": {},
   "outputs": [
    {
     "data": {
      "text/plain": [
       "set()"
      ]
     },
     "execution_count": 228,
     "metadata": {},
     "output_type": "execute_result"
    }
   ],
   "source": [
    "set(tier1_combined_results.query(\"OR_LB > 1 & LRT_BH_pval < @thresh\").mutation) - set(tier1_combined_results.query(\"OR_LB > 1 & BH_pval < @thresh\").mutation)"
   ]
  },
  {
   "cell_type": "code",
   "execution_count": 231,
   "id": "476809bc-4168-4cc0-89bb-014edd3f95f2",
   "metadata": {},
   "outputs": [
    {
     "data": {
      "text/plain": [
       "set()"
      ]
     },
     "execution_count": 231,
     "metadata": {},
     "output_type": "execute_result"
    }
   ],
   "source": [
    "thresh = 0.01\n",
    "set(tier2_model.query(\"OR_LB > 1 & LRT_BH_pval < @thresh\").mutation) - set(tier2_model.query(\"OR_LB > 1 & BH_pval < @thresh\").mutation)"
   ]
  },
  {
   "cell_type": "code",
   "execution_count": 234,
   "id": "994b8879-01a3-409a-839b-584c0bc51521",
   "metadata": {},
   "outputs": [
    {
     "data": {
      "text/plain": [
       "66"
      ]
     },
     "execution_count": 234,
     "metadata": {},
     "output_type": "execute_result"
    }
   ],
   "source": [
    "thresh = 0.01\n",
    "len(set(tier2_model.query(\"OR_LB > 1 & BH_pval < @thresh\").mutation) - set(tier2_model.query(\"OR_LB > 1 & LRT_BH_pval < @thresh\").mutation))"
   ]
  },
  {
   "cell_type": "markdown",
   "id": "dfa8de65-a56c-49a1-abd1-d07f613fdaad",
   "metadata": {},
   "source": [
    "# Final Prediction Model: For Rifampicin, Adding tier 2 genes doesn't significantly improve binary metrics"
   ]
  },
  {
   "cell_type": "code",
   "execution_count": 12,
   "id": "3e647792-aacf-4fd5-be49-52fa3586f51e",
   "metadata": {},
   "outputs": [
    {
     "data": {
      "text/html": [
       "<div>\n",
       "<style scoped>\n",
       "    .dataframe tbody tr th:only-of-type {\n",
       "        vertical-align: middle;\n",
       "    }\n",
       "\n",
       "    .dataframe tbody tr th {\n",
       "        vertical-align: top;\n",
       "    }\n",
       "\n",
       "    .dataframe thead th {\n",
       "        text-align: right;\n",
       "    }\n",
       "</style>\n",
       "<table border=\"1\" class=\"dataframe\">\n",
       "  <thead>\n",
       "    <tr style=\"text-align: right;\">\n",
       "      <th></th>\n",
       "      <th>Metric</th>\n",
       "      <th>pval</th>\n",
       "    </tr>\n",
       "  </thead>\n",
       "  <tbody>\n",
       "    <tr>\n",
       "      <th>0</th>\n",
       "      <td>test_roc_auc</td>\n",
       "      <td>0.868314</td>\n",
       "    </tr>\n",
       "    <tr>\n",
       "      <th>1</th>\n",
       "      <td>test_accuracy</td>\n",
       "      <td>0.981951</td>\n",
       "    </tr>\n",
       "    <tr>\n",
       "      <th>2</th>\n",
       "      <td>test_balanced_accuracy</td>\n",
       "      <td>0.933191</td>\n",
       "    </tr>\n",
       "    <tr>\n",
       "      <th>3</th>\n",
       "      <td>test_spec</td>\n",
       "      <td>0.918947</td>\n",
       "    </tr>\n",
       "    <tr>\n",
       "      <th>4</th>\n",
       "      <td>test_sens</td>\n",
       "      <td>0.884981</td>\n",
       "    </tr>\n",
       "  </tbody>\n",
       "</table>\n",
       "</div>"
      ],
      "text/plain": [
       "                   Metric      pval\n",
       "0            test_roc_auc  0.868314\n",
       "1           test_accuracy  0.981951\n",
       "2  test_balanced_accuracy  0.933191\n",
       "3               test_spec  0.918947\n",
       "4               test_sens  0.884981"
      ]
     },
     "execution_count": 12,
     "metadata": {},
     "output_type": "execute_result"
    }
   ],
   "source": [
    "phenos_name = \"WHO\"\n",
    "tiers_lst = [\"1\"]\n",
    "predict_model_tier1 = pd.read_csv(os.path.join(analysis_dir, drug, f\"tiers={'+'.join(tiers_lst)}_phenos={phenos_name}_CV_results.csv\"))\n",
    "\n",
    "tiers_lst = [\"1\", \"2\"]\n",
    "predict_model_tiers12 = pd.read_csv(os.path.join(analysis_dir, drug, f\"tiers={'+'.join(tiers_lst)}_phenos={phenos_name}_CV_results.csv\"))\n",
    "\n",
    "pd.DataFrame({\"Metric\": predict_model_tier1.columns,\n",
    "              \"pval\": st.ttest_ind(predict_model_tier1, predict_model_tiers12, axis=0, equal_var=False, alternative='two-sided')[1]\n",
    "             })"
   ]
  },
  {
   "cell_type": "markdown",
   "id": "1df828c1-2132-4aaa-961c-36120086cc34",
   "metadata": {},
   "source": [
    "# 3. Lineage-Stratified Analyses"
   ]
  },
  {
   "cell_type": "code",
   "execution_count": 163,
   "id": "9dfbf82e-4612-484e-b810-bf8a1d8c1a12",
   "metadata": {},
   "outputs": [
    {
     "name": "stdout",
     "output_type": "stream",
     "text": [
      "['L2', 'L3', 'L4', 'L1', 'L2.2.1']\n",
      "['model.sav', 'regression_coef.csv']\n"
     ]
    }
   ],
   "source": [
    "lineage_dir = os.path.join(analysis_dir, drug, \"BINARY/lineage_models\")\n",
    "print(os.listdir(lineage_dir))\n",
    "\n",
    "print(os.listdir(os.path.join(lineage_dir, \"L4\")))"
   ]
  },
  {
   "cell_type": "code",
   "execution_count": 241,
   "id": "a197ef2a-9330-4d21-9364-fdafe3c67378",
   "metadata": {},
   "outputs": [],
   "source": [
    "L2_2_1 = pd.read_csv(os.path.join(lineage_dir, \"L2.2.1\", \"model_analysis.csv\"))\n",
    "L2 = pd.read_csv(os.path.join(lineage_dir, \"L2\", \"model_analysis.csv\"))\n",
    "L1 = pd.read_csv(os.path.join(lineage_dir, \"L1\", \"model_analysis.csv\"))\n",
    "L3 = pd.read_csv(os.path.join(lineage_dir, \"L3\", \"model_analysis.csv\"))\n",
    "L4 = pd.read_csv(os.path.join(lineage_dir, \"L4\", \"model_analysis.csv\"))"
   ]
  },
  {
   "cell_type": "code",
   "execution_count": 187,
   "id": "bf889e4b-f86f-4682-b308-fbfa87ff5b3b",
   "metadata": {},
   "outputs": [
    {
     "name": "stdout",
     "output_type": "stream",
     "text": [
      "(30984, 3614)\n",
      "(7714, 953)\n"
     ]
    }
   ],
   "source": [
    "config_file = \"../config_files/binary_07.yaml\"\n",
    "kwargs = yaml.safe_load(open(config_file))\n",
    "binary = kwargs[\"binary\"]\n",
    "tiers_lst = kwargs[\"tiers_lst\"]\n",
    "synonymous = kwargs[\"synonymous\"]\n",
    "alpha = kwargs[\"alpha\"]\n",
    "model_prefix = kwargs[\"model_prefix\"]\n",
    "pheno_category_lst = kwargs[\"pheno_category_lst\"]\n",
    "atu_analysis = kwargs[\"atu_analysis\"]\n",
    "atu_analysis_type = kwargs[\"atu_analysis_type\"]\n",
    "analysis_dir = kwargs[\"output_dir\"]\n",
    "num_PCs = kwargs[\"num_PCs\"]\n",
    "num_bootstrap = kwargs[\"num_bootstrap\"]\n",
    "\n",
    "if \"ALL\" in pheno_category_lst:\n",
    "    phenos_name = \"ALL\"\n",
    "else:\n",
    "    phenos_name = \"WHO\"\n",
    "\n",
    "scaler = StandardScaler()\n",
    "    \n",
    "out_dir = os.path.join(analysis_dir, drug, f\"BINARY/lineage_models/L{lineage}\")\n",
    "\n",
    "if not os.path.isdir(out_dir):\n",
    "    os.makedirs(out_dir)\n",
    "    \n",
    "    lineage = \"2.2.1\"\n",
    "# no model (basically just for Pretomanid because there are no WHO phenotypes, so some models don't exist)\n",
    "matrix = pd.read_pickle(os.path.join(analysis_dir, drug, \"BINARY\", f\"tiers={'+'.join(tiers_lst)}\", f\"phenos={phenos_name}\", model_prefix, \"model_matrix.pkl\"))\n",
    "df_phenos = pd.read_csv(os.path.join(analysis_dir, drug, \"phenos_binary.csv\")).set_index(\"sample_id\")\n",
    "\n",
    "# read in eigenvectors files, which was previously computed, and keep only the desired number of PCs\n",
    "eigenvec_df = pd.read_csv(\"../data/eigenvec_10PC.csv\", index_col=[0]).iloc[:, :num_PCs]\n",
    "\n",
    "# keep only the samples that are in this model, then concatenate the eigenvectors to the matrix\n",
    "eigenvec_df = eigenvec_df.loc[matrix.index]\n",
    "matrix = matrix.merge(eigenvec_df, left_index=True, right_index=True, how=\"inner\")\n",
    "print(matrix.shape)\n",
    "\n",
    "# keep only the specified lineage\n",
    "if len(lineage) == 1:\n",
    "    lineage_samples = lineages.query(\"Primary_Lineage == @lineage\")[\"Sample_ID\"].unique()\n",
    "else:\n",
    "    lineage_samples = []\n",
    "\n",
    "    for i, row in lineages.iterrows():\n",
    "        if lineage in row[\"Lineage\"].split(\",\"):\n",
    "            lineage_samples.append(row[\"Sample_ID\"])\n",
    "    lineage_samples = np.unique(lineage_samples)\n",
    "        \n",
    "matrix = matrix.loc[matrix.index.isin(lineage_samples)]\n",
    "matrix = matrix[matrix.columns[~((matrix == 0).all())]]\n",
    "\n",
    "matrix = matrix.merge(df_phenos, left_index=True, right_index=True, how=\"left\")\n",
    "print(matrix.shape)"
   ]
  },
  {
   "cell_type": "code",
   "execution_count": 194,
   "id": "f0f184d2-d1fc-4b7d-ae52-2b2717c07888",
   "metadata": {},
   "outputs": [
    {
     "data": {
      "text/plain": [
       "(1708, 986, 2501, 2519)"
      ]
     },
     "execution_count": 194,
     "metadata": {},
     "output_type": "execute_result"
    }
   ],
   "source": [
    "TP = len(matrix.loc[(matrix[\"rpoC_p.Glu1092Asp\"] == 1) & (matrix[\"phenotype\"] == 1)])\n",
    "FP = len(matrix.loc[(matrix[\"rpoC_p.Glu1092Asp\"] == 1) & (matrix[\"phenotype\"] == 0)])\n",
    "TN = len(matrix.loc[(matrix[\"rpoC_p.Glu1092Asp\"] == 0) & (matrix[\"phenotype\"] == 0)])\n",
    "FN = len(matrix.loc[(matrix[\"rpoC_p.Glu1092Asp\"] == 0) & (matrix[\"phenotype\"] == 1)])\n",
    "\n",
    "TP, FP, TN, FN"
   ]
  },
  {
   "cell_type": "code",
   "execution_count": 196,
   "id": "087630fc-e6d3-4e88-9e0a-783250b18637",
   "metadata": {},
   "outputs": [
    {
     "data": {
      "text/plain": [
       "0.4040690797255737"
      ]
     },
     "execution_count": 196,
     "metadata": {},
     "output_type": "execute_result"
    }
   ],
   "source": [
    "# 40% of R samples have the variant\n",
    "TP / (TP + FN)"
   ]
  },
  {
   "cell_type": "code",
   "execution_count": 197,
   "id": "0df82a09-1c99-43f2-9c4f-d1e6a154cee4",
   "metadata": {},
   "outputs": [
    {
     "data": {
      "text/plain": [
       "0.28276455405792944"
      ]
     },
     "execution_count": 197,
     "metadata": {},
     "output_type": "execute_result"
    }
   ],
   "source": [
    "# 28% of S samples have the variant\n",
    "FP / (FP + TN)"
   ]
  },
  {
   "cell_type": "code",
   "execution_count": 210,
   "id": "7feff4ad-ff88-459a-9228-7c63453d227e",
   "metadata": {},
   "outputs": [
    {
     "data": {
      "text/plain": [
       "(1711, 986, 19935, 8352)"
      ]
     },
     "execution_count": 210,
     "metadata": {},
     "output_type": "execute_result"
    }
   ],
   "source": [
    "tp, fp, tn, fn = tier2_model.query(\"mutation=='rpoC_p.Glu1092Asp'\")[[\"TP\", \"FP\", \"TN\", \"FN\"]].values[0].astype(int)\n",
    "tp, fp, tn, fn"
   ]
  },
  {
   "cell_type": "code",
   "execution_count": 211,
   "id": "eb0bf8fe-06ba-46ac-9394-f57e190538a3",
   "metadata": {},
   "outputs": [
    {
     "data": {
      "text/plain": [
       "0.17002881844380405"
      ]
     },
     "execution_count": 211,
     "metadata": {},
     "output_type": "execute_result"
    }
   ],
   "source": [
    "# 17% of R samples have the variant\n",
    "tp / (tp + fn)"
   ]
  },
  {
   "cell_type": "code",
   "execution_count": 212,
   "id": "f0bbe456-c131-4145-bfe4-b3a0e19805a9",
   "metadata": {},
   "outputs": [
    {
     "data": {
      "text/plain": [
       "0.04712967831365614"
      ]
     },
     "execution_count": 212,
     "metadata": {},
     "output_type": "execute_result"
    }
   ],
   "source": [
    "# 5% of S samples have the variant\n",
    "fp / (fp + tn)"
   ]
  },
  {
   "cell_type": "code",
   "execution_count": null,
   "id": "b07fcd1c-ba0a-46d5-b980-e771bcb0d66d",
   "metadata": {},
   "outputs": [],
   "source": []
  },
  {
   "cell_type": "code",
   "execution_count": 171,
   "id": "0b371a3d-4ef6-4455-95e1-7da63e08707a",
   "metadata": {},
   "outputs": [
    {
     "data": {
      "text/plain": [
       "NaN                          29\n",
       "1) Assoc w R                 20\n",
       "3) Uncertain significance    13\n",
       "2) Assoc w R - Interim        3\n",
       "5) Not assoc w R              1\n",
       "Name: confidence, dtype: int64"
      ]
     },
     "execution_count": 171,
     "metadata": {},
     "output_type": "execute_result"
    }
   ],
   "source": [
    "L2_2_1.query(\"BH_pval < 0.01 & OR_LB > 1\").confidence.value_counts(dropna=False)"
   ]
  },
  {
   "cell_type": "code",
   "execution_count": 247,
   "id": "42d90de9-60cc-48a6-8aa3-5afd5442ed44",
   "metadata": {},
   "outputs": [
    {
     "data": {
      "text/html": [
       "<div>\n",
       "<style scoped>\n",
       "    .dataframe tbody tr th:only-of-type {\n",
       "        vertical-align: middle;\n",
       "    }\n",
       "\n",
       "    .dataframe tbody tr th {\n",
       "        vertical-align: top;\n",
       "    }\n",
       "\n",
       "    .dataframe thead th {\n",
       "        text-align: right;\n",
       "    }\n",
       "</style>\n",
       "<table border=\"1\" class=\"dataframe\">\n",
       "  <thead>\n",
       "    <tr style=\"text-align: right;\">\n",
       "      <th></th>\n",
       "      <th>mutation</th>\n",
       "      <th>coef</th>\n",
       "      <th>coef_LB</th>\n",
       "      <th>coef_UB</th>\n",
       "      <th>pval</th>\n",
       "      <th>BH_pval</th>\n",
       "      <th>Bonferroni_pval</th>\n",
       "      <th>Odds_Ratio</th>\n",
       "      <th>OR_LB</th>\n",
       "      <th>OR_UB</th>\n",
       "      <th>confidence</th>\n",
       "    </tr>\n",
       "  </thead>\n",
       "  <tbody>\n",
       "    <tr>\n",
       "      <th>12</th>\n",
       "      <td>rpoC_p.Glu1092Asp</td>\n",
       "      <td>0.349582</td>\n",
       "      <td>0.228614</td>\n",
       "      <td>0.482548</td>\n",
       "      <td>0.0</td>\n",
       "      <td>0.0</td>\n",
       "      <td>0.0</td>\n",
       "      <td>1.418475</td>\n",
       "      <td>1.256856</td>\n",
       "      <td>1.620198</td>\n",
       "      <td>5) Not assoc w R</td>\n",
       "    </tr>\n",
       "  </tbody>\n",
       "</table>\n",
       "</div>"
      ],
      "text/plain": [
       "             mutation      coef   coef_LB   coef_UB  pval  BH_pval  \\\n",
       "12  rpoC_p.Glu1092Asp  0.349582  0.228614  0.482548   0.0      0.0   \n",
       "\n",
       "    Bonferroni_pval  Odds_Ratio     OR_LB     OR_UB        confidence  \n",
       "12              0.0    1.418475  1.256856  1.620198  5) Not assoc w R  "
      ]
     },
     "execution_count": 247,
     "metadata": {},
     "output_type": "execute_result"
    }
   ],
   "source": [
    "L2_2_1.query(\"mutation=='rpoC_p.Glu1092Asp'\")"
   ]
  },
  {
   "cell_type": "code",
   "execution_count": 248,
   "id": "9cf20a07-7e1b-42b2-a0e7-555525b1c618",
   "metadata": {},
   "outputs": [
    {
     "data": {
      "text/html": [
       "<div>\n",
       "<style scoped>\n",
       "    .dataframe tbody tr th:only-of-type {\n",
       "        vertical-align: middle;\n",
       "    }\n",
       "\n",
       "    .dataframe tbody tr th {\n",
       "        vertical-align: top;\n",
       "    }\n",
       "\n",
       "    .dataframe thead th {\n",
       "        text-align: right;\n",
       "    }\n",
       "</style>\n",
       "<table border=\"1\" class=\"dataframe\">\n",
       "  <thead>\n",
       "    <tr style=\"text-align: right;\">\n",
       "      <th></th>\n",
       "      <th>mutation</th>\n",
       "      <th>coef</th>\n",
       "      <th>coef_LB</th>\n",
       "      <th>coef_UB</th>\n",
       "      <th>pval</th>\n",
       "      <th>BH_pval</th>\n",
       "      <th>Bonferroni_pval</th>\n",
       "      <th>Odds_Ratio</th>\n",
       "      <th>OR_LB</th>\n",
       "      <th>OR_UB</th>\n",
       "      <th>confidence</th>\n",
       "    </tr>\n",
       "  </thead>\n",
       "  <tbody>\n",
       "    <tr>\n",
       "      <th>12</th>\n",
       "      <td>rpoC_p.Glu1092Asp</td>\n",
       "      <td>0.333053</td>\n",
       "      <td>0.227734</td>\n",
       "      <td>0.453529</td>\n",
       "      <td>0.0</td>\n",
       "      <td>0.0</td>\n",
       "      <td>0.0</td>\n",
       "      <td>1.395222</td>\n",
       "      <td>1.255752</td>\n",
       "      <td>1.573856</td>\n",
       "      <td>5) Not assoc w R</td>\n",
       "    </tr>\n",
       "  </tbody>\n",
       "</table>\n",
       "</div>"
      ],
      "text/plain": [
       "             mutation      coef   coef_LB   coef_UB  pval  BH_pval  \\\n",
       "12  rpoC_p.Glu1092Asp  0.333053  0.227734  0.453529   0.0      0.0   \n",
       "\n",
       "    Bonferroni_pval  Odds_Ratio     OR_LB     OR_UB        confidence  \n",
       "12              0.0    1.395222  1.255752  1.573856  5) Not assoc w R  "
      ]
     },
     "execution_count": 248,
     "metadata": {},
     "output_type": "execute_result"
    }
   ],
   "source": [
    "L2.query(\"mutation=='rpoC_p.Glu1092Asp'\")"
   ]
  },
  {
   "cell_type": "code",
   "execution_count": 245,
   "id": "e34896af-4695-4eb2-9fb8-29c825ea6a96",
   "metadata": {},
   "outputs": [],
   "source": [
    "L2_2_1.to_csv(\"/home/sak0914/L2.2.1_regression.csv\", index=False)"
   ]
  },
  {
   "cell_type": "code",
   "execution_count": 246,
   "id": "8c69c9b8-9c9d-4b5e-81e0-f38a958a68fb",
   "metadata": {},
   "outputs": [],
   "source": [
    "L2.to_csv(\"/home/sak0914/L2_regression.csv\", index=False)"
   ]
  },
  {
   "cell_type": "code",
   "execution_count": 160,
   "id": "e0183e68-0be4-483f-8eb3-957eabe957a4",
   "metadata": {},
   "outputs": [
    {
     "data": {
      "text/html": [
       "<div>\n",
       "<style scoped>\n",
       "    .dataframe tbody tr th:only-of-type {\n",
       "        vertical-align: middle;\n",
       "    }\n",
       "\n",
       "    .dataframe tbody tr th {\n",
       "        vertical-align: top;\n",
       "    }\n",
       "\n",
       "    .dataframe thead th {\n",
       "        text-align: right;\n",
       "    }\n",
       "</style>\n",
       "<table border=\"1\" class=\"dataframe\">\n",
       "  <thead>\n",
       "    <tr style=\"text-align: right;\">\n",
       "      <th></th>\n",
       "      <th>mutation</th>\n",
       "      <th>coef</th>\n",
       "      <th>coef_LB</th>\n",
       "      <th>coef_UB</th>\n",
       "      <th>pval</th>\n",
       "      <th>BH_pval</th>\n",
       "      <th>Bonferroni_pval</th>\n",
       "      <th>Odds_Ratio</th>\n",
       "      <th>OR_LB</th>\n",
       "      <th>OR_UB</th>\n",
       "      <th>confidence</th>\n",
       "    </tr>\n",
       "  </thead>\n",
       "  <tbody>\n",
       "    <tr>\n",
       "      <th>12</th>\n",
       "      <td>rpoC_p.Glu1092Asp</td>\n",
       "      <td>0.333053</td>\n",
       "      <td>0.227734</td>\n",
       "      <td>0.453529</td>\n",
       "      <td>0.0</td>\n",
       "      <td>0.0</td>\n",
       "      <td>0.0</td>\n",
       "      <td>1.395222</td>\n",
       "      <td>1.255752</td>\n",
       "      <td>1.573856</td>\n",
       "      <td>5) Not assoc w R</td>\n",
       "    </tr>\n",
       "  </tbody>\n",
       "</table>\n",
       "</div>"
      ],
      "text/plain": [
       "             mutation      coef   coef_LB   coef_UB  pval  BH_pval  \\\n",
       "12  rpoC_p.Glu1092Asp  0.333053  0.227734  0.453529   0.0      0.0   \n",
       "\n",
       "    Bonferroni_pval  Odds_Ratio     OR_LB     OR_UB        confidence  \n",
       "12              0.0    1.395222  1.255752  1.573856  5) Not assoc w R  "
      ]
     },
     "execution_count": 160,
     "metadata": {},
     "output_type": "execute_result"
    }
   ],
   "source": [
    "L2.query(\"mutation=='rpoC_p.Glu1092Asp'\")"
   ]
  },
  {
   "cell_type": "code",
   "execution_count": 242,
   "id": "975961b5-9704-4bc3-87d9-bc609ba6bcd1",
   "metadata": {},
   "outputs": [
    {
     "data": {
      "text/html": [
       "<div>\n",
       "<style scoped>\n",
       "    .dataframe tbody tr th:only-of-type {\n",
       "        vertical-align: middle;\n",
       "    }\n",
       "\n",
       "    .dataframe tbody tr th {\n",
       "        vertical-align: top;\n",
       "    }\n",
       "\n",
       "    .dataframe thead th {\n",
       "        text-align: right;\n",
       "    }\n",
       "</style>\n",
       "<table border=\"1\" class=\"dataframe\">\n",
       "  <thead>\n",
       "    <tr style=\"text-align: right;\">\n",
       "      <th></th>\n",
       "      <th>mutation</th>\n",
       "      <th>coef</th>\n",
       "      <th>coef_LB</th>\n",
       "      <th>coef_UB</th>\n",
       "      <th>pval</th>\n",
       "      <th>BH_pval</th>\n",
       "      <th>Bonferroni_pval</th>\n",
       "      <th>Odds_Ratio</th>\n",
       "      <th>OR_LB</th>\n",
       "      <th>OR_UB</th>\n",
       "      <th>confidence</th>\n",
       "    </tr>\n",
       "  </thead>\n",
       "  <tbody>\n",
       "    <tr>\n",
       "      <th>572</th>\n",
       "      <td>rpoC_p.Glu1092Asp</td>\n",
       "      <td>0.014565</td>\n",
       "      <td>-1.013331e-16</td>\n",
       "      <td>0.066168</td>\n",
       "      <td>0.238</td>\n",
       "      <td>0.592357</td>\n",
       "      <td>1.0</td>\n",
       "      <td>1.014672</td>\n",
       "      <td>1.0</td>\n",
       "      <td>1.068406</td>\n",
       "      <td>5) Not assoc w R</td>\n",
       "    </tr>\n",
       "  </tbody>\n",
       "</table>\n",
       "</div>"
      ],
      "text/plain": [
       "              mutation      coef       coef_LB   coef_UB   pval   BH_pval  \\\n",
       "572  rpoC_p.Glu1092Asp  0.014565 -1.013331e-16  0.066168  0.238  0.592357   \n",
       "\n",
       "     Bonferroni_pval  Odds_Ratio  OR_LB     OR_UB        confidence  \n",
       "572              1.0    1.014672    1.0  1.068406  5) Not assoc w R  "
      ]
     },
     "execution_count": 242,
     "metadata": {},
     "output_type": "execute_result"
    }
   ],
   "source": [
    "L4.query(\"mutation=='rpoC_p.Glu1092Asp'\")"
   ]
  },
  {
   "cell_type": "markdown",
   "id": "51ff9fee-e0ea-4908-ad04-750f663165f2",
   "metadata": {},
   "source": [
    "# 4. Model with Interaction Terms\n",
    "\n",
    "Create Tier 1 + Tier 2 interaction terms for mutations that are significant in both the Ridge regression and the LRT\n",
    "\n",
    "Chose 2 variants because they were the only Tier 2 genes that were significantly associated in the Ridge regression and were significant in the LRT"
   ]
  },
  {
   "cell_type": "code",
   "execution_count": 17,
   "id": "c88b8b80-1690-4a6c-8b5f-1dddf193a3f6",
   "metadata": {},
   "outputs": [
    {
     "data": {
      "text/html": [
       "<div>\n",
       "<style scoped>\n",
       "    .dataframe tbody tr th:only-of-type {\n",
       "        vertical-align: middle;\n",
       "    }\n",
       "\n",
       "    .dataframe tbody tr th {\n",
       "        vertical-align: top;\n",
       "    }\n",
       "\n",
       "    .dataframe thead th {\n",
       "        text-align: right;\n",
       "    }\n",
       "</style>\n",
       "<table border=\"1\" class=\"dataframe\">\n",
       "  <thead>\n",
       "    <tr style=\"text-align: right;\">\n",
       "      <th></th>\n",
       "      <th>mutation</th>\n",
       "      <th>coef</th>\n",
       "      <th>coef_LB</th>\n",
       "      <th>coef_UB</th>\n",
       "      <th>pval</th>\n",
       "      <th>BH_pval</th>\n",
       "      <th>Bonferroni_pval</th>\n",
       "      <th>Odds_Ratio</th>\n",
       "      <th>OR_LB</th>\n",
       "      <th>OR_UB</th>\n",
       "      <th>confidence</th>\n",
       "      <th>LRT_pval</th>\n",
       "      <th>LRT_BH_pval</th>\n",
       "      <th>LRT_Bonferroni_pval</th>\n",
       "    </tr>\n",
       "  </thead>\n",
       "  <tbody>\n",
       "    <tr>\n",
       "      <th>1</th>\n",
       "      <td>rpoC_p.Glu1092Asp</td>\n",
       "      <td>0.212831</td>\n",
       "      <td>0.147201</td>\n",
       "      <td>0.282702</td>\n",
       "      <td>0.0</td>\n",
       "      <td>0.0</td>\n",
       "      <td>0.0</td>\n",
       "      <td>1.237176</td>\n",
       "      <td>1.158587</td>\n",
       "      <td>1.326710</td>\n",
       "      <td>5) Not assoc w R</td>\n",
       "      <td>5.033098e-07</td>\n",
       "      <td>0.000716</td>\n",
       "      <td>0.001432</td>\n",
       "    </tr>\n",
       "    <tr>\n",
       "      <th>20</th>\n",
       "      <td>Rv2752c_p.Asn30Ser</td>\n",
       "      <td>0.099783</td>\n",
       "      <td>0.046205</td>\n",
       "      <td>0.149246</td>\n",
       "      <td>0.0</td>\n",
       "      <td>0.0</td>\n",
       "      <td>0.0</td>\n",
       "      <td>1.104931</td>\n",
       "      <td>1.047289</td>\n",
       "      <td>1.160958</td>\n",
       "      <td>3) Uncertain significance</td>\n",
       "      <td>1.480226e-07</td>\n",
       "      <td>0.000421</td>\n",
       "      <td>0.000421</td>\n",
       "    </tr>\n",
       "  </tbody>\n",
       "</table>\n",
       "</div>"
      ],
      "text/plain": [
       "              mutation      coef   coef_LB   coef_UB  pval  BH_pval  \\\n",
       "1    rpoC_p.Glu1092Asp  0.212831  0.147201  0.282702   0.0      0.0   \n",
       "20  Rv2752c_p.Asn30Ser  0.099783  0.046205  0.149246   0.0      0.0   \n",
       "\n",
       "    Bonferroni_pval  Odds_Ratio     OR_LB     OR_UB  \\\n",
       "1               0.0    1.237176  1.158587  1.326710   \n",
       "20              0.0    1.104931  1.047289  1.160958   \n",
       "\n",
       "                   confidence      LRT_pval  LRT_BH_pval  LRT_Bonferroni_pval  \n",
       "1            5) Not assoc w R  5.033098e-07     0.000716             0.001432  \n",
       "20  3) Uncertain significance  1.480226e-07     0.000421             0.000421  "
      ]
     },
     "execution_count": 17,
     "metadata": {},
     "output_type": "execute_result"
    }
   ],
   "source": [
    "thresh = 0.01\n",
    "tier2_model.query('BH_pval < @thresh & LRT_BH_pval < @thresh')"
   ]
  },
  {
   "cell_type": "code",
   "execution_count": 18,
   "id": "0a490028-8614-4b27-86bf-51612d571e1d",
   "metadata": {},
   "outputs": [
    {
     "data": {
      "text/plain": [
       "(30984, 3737)"
      ]
     },
     "execution_count": 18,
     "metadata": {},
     "output_type": "execute_result"
    }
   ],
   "source": [
    "thresh = 0.01\n",
    "interact_mut = tier2_model.query('BH_pval < @thresh & LRT_BH_pval < @thresh')[\"mutation\"].values\n",
    "df_phenos = pd.read_csv(os.path.join(analysis_dir, drug, \"phenos_binary.csv\")).set_index(\"sample_id\")\n",
    "#interact_mut = ['rpoC_p.Glu1092Asp', 'Rv2752c_p.Asn30Ser']\n",
    "\n",
    "# model_matrix = pd.read_pickle(os.path.join(analysis_dir, drug, \"BINARY/tiers=1+2/phenos=WHO/dropAF_noSyn_unpooled/model_matrix.pkl\"))\n",
    "# interact_matrix = model_matrix.copy()\n",
    "\n",
    "# # get a list of all pairs of mutations to interact\n",
    "# interactions = list(itertools.product(*[interact_mut, interact_matrix.columns[interact_matrix.columns.str.contains(\"rpoB\")]]))\n",
    "\n",
    "# # add interactions\n",
    "# for (mut1, mut2) in interactions:\n",
    "#     interact_matrix[f\"{mut1}+{mut2}\"] = interact_matrix[mut1] * interact_matrix[mut2]\n",
    "    \n",
    "# # drop any columns with no signal\n",
    "# interact_matrix = interact_matrix[interact_matrix.columns[~((interact_matrix == 0).all())]]\n",
    "\n",
    "# assert len(set(model_matrix.columns) - set(interact_matrix.columns)) == 0\n",
    "# print(len(interact_matrix), len(model_matrix))\n",
    "\n",
    "# interact_matrix.to_pickle(os.path.join(analysis_dir, drug, f\"BINARY/interaction/model_matrix_{phenos_name}.pkl\"))\n",
    "\n",
    "interact_matrix = pd.read_pickle(os.path.join(analysis_dir, drug, f\"BINARY/interaction/model_matrix_{phenos_name}.pkl\"))\n",
    "\n",
    "interact_matrix = interact_matrix.merge(df_phenos, left_index=True, right_index=True, how=\"left\")\n",
    "del interact_matrix[\"phenotypic_category\"]\n",
    "\n",
    "interact_matrix.shape"
   ]
  },
  {
   "cell_type": "code",
   "execution_count": 19,
   "id": "61501b9b-818c-474a-8f38-82074d1e4b53",
   "metadata": {},
   "outputs": [
    {
     "name": "stdout",
     "output_type": "stream",
     "text": [
      "rpoC_p.Glu1092Asp 125\n",
      "Rv2752c_p.Asn30Ser 4\n"
     ]
    }
   ],
   "source": [
    "# so much co-occurrence of rpoC_p.Glu1092Asp with rpoB mutations. Can also check proportion that are high confidence rpoB mutations\n",
    "for mut in interact_mut:\n",
    "    print(mut, interact_matrix[interact_matrix.columns[interact_matrix.columns.str.contains(mut)]].shape[1])"
   ]
  },
  {
   "cell_type": "code",
   "execution_count": 63,
   "id": "97e9b440-e22c-4b3a-8bb0-490cb0fc96e2",
   "metadata": {},
   "outputs": [],
   "source": [
    "phenos_name = \"WHO\"\n",
    "interact_res = pd.read_csv(os.path.join(analysis_dir, drug, f\"BINARY/interaction/{phenos_name}_coef.csv\"))\n",
    "interact_permute = pd.read_csv(os.path.join(analysis_dir, drug, f\"BINARY/interaction/{phenos_name}_coef_permutation.csv\"))\n",
    "\n",
    "# assess significance using the results of the permutation test\n",
    "for i, row in interact_res.iterrows():\n",
    "    # p-value is the proportion of permutation coefficients that are AT LEAST AS EXTREME as the test statistic\n",
    "    if row[\"coef\"] > 0:\n",
    "        interact_res.loc[i, \"pval\"] = np.mean(interact_permute[row[\"mutation\"]] >= row[\"coef\"])\n",
    "    else:\n",
    "        interact_res.loc[i, \"pval\"] = np.mean(interact_permute[row[\"mutation\"]] <= row[\"coef\"])\n",
    "        \n",
    "interact_res = add_pval_corrections(interact_res)\n",
    "interact_res[\"Odds_Ratio\"] = np.exp(interact_res[\"coef\"])\n",
    "\n",
    "interact_res[[\"Mut1\", \"Mut2\"]] = interact_res[\"mutation\"].str.split(\"+\", expand=True)\n",
    "interact_res = interact_res.merge(who_variants_combined.query(\"drug=='RIF'\"), left_on=\"Mut2\", right_on=\"mutation\", how=\"left\")\n",
    "del interact_res[\"mutation_y\"]\n",
    "del interact_res[\"drug\"]\n",
    "interact_res.rename(columns={\"mutation_x\": \"mutation\"}, inplace=True)"
   ]
  },
  {
   "cell_type": "code",
   "execution_count": 68,
   "id": "42d4f33d-4f57-4cc7-92b8-cf3ecb1cc77a",
   "metadata": {},
   "outputs": [
    {
     "data": {
      "text/html": [
       "<div>\n",
       "<style scoped>\n",
       "    .dataframe tbody tr th:only-of-type {\n",
       "        vertical-align: middle;\n",
       "    }\n",
       "\n",
       "    .dataframe tbody tr th {\n",
       "        vertical-align: top;\n",
       "    }\n",
       "\n",
       "    .dataframe thead th {\n",
       "        text-align: right;\n",
       "    }\n",
       "</style>\n",
       "<table border=\"1\" class=\"dataframe\">\n",
       "  <thead>\n",
       "    <tr style=\"text-align: right;\">\n",
       "      <th></th>\n",
       "      <th>mutation</th>\n",
       "      <th>coef</th>\n",
       "      <th>pval</th>\n",
       "      <th>BH_pval</th>\n",
       "      <th>Bonferroni_pval</th>\n",
       "      <th>Odds_Ratio</th>\n",
       "      <th>Mut1</th>\n",
       "      <th>Mut2</th>\n",
       "      <th>confidence</th>\n",
       "    </tr>\n",
       "  </thead>\n",
       "  <tbody>\n",
       "    <tr>\n",
       "      <th>3206</th>\n",
       "      <td>rpoC_p.Glu1092Asp</td>\n",
       "      <td>0.219309</td>\n",
       "      <td>0.000</td>\n",
       "      <td>0.000000</td>\n",
       "      <td>0.0</td>\n",
       "      <td>1.245216</td>\n",
       "      <td>rpoC_p.Glu1092Asp</td>\n",
       "      <td>None</td>\n",
       "      <td>NaN</td>\n",
       "    </tr>\n",
       "    <tr>\n",
       "      <th>3676</th>\n",
       "      <td>rpoC_p.Glu1092Asp+rpoB_p.Ile491Tyr</td>\n",
       "      <td>0.026609</td>\n",
       "      <td>0.000</td>\n",
       "      <td>0.000000</td>\n",
       "      <td>0.0</td>\n",
       "      <td>1.026966</td>\n",
       "      <td>rpoC_p.Glu1092Asp</td>\n",
       "      <td>rpoB_p.Ile491Tyr</td>\n",
       "      <td>3) Uncertain significance</td>\n",
       "    </tr>\n",
       "    <tr>\n",
       "      <th>3693</th>\n",
       "      <td>rpoC_p.Glu1092Asp+rpoB_p.Met434_Asn437delinsIle</td>\n",
       "      <td>0.018817</td>\n",
       "      <td>0.000</td>\n",
       "      <td>0.000000</td>\n",
       "      <td>0.0</td>\n",
       "      <td>1.018995</td>\n",
       "      <td>rpoC_p.Glu1092Asp</td>\n",
       "      <td>rpoB_p.Met434_Asn437delinsIle</td>\n",
       "      <td>2) Assoc w R - Interim</td>\n",
       "    </tr>\n",
       "    <tr>\n",
       "      <th>3623</th>\n",
       "      <td>rpoC_p.Glu1092Asp+rpoB_p.Asn260Asp</td>\n",
       "      <td>-0.027974</td>\n",
       "      <td>0.000</td>\n",
       "      <td>0.000000</td>\n",
       "      <td>0.0</td>\n",
       "      <td>0.972414</td>\n",
       "      <td>rpoC_p.Glu1092Asp</td>\n",
       "      <td>rpoB_p.Asn260Asp</td>\n",
       "      <td>NaN</td>\n",
       "    </tr>\n",
       "    <tr>\n",
       "      <th>3725</th>\n",
       "      <td>rpoC_p.Glu1092Asp+rpoB_p.Val170Phe</td>\n",
       "      <td>-0.057892</td>\n",
       "      <td>0.003</td>\n",
       "      <td>0.038700</td>\n",
       "      <td>1.0</td>\n",
       "      <td>0.943752</td>\n",
       "      <td>rpoC_p.Glu1092Asp</td>\n",
       "      <td>rpoB_p.Val170Phe</td>\n",
       "      <td>1) Assoc w R</td>\n",
       "    </tr>\n",
       "    <tr>\n",
       "      <th>3708</th>\n",
       "      <td>rpoC_p.Glu1092Asp+rpoB_p.Ser450Leu</td>\n",
       "      <td>0.057540</td>\n",
       "      <td>0.004</td>\n",
       "      <td>0.048584</td>\n",
       "      <td>1.0</td>\n",
       "      <td>1.059228</td>\n",
       "      <td>rpoC_p.Glu1092Asp</td>\n",
       "      <td>rpoB_p.Ser450Leu</td>\n",
       "      <td>1) Assoc w R</td>\n",
       "    </tr>\n",
       "  </tbody>\n",
       "</table>\n",
       "</div>"
      ],
      "text/plain": [
       "                                             mutation      coef   pval  \\\n",
       "3206                                rpoC_p.Glu1092Asp  0.219309  0.000   \n",
       "3676               rpoC_p.Glu1092Asp+rpoB_p.Ile491Tyr  0.026609  0.000   \n",
       "3693  rpoC_p.Glu1092Asp+rpoB_p.Met434_Asn437delinsIle  0.018817  0.000   \n",
       "3623               rpoC_p.Glu1092Asp+rpoB_p.Asn260Asp -0.027974  0.000   \n",
       "3725               rpoC_p.Glu1092Asp+rpoB_p.Val170Phe -0.057892  0.003   \n",
       "3708               rpoC_p.Glu1092Asp+rpoB_p.Ser450Leu  0.057540  0.004   \n",
       "\n",
       "       BH_pval  Bonferroni_pval  Odds_Ratio               Mut1  \\\n",
       "3206  0.000000              0.0    1.245216  rpoC_p.Glu1092Asp   \n",
       "3676  0.000000              0.0    1.026966  rpoC_p.Glu1092Asp   \n",
       "3693  0.000000              0.0    1.018995  rpoC_p.Glu1092Asp   \n",
       "3623  0.000000              0.0    0.972414  rpoC_p.Glu1092Asp   \n",
       "3725  0.038700              1.0    0.943752  rpoC_p.Glu1092Asp   \n",
       "3708  0.048584              1.0    1.059228  rpoC_p.Glu1092Asp   \n",
       "\n",
       "                               Mut2                 confidence  \n",
       "3206                           None                        NaN  \n",
       "3676               rpoB_p.Ile491Tyr  3) Uncertain significance  \n",
       "3693  rpoB_p.Met434_Asn437delinsIle     2) Assoc w R - Interim  \n",
       "3623               rpoB_p.Asn260Asp                        NaN  \n",
       "3725               rpoB_p.Val170Phe               1) Assoc w R  \n",
       "3708               rpoB_p.Ser450Leu               1) Assoc w R  "
      ]
     },
     "execution_count": 68,
     "metadata": {},
     "output_type": "execute_result"
    }
   ],
   "source": [
    "interact_res.query(\"mutation.str.contains('rpoC_p.Glu1092Asp') & BH_pval < 0.05\").sort_values([\"BH_pval\", \"Odds_Ratio\"], \n",
    "                                                                                           ascending=[True, False]\n",
    "                                                                                          )"
   ]
  },
  {
   "cell_type": "code",
   "execution_count": 70,
   "id": "50e05e3c-ae52-41db-aa52-c197e98d458d",
   "metadata": {},
   "outputs": [
    {
     "data": {
      "text/html": [
       "<div>\n",
       "<style scoped>\n",
       "    .dataframe tbody tr th:only-of-type {\n",
       "        vertical-align: middle;\n",
       "    }\n",
       "\n",
       "    .dataframe tbody tr th {\n",
       "        vertical-align: top;\n",
       "    }\n",
       "\n",
       "    .dataframe thead th {\n",
       "        text-align: right;\n",
       "    }\n",
       "</style>\n",
       "<table border=\"1\" class=\"dataframe\">\n",
       "  <thead>\n",
       "    <tr style=\"text-align: right;\">\n",
       "      <th></th>\n",
       "      <th>mutation</th>\n",
       "      <th>coef</th>\n",
       "      <th>pval</th>\n",
       "      <th>BH_pval</th>\n",
       "      <th>Bonferroni_pval</th>\n",
       "      <th>Odds_Ratio</th>\n",
       "      <th>Mut1</th>\n",
       "      <th>Mut2</th>\n",
       "      <th>confidence</th>\n",
       "    </tr>\n",
       "  </thead>\n",
       "  <tbody>\n",
       "    <tr>\n",
       "      <th>2936</th>\n",
       "      <td>rpoB_p.Val170Phe</td>\n",
       "      <td>0.191617</td>\n",
       "      <td>0.000</td>\n",
       "      <td>0.0000</td>\n",
       "      <td>0.0</td>\n",
       "      <td>1.211206</td>\n",
       "      <td>rpoB_p.Val170Phe</td>\n",
       "      <td>None</td>\n",
       "      <td>NaN</td>\n",
       "    </tr>\n",
       "    <tr>\n",
       "      <th>3725</th>\n",
       "      <td>rpoC_p.Glu1092Asp+rpoB_p.Val170Phe</td>\n",
       "      <td>-0.057892</td>\n",
       "      <td>0.003</td>\n",
       "      <td>0.0387</td>\n",
       "      <td>1.0</td>\n",
       "      <td>0.943752</td>\n",
       "      <td>rpoC_p.Glu1092Asp</td>\n",
       "      <td>rpoB_p.Val170Phe</td>\n",
       "      <td>1) Assoc w R</td>\n",
       "    </tr>\n",
       "  </tbody>\n",
       "</table>\n",
       "</div>"
      ],
      "text/plain": [
       "                                mutation      coef   pval  BH_pval  \\\n",
       "2936                    rpoB_p.Val170Phe  0.191617  0.000   0.0000   \n",
       "3725  rpoC_p.Glu1092Asp+rpoB_p.Val170Phe -0.057892  0.003   0.0387   \n",
       "\n",
       "      Bonferroni_pval  Odds_Ratio               Mut1              Mut2  \\\n",
       "2936              0.0    1.211206   rpoB_p.Val170Phe              None   \n",
       "3725              1.0    0.943752  rpoC_p.Glu1092Asp  rpoB_p.Val170Phe   \n",
       "\n",
       "        confidence  \n",
       "2936           NaN  \n",
       "3725  1) Assoc w R  "
      ]
     },
     "execution_count": 70,
     "metadata": {},
     "output_type": "execute_result"
    }
   ],
   "source": [
    "interact_res.query(\"mutation.str.contains('rpoB_p.Val170Phe')\")"
   ]
  },
  {
   "cell_type": "code",
   "execution_count": 67,
   "id": "9344d6c2-420a-4320-a06e-1f30196b8ee5",
   "metadata": {},
   "outputs": [
    {
     "data": {
      "text/html": [
       "<div>\n",
       "<style scoped>\n",
       "    .dataframe tbody tr th:only-of-type {\n",
       "        vertical-align: middle;\n",
       "    }\n",
       "\n",
       "    .dataframe tbody tr th {\n",
       "        vertical-align: top;\n",
       "    }\n",
       "\n",
       "    .dataframe thead th {\n",
       "        text-align: right;\n",
       "    }\n",
       "</style>\n",
       "<table border=\"1\" class=\"dataframe\">\n",
       "  <thead>\n",
       "    <tr style=\"text-align: right;\">\n",
       "      <th></th>\n",
       "      <th>mutation</th>\n",
       "      <th>coef</th>\n",
       "      <th>pval</th>\n",
       "      <th>BH_pval</th>\n",
       "      <th>Bonferroni_pval</th>\n",
       "      <th>Odds_Ratio</th>\n",
       "      <th>Mut1</th>\n",
       "      <th>Mut2</th>\n",
       "      <th>confidence</th>\n",
       "    </tr>\n",
       "  </thead>\n",
       "  <tbody>\n",
       "    <tr>\n",
       "      <th>2395</th>\n",
       "      <td>rpoB_p.Asn260Asp</td>\n",
       "      <td>-0.027974</td>\n",
       "      <td>0.0</td>\n",
       "      <td>0.0</td>\n",
       "      <td>0.0</td>\n",
       "      <td>0.972414</td>\n",
       "      <td>rpoB_p.Asn260Asp</td>\n",
       "      <td>None</td>\n",
       "      <td>NaN</td>\n",
       "    </tr>\n",
       "    <tr>\n",
       "      <th>3623</th>\n",
       "      <td>rpoC_p.Glu1092Asp+rpoB_p.Asn260Asp</td>\n",
       "      <td>-0.027974</td>\n",
       "      <td>0.0</td>\n",
       "      <td>0.0</td>\n",
       "      <td>0.0</td>\n",
       "      <td>0.972414</td>\n",
       "      <td>rpoC_p.Glu1092Asp</td>\n",
       "      <td>rpoB_p.Asn260Asp</td>\n",
       "      <td>NaN</td>\n",
       "    </tr>\n",
       "  </tbody>\n",
       "</table>\n",
       "</div>"
      ],
      "text/plain": [
       "                                mutation      coef  pval  BH_pval  \\\n",
       "2395                    rpoB_p.Asn260Asp -0.027974   0.0      0.0   \n",
       "3623  rpoC_p.Glu1092Asp+rpoB_p.Asn260Asp -0.027974   0.0      0.0   \n",
       "\n",
       "      Bonferroni_pval  Odds_Ratio               Mut1              Mut2  \\\n",
       "2395              0.0    0.972414   rpoB_p.Asn260Asp              None   \n",
       "3623              0.0    0.972414  rpoC_p.Glu1092Asp  rpoB_p.Asn260Asp   \n",
       "\n",
       "     confidence  \n",
       "2395        NaN  \n",
       "3623        NaN  "
      ]
     },
     "execution_count": 67,
     "metadata": {},
     "output_type": "execute_result"
    }
   ],
   "source": [
    "interact_res.query(\"mutation.str.contains('rpoB_p.Asn260Asp')\")"
   ]
  },
  {
   "cell_type": "code",
   "execution_count": 217,
   "id": "9710b1d6-fad5-4b8b-ba48-d96227834be3",
   "metadata": {},
   "outputs": [
    {
     "data": {
      "text/plain": [
       "phenotype  rpoC_p.Glu1092Asp+rpoB_p.Ser450Leu\n",
       "0          0.0                                   20907\n",
       "           1.0                                      14\n",
       "1          0.0                                    8682\n",
       "           1.0                                    1381\n",
       "Name: rpoC_p.Glu1092Asp+rpoB_p.Ser450Leu, dtype: int64"
      ]
     },
     "execution_count": 217,
     "metadata": {},
     "output_type": "execute_result"
    }
   ],
   "source": [
    "interact_matrix.groupby(\"phenotype\")['rpoC_p.Glu1092Asp+rpoB_p.Ser450Leu'].value_counts()"
   ]
  },
  {
   "cell_type": "code",
   "execution_count": 224,
   "id": "72d42bbb-ce7e-4e64-9af7-d31b0acd9ba7",
   "metadata": {},
   "outputs": [
    {
     "data": {
      "text/plain": [
       "0.045023237800154915"
      ]
     },
     "execution_count": 224,
     "metadata": {},
     "output_type": "execute_result"
    }
   ],
   "source": [
    "interact_matrix['rpoC_p.Glu1092Asp+rpoB_p.Ser450Leu'].mean()"
   ]
  },
  {
   "cell_type": "code",
   "execution_count": 218,
   "id": "d8a9eb00-3c8e-445c-94c5-07a3c6e0f7d3",
   "metadata": {},
   "outputs": [
    {
     "data": {
      "text/plain": [
       "0.9971119133574007"
      ]
     },
     "execution_count": 218,
     "metadata": {},
     "output_type": "execute_result"
    }
   ],
   "source": [
    "1381 / 1385"
   ]
  },
  {
   "cell_type": "code",
   "execution_count": 223,
   "id": "bb4d7011-21b7-4c87-b754-4c9adbf2d6a4",
   "metadata": {},
   "outputs": [
    {
     "data": {
      "text/plain": [
       "0.08704492641363284"
      ]
     },
     "execution_count": 223,
     "metadata": {},
     "output_type": "execute_result"
    }
   ],
   "source": [
    "interact_matrix['rpoC_p.Glu1092Asp'].mean()"
   ]
  },
  {
   "cell_type": "code",
   "execution_count": 222,
   "id": "4adc8ca7-e960-47f8-86e6-ac6f4fc81f85",
   "metadata": {},
   "outputs": [
    {
     "data": {
      "text/plain": [
       "0.21449780531887425"
      ]
     },
     "execution_count": 222,
     "metadata": {},
     "output_type": "execute_result"
    }
   ],
   "source": [
    "interact_matrix['rpoB_p.Ser450Leu'].mean()"
   ]
  },
  {
   "cell_type": "code",
   "execution_count": 34,
   "id": "cea1cf2d-e073-428b-8dd6-0acadb10438f",
   "metadata": {},
   "outputs": [
    {
     "data": {
      "text/plain": [
       "'/n/data1/hms/dbmi/farhat/Sanjana/who-mutation-catalogue/Rifampicin/BINARY/tiers=1/phenos=WHO/dropAF_noSyn_unpooled'"
      ]
     },
     "execution_count": 34,
     "metadata": {},
     "output_type": "execute_result"
    }
   ],
   "source": [
    "os.path.join()"
   ]
  },
  {
   "cell_type": "code",
   "execution_count": 64,
   "id": "947aaa3a-da07-4ffd-9d68-9e6e361ed275",
   "metadata": {},
   "outputs": [],
   "source": []
  },
  {
   "cell_type": "code",
   "execution_count": null,
   "id": "9092692c-9ff2-41de-8481-7a8e36f5bfa4",
   "metadata": {},
   "outputs": [],
   "source": []
  },
  {
   "cell_type": "code",
   "execution_count": null,
   "id": "4d96600d-2456-4d00-a536-47d985a2117f",
   "metadata": {},
   "outputs": [],
   "source": []
  }
 ],
 "metadata": {
  "kernelspec": {
   "display_name": "Python 3 (ipykernel)",
   "language": "python",
   "name": "python3"
  },
  "language_info": {
   "codemirror_mode": {
    "name": "ipython",
    "version": 3
   },
   "file_extension": ".py",
   "mimetype": "text/x-python",
   "name": "python",
   "nbconvert_exporter": "python",
   "pygments_lexer": "ipython3",
   "version": "3.9.13"
  }
 },
 "nbformat": 4,
 "nbformat_minor": 5
}
