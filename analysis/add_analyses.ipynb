{
 "cells": [
  {
   "cell_type": "code",
   "execution_count": 2,
   "id": "86d79dbc-86b7-4a6d-b26c-3052aaeb12a4",
   "metadata": {},
   "outputs": [],
   "source": [
    "import numpy as np\n",
    "import pandas as pd\n",
    "import matplotlib.pyplot as plt\n",
    "plt.rcParams['figure.dpi'] = 150\n",
    "import seaborn as sns\n",
    "\n",
    "import glob, os, yaml, subprocess, itertools\n",
    "from sklearn.model_selection import train_test_split, KFold, GridSearchCV\n",
    "from sklearn.preprocessing import StandardScaler\n",
    "from sklearn.linear_model import LogisticRegression, LogisticRegressionCV\n",
    "from statsmodels.distributions.empirical_distribution import ECDF\n",
    "import sklearn.metrics\n",
    "from sklearn.decomposition import PCA\n",
    "import timeit\n",
    "import scipy.stats as st\n",
    "import statsmodels\n",
    "import pickle, yaml, tracemalloc\n",
    "from scipy.stats import binomtest\n",
    "\n",
    "analysis_dir = '/n/data1/hms/dbmi/farhat/Sanjana/who-mutation-catalogue'\n",
    "input_data_dir = '/n/data1/hms/dbmi/farhat/ye12/who'\n",
    "who_variants_combined = pd.read_csv(\"who_confidence_2021.csv\")\n",
    "\n",
    "import itertools\n",
    "from stats_utils import *\n",
    "import warnings\n",
    "warnings.filterwarnings(\"ignore\")"
   ]
  },
  {
   "cell_type": "code",
   "execution_count": 13,
   "id": "3637c59e-7d7d-4dcf-9ca8-29563a85c229",
   "metadata": {},
   "outputs": [],
   "source": [
    "out_dir = \"/n/data1/hms/dbmi/farhat/Sanjana/who-mutation-catalogue/Rifampicin/BINARY/tiers=1+2/phenos=WHO/dropAF_noSyn_unpooled\"\n",
    "\n",
    "coef_df = pd.read_csv(os.path.join(out_dir, \"regression_coef.csv\"))\n",
    "coef_permutation = pd.read_csv(os.path.join(out_dir, \"coef_permutation.csv\"))\n",
    "coef_bootstrapping = pd.read_csv(os.path.join(out_dir, \"coef_bootstrapping.csv\"))\n",
    "model_analysis_PC10 = pd.read_csv(os.path.join(out_dir, \"model_analysis.csv\"))\n",
    "model_analysis_PC5 = pd.read_csv(os.path.join(out_dir, \"model_analysis_PC5.csv\"))"
   ]
  },
  {
   "cell_type": "code",
   "execution_count": 20,
   "id": "f7d408b1-6318-40ca-a4be-4208b93082d9",
   "metadata": {},
   "outputs": [
    {
     "data": {
      "text/html": [
       "<div>\n",
       "<style scoped>\n",
       "    .dataframe tbody tr th:only-of-type {\n",
       "        vertical-align: middle;\n",
       "    }\n",
       "\n",
       "    .dataframe tbody tr th {\n",
       "        vertical-align: top;\n",
       "    }\n",
       "\n",
       "    .dataframe thead th {\n",
       "        text-align: right;\n",
       "    }\n",
       "</style>\n",
       "<table border=\"1\" class=\"dataframe\">\n",
       "  <thead>\n",
       "    <tr style=\"text-align: right;\">\n",
       "      <th></th>\n",
       "      <th>mutation</th>\n",
       "      <th>coef</th>\n",
       "      <th>coef_LB</th>\n",
       "      <th>coef_UB</th>\n",
       "      <th>pval</th>\n",
       "      <th>BH_pval</th>\n",
       "      <th>Bonferroni_pval</th>\n",
       "      <th>Odds_Ratio</th>\n",
       "      <th>OR_LB</th>\n",
       "      <th>OR_UB</th>\n",
       "      <th>confidence</th>\n",
       "    </tr>\n",
       "  </thead>\n",
       "  <tbody>\n",
       "    <tr>\n",
       "      <th>47</th>\n",
       "      <td>PC8</td>\n",
       "      <td>0.109689</td>\n",
       "      <td>0.020399</td>\n",
       "      <td>0.179946</td>\n",
       "      <td>0.000</td>\n",
       "      <td>0.000000</td>\n",
       "      <td>0.0</td>\n",
       "      <td>1.115931</td>\n",
       "      <td>1.020609</td>\n",
       "      <td>1.197153</td>\n",
       "      <td>NaN</td>\n",
       "    </tr>\n",
       "    <tr>\n",
       "      <th>134</th>\n",
       "      <td>PC5</td>\n",
       "      <td>0.053050</td>\n",
       "      <td>-0.011157</td>\n",
       "      <td>0.114910</td>\n",
       "      <td>0.001</td>\n",
       "      <td>0.012925</td>\n",
       "      <td>1.0</td>\n",
       "      <td>1.054482</td>\n",
       "      <td>0.988905</td>\n",
       "      <td>1.121773</td>\n",
       "      <td>NaN</td>\n",
       "    </tr>\n",
       "    <tr>\n",
       "      <th>3590</th>\n",
       "      <td>PC7</td>\n",
       "      <td>-0.058263</td>\n",
       "      <td>-0.109561</td>\n",
       "      <td>-0.007470</td>\n",
       "      <td>0.000</td>\n",
       "      <td>0.000000</td>\n",
       "      <td>0.0</td>\n",
       "      <td>0.943402</td>\n",
       "      <td>0.896227</td>\n",
       "      <td>0.992558</td>\n",
       "      <td>NaN</td>\n",
       "    </tr>\n",
       "    <tr>\n",
       "      <th>3603</th>\n",
       "      <td>PC9</td>\n",
       "      <td>-0.079314</td>\n",
       "      <td>-0.134240</td>\n",
       "      <td>-0.028338</td>\n",
       "      <td>0.000</td>\n",
       "      <td>0.000000</td>\n",
       "      <td>0.0</td>\n",
       "      <td>0.923749</td>\n",
       "      <td>0.874380</td>\n",
       "      <td>0.972059</td>\n",
       "      <td>NaN</td>\n",
       "    </tr>\n",
       "    <tr>\n",
       "      <th>3612</th>\n",
       "      <td>PC6</td>\n",
       "      <td>-0.117939</td>\n",
       "      <td>-0.175875</td>\n",
       "      <td>-0.068281</td>\n",
       "      <td>0.000</td>\n",
       "      <td>0.000000</td>\n",
       "      <td>0.0</td>\n",
       "      <td>0.888751</td>\n",
       "      <td>0.838723</td>\n",
       "      <td>0.933998</td>\n",
       "      <td>NaN</td>\n",
       "    </tr>\n",
       "    <tr>\n",
       "      <th>3616</th>\n",
       "      <td>PC2</td>\n",
       "      <td>-0.158313</td>\n",
       "      <td>-0.230674</td>\n",
       "      <td>-0.082948</td>\n",
       "      <td>0.000</td>\n",
       "      <td>0.000000</td>\n",
       "      <td>0.0</td>\n",
       "      <td>0.853583</td>\n",
       "      <td>0.793999</td>\n",
       "      <td>0.920399</td>\n",
       "      <td>NaN</td>\n",
       "    </tr>\n",
       "    <tr>\n",
       "      <th>3617</th>\n",
       "      <td>PC1</td>\n",
       "      <td>-0.181849</td>\n",
       "      <td>-0.269084</td>\n",
       "      <td>-0.090579</td>\n",
       "      <td>0.000</td>\n",
       "      <td>0.000000</td>\n",
       "      <td>0.0</td>\n",
       "      <td>0.833727</td>\n",
       "      <td>0.764079</td>\n",
       "      <td>0.913403</td>\n",
       "      <td>NaN</td>\n",
       "    </tr>\n",
       "  </tbody>\n",
       "</table>\n",
       "</div>"
      ],
      "text/plain": [
       "     mutation      coef   coef_LB   coef_UB   pval   BH_pval  Bonferroni_pval  \\\n",
       "47        PC8  0.109689  0.020399  0.179946  0.000  0.000000              0.0   \n",
       "134       PC5  0.053050 -0.011157  0.114910  0.001  0.012925              1.0   \n",
       "3590      PC7 -0.058263 -0.109561 -0.007470  0.000  0.000000              0.0   \n",
       "3603      PC9 -0.079314 -0.134240 -0.028338  0.000  0.000000              0.0   \n",
       "3612      PC6 -0.117939 -0.175875 -0.068281  0.000  0.000000              0.0   \n",
       "3616      PC2 -0.158313 -0.230674 -0.082948  0.000  0.000000              0.0   \n",
       "3617      PC1 -0.181849 -0.269084 -0.090579  0.000  0.000000              0.0   \n",
       "\n",
       "      Odds_Ratio     OR_LB     OR_UB confidence  \n",
       "47      1.115931  1.020609  1.197153        NaN  \n",
       "134     1.054482  0.988905  1.121773        NaN  \n",
       "3590    0.943402  0.896227  0.992558        NaN  \n",
       "3603    0.923749  0.874380  0.972059        NaN  \n",
       "3612    0.888751  0.838723  0.933998        NaN  \n",
       "3616    0.853583  0.793999  0.920399        NaN  \n",
       "3617    0.833727  0.764079  0.913403        NaN  "
      ]
     },
     "execution_count": 20,
     "metadata": {},
     "output_type": "execute_result"
    }
   ],
   "source": [
    "model_analysis_PC10.loc[model_analysis_PC10[\"mutation\"].str.contains(\"PC\")].query(\"BH_pval < 0.05\")"
   ]
  },
  {
   "cell_type": "code",
   "execution_count": 15,
   "id": "0f17685e-485a-4e5b-8512-4361d078202c",
   "metadata": {},
   "outputs": [
    {
     "data": {
      "text/html": [
       "<div>\n",
       "<style scoped>\n",
       "    .dataframe tbody tr th:only-of-type {\n",
       "        vertical-align: middle;\n",
       "    }\n",
       "\n",
       "    .dataframe tbody tr th {\n",
       "        vertical-align: top;\n",
       "    }\n",
       "\n",
       "    .dataframe thead th {\n",
       "        text-align: right;\n",
       "    }\n",
       "</style>\n",
       "<table border=\"1\" class=\"dataframe\">\n",
       "  <thead>\n",
       "    <tr style=\"text-align: right;\">\n",
       "      <th></th>\n",
       "      <th>mutation</th>\n",
       "      <th>coef</th>\n",
       "      <th>coef_LB</th>\n",
       "      <th>coef_UB</th>\n",
       "      <th>pval</th>\n",
       "      <th>BH_pval</th>\n",
       "      <th>Bonferroni_pval</th>\n",
       "      <th>Odds_Ratio</th>\n",
       "      <th>OR_LB</th>\n",
       "      <th>OR_UB</th>\n",
       "      <th>confidence</th>\n",
       "    </tr>\n",
       "  </thead>\n",
       "  <tbody>\n",
       "    <tr>\n",
       "      <th>48</th>\n",
       "      <td>PC0</td>\n",
       "      <td>0.105472</td>\n",
       "      <td>0.034076</td>\n",
       "      <td>0.177881</td>\n",
       "      <td>0.004</td>\n",
       "      <td>0.045747</td>\n",
       "      <td>1.0</td>\n",
       "      <td>1.111235</td>\n",
       "      <td>1.034664</td>\n",
       "      <td>1.194683</td>\n",
       "      <td>NaN</td>\n",
       "    </tr>\n",
       "    <tr>\n",
       "      <th>197</th>\n",
       "      <td>PC4</td>\n",
       "      <td>0.042216</td>\n",
       "      <td>-0.025143</td>\n",
       "      <td>0.106095</td>\n",
       "      <td>0.037</td>\n",
       "      <td>0.284506</td>\n",
       "      <td>1.0</td>\n",
       "      <td>1.043120</td>\n",
       "      <td>0.975171</td>\n",
       "      <td>1.111928</td>\n",
       "      <td>NaN</td>\n",
       "    </tr>\n",
       "    <tr>\n",
       "      <th>1299</th>\n",
       "      <td>PC3</td>\n",
       "      <td>0.003964</td>\n",
       "      <td>-0.065566</td>\n",
       "      <td>0.079678</td>\n",
       "      <td>0.443</td>\n",
       "      <td>0.710109</td>\n",
       "      <td>1.0</td>\n",
       "      <td>1.003972</td>\n",
       "      <td>0.936537</td>\n",
       "      <td>1.082938</td>\n",
       "      <td>NaN</td>\n",
       "    </tr>\n",
       "    <tr>\n",
       "      <th>3610</th>\n",
       "      <td>PC2</td>\n",
       "      <td>-0.171752</td>\n",
       "      <td>-0.255085</td>\n",
       "      <td>-0.102689</td>\n",
       "      <td>0.000</td>\n",
       "      <td>0.000000</td>\n",
       "      <td>0.0</td>\n",
       "      <td>0.842188</td>\n",
       "      <td>0.774850</td>\n",
       "      <td>0.902407</td>\n",
       "      <td>NaN</td>\n",
       "    </tr>\n",
       "    <tr>\n",
       "      <th>3612</th>\n",
       "      <td>PC1</td>\n",
       "      <td>-0.212691</td>\n",
       "      <td>-0.296676</td>\n",
       "      <td>-0.126288</td>\n",
       "      <td>0.000</td>\n",
       "      <td>0.000000</td>\n",
       "      <td>0.0</td>\n",
       "      <td>0.808406</td>\n",
       "      <td>0.743285</td>\n",
       "      <td>0.881361</td>\n",
       "      <td>NaN</td>\n",
       "    </tr>\n",
       "  </tbody>\n",
       "</table>\n",
       "</div>"
      ],
      "text/plain": [
       "     mutation      coef   coef_LB   coef_UB   pval   BH_pval  Bonferroni_pval  \\\n",
       "48        PC0  0.105472  0.034076  0.177881  0.004  0.045747              1.0   \n",
       "197       PC4  0.042216 -0.025143  0.106095  0.037  0.284506              1.0   \n",
       "1299      PC3  0.003964 -0.065566  0.079678  0.443  0.710109              1.0   \n",
       "3610      PC2 -0.171752 -0.255085 -0.102689  0.000  0.000000              0.0   \n",
       "3612      PC1 -0.212691 -0.296676 -0.126288  0.000  0.000000              0.0   \n",
       "\n",
       "      Odds_Ratio     OR_LB     OR_UB confidence  \n",
       "48      1.111235  1.034664  1.194683        NaN  \n",
       "197     1.043120  0.975171  1.111928        NaN  \n",
       "1299    1.003972  0.936537  1.082938        NaN  \n",
       "3610    0.842188  0.774850  0.902407        NaN  \n",
       "3612    0.808406  0.743285  0.881361        NaN  "
      ]
     },
     "execution_count": 15,
     "metadata": {},
     "output_type": "execute_result"
    }
   ],
   "source": [
    "model_analysis_PC5.loc[model_analysis_PC5[\"mutation\"].str.contains(\"PC\")]"
   ]
  },
  {
   "cell_type": "code",
   "execution_count": 16,
   "id": "8e790128-fb41-421a-b71d-0f3f1e787f88",
   "metadata": {},
   "outputs": [
    {
     "data": {
      "text/html": [
       "<div>\n",
       "<style scoped>\n",
       "    .dataframe tbody tr th:only-of-type {\n",
       "        vertical-align: middle;\n",
       "    }\n",
       "\n",
       "    .dataframe tbody tr th {\n",
       "        vertical-align: top;\n",
       "    }\n",
       "\n",
       "    .dataframe thead th {\n",
       "        text-align: right;\n",
       "    }\n",
       "</style>\n",
       "<table border=\"1\" class=\"dataframe\">\n",
       "  <thead>\n",
       "    <tr style=\"text-align: right;\">\n",
       "      <th></th>\n",
       "      <th>mutation</th>\n",
       "      <th>coef</th>\n",
       "      <th>coef_LB</th>\n",
       "      <th>coef_UB</th>\n",
       "      <th>pval</th>\n",
       "      <th>BH_pval</th>\n",
       "      <th>Bonferroni_pval</th>\n",
       "      <th>Odds_Ratio</th>\n",
       "      <th>OR_LB</th>\n",
       "      <th>OR_UB</th>\n",
       "      <th>confidence</th>\n",
       "    </tr>\n",
       "  </thead>\n",
       "  <tbody>\n",
       "    <tr>\n",
       "      <th>16</th>\n",
       "      <td>rpoC_p.Glu1092Asp</td>\n",
       "      <td>0.19584</td>\n",
       "      <td>0.128329</td>\n",
       "      <td>0.264205</td>\n",
       "      <td>0.0</td>\n",
       "      <td>0.0</td>\n",
       "      <td>0.0</td>\n",
       "      <td>1.216332</td>\n",
       "      <td>1.136927</td>\n",
       "      <td>1.302395</td>\n",
       "      <td>5) Not assoc w R</td>\n",
       "    </tr>\n",
       "  </tbody>\n",
       "</table>\n",
       "</div>"
      ],
      "text/plain": [
       "             mutation     coef   coef_LB   coef_UB  pval  BH_pval  \\\n",
       "16  rpoC_p.Glu1092Asp  0.19584  0.128329  0.264205   0.0      0.0   \n",
       "\n",
       "    Bonferroni_pval  Odds_Ratio     OR_LB     OR_UB        confidence  \n",
       "16              0.0    1.216332  1.136927  1.302395  5) Not assoc w R  "
      ]
     },
     "execution_count": 16,
     "metadata": {},
     "output_type": "execute_result"
    }
   ],
   "source": [
    "model_analysis_PC5.query(\"mutation=='rpoC_p.Glu1092Asp'\")"
   ]
  },
  {
   "cell_type": "code",
   "execution_count": 17,
   "id": "0f54d6be-b8b9-46e3-a6e4-f39aabc39703",
   "metadata": {},
   "outputs": [
    {
     "data": {
      "text/html": [
       "<div>\n",
       "<style scoped>\n",
       "    .dataframe tbody tr th:only-of-type {\n",
       "        vertical-align: middle;\n",
       "    }\n",
       "\n",
       "    .dataframe tbody tr th {\n",
       "        vertical-align: top;\n",
       "    }\n",
       "\n",
       "    .dataframe thead th {\n",
       "        text-align: right;\n",
       "    }\n",
       "</style>\n",
       "<table border=\"1\" class=\"dataframe\">\n",
       "  <thead>\n",
       "    <tr style=\"text-align: right;\">\n",
       "      <th></th>\n",
       "      <th>mutation</th>\n",
       "      <th>coef</th>\n",
       "      <th>coef_LB</th>\n",
       "      <th>coef_UB</th>\n",
       "      <th>pval</th>\n",
       "      <th>BH_pval</th>\n",
       "      <th>Bonferroni_pval</th>\n",
       "      <th>Odds_Ratio</th>\n",
       "      <th>OR_LB</th>\n",
       "      <th>OR_UB</th>\n",
       "      <th>confidence</th>\n",
       "    </tr>\n",
       "  </thead>\n",
       "  <tbody>\n",
       "    <tr>\n",
       "      <th>13</th>\n",
       "      <td>rpoC_p.Glu1092Asp</td>\n",
       "      <td>0.212831</td>\n",
       "      <td>0.147201</td>\n",
       "      <td>0.282702</td>\n",
       "      <td>0.0</td>\n",
       "      <td>0.0</td>\n",
       "      <td>0.0</td>\n",
       "      <td>1.237176</td>\n",
       "      <td>1.158587</td>\n",
       "      <td>1.32671</td>\n",
       "      <td>5) Not assoc w R</td>\n",
       "    </tr>\n",
       "  </tbody>\n",
       "</table>\n",
       "</div>"
      ],
      "text/plain": [
       "             mutation      coef   coef_LB   coef_UB  pval  BH_pval  \\\n",
       "13  rpoC_p.Glu1092Asp  0.212831  0.147201  0.282702   0.0      0.0   \n",
       "\n",
       "    Bonferroni_pval  Odds_Ratio     OR_LB    OR_UB        confidence  \n",
       "13              0.0    1.237176  1.158587  1.32671  5) Not assoc w R  "
      ]
     },
     "execution_count": 17,
     "metadata": {},
     "output_type": "execute_result"
    }
   ],
   "source": [
    "model_analysis_PC10.query(\"mutation=='rpoC_p.Glu1092Asp'\")"
   ]
  },
  {
   "cell_type": "code",
   "execution_count": 4,
   "id": "61de00bc-e1d8-4d1e-97d6-6b291bf36b2b",
   "metadata": {},
   "outputs": [
    {
     "data": {
      "text/html": [
       "<div>\n",
       "<style scoped>\n",
       "    .dataframe tbody tr th:only-of-type {\n",
       "        vertical-align: middle;\n",
       "    }\n",
       "\n",
       "    .dataframe tbody tr th {\n",
       "        vertical-align: top;\n",
       "    }\n",
       "\n",
       "    .dataframe thead th {\n",
       "        text-align: right;\n",
       "    }\n",
       "</style>\n",
       "<table border=\"1\" class=\"dataframe\">\n",
       "  <thead>\n",
       "    <tr style=\"text-align: right;\">\n",
       "      <th></th>\n",
       "      <th>mutation</th>\n",
       "      <th>coef</th>\n",
       "    </tr>\n",
       "  </thead>\n",
       "  <tbody>\n",
       "    <tr>\n",
       "      <th>3206</th>\n",
       "      <td>rpoC_p.Glu1092Asp</td>\n",
       "      <td>0.212831</td>\n",
       "    </tr>\n",
       "  </tbody>\n",
       "</table>\n",
       "</div>"
      ],
      "text/plain": [
       "               mutation      coef\n",
       "3206  rpoC_p.Glu1092Asp  0.212831"
      ]
     },
     "execution_count": 4,
     "metadata": {},
     "output_type": "execute_result"
    }
   ],
   "source": [
    "coef_df.query(\"mutation=='rpoC_p.Glu1092Asp'\")"
   ]
  },
  {
   "cell_type": "markdown",
   "id": "07de7321-bf6a-40ca-9cd5-51a5df1b16c0",
   "metadata": {
    "tags": []
   },
   "source": [
    "# RIFAMPICIN TEST CASE\n",
    "\n",
    "# 0. Original Analysis: 137 new significant resistance-associated variants\n",
    "\n",
    "## But, there are 152 with OR > 1 and BH p-val < 0.01 that are in tier 2 genes (rpoB is the only tier 1)\n",
    "## These 152 mutations were studied in the next two analyses"
   ]
  },
  {
   "cell_type": "code",
   "execution_count": 3,
   "id": "d46b8cbd-3e49-4b4d-94fc-fb3f944f4ab4",
   "metadata": {},
   "outputs": [],
   "source": [
    "folder = \"BINARY\"\n",
    "phenos_name = \"WHO\"\n",
    "drug = \"Rifampicin\"\n",
    "drug_WHO_abbr = \"RIF\"\n",
    "\n",
    "# get the number of high confidence resistance-associated \n",
    "tiers1_stats = pd.read_csv(os.path.join(analysis_dir, drug, \"BINARY/tiers=1/phenos=WHO/dropAF_noSyn_unpooled\", \"model_analysis_with_stats_PC5.csv\"))\n",
    "tiers12_stats = pd.read_csv(os.path.join(analysis_dir, drug, \"BINARY/tiers=1+2/phenos=WHO/dropAF_noSyn_unpooled\", \"model_analysis_with_stats_PC5.csv\"))"
   ]
  },
  {
   "cell_type": "code",
   "execution_count": 4,
   "id": "5af49d45-38ad-49bd-a356-f7b0a309e410",
   "metadata": {},
   "outputs": [
    {
     "data": {
      "text/html": [
       "<div>\n",
       "<style scoped>\n",
       "    .dataframe tbody tr th:only-of-type {\n",
       "        vertical-align: middle;\n",
       "    }\n",
       "\n",
       "    .dataframe tbody tr th {\n",
       "        vertical-align: top;\n",
       "    }\n",
       "\n",
       "    .dataframe thead th {\n",
       "        text-align: right;\n",
       "    }\n",
       "</style>\n",
       "<table border=\"1\" class=\"dataframe\">\n",
       "  <thead>\n",
       "    <tr style=\"text-align: right;\">\n",
       "      <th></th>\n",
       "      <th>mutation</th>\n",
       "      <th>predicted_effect</th>\n",
       "      <th>position</th>\n",
       "      <th>confidence</th>\n",
       "      <th>Odds_Ratio</th>\n",
       "      <th>pval</th>\n",
       "      <th>BH_pval</th>\n",
       "      <th>Bonferroni_pval</th>\n",
       "      <th>Num_Isolates</th>\n",
       "      <th>TP</th>\n",
       "      <th>FP</th>\n",
       "      <th>TN</th>\n",
       "      <th>FN</th>\n",
       "      <th>PPV</th>\n",
       "      <th>Sens</th>\n",
       "      <th>Spec</th>\n",
       "      <th>PPV_LB</th>\n",
       "      <th>PPV_UB</th>\n",
       "    </tr>\n",
       "  </thead>\n",
       "  <tbody>\n",
       "    <tr>\n",
       "      <th>16</th>\n",
       "      <td>rpoC_p.Glu1092Asp</td>\n",
       "      <td>missense_variant</td>\n",
       "      <td>766645</td>\n",
       "      <td>5) Not assoc w R</td>\n",
       "      <td>1.216332</td>\n",
       "      <td>0.0</td>\n",
       "      <td>0.0</td>\n",
       "      <td>0.0</td>\n",
       "      <td>2697</td>\n",
       "      <td>1711</td>\n",
       "      <td>986</td>\n",
       "      <td>19935</td>\n",
       "      <td>8352</td>\n",
       "      <td>0.634409</td>\n",
       "      <td>0.170029</td>\n",
       "      <td>0.95287</td>\n",
       "      <td>0.615909</td>\n",
       "      <td>0.652616</td>\n",
       "    </tr>\n",
       "  </tbody>\n",
       "</table>\n",
       "</div>"
      ],
      "text/plain": [
       "             mutation  predicted_effect position        confidence  \\\n",
       "16  rpoC_p.Glu1092Asp  missense_variant   766645  5) Not assoc w R   \n",
       "\n",
       "    Odds_Ratio  pval  BH_pval  Bonferroni_pval  Num_Isolates    TP   FP  \\\n",
       "16    1.216332   0.0      0.0              0.0          2697  1711  986   \n",
       "\n",
       "       TN    FN       PPV      Sens     Spec    PPV_LB    PPV_UB  \n",
       "16  19935  8352  0.634409  0.170029  0.95287  0.615909  0.652616  "
      ]
     },
     "execution_count": 4,
     "metadata": {},
     "output_type": "execute_result"
    }
   ],
   "source": [
    "tiers12_stats.query(\"mutation=='rpoC_p.Glu1092Asp'\")[['mutation', 'predicted_effect', 'position', 'confidence', 'Odds_Ratio',\n",
    "       'pval', 'BH_pval', 'Bonferroni_pval', 'Num_Isolates', 'TP', 'FP', 'TN', 'FN', 'PPV', 'Sens', 'Spec', 'PPV_LB', 'PPV_UB']]"
   ]
  },
  {
   "cell_type": "markdown",
   "id": "2b8b21b1-b6a4-4a9d-a822-5806d1916379",
   "metadata": {},
   "source": [
    "# 1. Likelihood Ratio Test:\n",
    "\n",
    "152 tier 2 variants were found significant in the first analysis. We then performed a likelihood ratio test:\n",
    "\n",
    "A mutation is removed from the original model input matrix, and then a new model is fit. \n",
    "\n",
    "We then compare the log-likelihoods of the original model and the model with 1 less mutation. If the p-value is significant, it means that removing the mutation significantly changes the fit of the model. "
   ]
  },
  {
   "cell_type": "code",
   "execution_count": 5,
   "id": "84632d9d-fd85-4532-a823-15b8b33dde51",
   "metadata": {},
   "outputs": [
    {
     "name": "stdout",
     "output_type": "stream",
     "text": [
      "815 2845\n"
     ]
    }
   ],
   "source": [
    "drug = \"Rifampicin\"\n",
    "phenos_name = \"WHO\"\n",
    "out_dir = os.path.join(analysis_dir, drug, f\"BINARY/LRT/phenos={phenos_name}\")\n",
    "\n",
    "LRTresults_tier1 = pd.read_csv(os.path.join(out_dir, \"tier=1_results.csv\")).rename(columns={\"Unnamed: 0\": \"mutation\"})\n",
    "LRTresults_tier2 = pd.read_csv(os.path.join(out_dir, \"tier=2_results.csv\")).rename(columns={\"Unnamed: 0\": \"mutation\"})\n",
    "\n",
    "# remove the FULL model row, which is the first row\n",
    "LRTresults_tier1 = add_pval_corrections(LRTresults_tier1.iloc[1:, ])\n",
    "LRTresults_tier2 = add_pval_corrections(LRTresults_tier2.iloc[1:, ])\n",
    "\n",
    "tier1_model_permute = pd.read_csv(os.path.join(analysis_dir, drug, f\"BINARY/tiers=1/phenos={phenos_name}/dropAF_noSyn_unpooled/model_analysis.csv\")).query(\"~mutation.str.contains('PC')\")\n",
    "tier2_model_permute = pd.read_csv(os.path.join(analysis_dir, drug, f\"BINARY/tiers=1+2/phenos={phenos_name}/dropAF_noSyn_unpooled/model_analysis.csv\")).query(\"~mutation.str.contains('PC')\")\n",
    "\n",
    "# remove the tier 1 genes for the purposes of this analysis\n",
    "tier2_model_permute = tier2_model_permute.query(\"mutation not in @tier1_model_permute.mutation\")\n",
    "\n",
    "# check that all mutations in the permutation dataframe are in the LRT dataframe. The only difference should be the FULL model row\n",
    "# print(set(tier1_model_permute.mutation).symmetric_difference(LRTresults_tier1.index))\n",
    "# print(set(tier2_model_permute.mutation).symmetric_difference(LRTresults_tier2.index))\n",
    "assert len(set(tier1_model_permute.mutation).symmetric_difference(LRTresults_tier1.mutation)) == 0\n",
    "assert len(set(tier2_model_permute.mutation).symmetric_difference(LRTresults_tier2.mutation)) == 0\n",
    "\n",
    "# combine results into a single dataframe for easy searching\n",
    "tier1_model = tier1_model_permute.merge(LRTresults_tier1[[\"mutation\", \"pval\", \"BH_pval\", \"Bonferroni_pval\"]].rename(columns={\"pval\": \"LRT_pval\", \n",
    "                                                                                                               \"BH_pval\": \"LRT_BH_pval\", \n",
    "                                                                                                               \"Bonferroni_pval\": \"LRT_Bonferroni_pval\"\n",
    "                                                                                                              }), on=\"mutation\", how=\"left\")\n",
    "\n",
    "tier2_model = tier2_model_permute.merge(LRTresults_tier2[[\"mutation\", \"pval\", \"BH_pval\", \"Bonferroni_pval\"]].rename(columns={\"pval\": \"LRT_pval\", \n",
    "                                                                                                               \"BH_pval\": \"LRT_BH_pval\", \n",
    "                                                                                                               \"Bonferroni_pval\": \"LRT_Bonferroni_pval\"\n",
    "                                                                                                              }), on=\"mutation\", how=\"left\")\n",
    "\n",
    "print(len(tier1_model), len(tier2_model))"
   ]
  },
  {
   "cell_type": "code",
   "execution_count": 48,
   "id": "bb824e0e-3baf-48ea-aa9a-8a24cd23c58d",
   "metadata": {},
   "outputs": [
    {
     "name": "stdout",
     "output_type": "stream",
     "text": [
      "84 significant in Ridge, but not LRT\n",
      "2 significant LRT, but not in Ridge\n",
      "51 significant in both\n"
     ]
    }
   ],
   "source": [
    "# mutations picked up by the LRT, but not the coefficient association. \n",
    "# They are not significant in the tiers 1+2 model either \n",
    "thresh = 0.05\n",
    "\n",
    "print(f\"{len(tier1_model.query('Odds_Ratio > 1 & BH_pval < @thresh & LRT_BH_pval > @thresh'))} significant in Ridge, but not LRT\")\n",
    "print(f\"{len(tier1_model.query('Odds_Ratio > 1 & BH_pval > @thresh & LRT_BH_pval < @thresh'))} significant LRT, but not in Ridge\")\n",
    "print(f\"{len(tier1_model.query('Odds_Ratio > 1 & BH_pval < @thresh & LRT_BH_pval < @thresh'))} significant in both\")"
   ]
  },
  {
   "cell_type": "code",
   "execution_count": 59,
   "id": "6751efcd-707c-44f3-b0a2-7088fcc1e4eb",
   "metadata": {},
   "outputs": [
    {
     "data": {
      "text/plain": [
       "(137, 14)"
      ]
     },
     "execution_count": 59,
     "metadata": {},
     "output_type": "execute_result"
    }
   ],
   "source": [
    "thresh = 0.05\n",
    "tier1_model.query('Odds_Ratio > 1 & (BH_pval < @thresh | LRT_BH_pval < @thresh)').shape"
   ]
  },
  {
   "cell_type": "code",
   "execution_count": 56,
   "id": "68e95ff2-7e0a-4ca7-a166-b99c61dc9b15",
   "metadata": {},
   "outputs": [
    {
     "name": "stdout",
     "output_type": "stream",
     "text": [
      "101 significant in Ridge, but not LRT\n",
      "0 significant in LRT, but not in Ridge\n",
      "2 significant in both\n"
     ]
    }
   ],
   "source": [
    "thresh = 0.01\n",
    "\n",
    "print(f\"{len(tier2_model.query('Odds_Ratio > 1 & BH_pval < @thresh & LRT_BH_pval > @thresh'))} significant in Ridge, but not LRT\")\n",
    "print(f\"{len(tier2_model.query('Odds_Ratio > 1 & BH_pval > @thresh & LRT_BH_pval < @thresh'))} significant in LRT, but not in Ridge\")\n",
    "print(f\"{len(tier2_model.query('Odds_Ratio > 1 & BH_pval < @thresh & LRT_BH_pval < @thresh'))} significant in both\")"
   ]
  },
  {
   "cell_type": "code",
   "execution_count": 74,
   "id": "e42a0276-20f8-4d28-9bcc-77986259d599",
   "metadata": {},
   "outputs": [
    {
     "data": {
      "text/plain": [
       "(88, 14)"
      ]
     },
     "execution_count": 74,
     "metadata": {},
     "output_type": "execute_result"
    }
   ],
   "source": [
    "tier1_model.query('OR_LB > 1 & (BH_pval < 0.05 | LRT_BH_pval < 0.05)').shape"
   ]
  },
  {
   "cell_type": "code",
   "execution_count": 70,
   "id": "928c1024-3fc6-4165-af3b-62926c0ba65b",
   "metadata": {},
   "outputs": [
    {
     "data": {
      "text/plain": [
       "3) Uncertain significance    42\n",
       "1) Assoc w R                 24\n",
       "2) Assoc w R - Interim       17\n",
       "NaN                           5\n",
       "Name: confidence, dtype: int64"
      ]
     },
     "execution_count": 70,
     "metadata": {},
     "output_type": "execute_result"
    }
   ],
   "source": [
    "tier1_model.query('OR_LB > 1 & (BH_pval < 0.05 | LRT_BH_pval < 0.05)').confidence.value_counts(dropna=False)"
   ]
  },
  {
   "cell_type": "code",
   "execution_count": 77,
   "id": "f55c0397-fcbe-4c60-878f-259f7c06ef1e",
   "metadata": {},
   "outputs": [
    {
     "data": {
      "text/plain": [
       "NaN                          60\n",
       "3) Uncertain significance     7\n",
       "5) Not assoc w R              1\n",
       "Name: confidence, dtype: int64"
      ]
     },
     "execution_count": 77,
     "metadata": {},
     "output_type": "execute_result"
    }
   ],
   "source": [
    "tier2_model.query('OR_LB > 1 & (BH_pval < 0.01 | LRT_BH_pval < 0.01)').confidence.value_counts(dropna=False)"
   ]
  },
  {
   "cell_type": "code",
   "execution_count": 80,
   "id": "f47b1188-c46b-47b4-8b9f-0f703d52ded0",
   "metadata": {},
   "outputs": [
    {
     "data": {
      "text/html": [
       "<div>\n",
       "<style scoped>\n",
       "    .dataframe tbody tr th:only-of-type {\n",
       "        vertical-align: middle;\n",
       "    }\n",
       "\n",
       "    .dataframe tbody tr th {\n",
       "        vertical-align: top;\n",
       "    }\n",
       "\n",
       "    .dataframe thead th {\n",
       "        text-align: right;\n",
       "    }\n",
       "</style>\n",
       "<table border=\"1\" class=\"dataframe\">\n",
       "  <thead>\n",
       "    <tr style=\"text-align: right;\">\n",
       "      <th></th>\n",
       "      <th>mutation</th>\n",
       "      <th>coef</th>\n",
       "      <th>coef_LB</th>\n",
       "      <th>coef_UB</th>\n",
       "      <th>pval</th>\n",
       "      <th>BH_pval</th>\n",
       "      <th>Bonferroni_pval</th>\n",
       "      <th>Odds_Ratio</th>\n",
       "      <th>OR_LB</th>\n",
       "      <th>OR_UB</th>\n",
       "      <th>confidence</th>\n",
       "      <th>LRT_pval</th>\n",
       "      <th>LRT_BH_pval</th>\n",
       "      <th>LRT_Bonferroni_pval</th>\n",
       "    </tr>\n",
       "  </thead>\n",
       "  <tbody>\n",
       "    <tr>\n",
       "      <th>0</th>\n",
       "      <td>rpoC_p.Val483Gly</td>\n",
       "      <td>0.273303</td>\n",
       "      <td>0.190227</td>\n",
       "      <td>0.360053</td>\n",
       "      <td>0.0</td>\n",
       "      <td>0.0</td>\n",
       "      <td>0.0</td>\n",
       "      <td>1.314298</td>\n",
       "      <td>1.209524</td>\n",
       "      <td>1.433405</td>\n",
       "      <td>NaN</td>\n",
       "      <td>6.607943e-03</td>\n",
       "      <td>0.432871</td>\n",
       "      <td>1.000000</td>\n",
       "    </tr>\n",
       "    <tr>\n",
       "      <th>1</th>\n",
       "      <td>rpoC_p.Glu1092Asp</td>\n",
       "      <td>0.212831</td>\n",
       "      <td>0.147201</td>\n",
       "      <td>0.282702</td>\n",
       "      <td>0.0</td>\n",
       "      <td>0.0</td>\n",
       "      <td>0.0</td>\n",
       "      <td>1.237176</td>\n",
       "      <td>1.158587</td>\n",
       "      <td>1.326710</td>\n",
       "      <td>5) Not assoc w R</td>\n",
       "      <td>5.033098e-07</td>\n",
       "      <td>0.000716</td>\n",
       "      <td>0.001432</td>\n",
       "    </tr>\n",
       "    <tr>\n",
       "      <th>2</th>\n",
       "      <td>rpoC_p.Ile491Thr</td>\n",
       "      <td>0.203442</td>\n",
       "      <td>0.147522</td>\n",
       "      <td>0.258894</td>\n",
       "      <td>0.0</td>\n",
       "      <td>0.0</td>\n",
       "      <td>0.0</td>\n",
       "      <td>1.225614</td>\n",
       "      <td>1.158959</td>\n",
       "      <td>1.295496</td>\n",
       "      <td>NaN</td>\n",
       "      <td>3.421011e-05</td>\n",
       "      <td>0.024332</td>\n",
       "      <td>0.097328</td>\n",
       "    </tr>\n",
       "    <tr>\n",
       "      <th>3</th>\n",
       "      <td>rpoC_p.Ile491Val</td>\n",
       "      <td>0.196852</td>\n",
       "      <td>0.120055</td>\n",
       "      <td>0.284481</td>\n",
       "      <td>0.0</td>\n",
       "      <td>0.0</td>\n",
       "      <td>0.0</td>\n",
       "      <td>1.217564</td>\n",
       "      <td>1.127559</td>\n",
       "      <td>1.329073</td>\n",
       "      <td>3) Uncertain significance</td>\n",
       "      <td>8.082766e-04</td>\n",
       "      <td>0.176888</td>\n",
       "      <td>1.000000</td>\n",
       "    </tr>\n",
       "    <tr>\n",
       "      <th>4</th>\n",
       "      <td>rpoC_p.Asn698Ser</td>\n",
       "      <td>0.184709</td>\n",
       "      <td>0.116624</td>\n",
       "      <td>0.229714</td>\n",
       "      <td>0.0</td>\n",
       "      <td>0.0</td>\n",
       "      <td>0.0</td>\n",
       "      <td>1.202868</td>\n",
       "      <td>1.123697</td>\n",
       "      <td>1.258240</td>\n",
       "      <td>NaN</td>\n",
       "      <td>7.117452e-05</td>\n",
       "      <td>0.033749</td>\n",
       "      <td>0.202492</td>\n",
       "    </tr>\n",
       "    <tr>\n",
       "      <th>...</th>\n",
       "      <td>...</td>\n",
       "      <td>...</td>\n",
       "      <td>...</td>\n",
       "      <td>...</td>\n",
       "      <td>...</td>\n",
       "      <td>...</td>\n",
       "      <td>...</td>\n",
       "      <td>...</td>\n",
       "      <td>...</td>\n",
       "      <td>...</td>\n",
       "      <td>...</td>\n",
       "      <td>...</td>\n",
       "      <td>...</td>\n",
       "      <td>...</td>\n",
       "    </tr>\n",
       "    <tr>\n",
       "      <th>106</th>\n",
       "      <td>rpoC_p.Glu750Gly</td>\n",
       "      <td>0.041322</td>\n",
       "      <td>0.024113</td>\n",
       "      <td>0.054451</td>\n",
       "      <td>0.0</td>\n",
       "      <td>0.0</td>\n",
       "      <td>0.0</td>\n",
       "      <td>1.042188</td>\n",
       "      <td>1.024406</td>\n",
       "      <td>1.055961</td>\n",
       "      <td>NaN</td>\n",
       "      <td>4.166183e-01</td>\n",
       "      <td>1.000000</td>\n",
       "      <td>1.000000</td>\n",
       "    </tr>\n",
       "    <tr>\n",
       "      <th>113</th>\n",
       "      <td>rpoA_p.Pro25Arg</td>\n",
       "      <td>0.041140</td>\n",
       "      <td>0.027696</td>\n",
       "      <td>0.055928</td>\n",
       "      <td>0.0</td>\n",
       "      <td>0.0</td>\n",
       "      <td>0.0</td>\n",
       "      <td>1.041998</td>\n",
       "      <td>1.028083</td>\n",
       "      <td>1.057522</td>\n",
       "      <td>NaN</td>\n",
       "      <td>4.516600e-01</td>\n",
       "      <td>1.000000</td>\n",
       "      <td>1.000000</td>\n",
       "    </tr>\n",
       "    <tr>\n",
       "      <th>115</th>\n",
       "      <td>nusG_c.-98C&gt;T</td>\n",
       "      <td>0.041026</td>\n",
       "      <td>0.024888</td>\n",
       "      <td>0.063351</td>\n",
       "      <td>0.0</td>\n",
       "      <td>0.0</td>\n",
       "      <td>0.0</td>\n",
       "      <td>1.041879</td>\n",
       "      <td>1.025200</td>\n",
       "      <td>1.065401</td>\n",
       "      <td>NaN</td>\n",
       "      <td>4.776005e-01</td>\n",
       "      <td>1.000000</td>\n",
       "      <td>1.000000</td>\n",
       "    </tr>\n",
       "    <tr>\n",
       "      <th>117</th>\n",
       "      <td>rpoC_p.Arg770His</td>\n",
       "      <td>0.040799</td>\n",
       "      <td>0.026104</td>\n",
       "      <td>0.052773</td>\n",
       "      <td>0.0</td>\n",
       "      <td>0.0</td>\n",
       "      <td>0.0</td>\n",
       "      <td>1.041643</td>\n",
       "      <td>1.026448</td>\n",
       "      <td>1.054190</td>\n",
       "      <td>NaN</td>\n",
       "      <td>4.648498e-01</td>\n",
       "      <td>1.000000</td>\n",
       "      <td>1.000000</td>\n",
       "    </tr>\n",
       "    <tr>\n",
       "      <th>131</th>\n",
       "      <td>Rv1129c_p.Phe202Tyr</td>\n",
       "      <td>0.037009</td>\n",
       "      <td>0.023543</td>\n",
       "      <td>0.047922</td>\n",
       "      <td>0.0</td>\n",
       "      <td>0.0</td>\n",
       "      <td>0.0</td>\n",
       "      <td>1.037702</td>\n",
       "      <td>1.023822</td>\n",
       "      <td>1.049088</td>\n",
       "      <td>NaN</td>\n",
       "      <td>5.865685e-01</td>\n",
       "      <td>1.000000</td>\n",
       "      <td>1.000000</td>\n",
       "    </tr>\n",
       "  </tbody>\n",
       "</table>\n",
       "<p>68 rows × 14 columns</p>\n",
       "</div>"
      ],
      "text/plain": [
       "                mutation      coef   coef_LB   coef_UB  pval  BH_pval  \\\n",
       "0       rpoC_p.Val483Gly  0.273303  0.190227  0.360053   0.0      0.0   \n",
       "1      rpoC_p.Glu1092Asp  0.212831  0.147201  0.282702   0.0      0.0   \n",
       "2       rpoC_p.Ile491Thr  0.203442  0.147522  0.258894   0.0      0.0   \n",
       "3       rpoC_p.Ile491Val  0.196852  0.120055  0.284481   0.0      0.0   \n",
       "4       rpoC_p.Asn698Ser  0.184709  0.116624  0.229714   0.0      0.0   \n",
       "..                   ...       ...       ...       ...   ...      ...   \n",
       "106     rpoC_p.Glu750Gly  0.041322  0.024113  0.054451   0.0      0.0   \n",
       "113      rpoA_p.Pro25Arg  0.041140  0.027696  0.055928   0.0      0.0   \n",
       "115        nusG_c.-98C>T  0.041026  0.024888  0.063351   0.0      0.0   \n",
       "117     rpoC_p.Arg770His  0.040799  0.026104  0.052773   0.0      0.0   \n",
       "131  Rv1129c_p.Phe202Tyr  0.037009  0.023543  0.047922   0.0      0.0   \n",
       "\n",
       "     Bonferroni_pval  Odds_Ratio     OR_LB     OR_UB  \\\n",
       "0                0.0    1.314298  1.209524  1.433405   \n",
       "1                0.0    1.237176  1.158587  1.326710   \n",
       "2                0.0    1.225614  1.158959  1.295496   \n",
       "3                0.0    1.217564  1.127559  1.329073   \n",
       "4                0.0    1.202868  1.123697  1.258240   \n",
       "..               ...         ...       ...       ...   \n",
       "106              0.0    1.042188  1.024406  1.055961   \n",
       "113              0.0    1.041998  1.028083  1.057522   \n",
       "115              0.0    1.041879  1.025200  1.065401   \n",
       "117              0.0    1.041643  1.026448  1.054190   \n",
       "131              0.0    1.037702  1.023822  1.049088   \n",
       "\n",
       "                    confidence      LRT_pval  LRT_BH_pval  LRT_Bonferroni_pval  \n",
       "0                          NaN  6.607943e-03     0.432871             1.000000  \n",
       "1             5) Not assoc w R  5.033098e-07     0.000716             0.001432  \n",
       "2                          NaN  3.421011e-05     0.024332             0.097328  \n",
       "3    3) Uncertain significance  8.082766e-04     0.176888             1.000000  \n",
       "4                          NaN  7.117452e-05     0.033749             0.202492  \n",
       "..                         ...           ...          ...                  ...  \n",
       "106                        NaN  4.166183e-01     1.000000             1.000000  \n",
       "113                        NaN  4.516600e-01     1.000000             1.000000  \n",
       "115                        NaN  4.776005e-01     1.000000             1.000000  \n",
       "117                        NaN  4.648498e-01     1.000000             1.000000  \n",
       "131                        NaN  5.865685e-01     1.000000             1.000000  \n",
       "\n",
       "[68 rows x 14 columns]"
      ]
     },
     "execution_count": 80,
     "metadata": {},
     "output_type": "execute_result"
    }
   ],
   "source": [
    "tier2_model.query('OR_LB > 1 & (BH_pval < 0.01 | LRT_BH_pval < 0.01)')"
   ]
  },
  {
   "cell_type": "code",
   "execution_count": 93,
   "id": "b282a28a-312d-4236-9bd9-72dce20dab19",
   "metadata": {},
   "outputs": [
    {
     "data": {
      "text/plain": [
       "Index(['mutation', 'predicted_effect', 'position', 'confidence', 'Odds_Ratio',\n",
       "       'pval', 'BH_pval', 'Bonferroni_pval', 'Significant', 'Num_Isolates',\n",
       "       'Total_Isolates', 'TP', 'FP', 'TN', 'FN', 'PPV', 'NPV', 'Sens', 'Spec',\n",
       "       'LR+', 'LR-', 'PPV_LB', 'PPV_UB', 'NPV_LB', 'NPV_UB', 'Sens_LB',\n",
       "       'Sens_UB', 'Spec_LB', 'Spec_UB', 'LR+_LB', 'LR+_UB', 'LR-_LB',\n",
       "       'LR-_UB'],\n",
       "      dtype='object')"
      ]
     },
     "execution_count": 93,
     "metadata": {},
     "output_type": "execute_result"
    }
   ],
   "source": [
    "tiers12_stats.columns"
   ]
  },
  {
   "cell_type": "code",
   "execution_count": null,
   "id": "e72cf00e-af3e-4a9d-8327-4f68445a1267",
   "metadata": {},
   "outputs": [],
   "source": [
    ".merge(tiers12_stats, on=\"mutation\", how=\"left\").query(\"mutation=='rpoC_p.Glu1092Asp'\")"
   ]
  },
  {
   "cell_type": "code",
   "execution_count": 112,
   "id": "50680897-4ae9-419f-ba7d-fc98558b2671",
   "metadata": {},
   "outputs": [
    {
     "data": {
      "text/html": [
       "<div>\n",
       "<style scoped>\n",
       "    .dataframe tbody tr th:only-of-type {\n",
       "        vertical-align: middle;\n",
       "    }\n",
       "\n",
       "    .dataframe tbody tr th {\n",
       "        vertical-align: top;\n",
       "    }\n",
       "\n",
       "    .dataframe thead th {\n",
       "        text-align: right;\n",
       "    }\n",
       "</style>\n",
       "<table border=\"1\" class=\"dataframe\">\n",
       "  <thead>\n",
       "    <tr style=\"text-align: right;\">\n",
       "      <th></th>\n",
       "      <th>mutation</th>\n",
       "      <th>coef</th>\n",
       "      <th>coef_LB</th>\n",
       "      <th>coef_UB</th>\n",
       "      <th>pval</th>\n",
       "      <th>BH_pval</th>\n",
       "      <th>Bonferroni_pval</th>\n",
       "      <th>Odds_Ratio</th>\n",
       "      <th>OR_LB</th>\n",
       "      <th>OR_UB</th>\n",
       "      <th>...</th>\n",
       "      <th>LRT_Bonferroni_pval</th>\n",
       "      <th>Num_Isolates</th>\n",
       "      <th>Total_Isolates</th>\n",
       "      <th>TP</th>\n",
       "      <th>FP</th>\n",
       "      <th>TN</th>\n",
       "      <th>FN</th>\n",
       "      <th>PPV</th>\n",
       "      <th>PPV_LB</th>\n",
       "      <th>PPV_UB</th>\n",
       "    </tr>\n",
       "  </thead>\n",
       "  <tbody>\n",
       "    <tr>\n",
       "      <th>0</th>\n",
       "      <td>rpoC_p.Glu1092Asp</td>\n",
       "      <td>0.212831</td>\n",
       "      <td>0.147201</td>\n",
       "      <td>0.282702</td>\n",
       "      <td>0.0</td>\n",
       "      <td>0.0</td>\n",
       "      <td>0.0</td>\n",
       "      <td>1.237176</td>\n",
       "      <td>1.158587</td>\n",
       "      <td>1.326710</td>\n",
       "      <td>...</td>\n",
       "      <td>0.001432</td>\n",
       "      <td>2697</td>\n",
       "      <td>30984</td>\n",
       "      <td>1711</td>\n",
       "      <td>986</td>\n",
       "      <td>19935</td>\n",
       "      <td>8352</td>\n",
       "      <td>0.634409</td>\n",
       "      <td>0.615909</td>\n",
       "      <td>0.652616</td>\n",
       "    </tr>\n",
       "    <tr>\n",
       "      <th>1</th>\n",
       "      <td>Rv2752c_p.Asn30Ser</td>\n",
       "      <td>0.099783</td>\n",
       "      <td>0.046205</td>\n",
       "      <td>0.149246</td>\n",
       "      <td>0.0</td>\n",
       "      <td>0.0</td>\n",
       "      <td>0.0</td>\n",
       "      <td>1.104931</td>\n",
       "      <td>1.047289</td>\n",
       "      <td>1.160958</td>\n",
       "      <td>...</td>\n",
       "      <td>0.000421</td>\n",
       "      <td>12</td>\n",
       "      <td>30984</td>\n",
       "      <td>6</td>\n",
       "      <td>6</td>\n",
       "      <td>20915</td>\n",
       "      <td>10057</td>\n",
       "      <td>0.500000</td>\n",
       "      <td>0.210945</td>\n",
       "      <td>0.789055</td>\n",
       "    </tr>\n",
       "  </tbody>\n",
       "</table>\n",
       "<p>2 rows × 23 columns</p>\n",
       "</div>"
      ],
      "text/plain": [
       "             mutation      coef   coef_LB   coef_UB  pval  BH_pval  \\\n",
       "0   rpoC_p.Glu1092Asp  0.212831  0.147201  0.282702   0.0      0.0   \n",
       "1  Rv2752c_p.Asn30Ser  0.099783  0.046205  0.149246   0.0      0.0   \n",
       "\n",
       "   Bonferroni_pval  Odds_Ratio     OR_LB     OR_UB  ... LRT_Bonferroni_pval  \\\n",
       "0              0.0    1.237176  1.158587  1.326710  ...            0.001432   \n",
       "1              0.0    1.104931  1.047289  1.160958  ...            0.000421   \n",
       "\n",
       "   Num_Isolates  Total_Isolates    TP   FP     TN     FN       PPV    PPV_LB  \\\n",
       "0          2697           30984  1711  986  19935   8352  0.634409  0.615909   \n",
       "1            12           30984     6    6  20915  10057  0.500000  0.210945   \n",
       "\n",
       "     PPV_UB  \n",
       "0  0.652616  \n",
       "1  0.789055  \n",
       "\n",
       "[2 rows x 23 columns]"
      ]
     },
     "execution_count": 112,
     "metadata": {},
     "output_type": "execute_result"
    }
   ],
   "source": [
    "tier2_model.query('OR_LB > 1 & (BH_pval < 0.01 & LRT_BH_pval < 0.01)').merge(tiers12_stats[['mutation', 'Num_Isolates',\n",
    "       'Total_Isolates', 'TP', 'FP', 'TN', 'FN', 'PPV','PPV_LB', 'PPV_UB']], on=\"mutation\", how='left')#.query(\"PPV_LB >= 0.25 & TP >= 5\")"
   ]
  },
  {
   "cell_type": "code",
   "execution_count": 114,
   "id": "63e4cfd6-6ec2-47f2-a78c-46a4a13cf5d8",
   "metadata": {},
   "outputs": [
    {
     "data": {
      "text/plain": [
       "int"
      ]
     },
     "execution_count": 114,
     "metadata": {},
     "output_type": "execute_result"
    }
   ],
   "source": [
    "type(0)"
   ]
  },
  {
   "cell_type": "code",
   "execution_count": 113,
   "id": "852dd81b-ec54-4b04-976d-937725bd6787",
   "metadata": {},
   "outputs": [
    {
     "data": {
      "text/plain": [
       "LogisticRegression(C=0, class_weight='balanced', max_iter=10000,\n",
       "                   multi_class='ovr')"
      ]
     },
     "execution_count": 113,
     "metadata": {},
     "output_type": "execute_result"
    }
   ],
   "source": [
    "LogisticRegression(C=0, penalty='l2', max_iter=10000, multi_class='ovr', class_weight='balanced')"
   ]
  },
  {
   "cell_type": "code",
   "execution_count": null,
   "id": "9c9df18b-cba2-4d90-b147-f46f56f6b886",
   "metadata": {},
   "outputs": [],
   "source": []
  },
  {
   "cell_type": "code",
   "execution_count": 85,
   "id": "02a4118a-1eba-4aed-80fd-39ec642e716c",
   "metadata": {},
   "outputs": [
    {
     "ename": "UndefinedVariableError",
     "evalue": "name 'coef_LB' is not defined",
     "output_type": "error",
     "traceback": [
      "\u001b[0;31m---------------------------------------------------------------------------\u001b[0m",
      "\u001b[0;31mKeyError\u001b[0m                                  Traceback (most recent call last)",
      "\u001b[0;32m~/anaconda3/lib/python3.9/site-packages/pandas/core/computation/scope.py\u001b[0m in \u001b[0;36mresolve\u001b[0;34m(self, key, is_local)\u001b[0m\n\u001b[1;32m    196\u001b[0m             \u001b[0;32mif\u001b[0m \u001b[0mself\u001b[0m\u001b[0;34m.\u001b[0m\u001b[0mhas_resolvers\u001b[0m\u001b[0;34m:\u001b[0m\u001b[0;34m\u001b[0m\u001b[0;34m\u001b[0m\u001b[0m\n\u001b[0;32m--> 197\u001b[0;31m                 \u001b[0;32mreturn\u001b[0m \u001b[0mself\u001b[0m\u001b[0;34m.\u001b[0m\u001b[0mresolvers\u001b[0m\u001b[0;34m[\u001b[0m\u001b[0mkey\u001b[0m\u001b[0;34m]\u001b[0m\u001b[0;34m\u001b[0m\u001b[0;34m\u001b[0m\u001b[0m\n\u001b[0m\u001b[1;32m    198\u001b[0m \u001b[0;34m\u001b[0m\u001b[0m\n",
      "\u001b[0;32m~/anaconda3/lib/python3.9/collections/__init__.py\u001b[0m in \u001b[0;36m__getitem__\u001b[0;34m(self, key)\u001b[0m\n\u001b[1;32m    940\u001b[0m                 \u001b[0;32mpass\u001b[0m\u001b[0;34m\u001b[0m\u001b[0;34m\u001b[0m\u001b[0m\n\u001b[0;32m--> 941\u001b[0;31m         \u001b[0;32mreturn\u001b[0m \u001b[0mself\u001b[0m\u001b[0;34m.\u001b[0m\u001b[0m__missing__\u001b[0m\u001b[0;34m(\u001b[0m\u001b[0mkey\u001b[0m\u001b[0;34m)\u001b[0m            \u001b[0;31m# support subclasses that define __missing__\u001b[0m\u001b[0;34m\u001b[0m\u001b[0;34m\u001b[0m\u001b[0m\n\u001b[0m\u001b[1;32m    942\u001b[0m \u001b[0;34m\u001b[0m\u001b[0m\n",
      "\u001b[0;32m~/anaconda3/lib/python3.9/collections/__init__.py\u001b[0m in \u001b[0;36m__missing__\u001b[0;34m(self, key)\u001b[0m\n\u001b[1;32m    932\u001b[0m     \u001b[0;32mdef\u001b[0m \u001b[0m__missing__\u001b[0m\u001b[0;34m(\u001b[0m\u001b[0mself\u001b[0m\u001b[0;34m,\u001b[0m \u001b[0mkey\u001b[0m\u001b[0;34m)\u001b[0m\u001b[0;34m:\u001b[0m\u001b[0;34m\u001b[0m\u001b[0;34m\u001b[0m\u001b[0m\n\u001b[0;32m--> 933\u001b[0;31m         \u001b[0;32mraise\u001b[0m \u001b[0mKeyError\u001b[0m\u001b[0;34m(\u001b[0m\u001b[0mkey\u001b[0m\u001b[0;34m)\u001b[0m\u001b[0;34m\u001b[0m\u001b[0;34m\u001b[0m\u001b[0m\n\u001b[0m\u001b[1;32m    934\u001b[0m \u001b[0;34m\u001b[0m\u001b[0m\n",
      "\u001b[0;31mKeyError\u001b[0m: 'coef_LB'",
      "\nDuring handling of the above exception, another exception occurred:\n",
      "\u001b[0;31mKeyError\u001b[0m                                  Traceback (most recent call last)",
      "\u001b[0;32m~/anaconda3/lib/python3.9/site-packages/pandas/core/computation/scope.py\u001b[0m in \u001b[0;36mresolve\u001b[0;34m(self, key, is_local)\u001b[0m\n\u001b[1;32m    207\u001b[0m                 \u001b[0;31m# e.g., df[df > 0]\u001b[0m\u001b[0;34m\u001b[0m\u001b[0;34m\u001b[0m\u001b[0m\n\u001b[0;32m--> 208\u001b[0;31m                 \u001b[0;32mreturn\u001b[0m \u001b[0mself\u001b[0m\u001b[0;34m.\u001b[0m\u001b[0mtemps\u001b[0m\u001b[0;34m[\u001b[0m\u001b[0mkey\u001b[0m\u001b[0;34m]\u001b[0m\u001b[0;34m\u001b[0m\u001b[0;34m\u001b[0m\u001b[0m\n\u001b[0m\u001b[1;32m    209\u001b[0m             \u001b[0;32mexcept\u001b[0m \u001b[0mKeyError\u001b[0m \u001b[0;32mas\u001b[0m \u001b[0merr\u001b[0m\u001b[0;34m:\u001b[0m\u001b[0;34m\u001b[0m\u001b[0;34m\u001b[0m\u001b[0m\n",
      "\u001b[0;31mKeyError\u001b[0m: 'coef_LB'",
      "\nThe above exception was the direct cause of the following exception:\n",
      "\u001b[0;31mUndefinedVariableError\u001b[0m                    Traceback (most recent call last)",
      "\u001b[0;32m/tmp/ipykernel_19898/338709780.py\u001b[0m in \u001b[0;36m<module>\u001b[0;34m\u001b[0m\n\u001b[0;32m----> 1\u001b[0;31m \u001b[0mtiers12_stats\u001b[0m\u001b[0;34m.\u001b[0m\u001b[0mquery\u001b[0m\u001b[0;34m(\u001b[0m\u001b[0;34m'coef_LB > 0 & (BH_pval < 0.01 | LRT_BH_pval < 0.01)'\u001b[0m\u001b[0;34m)\u001b[0m\u001b[0;34m\u001b[0m\u001b[0;34m\u001b[0m\u001b[0m\n\u001b[0m",
      "\u001b[0;32m~/anaconda3/lib/python3.9/site-packages/pandas/core/frame.py\u001b[0m in \u001b[0;36mquery\u001b[0;34m(self, expr, inplace, **kwargs)\u001b[0m\n\u001b[1;32m   4109\u001b[0m         \u001b[0mkwargs\u001b[0m\u001b[0;34m[\u001b[0m\u001b[0;34m\"level\"\u001b[0m\u001b[0;34m]\u001b[0m \u001b[0;34m=\u001b[0m \u001b[0mkwargs\u001b[0m\u001b[0;34m.\u001b[0m\u001b[0mpop\u001b[0m\u001b[0;34m(\u001b[0m\u001b[0;34m\"level\"\u001b[0m\u001b[0;34m,\u001b[0m \u001b[0;36m0\u001b[0m\u001b[0;34m)\u001b[0m \u001b[0;34m+\u001b[0m \u001b[0;36m1\u001b[0m\u001b[0;34m\u001b[0m\u001b[0;34m\u001b[0m\u001b[0m\n\u001b[1;32m   4110\u001b[0m         \u001b[0mkwargs\u001b[0m\u001b[0;34m[\u001b[0m\u001b[0;34m\"target\"\u001b[0m\u001b[0;34m]\u001b[0m \u001b[0;34m=\u001b[0m \u001b[0;32mNone\u001b[0m\u001b[0;34m\u001b[0m\u001b[0;34m\u001b[0m\u001b[0m\n\u001b[0;32m-> 4111\u001b[0;31m         \u001b[0mres\u001b[0m \u001b[0;34m=\u001b[0m \u001b[0mself\u001b[0m\u001b[0;34m.\u001b[0m\u001b[0meval\u001b[0m\u001b[0;34m(\u001b[0m\u001b[0mexpr\u001b[0m\u001b[0;34m,\u001b[0m \u001b[0;34m**\u001b[0m\u001b[0mkwargs\u001b[0m\u001b[0;34m)\u001b[0m\u001b[0;34m\u001b[0m\u001b[0;34m\u001b[0m\u001b[0m\n\u001b[0m\u001b[1;32m   4112\u001b[0m \u001b[0;34m\u001b[0m\u001b[0m\n\u001b[1;32m   4113\u001b[0m         \u001b[0;32mtry\u001b[0m\u001b[0;34m:\u001b[0m\u001b[0;34m\u001b[0m\u001b[0;34m\u001b[0m\u001b[0m\n",
      "\u001b[0;32m~/anaconda3/lib/python3.9/site-packages/pandas/core/frame.py\u001b[0m in \u001b[0;36meval\u001b[0;34m(self, expr, inplace, **kwargs)\u001b[0m\n\u001b[1;32m   4238\u001b[0m         \u001b[0mkwargs\u001b[0m\u001b[0;34m[\u001b[0m\u001b[0;34m\"resolvers\"\u001b[0m\u001b[0;34m]\u001b[0m \u001b[0;34m=\u001b[0m \u001b[0mtuple\u001b[0m\u001b[0;34m(\u001b[0m\u001b[0mkwargs\u001b[0m\u001b[0;34m.\u001b[0m\u001b[0mget\u001b[0m\u001b[0;34m(\u001b[0m\u001b[0;34m\"resolvers\"\u001b[0m\u001b[0;34m,\u001b[0m \u001b[0;34m(\u001b[0m\u001b[0;34m)\u001b[0m\u001b[0;34m)\u001b[0m\u001b[0;34m)\u001b[0m \u001b[0;34m+\u001b[0m \u001b[0mresolvers\u001b[0m\u001b[0;34m\u001b[0m\u001b[0;34m\u001b[0m\u001b[0m\n\u001b[1;32m   4239\u001b[0m \u001b[0;34m\u001b[0m\u001b[0m\n\u001b[0;32m-> 4240\u001b[0;31m         \u001b[0;32mreturn\u001b[0m \u001b[0m_eval\u001b[0m\u001b[0;34m(\u001b[0m\u001b[0mexpr\u001b[0m\u001b[0;34m,\u001b[0m \u001b[0minplace\u001b[0m\u001b[0;34m=\u001b[0m\u001b[0minplace\u001b[0m\u001b[0;34m,\u001b[0m \u001b[0;34m**\u001b[0m\u001b[0mkwargs\u001b[0m\u001b[0;34m)\u001b[0m\u001b[0;34m\u001b[0m\u001b[0;34m\u001b[0m\u001b[0m\n\u001b[0m\u001b[1;32m   4241\u001b[0m \u001b[0;34m\u001b[0m\u001b[0m\n\u001b[1;32m   4242\u001b[0m     \u001b[0;32mdef\u001b[0m \u001b[0mselect_dtypes\u001b[0m\u001b[0;34m(\u001b[0m\u001b[0mself\u001b[0m\u001b[0;34m,\u001b[0m \u001b[0minclude\u001b[0m\u001b[0;34m=\u001b[0m\u001b[0;32mNone\u001b[0m\u001b[0;34m,\u001b[0m \u001b[0mexclude\u001b[0m\u001b[0;34m=\u001b[0m\u001b[0;32mNone\u001b[0m\u001b[0;34m)\u001b[0m \u001b[0;34m->\u001b[0m \u001b[0mDataFrame\u001b[0m\u001b[0;34m:\u001b[0m\u001b[0;34m\u001b[0m\u001b[0;34m\u001b[0m\u001b[0m\n",
      "\u001b[0;32m~/anaconda3/lib/python3.9/site-packages/pandas/core/computation/eval.py\u001b[0m in \u001b[0;36meval\u001b[0;34m(expr, parser, engine, truediv, local_dict, global_dict, resolvers, level, target, inplace)\u001b[0m\n\u001b[1;32m    349\u001b[0m         )\n\u001b[1;32m    350\u001b[0m \u001b[0;34m\u001b[0m\u001b[0m\n\u001b[0;32m--> 351\u001b[0;31m         \u001b[0mparsed_expr\u001b[0m \u001b[0;34m=\u001b[0m \u001b[0mExpr\u001b[0m\u001b[0;34m(\u001b[0m\u001b[0mexpr\u001b[0m\u001b[0;34m,\u001b[0m \u001b[0mengine\u001b[0m\u001b[0;34m=\u001b[0m\u001b[0mengine\u001b[0m\u001b[0;34m,\u001b[0m \u001b[0mparser\u001b[0m\u001b[0;34m=\u001b[0m\u001b[0mparser\u001b[0m\u001b[0;34m,\u001b[0m \u001b[0menv\u001b[0m\u001b[0;34m=\u001b[0m\u001b[0menv\u001b[0m\u001b[0;34m)\u001b[0m\u001b[0;34m\u001b[0m\u001b[0;34m\u001b[0m\u001b[0m\n\u001b[0m\u001b[1;32m    352\u001b[0m \u001b[0;34m\u001b[0m\u001b[0m\n\u001b[1;32m    353\u001b[0m         \u001b[0;31m# construct the engine and evaluate the parsed expression\u001b[0m\u001b[0;34m\u001b[0m\u001b[0;34m\u001b[0m\u001b[0m\n",
      "\u001b[0;32m~/anaconda3/lib/python3.9/site-packages/pandas/core/computation/expr.py\u001b[0m in \u001b[0;36m__init__\u001b[0;34m(self, expr, engine, parser, env, level)\u001b[0m\n\u001b[1;32m    809\u001b[0m         \u001b[0mself\u001b[0m\u001b[0;34m.\u001b[0m\u001b[0mparser\u001b[0m \u001b[0;34m=\u001b[0m \u001b[0mparser\u001b[0m\u001b[0;34m\u001b[0m\u001b[0;34m\u001b[0m\u001b[0m\n\u001b[1;32m    810\u001b[0m         \u001b[0mself\u001b[0m\u001b[0;34m.\u001b[0m\u001b[0m_visitor\u001b[0m \u001b[0;34m=\u001b[0m \u001b[0mPARSERS\u001b[0m\u001b[0;34m[\u001b[0m\u001b[0mparser\u001b[0m\u001b[0;34m]\u001b[0m\u001b[0;34m(\u001b[0m\u001b[0mself\u001b[0m\u001b[0;34m.\u001b[0m\u001b[0menv\u001b[0m\u001b[0;34m,\u001b[0m \u001b[0mself\u001b[0m\u001b[0;34m.\u001b[0m\u001b[0mengine\u001b[0m\u001b[0;34m,\u001b[0m \u001b[0mself\u001b[0m\u001b[0;34m.\u001b[0m\u001b[0mparser\u001b[0m\u001b[0;34m)\u001b[0m\u001b[0;34m\u001b[0m\u001b[0;34m\u001b[0m\u001b[0m\n\u001b[0;32m--> 811\u001b[0;31m         \u001b[0mself\u001b[0m\u001b[0;34m.\u001b[0m\u001b[0mterms\u001b[0m \u001b[0;34m=\u001b[0m \u001b[0mself\u001b[0m\u001b[0;34m.\u001b[0m\u001b[0mparse\u001b[0m\u001b[0;34m(\u001b[0m\u001b[0;34m)\u001b[0m\u001b[0;34m\u001b[0m\u001b[0;34m\u001b[0m\u001b[0m\n\u001b[0m\u001b[1;32m    812\u001b[0m \u001b[0;34m\u001b[0m\u001b[0m\n\u001b[1;32m    813\u001b[0m     \u001b[0;34m@\u001b[0m\u001b[0mproperty\u001b[0m\u001b[0;34m\u001b[0m\u001b[0;34m\u001b[0m\u001b[0m\n",
      "\u001b[0;32m~/anaconda3/lib/python3.9/site-packages/pandas/core/computation/expr.py\u001b[0m in \u001b[0;36mparse\u001b[0;34m(self)\u001b[0m\n\u001b[1;32m    828\u001b[0m         \u001b[0mParse\u001b[0m \u001b[0man\u001b[0m \u001b[0mexpression\u001b[0m\u001b[0;34m.\u001b[0m\u001b[0;34m\u001b[0m\u001b[0;34m\u001b[0m\u001b[0m\n\u001b[1;32m    829\u001b[0m         \"\"\"\n\u001b[0;32m--> 830\u001b[0;31m         \u001b[0;32mreturn\u001b[0m \u001b[0mself\u001b[0m\u001b[0;34m.\u001b[0m\u001b[0m_visitor\u001b[0m\u001b[0;34m.\u001b[0m\u001b[0mvisit\u001b[0m\u001b[0;34m(\u001b[0m\u001b[0mself\u001b[0m\u001b[0;34m.\u001b[0m\u001b[0mexpr\u001b[0m\u001b[0;34m)\u001b[0m\u001b[0;34m\u001b[0m\u001b[0;34m\u001b[0m\u001b[0m\n\u001b[0m\u001b[1;32m    831\u001b[0m \u001b[0;34m\u001b[0m\u001b[0m\n\u001b[1;32m    832\u001b[0m     \u001b[0;34m@\u001b[0m\u001b[0mproperty\u001b[0m\u001b[0;34m\u001b[0m\u001b[0;34m\u001b[0m\u001b[0m\n",
      "\u001b[0;32m~/anaconda3/lib/python3.9/site-packages/pandas/core/computation/expr.py\u001b[0m in \u001b[0;36mvisit\u001b[0;34m(self, node, **kwargs)\u001b[0m\n\u001b[1;32m    413\u001b[0m         \u001b[0mmethod\u001b[0m \u001b[0;34m=\u001b[0m \u001b[0;34m\"visit_\"\u001b[0m \u001b[0;34m+\u001b[0m \u001b[0mtype\u001b[0m\u001b[0;34m(\u001b[0m\u001b[0mnode\u001b[0m\u001b[0;34m)\u001b[0m\u001b[0;34m.\u001b[0m\u001b[0m__name__\u001b[0m\u001b[0;34m\u001b[0m\u001b[0;34m\u001b[0m\u001b[0m\n\u001b[1;32m    414\u001b[0m         \u001b[0mvisitor\u001b[0m \u001b[0;34m=\u001b[0m \u001b[0mgetattr\u001b[0m\u001b[0;34m(\u001b[0m\u001b[0mself\u001b[0m\u001b[0;34m,\u001b[0m \u001b[0mmethod\u001b[0m\u001b[0;34m)\u001b[0m\u001b[0;34m\u001b[0m\u001b[0;34m\u001b[0m\u001b[0m\n\u001b[0;32m--> 415\u001b[0;31m         \u001b[0;32mreturn\u001b[0m \u001b[0mvisitor\u001b[0m\u001b[0;34m(\u001b[0m\u001b[0mnode\u001b[0m\u001b[0;34m,\u001b[0m \u001b[0;34m**\u001b[0m\u001b[0mkwargs\u001b[0m\u001b[0;34m)\u001b[0m\u001b[0;34m\u001b[0m\u001b[0;34m\u001b[0m\u001b[0m\n\u001b[0m\u001b[1;32m    416\u001b[0m \u001b[0;34m\u001b[0m\u001b[0m\n\u001b[1;32m    417\u001b[0m     \u001b[0;32mdef\u001b[0m \u001b[0mvisit_Module\u001b[0m\u001b[0;34m(\u001b[0m\u001b[0mself\u001b[0m\u001b[0;34m,\u001b[0m \u001b[0mnode\u001b[0m\u001b[0;34m,\u001b[0m \u001b[0;34m**\u001b[0m\u001b[0mkwargs\u001b[0m\u001b[0;34m)\u001b[0m\u001b[0;34m:\u001b[0m\u001b[0;34m\u001b[0m\u001b[0;34m\u001b[0m\u001b[0m\n",
      "\u001b[0;32m~/anaconda3/lib/python3.9/site-packages/pandas/core/computation/expr.py\u001b[0m in \u001b[0;36mvisit_Module\u001b[0;34m(self, node, **kwargs)\u001b[0m\n\u001b[1;32m    419\u001b[0m             \u001b[0;32mraise\u001b[0m \u001b[0mSyntaxError\u001b[0m\u001b[0;34m(\u001b[0m\u001b[0;34m\"only a single expression is allowed\"\u001b[0m\u001b[0;34m)\u001b[0m\u001b[0;34m\u001b[0m\u001b[0;34m\u001b[0m\u001b[0m\n\u001b[1;32m    420\u001b[0m         \u001b[0mexpr\u001b[0m \u001b[0;34m=\u001b[0m \u001b[0mnode\u001b[0m\u001b[0;34m.\u001b[0m\u001b[0mbody\u001b[0m\u001b[0;34m[\u001b[0m\u001b[0;36m0\u001b[0m\u001b[0;34m]\u001b[0m\u001b[0;34m\u001b[0m\u001b[0;34m\u001b[0m\u001b[0m\n\u001b[0;32m--> 421\u001b[0;31m         \u001b[0;32mreturn\u001b[0m \u001b[0mself\u001b[0m\u001b[0;34m.\u001b[0m\u001b[0mvisit\u001b[0m\u001b[0;34m(\u001b[0m\u001b[0mexpr\u001b[0m\u001b[0;34m,\u001b[0m \u001b[0;34m**\u001b[0m\u001b[0mkwargs\u001b[0m\u001b[0;34m)\u001b[0m\u001b[0;34m\u001b[0m\u001b[0;34m\u001b[0m\u001b[0m\n\u001b[0m\u001b[1;32m    422\u001b[0m \u001b[0;34m\u001b[0m\u001b[0m\n\u001b[1;32m    423\u001b[0m     \u001b[0;32mdef\u001b[0m \u001b[0mvisit_Expr\u001b[0m\u001b[0;34m(\u001b[0m\u001b[0mself\u001b[0m\u001b[0;34m,\u001b[0m \u001b[0mnode\u001b[0m\u001b[0;34m,\u001b[0m \u001b[0;34m**\u001b[0m\u001b[0mkwargs\u001b[0m\u001b[0;34m)\u001b[0m\u001b[0;34m:\u001b[0m\u001b[0;34m\u001b[0m\u001b[0;34m\u001b[0m\u001b[0m\n",
      "\u001b[0;32m~/anaconda3/lib/python3.9/site-packages/pandas/core/computation/expr.py\u001b[0m in \u001b[0;36mvisit\u001b[0;34m(self, node, **kwargs)\u001b[0m\n\u001b[1;32m    413\u001b[0m         \u001b[0mmethod\u001b[0m \u001b[0;34m=\u001b[0m \u001b[0;34m\"visit_\"\u001b[0m \u001b[0;34m+\u001b[0m \u001b[0mtype\u001b[0m\u001b[0;34m(\u001b[0m\u001b[0mnode\u001b[0m\u001b[0;34m)\u001b[0m\u001b[0;34m.\u001b[0m\u001b[0m__name__\u001b[0m\u001b[0;34m\u001b[0m\u001b[0;34m\u001b[0m\u001b[0m\n\u001b[1;32m    414\u001b[0m         \u001b[0mvisitor\u001b[0m \u001b[0;34m=\u001b[0m \u001b[0mgetattr\u001b[0m\u001b[0;34m(\u001b[0m\u001b[0mself\u001b[0m\u001b[0;34m,\u001b[0m \u001b[0mmethod\u001b[0m\u001b[0;34m)\u001b[0m\u001b[0;34m\u001b[0m\u001b[0;34m\u001b[0m\u001b[0m\n\u001b[0;32m--> 415\u001b[0;31m         \u001b[0;32mreturn\u001b[0m \u001b[0mvisitor\u001b[0m\u001b[0;34m(\u001b[0m\u001b[0mnode\u001b[0m\u001b[0;34m,\u001b[0m \u001b[0;34m**\u001b[0m\u001b[0mkwargs\u001b[0m\u001b[0;34m)\u001b[0m\u001b[0;34m\u001b[0m\u001b[0;34m\u001b[0m\u001b[0m\n\u001b[0m\u001b[1;32m    416\u001b[0m \u001b[0;34m\u001b[0m\u001b[0m\n\u001b[1;32m    417\u001b[0m     \u001b[0;32mdef\u001b[0m \u001b[0mvisit_Module\u001b[0m\u001b[0;34m(\u001b[0m\u001b[0mself\u001b[0m\u001b[0;34m,\u001b[0m \u001b[0mnode\u001b[0m\u001b[0;34m,\u001b[0m \u001b[0;34m**\u001b[0m\u001b[0mkwargs\u001b[0m\u001b[0;34m)\u001b[0m\u001b[0;34m:\u001b[0m\u001b[0;34m\u001b[0m\u001b[0;34m\u001b[0m\u001b[0m\n",
      "\u001b[0;32m~/anaconda3/lib/python3.9/site-packages/pandas/core/computation/expr.py\u001b[0m in \u001b[0;36mvisit_Expr\u001b[0;34m(self, node, **kwargs)\u001b[0m\n\u001b[1;32m    422\u001b[0m \u001b[0;34m\u001b[0m\u001b[0m\n\u001b[1;32m    423\u001b[0m     \u001b[0;32mdef\u001b[0m \u001b[0mvisit_Expr\u001b[0m\u001b[0;34m(\u001b[0m\u001b[0mself\u001b[0m\u001b[0;34m,\u001b[0m \u001b[0mnode\u001b[0m\u001b[0;34m,\u001b[0m \u001b[0;34m**\u001b[0m\u001b[0mkwargs\u001b[0m\u001b[0;34m)\u001b[0m\u001b[0;34m:\u001b[0m\u001b[0;34m\u001b[0m\u001b[0;34m\u001b[0m\u001b[0m\n\u001b[0;32m--> 424\u001b[0;31m         \u001b[0;32mreturn\u001b[0m \u001b[0mself\u001b[0m\u001b[0;34m.\u001b[0m\u001b[0mvisit\u001b[0m\u001b[0;34m(\u001b[0m\u001b[0mnode\u001b[0m\u001b[0;34m.\u001b[0m\u001b[0mvalue\u001b[0m\u001b[0;34m,\u001b[0m \u001b[0;34m**\u001b[0m\u001b[0mkwargs\u001b[0m\u001b[0;34m)\u001b[0m\u001b[0;34m\u001b[0m\u001b[0;34m\u001b[0m\u001b[0m\n\u001b[0m\u001b[1;32m    425\u001b[0m \u001b[0;34m\u001b[0m\u001b[0m\n\u001b[1;32m    426\u001b[0m     \u001b[0;32mdef\u001b[0m \u001b[0m_rewrite_membership_op\u001b[0m\u001b[0;34m(\u001b[0m\u001b[0mself\u001b[0m\u001b[0;34m,\u001b[0m \u001b[0mnode\u001b[0m\u001b[0;34m,\u001b[0m \u001b[0mleft\u001b[0m\u001b[0;34m,\u001b[0m \u001b[0mright\u001b[0m\u001b[0;34m)\u001b[0m\u001b[0;34m:\u001b[0m\u001b[0;34m\u001b[0m\u001b[0;34m\u001b[0m\u001b[0m\n",
      "\u001b[0;32m~/anaconda3/lib/python3.9/site-packages/pandas/core/computation/expr.py\u001b[0m in \u001b[0;36mvisit\u001b[0;34m(self, node, **kwargs)\u001b[0m\n\u001b[1;32m    413\u001b[0m         \u001b[0mmethod\u001b[0m \u001b[0;34m=\u001b[0m \u001b[0;34m\"visit_\"\u001b[0m \u001b[0;34m+\u001b[0m \u001b[0mtype\u001b[0m\u001b[0;34m(\u001b[0m\u001b[0mnode\u001b[0m\u001b[0;34m)\u001b[0m\u001b[0;34m.\u001b[0m\u001b[0m__name__\u001b[0m\u001b[0;34m\u001b[0m\u001b[0;34m\u001b[0m\u001b[0m\n\u001b[1;32m    414\u001b[0m         \u001b[0mvisitor\u001b[0m \u001b[0;34m=\u001b[0m \u001b[0mgetattr\u001b[0m\u001b[0;34m(\u001b[0m\u001b[0mself\u001b[0m\u001b[0;34m,\u001b[0m \u001b[0mmethod\u001b[0m\u001b[0;34m)\u001b[0m\u001b[0;34m\u001b[0m\u001b[0;34m\u001b[0m\u001b[0m\n\u001b[0;32m--> 415\u001b[0;31m         \u001b[0;32mreturn\u001b[0m \u001b[0mvisitor\u001b[0m\u001b[0;34m(\u001b[0m\u001b[0mnode\u001b[0m\u001b[0;34m,\u001b[0m \u001b[0;34m**\u001b[0m\u001b[0mkwargs\u001b[0m\u001b[0;34m)\u001b[0m\u001b[0;34m\u001b[0m\u001b[0;34m\u001b[0m\u001b[0m\n\u001b[0m\u001b[1;32m    416\u001b[0m \u001b[0;34m\u001b[0m\u001b[0m\n\u001b[1;32m    417\u001b[0m     \u001b[0;32mdef\u001b[0m \u001b[0mvisit_Module\u001b[0m\u001b[0;34m(\u001b[0m\u001b[0mself\u001b[0m\u001b[0;34m,\u001b[0m \u001b[0mnode\u001b[0m\u001b[0;34m,\u001b[0m \u001b[0;34m**\u001b[0m\u001b[0mkwargs\u001b[0m\u001b[0;34m)\u001b[0m\u001b[0;34m:\u001b[0m\u001b[0;34m\u001b[0m\u001b[0;34m\u001b[0m\u001b[0m\n",
      "\u001b[0;32m~/anaconda3/lib/python3.9/site-packages/pandas/core/computation/expr.py\u001b[0m in \u001b[0;36mvisit_BoolOp\u001b[0;34m(self, node, **kwargs)\u001b[0m\n\u001b[1;32m    748\u001b[0m \u001b[0;34m\u001b[0m\u001b[0m\n\u001b[1;32m    749\u001b[0m         \u001b[0moperands\u001b[0m \u001b[0;34m=\u001b[0m \u001b[0mnode\u001b[0m\u001b[0;34m.\u001b[0m\u001b[0mvalues\u001b[0m\u001b[0;34m\u001b[0m\u001b[0;34m\u001b[0m\u001b[0m\n\u001b[0;32m--> 750\u001b[0;31m         \u001b[0;32mreturn\u001b[0m \u001b[0mreduce\u001b[0m\u001b[0;34m(\u001b[0m\u001b[0mvisitor\u001b[0m\u001b[0;34m,\u001b[0m \u001b[0moperands\u001b[0m\u001b[0;34m)\u001b[0m\u001b[0;34m\u001b[0m\u001b[0;34m\u001b[0m\u001b[0m\n\u001b[0m\u001b[1;32m    751\u001b[0m \u001b[0;34m\u001b[0m\u001b[0m\n\u001b[1;32m    752\u001b[0m \u001b[0;34m\u001b[0m\u001b[0m\n",
      "\u001b[0;32m~/anaconda3/lib/python3.9/site-packages/pandas/core/computation/expr.py\u001b[0m in \u001b[0;36mvisitor\u001b[0;34m(x, y)\u001b[0m\n\u001b[1;32m    741\u001b[0m     \u001b[0;32mdef\u001b[0m \u001b[0mvisit_BoolOp\u001b[0m\u001b[0;34m(\u001b[0m\u001b[0mself\u001b[0m\u001b[0;34m,\u001b[0m \u001b[0mnode\u001b[0m\u001b[0;34m,\u001b[0m \u001b[0;34m**\u001b[0m\u001b[0mkwargs\u001b[0m\u001b[0;34m)\u001b[0m\u001b[0;34m:\u001b[0m\u001b[0;34m\u001b[0m\u001b[0;34m\u001b[0m\u001b[0m\n\u001b[1;32m    742\u001b[0m         \u001b[0;32mdef\u001b[0m \u001b[0mvisitor\u001b[0m\u001b[0;34m(\u001b[0m\u001b[0mx\u001b[0m\u001b[0;34m,\u001b[0m \u001b[0my\u001b[0m\u001b[0;34m)\u001b[0m\u001b[0;34m:\u001b[0m\u001b[0;34m\u001b[0m\u001b[0;34m\u001b[0m\u001b[0m\n\u001b[0;32m--> 743\u001b[0;31m             \u001b[0mlhs\u001b[0m \u001b[0;34m=\u001b[0m \u001b[0mself\u001b[0m\u001b[0;34m.\u001b[0m\u001b[0m_try_visit_binop\u001b[0m\u001b[0;34m(\u001b[0m\u001b[0mx\u001b[0m\u001b[0;34m)\u001b[0m\u001b[0;34m\u001b[0m\u001b[0;34m\u001b[0m\u001b[0m\n\u001b[0m\u001b[1;32m    744\u001b[0m             \u001b[0mrhs\u001b[0m \u001b[0;34m=\u001b[0m \u001b[0mself\u001b[0m\u001b[0;34m.\u001b[0m\u001b[0m_try_visit_binop\u001b[0m\u001b[0;34m(\u001b[0m\u001b[0my\u001b[0m\u001b[0;34m)\u001b[0m\u001b[0;34m\u001b[0m\u001b[0;34m\u001b[0m\u001b[0m\n\u001b[1;32m    745\u001b[0m \u001b[0;34m\u001b[0m\u001b[0m\n",
      "\u001b[0;32m~/anaconda3/lib/python3.9/site-packages/pandas/core/computation/expr.py\u001b[0m in \u001b[0;36m_try_visit_binop\u001b[0;34m(self, bop)\u001b[0m\n\u001b[1;32m    737\u001b[0m         \u001b[0;32mif\u001b[0m \u001b[0misinstance\u001b[0m\u001b[0;34m(\u001b[0m\u001b[0mbop\u001b[0m\u001b[0;34m,\u001b[0m \u001b[0;34m(\u001b[0m\u001b[0mOp\u001b[0m\u001b[0;34m,\u001b[0m \u001b[0mTerm\u001b[0m\u001b[0;34m)\u001b[0m\u001b[0;34m)\u001b[0m\u001b[0;34m:\u001b[0m\u001b[0;34m\u001b[0m\u001b[0;34m\u001b[0m\u001b[0m\n\u001b[1;32m    738\u001b[0m             \u001b[0;32mreturn\u001b[0m \u001b[0mbop\u001b[0m\u001b[0;34m\u001b[0m\u001b[0;34m\u001b[0m\u001b[0m\n\u001b[0;32m--> 739\u001b[0;31m         \u001b[0;32mreturn\u001b[0m \u001b[0mself\u001b[0m\u001b[0;34m.\u001b[0m\u001b[0mvisit\u001b[0m\u001b[0;34m(\u001b[0m\u001b[0mbop\u001b[0m\u001b[0;34m)\u001b[0m\u001b[0;34m\u001b[0m\u001b[0;34m\u001b[0m\u001b[0m\n\u001b[0m\u001b[1;32m    740\u001b[0m \u001b[0;34m\u001b[0m\u001b[0m\n\u001b[1;32m    741\u001b[0m     \u001b[0;32mdef\u001b[0m \u001b[0mvisit_BoolOp\u001b[0m\u001b[0;34m(\u001b[0m\u001b[0mself\u001b[0m\u001b[0;34m,\u001b[0m \u001b[0mnode\u001b[0m\u001b[0;34m,\u001b[0m \u001b[0;34m**\u001b[0m\u001b[0mkwargs\u001b[0m\u001b[0;34m)\u001b[0m\u001b[0;34m:\u001b[0m\u001b[0;34m\u001b[0m\u001b[0;34m\u001b[0m\u001b[0m\n",
      "\u001b[0;32m~/anaconda3/lib/python3.9/site-packages/pandas/core/computation/expr.py\u001b[0m in \u001b[0;36mvisit\u001b[0;34m(self, node, **kwargs)\u001b[0m\n\u001b[1;32m    413\u001b[0m         \u001b[0mmethod\u001b[0m \u001b[0;34m=\u001b[0m \u001b[0;34m\"visit_\"\u001b[0m \u001b[0;34m+\u001b[0m \u001b[0mtype\u001b[0m\u001b[0;34m(\u001b[0m\u001b[0mnode\u001b[0m\u001b[0;34m)\u001b[0m\u001b[0;34m.\u001b[0m\u001b[0m__name__\u001b[0m\u001b[0;34m\u001b[0m\u001b[0;34m\u001b[0m\u001b[0m\n\u001b[1;32m    414\u001b[0m         \u001b[0mvisitor\u001b[0m \u001b[0;34m=\u001b[0m \u001b[0mgetattr\u001b[0m\u001b[0;34m(\u001b[0m\u001b[0mself\u001b[0m\u001b[0;34m,\u001b[0m \u001b[0mmethod\u001b[0m\u001b[0;34m)\u001b[0m\u001b[0;34m\u001b[0m\u001b[0;34m\u001b[0m\u001b[0m\n\u001b[0;32m--> 415\u001b[0;31m         \u001b[0;32mreturn\u001b[0m \u001b[0mvisitor\u001b[0m\u001b[0;34m(\u001b[0m\u001b[0mnode\u001b[0m\u001b[0;34m,\u001b[0m \u001b[0;34m**\u001b[0m\u001b[0mkwargs\u001b[0m\u001b[0;34m)\u001b[0m\u001b[0;34m\u001b[0m\u001b[0;34m\u001b[0m\u001b[0m\n\u001b[0m\u001b[1;32m    416\u001b[0m \u001b[0;34m\u001b[0m\u001b[0m\n\u001b[1;32m    417\u001b[0m     \u001b[0;32mdef\u001b[0m \u001b[0mvisit_Module\u001b[0m\u001b[0;34m(\u001b[0m\u001b[0mself\u001b[0m\u001b[0;34m,\u001b[0m \u001b[0mnode\u001b[0m\u001b[0;34m,\u001b[0m \u001b[0;34m**\u001b[0m\u001b[0mkwargs\u001b[0m\u001b[0;34m)\u001b[0m\u001b[0;34m:\u001b[0m\u001b[0;34m\u001b[0m\u001b[0;34m\u001b[0m\u001b[0m\n",
      "\u001b[0;32m~/anaconda3/lib/python3.9/site-packages/pandas/core/computation/expr.py\u001b[0m in \u001b[0;36mvisit_Compare\u001b[0;34m(self, node, **kwargs)\u001b[0m\n\u001b[1;32m    721\u001b[0m             \u001b[0mop\u001b[0m \u001b[0;34m=\u001b[0m \u001b[0mself\u001b[0m\u001b[0;34m.\u001b[0m\u001b[0mtranslate_In\u001b[0m\u001b[0;34m(\u001b[0m\u001b[0mops\u001b[0m\u001b[0;34m[\u001b[0m\u001b[0;36m0\u001b[0m\u001b[0;34m]\u001b[0m\u001b[0;34m)\u001b[0m\u001b[0;34m\u001b[0m\u001b[0;34m\u001b[0m\u001b[0m\n\u001b[1;32m    722\u001b[0m             \u001b[0mbinop\u001b[0m \u001b[0;34m=\u001b[0m \u001b[0mast\u001b[0m\u001b[0;34m.\u001b[0m\u001b[0mBinOp\u001b[0m\u001b[0;34m(\u001b[0m\u001b[0mop\u001b[0m\u001b[0;34m=\u001b[0m\u001b[0mop\u001b[0m\u001b[0;34m,\u001b[0m \u001b[0mleft\u001b[0m\u001b[0;34m=\u001b[0m\u001b[0mnode\u001b[0m\u001b[0;34m.\u001b[0m\u001b[0mleft\u001b[0m\u001b[0;34m,\u001b[0m \u001b[0mright\u001b[0m\u001b[0;34m=\u001b[0m\u001b[0mcomps\u001b[0m\u001b[0;34m[\u001b[0m\u001b[0;36m0\u001b[0m\u001b[0;34m]\u001b[0m\u001b[0;34m)\u001b[0m\u001b[0;34m\u001b[0m\u001b[0;34m\u001b[0m\u001b[0m\n\u001b[0;32m--> 723\u001b[0;31m             \u001b[0;32mreturn\u001b[0m \u001b[0mself\u001b[0m\u001b[0;34m.\u001b[0m\u001b[0mvisit\u001b[0m\u001b[0;34m(\u001b[0m\u001b[0mbinop\u001b[0m\u001b[0;34m)\u001b[0m\u001b[0;34m\u001b[0m\u001b[0;34m\u001b[0m\u001b[0m\n\u001b[0m\u001b[1;32m    724\u001b[0m \u001b[0;34m\u001b[0m\u001b[0m\n\u001b[1;32m    725\u001b[0m         \u001b[0;31m# recursive case: we have a chained comparison, a CMP b CMP c, etc.\u001b[0m\u001b[0;34m\u001b[0m\u001b[0;34m\u001b[0m\u001b[0m\n",
      "\u001b[0;32m~/anaconda3/lib/python3.9/site-packages/pandas/core/computation/expr.py\u001b[0m in \u001b[0;36mvisit\u001b[0;34m(self, node, **kwargs)\u001b[0m\n\u001b[1;32m    413\u001b[0m         \u001b[0mmethod\u001b[0m \u001b[0;34m=\u001b[0m \u001b[0;34m\"visit_\"\u001b[0m \u001b[0;34m+\u001b[0m \u001b[0mtype\u001b[0m\u001b[0;34m(\u001b[0m\u001b[0mnode\u001b[0m\u001b[0;34m)\u001b[0m\u001b[0;34m.\u001b[0m\u001b[0m__name__\u001b[0m\u001b[0;34m\u001b[0m\u001b[0;34m\u001b[0m\u001b[0m\n\u001b[1;32m    414\u001b[0m         \u001b[0mvisitor\u001b[0m \u001b[0;34m=\u001b[0m \u001b[0mgetattr\u001b[0m\u001b[0;34m(\u001b[0m\u001b[0mself\u001b[0m\u001b[0;34m,\u001b[0m \u001b[0mmethod\u001b[0m\u001b[0;34m)\u001b[0m\u001b[0;34m\u001b[0m\u001b[0;34m\u001b[0m\u001b[0m\n\u001b[0;32m--> 415\u001b[0;31m         \u001b[0;32mreturn\u001b[0m \u001b[0mvisitor\u001b[0m\u001b[0;34m(\u001b[0m\u001b[0mnode\u001b[0m\u001b[0;34m,\u001b[0m \u001b[0;34m**\u001b[0m\u001b[0mkwargs\u001b[0m\u001b[0;34m)\u001b[0m\u001b[0;34m\u001b[0m\u001b[0;34m\u001b[0m\u001b[0m\n\u001b[0m\u001b[1;32m    416\u001b[0m \u001b[0;34m\u001b[0m\u001b[0m\n\u001b[1;32m    417\u001b[0m     \u001b[0;32mdef\u001b[0m \u001b[0mvisit_Module\u001b[0m\u001b[0;34m(\u001b[0m\u001b[0mself\u001b[0m\u001b[0;34m,\u001b[0m \u001b[0mnode\u001b[0m\u001b[0;34m,\u001b[0m \u001b[0;34m**\u001b[0m\u001b[0mkwargs\u001b[0m\u001b[0;34m)\u001b[0m\u001b[0;34m:\u001b[0m\u001b[0;34m\u001b[0m\u001b[0;34m\u001b[0m\u001b[0m\n",
      "\u001b[0;32m~/anaconda3/lib/python3.9/site-packages/pandas/core/computation/expr.py\u001b[0m in \u001b[0;36mvisit_BinOp\u001b[0;34m(self, node, **kwargs)\u001b[0m\n\u001b[1;32m    534\u001b[0m \u001b[0;34m\u001b[0m\u001b[0m\n\u001b[1;32m    535\u001b[0m     \u001b[0;32mdef\u001b[0m \u001b[0mvisit_BinOp\u001b[0m\u001b[0;34m(\u001b[0m\u001b[0mself\u001b[0m\u001b[0;34m,\u001b[0m \u001b[0mnode\u001b[0m\u001b[0;34m,\u001b[0m \u001b[0;34m**\u001b[0m\u001b[0mkwargs\u001b[0m\u001b[0;34m)\u001b[0m\u001b[0;34m:\u001b[0m\u001b[0;34m\u001b[0m\u001b[0;34m\u001b[0m\u001b[0m\n\u001b[0;32m--> 536\u001b[0;31m         \u001b[0mop\u001b[0m\u001b[0;34m,\u001b[0m \u001b[0mop_class\u001b[0m\u001b[0;34m,\u001b[0m \u001b[0mleft\u001b[0m\u001b[0;34m,\u001b[0m \u001b[0mright\u001b[0m \u001b[0;34m=\u001b[0m \u001b[0mself\u001b[0m\u001b[0;34m.\u001b[0m\u001b[0m_maybe_transform_eq_ne\u001b[0m\u001b[0;34m(\u001b[0m\u001b[0mnode\u001b[0m\u001b[0;34m)\u001b[0m\u001b[0;34m\u001b[0m\u001b[0;34m\u001b[0m\u001b[0m\n\u001b[0m\u001b[1;32m    537\u001b[0m         \u001b[0mleft\u001b[0m\u001b[0;34m,\u001b[0m \u001b[0mright\u001b[0m \u001b[0;34m=\u001b[0m \u001b[0mself\u001b[0m\u001b[0;34m.\u001b[0m\u001b[0m_maybe_downcast_constants\u001b[0m\u001b[0;34m(\u001b[0m\u001b[0mleft\u001b[0m\u001b[0;34m,\u001b[0m \u001b[0mright\u001b[0m\u001b[0;34m)\u001b[0m\u001b[0;34m\u001b[0m\u001b[0;34m\u001b[0m\u001b[0m\n\u001b[1;32m    538\u001b[0m         \u001b[0;32mreturn\u001b[0m \u001b[0mself\u001b[0m\u001b[0;34m.\u001b[0m\u001b[0m_maybe_evaluate_binop\u001b[0m\u001b[0;34m(\u001b[0m\u001b[0mop\u001b[0m\u001b[0;34m,\u001b[0m \u001b[0mop_class\u001b[0m\u001b[0;34m,\u001b[0m \u001b[0mleft\u001b[0m\u001b[0;34m,\u001b[0m \u001b[0mright\u001b[0m\u001b[0;34m)\u001b[0m\u001b[0;34m\u001b[0m\u001b[0;34m\u001b[0m\u001b[0m\n",
      "\u001b[0;32m~/anaconda3/lib/python3.9/site-packages/pandas/core/computation/expr.py\u001b[0m in \u001b[0;36m_maybe_transform_eq_ne\u001b[0;34m(self, node, left, right)\u001b[0m\n\u001b[1;32m    454\u001b[0m     \u001b[0;32mdef\u001b[0m \u001b[0m_maybe_transform_eq_ne\u001b[0m\u001b[0;34m(\u001b[0m\u001b[0mself\u001b[0m\u001b[0;34m,\u001b[0m \u001b[0mnode\u001b[0m\u001b[0;34m,\u001b[0m \u001b[0mleft\u001b[0m\u001b[0;34m=\u001b[0m\u001b[0;32mNone\u001b[0m\u001b[0;34m,\u001b[0m \u001b[0mright\u001b[0m\u001b[0;34m=\u001b[0m\u001b[0;32mNone\u001b[0m\u001b[0;34m)\u001b[0m\u001b[0;34m:\u001b[0m\u001b[0;34m\u001b[0m\u001b[0;34m\u001b[0m\u001b[0m\n\u001b[1;32m    455\u001b[0m         \u001b[0;32mif\u001b[0m \u001b[0mleft\u001b[0m \u001b[0;32mis\u001b[0m \u001b[0;32mNone\u001b[0m\u001b[0;34m:\u001b[0m\u001b[0;34m\u001b[0m\u001b[0;34m\u001b[0m\u001b[0m\n\u001b[0;32m--> 456\u001b[0;31m             \u001b[0mleft\u001b[0m \u001b[0;34m=\u001b[0m \u001b[0mself\u001b[0m\u001b[0;34m.\u001b[0m\u001b[0mvisit\u001b[0m\u001b[0;34m(\u001b[0m\u001b[0mnode\u001b[0m\u001b[0;34m.\u001b[0m\u001b[0mleft\u001b[0m\u001b[0;34m,\u001b[0m \u001b[0mside\u001b[0m\u001b[0;34m=\u001b[0m\u001b[0;34m\"left\"\u001b[0m\u001b[0;34m)\u001b[0m\u001b[0;34m\u001b[0m\u001b[0;34m\u001b[0m\u001b[0m\n\u001b[0m\u001b[1;32m    457\u001b[0m         \u001b[0;32mif\u001b[0m \u001b[0mright\u001b[0m \u001b[0;32mis\u001b[0m \u001b[0;32mNone\u001b[0m\u001b[0;34m:\u001b[0m\u001b[0;34m\u001b[0m\u001b[0;34m\u001b[0m\u001b[0m\n\u001b[1;32m    458\u001b[0m             \u001b[0mright\u001b[0m \u001b[0;34m=\u001b[0m \u001b[0mself\u001b[0m\u001b[0;34m.\u001b[0m\u001b[0mvisit\u001b[0m\u001b[0;34m(\u001b[0m\u001b[0mnode\u001b[0m\u001b[0;34m.\u001b[0m\u001b[0mright\u001b[0m\u001b[0;34m,\u001b[0m \u001b[0mside\u001b[0m\u001b[0;34m=\u001b[0m\u001b[0;34m\"right\"\u001b[0m\u001b[0;34m)\u001b[0m\u001b[0;34m\u001b[0m\u001b[0;34m\u001b[0m\u001b[0m\n",
      "\u001b[0;32m~/anaconda3/lib/python3.9/site-packages/pandas/core/computation/expr.py\u001b[0m in \u001b[0;36mvisit\u001b[0;34m(self, node, **kwargs)\u001b[0m\n\u001b[1;32m    413\u001b[0m         \u001b[0mmethod\u001b[0m \u001b[0;34m=\u001b[0m \u001b[0;34m\"visit_\"\u001b[0m \u001b[0;34m+\u001b[0m \u001b[0mtype\u001b[0m\u001b[0;34m(\u001b[0m\u001b[0mnode\u001b[0m\u001b[0;34m)\u001b[0m\u001b[0;34m.\u001b[0m\u001b[0m__name__\u001b[0m\u001b[0;34m\u001b[0m\u001b[0;34m\u001b[0m\u001b[0m\n\u001b[1;32m    414\u001b[0m         \u001b[0mvisitor\u001b[0m \u001b[0;34m=\u001b[0m \u001b[0mgetattr\u001b[0m\u001b[0;34m(\u001b[0m\u001b[0mself\u001b[0m\u001b[0;34m,\u001b[0m \u001b[0mmethod\u001b[0m\u001b[0;34m)\u001b[0m\u001b[0;34m\u001b[0m\u001b[0;34m\u001b[0m\u001b[0m\n\u001b[0;32m--> 415\u001b[0;31m         \u001b[0;32mreturn\u001b[0m \u001b[0mvisitor\u001b[0m\u001b[0;34m(\u001b[0m\u001b[0mnode\u001b[0m\u001b[0;34m,\u001b[0m \u001b[0;34m**\u001b[0m\u001b[0mkwargs\u001b[0m\u001b[0;34m)\u001b[0m\u001b[0;34m\u001b[0m\u001b[0;34m\u001b[0m\u001b[0m\n\u001b[0m\u001b[1;32m    416\u001b[0m \u001b[0;34m\u001b[0m\u001b[0m\n\u001b[1;32m    417\u001b[0m     \u001b[0;32mdef\u001b[0m \u001b[0mvisit_Module\u001b[0m\u001b[0;34m(\u001b[0m\u001b[0mself\u001b[0m\u001b[0;34m,\u001b[0m \u001b[0mnode\u001b[0m\u001b[0;34m,\u001b[0m \u001b[0;34m**\u001b[0m\u001b[0mkwargs\u001b[0m\u001b[0;34m)\u001b[0m\u001b[0;34m:\u001b[0m\u001b[0;34m\u001b[0m\u001b[0;34m\u001b[0m\u001b[0m\n",
      "\u001b[0;32m~/anaconda3/lib/python3.9/site-packages/pandas/core/computation/expr.py\u001b[0m in \u001b[0;36mvisit_Name\u001b[0;34m(self, node, **kwargs)\u001b[0m\n\u001b[1;32m    547\u001b[0m \u001b[0;34m\u001b[0m\u001b[0m\n\u001b[1;32m    548\u001b[0m     \u001b[0;32mdef\u001b[0m \u001b[0mvisit_Name\u001b[0m\u001b[0;34m(\u001b[0m\u001b[0mself\u001b[0m\u001b[0;34m,\u001b[0m \u001b[0mnode\u001b[0m\u001b[0;34m,\u001b[0m \u001b[0;34m**\u001b[0m\u001b[0mkwargs\u001b[0m\u001b[0;34m)\u001b[0m\u001b[0;34m:\u001b[0m\u001b[0;34m\u001b[0m\u001b[0;34m\u001b[0m\u001b[0m\n\u001b[0;32m--> 549\u001b[0;31m         \u001b[0;32mreturn\u001b[0m \u001b[0mself\u001b[0m\u001b[0;34m.\u001b[0m\u001b[0mterm_type\u001b[0m\u001b[0;34m(\u001b[0m\u001b[0mnode\u001b[0m\u001b[0;34m.\u001b[0m\u001b[0mid\u001b[0m\u001b[0;34m,\u001b[0m \u001b[0mself\u001b[0m\u001b[0;34m.\u001b[0m\u001b[0menv\u001b[0m\u001b[0;34m,\u001b[0m \u001b[0;34m**\u001b[0m\u001b[0mkwargs\u001b[0m\u001b[0;34m)\u001b[0m\u001b[0;34m\u001b[0m\u001b[0;34m\u001b[0m\u001b[0m\n\u001b[0m\u001b[1;32m    550\u001b[0m \u001b[0;34m\u001b[0m\u001b[0m\n\u001b[1;32m    551\u001b[0m     \u001b[0;32mdef\u001b[0m \u001b[0mvisit_NameConstant\u001b[0m\u001b[0;34m(\u001b[0m\u001b[0mself\u001b[0m\u001b[0;34m,\u001b[0m \u001b[0mnode\u001b[0m\u001b[0;34m,\u001b[0m \u001b[0;34m**\u001b[0m\u001b[0mkwargs\u001b[0m\u001b[0;34m)\u001b[0m\u001b[0;34m:\u001b[0m\u001b[0;34m\u001b[0m\u001b[0;34m\u001b[0m\u001b[0m\n",
      "\u001b[0;32m~/anaconda3/lib/python3.9/site-packages/pandas/core/computation/ops.py\u001b[0m in \u001b[0;36m__init__\u001b[0;34m(self, name, env, side, encoding)\u001b[0m\n\u001b[1;32m     96\u001b[0m         \u001b[0mtname\u001b[0m \u001b[0;34m=\u001b[0m \u001b[0mstr\u001b[0m\u001b[0;34m(\u001b[0m\u001b[0mname\u001b[0m\u001b[0;34m)\u001b[0m\u001b[0;34m\u001b[0m\u001b[0;34m\u001b[0m\u001b[0m\n\u001b[1;32m     97\u001b[0m         \u001b[0mself\u001b[0m\u001b[0;34m.\u001b[0m\u001b[0mis_local\u001b[0m \u001b[0;34m=\u001b[0m \u001b[0mtname\u001b[0m\u001b[0;34m.\u001b[0m\u001b[0mstartswith\u001b[0m\u001b[0;34m(\u001b[0m\u001b[0mLOCAL_TAG\u001b[0m\u001b[0;34m)\u001b[0m \u001b[0;32mor\u001b[0m \u001b[0mtname\u001b[0m \u001b[0;32min\u001b[0m \u001b[0mDEFAULT_GLOBALS\u001b[0m\u001b[0;34m\u001b[0m\u001b[0;34m\u001b[0m\u001b[0m\n\u001b[0;32m---> 98\u001b[0;31m         \u001b[0mself\u001b[0m\u001b[0;34m.\u001b[0m\u001b[0m_value\u001b[0m \u001b[0;34m=\u001b[0m \u001b[0mself\u001b[0m\u001b[0;34m.\u001b[0m\u001b[0m_resolve_name\u001b[0m\u001b[0;34m(\u001b[0m\u001b[0;34m)\u001b[0m\u001b[0;34m\u001b[0m\u001b[0;34m\u001b[0m\u001b[0m\n\u001b[0m\u001b[1;32m     99\u001b[0m         \u001b[0mself\u001b[0m\u001b[0;34m.\u001b[0m\u001b[0mencoding\u001b[0m \u001b[0;34m=\u001b[0m \u001b[0mencoding\u001b[0m\u001b[0;34m\u001b[0m\u001b[0;34m\u001b[0m\u001b[0m\n\u001b[1;32m    100\u001b[0m \u001b[0;34m\u001b[0m\u001b[0m\n",
      "\u001b[0;32m~/anaconda3/lib/python3.9/site-packages/pandas/core/computation/ops.py\u001b[0m in \u001b[0;36m_resolve_name\u001b[0;34m(self)\u001b[0m\n\u001b[1;32m    113\u001b[0m \u001b[0;34m\u001b[0m\u001b[0m\n\u001b[1;32m    114\u001b[0m     \u001b[0;32mdef\u001b[0m \u001b[0m_resolve_name\u001b[0m\u001b[0;34m(\u001b[0m\u001b[0mself\u001b[0m\u001b[0;34m)\u001b[0m\u001b[0;34m:\u001b[0m\u001b[0;34m\u001b[0m\u001b[0;34m\u001b[0m\u001b[0m\n\u001b[0;32m--> 115\u001b[0;31m         \u001b[0mres\u001b[0m \u001b[0;34m=\u001b[0m \u001b[0mself\u001b[0m\u001b[0;34m.\u001b[0m\u001b[0menv\u001b[0m\u001b[0;34m.\u001b[0m\u001b[0mresolve\u001b[0m\u001b[0;34m(\u001b[0m\u001b[0mself\u001b[0m\u001b[0;34m.\u001b[0m\u001b[0mlocal_name\u001b[0m\u001b[0;34m,\u001b[0m \u001b[0mis_local\u001b[0m\u001b[0;34m=\u001b[0m\u001b[0mself\u001b[0m\u001b[0;34m.\u001b[0m\u001b[0mis_local\u001b[0m\u001b[0;34m)\u001b[0m\u001b[0;34m\u001b[0m\u001b[0;34m\u001b[0m\u001b[0m\n\u001b[0m\u001b[1;32m    116\u001b[0m         \u001b[0mself\u001b[0m\u001b[0;34m.\u001b[0m\u001b[0mupdate\u001b[0m\u001b[0;34m(\u001b[0m\u001b[0mres\u001b[0m\u001b[0;34m)\u001b[0m\u001b[0;34m\u001b[0m\u001b[0;34m\u001b[0m\u001b[0m\n\u001b[1;32m    117\u001b[0m \u001b[0;34m\u001b[0m\u001b[0m\n",
      "\u001b[0;32m~/anaconda3/lib/python3.9/site-packages/pandas/core/computation/scope.py\u001b[0m in \u001b[0;36mresolve\u001b[0;34m(self, key, is_local)\u001b[0m\n\u001b[1;32m    211\u001b[0m                 \u001b[0;32mfrom\u001b[0m \u001b[0mpandas\u001b[0m\u001b[0;34m.\u001b[0m\u001b[0mcore\u001b[0m\u001b[0;34m.\u001b[0m\u001b[0mcomputation\u001b[0m\u001b[0;34m.\u001b[0m\u001b[0mops\u001b[0m \u001b[0;32mimport\u001b[0m \u001b[0mUndefinedVariableError\u001b[0m\u001b[0;34m\u001b[0m\u001b[0;34m\u001b[0m\u001b[0m\n\u001b[1;32m    212\u001b[0m \u001b[0;34m\u001b[0m\u001b[0m\n\u001b[0;32m--> 213\u001b[0;31m                 \u001b[0;32mraise\u001b[0m \u001b[0mUndefinedVariableError\u001b[0m\u001b[0;34m(\u001b[0m\u001b[0mkey\u001b[0m\u001b[0;34m,\u001b[0m \u001b[0mis_local\u001b[0m\u001b[0;34m)\u001b[0m \u001b[0;32mfrom\u001b[0m \u001b[0merr\u001b[0m\u001b[0;34m\u001b[0m\u001b[0;34m\u001b[0m\u001b[0m\n\u001b[0m\u001b[1;32m    214\u001b[0m \u001b[0;34m\u001b[0m\u001b[0m\n\u001b[1;32m    215\u001b[0m     \u001b[0;32mdef\u001b[0m \u001b[0mswapkey\u001b[0m\u001b[0;34m(\u001b[0m\u001b[0mself\u001b[0m\u001b[0;34m,\u001b[0m \u001b[0mold_key\u001b[0m\u001b[0;34m:\u001b[0m \u001b[0mstr\u001b[0m\u001b[0;34m,\u001b[0m \u001b[0mnew_key\u001b[0m\u001b[0;34m:\u001b[0m \u001b[0mstr\u001b[0m\u001b[0;34m,\u001b[0m \u001b[0mnew_value\u001b[0m\u001b[0;34m=\u001b[0m\u001b[0;32mNone\u001b[0m\u001b[0;34m)\u001b[0m \u001b[0;34m->\u001b[0m \u001b[0;32mNone\u001b[0m\u001b[0;34m:\u001b[0m\u001b[0;34m\u001b[0m\u001b[0;34m\u001b[0m\u001b[0m\n",
      "\u001b[0;31mUndefinedVariableError\u001b[0m: name 'coef_LB' is not defined"
     ]
    }
   ],
   "source": [
    "tiers12_stats.query('coef_LB > 0 & (BH_pval < 0.01 | LRT_BH_pval < 0.01)')"
   ]
  },
  {
   "cell_type": "code",
   "execution_count": 64,
   "id": "d45f475c-88f3-4271-aa90-73e9309a3308",
   "metadata": {},
   "outputs": [
    {
     "data": {
      "text/plain": [
       "(13, 14)"
      ]
     },
     "execution_count": 64,
     "metadata": {},
     "output_type": "execute_result"
    }
   ],
   "source": [
    "tier1_model.query('Odds_Ratio > 1.25').shape"
   ]
  },
  {
   "cell_type": "code",
   "execution_count": null,
   "id": "dd501215-52d0-49bb-8375-3e8c74b36ec1",
   "metadata": {},
   "outputs": [],
   "source": []
  },
  {
   "cell_type": "code",
   "execution_count": 9,
   "id": "38bba776-9f1a-46f7-896f-ef1d58d9ef25",
   "metadata": {},
   "outputs": [
    {
     "data": {
      "text/html": [
       "<div>\n",
       "<style scoped>\n",
       "    .dataframe tbody tr th:only-of-type {\n",
       "        vertical-align: middle;\n",
       "    }\n",
       "\n",
       "    .dataframe tbody tr th {\n",
       "        vertical-align: top;\n",
       "    }\n",
       "\n",
       "    .dataframe thead th {\n",
       "        text-align: right;\n",
       "    }\n",
       "</style>\n",
       "<table border=\"1\" class=\"dataframe\">\n",
       "  <thead>\n",
       "    <tr style=\"text-align: right;\">\n",
       "      <th></th>\n",
       "      <th>mutation</th>\n",
       "      <th>coef</th>\n",
       "      <th>coef_LB</th>\n",
       "      <th>coef_UB</th>\n",
       "      <th>pval</th>\n",
       "      <th>BH_pval</th>\n",
       "      <th>Bonferroni_pval</th>\n",
       "      <th>Odds_Ratio</th>\n",
       "      <th>OR_LB</th>\n",
       "      <th>OR_UB</th>\n",
       "      <th>confidence</th>\n",
       "      <th>LRT_pval</th>\n",
       "      <th>LRT_BH_pval</th>\n",
       "      <th>LRT_Bonferroni_pval</th>\n",
       "    </tr>\n",
       "  </thead>\n",
       "  <tbody>\n",
       "    <tr>\n",
       "      <th>1</th>\n",
       "      <td>rpoC_p.Glu1092Asp</td>\n",
       "      <td>0.212831</td>\n",
       "      <td>0.147201</td>\n",
       "      <td>0.282702</td>\n",
       "      <td>0.0</td>\n",
       "      <td>0.0</td>\n",
       "      <td>0.0</td>\n",
       "      <td>1.237176</td>\n",
       "      <td>1.158587</td>\n",
       "      <td>1.326710</td>\n",
       "      <td>5) Not assoc w R</td>\n",
       "      <td>5.033098e-07</td>\n",
       "      <td>0.000716</td>\n",
       "      <td>0.001432</td>\n",
       "    </tr>\n",
       "    <tr>\n",
       "      <th>20</th>\n",
       "      <td>Rv2752c_p.Asn30Ser</td>\n",
       "      <td>0.099783</td>\n",
       "      <td>0.046205</td>\n",
       "      <td>0.149246</td>\n",
       "      <td>0.0</td>\n",
       "      <td>0.0</td>\n",
       "      <td>0.0</td>\n",
       "      <td>1.104931</td>\n",
       "      <td>1.047289</td>\n",
       "      <td>1.160958</td>\n",
       "      <td>3) Uncertain significance</td>\n",
       "      <td>1.480226e-07</td>\n",
       "      <td>0.000421</td>\n",
       "      <td>0.000421</td>\n",
       "    </tr>\n",
       "  </tbody>\n",
       "</table>\n",
       "</div>"
      ],
      "text/plain": [
       "              mutation      coef   coef_LB   coef_UB  pval  BH_pval  \\\n",
       "1    rpoC_p.Glu1092Asp  0.212831  0.147201  0.282702   0.0      0.0   \n",
       "20  Rv2752c_p.Asn30Ser  0.099783  0.046205  0.149246   0.0      0.0   \n",
       "\n",
       "    Bonferroni_pval  Odds_Ratio     OR_LB     OR_UB  \\\n",
       "1               0.0    1.237176  1.158587  1.326710   \n",
       "20              0.0    1.104931  1.047289  1.160958   \n",
       "\n",
       "                   confidence      LRT_pval  LRT_BH_pval  LRT_Bonferroni_pval  \n",
       "1            5) Not assoc w R  5.033098e-07     0.000716             0.001432  \n",
       "20  3) Uncertain significance  1.480226e-07     0.000421             0.000421  "
      ]
     },
     "execution_count": 9,
     "metadata": {},
     "output_type": "execute_result"
    }
   ],
   "source": [
    "thresh = 0.01\n",
    "tier2_model.query('Odds_Ratio > 1 & (BH_pval < @thresh & LRT_BH_pval < @thresh)')"
   ]
  },
  {
   "cell_type": "code",
   "execution_count": 10,
   "id": "f663a819-0bb5-4d69-bd6c-2a1d3b1a6d40",
   "metadata": {},
   "outputs": [
    {
     "data": {
      "text/html": [
       "<div>\n",
       "<style scoped>\n",
       "    .dataframe tbody tr th:only-of-type {\n",
       "        vertical-align: middle;\n",
       "    }\n",
       "\n",
       "    .dataframe tbody tr th {\n",
       "        vertical-align: top;\n",
       "    }\n",
       "\n",
       "    .dataframe thead th {\n",
       "        text-align: right;\n",
       "    }\n",
       "</style>\n",
       "<table border=\"1\" class=\"dataframe\">\n",
       "  <thead>\n",
       "    <tr style=\"text-align: right;\">\n",
       "      <th></th>\n",
       "      <th>mutation</th>\n",
       "      <th>coef</th>\n",
       "      <th>coef_LB</th>\n",
       "      <th>coef_UB</th>\n",
       "      <th>pval</th>\n",
       "      <th>BH_pval</th>\n",
       "      <th>Bonferroni_pval</th>\n",
       "      <th>Odds_Ratio</th>\n",
       "      <th>OR_LB</th>\n",
       "      <th>OR_UB</th>\n",
       "      <th>confidence</th>\n",
       "      <th>LRT_pval</th>\n",
       "      <th>LRT_BH_pval</th>\n",
       "      <th>LRT_Bonferroni_pval</th>\n",
       "    </tr>\n",
       "  </thead>\n",
       "  <tbody>\n",
       "    <tr>\n",
       "      <th>197</th>\n",
       "      <td>glpK_p.Val192fs</td>\n",
       "      <td>0.027247</td>\n",
       "      <td>-0.011605</td>\n",
       "      <td>0.064002</td>\n",
       "      <td>0.023</td>\n",
       "      <td>0.194479</td>\n",
       "      <td>1.0</td>\n",
       "      <td>1.027622</td>\n",
       "      <td>0.988462</td>\n",
       "      <td>1.066094</td>\n",
       "      <td>NaN</td>\n",
       "      <td>1.0</td>\n",
       "      <td>1.0</td>\n",
       "      <td>1.0</td>\n",
       "    </tr>\n",
       "  </tbody>\n",
       "</table>\n",
       "</div>"
      ],
      "text/plain": [
       "            mutation      coef   coef_LB   coef_UB   pval   BH_pval  \\\n",
       "197  glpK_p.Val192fs  0.027247 -0.011605  0.064002  0.023  0.194479   \n",
       "\n",
       "     Bonferroni_pval  Odds_Ratio     OR_LB     OR_UB confidence  LRT_pval  \\\n",
       "197              1.0    1.027622  0.988462  1.066094        NaN       1.0   \n",
       "\n",
       "     LRT_BH_pval  LRT_Bonferroni_pval  \n",
       "197          1.0                  1.0  "
      ]
     },
     "execution_count": 10,
     "metadata": {},
     "output_type": "execute_result"
    }
   ],
   "source": [
    "# this was the other mutation they called attention to as not being resistance-associated\n",
    "tier2_model.query(\"mutation=='glpK_p.Val192fs'\")"
   ]
  },
  {
   "cell_type": "code",
   "execution_count": 51,
   "id": "480d217d-0b8d-4fda-9514-54002dca8e4c",
   "metadata": {},
   "outputs": [
    {
     "name": "stdout",
     "output_type": "stream",
     "text": [
      "137 103\n",
      "240\n"
     ]
    }
   ],
   "source": [
    "thresh = 0.05\n",
    "tier1_sig_variants = tier1_model.query('Odds_Ratio > 1 & (BH_pval < @thresh | LRT_BH_pval < @thresh)')[\"mutation\"].values\n",
    "\n",
    "thresh = 0.01\n",
    "tier2_sig_variants = tier2_model.query('Odds_Ratio > 1 & (BH_pval < @thresh | LRT_BH_pval < @thresh)')[\"mutation\"].values\n",
    "print(len(tier1_sig_variants), len(tier2_sig_variants))\n",
    "\n",
    "combined_variants = np.concatenate([tier1_sig_variants, tier2_sig_variants])\n",
    "print(len(np.unique(combined_variants)))\n",
    "        \n",
    "combined_variants_df = pd.DataFrame({\"mutation\": combined_variants, \"Tier\": [\"1\"]*len(tier1_sig_variants) + [\"2\"]*len(tier2_sig_variants)})\n",
    "\n",
    "# USE THIS LIST FOR THE FINAL PREDICTION MODELS\n",
    "#combined_variants_df.to_csv(os.path.join(analysis_dir, drug, \"BINARY/prediction_models/ridge_AND_LRT_variants.csv\"), index=False)\n",
    "#combined_variants_df.to_csv(os.path.join(analysis_dir, drug, \"BINARY/prediction_models/ridge_OR_LRT_variants.csv\"), index=False)\n"
   ]
  },
  {
   "cell_type": "markdown",
   "id": "dfa8de65-a56c-49a1-abd1-d07f613fdaad",
   "metadata": {},
   "source": [
    "# Final Prediction Model: For Rifampicin, Adding tier 2 genes doesn't significantly improve binary metrics"
   ]
  },
  {
   "cell_type": "code",
   "execution_count": 12,
   "id": "3e647792-aacf-4fd5-be49-52fa3586f51e",
   "metadata": {},
   "outputs": [
    {
     "data": {
      "text/html": [
       "<div>\n",
       "<style scoped>\n",
       "    .dataframe tbody tr th:only-of-type {\n",
       "        vertical-align: middle;\n",
       "    }\n",
       "\n",
       "    .dataframe tbody tr th {\n",
       "        vertical-align: top;\n",
       "    }\n",
       "\n",
       "    .dataframe thead th {\n",
       "        text-align: right;\n",
       "    }\n",
       "</style>\n",
       "<table border=\"1\" class=\"dataframe\">\n",
       "  <thead>\n",
       "    <tr style=\"text-align: right;\">\n",
       "      <th></th>\n",
       "      <th>Metric</th>\n",
       "      <th>pval</th>\n",
       "    </tr>\n",
       "  </thead>\n",
       "  <tbody>\n",
       "    <tr>\n",
       "      <th>0</th>\n",
       "      <td>test_roc_auc</td>\n",
       "      <td>0.868314</td>\n",
       "    </tr>\n",
       "    <tr>\n",
       "      <th>1</th>\n",
       "      <td>test_accuracy</td>\n",
       "      <td>0.981951</td>\n",
       "    </tr>\n",
       "    <tr>\n",
       "      <th>2</th>\n",
       "      <td>test_balanced_accuracy</td>\n",
       "      <td>0.933191</td>\n",
       "    </tr>\n",
       "    <tr>\n",
       "      <th>3</th>\n",
       "      <td>test_spec</td>\n",
       "      <td>0.918947</td>\n",
       "    </tr>\n",
       "    <tr>\n",
       "      <th>4</th>\n",
       "      <td>test_sens</td>\n",
       "      <td>0.884981</td>\n",
       "    </tr>\n",
       "  </tbody>\n",
       "</table>\n",
       "</div>"
      ],
      "text/plain": [
       "                   Metric      pval\n",
       "0            test_roc_auc  0.868314\n",
       "1           test_accuracy  0.981951\n",
       "2  test_balanced_accuracy  0.933191\n",
       "3               test_spec  0.918947\n",
       "4               test_sens  0.884981"
      ]
     },
     "execution_count": 12,
     "metadata": {},
     "output_type": "execute_result"
    }
   ],
   "source": [
    "phenos_name = \"WHO\"\n",
    "tiers_lst = [\"1\"]\n",
    "predict_model_tier1 = pd.read_csv(os.path.join(analysis_dir, drug, f\"tiers={'+'.join(tiers_lst)}_phenos={phenos_name}_CV_results.csv\"))\n",
    "\n",
    "tiers_lst = [\"1\", \"2\"]\n",
    "predict_model_tiers12 = pd.read_csv(os.path.join(analysis_dir, drug, f\"tiers={'+'.join(tiers_lst)}_phenos={phenos_name}_CV_results.csv\"))\n",
    "\n",
    "pd.DataFrame({\"Metric\": predict_model_tier1.columns,\n",
    "              \"pval\": st.ttest_ind(predict_model_tier1, predict_model_tiers12, axis=0, equal_var=False, alternative='two-sided')[1]\n",
    "             })"
   ]
  },
  {
   "cell_type": "markdown",
   "id": "651dd7e7-b428-4b87-bc0f-5946578a8e19",
   "metadata": {},
   "source": [
    "# 2. Perform 5-fold cross-validation for all models to see how AUC, Sens, Spec, and Accuracy change\n",
    "\n",
    "Each feature is removed from the model, and the model is refit using 5-fold cross-validation. \n",
    "\n",
    "Then we perform a Student's t-test for difference of means compared to the original model to see if the metrics change significantly\n",
    "\n",
    "NO TIER 2 MUTATIONS ARE SIGNIFICANT IN THIS WAY, AND ONLY 2 TIER 1 MUTATIONS ARE FOUND. WAY TOO STRICT"
   ]
  },
  {
   "cell_type": "code",
   "execution_count": 39,
   "id": "8b9d72b2-6e0e-4bc7-b8ad-39cf938671da",
   "metadata": {},
   "outputs": [],
   "source": [
    "del ref_tier1"
   ]
  },
  {
   "cell_type": "code",
   "execution_count": 40,
   "id": "c23725a6-7c32-4fc8-8db7-34157bb18b10",
   "metadata": {},
   "outputs": [],
   "source": [
    "del ref_tier2"
   ]
  },
  {
   "cell_type": "code",
   "execution_count": 32,
   "id": "10abfb2f-f09d-4e46-b434-f2140dcab230",
   "metadata": {},
   "outputs": [],
   "source": [
    "tier1_metrics_CV = pd.read_csv(os.path.join(out_dir, f\"tier=1_binaryMetrics_CV.csv\"), index_col=[0])\n",
    "tier2_metrics_CV = pd.read_csv(os.path.join(out_dir, f\"tier=2_binaryMetrics_CV.csv\"), index_col=[0])\n",
    "\n",
    "def determine_binaryMetrics_significant(cv_df, thresh, alt=\"two-sided\"):\n",
    "    \n",
    "    ref = cv_df.loc[\"FULL\"]\n",
    "    \n",
    "    for mutation in cv_df.index.unique():\n",
    "\n",
    "        # can also use alternative = 'greater' to see if removing the mutation causes a significant decrease in metrics. FOR TIER 1, THEY GIVE THE SAME RESULTS\n",
    "        pvals = st.ttest_ind(ref.iloc[:, :-1], cv_df.loc[mutation].iloc[:, :-1], axis=0, equal_var=False, alternative='two-sided')[1]\n",
    "\n",
    "        # any p-value is less than the threshold, print it\n",
    "        if sum(pvals < thresh) > 0:\n",
    "            print(f\"{mutation}, {cv_df.loc[mutation, 'confidence'].unique()[0]} \\n{dict(zip(cv_df.columns, np.round(pvals, 4)))}\")        "
   ]
  },
  {
   "cell_type": "code",
   "execution_count": 33,
   "id": "31b2e892-4cea-4048-bdac-e68c518ddf75",
   "metadata": {},
   "outputs": [
    {
     "name": "stdout",
     "output_type": "stream",
     "text": [
      "rpoB_p.Asp435Val, 1) Assoc w R \n",
      "{'test_roc_auc': 0.1056, 'test_sens': 0.0157, 'test_spec': 0.9792, 'test_accuracy': 0.0778, 'test_balanced_accuracy': 0.0369}\n",
      "rpoB_p.Ser450Leu, 1) Assoc w R \n",
      "{'test_roc_auc': 0.002, 'test_sens': 0.0009, 'test_spec': 0.0128, 'test_accuracy': 0.0048, 'test_balanced_accuracy': 0.0028}\n"
     ]
    }
   ],
   "source": [
    "determine_binaryMetrics_significant(tier1_metrics_CV, 0.05)"
   ]
  },
  {
   "cell_type": "code",
   "execution_count": 34,
   "id": "42974f42-d43c-4dd7-89b8-676497f2669f",
   "metadata": {},
   "outputs": [
    {
     "name": "stdout",
     "output_type": "stream",
     "text": [
      "rpoB_p.Asp435Val, 1) Assoc w R \n",
      "{'test_roc_auc': 0.1056, 'test_sens': 0.0157, 'test_spec': 0.9792, 'test_accuracy': 0.0778, 'test_balanced_accuracy': 0.0369}\n",
      "rpoB_p.Ser450Leu, 1) Assoc w R \n",
      "{'test_roc_auc': 0.002, 'test_sens': 0.0009, 'test_spec': 0.0128, 'test_accuracy': 0.0048, 'test_balanced_accuracy': 0.0028}\n"
     ]
    }
   ],
   "source": [
    "determine_binaryMetrics_significant(tier1_metrics_CV, 0.05, alt='greater')"
   ]
  },
  {
   "cell_type": "markdown",
   "id": "51ff9fee-e0ea-4908-ad04-750f663165f2",
   "metadata": {},
   "source": [
    "# 3. Model with Interaction Terms\n",
    "\n",
    "Create Tier 1 + Tier 2 interaction terms for mutations that are significant in both the Ridge regression and the LRT\n",
    "\n",
    "Chose 2 variants because they were the only Tier 2 genes that were significantly associated in the Ridge regression and were significant in the LRT"
   ]
  },
  {
   "cell_type": "code",
   "execution_count": 17,
   "id": "c88b8b80-1690-4a6c-8b5f-1dddf193a3f6",
   "metadata": {},
   "outputs": [
    {
     "data": {
      "text/html": [
       "<div>\n",
       "<style scoped>\n",
       "    .dataframe tbody tr th:only-of-type {\n",
       "        vertical-align: middle;\n",
       "    }\n",
       "\n",
       "    .dataframe tbody tr th {\n",
       "        vertical-align: top;\n",
       "    }\n",
       "\n",
       "    .dataframe thead th {\n",
       "        text-align: right;\n",
       "    }\n",
       "</style>\n",
       "<table border=\"1\" class=\"dataframe\">\n",
       "  <thead>\n",
       "    <tr style=\"text-align: right;\">\n",
       "      <th></th>\n",
       "      <th>mutation</th>\n",
       "      <th>coef</th>\n",
       "      <th>coef_LB</th>\n",
       "      <th>coef_UB</th>\n",
       "      <th>pval</th>\n",
       "      <th>BH_pval</th>\n",
       "      <th>Bonferroni_pval</th>\n",
       "      <th>Odds_Ratio</th>\n",
       "      <th>OR_LB</th>\n",
       "      <th>OR_UB</th>\n",
       "      <th>confidence</th>\n",
       "      <th>LRT_pval</th>\n",
       "      <th>LRT_BH_pval</th>\n",
       "      <th>LRT_Bonferroni_pval</th>\n",
       "    </tr>\n",
       "  </thead>\n",
       "  <tbody>\n",
       "    <tr>\n",
       "      <th>1</th>\n",
       "      <td>rpoC_p.Glu1092Asp</td>\n",
       "      <td>0.212831</td>\n",
       "      <td>0.147201</td>\n",
       "      <td>0.282702</td>\n",
       "      <td>0.0</td>\n",
       "      <td>0.0</td>\n",
       "      <td>0.0</td>\n",
       "      <td>1.237176</td>\n",
       "      <td>1.158587</td>\n",
       "      <td>1.326710</td>\n",
       "      <td>5) Not assoc w R</td>\n",
       "      <td>5.033098e-07</td>\n",
       "      <td>0.000716</td>\n",
       "      <td>0.001432</td>\n",
       "    </tr>\n",
       "    <tr>\n",
       "      <th>20</th>\n",
       "      <td>Rv2752c_p.Asn30Ser</td>\n",
       "      <td>0.099783</td>\n",
       "      <td>0.046205</td>\n",
       "      <td>0.149246</td>\n",
       "      <td>0.0</td>\n",
       "      <td>0.0</td>\n",
       "      <td>0.0</td>\n",
       "      <td>1.104931</td>\n",
       "      <td>1.047289</td>\n",
       "      <td>1.160958</td>\n",
       "      <td>3) Uncertain significance</td>\n",
       "      <td>1.480226e-07</td>\n",
       "      <td>0.000421</td>\n",
       "      <td>0.000421</td>\n",
       "    </tr>\n",
       "  </tbody>\n",
       "</table>\n",
       "</div>"
      ],
      "text/plain": [
       "              mutation      coef   coef_LB   coef_UB  pval  BH_pval  \\\n",
       "1    rpoC_p.Glu1092Asp  0.212831  0.147201  0.282702   0.0      0.0   \n",
       "20  Rv2752c_p.Asn30Ser  0.099783  0.046205  0.149246   0.0      0.0   \n",
       "\n",
       "    Bonferroni_pval  Odds_Ratio     OR_LB     OR_UB  \\\n",
       "1               0.0    1.237176  1.158587  1.326710   \n",
       "20              0.0    1.104931  1.047289  1.160958   \n",
       "\n",
       "                   confidence      LRT_pval  LRT_BH_pval  LRT_Bonferroni_pval  \n",
       "1            5) Not assoc w R  5.033098e-07     0.000716             0.001432  \n",
       "20  3) Uncertain significance  1.480226e-07     0.000421             0.000421  "
      ]
     },
     "execution_count": 17,
     "metadata": {},
     "output_type": "execute_result"
    }
   ],
   "source": [
    "thresh = 0.01\n",
    "tier2_model.query('BH_pval < @thresh & LRT_BH_pval < @thresh')"
   ]
  },
  {
   "cell_type": "code",
   "execution_count": 18,
   "id": "0a490028-8614-4b27-86bf-51612d571e1d",
   "metadata": {},
   "outputs": [
    {
     "data": {
      "text/plain": [
       "(30984, 3737)"
      ]
     },
     "execution_count": 18,
     "metadata": {},
     "output_type": "execute_result"
    }
   ],
   "source": [
    "thresh = 0.01\n",
    "interact_mut = tier2_model.query('BH_pval < @thresh & LRT_BH_pval < @thresh')[\"mutation\"].values\n",
    "df_phenos = pd.read_csv(os.path.join(analysis_dir, drug, \"phenos_binary.csv\")).set_index(\"sample_id\")\n",
    "#interact_mut = ['rpoC_p.Glu1092Asp', 'Rv2752c_p.Asn30Ser']\n",
    "\n",
    "# model_matrix = pd.read_pickle(os.path.join(analysis_dir, drug, \"BINARY/tiers=1+2/phenos=WHO/dropAF_noSyn_unpooled/model_matrix.pkl\"))\n",
    "# interact_matrix = model_matrix.copy()\n",
    "\n",
    "# # get a list of all pairs of mutations to interact\n",
    "# interactions = list(itertools.product(*[interact_mut, interact_matrix.columns[interact_matrix.columns.str.contains(\"rpoB\")]]))\n",
    "\n",
    "# # add interactions\n",
    "# for (mut1, mut2) in interactions:\n",
    "#     interact_matrix[f\"{mut1}+{mut2}\"] = interact_matrix[mut1] * interact_matrix[mut2]\n",
    "    \n",
    "# # drop any columns with no signal\n",
    "# interact_matrix = interact_matrix[interact_matrix.columns[~((interact_matrix == 0).all())]]\n",
    "\n",
    "# assert len(set(model_matrix.columns) - set(interact_matrix.columns)) == 0\n",
    "# print(len(interact_matrix), len(model_matrix))\n",
    "\n",
    "# interact_matrix.to_pickle(os.path.join(analysis_dir, drug, f\"BINARY/interaction/model_matrix_{phenos_name}.pkl\"))\n",
    "\n",
    "interact_matrix = pd.read_pickle(os.path.join(analysis_dir, drug, f\"BINARY/interaction/model_matrix_{phenos_name}.pkl\"))\n",
    "\n",
    "interact_matrix = interact_matrix.merge(df_phenos, left_index=True, right_index=True, how=\"left\")\n",
    "del interact_matrix[\"phenotypic_category\"]\n",
    "\n",
    "interact_matrix.shape"
   ]
  },
  {
   "cell_type": "code",
   "execution_count": 19,
   "id": "61501b9b-818c-474a-8f38-82074d1e4b53",
   "metadata": {},
   "outputs": [
    {
     "name": "stdout",
     "output_type": "stream",
     "text": [
      "rpoC_p.Glu1092Asp 125\n",
      "Rv2752c_p.Asn30Ser 4\n"
     ]
    }
   ],
   "source": [
    "# so much co-occurrence of rpoC_p.Glu1092Asp with rpoB mutations. Can also check proportion that are high confidence rpoB mutations\n",
    "for mut in interact_mut:\n",
    "    print(mut, interact_matrix[interact_matrix.columns[interact_matrix.columns.str.contains(mut)]].shape[1])"
   ]
  },
  {
   "cell_type": "code",
   "execution_count": 63,
   "id": "97e9b440-e22c-4b3a-8bb0-490cb0fc96e2",
   "metadata": {},
   "outputs": [],
   "source": [
    "phenos_name = \"WHO\"\n",
    "interact_res = pd.read_csv(os.path.join(analysis_dir, drug, f\"BINARY/interaction/{phenos_name}_coef.csv\"))\n",
    "interact_permute = pd.read_csv(os.path.join(analysis_dir, drug, f\"BINARY/interaction/{phenos_name}_coef_permutation.csv\"))\n",
    "\n",
    "# assess significance using the results of the permutation test\n",
    "for i, row in interact_res.iterrows():\n",
    "    # p-value is the proportion of permutation coefficients that are AT LEAST AS EXTREME as the test statistic\n",
    "    if row[\"coef\"] > 0:\n",
    "        interact_res.loc[i, \"pval\"] = np.mean(interact_permute[row[\"mutation\"]] >= row[\"coef\"])\n",
    "    else:\n",
    "        interact_res.loc[i, \"pval\"] = np.mean(interact_permute[row[\"mutation\"]] <= row[\"coef\"])\n",
    "        \n",
    "interact_res = add_pval_corrections(interact_res)\n",
    "interact_res[\"Odds_Ratio\"] = np.exp(interact_res[\"coef\"])\n",
    "\n",
    "interact_res[[\"Mut1\", \"Mut2\"]] = interact_res[\"mutation\"].str.split(\"+\", expand=True)\n",
    "interact_res = interact_res.merge(who_variants_combined.query(\"drug=='RIF'\"), left_on=\"Mut2\", right_on=\"mutation\", how=\"left\")\n",
    "del interact_res[\"mutation_y\"]\n",
    "del interact_res[\"drug\"]\n",
    "interact_res.rename(columns={\"mutation_x\": \"mutation\"}, inplace=True)"
   ]
  },
  {
   "cell_type": "code",
   "execution_count": 68,
   "id": "42d4f33d-4f57-4cc7-92b8-cf3ecb1cc77a",
   "metadata": {},
   "outputs": [
    {
     "data": {
      "text/html": [
       "<div>\n",
       "<style scoped>\n",
       "    .dataframe tbody tr th:only-of-type {\n",
       "        vertical-align: middle;\n",
       "    }\n",
       "\n",
       "    .dataframe tbody tr th {\n",
       "        vertical-align: top;\n",
       "    }\n",
       "\n",
       "    .dataframe thead th {\n",
       "        text-align: right;\n",
       "    }\n",
       "</style>\n",
       "<table border=\"1\" class=\"dataframe\">\n",
       "  <thead>\n",
       "    <tr style=\"text-align: right;\">\n",
       "      <th></th>\n",
       "      <th>mutation</th>\n",
       "      <th>coef</th>\n",
       "      <th>pval</th>\n",
       "      <th>BH_pval</th>\n",
       "      <th>Bonferroni_pval</th>\n",
       "      <th>Odds_Ratio</th>\n",
       "      <th>Mut1</th>\n",
       "      <th>Mut2</th>\n",
       "      <th>confidence</th>\n",
       "    </tr>\n",
       "  </thead>\n",
       "  <tbody>\n",
       "    <tr>\n",
       "      <th>3206</th>\n",
       "      <td>rpoC_p.Glu1092Asp</td>\n",
       "      <td>0.219309</td>\n",
       "      <td>0.000</td>\n",
       "      <td>0.000000</td>\n",
       "      <td>0.0</td>\n",
       "      <td>1.245216</td>\n",
       "      <td>rpoC_p.Glu1092Asp</td>\n",
       "      <td>None</td>\n",
       "      <td>NaN</td>\n",
       "    </tr>\n",
       "    <tr>\n",
       "      <th>3676</th>\n",
       "      <td>rpoC_p.Glu1092Asp+rpoB_p.Ile491Tyr</td>\n",
       "      <td>0.026609</td>\n",
       "      <td>0.000</td>\n",
       "      <td>0.000000</td>\n",
       "      <td>0.0</td>\n",
       "      <td>1.026966</td>\n",
       "      <td>rpoC_p.Glu1092Asp</td>\n",
       "      <td>rpoB_p.Ile491Tyr</td>\n",
       "      <td>3) Uncertain significance</td>\n",
       "    </tr>\n",
       "    <tr>\n",
       "      <th>3693</th>\n",
       "      <td>rpoC_p.Glu1092Asp+rpoB_p.Met434_Asn437delinsIle</td>\n",
       "      <td>0.018817</td>\n",
       "      <td>0.000</td>\n",
       "      <td>0.000000</td>\n",
       "      <td>0.0</td>\n",
       "      <td>1.018995</td>\n",
       "      <td>rpoC_p.Glu1092Asp</td>\n",
       "      <td>rpoB_p.Met434_Asn437delinsIle</td>\n",
       "      <td>2) Assoc w R - Interim</td>\n",
       "    </tr>\n",
       "    <tr>\n",
       "      <th>3623</th>\n",
       "      <td>rpoC_p.Glu1092Asp+rpoB_p.Asn260Asp</td>\n",
       "      <td>-0.027974</td>\n",
       "      <td>0.000</td>\n",
       "      <td>0.000000</td>\n",
       "      <td>0.0</td>\n",
       "      <td>0.972414</td>\n",
       "      <td>rpoC_p.Glu1092Asp</td>\n",
       "      <td>rpoB_p.Asn260Asp</td>\n",
       "      <td>NaN</td>\n",
       "    </tr>\n",
       "    <tr>\n",
       "      <th>3725</th>\n",
       "      <td>rpoC_p.Glu1092Asp+rpoB_p.Val170Phe</td>\n",
       "      <td>-0.057892</td>\n",
       "      <td>0.003</td>\n",
       "      <td>0.038700</td>\n",
       "      <td>1.0</td>\n",
       "      <td>0.943752</td>\n",
       "      <td>rpoC_p.Glu1092Asp</td>\n",
       "      <td>rpoB_p.Val170Phe</td>\n",
       "      <td>1) Assoc w R</td>\n",
       "    </tr>\n",
       "    <tr>\n",
       "      <th>3708</th>\n",
       "      <td>rpoC_p.Glu1092Asp+rpoB_p.Ser450Leu</td>\n",
       "      <td>0.057540</td>\n",
       "      <td>0.004</td>\n",
       "      <td>0.048584</td>\n",
       "      <td>1.0</td>\n",
       "      <td>1.059228</td>\n",
       "      <td>rpoC_p.Glu1092Asp</td>\n",
       "      <td>rpoB_p.Ser450Leu</td>\n",
       "      <td>1) Assoc w R</td>\n",
       "    </tr>\n",
       "  </tbody>\n",
       "</table>\n",
       "</div>"
      ],
      "text/plain": [
       "                                             mutation      coef   pval  \\\n",
       "3206                                rpoC_p.Glu1092Asp  0.219309  0.000   \n",
       "3676               rpoC_p.Glu1092Asp+rpoB_p.Ile491Tyr  0.026609  0.000   \n",
       "3693  rpoC_p.Glu1092Asp+rpoB_p.Met434_Asn437delinsIle  0.018817  0.000   \n",
       "3623               rpoC_p.Glu1092Asp+rpoB_p.Asn260Asp -0.027974  0.000   \n",
       "3725               rpoC_p.Glu1092Asp+rpoB_p.Val170Phe -0.057892  0.003   \n",
       "3708               rpoC_p.Glu1092Asp+rpoB_p.Ser450Leu  0.057540  0.004   \n",
       "\n",
       "       BH_pval  Bonferroni_pval  Odds_Ratio               Mut1  \\\n",
       "3206  0.000000              0.0    1.245216  rpoC_p.Glu1092Asp   \n",
       "3676  0.000000              0.0    1.026966  rpoC_p.Glu1092Asp   \n",
       "3693  0.000000              0.0    1.018995  rpoC_p.Glu1092Asp   \n",
       "3623  0.000000              0.0    0.972414  rpoC_p.Glu1092Asp   \n",
       "3725  0.038700              1.0    0.943752  rpoC_p.Glu1092Asp   \n",
       "3708  0.048584              1.0    1.059228  rpoC_p.Glu1092Asp   \n",
       "\n",
       "                               Mut2                 confidence  \n",
       "3206                           None                        NaN  \n",
       "3676               rpoB_p.Ile491Tyr  3) Uncertain significance  \n",
       "3693  rpoB_p.Met434_Asn437delinsIle     2) Assoc w R - Interim  \n",
       "3623               rpoB_p.Asn260Asp                        NaN  \n",
       "3725               rpoB_p.Val170Phe               1) Assoc w R  \n",
       "3708               rpoB_p.Ser450Leu               1) Assoc w R  "
      ]
     },
     "execution_count": 68,
     "metadata": {},
     "output_type": "execute_result"
    }
   ],
   "source": [
    "interact_res.query(\"mutation.str.contains('rpoC_p.Glu1092Asp') & BH_pval < 0.05\").sort_values([\"BH_pval\", \"Odds_Ratio\"], \n",
    "                                                                                           ascending=[True, False]\n",
    "                                                                                          )"
   ]
  },
  {
   "cell_type": "code",
   "execution_count": 70,
   "id": "50e05e3c-ae52-41db-aa52-c197e98d458d",
   "metadata": {},
   "outputs": [
    {
     "data": {
      "text/html": [
       "<div>\n",
       "<style scoped>\n",
       "    .dataframe tbody tr th:only-of-type {\n",
       "        vertical-align: middle;\n",
       "    }\n",
       "\n",
       "    .dataframe tbody tr th {\n",
       "        vertical-align: top;\n",
       "    }\n",
       "\n",
       "    .dataframe thead th {\n",
       "        text-align: right;\n",
       "    }\n",
       "</style>\n",
       "<table border=\"1\" class=\"dataframe\">\n",
       "  <thead>\n",
       "    <tr style=\"text-align: right;\">\n",
       "      <th></th>\n",
       "      <th>mutation</th>\n",
       "      <th>coef</th>\n",
       "      <th>pval</th>\n",
       "      <th>BH_pval</th>\n",
       "      <th>Bonferroni_pval</th>\n",
       "      <th>Odds_Ratio</th>\n",
       "      <th>Mut1</th>\n",
       "      <th>Mut2</th>\n",
       "      <th>confidence</th>\n",
       "    </tr>\n",
       "  </thead>\n",
       "  <tbody>\n",
       "    <tr>\n",
       "      <th>2936</th>\n",
       "      <td>rpoB_p.Val170Phe</td>\n",
       "      <td>0.191617</td>\n",
       "      <td>0.000</td>\n",
       "      <td>0.0000</td>\n",
       "      <td>0.0</td>\n",
       "      <td>1.211206</td>\n",
       "      <td>rpoB_p.Val170Phe</td>\n",
       "      <td>None</td>\n",
       "      <td>NaN</td>\n",
       "    </tr>\n",
       "    <tr>\n",
       "      <th>3725</th>\n",
       "      <td>rpoC_p.Glu1092Asp+rpoB_p.Val170Phe</td>\n",
       "      <td>-0.057892</td>\n",
       "      <td>0.003</td>\n",
       "      <td>0.0387</td>\n",
       "      <td>1.0</td>\n",
       "      <td>0.943752</td>\n",
       "      <td>rpoC_p.Glu1092Asp</td>\n",
       "      <td>rpoB_p.Val170Phe</td>\n",
       "      <td>1) Assoc w R</td>\n",
       "    </tr>\n",
       "  </tbody>\n",
       "</table>\n",
       "</div>"
      ],
      "text/plain": [
       "                                mutation      coef   pval  BH_pval  \\\n",
       "2936                    rpoB_p.Val170Phe  0.191617  0.000   0.0000   \n",
       "3725  rpoC_p.Glu1092Asp+rpoB_p.Val170Phe -0.057892  0.003   0.0387   \n",
       "\n",
       "      Bonferroni_pval  Odds_Ratio               Mut1              Mut2  \\\n",
       "2936              0.0    1.211206   rpoB_p.Val170Phe              None   \n",
       "3725              1.0    0.943752  rpoC_p.Glu1092Asp  rpoB_p.Val170Phe   \n",
       "\n",
       "        confidence  \n",
       "2936           NaN  \n",
       "3725  1) Assoc w R  "
      ]
     },
     "execution_count": 70,
     "metadata": {},
     "output_type": "execute_result"
    }
   ],
   "source": [
    "interact_res.query(\"mutation.str.contains('rpoB_p.Val170Phe')\")"
   ]
  },
  {
   "cell_type": "code",
   "execution_count": 67,
   "id": "9344d6c2-420a-4320-a06e-1f30196b8ee5",
   "metadata": {},
   "outputs": [
    {
     "data": {
      "text/html": [
       "<div>\n",
       "<style scoped>\n",
       "    .dataframe tbody tr th:only-of-type {\n",
       "        vertical-align: middle;\n",
       "    }\n",
       "\n",
       "    .dataframe tbody tr th {\n",
       "        vertical-align: top;\n",
       "    }\n",
       "\n",
       "    .dataframe thead th {\n",
       "        text-align: right;\n",
       "    }\n",
       "</style>\n",
       "<table border=\"1\" class=\"dataframe\">\n",
       "  <thead>\n",
       "    <tr style=\"text-align: right;\">\n",
       "      <th></th>\n",
       "      <th>mutation</th>\n",
       "      <th>coef</th>\n",
       "      <th>pval</th>\n",
       "      <th>BH_pval</th>\n",
       "      <th>Bonferroni_pval</th>\n",
       "      <th>Odds_Ratio</th>\n",
       "      <th>Mut1</th>\n",
       "      <th>Mut2</th>\n",
       "      <th>confidence</th>\n",
       "    </tr>\n",
       "  </thead>\n",
       "  <tbody>\n",
       "    <tr>\n",
       "      <th>2395</th>\n",
       "      <td>rpoB_p.Asn260Asp</td>\n",
       "      <td>-0.027974</td>\n",
       "      <td>0.0</td>\n",
       "      <td>0.0</td>\n",
       "      <td>0.0</td>\n",
       "      <td>0.972414</td>\n",
       "      <td>rpoB_p.Asn260Asp</td>\n",
       "      <td>None</td>\n",
       "      <td>NaN</td>\n",
       "    </tr>\n",
       "    <tr>\n",
       "      <th>3623</th>\n",
       "      <td>rpoC_p.Glu1092Asp+rpoB_p.Asn260Asp</td>\n",
       "      <td>-0.027974</td>\n",
       "      <td>0.0</td>\n",
       "      <td>0.0</td>\n",
       "      <td>0.0</td>\n",
       "      <td>0.972414</td>\n",
       "      <td>rpoC_p.Glu1092Asp</td>\n",
       "      <td>rpoB_p.Asn260Asp</td>\n",
       "      <td>NaN</td>\n",
       "    </tr>\n",
       "  </tbody>\n",
       "</table>\n",
       "</div>"
      ],
      "text/plain": [
       "                                mutation      coef  pval  BH_pval  \\\n",
       "2395                    rpoB_p.Asn260Asp -0.027974   0.0      0.0   \n",
       "3623  rpoC_p.Glu1092Asp+rpoB_p.Asn260Asp -0.027974   0.0      0.0   \n",
       "\n",
       "      Bonferroni_pval  Odds_Ratio               Mut1              Mut2  \\\n",
       "2395              0.0    0.972414   rpoB_p.Asn260Asp              None   \n",
       "3623              0.0    0.972414  rpoC_p.Glu1092Asp  rpoB_p.Asn260Asp   \n",
       "\n",
       "     confidence  \n",
       "2395        NaN  \n",
       "3623        NaN  "
      ]
     },
     "execution_count": 67,
     "metadata": {},
     "output_type": "execute_result"
    }
   ],
   "source": [
    "interact_res.query(\"mutation.str.contains('rpoB_p.Asn260Asp')\")"
   ]
  },
  {
   "cell_type": "code",
   "execution_count": 217,
   "id": "9710b1d6-fad5-4b8b-ba48-d96227834be3",
   "metadata": {},
   "outputs": [
    {
     "data": {
      "text/plain": [
       "phenotype  rpoC_p.Glu1092Asp+rpoB_p.Ser450Leu\n",
       "0          0.0                                   20907\n",
       "           1.0                                      14\n",
       "1          0.0                                    8682\n",
       "           1.0                                    1381\n",
       "Name: rpoC_p.Glu1092Asp+rpoB_p.Ser450Leu, dtype: int64"
      ]
     },
     "execution_count": 217,
     "metadata": {},
     "output_type": "execute_result"
    }
   ],
   "source": [
    "interact_matrix.groupby(\"phenotype\")['rpoC_p.Glu1092Asp+rpoB_p.Ser450Leu'].value_counts()"
   ]
  },
  {
   "cell_type": "code",
   "execution_count": 224,
   "id": "72d42bbb-ce7e-4e64-9af7-d31b0acd9ba7",
   "metadata": {},
   "outputs": [
    {
     "data": {
      "text/plain": [
       "0.045023237800154915"
      ]
     },
     "execution_count": 224,
     "metadata": {},
     "output_type": "execute_result"
    }
   ],
   "source": [
    "interact_matrix['rpoC_p.Glu1092Asp+rpoB_p.Ser450Leu'].mean()"
   ]
  },
  {
   "cell_type": "code",
   "execution_count": 218,
   "id": "d8a9eb00-3c8e-445c-94c5-07a3c6e0f7d3",
   "metadata": {},
   "outputs": [
    {
     "data": {
      "text/plain": [
       "0.9971119133574007"
      ]
     },
     "execution_count": 218,
     "metadata": {},
     "output_type": "execute_result"
    }
   ],
   "source": [
    "1381 / 1385"
   ]
  },
  {
   "cell_type": "code",
   "execution_count": 223,
   "id": "bb4d7011-21b7-4c87-b754-4c9adbf2d6a4",
   "metadata": {},
   "outputs": [
    {
     "data": {
      "text/plain": [
       "0.08704492641363284"
      ]
     },
     "execution_count": 223,
     "metadata": {},
     "output_type": "execute_result"
    }
   ],
   "source": [
    "interact_matrix['rpoC_p.Glu1092Asp'].mean()"
   ]
  },
  {
   "cell_type": "code",
   "execution_count": 222,
   "id": "4adc8ca7-e960-47f8-86e6-ac6f4fc81f85",
   "metadata": {},
   "outputs": [
    {
     "data": {
      "text/plain": [
       "0.21449780531887425"
      ]
     },
     "execution_count": 222,
     "metadata": {},
     "output_type": "execute_result"
    }
   ],
   "source": [
    "interact_matrix['rpoB_p.Ser450Leu'].mean()"
   ]
  },
  {
   "cell_type": "code",
   "execution_count": 34,
   "id": "cea1cf2d-e073-428b-8dd6-0acadb10438f",
   "metadata": {},
   "outputs": [
    {
     "data": {
      "text/plain": [
       "'/n/data1/hms/dbmi/farhat/Sanjana/who-mutation-catalogue/Rifampicin/BINARY/tiers=1/phenos=WHO/dropAF_noSyn_unpooled'"
      ]
     },
     "execution_count": 34,
     "metadata": {},
     "output_type": "execute_result"
    }
   ],
   "source": [
    "os.path.join()"
   ]
  },
  {
   "cell_type": "code",
   "execution_count": 64,
   "id": "947aaa3a-da07-4ffd-9d68-9e6e361ed275",
   "metadata": {},
   "outputs": [],
   "source": []
  },
  {
   "cell_type": "code",
   "execution_count": null,
   "id": "9092692c-9ff2-41de-8481-7a8e36f5bfa4",
   "metadata": {},
   "outputs": [],
   "source": []
  },
  {
   "cell_type": "code",
   "execution_count": null,
   "id": "4d96600d-2456-4d00-a536-47d985a2117f",
   "metadata": {},
   "outputs": [],
   "source": []
  }
 ],
 "metadata": {
  "kernelspec": {
   "display_name": "Python 3 (ipykernel)",
   "language": "python",
   "name": "python3"
  },
  "language_info": {
   "codemirror_mode": {
    "name": "ipython",
    "version": 3
   },
   "file_extension": ".py",
   "mimetype": "text/x-python",
   "name": "python",
   "nbconvert_exporter": "python",
   "pygments_lexer": "ipython3",
   "version": "3.9.13"
  }
 },
 "nbformat": 4,
 "nbformat_minor": 5
}
